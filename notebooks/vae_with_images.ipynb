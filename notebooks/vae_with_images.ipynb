{
 "cells": [
  {
   "cell_type": "code",
   "execution_count": 1,
   "id": "059d091f",
   "metadata": {},
   "outputs": [
    {
     "name": "stdout",
     "output_type": "stream",
     "text": [
      "[PhysicalDevice(name='/physical_device:GPU:0', device_type='GPU')]\n",
      "2.6.0\n",
      "0.14.1\n",
      "Populating the interactive namespace from numpy and matplotlib\n"
     ]
    }
   ],
   "source": [
    "\"\"\"\n",
    "Title: PixelCNN\n",
    "Author: [ADMoreau](https://github.com/ADMoreau)\n",
    "Date created: 2020/05/17\n",
    "Last modified: 2020/05/23\n",
    "Description: PixelCNN implemented in Keras.\n",
    "\"\"\"\n",
    "\n",
    "\"\"\"\n",
    "## Introduction\n",
    "PixelCNN is a generative model proposed in 2016 by van den Oord et al.\n",
    "(reference: [Conditional Image Generation with PixelCNN Decoders](https://arxiv.org/abs/1606.05328)).\n",
    "It is designed to generate images (or other data types) iteratively\n",
    "from an input vector where the probability distribution of prior elements dictates the\n",
    "probability distribution of later elements. In the following example, images are generated\n",
    "in this fashion, pixel-by-pixel, via a masked convolution kernel that only looks at data\n",
    "from previously generated pixels (origin at the top left) to generate later pixels.\n",
    "During inference, the output of the network is used as a probability ditribution\n",
    "from which new pixel values are sampled to generate a new image\n",
    "(here, with MNIST, the pixels values are either black or white).\n",
    "\"\"\"\n",
    "%matplotlib inline\n",
    "%load_ext autoreload\n",
    "%autoreload 2\n",
    "\n",
    "import numpy as np\n",
    "import tensorflow as tf\n",
    "from tensorflow import keras\n",
    "from tensorflow.keras import layers\n",
    "from tqdm import tqdm\n",
    "from matplotlib import pyplot as plt\n",
    "import tensorflow_probability as tfp\n",
    "import tensorflow_datasets as tfds\n",
    "from keras.callbacks import History\n",
    "import sfh\n",
    "from sfh.model_utils import input_fn, predictor, pass_sample, finish_sample\n",
    "history = History()\n",
    "print(tf.config.list_physical_devices('GPU'))\n",
    "print(tf.__version__)\n",
    "print(tfp.__version__)\n",
    "\n",
    "\n",
    "%pylab inline\n",
    "\n",
    "#  Important !!!! path to shared tensorflow dataset\n"
   ]
  },
  {
   "cell_type": "code",
   "execution_count": 34,
   "id": "611bdcb0",
   "metadata": {},
   "outputs": [],
   "source": [
    "data_dir='/gpfsscratch/rech/qrc/commun/tensorflow_datasets'"
   ]
  },
  {
   "cell_type": "code",
   "execution_count": 4,
   "id": "ff792836",
   "metadata": {},
   "outputs": [
    {
     "name": "stderr",
     "output_type": "stream",
     "text": [
      "2021-12-09 18:04:56.617876: I tensorflow/core/platform/cpu_feature_guard.cc:142] This TensorFlow binary is optimized with oneAPI Deep Neural Network Library (oneDNN) to use the following CPU instructions in performance-critical operations:  SSE3 SSE4.1 SSE4.2 AVX AVX2 AVX512F FMA\n",
      "To enable them in other operations, rebuild TensorFlow with the appropriate compiler flags.\n"
     ]
    },
    {
     "name": "stdout",
     "output_type": "stream",
     "text": [
      "6\n"
     ]
    },
    {
     "name": "stderr",
     "output_type": "stream",
     "text": [
      "2021-12-09 18:04:57.479356: I tensorflow/core/common_runtime/gpu/gpu_device.cc:1510] Created device /job:localhost/replica:0/task:0/device:GPU:0 with 30998 MB memory:  -> device: 0, name: Tesla V100-SXM2-32GB, pci bus id: 0000:1a:00.0, compute capability: 7.0\n",
      "2021-12-09 18:04:57.830562: I tensorflow/compiler/mlir/mlir_graph_optimization_pass.cc:185] None of the MLIR Optimization Passes are enabled (registered 2)\n",
      "2021-12-09 18:04:57.882803: W tensorflow/core/kernels/data/cache_dataset_ops.cc:768] The calling iterator did not fully read the dataset being cached. In order to avoid unexpected truncation of the dataset, the partially cached contents of the dataset  will be discarded. This can happen if you have an input pipeline similar to `dataset.cache().take(k).repeat()`. You should use `dataset.take(k).cache().repeat()` instead.\n"
     ]
    }
   ],
   "source": [
    "import tensorflow_datasets as tfds\n",
    "dset = tfds.load('sfh_interp', split='train', data_dir=data_dir)\n",
    "sample = list(dset.take(5))[3]\n",
    "\n",
    "num_components = 2\n",
    "# Shape of the distribution\n",
    "event_shape = [1]\n",
    "# Utility function to compute how many parameters this distribution requires\n",
    "params_size = tfp.layers.MixtureNormal.params_size(num_components, event_shape)\n",
    "print(params_size)"
   ]
  },
  {
   "cell_type": "code",
   "execution_count": 10,
   "id": "afed14bf",
   "metadata": {},
   "outputs": [
    {
     "name": "stdout",
     "output_type": "stream",
     "text": [
      "dict_keys(['Mstar', 'Mstar_Half', 'SFR_Max', 'SFR_Rad', 'SFR_halfRad', 'last_major_merger', 'last_over_max', 'mass_quantiles', 'noiseless_griz', 'object_id', 'sed', 'stellar_light', 'time', 'velocity_dispersion_map', 'velocity_map'])\n"
     ]
    }
   ],
   "source": [
    "image_dset = tfds.load('tng100', split='train', data_dir=data_dir)\n",
    "for example in image_dset.take(1):\n",
    "    print(example.keys())"
   ]
  },
  {
   "cell_type": "code",
   "execution_count": 7,
   "id": "0342bc70",
   "metadata": {},
   "outputs": [],
   "source": [
    "\n",
    "\n",
    "def preprocessing(example):\n",
    "    \n",
    "    return tf.reshape(tf.cast(example['SFR_Max'], dtype=tf.float32),(-1,100,1)), \\\n",
    "           tf.reshape(tf.cast(example['SFR_Max'], dtype=tf.float32),(-1,100,1))\n",
    "\n",
    "def input_fn(mode='train', batch_size=64, dataset_name='sfh', data_dir=None):\n",
    "    \"\"\"\n",
    "    mode: 'train' or 'test'\n",
    "    \"\"\"\n",
    "    if mode == 'train':\n",
    "        dataset = tfds.load(dataset_name, split='train[:80%]', data_dir=data_dir)\n",
    "        #dataset = dataset.repeat()\n",
    "        dataset = dataset.shuffle(10000)\n",
    "    else:\n",
    "        dataset = tfds.load(dataset_name, split='train[80%:]', data_dir=data_dir)\n",
    "    \n",
    "    dataset = dataset.batch(batch_size, drop_remainder=True)\n",
    "    dataset = dataset.map(preprocessing) # Apply data preprocessing\n",
    "    dataset = dataset.prefetch(-1)       # fetch next batches while training current one (-1 for autotune)\n",
    "    return dataset, tf.data.experimental.cardinality(dset).numpy()\n",
    "\n",
    "def predictor(model, sample_size, nsteps=100):\n",
    "    res = np.zeros((sample_size, nsteps,1))\n",
    "    for i in range(nsteps):\n",
    "        tmp = model(res).sample()\n",
    "        res[0,i] = tmp[0,i]\n",
    "    return res\n",
    "\n",
    "def pass_sample(model, sample, n_pass=100):\n",
    "    sample = tf.reshape(sample,(1, 100, 1))\n",
    "    mean = model(sample).mean()\n",
    "    std = model(sample).stddev()\n",
    "    p_sample = model(sample).sample()\n",
    "    return mean, std, p_sample"
   ]
  },
  {
   "cell_type": "code",
   "execution_count": 8,
   "id": "5a7f2d82",
   "metadata": {},
   "outputs": [
    {
     "data": {
      "image/png": "[encoded data removed]",
      "text/plain": [
       "<Figure size 432x288 with 1 Axes>"
      ]
     },
     "metadata": {
      "needs_background": "light"
     },
     "output_type": "display_data"
    },
    {
     "data": {
      "image/png": "[encoded data removed]",
      "text/plain": [
       "<Figure size 432x288 with 1 Axes>"
      ]
     },
     "metadata": {
      "needs_background": "light"
     },
     "output_type": "display_data"
    }
   ],
   "source": [
    "for example in image_dset.take(2):\n",
    "    plt.figure()\n",
    "    plt.imshow(example[\"noiseless_griz\"][:,:,1],cmap='gray')\n",
    "    lbt=float(example[\"last_major_merger\"])\n",
    "    plt.title(\"Last major merger \"+str(\"{:.1f}\".format(lbt))+\" Gyr ago\"+\"\\n Galaxy ID \"+str(int(example[\"object_id\"])))"
   ]
  },
  {
   "cell_type": "code",
   "execution_count": 8,
   "id": "7f45bda4",
   "metadata": {},
   "outputs": [],
   "source": [
    "from astropy.stats import mad_std"
   ]
  },
  {
   "cell_type": "code",
   "execution_count": null,
   "id": "544ecc73",
   "metadata": {},
   "outputs": [],
   "source": [
    "\n"
   ]
  },
  {
   "cell_type": "code",
   "execution_count": 7,
   "id": "b3782366",
   "metadata": {},
   "outputs": [],
   "source": [
    "# Using a mapping function to apply preprocessing to our data\n",
    "def evaluate_scaling(train_dset):\n",
    "    \"\"\"\n",
    "    Evaluates the standard deviation of the pixel values in each band g,r,i,z.\n",
    "    Input: train_dset (tensforflow dataset): training datset on which we want to evaluate the scaling\n",
    "    Output: scaling (np array): array containig the std in each band\n",
    "            mean (np array): array containig the mean in each band\n",
    "    \"\"\"\n",
    "    #Takes 100 images from wich the std will be estimated  \n",
    "    imgs=[]\n",
    "    for (batch, entry) in enumerate(train_dset.take(100)):\n",
    "        imgs.append(entry['noiseless_griz']) # was image\n",
    "    imgs=np.array(imgs)\n",
    "    #Computes the scaling\n",
    "    mean=[]\n",
    "    scaling = []\n",
    "    maximum=[]\n",
    "    for i,b in enumerate(['g', 'r', 'i', 'z']):\n",
    "        sigma = mad_std(imgs[:,:,:,i].flatten())\n",
    "        mean.append(np.mean(imgs[:,:,:,i].flatten()))\n",
    "        scaling.append(sigma)\n",
    "        maximum.append(np.max(imgs[:,:,:,i].flatten()))\n",
    "    return scaling,mean,maximum\n",
    "\n"
   ]
  },
  {
   "cell_type": "code",
   "execution_count": 35,
   "id": "0481820c",
   "metadata": {},
   "outputs": [
    {
     "name": "stdout",
     "output_type": "stream",
     "text": [
      "[0.051026825001259345, 0.09456251587227937, 0.08115991621010538, 0.01630368388107681] [0.56321657, 1.0461978, 0.9236648, 0.19436844] [11090.467, 11711.27, 8269.19, 1504.0643]\n"
     ]
    }
   ],
   "source": [
    "\n",
    "\n",
    "#scaling,mean,maximum=evaluate_scaling(train_dset) #noiseless_griz\n",
    "scaling,mean,maximum=evaluate_scaling(image_dset)\n",
    "print(scaling,mean,maximum)\n",
    "\n"
   ]
  },
  {
   "cell_type": "code",
   "execution_count": 38,
   "id": "a2815e7b",
   "metadata": {},
   "outputs": [],
   "source": [
    "def preprocessing(example):\n",
    "    \n",
    "    #img=example[\"noiseless_griz\"] # was image\n",
    "    #print(\"Before, type\", type(img),img)\n",
    "    ##norm_img=1/6*tf.math.asinh((img-mean)/tf.constant(scaling)*6)\n",
    "    #norm_img=1/6*tf.math.asinh((img)/tf.constant(scaling)*6)\n",
    "    \n",
    "    #norm_img=img/tf.constant(maximum)\n",
    "    ## Works better with maximum\n",
    "    norm_img=1/6*tf.math.asinh((example[\"noiseless_griz\"])/tf.constant(maximum)*6)\n",
    "    \n",
    "    sfr_max = tf.reshape(tf.cast(example['SFR_Max'], dtype=tf.float32),(100,1))\n",
    "    \n",
    "    return (sfr_max, norm_img), sfr_max#tf.reshape(tf.cast(example['SFR_Max'], dtype=tf.float32),(-1,100,1))\n",
    "\n",
    "def image_input_pipeline(mode='train', batch_size=64, dataset_name='', data_dir=''):\n",
    "    \"\"\"\n",
    "    Creates the input pipeline that loads the dataset and normalises the data\n",
    "    Possible modes: 'train', 'valid' or 'test'.\n",
    "    Input: mode (str): specifies the mode for train, validation or test\n",
    "           batch_size (int): size of the batch\n",
    "    Output= dataset (tf dataset): properly processes dataset\n",
    "    \"\"\"\n",
    "    \n",
    "    \"\"\"\n",
    "    mode: 'train' or 'test'\n",
    "    \"\"\"\n",
    "\n",
    "    if mode == 'train':\n",
    "        \n",
    "        \n",
    "        dataset = tfds.load('tng100', split='train[:80%]', data_dir=data_dir)\n",
    "        dataset = dataset.map(preprocessing) # Apply data preprocessing\n",
    "        \n",
    "        dataset = dataset.shuffle(10000)\n",
    "        \n",
    "        #sfr_dataset = tfds.load(dataset_name, split='train[:80%]', data_dir=data_dir)\n",
    "        \n",
    "    elif mode=='valid':\n",
    "        dataset = tfds.load('tng100', split='train[80%:]', data_dir=data_dir)\n",
    "        dataset = dataset.map(preprocessing) # Apply data preprocessing        \n",
    "\n",
    "\n",
    "    dataset = dataset.batch(batch_size, drop_remainder=True)\n",
    "    \n",
    "    dataset = dataset.prefetch(-1) # fetch next batches while training current one (-1 for autotune)\n",
    "    return dataset"
   ]
  },
  {
   "cell_type": "code",
   "execution_count": 139,
   "id": "ddbf4481",
   "metadata": {},
   "outputs": [],
   "source": [
    "dataset_training=image_input_pipeline(mode='train', batch_size=32, data_dir=data_dir)\n",
    "dataset_validation=image_input_pipeline(mode='valid', batch_size=32, data_dir=data_dir)\n"
   ]
  },
  {
   "cell_type": "code",
   "execution_count": 140,
   "id": "97d6ea6e",
   "metadata": {},
   "outputs": [
    {
     "data": {
      "text/plain": [
       "<TakeDataset shapes: (((32, 100, 1), (32, 128, 128, 4)), (32, 100, 1)), types: ((tf.float32, tf.float32), tf.float32)>"
      ]
     },
     "execution_count": 140,
     "metadata": {},
     "output_type": "execute_result"
    }
   ],
   "source": [
    "dataset_training.take(1)"
   ]
  },
  {
   "cell_type": "code",
   "execution_count": 179,
   "id": "a51042e3",
   "metadata": {
    "scrolled": true
   },
   "outputs": [
    {
     "name": "stdout",
     "output_type": "stream",
     "text": [
      "Model: \"model_10\"\n",
      "__________________________________________________________________________________________________\n",
      " Layer (type)                   Output Shape         Param #     Connected to                     \n",
      "==================================================================================================\n",
      " input_12 (InputLayer)          [(None, 100, 1)]     0           []                               \n",
      "                                                                                                  \n",
      " masked_conv_layer_6 (MaskedCon  (None, 100, 16)     64          ['input_12[0][0]']               \n",
      " vLayer)                                                                                          \n",
      "                                                                                                  \n",
      " conv1d_72 (Conv1D)             (None, 100, 32)      1568        ['masked_conv_layer_6[0][0]']    \n",
      "                                                                                                  \n",
      " conv1d_74 (Conv1D)             (None, 100, 32)      544         ['masked_conv_layer_6[0][0]']    \n",
      "                                                                                                  \n",
      " conv1d_73 (Conv1D)             (None, 100, 32)      3104        ['conv1d_72[0][0]']              \n",
      "                                                                                                  \n",
      " add_20 (Add)                   (None, 100, 32)      0           ['conv1d_74[0][0]',              \n",
      "                                                                  'conv1d_73[0][0]']              \n",
      "                                                                                                  \n",
      " conv1d_75 (Conv1D)             (None, 100, 64)      6208        ['add_20[0][0]']                 \n",
      "                                                                                                  \n",
      " conv1d_77 (Conv1D)             (None, 100, 64)      2112        ['add_20[0][0]']                 \n",
      "                                                                                                  \n",
      " conv1d_76 (Conv1D)             (None, 100, 64)      12352       ['conv1d_75[0][0]']              \n",
      "                                                                                                  \n",
      " add_21 (Add)                   (None, 100, 64)      0           ['conv1d_77[0][0]',              \n",
      "                                                                  'conv1d_76[0][0]']              \n",
      "                                                                                                  \n",
      " dense_10 (Dense)               (None, 100, 6)       390         ['add_21[0][0]']                 \n",
      "                                                                                                  \n",
      " mixture_normal_10 (MixtureNorm  ((None, 100, 1),    0           ['dense_10[0][0]']               \n",
      " al)                             (None, 100, 1))                                                  \n",
      "                                                                                                  \n",
      "==================================================================================================\n",
      "Total params: 26,342\n",
      "Trainable params: 26,342\n",
      "Non-trainable params: 0\n",
      "__________________________________________________________________________________________________\n"
     ]
    }
   ],
   "source": [
    "importlib.reload(sfh)\n",
    "pixel_cnn = sfh.models.pixelcnn_res.generate_model(kernel_size=2, optimizer=tf.keras.optimizers.Adam(0.0001))\n",
    "pixel_cnn.summary()"
   ]
  },
  {
   "cell_type": "markdown",
   "id": "86f2574b",
   "metadata": {},
   "source": [
    "# vae"
   ]
  },
  {
   "cell_type": "code",
   "execution_count": 305,
   "id": "341d54d6",
   "metadata": {},
   "outputs": [],
   "source": [
    "def get_probabilistic_encoder():\n",
    "    \"\"\" Creates a small convolutional encoder for the requested latent dimension\n",
    "    \"\"\"\n",
    "    # We choose a prior distribution for the latent codes\n",
    "    prior = tfd.MultivariateNormalDiag(loc=tf.zeros(latent_dim))\n",
    "\n",
    "    return tf.keras.Sequential([ \n",
    "      tfkl.Input(shape=(100,1)),\n",
    "      tfkl.Conv1D(32, kernel_size=3, activation=tf.nn.leaky_relu, dilation_rate=2, padding='same'), \n",
    "      # Image is now 32x32x32\n",
    "      tfkl.Conv1D(64, kernel_size=3, activation=tf.nn.leaky_relu, dilation_rate=4, padding='same'),\n",
    "      # Image is now 16x16x64\n",
    "      tfkl.Conv1D(128, kernel_size=3, activation=tf.nn.leaky_relu, dilation_rate=8, padding='same'),\n",
    "      # Image is now 8x8x128\n",
    "      tfkl.Conv1D(256, kernel_size=3, activation=tf.nn.leaky_relu, dilation_rate=16, padding='same'),\n",
    "      # Image is now 4x4x256\n",
    "      tfkl.Flatten(),\n",
    "      tfkl.Dense(512, activation=tf.nn.leaky_relu)])\n",
    "\n",
    "\n",
    "def get_image_encoder():\n",
    "    \"\"\" Creates a small convolutional encoder for the requested latent dimension\n",
    "    \"\"\"\n",
    "    # We choose a prior distribution for the latent codes\n",
    "    prior = tfd.MultivariateNormalDiag(loc=tf.zeros(latent_dim))\n",
    "\n",
    "    return tf.keras.Sequential([ \n",
    "      tfkl.Input(shape=(64,64,5)),\n",
    "      tfkl.Conv2D(32, kernel_size=3, activation=tf.nn.leaky_relu, dilation_rate=1, padding='same'), \n",
    "      tfkl.Conv2D(64, kernel_size=3, activation=tf.nn.leaky_relu, dilation_rate=1, padding='same'),\n",
    "      tfkl.Conv2D(128, kernel_size=3, activation=tf.nn.leaky_relu, dilation_rate=1, padding='same'),\n",
    "      tfkl.Conv2D(256, kernel_size=3, activation=tf.nn.leaky_relu, dilation_rate=1, padding='same'),\n",
    "      tfkl.Conv2D(512, kernel_size=3, activation=tf.nn.leaky_relu, dilation_rate=1, padding='same'),\n",
    "      tfkl.Flatten(),\n",
    "      tfkl.Dense(512, activation=tf.nn.leaky_relu)])\n",
    "      \n",
    "      \n",
    "def return_probabilistic(latent_dim=32):\n",
    "  \n",
    "    \n",
    "    return tf.keras.Sequential([ \n",
    "      # We ask this layer to output a vector of size equal to the number of\n",
    "      # parameters required to define a Multivariate Gaussian\n",
    "      tfkl.Input(shape=(100,1)),\n",
    "        \n",
    "      tfkl.Dense(tfpl.MultivariateNormalTriL.params_size(latent_dim)),\n",
    "      # At the last layer, we ask the model to output a **distribution**\n",
    "      # In this case, a Multivariate Normal\n",
    "      tfpl.MultivariateNormalTriL(latent_dim, \n",
    "              # And we specify a regularization for this distribution, used\n",
    "              # during training, we want the KL divergence with the prior \n",
    "              # to be small, i.e. the encoded distribution should be close to a \n",
    "              # standard Gaussian\n",
    "              activity_regularizer=tfpl.KLDivergenceRegularizer(prior)\n",
    "              )\n",
    "      ])"
   ]
  },
  {
   "cell_type": "code",
   "execution_count": 226,
   "id": "7f9fcd50",
   "metadata": {},
   "outputs": [
    {
     "name": "stdout",
     "output_type": "stream",
     "text": [
      "Model: \"model_56\"\n",
      "_________________________________________________________________\n",
      "Layer (type)                 Output Shape              Param #   \n",
      "=================================================================\n",
      "input_65 (InputLayer)        [(None, 128, 128, 4)]     0         \n",
      "_________________________________________________________________\n",
      "conv2d_129 (Conv2D)          (None, 128, 128, 32)      1184      \n",
      "_________________________________________________________________\n",
      "conv2d_130 (Conv2D)          (None, 64, 64, 32)        9248      \n",
      "_________________________________________________________________\n",
      "conv2d_131 (Conv2D)          (None, 64, 64, 64)        18496     \n",
      "_________________________________________________________________\n",
      "conv2d_132 (Conv2D)          (None, 32, 32, 64)        36928     \n",
      "_________________________________________________________________\n",
      "conv2d_133 (Conv2D)          (None, 32, 32, 128)       73856     \n",
      "_________________________________________________________________\n",
      "conv2d_134 (Conv2D)          (None, 16, 16, 128)       147584    \n",
      "_________________________________________________________________\n",
      "conv2d_135 (Conv2D)          (None, 8, 8, 256)         295168    \n",
      "_________________________________________________________________\n",
      "conv2d_136 (Conv2D)          (None, 4, 4, 256)         590080    \n",
      "_________________________________________________________________\n",
      "flatten_35 (Flatten)         (None, 4096)              0         \n",
      "_________________________________________________________________\n",
      "dense_123 (Dense)            (None, 16)                65552     \n",
      "=================================================================\n",
      "Total params: 1,238,096\n",
      "Trainable params: 1,238,096\n",
      "Non-trainable params: 0\n",
      "_________________________________________________________________\n"
     ]
    }
   ],
   "source": [
    "import tensorflow_probability as tfp\n",
    "tfpl = tfp.layers\n",
    "tfkl = tf.keras.layers\n",
    "tfd = tfp.distributions\n",
    "\n",
    "latent_dim = 16\n",
    "prior = tfd.MultivariateNormalDiag(loc=tf.zeros(latent_dim))\n",
    "\n",
    "\n",
    "\n",
    "\n",
    "#latent_dim=latent_dim\n",
    "#prob_encoder = get_probabilistic_encoder()\n",
    "#prob_encoder.summary()\n",
    "\n",
    "image_inputs = tf.keras.Input(shape=(128,128,4), dtype='float32')\n",
    "x = tfkl.Conv2D(32, kernel_size=3, activation=tf.nn.leaky_relu, strides=1, padding='same')(image_inputs)\n",
    "x = tfkl.Conv2D(32, kernel_size=3, activation=tf.nn.leaky_relu, strides=2, padding='same')(x)\n",
    "x = tfkl.Conv2D(64, kernel_size=3, activation=tf.nn.leaky_relu, strides=1, padding='same')(x)\n",
    "x = tfkl.Conv2D(64, kernel_size=3, activation=tf.nn.leaky_relu, strides=2, padding='same')(x)\n",
    "x = tfkl.Conv2D(128, kernel_size=3, activation=tf.nn.leaky_relu, strides=1, padding='same')(x)\n",
    "x = tfkl.Conv2D(128, kernel_size=3, activation=tf.nn.leaky_relu, strides=2, padding='same')(x)\n",
    "x = tfkl.Conv2D(256, kernel_size=3, activation=tf.nn.leaky_relu, strides=2, padding='same')(x)\n",
    "x = tfkl.Conv2D(256, kernel_size=3, activation=tf.nn.leaky_relu, strides=2, padding='same')(x)\n",
    "x = tfkl.Flatten()(x)\n",
    "#x = tfkl.Dense(512, activation=tf.nn.leaky_relu)(x)\n",
    "image_out = tf.keras.layers.Dense(16)(x) # was params_size\n",
    "\n",
    "image_model = keras.Model(image_inputs, image_out)\n",
    "\n",
    "image_model.summary()"
   ]
  },
  {
   "cell_type": "code",
   "execution_count": 227,
   "id": "6fef5e40",
   "metadata": {},
   "outputs": [
    {
     "name": "stdout",
     "output_type": "stream",
     "text": [
      "Model: \"model_57\"\n",
      "_________________________________________________________________\n",
      "Layer (type)                 Output Shape              Param #   \n",
      "=================================================================\n",
      "input_66 (InputLayer)        [(None, 100, 1)]          0         \n",
      "_________________________________________________________________\n",
      "conv1d_92 (Conv1D)           (None, 100, 32)           128       \n",
      "_________________________________________________________________\n",
      "conv1d_93 (Conv1D)           (None, 100, 64)           6208      \n",
      "_________________________________________________________________\n",
      "conv1d_94 (Conv1D)           (None, 100, 64)           12352     \n",
      "_________________________________________________________________\n",
      "conv1d_95 (Conv1D)           (None, 100, 128)          24704     \n",
      "_________________________________________________________________\n",
      "conv1d_96 (Conv1D)           (None, 100, 128)          49280     \n",
      "_________________________________________________________________\n",
      "conv1d_97 (Conv1D)           (None, 100, 256)          98560     \n",
      "_________________________________________________________________\n",
      "flatten_36 (Flatten)         (None, 25600)             0         \n",
      "_________________________________________________________________\n",
      "dense_124 (Dense)            (None, 128)               3276928   \n",
      "=================================================================\n",
      "Total params: 3,468,160\n",
      "Trainable params: 3,468,160\n",
      "Non-trainable params: 0\n",
      "_________________________________________________________________\n"
     ]
    }
   ],
   "source": [
    "\n",
    "\n",
    "\n",
    "\n",
    "sfr_inputs = tf.keras.Input(shape=(100,1), dtype='float32')\n",
    "y = tfkl.Conv1D(32, kernel_size=3, activation=tf.nn.leaky_relu, dilation_rate=2, padding='same')(sfr_inputs)\n",
    "\n",
    "y = tfkl.Conv1D(64, kernel_size=3, activation=tf.nn.leaky_relu, dilation_rate=4, padding='same')(y)\n",
    "y = tfkl.Conv1D(64, kernel_size=3, activation=tf.nn.leaky_relu, dilation_rate=4, padding='same')(y)\n",
    "\n",
    "y = tfkl.Conv1D(128, kernel_size=3, activation=tf.nn.leaky_relu, dilation_rate=8, padding='same')(y)\n",
    "y = tfkl.Conv1D(128, kernel_size=3, activation=tf.nn.leaky_relu, dilation_rate=8, padding='same')(y)\n",
    "\n",
    "y = tfkl.Conv1D(256, kernel_size=3, activation=tf.nn.leaky_relu, dilation_rate=16, padding='same')(y)\n",
    "\n",
    "y = tfkl.Flatten()(y)\n",
    "#y = tfkl.Dense(512, activation=tf.nn.leaky_relu)(y)\n",
    "\n",
    "sfr_out = tfkl.Dense(128, activation=tf.nn.leaky_relu)(y)\n",
    "\n",
    "\n",
    "seq_model = keras.Model(sfr_inputs, sfr_out)\n",
    "\n",
    "seq_model.summary()"
   ]
  },
  {
   "cell_type": "code",
   "execution_count": 228,
   "id": "988eecfe",
   "metadata": {},
   "outputs": [],
   "source": [
    "\n",
    "\n",
    "#concatenated = tf.keras.layers.Concatenate()([sfr_out, image_out])\n",
    "\n",
    "concatenated = tf.keras.layers.Concatenate()([sfr_out, image_out])\n",
    "\n",
    "y = tfkl.Dense(160, activation='relu')(concatenated)\n",
    "y = tfkl.Dense(128, activation='linear')(y)\n",
    "\n",
    "y = tfkl.Dense(tfpl.MultivariateNormalTriL.params_size(latent_dim))(y)\n",
    "# At the last layer, we ask the model to output a **distribution**\n",
    "# In this case, a Multivariate Normal\n",
    "z = tfpl.MultivariateNormalTriL(latent_dim, \n",
    "      # And we specify a regularization for this distribution, used\n",
    "      # during training, we want the KL divergence with the prior \n",
    "      # to be small, i.e. the encoded distribution should be close to a \n",
    "      # standard Gaussian\n",
    "      activity_regularizer=tfpl.KLDivergenceRegularizer(prior)\n",
    "      )(y)\n",
    "\n"
   ]
  },
  {
   "cell_type": "code",
   "execution_count": 229,
   "id": "622d0c35",
   "metadata": {},
   "outputs": [
    {
     "data": {
      "text/plain": [
       "TensorShape([None, 16])"
      ]
     },
     "execution_count": 229,
     "metadata": {},
     "output_type": "execute_result"
    }
   ],
   "source": [
    "image_model.layers[-1].output.shape"
   ]
  },
  {
   "cell_type": "code",
   "execution_count": 232,
   "id": "48d4d950",
   "metadata": {},
   "outputs": [
    {
     "name": "stdout",
     "output_type": "stream",
     "text": [
      "Model: \"model_59\"\n",
      "__________________________________________________________________________________________________\n",
      "Layer (type)                    Output Shape         Param #     Connected to                     \n",
      "==================================================================================================\n",
      "input_65 (InputLayer)           [(None, 128, 128, 4) 0                                            \n",
      "__________________________________________________________________________________________________\n",
      "conv2d_129 (Conv2D)             (None, 128, 128, 32) 1184        input_65[0][0]                   \n",
      "__________________________________________________________________________________________________\n",
      "input_66 (InputLayer)           [(None, 100, 1)]     0                                            \n",
      "__________________________________________________________________________________________________\n",
      "conv2d_130 (Conv2D)             (None, 64, 64, 32)   9248        conv2d_129[0][0]                 \n",
      "__________________________________________________________________________________________________\n",
      "conv1d_92 (Conv1D)              (None, 100, 32)      128         input_66[0][0]                   \n",
      "__________________________________________________________________________________________________\n",
      "conv2d_131 (Conv2D)             (None, 64, 64, 64)   18496       conv2d_130[0][0]                 \n",
      "__________________________________________________________________________________________________\n",
      "conv1d_93 (Conv1D)              (None, 100, 64)      6208        conv1d_92[0][0]                  \n",
      "__________________________________________________________________________________________________\n",
      "conv2d_132 (Conv2D)             (None, 32, 32, 64)   36928       conv2d_131[0][0]                 \n",
      "__________________________________________________________________________________________________\n",
      "conv1d_94 (Conv1D)              (None, 100, 64)      12352       conv1d_93[0][0]                  \n",
      "__________________________________________________________________________________________________\n",
      "conv2d_133 (Conv2D)             (None, 32, 32, 128)  73856       conv2d_132[0][0]                 \n",
      "__________________________________________________________________________________________________\n",
      "conv1d_95 (Conv1D)              (None, 100, 128)     24704       conv1d_94[0][0]                  \n",
      "__________________________________________________________________________________________________\n",
      "conv2d_134 (Conv2D)             (None, 16, 16, 128)  147584      conv2d_133[0][0]                 \n",
      "__________________________________________________________________________________________________\n",
      "conv1d_96 (Conv1D)              (None, 100, 128)     49280       conv1d_95[0][0]                  \n",
      "__________________________________________________________________________________________________\n",
      "conv2d_135 (Conv2D)             (None, 8, 8, 256)    295168      conv2d_134[0][0]                 \n",
      "__________________________________________________________________________________________________\n",
      "conv1d_97 (Conv1D)              (None, 100, 256)     98560       conv1d_96[0][0]                  \n",
      "__________________________________________________________________________________________________\n",
      "conv2d_136 (Conv2D)             (None, 4, 4, 256)    590080      conv2d_135[0][0]                 \n",
      "__________________________________________________________________________________________________\n",
      "flatten_36 (Flatten)            (None, 25600)        0           conv1d_97[0][0]                  \n",
      "__________________________________________________________________________________________________\n",
      "flatten_35 (Flatten)            (None, 4096)         0           conv2d_136[0][0]                 \n",
      "__________________________________________________________________________________________________\n",
      "dense_124 (Dense)               (None, 128)          3276928     flatten_36[0][0]                 \n",
      "__________________________________________________________________________________________________\n",
      "dense_123 (Dense)               (None, 16)           65552       flatten_35[0][0]                 \n",
      "__________________________________________________________________________________________________\n",
      "concatenate_36 (Concatenate)    (None, 144)          0           dense_124[0][0]                  \n",
      "                                                                 dense_123[0][0]                  \n",
      "__________________________________________________________________________________________________\n",
      "dense_125 (Dense)               (None, 160)          23200       concatenate_36[0][0]             \n",
      "__________________________________________________________________________________________________\n",
      "dense_126 (Dense)               (None, 128)          20608       dense_125[0][0]                  \n",
      "__________________________________________________________________________________________________\n",
      "dense_127 (Dense)               (None, 152)          19608       dense_126[0][0]                  \n",
      "__________________________________________________________________________________________________\n",
      "multivariate_normal_tri_l_20 (M multiple             0           dense_127[0][0]                  \n",
      "__________________________________________________________________________________________________\n",
      "concatenate_39 (Concatenate)    (None, 32)           0           multivariate_normal_tri_l_20[0][0\n",
      "                                                                 dense_123[0][0]                  \n",
      "__________________________________________________________________________________________________\n",
      "dense_130 (Dense)               (None, 1000)         33000       concatenate_39[0][0]             \n",
      "__________________________________________________________________________________________________\n",
      "reshape_19 (Reshape)            (None, 25, 40)       0           dense_130[0][0]                  \n",
      "__________________________________________________________________________________________________\n",
      "conv1d_transpose_88 (Conv1DTran (None, 50, 128)      15488       reshape_19[0][0]                 \n",
      "__________________________________________________________________________________________________\n",
      "conv1d_transpose_89 (Conv1DTran (None, 50, 64)       24640       conv1d_transpose_88[0][0]        \n",
      "__________________________________________________________________________________________________\n",
      "conv1d_transpose_90 (Conv1DTran (None, 50, 64)       12352       conv1d_transpose_89[0][0]        \n",
      "__________________________________________________________________________________________________\n",
      "conv1d_transpose_91 (Conv1DTran (None, 100, 32)      6176        conv1d_transpose_90[0][0]        \n",
      "__________________________________________________________________________________________________\n",
      "conv1d_transpose_92 (Conv1DTran (None, 100, 1)       97          conv1d_transpose_91[0][0]        \n",
      "__________________________________________________________________________________________________\n",
      "distribution_lambda_19 (Distrib multiple             0           conv1d_transpose_92[0][0]        \n",
      "==================================================================================================\n",
      "Total params: 4,861,425\n",
      "Trainable params: 4,861,425\n",
      "Non-trainable params: 0\n",
      "__________________________________________________________________________________________________\n"
     ]
    }
   ],
   "source": [
    "\n",
    "\n",
    "\n",
    "\n",
    "#i1 = tfkl.Input(shape=(latent_dim,))\n",
    "#i2 = tfkl.Input(shape=(latent_dim,))\n",
    "\n",
    "deco = tf.keras.layers.Concatenate()([z, image_model.layers[-1].output])\n",
    "#deco = tf.keras.layers.Concatenate()([i1, i2])\n",
    "deco = tfkl.Dense(1000, activation=tf.nn.leaky_relu)(deco)\n",
    "deco = tfkl.Reshape((25, 40))(deco)\n",
    "deco = tfkl.Conv1DTranspose(128, kernel_size=3, activation=tf.nn.leaky_relu, strides=2, padding='same')(deco)\n",
    "deco = tfkl.Conv1DTranspose(64,  kernel_size=3, activation=tf.nn.leaky_relu, strides=1, padding='same')(deco)\n",
    "deco = tfkl.Conv1DTranspose(64,  kernel_size=3, activation=tf.nn.leaky_relu, strides=1, padding='same')(deco)\n",
    "deco = tfkl.Conv1DTranspose(32,  kernel_size=3, activation=tf.nn.leaky_relu, strides=2, padding='same')(deco)\n",
    "deco = tfkl.Conv1DTranspose(1,   kernel_size=3, activation=tf.nn.softplus,   strides=1, padding='same')(deco)\n",
    "model_out = tfpl.DistributionLambda(lambda t: tfd.MultivariateNormalDiag(loc=t,\n",
    "                                              scale_identity_multiplier=0.01))(deco)\n",
    "\n",
    "\n",
    "#[z, image_model.layers[-1].output]\n",
    "#deco = keras.Model([z, image_out], model_out)\n",
    "\n",
    "#image_encoder = tf.keras.Model(inputs, out)\n",
    "sfr_and_images_model = keras.Model([sfr_inputs, image_inputs], model_out)\n",
    "\n",
    "sfr_and_images_model.summary()\n",
    "#image_encoder = tf.keras\n",
    "\n",
    "#get_probabilistic_encoder()\n",
    "\n",
    "\n",
    "#prob_merge = return_probabilistic"
   ]
  },
  {
   "cell_type": "code",
   "execution_count": 224,
   "id": "34ffb83c",
   "metadata": {},
   "outputs": [
    {
     "ename": "ValueError",
     "evalue": "'multivariate_normal_tri_l_8' is not in list",
     "output_type": "error",
     "traceback": [
      "\u001b[0;31m---------------------------------------------------------------------------\u001b[0m",
      "\u001b[0;31mValueError\u001b[0m                                Traceback (most recent call last)",
      "\u001b[0;32m/tmp/ipykernel_695888/864919431.py\u001b[0m in \u001b[0;36m<module>\u001b[0;34m\u001b[0m\n\u001b[0;32m----> 1\u001b[0;31m \u001b[0;34m[\u001b[0m\u001b[0ml\u001b[0m\u001b[0;34m.\u001b[0m\u001b[0mname\u001b[0m \u001b[0;32mfor\u001b[0m \u001b[0ml\u001b[0m \u001b[0;32min\u001b[0m \u001b[0msfr_and_images_model\u001b[0m\u001b[0;34m.\u001b[0m\u001b[0mlayers\u001b[0m\u001b[0;34m]\u001b[0m\u001b[0;34m.\u001b[0m\u001b[0mindex\u001b[0m\u001b[0;34m(\u001b[0m\u001b[0;34m\"multivariate_normal_tri_l_8\"\u001b[0m\u001b[0;34m)\u001b[0m\u001b[0;34m\u001b[0m\u001b[0;34m\u001b[0m\u001b[0m\n\u001b[0m",
      "\u001b[0;31mValueError\u001b[0m: 'multivariate_normal_tri_l_8' is not in list"
     ]
    }
   ],
   "source": [
    "[l.name for l in sfr_and_images_model.layers].index(\"multivariate_normal_tri_l_8\")"
   ]
  },
  {
   "cell_type": "code",
   "execution_count": 225,
   "id": "1abfe6aa",
   "metadata": {},
   "outputs": [
    {
     "ename": "ValueError",
     "evalue": "'dense_66' is not in list",
     "output_type": "error",
     "traceback": [
      "\u001b[0;31m---------------------------------------------------------------------------\u001b[0m",
      "\u001b[0;31mValueError\u001b[0m                                Traceback (most recent call last)",
      "\u001b[0;32m/tmp/ipykernel_695888/1259376236.py\u001b[0m in \u001b[0;36m<module>\u001b[0;34m\u001b[0m\n\u001b[0;32m----> 1\u001b[0;31m \u001b[0;34m[\u001b[0m\u001b[0ml\u001b[0m\u001b[0;34m.\u001b[0m\u001b[0mname\u001b[0m \u001b[0;32mfor\u001b[0m \u001b[0ml\u001b[0m \u001b[0;32min\u001b[0m \u001b[0msfr_and_images_model\u001b[0m\u001b[0;34m.\u001b[0m\u001b[0mlayers\u001b[0m\u001b[0;34m]\u001b[0m\u001b[0;34m.\u001b[0m\u001b[0mindex\u001b[0m\u001b[0;34m(\u001b[0m\u001b[0;34m\"dense_66\"\u001b[0m\u001b[0;34m)\u001b[0m\u001b[0;34m\u001b[0m\u001b[0;34m\u001b[0m\u001b[0m\n\u001b[0m",
      "\u001b[0;31mValueError\u001b[0m: 'dense_66' is not in list"
     ]
    }
   ],
   "source": [
    "[l.name for l in sfr_and_images_model.layers].index(\"dense_66\")"
   ]
  },
  {
   "cell_type": "code",
   "execution_count": 194,
   "id": "fd17bd27",
   "metadata": {},
   "outputs": [],
   "source": [
    "sfr_and_images_model.layers[24].output"
   ]
  },
  {
   "cell_type": "code",
   "execution_count": 195,
   "id": "45ada05b",
   "metadata": {},
   "outputs": [
    {
     "name": "stdout",
     "output_type": "stream",
     "text": [
      "WARNING:tensorflow:Functional model inputs must come from `tf.keras.Input` (thus holding past layer metadata), they cannot be the output of a previous non-Input layer. Here, a tensor specified as input to \"model_40\" was not an Input tensor, it was generated by layer dense_82.\n",
      "Note that input tensors are instantiated via `tensor = tf.keras.Input(shape)`.\n",
      "The tensor that caused the issue was: dense_82/BiasAdd:0\n"
     ]
    },
    {
     "name": "stderr",
     "output_type": "stream",
     "text": [
      "WARNING:tensorflow:Functional model inputs must come from `tf.keras.Input` (thus holding past layer metadata), they cannot be the output of a previous non-Input layer. Here, a tensor specified as input to \"model_40\" was not an Input tensor, it was generated by layer dense_82.\n",
      "Note that input tensors are instantiated via `tensor = tf.keras.Input(shape)`.\n",
      "The tensor that caused the issue was: dense_82/BiasAdd:0\n"
     ]
    },
    {
     "ename": "ValueError",
     "evalue": "Graph disconnected: cannot obtain value for tensor KerasTensor(type_spec=TensorSpec(shape=(None, 100, 1), dtype=tf.float32, name='input_33'), name='input_33', description=\"created by layer 'input_33'\") at layer \"conv1d_62\". The following previous layers were accessed without issue: ['conv2d_89', 'conv2d_90', 'conv2d_91']",
     "output_type": "error",
     "traceback": [
      "\u001b[0;31m---------------------------------------------------------------------------\u001b[0m",
      "\u001b[0;31mValueError\u001b[0m                                Traceback (most recent call last)",
      "\u001b[0;32m/tmp/ipykernel_695888/3925659714.py\u001b[0m in \u001b[0;36m<module>\u001b[0;34m\u001b[0m\n\u001b[1;32m      2\u001b[0m \u001b[0;31m#sfr_and_images_model.layers[24].input\u001b[0m\u001b[0;34m\u001b[0m\u001b[0;34m\u001b[0m\u001b[0;34m\u001b[0m\u001b[0m\n\u001b[1;32m      3\u001b[0m \u001b[0;31m#sfr_inputs2\u001b[0m\u001b[0;34m\u001b[0m\u001b[0;34m\u001b[0m\u001b[0;34m\u001b[0m\u001b[0m\n\u001b[0;32m----> 4\u001b[0;31m \u001b[0mdecoder\u001b[0m \u001b[0;34m=\u001b[0m  \u001b[0mkeras\u001b[0m\u001b[0;34m.\u001b[0m\u001b[0mModel\u001b[0m\u001b[0;34m(\u001b[0m\u001b[0;34m[\u001b[0m\u001b[0msfr_and_images_model\u001b[0m\u001b[0;34m.\u001b[0m\u001b[0mlayers\u001b[0m\u001b[0;34m[\u001b[0m\u001b[0;36m24\u001b[0m\u001b[0;34m]\u001b[0m\u001b[0;34m.\u001b[0m\u001b[0minput\u001b[0m\u001b[0;34m,\u001b[0m \u001b[0mimage_inputs\u001b[0m\u001b[0;34m]\u001b[0m\u001b[0;34m,\u001b[0m \u001b[0mmodel_out\u001b[0m\u001b[0;34m)\u001b[0m\u001b[0;34m\u001b[0m\u001b[0;34m\u001b[0m\u001b[0m\n\u001b[0m",
      "\u001b[0;32m/gpfslocalsup/pub/anaconda-py3/2021.05/envs/tensorflow-gpu-2.6.0/lib/python3.7/site-packages/tensorflow/python/training/tracking/base.py\u001b[0m in \u001b[0;36m_method_wrapper\u001b[0;34m(self, *args, **kwargs)\u001b[0m\n\u001b[1;32m    528\u001b[0m     \u001b[0mself\u001b[0m\u001b[0;34m.\u001b[0m\u001b[0m_self_setattr_tracking\u001b[0m \u001b[0;34m=\u001b[0m \u001b[0;32mFalse\u001b[0m  \u001b[0;31m# pylint: disable=protected-access\u001b[0m\u001b[0;34m\u001b[0m\u001b[0;34m\u001b[0m\u001b[0m\n\u001b[1;32m    529\u001b[0m     \u001b[0;32mtry\u001b[0m\u001b[0;34m:\u001b[0m\u001b[0;34m\u001b[0m\u001b[0;34m\u001b[0m\u001b[0m\n\u001b[0;32m--> 530\u001b[0;31m       \u001b[0mresult\u001b[0m \u001b[0;34m=\u001b[0m \u001b[0mmethod\u001b[0m\u001b[0;34m(\u001b[0m\u001b[0mself\u001b[0m\u001b[0;34m,\u001b[0m \u001b[0;34m*\u001b[0m\u001b[0margs\u001b[0m\u001b[0;34m,\u001b[0m \u001b[0;34m**\u001b[0m\u001b[0mkwargs\u001b[0m\u001b[0;34m)\u001b[0m\u001b[0;34m\u001b[0m\u001b[0;34m\u001b[0m\u001b[0m\n\u001b[0m\u001b[1;32m    531\u001b[0m     \u001b[0;32mfinally\u001b[0m\u001b[0;34m:\u001b[0m\u001b[0;34m\u001b[0m\u001b[0;34m\u001b[0m\u001b[0m\n\u001b[1;32m    532\u001b[0m       \u001b[0mself\u001b[0m\u001b[0;34m.\u001b[0m\u001b[0m_self_setattr_tracking\u001b[0m \u001b[0;34m=\u001b[0m \u001b[0mprevious_value\u001b[0m  \u001b[0;31m# pylint: disable=protected-access\u001b[0m\u001b[0;34m\u001b[0m\u001b[0;34m\u001b[0m\u001b[0m\n",
      "\u001b[0;32m/gpfslocalsup/pub/anaconda-py3/2021.05/envs/tensorflow-gpu-2.6.0/lib/python3.7/site-packages/keras/engine/functional.py\u001b[0m in \u001b[0;36m__init__\u001b[0;34m(self, inputs, outputs, name, trainable, **kwargs)\u001b[0m\n\u001b[1;32m    107\u001b[0m     \u001b[0mgeneric_utils\u001b[0m\u001b[0;34m.\u001b[0m\u001b[0mvalidate_kwargs\u001b[0m\u001b[0;34m(\u001b[0m\u001b[0mkwargs\u001b[0m\u001b[0;34m,\u001b[0m \u001b[0;34m{\u001b[0m\u001b[0;34m}\u001b[0m\u001b[0;34m)\u001b[0m\u001b[0;34m\u001b[0m\u001b[0;34m\u001b[0m\u001b[0m\n\u001b[1;32m    108\u001b[0m     \u001b[0msuper\u001b[0m\u001b[0;34m(\u001b[0m\u001b[0mFunctional\u001b[0m\u001b[0;34m,\u001b[0m \u001b[0mself\u001b[0m\u001b[0;34m)\u001b[0m\u001b[0;34m.\u001b[0m\u001b[0m__init__\u001b[0m\u001b[0;34m(\u001b[0m\u001b[0mname\u001b[0m\u001b[0;34m=\u001b[0m\u001b[0mname\u001b[0m\u001b[0;34m,\u001b[0m \u001b[0mtrainable\u001b[0m\u001b[0;34m=\u001b[0m\u001b[0mtrainable\u001b[0m\u001b[0;34m)\u001b[0m\u001b[0;34m\u001b[0m\u001b[0;34m\u001b[0m\u001b[0m\n\u001b[0;32m--> 109\u001b[0;31m     \u001b[0mself\u001b[0m\u001b[0;34m.\u001b[0m\u001b[0m_init_graph_network\u001b[0m\u001b[0;34m(\u001b[0m\u001b[0minputs\u001b[0m\u001b[0;34m,\u001b[0m \u001b[0moutputs\u001b[0m\u001b[0;34m)\u001b[0m\u001b[0;34m\u001b[0m\u001b[0;34m\u001b[0m\u001b[0m\n\u001b[0m\u001b[1;32m    110\u001b[0m \u001b[0;34m\u001b[0m\u001b[0m\n\u001b[1;32m    111\u001b[0m   \u001b[0;34m@\u001b[0m\u001b[0mtf\u001b[0m\u001b[0;34m.\u001b[0m\u001b[0m__internal__\u001b[0m\u001b[0;34m.\u001b[0m\u001b[0mtracking\u001b[0m\u001b[0;34m.\u001b[0m\u001b[0mno_automatic_dependency_tracking\u001b[0m\u001b[0;34m\u001b[0m\u001b[0;34m\u001b[0m\u001b[0m\n",
      "\u001b[0;32m/gpfslocalsup/pub/anaconda-py3/2021.05/envs/tensorflow-gpu-2.6.0/lib/python3.7/site-packages/tensorflow/python/training/tracking/base.py\u001b[0m in \u001b[0;36m_method_wrapper\u001b[0;34m(self, *args, **kwargs)\u001b[0m\n\u001b[1;32m    528\u001b[0m     \u001b[0mself\u001b[0m\u001b[0;34m.\u001b[0m\u001b[0m_self_setattr_tracking\u001b[0m \u001b[0;34m=\u001b[0m \u001b[0;32mFalse\u001b[0m  \u001b[0;31m# pylint: disable=protected-access\u001b[0m\u001b[0;34m\u001b[0m\u001b[0;34m\u001b[0m\u001b[0m\n\u001b[1;32m    529\u001b[0m     \u001b[0;32mtry\u001b[0m\u001b[0;34m:\u001b[0m\u001b[0;34m\u001b[0m\u001b[0;34m\u001b[0m\u001b[0m\n\u001b[0;32m--> 530\u001b[0;31m       \u001b[0mresult\u001b[0m \u001b[0;34m=\u001b[0m \u001b[0mmethod\u001b[0m\u001b[0;34m(\u001b[0m\u001b[0mself\u001b[0m\u001b[0;34m,\u001b[0m \u001b[0;34m*\u001b[0m\u001b[0margs\u001b[0m\u001b[0;34m,\u001b[0m \u001b[0;34m**\u001b[0m\u001b[0mkwargs\u001b[0m\u001b[0;34m)\u001b[0m\u001b[0;34m\u001b[0m\u001b[0;34m\u001b[0m\u001b[0m\n\u001b[0m\u001b[1;32m    531\u001b[0m     \u001b[0;32mfinally\u001b[0m\u001b[0;34m:\u001b[0m\u001b[0;34m\u001b[0m\u001b[0;34m\u001b[0m\u001b[0m\n\u001b[1;32m    532\u001b[0m       \u001b[0mself\u001b[0m\u001b[0;34m.\u001b[0m\u001b[0m_self_setattr_tracking\u001b[0m \u001b[0;34m=\u001b[0m \u001b[0mprevious_value\u001b[0m  \u001b[0;31m# pylint: disable=protected-access\u001b[0m\u001b[0;34m\u001b[0m\u001b[0;34m\u001b[0m\u001b[0m\n",
      "\u001b[0;32m/gpfslocalsup/pub/anaconda-py3/2021.05/envs/tensorflow-gpu-2.6.0/lib/python3.7/site-packages/keras/engine/functional.py\u001b[0m in \u001b[0;36m_init_graph_network\u001b[0;34m(self, inputs, outputs)\u001b[0m\n\u001b[1;32m    191\u001b[0m     \u001b[0;31m# Keep track of the network's nodes and layers.\u001b[0m\u001b[0;34m\u001b[0m\u001b[0;34m\u001b[0m\u001b[0;34m\u001b[0m\u001b[0m\n\u001b[1;32m    192\u001b[0m     nodes, nodes_by_depth, layers, _ = _map_graph_network(\n\u001b[0;32m--> 193\u001b[0;31m         self.inputs, self.outputs)\n\u001b[0m\u001b[1;32m    194\u001b[0m     \u001b[0mself\u001b[0m\u001b[0;34m.\u001b[0m\u001b[0m_network_nodes\u001b[0m \u001b[0;34m=\u001b[0m \u001b[0mnodes\u001b[0m\u001b[0;34m\u001b[0m\u001b[0;34m\u001b[0m\u001b[0m\n\u001b[1;32m    195\u001b[0m     \u001b[0mself\u001b[0m\u001b[0;34m.\u001b[0m\u001b[0m_nodes_by_depth\u001b[0m \u001b[0;34m=\u001b[0m \u001b[0mnodes_by_depth\u001b[0m\u001b[0;34m\u001b[0m\u001b[0;34m\u001b[0m\u001b[0m\n",
      "\u001b[0;32m/gpfslocalsup/pub/anaconda-py3/2021.05/envs/tensorflow-gpu-2.6.0/lib/python3.7/site-packages/keras/engine/functional.py\u001b[0m in \u001b[0;36m_map_graph_network\u001b[0;34m(inputs, outputs)\u001b[0m\n\u001b[1;32m    982\u001b[0m                              \u001b[0;34m'The following previous layers '\u001b[0m\u001b[0;34m\u001b[0m\u001b[0;34m\u001b[0m\u001b[0m\n\u001b[1;32m    983\u001b[0m                              \u001b[0;34m'were accessed without issue: '\u001b[0m \u001b[0;34m+\u001b[0m\u001b[0;34m\u001b[0m\u001b[0;34m\u001b[0m\u001b[0m\n\u001b[0;32m--> 984\u001b[0;31m                              str(layers_with_complete_input))\n\u001b[0m\u001b[1;32m    985\u001b[0m         \u001b[0;32mfor\u001b[0m \u001b[0mx\u001b[0m \u001b[0;32min\u001b[0m \u001b[0mtf\u001b[0m\u001b[0;34m.\u001b[0m\u001b[0mnest\u001b[0m\u001b[0;34m.\u001b[0m\u001b[0mflatten\u001b[0m\u001b[0;34m(\u001b[0m\u001b[0mnode\u001b[0m\u001b[0;34m.\u001b[0m\u001b[0moutputs\u001b[0m\u001b[0;34m)\u001b[0m\u001b[0;34m:\u001b[0m\u001b[0;34m\u001b[0m\u001b[0;34m\u001b[0m\u001b[0m\n\u001b[1;32m    986\u001b[0m           \u001b[0mcomputable_tensors\u001b[0m\u001b[0;34m.\u001b[0m\u001b[0madd\u001b[0m\u001b[0;34m(\u001b[0m\u001b[0mid\u001b[0m\u001b[0;34m(\u001b[0m\u001b[0mx\u001b[0m\u001b[0;34m)\u001b[0m\u001b[0;34m)\u001b[0m\u001b[0;34m\u001b[0m\u001b[0;34m\u001b[0m\u001b[0m\n",
      "\u001b[0;31mValueError\u001b[0m: Graph disconnected: cannot obtain value for tensor KerasTensor(type_spec=TensorSpec(shape=(None, 100, 1), dtype=tf.float32, name='input_33'), name='input_33', description=\"created by layer 'input_33'\") at layer \"conv1d_62\". The following previous layers were accessed without issue: ['conv2d_89', 'conv2d_90', 'conv2d_91']"
     ]
    }
   ],
   "source": [
    "sfr_inputs2 = tf.keras.Input(shape=(16), dtype='float32')\n",
    "#sfr_and_images_model.layers[24].input\n",
    "#sfr_inputs2\n",
    "decoder =  keras.Model([sfr_and_images_model.layers[24].input, image_inputs], model_out)"
   ]
  },
  {
   "cell_type": "code",
   "execution_count": 134,
   "id": "85e0ad39",
   "metadata": {},
   "outputs": [
    {
     "name": "stdout",
     "output_type": "stream",
     "text": [
      "Model: \"sequential_1\"\n",
      "_________________________________________________________________\n",
      "Layer (type)                 Output Shape              Param #   \n",
      "=================================================================\n",
      "dense_65 (Dense)             (None, 1000)              17000     \n",
      "_________________________________________________________________\n",
      "reshape_9 (Reshape)          (None, 25, 40)            0         \n",
      "_________________________________________________________________\n",
      "conv1d_transpose_39 (Conv1DT (None, 50, 128)           15488     \n",
      "_________________________________________________________________\n",
      "conv1d_transpose_40 (Conv1DT (None, 50, 64)            24640     \n",
      "_________________________________________________________________\n",
      "conv1d_transpose_41 (Conv1DT (None, 100, 32)           6176      \n",
      "_________________________________________________________________\n",
      "conv1d_transpose_42 (Conv1DT (None, 100, 1)            97        \n",
      "_________________________________________________________________\n",
      "distribution_lambda_9 (Distr multiple                  0         \n",
      "=================================================================\n",
      "Total params: 63,401\n",
      "Trainable params: 63,401\n",
      "Non-trainable params: 0\n",
      "_________________________________________________________________\n"
     ]
    }
   ],
   "source": [
    "def get_probabilistic_decoder(latent_dim=32):\n",
    "  \"\"\" Creates a small convolutional decoder for the requested latent dimension\n",
    "  \"\"\"\n",
    "  return tf.keras.Sequential([\n",
    "      tfkl.Input(shape=(latent_dim,)),\n",
    "      tfkl.Dense(1000, activation=tf.nn.leaky_relu),\n",
    "      tfkl.Reshape((25, 40)),\n",
    "      tfkl.Conv1DTranspose(128, kernel_size=3, activation=tf.nn.leaky_relu, strides=2, padding='same'),\n",
    "      tfkl.Conv1DTranspose(64,  kernel_size=3, activation=tf.nn.leaky_relu, strides=1, padding='same'),\n",
    "      tfkl.Conv1DTranspose(32,  kernel_size=3, activation=tf.nn.leaky_relu, strides=2, padding='same'),\n",
    "      tfkl.Conv1DTranspose(1,   kernel_size=3, activation=tf.nn.softplus,   strides=1, padding='same'),\n",
    "      tfpl.DistributionLambda(lambda t: tfd.MultivariateNormalDiag(loc=t,\n",
    "                                                      scale_identity_multiplier=0.01))\n",
    "  ])\n",
    "\n",
    "\n",
    "# Let's instantiate the decoder\n",
    "prob_decoder = get_probabilistic_decoder(latent_dim=latent_dim)\n",
    "# And check its summary\n",
    "prob_decoder.summary()\n",
    "\n"
   ]
  },
  {
   "cell_type": "code",
   "execution_count": 22,
   "id": "7a050008",
   "metadata": {},
   "outputs": [
    {
     "ename": "NameError",
     "evalue": "name 'prob_encoder' is not defined",
     "output_type": "error",
     "traceback": [
      "\u001b[0;31m---------------------------------------------------------------------------\u001b[0m",
      "\u001b[0;31mNameError\u001b[0m                                 Traceback (most recent call last)",
      "\u001b[0;32m/tmp/ipykernel_695888/2469417103.py\u001b[0m in \u001b[0;36m<module>\u001b[0;34m\u001b[0m\n\u001b[1;32m      1\u001b[0m vae = tf.keras.Sequential([\n\u001b[1;32m      2\u001b[0m           \u001b[0mtfkl\u001b[0m\u001b[0;34m.\u001b[0m\u001b[0mInputLayer\u001b[0m\u001b[0;34m(\u001b[0m\u001b[0;34m[\u001b[0m\u001b[0;36m100\u001b[0m\u001b[0;34m,\u001b[0m\u001b[0;36m1\u001b[0m\u001b[0;34m]\u001b[0m\u001b[0;34m)\u001b[0m\u001b[0;34m,\u001b[0m\u001b[0;34m\u001b[0m\u001b[0;34m\u001b[0m\u001b[0m\n\u001b[0;32m----> 3\u001b[0;31m           \u001b[0mprob_encoder\u001b[0m\u001b[0;34m,\u001b[0m\u001b[0;34m\u001b[0m\u001b[0;34m\u001b[0m\u001b[0m\n\u001b[0m\u001b[1;32m      4\u001b[0m           prob_decoder])\n\u001b[1;32m      5\u001b[0m \u001b[0;34m\u001b[0m\u001b[0m\n",
      "\u001b[0;31mNameError\u001b[0m: name 'prob_encoder' is not defined"
     ]
    }
   ],
   "source": [
    "vae = tf.keras.Sequential([\n",
    "          tfkl.InputLayer([100,1]),\n",
    "          prob_encoder,\n",
    "          prob_decoder])\n",
    "\n"
   ]
  },
  {
   "cell_type": "code",
   "execution_count": 145,
   "id": "ba5e8506",
   "metadata": {},
   "outputs": [],
   "source": [
    "\n",
    "\n",
    "# We define the reconstruction loss as the negative log likelihood\n",
    "negloglik = lambda x, rv_x: -rv_x.log_prob(x)\n",
    "# And use it to compile the VAE\n",
    "sfr_and_images_model.compile(optimizer=tf.optimizers.Adam(learning_rate=1e-4),\n",
    "            loss=negloglik)\n",
    "\n"
   ]
  },
  {
   "cell_type": "code",
   "execution_count": 146,
   "id": "f94cf871",
   "metadata": {},
   "outputs": [],
   "source": [
    "checkpoint_filepath = '/tmp/checkpoint'\n",
    "model_checkpoint_callback = tf.keras.callbacks.ModelCheckpoint(\n",
    "    filepath=checkpoint_filepath,\n",
    "    save_weights_only=True,\n",
    "    monitor='val_loss',\n",
    "    mode='min',\n",
    "    save_best_only=True)"
   ]
  },
  {
   "cell_type": "code",
   "execution_count": 147,
   "id": "b4b16546",
   "metadata": {},
   "outputs": [
    {
     "name": "stdout",
     "output_type": "stream",
     "text": [
      "Epoch 1/500\n",
      "157/157 [==============================] - 11s 29ms/step - loss: 187467.8906 - val_loss: 162139.0312\n",
      "Epoch 2/500\n",
      "157/157 [==============================] - 9s 27ms/step - loss: 123117.7812 - val_loss: 131933.4688\n",
      "Epoch 3/500\n",
      "157/157 [==============================] - 8s 28ms/step - loss: 105611.4297 - val_loss: 122823.6641\n",
      "Epoch 4/500\n",
      "157/157 [==============================] - 8s 27ms/step - loss: 95209.0703 - val_loss: 117353.1250\n",
      "Epoch 5/500\n",
      "157/157 [==============================] - 8s 25ms/step - loss: 91700.5000 - val_loss: 116865.4219\n",
      "Epoch 6/500\n",
      "157/157 [==============================] - 8s 27ms/step - loss: 88227.9531 - val_loss: 117085.3438\n",
      "Epoch 7/500\n",
      "157/157 [==============================] - 8s 27ms/step - loss: 85056.3984 - val_loss: 110808.6172\n",
      "Epoch 8/500\n",
      "157/157 [==============================] - 8s 27ms/step - loss: 81874.5938 - val_loss: 107961.3594\n",
      "Epoch 9/500\n",
      "157/157 [==============================] - 8s 25ms/step - loss: 81196.2812 - val_loss: 106796.1875\n",
      "Epoch 10/500\n",
      "157/157 [==============================] - 10s 25ms/step - loss: 79947.6016 - val_loss: 102479.6719\n",
      "Epoch 11/500\n",
      "157/157 [==============================] - 8s 28ms/step - loss: 77321.9297 - val_loss: 106438.8047\n",
      "Epoch 12/500\n",
      "157/157 [==============================] - 8s 25ms/step - loss: 75075.1797 - val_loss: 99526.4766\n",
      "Epoch 13/500\n",
      "157/157 [==============================] - 8s 27ms/step - loss: 73308.8828 - val_loss: 100152.4688\n",
      "Epoch 14/500\n",
      "157/157 [==============================] - 8s 25ms/step - loss: 69598.6250 - val_loss: 94155.4297\n",
      "Epoch 15/500\n",
      "157/157 [==============================] - 10s 28ms/step - loss: 68423.4219 - val_loss: 91468.9766\n",
      "Epoch 16/500\n",
      "157/157 [==============================] - 8s 27ms/step - loss: 66205.1250 - val_loss: 90728.2109\n",
      "Epoch 17/500\n",
      "157/157 [==============================] - 8s 25ms/step - loss: 64116.0938 - val_loss: 95555.7422\n",
      "Epoch 18/500\n",
      "157/157 [==============================] - 8s 27ms/step - loss: 64450.2539 - val_loss: 94096.1641\n",
      "Epoch 19/500\n",
      "157/157 [==============================] - 8s 27ms/step - loss: 65204.4062 - val_loss: 85664.3828\n",
      "Epoch 20/500\n",
      "157/157 [==============================] - 8s 28ms/step - loss: 58753.6367 - val_loss: 83415.7344\n",
      "Epoch 21/500\n",
      "157/157 [==============================] - 10s 28ms/step - loss: 57739.7891 - val_loss: 86392.4141\n",
      "Epoch 22/500\n",
      "157/157 [==============================] - 8s 27ms/step - loss: 56470.1094 - val_loss: 81274.2656\n",
      "Epoch 23/500\n",
      "157/157 [==============================] - 9s 27ms/step - loss: 54685.5664 - val_loss: 81122.9297\n",
      "Epoch 24/500\n",
      "157/157 [==============================] - 8s 27ms/step - loss: 53610.5078 - val_loss: 79823.5547\n",
      "Epoch 25/500\n",
      "157/157 [==============================] - 8s 24ms/step - loss: 51972.0195 - val_loss: 81000.4688\n",
      "Epoch 26/500\n",
      "157/157 [==============================] - 8s 24ms/step - loss: 53410.2266 - val_loss: 79922.3438\n",
      "Epoch 27/500\n",
      "157/157 [==============================] - 8s 28ms/step - loss: 50734.7500 - val_loss: 80449.1016\n",
      "Epoch 28/500\n",
      "157/157 [==============================] - 10s 27ms/step - loss: 51559.7500 - val_loss: 77770.1328\n",
      "Epoch 29/500\n",
      "157/157 [==============================] - 10s 27ms/step - loss: 52289.1328 - val_loss: 79558.6641\n",
      "Epoch 30/500\n",
      "157/157 [==============================] - 8s 27ms/step - loss: 48405.9375 - val_loss: 78299.4062\n",
      "Epoch 31/500\n",
      "157/157 [==============================] - 8s 28ms/step - loss: 47060.9844 - val_loss: 75497.2734\n",
      "Epoch 32/500\n",
      "157/157 [==============================] - 8s 28ms/step - loss: 44968.3008 - val_loss: 76860.3984\n",
      "Epoch 33/500\n",
      "157/157 [==============================] - 8s 28ms/step - loss: 45717.5273 - val_loss: 77379.2734\n",
      "Epoch 34/500\n",
      "157/157 [==============================] - 8s 28ms/step - loss: 45991.7852 - val_loss: 74788.6094\n",
      "Epoch 35/500\n",
      "157/157 [==============================] - 10s 27ms/step - loss: 46178.2773 - val_loss: 77500.4219\n",
      "Epoch 36/500\n",
      "157/157 [==============================] - 8s 25ms/step - loss: 46250.8750 - val_loss: 76469.4453\n",
      "Epoch 37/500\n",
      "157/157 [==============================] - 8s 28ms/step - loss: 47050.1055 - val_loss: 75099.9922\n",
      "Epoch 38/500\n",
      "157/157 [==============================] - 8s 25ms/step - loss: 44068.8555 - val_loss: 78164.6719\n",
      "Epoch 39/500\n",
      "157/157 [==============================] - 10s 27ms/step - loss: 42934.5234 - val_loss: 74084.2656\n",
      "Epoch 40/500\n",
      "157/157 [==============================] - 9s 27ms/step - loss: 40281.7422 - val_loss: 73499.4844\n",
      "Epoch 41/500\n",
      "157/157 [==============================] - 8s 28ms/step - loss: 39619.3086 - val_loss: 70926.9375\n",
      "Epoch 42/500\n",
      "157/157 [==============================] - 8s 27ms/step - loss: 39690.7578 - val_loss: 73016.4844\n",
      "Epoch 43/500\n",
      "157/157 [==============================] - 8s 25ms/step - loss: 39779.4961 - val_loss: 72782.3594\n",
      "Epoch 44/500\n",
      "157/157 [==============================] - 8s 28ms/step - loss: 38965.0781 - val_loss: 72798.9141\n",
      "Epoch 45/500\n",
      "157/157 [==============================] - 8s 25ms/step - loss: 38092.3828 - val_loss: 70151.5781\n",
      "Epoch 46/500\n",
      "157/157 [==============================] - 8s 26ms/step - loss: 38028.7656 - val_loss: 70112.1797\n",
      "Epoch 47/500\n",
      "157/157 [==============================] - 9s 28ms/step - loss: 38098.2812 - val_loss: 72997.8438\n",
      "Epoch 48/500\n",
      "157/157 [==============================] - 8s 27ms/step - loss: 37097.4531 - val_loss: 70442.4609\n",
      "Epoch 49/500\n",
      "157/157 [==============================] - 8s 25ms/step - loss: 36303.2852 - val_loss: 72291.5469\n",
      "Epoch 50/500\n",
      "157/157 [==============================] - 8s 27ms/step - loss: 36216.2148 - val_loss: 68327.3672\n",
      "Epoch 51/500\n",
      "157/157 [==============================] - 8s 27ms/step - loss: 35207.9375 - val_loss: 67937.7656\n",
      "Epoch 52/500\n",
      "157/157 [==============================] - 8s 25ms/step - loss: 33416.5898 - val_loss: 67564.2734\n",
      "Epoch 53/500\n",
      "157/157 [==============================] - 9s 27ms/step - loss: 35564.3867 - val_loss: 71331.4531\n",
      "Epoch 54/500\n",
      "157/157 [==============================] - 8s 25ms/step - loss: 34163.7656 - val_loss: 65002.7109\n",
      "Epoch 55/500\n",
      "157/157 [==============================] - 9s 27ms/step - loss: 32433.0918 - val_loss: 65873.0469\n",
      "Epoch 56/500\n",
      "157/157 [==============================] - 8s 25ms/step - loss: 34038.1445 - val_loss: 68748.9297\n",
      "Epoch 57/500\n",
      "157/157 [==============================] - 9s 27ms/step - loss: 33373.2734 - val_loss: 66172.9453\n",
      "Epoch 58/500\n",
      "157/157 [==============================] - 8s 25ms/step - loss: 32513.6270 - val_loss: 68604.0859\n",
      "Epoch 59/500\n",
      "157/157 [==============================] - 8s 27ms/step - loss: 32595.3320 - val_loss: 65865.9531\n",
      "Epoch 60/500\n",
      "157/157 [==============================] - 10s 25ms/step - loss: 31959.7227 - val_loss: 67047.0078\n",
      "Epoch 61/500\n",
      "157/157 [==============================] - 8s 27ms/step - loss: 32157.9004 - val_loss: 67141.4141\n",
      "Epoch 62/500\n",
      "157/157 [==============================] - 8s 27ms/step - loss: 30606.3730 - val_loss: 62885.7383\n",
      "Epoch 63/500\n",
      "157/157 [==============================] - 8s 24ms/step - loss: 28985.6562 - val_loss: 63568.3125\n",
      "Epoch 64/500\n",
      "157/157 [==============================] - 8s 28ms/step - loss: 28854.1113 - val_loss: 62897.4023\n",
      "Epoch 65/500\n",
      "157/157 [==============================] - 8s 27ms/step - loss: 28561.4648 - val_loss: 67234.4219\n",
      "Epoch 66/500\n",
      "157/157 [==============================] - 8s 27ms/step - loss: 28947.4453 - val_loss: 61638.2227\n",
      "Epoch 67/500\n",
      "157/157 [==============================] - 8s 25ms/step - loss: 29049.2871 - val_loss: 66803.1016\n",
      "Epoch 68/500\n",
      "157/157 [==============================] - 8s 25ms/step - loss: 29839.8750 - val_loss: 63588.1719\n",
      "Epoch 69/500\n",
      "157/157 [==============================] - 8s 27ms/step - loss: 28777.8145 - val_loss: 62189.9609\n",
      "Epoch 70/500\n",
      "157/157 [==============================] - 10s 27ms/step - loss: 28393.8379 - val_loss: 63055.3672\n",
      "Epoch 71/500\n",
      "157/157 [==============================] - 8s 27ms/step - loss: 27703.9551 - val_loss: 65401.7383\n",
      "Epoch 72/500\n",
      "157/157 [==============================] - 9s 27ms/step - loss: 28766.9141 - val_loss: 61500.8281\n",
      "Epoch 73/500\n",
      "157/157 [==============================] - 8s 27ms/step - loss: 26725.1309 - val_loss: 60416.7188\n",
      "Epoch 74/500\n",
      "157/157 [==============================] - 8s 27ms/step - loss: 27418.6934 - val_loss: 60942.7812\n",
      "Epoch 75/500\n",
      "157/157 [==============================] - 8s 27ms/step - loss: 26535.8359 - val_loss: 61184.4570\n",
      "Epoch 76/500\n",
      "157/157 [==============================] - 8s 27ms/step - loss: 26628.8809 - val_loss: 57316.4727\n",
      "Epoch 77/500\n",
      "157/157 [==============================] - 8s 27ms/step - loss: 25220.2109 - val_loss: 58894.5430\n",
      "Epoch 78/500\n",
      "157/157 [==============================] - 10s 27ms/step - loss: 25179.5566 - val_loss: 58355.1406\n",
      "Epoch 79/500\n",
      "157/157 [==============================] - 8s 27ms/step - loss: 24843.6387 - val_loss: 58696.5977\n",
      "Epoch 80/500\n",
      "157/157 [==============================] - 8s 27ms/step - loss: 24499.8770 - val_loss: 58362.5703\n",
      "Epoch 81/500\n",
      "157/157 [==============================] - 10s 28ms/step - loss: 24997.6133 - val_loss: 58035.6680\n",
      "Epoch 82/500\n",
      "157/157 [==============================] - 8s 27ms/step - loss: 23689.6562 - val_loss: 59684.6211\n",
      "Epoch 83/500\n",
      "157/157 [==============================] - 8s 27ms/step - loss: 23592.8262 - val_loss: 58049.2773\n",
      "Epoch 84/500\n",
      "157/157 [==============================] - 8s 27ms/step - loss: 24500.5000 - val_loss: 58538.8086\n",
      "Epoch 85/500\n",
      "157/157 [==============================] - 8s 27ms/step - loss: 24943.0156 - val_loss: 59795.6719\n",
      "Epoch 86/500\n",
      "157/157 [==============================] - 8s 27ms/step - loss: 26246.2207 - val_loss: 59437.4375\n",
      "Epoch 87/500\n",
      "157/157 [==============================] - 8s 27ms/step - loss: 25052.4961 - val_loss: 57717.0703\n",
      "Epoch 88/500\n",
      "157/157 [==============================] - 9s 27ms/step - loss: 24782.6348 - val_loss: 55844.3711\n",
      "Epoch 89/500\n",
      "157/157 [==============================] - 8s 28ms/step - loss: 23705.2578 - val_loss: 57858.8281\n",
      "Epoch 90/500\n",
      "157/157 [==============================] - 8s 27ms/step - loss: 22320.1953 - val_loss: 54068.8320\n",
      "Epoch 91/500\n",
      "157/157 [==============================] - 8s 27ms/step - loss: 22031.1953 - val_loss: 55286.6211\n",
      "Epoch 92/500\n",
      "157/157 [==============================] - 8s 27ms/step - loss: 23021.6426 - val_loss: 55026.0820\n",
      "Epoch 93/500\n",
      "157/157 [==============================] - 10s 27ms/step - loss: 21879.9434 - val_loss: 55127.2891\n",
      "Epoch 94/500\n",
      "157/157 [==============================] - 8s 25ms/step - loss: 21642.6797 - val_loss: 55629.5273\n",
      "Epoch 95/500\n",
      "157/157 [==============================] - 10s 25ms/step - loss: 21755.5469 - val_loss: 56624.7305\n",
      "Epoch 96/500\n",
      "157/157 [==============================] - 8s 28ms/step - loss: 21779.0234 - val_loss: 53180.2891\n",
      "Epoch 97/500\n",
      "157/157 [==============================] - 8s 27ms/step - loss: 21604.1562 - val_loss: 54248.7422\n",
      "Epoch 98/500\n",
      "157/157 [==============================] - 9s 28ms/step - loss: 20992.8262 - val_loss: 52626.2578\n",
      "Epoch 99/500\n",
      "157/157 [==============================] - 8s 25ms/step - loss: 21625.6758 - val_loss: 54189.3398\n",
      "Epoch 100/500\n",
      "157/157 [==============================] - 8s 25ms/step - loss: 22984.6719 - val_loss: 52798.6250\n",
      "Epoch 101/500\n",
      "157/157 [==============================] - 10s 27ms/step - loss: 22619.5039 - val_loss: 55112.6719\n",
      "Epoch 102/500\n",
      "157/157 [==============================] - 8s 27ms/step - loss: 22144.8984 - val_loss: 59018.6875\n",
      "Epoch 103/500\n",
      "157/157 [==============================] - 8s 27ms/step - loss: 22296.4023 - val_loss: 55064.6523\n",
      "Epoch 104/500\n",
      "157/157 [==============================] - 9s 27ms/step - loss: 21684.1172 - val_loss: 56414.8086\n",
      "Epoch 105/500\n",
      "157/157 [==============================] - 8s 27ms/step - loss: 22014.1465 - val_loss: 56766.6289\n",
      "Epoch 106/500\n",
      "157/157 [==============================] - 8s 27ms/step - loss: 22146.9219 - val_loss: 54170.8906\n",
      "Epoch 107/500\n",
      "157/157 [==============================] - 8s 27ms/step - loss: 21914.9629 - val_loss: 54600.9219\n",
      "Epoch 108/500\n",
      "157/157 [==============================] - 8s 25ms/step - loss: 20937.2207 - val_loss: 51259.9570\n",
      "Epoch 109/500\n",
      "157/157 [==============================] - 8s 28ms/step - loss: 19793.9414 - val_loss: 53058.2695\n",
      "Epoch 110/500\n",
      "157/157 [==============================] - 8s 27ms/step - loss: 19269.6855 - val_loss: 52345.5742\n",
      "Epoch 111/500\n",
      "157/157 [==============================] - 8s 25ms/step - loss: 18859.1914 - val_loss: 51441.3164\n",
      "Epoch 112/500\n",
      "157/157 [==============================] - 8s 28ms/step - loss: 18919.7969 - val_loss: 50590.5156\n",
      "Epoch 113/500\n",
      "157/157 [==============================] - 8s 27ms/step - loss: 18032.3438 - val_loss: 51520.5391\n",
      "Epoch 114/500\n",
      "157/157 [==============================] - 8s 27ms/step - loss: 18606.4355 - val_loss: 50032.8398\n",
      "Epoch 115/500\n",
      "157/157 [==============================] - 8s 28ms/step - loss: 18832.0605 - val_loss: 52246.8828\n",
      "Epoch 116/500\n",
      "157/157 [==============================] - 8s 27ms/step - loss: 18093.0469 - val_loss: 50654.6328\n",
      "Epoch 117/500\n",
      "157/157 [==============================] - 8s 28ms/step - loss: 18329.8770 - val_loss: 51256.5625\n",
      "Epoch 118/500\n",
      "157/157 [==============================] - 10s 28ms/step - loss: 19123.9004 - val_loss: 51824.8398\n",
      "Epoch 119/500\n",
      "157/157 [==============================] - 8s 27ms/step - loss: 19616.9883 - val_loss: 51430.4297\n",
      "Epoch 120/500\n",
      "157/157 [==============================] - 8s 27ms/step - loss: 19097.2363 - val_loss: 54416.4492\n",
      "Epoch 121/500\n",
      "157/157 [==============================] - 10s 28ms/step - loss: 19900.8828 - val_loss: 50479.9336\n",
      "Epoch 122/500\n",
      "157/157 [==============================] - 10s 27ms/step - loss: 19158.0293 - val_loss: 53072.8125\n",
      "Epoch 123/500\n",
      "157/157 [==============================] - 8s 28ms/step - loss: 18185.3203 - val_loss: 50039.3789\n",
      "Epoch 124/500\n",
      "157/157 [==============================] - 8s 25ms/step - loss: 17987.2500 - val_loss: 50521.6172\n",
      "Epoch 125/500\n",
      "157/157 [==============================] - 8s 24ms/step - loss: 17316.5078 - val_loss: 49722.7812\n",
      "Epoch 126/500\n",
      "157/157 [==============================] - 8s 28ms/step - loss: 17718.9492 - val_loss: 51250.0703\n",
      "Epoch 127/500\n",
      "157/157 [==============================] - 9s 27ms/step - loss: 17655.3750 - val_loss: 49748.8711\n",
      "Epoch 128/500\n",
      "157/157 [==============================] - 8s 27ms/step - loss: 17071.8691 - val_loss: 47536.2578\n",
      "Epoch 129/500\n",
      "157/157 [==============================] - 8s 28ms/step - loss: 17218.4395 - val_loss: 49142.7578\n",
      "Epoch 130/500\n",
      "157/157 [==============================] - 8s 28ms/step - loss: 17378.4043 - val_loss: 47903.9688\n",
      "Epoch 131/500\n",
      "157/157 [==============================] - 8s 25ms/step - loss: 16890.9707 - val_loss: 49987.5078\n",
      "Epoch 132/500\n",
      "157/157 [==============================] - 8s 27ms/step - loss: 16771.1074 - val_loss: 48865.6680\n",
      "Epoch 133/500\n",
      "157/157 [==============================] - 8s 28ms/step - loss: 16099.5146 - val_loss: 48230.9375\n",
      "Epoch 134/500\n",
      "157/157 [==============================] - 8s 25ms/step - loss: 16339.7930 - val_loss: 48600.2930\n",
      "Epoch 135/500\n",
      "157/157 [==============================] - 8s 25ms/step - loss: 16554.3672 - val_loss: 48371.2305\n",
      "Epoch 136/500\n",
      "157/157 [==============================] - 8s 27ms/step - loss: 17609.9746 - val_loss: 60357.0000\n",
      "Epoch 137/500\n",
      "157/157 [==============================] - 8s 28ms/step - loss: 18058.6270 - val_loss: 51104.4180\n",
      "Epoch 138/500\n",
      "157/157 [==============================] - 8s 25ms/step - loss: 17121.3066 - val_loss: 49011.4609\n",
      "Epoch 139/500\n",
      "157/157 [==============================] - 10s 27ms/step - loss: 16980.1172 - val_loss: 50871.3281\n",
      "Epoch 140/500\n",
      "157/157 [==============================] - 8s 27ms/step - loss: 16999.4824 - val_loss: 46749.6055\n",
      "Epoch 141/500\n",
      "157/157 [==============================] - 8s 28ms/step - loss: 15830.6465 - val_loss: 50860.8555\n",
      "Epoch 142/500\n",
      "157/157 [==============================] - 8s 27ms/step - loss: 16118.3730 - val_loss: 50420.5703\n",
      "Epoch 143/500\n",
      "157/157 [==============================] - 8s 27ms/step - loss: 15569.4014 - val_loss: 47300.4844\n",
      "Epoch 144/500\n",
      "157/157 [==============================] - 8s 25ms/step - loss: 15774.2598 - val_loss: 49323.1328\n",
      "Epoch 145/500\n",
      "157/157 [==============================] - 8s 27ms/step - loss: 16028.8730 - val_loss: 49465.3750\n",
      "Epoch 146/500\n",
      "157/157 [==============================] - 8s 27ms/step - loss: 16274.9248 - val_loss: 50086.3867\n",
      "Epoch 147/500\n",
      "157/157 [==============================] - 8s 27ms/step - loss: 16405.0742 - val_loss: 50318.9961\n",
      "Epoch 148/500\n",
      "157/157 [==============================] - 8s 28ms/step - loss: 15305.2373 - val_loss: 47524.9062\n",
      "Epoch 149/500\n",
      "157/157 [==============================] - 8s 28ms/step - loss: 15461.3467 - val_loss: 48230.4609\n",
      "Epoch 150/500\n",
      "157/157 [==============================] - 8s 28ms/step - loss: 15966.9170 - val_loss: 48914.6836\n",
      "Epoch 151/500\n",
      "157/157 [==============================] - 8s 28ms/step - loss: 15495.6367 - val_loss: 48221.1875\n",
      "Epoch 152/500\n",
      "157/157 [==============================] - 8s 27ms/step - loss: 14485.3389 - val_loss: 46884.9570\n",
      "Epoch 153/500\n",
      "157/157 [==============================] - 8s 27ms/step - loss: 14301.3135 - val_loss: 47230.9531\n",
      "Epoch 154/500\n",
      "157/157 [==============================] - 8s 25ms/step - loss: 15333.5527 - val_loss: 47079.2031\n",
      "Epoch 155/500\n",
      "157/157 [==============================] - 8s 27ms/step - loss: 15858.9570 - val_loss: 48426.0156\n",
      "Epoch 156/500\n",
      "157/157 [==============================] - 8s 27ms/step - loss: 15155.2725 - val_loss: 49421.3320\n",
      "Epoch 157/500\n",
      "157/157 [==============================] - 10s 28ms/step - loss: 15650.9111 - val_loss: 47646.5273\n",
      "Epoch 158/500\n",
      "157/157 [==============================] - 8s 27ms/step - loss: 15035.7646 - val_loss: 49357.4180\n",
      "Epoch 159/500\n",
      "157/157 [==============================] - 8s 27ms/step - loss: 14818.9648 - val_loss: 48305.8867\n",
      "Epoch 160/500\n",
      "157/157 [==============================] - 8s 27ms/step - loss: 14257.4844 - val_loss: 46329.7422\n",
      "Epoch 161/500\n",
      "157/157 [==============================] - 8s 27ms/step - loss: 14217.9824 - val_loss: 47670.3750\n",
      "Epoch 162/500\n",
      "157/157 [==============================] - 10s 27ms/step - loss: 14094.1484 - val_loss: 49085.3086\n",
      "Epoch 163/500\n",
      "157/157 [==============================] - 8s 27ms/step - loss: 14454.2070 - val_loss: 46879.3594\n",
      "Epoch 164/500\n",
      "157/157 [==============================] - 8s 27ms/step - loss: 14439.7979 - val_loss: 48432.2227\n",
      "Epoch 165/500\n",
      "157/157 [==============================] - 10s 27ms/step - loss: 14621.0967 - val_loss: 49086.3242\n",
      "Epoch 166/500\n",
      "157/157 [==============================] - 8s 27ms/step - loss: 14554.9746 - val_loss: 50081.8008\n",
      "Epoch 167/500\n",
      "157/157 [==============================] - 8s 27ms/step - loss: 14310.5303 - val_loss: 47803.4297\n",
      "Epoch 168/500\n",
      "157/157 [==============================] - 9s 28ms/step - loss: 14076.2910 - val_loss: 45287.0742\n",
      "Epoch 169/500\n",
      "157/157 [==============================] - 8s 28ms/step - loss: 14289.1699 - val_loss: 45943.0352\n",
      "Epoch 170/500\n",
      "157/157 [==============================] - 8s 28ms/step - loss: 14588.3467 - val_loss: 45802.2070\n",
      "Epoch 171/500\n",
      "157/157 [==============================] - 8s 28ms/step - loss: 14078.4727 - val_loss: 48760.6875\n",
      "Epoch 172/500\n",
      "157/157 [==============================] - 8s 28ms/step - loss: 14144.3252 - val_loss: 46165.5977\n",
      "Epoch 173/500\n",
      "157/157 [==============================] - 8s 27ms/step - loss: 15117.0938 - val_loss: 46707.1445\n",
      "Epoch 174/500\n",
      "157/157 [==============================] - 8s 27ms/step - loss: 13434.5449 - val_loss: 48484.1680\n",
      "Epoch 175/500\n",
      "157/157 [==============================] - 8s 28ms/step - loss: 12859.1934 - val_loss: 47506.6289\n",
      "Epoch 176/500\n",
      "157/157 [==============================] - 9s 27ms/step - loss: 12750.2549 - val_loss: 45447.4688\n",
      "Epoch 177/500\n",
      "157/157 [==============================] - 8s 27ms/step - loss: 12738.7129 - val_loss: 47601.2070\n",
      "Epoch 178/500\n",
      "157/157 [==============================] - 8s 28ms/step - loss: 13100.0615 - val_loss: 48272.4453\n",
      "Epoch 179/500\n",
      "157/157 [==============================] - 8s 27ms/step - loss: 13669.6592 - val_loss: 49688.9102\n",
      "Epoch 180/500\n",
      "157/157 [==============================] - 8s 25ms/step - loss: 13580.5801 - val_loss: 44340.6680\n",
      "Epoch 181/500\n",
      "157/157 [==============================] - 8s 27ms/step - loss: 13327.6230 - val_loss: 48548.8555\n",
      "Epoch 182/500\n",
      "157/157 [==============================] - 8s 25ms/step - loss: 13105.5137 - val_loss: 47473.8086\n",
      "Epoch 183/500\n",
      "157/157 [==============================] - 8s 27ms/step - loss: 13243.6055 - val_loss: 47439.1602\n",
      "Epoch 184/500\n",
      "157/157 [==============================] - 8s 27ms/step - loss: 13463.2002 - val_loss: 48631.5156\n",
      "Epoch 185/500\n",
      "157/157 [==============================] - 8s 27ms/step - loss: 13262.0322 - val_loss: 49272.3672\n",
      "Epoch 186/500\n",
      "157/157 [==============================] - 8s 25ms/step - loss: 12884.2363 - val_loss: 45609.6172\n",
      "Epoch 187/500\n",
      "157/157 [==============================] - 8s 28ms/step - loss: 12269.9385 - val_loss: 45487.7070\n",
      "Epoch 188/500\n",
      "157/157 [==============================] - 8s 27ms/step - loss: 12280.8887 - val_loss: 45881.8867\n",
      "Epoch 189/500\n",
      "157/157 [==============================] - 8s 25ms/step - loss: 12635.1133 - val_loss: 46989.0781\n",
      "Epoch 190/500\n",
      "157/157 [==============================] - 8s 27ms/step - loss: 12582.8340 - val_loss: 45417.4180\n",
      "Epoch 191/500\n",
      "157/157 [==============================] - 8s 25ms/step - loss: 12169.0322 - val_loss: 46859.0586\n",
      "Epoch 192/500\n",
      "157/157 [==============================] - 10s 28ms/step - loss: 13327.3857 - val_loss: 46168.2656\n",
      "Epoch 193/500\n",
      "157/157 [==============================] - 10s 27ms/step - loss: 13367.4297 - val_loss: 45530.9648\n",
      "Epoch 194/500\n",
      "157/157 [==============================] - 8s 26ms/step - loss: 13018.4355 - val_loss: 44851.8047\n",
      "Epoch 195/500\n",
      "157/157 [==============================] - 10s 27ms/step - loss: 12358.4365 - val_loss: 45908.2812\n",
      "Epoch 196/500\n",
      "157/157 [==============================] - 10s 27ms/step - loss: 11542.0195 - val_loss: 46308.6875\n",
      "Epoch 197/500\n",
      "157/157 [==============================] - 8s 25ms/step - loss: 11720.8477 - val_loss: 45308.8398\n",
      "Epoch 198/500\n",
      "157/157 [==============================] - 8s 25ms/step - loss: 11549.6533 - val_loss: 45552.2773\n",
      "Epoch 199/500\n",
      "157/157 [==============================] - 8s 25ms/step - loss: 12252.0273 - val_loss: 46732.7188\n",
      "Epoch 200/500\n",
      "157/157 [==============================] - 8s 24ms/step - loss: 12616.4482 - val_loss: 48472.9922\n",
      "Epoch 201/500\n",
      "157/157 [==============================] - 8s 25ms/step - loss: 12863.2070 - val_loss: 46335.4258\n",
      "Epoch 202/500\n",
      "157/157 [==============================] - 8s 25ms/step - loss: 13291.1348 - val_loss: 46473.0234\n",
      "Epoch 203/500\n",
      "157/157 [==============================] - 8s 27ms/step - loss: 12523.9072 - val_loss: 45813.7891\n",
      "Epoch 204/500\n",
      "157/157 [==============================] - 8s 27ms/step - loss: 12289.5137 - val_loss: 46387.5859\n",
      "Epoch 205/500\n",
      "157/157 [==============================] - 10s 27ms/step - loss: 11638.6914 - val_loss: 45185.1445\n",
      "Epoch 206/500\n",
      "157/157 [==============================] - 8s 25ms/step - loss: 11135.3574 - val_loss: 45694.3828\n",
      "Epoch 207/500\n",
      "157/157 [==============================] - 10s 25ms/step - loss: 10942.1982 - val_loss: 46026.1836\n",
      "Epoch 208/500\n",
      "157/157 [==============================] - 8s 28ms/step - loss: 10972.4561 - val_loss: 46034.1250\n",
      "Epoch 209/500\n",
      "157/157 [==============================] - 10s 27ms/step - loss: 10837.8555 - val_loss: 44523.2656\n",
      "Epoch 210/500\n",
      "157/157 [==============================] - 8s 27ms/step - loss: 11099.1846 - val_loss: 45911.4805\n",
      "Epoch 211/500\n",
      "157/157 [==============================] - 8s 27ms/step - loss: 11470.0176 - val_loss: 47040.5391\n",
      "Epoch 212/500\n",
      "157/157 [==============================] - 8s 27ms/step - loss: 13307.3838 - val_loss: 45710.0117\n",
      "Epoch 213/500\n",
      "157/157 [==============================] - 8s 25ms/step - loss: 14658.1465 - val_loss: 44339.5508\n",
      "Epoch 214/500\n",
      "157/157 [==============================] - 8s 25ms/step - loss: 11681.7422 - val_loss: 44606.7500\n",
      "Epoch 215/500\n",
      "157/157 [==============================] - 8s 28ms/step - loss: 11353.5850 - val_loss: 44577.0195\n",
      "Epoch 216/500\n",
      "157/157 [==============================] - 8s 28ms/step - loss: 10666.4277 - val_loss: 45375.8203\n",
      "Epoch 217/500\n",
      "157/157 [==============================] - 10s 28ms/step - loss: 10958.5029 - val_loss: 45442.6250\n",
      "Epoch 218/500\n",
      "157/157 [==============================] - 9s 28ms/step - loss: 10965.5566 - val_loss: 45017.7188\n",
      "Epoch 219/500\n",
      "157/157 [==============================] - 8s 28ms/step - loss: 10740.4893 - val_loss: 44580.1445\n",
      "Epoch 220/500\n",
      "157/157 [==============================] - 8s 28ms/step - loss: 10645.6445 - val_loss: 45700.0977\n",
      "Epoch 221/500\n",
      "157/157 [==============================] - 8s 28ms/step - loss: 10670.8545 - val_loss: 45416.9453\n",
      "Epoch 222/500\n",
      "157/157 [==============================] - 8s 27ms/step - loss: 10931.2266 - val_loss: 44486.6484\n",
      "Epoch 223/500\n",
      "157/157 [==============================] - 10s 28ms/step - loss: 10564.6660 - val_loss: 45500.0156\n",
      "Epoch 224/500\n",
      "157/157 [==============================] - 8s 27ms/step - loss: 10916.4062 - val_loss: 44015.5586\n",
      "Epoch 225/500\n",
      "157/157 [==============================] - 8s 28ms/step - loss: 11360.4688 - val_loss: 45689.9375\n",
      "Epoch 226/500\n",
      "157/157 [==============================] - 8s 25ms/step - loss: 10866.6660 - val_loss: 44842.5664\n",
      "Epoch 227/500\n",
      "157/157 [==============================] - 8s 27ms/step - loss: 11002.2822 - val_loss: 43423.3867\n",
      "Epoch 228/500\n",
      "157/157 [==============================] - 10s 27ms/step - loss: 10493.4092 - val_loss: 44904.2930\n",
      "Epoch 229/500\n",
      "157/157 [==============================] - 8s 27ms/step - loss: 10372.4326 - val_loss: 43904.0000\n",
      "Epoch 230/500\n",
      "157/157 [==============================] - 8s 27ms/step - loss: 10576.6992 - val_loss: 45460.3906\n",
      "Epoch 231/500\n",
      "157/157 [==============================] - 8s 25ms/step - loss: 10932.5088 - val_loss: 47662.4727\n",
      "Epoch 232/500\n",
      "157/157 [==============================] - 10s 27ms/step - loss: 10729.1504 - val_loss: 44587.1562\n",
      "Epoch 233/500\n",
      "157/157 [==============================] - 8s 28ms/step - loss: 10487.4092 - val_loss: 43810.2617\n",
      "Epoch 234/500\n",
      "157/157 [==============================] - 8s 25ms/step - loss: 10117.1650 - val_loss: 45463.0312\n",
      "Epoch 235/500\n",
      "157/157 [==============================] - 8s 27ms/step - loss: 10163.5527 - val_loss: 46811.3398\n",
      "Epoch 236/500\n",
      "157/157 [==============================] - 8s 27ms/step - loss: 11497.2988 - val_loss: 44688.3711\n",
      "Epoch 237/500\n",
      "157/157 [==============================] - 8s 24ms/step - loss: 10493.1543 - val_loss: 45576.4375\n",
      "Epoch 238/500\n",
      "157/157 [==============================] - 8s 28ms/step - loss: 10166.7539 - val_loss: 44269.5430\n",
      "Epoch 239/500\n",
      "157/157 [==============================] - 8s 25ms/step - loss: 11179.5918 - val_loss: 44572.3828\n",
      "Epoch 240/500\n",
      "157/157 [==============================] - 8s 27ms/step - loss: 11357.9238 - val_loss: 51829.6328\n",
      "Epoch 241/500\n",
      "157/157 [==============================] - 8s 28ms/step - loss: 11548.0928 - val_loss: 43727.6758\n",
      "Epoch 242/500\n",
      "157/157 [==============================] - 8s 27ms/step - loss: 10676.9785 - val_loss: 46771.2930\n",
      "Epoch 243/500\n",
      "157/157 [==============================] - 8s 28ms/step - loss: 9789.6299 - val_loss: 44024.0469\n",
      "Epoch 244/500\n",
      "157/157 [==============================] - 8s 25ms/step - loss: 9731.2725 - val_loss: 45363.6719\n",
      "Epoch 245/500\n",
      "157/157 [==============================] - 8s 27ms/step - loss: 10137.0371 - val_loss: 44187.5312\n",
      "Epoch 246/500\n",
      "157/157 [==============================] - 8s 25ms/step - loss: 10000.2051 - val_loss: 45856.7422\n",
      "Epoch 247/500\n",
      "157/157 [==============================] - 8s 25ms/step - loss: 10174.8799 - val_loss: 45304.7031\n",
      "Epoch 248/500\n",
      "157/157 [==============================] - 8s 27ms/step - loss: 10095.3359 - val_loss: 44448.2695\n",
      "Epoch 249/500\n",
      "157/157 [==============================] - 8s 27ms/step - loss: 9654.0762 - val_loss: 44588.8164\n",
      "Epoch 250/500\n",
      "157/157 [==============================] - 8s 28ms/step - loss: 9605.3369 - val_loss: 44467.1992\n",
      "Epoch 251/500\n",
      "157/157 [==============================] - 10s 27ms/step - loss: 9448.1172 - val_loss: 44324.0078\n",
      "Epoch 252/500\n",
      "157/157 [==============================] - 8s 27ms/step - loss: 9227.5586 - val_loss: 43631.9961\n",
      "Epoch 253/500\n",
      "157/157 [==============================] - 8s 25ms/step - loss: 9218.7607 - val_loss: 44053.2578\n",
      "Epoch 254/500\n",
      "157/157 [==============================] - 10s 25ms/step - loss: 9084.7773 - val_loss: 45998.8750\n",
      "Epoch 255/500\n",
      "157/157 [==============================] - 8s 27ms/step - loss: 9409.3564 - val_loss: 44798.7812\n",
      "Epoch 256/500\n",
      "157/157 [==============================] - 8s 26ms/step - loss: 9620.1992 - val_loss: 43134.5195\n",
      "Epoch 257/500\n",
      "157/157 [==============================] - 9s 27ms/step - loss: 9634.9775 - val_loss: 44098.3828\n",
      "Epoch 258/500\n",
      "157/157 [==============================] - 8s 27ms/step - loss: 10521.8496 - val_loss: 44578.5430\n",
      "Epoch 259/500\n",
      "157/157 [==============================] - 8s 27ms/step - loss: 9814.0391 - val_loss: 43300.5898\n",
      "Epoch 260/500\n",
      "157/157 [==============================] - 8s 28ms/step - loss: 9611.0020 - val_loss: 45915.8359\n",
      "Epoch 261/500\n",
      "157/157 [==============================] - 8s 28ms/step - loss: 9412.2852 - val_loss: 43740.1641\n",
      "Epoch 262/500\n",
      "157/157 [==============================] - 8s 27ms/step - loss: 9446.8057 - val_loss: 46438.4570\n",
      "Epoch 263/500\n",
      "157/157 [==============================] - 8s 27ms/step - loss: 9672.1621 - val_loss: 45550.0742\n",
      "Epoch 264/500\n",
      "157/157 [==============================] - 8s 27ms/step - loss: 9931.7266 - val_loss: 44944.6875\n",
      "Epoch 265/500\n",
      "157/157 [==============================] - 8s 27ms/step - loss: 9398.9102 - val_loss: 44585.8320\n",
      "Epoch 266/500\n",
      "157/157 [==============================] - 10s 25ms/step - loss: 9443.1172 - val_loss: 43219.0820\n",
      "Epoch 267/500\n",
      "157/157 [==============================] - 8s 28ms/step - loss: 9237.3467 - val_loss: 45219.1562\n",
      "Epoch 268/500\n",
      "157/157 [==============================] - 8s 27ms/step - loss: 9269.7188 - val_loss: 42948.3242\n",
      "Epoch 269/500\n",
      "157/157 [==============================] - 8s 27ms/step - loss: 8858.3330 - val_loss: 43178.5938\n",
      "Epoch 270/500\n",
      "157/157 [==============================] - 9s 27ms/step - loss: 9111.7480 - val_loss: 44084.7930\n",
      "Epoch 271/500\n",
      "157/157 [==============================] - 8s 27ms/step - loss: 9056.2236 - val_loss: 46720.5273\n",
      "Epoch 272/500\n",
      "157/157 [==============================] - 8s 28ms/step - loss: 8908.3691 - val_loss: 46575.0781\n",
      "Epoch 273/500\n",
      "157/157 [==============================] - 9s 28ms/step - loss: 9585.6377 - val_loss: 44348.5430\n",
      "Epoch 274/500\n",
      "157/157 [==============================] - 8s 27ms/step - loss: 9036.9658 - val_loss: 44174.9180\n",
      "Epoch 275/500\n",
      "157/157 [==============================] - 8s 27ms/step - loss: 8744.9609 - val_loss: 44820.5234\n",
      "Epoch 276/500\n",
      "157/157 [==============================] - 8s 27ms/step - loss: 9488.2100 - val_loss: 44259.9258\n",
      "Epoch 277/500\n",
      "157/157 [==============================] - 8s 24ms/step - loss: 9939.3564 - val_loss: 47970.5312\n",
      "Epoch 278/500\n",
      "157/157 [==============================] - 8s 27ms/step - loss: 10154.4512 - val_loss: 43550.9219\n",
      "Epoch 279/500\n",
      "157/157 [==============================] - 8s 27ms/step - loss: 9594.0596 - val_loss: 44797.0820\n",
      "Epoch 280/500\n",
      "157/157 [==============================] - 8s 27ms/step - loss: 9045.3340 - val_loss: 43696.6328\n",
      "Epoch 281/500\n",
      "157/157 [==============================] - 10s 27ms/step - loss: 8991.3984 - val_loss: 43950.3086\n",
      "Epoch 282/500\n",
      "157/157 [==============================] - 8s 27ms/step - loss: 8997.3096 - val_loss: 44912.9219\n",
      "Epoch 283/500\n",
      "157/157 [==============================] - 9s 27ms/step - loss: 8436.0713 - val_loss: 43634.5352\n",
      "Epoch 284/500\n",
      "157/157 [==============================] - 9s 27ms/step - loss: 8350.9258 - val_loss: 44525.4922\n",
      "Epoch 285/500\n",
      "157/157 [==============================] - 9s 28ms/step - loss: 10545.9775 - val_loss: 44525.3867\n",
      "Epoch 286/500\n",
      "157/157 [==============================] - 9s 27ms/step - loss: 9640.1074 - val_loss: 44139.3320\n",
      "Epoch 287/500\n",
      "157/157 [==============================] - 8s 27ms/step - loss: 8793.5938 - val_loss: 43293.3320\n",
      "Epoch 288/500\n",
      "157/157 [==============================] - 10s 25ms/step - loss: 8469.1826 - val_loss: 44397.0625\n",
      "Epoch 289/500\n",
      "157/157 [==============================] - 8s 25ms/step - loss: 8171.9888 - val_loss: 43281.0742\n",
      "Epoch 290/500\n",
      "157/157 [==============================] - 8s 25ms/step - loss: 7976.6489 - val_loss: 44825.4570\n",
      "Epoch 291/500\n",
      "157/157 [==============================] - 8s 25ms/step - loss: 8360.9707 - val_loss: 44314.9727\n",
      "Epoch 292/500\n",
      "157/157 [==============================] - 8s 27ms/step - loss: 8232.7539 - val_loss: 45234.3516\n",
      "Epoch 293/500\n",
      "157/157 [==============================] - 10s 28ms/step - loss: 8530.5557 - val_loss: 43292.7227\n",
      "Epoch 294/500\n",
      "157/157 [==============================] - 10s 27ms/step - loss: 8428.7461 - val_loss: 46667.5039\n",
      "Epoch 295/500\n",
      "157/157 [==============================] - 8s 25ms/step - loss: 8635.1416 - val_loss: 44993.4727\n",
      "Epoch 296/500\n",
      "157/157 [==============================] - 8s 28ms/step - loss: 8885.9199 - val_loss: 45105.7930\n",
      "Epoch 297/500\n",
      "157/157 [==============================] - 8s 24ms/step - loss: 8799.1143 - val_loss: 47515.8672\n",
      "Epoch 298/500\n",
      "157/157 [==============================] - 8s 27ms/step - loss: 8355.8350 - val_loss: 45094.7227\n",
      "Epoch 299/500\n",
      "157/157 [==============================] - 10s 28ms/step - loss: 8950.8730 - val_loss: 44199.5547\n",
      "Epoch 300/500\n",
      "157/157 [==============================] - 7s 25ms/step - loss: 9011.1699 - val_loss: 43948.4180\n",
      "Epoch 301/500\n",
      "157/157 [==============================] - 9s 28ms/step - loss: 8583.1699 - val_loss: 44885.1680\n",
      "Epoch 302/500\n",
      "157/157 [==============================] - 8s 25ms/step - loss: 7905.0376 - val_loss: 44509.3867\n",
      "Epoch 303/500\n",
      "157/157 [==============================] - 9s 27ms/step - loss: 7586.2310 - val_loss: 44822.3125\n",
      "Epoch 304/500\n",
      "157/157 [==============================] - 8s 27ms/step - loss: 7858.8701 - val_loss: 44303.1875\n",
      "Epoch 305/500\n",
      "157/157 [==============================] - 8s 25ms/step - loss: 8075.9141 - val_loss: 46181.5039\n",
      "Epoch 306/500\n",
      "157/157 [==============================] - 8s 27ms/step - loss: 8946.6934 - val_loss: 44497.6719\n",
      "Epoch 307/500\n",
      "157/157 [==============================] - 8s 25ms/step - loss: 9061.7363 - val_loss: 45444.1562\n",
      "Epoch 308/500\n",
      "157/157 [==============================] - 8s 25ms/step - loss: 7976.7769 - val_loss: 44807.9570\n",
      "Epoch 309/500\n",
      "157/157 [==============================] - 8s 28ms/step - loss: 7987.5659 - val_loss: 44449.1797\n",
      "Epoch 310/500\n",
      "157/157 [==============================] - 10s 28ms/step - loss: 7732.7598 - val_loss: 43885.5273\n",
      "Epoch 311/500\n",
      "157/157 [==============================] - 8s 25ms/step - loss: 8210.4277 - val_loss: 44446.4375\n",
      "Epoch 312/500\n",
      "157/157 [==============================] - 8s 27ms/step - loss: 8490.8252 - val_loss: 44322.2148\n",
      "Epoch 313/500\n",
      "157/157 [==============================] - 8s 28ms/step - loss: 9153.5342 - val_loss: 45546.5273\n",
      "Epoch 314/500\n",
      "157/157 [==============================] - 10s 28ms/step - loss: 9629.2734 - val_loss: 45714.6445\n",
      "Epoch 315/500\n",
      "157/157 [==============================] - 9s 27ms/step - loss: 8666.2471 - val_loss: 43853.7227\n",
      "Epoch 316/500\n",
      "157/157 [==============================] - 8s 27ms/step - loss: 8581.7236 - val_loss: 44823.6406\n",
      "Epoch 317/500\n",
      "157/157 [==============================] - 8s 28ms/step - loss: 7661.7642 - val_loss: 44447.8984\n",
      "Epoch 318/500\n",
      "157/157 [==============================] - 8s 27ms/step - loss: 7739.7642 - val_loss: 43852.6523\n",
      "Epoch 319/500\n",
      "157/157 [==============================] - 8s 27ms/step - loss: 7365.7612 - val_loss: 43632.2070\n",
      "Epoch 320/500\n",
      "157/157 [==============================] - 9s 27ms/step - loss: 7545.0566 - val_loss: 44174.3672\n",
      "Epoch 321/500\n",
      "157/157 [==============================] - 8s 28ms/step - loss: 7780.2437 - val_loss: 45415.4961\n",
      "Epoch 322/500\n",
      "157/157 [==============================] - 8s 27ms/step - loss: 9352.0664 - val_loss: 44344.5156\n",
      "Epoch 323/500\n",
      "157/157 [==============================] - 8s 26ms/step - loss: 8400.9795 - val_loss: 49773.2734\n",
      "Epoch 324/500\n",
      "157/157 [==============================] - 8s 28ms/step - loss: 8213.3242 - val_loss: 43990.4375\n",
      "Epoch 325/500\n",
      "157/157 [==============================] - 8s 27ms/step - loss: 7659.2764 - val_loss: 43593.8555\n",
      "Epoch 326/500\n",
      "157/157 [==============================] - 8s 27ms/step - loss: 7618.5200 - val_loss: 43912.4062\n",
      "Epoch 327/500\n",
      "157/157 [==============================] - 10s 27ms/step - loss: 7503.7007 - val_loss: 44556.6914\n",
      "Epoch 328/500\n",
      "157/157 [==============================] - 9s 27ms/step - loss: 7362.4131 - val_loss: 44928.4453\n",
      "Epoch 329/500\n",
      "157/157 [==============================] - 8s 25ms/step - loss: 8025.4561 - val_loss: 45179.8789\n",
      "Epoch 330/500\n",
      "157/157 [==============================] - 8s 28ms/step - loss: 8069.4946 - val_loss: 43257.3086\n",
      "Epoch 331/500\n",
      "157/157 [==============================] - 10s 28ms/step - loss: 8519.6475 - val_loss: 45194.8125\n",
      "Epoch 332/500\n",
      "157/157 [==============================] - 8s 27ms/step - loss: 8073.9233 - val_loss: 44248.0000\n",
      "Epoch 333/500\n",
      "157/157 [==============================] - 8s 28ms/step - loss: 7492.0479 - val_loss: 44315.7266\n",
      "Epoch 334/500\n",
      "157/157 [==============================] - 8s 27ms/step - loss: 7605.0508 - val_loss: 44081.2695\n",
      "Epoch 335/500\n",
      "157/157 [==============================] - 8s 28ms/step - loss: 7173.3115 - val_loss: 43400.4258\n",
      "Epoch 336/500\n",
      "157/157 [==============================] - 8s 27ms/step - loss: 7338.7007 - val_loss: 44250.4570\n",
      "Epoch 337/500\n",
      "157/157 [==============================] - 8s 28ms/step - loss: 7278.4404 - val_loss: 43988.3516\n",
      "Epoch 338/500\n",
      "157/157 [==============================] - 8s 28ms/step - loss: 7687.1436 - val_loss: 43508.0430\n",
      "Epoch 339/500\n",
      "157/157 [==============================] - 8s 25ms/step - loss: 8186.8306 - val_loss: 46565.4336\n",
      "Epoch 340/500\n",
      "157/157 [==============================] - 8s 25ms/step - loss: 7745.0591 - val_loss: 44041.9180\n",
      "Epoch 341/500\n",
      "157/157 [==============================] - 8s 25ms/step - loss: 7345.5679 - val_loss: 44229.3594\n",
      "Epoch 342/500\n",
      "157/157 [==============================] - 8s 28ms/step - loss: 7704.0732 - val_loss: 44199.6328\n",
      "Epoch 343/500\n",
      "157/157 [==============================] - 10s 27ms/step - loss: 7682.2534 - val_loss: 45258.3828\n",
      "Epoch 344/500\n",
      "157/157 [==============================] - 8s 27ms/step - loss: 7389.7510 - val_loss: 44290.3672\n",
      "Epoch 345/500\n",
      "157/157 [==============================] - 8s 27ms/step - loss: 7197.1362 - val_loss: 44641.9375\n",
      "Epoch 346/500\n",
      "157/157 [==============================] - 8s 27ms/step - loss: 7487.2422 - val_loss: 45616.8242\n",
      "Epoch 347/500\n",
      "157/157 [==============================] - 8s 27ms/step - loss: 7685.4976 - val_loss: 44794.7188\n",
      "Epoch 348/500\n",
      "157/157 [==============================] - 8s 28ms/step - loss: 7378.2124 - val_loss: 44641.7305\n",
      "Epoch 349/500\n",
      "157/157 [==============================] - 8s 26ms/step - loss: 7392.0659 - val_loss: 43925.8672\n",
      "Epoch 350/500\n",
      "157/157 [==============================] - 8s 25ms/step - loss: 7547.0869 - val_loss: 45337.3828\n",
      "Epoch 351/500\n",
      "157/157 [==============================] - 8s 25ms/step - loss: 7879.4214 - val_loss: 43830.2070\n",
      "Epoch 352/500\n",
      "157/157 [==============================] - 8s 27ms/step - loss: 7885.4194 - val_loss: 43855.1406\n",
      "Epoch 353/500\n",
      "157/157 [==============================] - 8s 25ms/step - loss: 7242.2803 - val_loss: 44338.2578\n",
      "Epoch 354/500\n",
      "157/157 [==============================] - 8s 28ms/step - loss: 7115.5615 - val_loss: 44199.5234\n",
      "Epoch 355/500\n",
      "157/157 [==============================] - 8s 27ms/step - loss: 7047.8135 - val_loss: 44186.8672\n",
      "Epoch 356/500\n",
      "157/157 [==============================] - 8s 27ms/step - loss: 6880.8804 - val_loss: 45527.9492\n",
      "Epoch 357/500\n",
      "157/157 [==============================] - 8s 27ms/step - loss: 6993.5630 - val_loss: 43279.9922\n",
      "Epoch 358/500\n",
      "157/157 [==============================] - 9s 27ms/step - loss: 6956.2251 - val_loss: 43852.7578\n",
      "Epoch 359/500\n",
      "157/157 [==============================] - 8s 28ms/step - loss: 6994.1973 - val_loss: 43700.2383\n",
      "Epoch 360/500\n",
      "157/157 [==============================] - 8s 27ms/step - loss: 7141.9922 - val_loss: 43832.1680\n",
      "Epoch 361/500\n",
      "157/157 [==============================] - 8s 27ms/step - loss: 7047.7285 - val_loss: 43053.3438\n",
      "Epoch 362/500\n",
      "157/157 [==============================] - 8s 25ms/step - loss: 7025.1328 - val_loss: 43317.7383\n",
      "Epoch 363/500\n",
      "157/157 [==============================] - 8s 27ms/step - loss: 6951.2842 - val_loss: 44185.1211\n",
      "Epoch 364/500\n",
      "157/157 [==============================] - 8s 27ms/step - loss: 6901.8374 - val_loss: 44889.2188\n",
      "Epoch 365/500\n",
      "157/157 [==============================] - 8s 27ms/step - loss: 7622.4277 - val_loss: 43814.5430\n",
      "Epoch 366/500\n",
      "157/157 [==============================] - 8s 27ms/step - loss: 7080.0200 - val_loss: 44612.8594\n",
      "Epoch 367/500\n",
      "157/157 [==============================] - 9s 28ms/step - loss: 7283.1436 - val_loss: 43939.9023\n",
      "Epoch 368/500\n",
      "157/157 [==============================] - 8s 28ms/step - loss: 6743.8154 - val_loss: 44138.9688\n",
      "Epoch 369/500\n",
      "157/157 [==============================] - 8s 27ms/step - loss: 6831.7500 - val_loss: 44569.5898\n",
      "Epoch 370/500\n",
      "157/157 [==============================] - 8s 25ms/step - loss: 7132.7085 - val_loss: 44229.3828\n",
      "Epoch 371/500\n",
      "157/157 [==============================] - 8s 27ms/step - loss: 7117.2954 - val_loss: 44152.5859\n",
      "Epoch 372/500\n",
      "157/157 [==============================] - 9s 25ms/step - loss: 7025.3423 - val_loss: 44114.9727\n",
      "Epoch 373/500\n",
      "157/157 [==============================] - 8s 27ms/step - loss: 7039.3853 - val_loss: 44173.7422\n",
      "Epoch 374/500\n",
      "157/157 [==============================] - 8s 27ms/step - loss: 6770.3613 - val_loss: 44061.5273\n",
      "Epoch 375/500\n",
      "157/157 [==============================] - 8s 28ms/step - loss: 6500.5615 - val_loss: 42845.8477\n",
      "Epoch 376/500\n",
      "157/157 [==============================] - 8s 27ms/step - loss: 6486.9697 - val_loss: 43501.8945\n",
      "Epoch 377/500\n",
      "157/157 [==============================] - 8s 27ms/step - loss: 6597.9536 - val_loss: 44534.8242\n",
      "Epoch 378/500\n",
      "157/157 [==============================] - 8s 28ms/step - loss: 6522.7563 - val_loss: 43321.2578\n",
      "Epoch 379/500\n",
      "157/157 [==============================] - 8s 27ms/step - loss: 6489.7383 - val_loss: 43841.8672\n",
      "Epoch 380/500\n",
      "157/157 [==============================] - 8s 28ms/step - loss: 6823.9155 - val_loss: 45348.9492\n",
      "Epoch 381/500\n",
      "157/157 [==============================] - 8s 28ms/step - loss: 8265.8867 - val_loss: 43289.8555\n",
      "Epoch 382/500\n",
      "157/157 [==============================] - 8s 27ms/step - loss: 7415.9067 - val_loss: 47401.1328\n",
      "Epoch 383/500\n",
      "157/157 [==============================] - 8s 28ms/step - loss: 8136.5049 - val_loss: 43625.9492\n",
      "Epoch 384/500\n",
      "157/157 [==============================] - 8s 25ms/step - loss: 7681.9038 - val_loss: 45183.9492\n",
      "Epoch 385/500\n",
      "157/157 [==============================] - 8s 25ms/step - loss: 7444.4038 - val_loss: 43213.8828\n",
      "Epoch 386/500\n",
      "157/157 [==============================] - 8s 28ms/step - loss: 6965.5332 - val_loss: 43612.5859\n",
      "Epoch 387/500\n",
      "157/157 [==============================] - 8s 27ms/step - loss: 6625.2812 - val_loss: 42943.5078\n",
      "Epoch 388/500\n",
      "157/157 [==============================] - 8s 25ms/step - loss: 6403.1655 - val_loss: 42875.8711\n",
      "Epoch 389/500\n",
      "157/157 [==============================] - 8s 27ms/step - loss: 6129.0020 - val_loss: 43019.1406\n",
      "Epoch 390/500\n",
      "157/157 [==============================] - 8s 27ms/step - loss: 5810.4043 - val_loss: 43394.2148\n",
      "Epoch 391/500\n",
      "157/157 [==============================] - 8s 25ms/step - loss: 5963.0811 - val_loss: 43332.4570\n",
      "Epoch 392/500\n",
      "157/157 [==============================] - 8s 24ms/step - loss: 6174.8818 - val_loss: 43369.4297\n",
      "Epoch 393/500\n",
      "157/157 [==============================] - 8s 27ms/step - loss: 6279.1274 - val_loss: 43095.8789\n",
      "Epoch 394/500\n",
      "157/157 [==============================] - 8s 28ms/step - loss: 6013.4868 - val_loss: 44521.8984\n",
      "Epoch 395/500\n",
      "157/157 [==============================] - 10s 28ms/step - loss: 6216.8311 - val_loss: 43228.9023\n",
      "Epoch 396/500\n",
      "157/157 [==============================] - 8s 28ms/step - loss: 6377.0786 - val_loss: 44398.0273\n",
      "Epoch 397/500\n",
      "157/157 [==============================] - 10s 28ms/step - loss: 6564.8765 - val_loss: 44002.0547\n",
      "Epoch 398/500\n",
      "157/157 [==============================] - 8s 25ms/step - loss: 6572.0552 - val_loss: 42792.0820\n",
      "Epoch 399/500\n",
      "157/157 [==============================] - 9s 27ms/step - loss: 6435.2393 - val_loss: 44002.3242\n",
      "Epoch 400/500\n",
      "157/157 [==============================] - 8s 28ms/step - loss: 6607.9404 - val_loss: 42449.8477\n",
      "Epoch 401/500\n",
      "157/157 [==============================] - 8s 25ms/step - loss: 6917.4365 - val_loss: 44240.7969\n",
      "Epoch 402/500\n",
      "157/157 [==============================] - 8s 27ms/step - loss: 6607.2251 - val_loss: 43431.1836\n",
      "Epoch 403/500\n",
      "157/157 [==============================] - 8s 27ms/step - loss: 6603.2188 - val_loss: 43913.9219\n",
      "Epoch 404/500\n",
      "157/157 [==============================] - 8s 27ms/step - loss: 6431.9014 - val_loss: 42989.2852\n",
      "Epoch 405/500\n",
      "157/157 [==============================] - 8s 27ms/step - loss: 6616.9990 - val_loss: 44081.4766\n",
      "Epoch 406/500\n",
      "157/157 [==============================] - 8s 27ms/step - loss: 6381.1821 - val_loss: 43070.6719\n",
      "Epoch 407/500\n",
      "157/157 [==============================] - 9s 27ms/step - loss: 6227.3193 - val_loss: 44339.4492\n",
      "Epoch 408/500\n",
      "157/157 [==============================] - 8s 28ms/step - loss: 6234.5938 - val_loss: 43905.2891\n",
      "Epoch 409/500\n",
      "157/157 [==============================] - 8s 28ms/step - loss: 6255.5239 - val_loss: 43350.0664\n",
      "Epoch 410/500\n",
      "157/157 [==============================] - 8s 28ms/step - loss: 6349.1748 - val_loss: 45134.4922\n",
      "Epoch 411/500\n",
      "157/157 [==============================] - 10s 25ms/step - loss: 6303.6011 - val_loss: 44001.8438\n",
      "Epoch 412/500\n",
      "157/157 [==============================] - 8s 28ms/step - loss: 6226.2251 - val_loss: 44160.9609\n",
      "Epoch 413/500\n",
      "157/157 [==============================] - 8s 27ms/step - loss: 6885.0356 - val_loss: 43046.6289\n",
      "Epoch 414/500\n",
      "157/157 [==============================] - 8s 25ms/step - loss: 6512.2568 - val_loss: 43953.2500\n",
      "Epoch 415/500\n",
      "157/157 [==============================] - 8s 27ms/step - loss: 6624.2222 - val_loss: 43140.4023\n",
      "Epoch 416/500\n",
      "157/157 [==============================] - 8s 28ms/step - loss: 6019.7090 - val_loss: 43921.2344\n",
      "Epoch 417/500\n",
      "157/157 [==============================] - 8s 27ms/step - loss: 6340.1475 - val_loss: 43542.2461\n",
      "Epoch 418/500\n",
      "157/157 [==============================] - 8s 28ms/step - loss: 6945.5645 - val_loss: 44897.9414\n",
      "Epoch 419/500\n",
      "157/157 [==============================] - 8s 25ms/step - loss: 6078.3740 - val_loss: 44424.2109\n",
      "Epoch 420/500\n",
      "157/157 [==============================] - 8s 27ms/step - loss: 5950.0225 - val_loss: 45466.9297\n",
      "Epoch 421/500\n",
      "157/157 [==============================] - 8s 27ms/step - loss: 5885.1929 - val_loss: 43730.9102\n",
      "Epoch 422/500\n",
      "157/157 [==============================] - 8s 28ms/step - loss: 5939.1958 - val_loss: 43266.1758\n",
      "Epoch 423/500\n",
      "157/157 [==============================] - 9s 27ms/step - loss: 5805.2476 - val_loss: 43000.3516\n",
      "Epoch 424/500\n",
      "157/157 [==============================] - 8s 25ms/step - loss: 6004.6997 - val_loss: 43812.4766\n",
      "Epoch 425/500\n",
      "157/157 [==============================] - 8s 27ms/step - loss: 6061.1553 - val_loss: 44257.6992\n",
      "Epoch 426/500\n",
      "157/157 [==============================] - 8s 27ms/step - loss: 6499.7700 - val_loss: 45246.4180\n",
      "Epoch 427/500\n",
      "157/157 [==============================] - 10s 27ms/step - loss: 6597.7432 - val_loss: 44649.9844\n",
      "Epoch 428/500\n",
      "157/157 [==============================] - 8s 25ms/step - loss: 6225.1484 - val_loss: 43716.3594\n",
      "Epoch 429/500\n",
      "157/157 [==============================] - 8s 27ms/step - loss: 5854.2656 - val_loss: 43293.7773\n",
      "Epoch 430/500\n",
      "157/157 [==============================] - 8s 25ms/step - loss: 5503.0996 - val_loss: 44280.3711\n",
      "Epoch 431/500\n",
      "157/157 [==============================] - 10s 27ms/step - loss: 5369.2534 - val_loss: 42551.6133\n",
      "Epoch 432/500\n",
      "157/157 [==============================] - 8s 27ms/step - loss: 5341.5571 - val_loss: 43490.5977\n",
      "Epoch 433/500\n",
      "157/157 [==============================] - 8s 27ms/step - loss: 5345.2134 - val_loss: 43665.1875\n",
      "Epoch 434/500\n",
      "157/157 [==============================] - 8s 27ms/step - loss: 5588.0459 - val_loss: 46903.9844\n",
      "Epoch 435/500\n",
      "157/157 [==============================] - 8s 28ms/step - loss: 6897.0781 - val_loss: 44142.9375\n",
      "Epoch 436/500\n",
      "157/157 [==============================] - 8s 28ms/step - loss: 6943.1919 - val_loss: 44750.6953\n",
      "Epoch 437/500\n",
      "157/157 [==============================] - 8s 25ms/step - loss: 6126.0054 - val_loss: 42969.2578\n",
      "Epoch 438/500\n",
      "157/157 [==============================] - 8s 25ms/step - loss: 6194.0474 - val_loss: 43390.6367\n",
      "Epoch 439/500\n",
      "157/157 [==============================] - 8s 28ms/step - loss: 5815.4795 - val_loss: 44653.9375\n",
      "Epoch 440/500\n",
      "157/157 [==============================] - 8s 27ms/step - loss: 6844.9888 - val_loss: 43719.9531\n",
      "Epoch 441/500\n",
      "157/157 [==============================] - 8s 28ms/step - loss: 6876.0830 - val_loss: 43166.2617\n",
      "Epoch 442/500\n",
      "157/157 [==============================] - 10s 28ms/step - loss: 6087.6460 - val_loss: 43855.9648\n",
      "Epoch 443/500\n",
      "157/157 [==============================] - 8s 28ms/step - loss: 5851.2744 - val_loss: 44018.3711\n",
      "Epoch 444/500\n",
      "157/157 [==============================] - 8s 28ms/step - loss: 5555.9453 - val_loss: 43364.0430\n",
      "Epoch 445/500\n",
      "157/157 [==============================] - 8s 25ms/step - loss: 5314.9185 - val_loss: 44293.3984\n",
      "Epoch 446/500\n",
      "157/157 [==============================] - 8s 27ms/step - loss: 5452.5776 - val_loss: 43811.5039\n",
      "Epoch 447/500\n",
      "157/157 [==============================] - 8s 28ms/step - loss: 5375.8247 - val_loss: 44517.6523\n",
      "Epoch 448/500\n",
      "157/157 [==============================] - 8s 27ms/step - loss: 5720.8447 - val_loss: 43581.1328\n",
      "Epoch 449/500\n",
      "157/157 [==============================] - 8s 27ms/step - loss: 5791.5571 - val_loss: 43908.7891\n",
      "Epoch 450/500\n",
      "157/157 [==============================] - 8s 28ms/step - loss: 5893.7842 - val_loss: 44169.0352\n",
      "Epoch 451/500\n",
      "157/157 [==============================] - 9s 27ms/step - loss: 5848.9971 - val_loss: 44677.4844\n",
      "Epoch 452/500\n",
      "157/157 [==============================] - 8s 28ms/step - loss: 5886.1406 - val_loss: 43424.6758\n",
      "Epoch 453/500\n",
      "157/157 [==============================] - 8s 28ms/step - loss: 5669.3115 - val_loss: 44447.1523\n",
      "Epoch 454/500\n",
      "157/157 [==============================] - 8s 28ms/step - loss: 5597.0322 - val_loss: 44305.2773\n",
      "Epoch 455/500\n",
      "157/157 [==============================] - 8s 27ms/step - loss: 5271.3882 - val_loss: 43384.2773\n",
      "Epoch 456/500\n",
      "157/157 [==============================] - 8s 27ms/step - loss: 5154.1982 - val_loss: 44056.2344\n",
      "Epoch 457/500\n",
      "157/157 [==============================] - 10s 28ms/step - loss: 5344.8022 - val_loss: 44059.9766\n",
      "Epoch 458/500\n",
      "157/157 [==============================] - 9s 28ms/step - loss: 5528.7397 - val_loss: 43573.8203\n",
      "Epoch 459/500\n",
      "157/157 [==============================] - 8s 27ms/step - loss: 5502.5571 - val_loss: 43631.6797\n",
      "Epoch 460/500\n",
      "157/157 [==============================] - 8s 25ms/step - loss: 5865.5093 - val_loss: 43776.7422\n",
      "Epoch 461/500\n",
      "157/157 [==============================] - 10s 27ms/step - loss: 6206.1304 - val_loss: 44134.4844\n",
      "Epoch 462/500\n",
      "157/157 [==============================] - 8s 27ms/step - loss: 6048.1875 - val_loss: 43529.4023\n",
      "Epoch 463/500\n",
      "157/157 [==============================] - 8s 27ms/step - loss: 5883.0938 - val_loss: 45234.9180\n",
      "Epoch 464/500\n",
      "157/157 [==============================] - 10s 28ms/step - loss: 6914.7144 - val_loss: 45249.9180\n",
      "Epoch 465/500\n",
      "157/157 [==============================] - 8s 28ms/step - loss: 7136.3501 - val_loss: 45199.7734\n",
      "Epoch 466/500\n",
      "157/157 [==============================] - 8s 28ms/step - loss: 6106.8628 - val_loss: 44336.6523\n",
      "Epoch 467/500\n",
      "157/157 [==============================] - 8s 27ms/step - loss: 5488.3047 - val_loss: 43555.1562\n",
      "Epoch 468/500\n",
      "157/157 [==============================] - 9s 27ms/step - loss: 5563.3276 - val_loss: 43500.8828\n",
      "Epoch 469/500\n",
      "157/157 [==============================] - 8s 28ms/step - loss: 5237.1216 - val_loss: 43091.8867\n",
      "Epoch 470/500\n",
      "157/157 [==============================] - 8s 25ms/step - loss: 5142.1997 - val_loss: 44021.5820\n",
      "Epoch 471/500\n",
      "157/157 [==============================] - 9s 27ms/step - loss: 5242.8530 - val_loss: 43564.6523\n",
      "Epoch 472/500\n",
      "157/157 [==============================] - 8s 27ms/step - loss: 5204.2549 - val_loss: 45014.0859\n",
      "Epoch 473/500\n",
      "157/157 [==============================] - 8s 27ms/step - loss: 5112.0771 - val_loss: 44065.1602\n",
      "Epoch 474/500\n",
      "157/157 [==============================] - 9s 28ms/step - loss: 5478.5625 - val_loss: 45559.3086\n",
      "Epoch 475/500\n",
      "157/157 [==============================] - 8s 27ms/step - loss: 5684.9019 - val_loss: 43444.8789\n",
      "Epoch 476/500\n",
      "157/157 [==============================] - 8s 27ms/step - loss: 5978.9644 - val_loss: 44785.3633\n",
      "Epoch 477/500\n",
      "157/157 [==============================] - 8s 27ms/step - loss: 5774.2954 - val_loss: 44963.2578\n",
      "Epoch 478/500\n",
      "157/157 [==============================] - 8s 24ms/step - loss: 5490.1069 - val_loss: 43242.9922\n",
      "Epoch 479/500\n",
      "157/157 [==============================] - 9s 27ms/step - loss: 5473.3955 - val_loss: 44522.4258\n",
      "Epoch 480/500\n",
      "157/157 [==============================] - 8s 28ms/step - loss: 5366.6172 - val_loss: 44094.7617\n",
      "Epoch 481/500\n",
      "157/157 [==============================] - 8s 28ms/step - loss: 5648.9214 - val_loss: 44522.6328\n",
      "Epoch 482/500\n",
      "157/157 [==============================] - 8s 28ms/step - loss: 5509.0747 - val_loss: 43815.9023\n",
      "Epoch 483/500\n",
      "157/157 [==============================] - 8s 27ms/step - loss: 5311.1392 - val_loss: 44567.9922\n",
      "Epoch 484/500\n",
      "157/157 [==============================] - 10s 27ms/step - loss: 5334.5894 - val_loss: 43253.0703\n",
      "Epoch 485/500\n",
      "157/157 [==============================] - 8s 27ms/step - loss: 5069.8101 - val_loss: 44376.8125\n",
      "Epoch 486/500\n",
      "157/157 [==============================] - 8s 27ms/step - loss: 5182.8755 - val_loss: 43969.5977\n",
      "Epoch 487/500\n",
      "157/157 [==============================] - 10s 28ms/step - loss: 4802.0312 - val_loss: 44634.3320\n",
      "Epoch 488/500\n",
      "157/157 [==============================] - 8s 27ms/step - loss: 5096.6362 - val_loss: 43384.0312\n",
      "Epoch 489/500\n",
      "157/157 [==============================] - 8s 25ms/step - loss: 4963.7808 - val_loss: 45385.6641\n",
      "Epoch 490/500\n",
      "157/157 [==============================] - 8s 27ms/step - loss: 5359.3184 - val_loss: 43036.7969\n",
      "Epoch 491/500\n",
      "157/157 [==============================] - 8s 27ms/step - loss: 5936.0176 - val_loss: 44717.8984\n",
      "Epoch 492/500\n",
      "157/157 [==============================] - 8s 27ms/step - loss: 5742.0957 - val_loss: 44645.9062\n",
      "Epoch 493/500\n",
      "157/157 [==============================] - 9s 28ms/step - loss: 5585.8076 - val_loss: 44787.7578\n",
      "Epoch 494/500\n",
      "157/157 [==============================] - 8s 27ms/step - loss: 5540.5356 - val_loss: 43539.0352\n",
      "Epoch 495/500\n",
      "157/157 [==============================] - 8s 25ms/step - loss: 6208.7554 - val_loss: 45714.4375\n",
      "Epoch 496/500\n",
      "157/157 [==============================] - 10s 27ms/step - loss: 6275.9795 - val_loss: 44794.1328\n",
      "Epoch 497/500\n",
      "157/157 [==============================] - 10s 27ms/step - loss: 5798.6880 - val_loss: 43510.2617\n",
      "Epoch 498/500\n",
      "157/157 [==============================] - 8s 25ms/step - loss: 5650.6069 - val_loss: 43815.1875\n",
      "Epoch 499/500\n",
      "157/157 [==============================] - 8s 27ms/step - loss: 5052.0684 - val_loss: 44763.1133\n",
      "Epoch 500/500\n",
      "157/157 [==============================] - 8s 27ms/step - loss: 4945.7339 - val_loss: 44243.4766\n"
     ]
    }
   ],
   "source": [
    "history = sfr_and_images_model.fit(dataset_training,\n",
    "                    #steps_per_epoch=10000//64,\n",
    "                     epochs=500, \n",
    "                     #steps_per_epoch=num_train//batch_size, \n",
    "                     validation_data=dataset_validation,\n",
    "                                  callbacks=[model_checkpoint_callback])"
   ]
  },
  {
   "cell_type": "code",
   "execution_count": 148,
   "id": "475c3631",
   "metadata": {},
   "outputs": [
    {
     "data": {
      "text/plain": [
       "<tensorflow.python.training.tracking.util.CheckpointLoadStatus at 0x152ddd907cd0>"
      ]
     },
     "execution_count": 148,
     "metadata": {},
     "output_type": "execute_result"
    }
   ],
   "source": [
    "sfr_and_images_model.load_weights(checkpoint_filepath)"
   ]
  },
  {
   "cell_type": "code",
   "execution_count": 46,
   "id": "4e41b51b",
   "metadata": {},
   "outputs": [
    {
     "data": {
      "text/plain": [
       "<TakeDataset shapes: (((64, 100, 1), (64, 128, 128, 4)), (64, 100, 1)), types: ((tf.float32, tf.float32), tf.float32)>"
      ]
     },
     "execution_count": 46,
     "metadata": {},
     "output_type": "execute_result"
    }
   ],
   "source": [
    "dataset_training.take(1)"
   ]
  },
  {
   "cell_type": "code",
   "execution_count": 64,
   "id": "e366ffa5",
   "metadata": {},
   "outputs": [
    {
     "data": {
      "text/plain": [
       "<TakeDataset shapes: (((64, 100, 1), (64, 128, 128, 4)), (64, 100, 1)), types: ((tf.float32, tf.float32), tf.float32)>"
      ]
     },
     "execution_count": 64,
     "metadata": {},
     "output_type": "execute_result"
    }
   ],
   "source": [
    "dataset_validation.take(1)"
   ]
  },
  {
   "cell_type": "code",
   "execution_count": null,
   "id": "b621ef46",
   "metadata": {},
   "outputs": [],
   "source": [
    "# We are ready to train our model\n",
    "history = vae.fit(dataset_training,\n",
    "            steps_per_epoch=20000//BATCH_SIZE, \n",
    "            epochs=15,\n",
    "            callbacks=[lr_decay])"
   ]
  },
  {
   "cell_type": "code",
   "execution_count": 174,
   "id": "09ab8f25",
   "metadata": {},
   "outputs": [
    {
     "name": "stdout",
     "output_type": "stream",
     "text": [
      "(128, 128, 4) (100, 1)\n"
     ]
    },
    {
     "data": {
      "image/png": "[encoded data removed]",
      "text/plain": [
       "<Figure size 1080x720 with 1 Axes>"
      ]
     },
     "metadata": {
      "needs_background": "light"
     },
     "output_type": "display_data"
    }
   ],
   "source": [
    "for example in dataset_validation.take(1):\n",
    "    #print(example.shape)\n",
    "    ex = example[0]\n",
    "    idx = random.randint(0,32)\n",
    "    img = ex[1][idx]\n",
    "    seq = ex[0][idx]\n",
    "    print(img.shape, seq.shape)\n",
    "    #print(ex[0].shape, ex[1].shape)\n",
    "    #print(ex[0].numpy().reshape(1,100,1).shape)\n",
    "    plt.figure(figsize=(15,10))\n",
    "    plt.plot(seq)\n",
    "    plt.plot(sfr_and_images_model.predict((seq.numpy().reshape(1,100,1), img.numpy().reshape(1,128,128,4))).flatten())\n",
    "    plt.legend(['true', \"predicted\"], fontsize=16)\n",
    "    "
   ]
  },
  {
   "cell_type": "code",
   "execution_count": 319,
   "id": "388946ee",
   "metadata": {},
   "outputs": [
    {
     "data": {
      "text/plain": [
       "Text(0.5, 1.0, 'Predicting from random vector')"
      ]
     },
     "execution_count": 319,
     "metadata": {},
     "output_type": "execute_result"
    },
    {
     "data": {
      "image/png": "[encoded data removed]",
      "text/plain": [
       "<Figure size 1080x720 with 1 Axes>"
      ]
     },
     "metadata": {
      "needs_background": "light"
     },
     "output_type": "display_data"
    }
   ],
   "source": [
    "plt.figure(figsize=(15,10))\n",
    "plt.plot(prob_decoder.predict(np.random.random((1,16,1))).flatten())\n",
    "plt.title(\"Predicting from random vector\", fontsize=16)"
   ]
  },
  {
   "cell_type": "code",
   "execution_count": 71,
   "id": "31cb12b4",
   "metadata": {},
   "outputs": [
    {
     "data": {
      "text/plain": [
       "<TakeDataset element_spec=(TensorSpec(shape=(64, 100, 1), dtype=tf.float32, name=None), TensorSpec(shape=(64, 100, 1), dtype=tf.float32, name=None))>"
      ]
     },
     "execution_count": 71,
     "metadata": {},
     "output_type": "execute_result"
    }
   ],
   "source": []
  },
  {
   "cell_type": "code",
   "execution_count": null,
   "id": "9c7544c6",
   "metadata": {},
   "outputs": [],
   "source": []
  },
  {
   "cell_type": "markdown",
   "id": "a82ad24a",
   "metadata": {},
   "source": [
    "### Check learning curve"
   ]
  },
  {
   "cell_type": "code",
   "execution_count": 149,
   "id": "b1b83533",
   "metadata": {},
   "outputs": [
    {
     "data": {
      "image/png": "[encoded data removed]",
      "text/plain": [
       "<Figure size 432x288 with 1 Axes>"
      ]
     },
     "metadata": {
      "needs_background": "light"
     },
     "output_type": "display_data"
    }
   ],
   "source": [
    "plt.plot(history.history['loss'])\n",
    "plt.plot(history.history['val_loss'])\n",
    "plt.show()"
   ]
  },
  {
   "cell_type": "markdown",
   "id": "7316b1be",
   "metadata": {},
   "source": [
    "### Pass sample\n",
    "\n",
    "Feed a dataset sample to the network and visualize output"
   ]
  },
  {
   "cell_type": "code",
   "execution_count": 184,
   "id": "1b6b8046",
   "metadata": {},
   "outputs": [
    {
     "data": {
      "image/png": "[encoded data removed]",
      "text/plain": [
       "<Figure size 1080x720 with 1 Axes>"
      ]
     },
     "metadata": {
      "needs_background": "light"
     },
     "output_type": "display_data"
    }
   ],
   "source": [
    "import random\n",
    "sample = list(dset.take(100))[random.randint(3,100)]\n",
    "samp_mean, samp_std, p_sample = pass_sample(pixel_cnn, sample['SFR_Max'])\n",
    "plt.figure(figsize=(15,10))\n",
    "std = samp_std.numpy().reshape((-1,))\n",
    "mean = samp_mean.numpy().reshape((-1,))\n",
    "plt.plot(mean,'r')\n",
    "plt.fill_between(np.linspace(0,99,100,endpoint=True), y1=mean+std, y2=mean-std, color='magenta', alpha=0.2)\n",
    "plt.plot(p_sample.numpy().reshape((-1,)), 'g')\n",
    "plt.plot(sample['SFR_Max'].numpy().reshape((-1,)), 'b')\n",
    "plt.ylim(bottom=0.0)\n",
    "plt.show()"
   ]
  },
  {
   "cell_type": "markdown",
   "id": "9fd73901",
   "metadata": {},
   "source": [
    "### Predictor\n",
    "\n",
    "A randomly generated SFR from the model"
   ]
  },
  {
   "cell_type": "code",
   "execution_count": 190,
   "id": "f8c7f163",
   "metadata": {},
   "outputs": [
    {
     "data": {
      "image/png": "[encoded data removed]",
      "text/plain": [
       "<Figure size 1080x720 with 1 Axes>"
      ]
     },
     "metadata": {
      "needs_background": "light"
     },
     "output_type": "display_data"
    }
   ],
   "source": [
    "gen_sample = predictor(pixel_cnn, 1).reshape((-1,))\n",
    "plt.figure(figsize=(15,10))\n",
    "plt.plot(gen_sample)\n",
    "plt.show()\n"
   ]
  },
  {
   "cell_type": "markdown",
   "id": "166bb98a",
   "metadata": {},
   "source": [
    "### Finish sample\n",
    "\n",
    "Take a part of a SFR sequence, and predicts the endplt.plot(sample['SFR_Max'].numpy().reshape((-1,)), 'b')"
   ]
  },
  {
   "cell_type": "code",
   "execution_count": 14,
   "id": "a38da585",
   "metadata": {},
   "outputs": [
    {
     "data": {
      "image/png": "[encoded data removed]",
      "text/plain": [
       "<Figure size 432x288 with 1 Axes>"
      ]
     },
     "metadata": {
      "needs_background": "light"
     },
     "output_type": "display_data"
    }
   ],
   "source": [
    "# TODO FIX MEEE\n",
    "import importlib\n",
    "import sys\n",
    "sys.path.insert(0,'../sfh')\n",
    "import model_utils\n",
    "importlib.reload(model_utils)\n",
    "\n",
    "gen_sample = model_utils.finish_sample(pixel_cnn, sample['SFR_Max'][:50]).reshape((-1,))\n",
    "plt.plot(gen_sample, 'r')\n",
    "plt.plot(sample['SFR_Max'].numpy().reshape((-1,)), 'b')\n",
    "plt.show()\n"
   ]
  },
  {
   "cell_type": "code",
   "execution_count": 17,
   "id": "8c46aafe",
   "metadata": {},
   "outputs": [],
   "source": [
    "\"\"\"\n",
    "## Build the model based on the original paper\n",
    "\"\"\"\n",
    "\n",
    "inputs = keras.Input(shape=(28,1))\n",
    "x = PixelConvLayer(\n",
    "    mask_type=\"A\", filters=128, kernel_size=7, activation=\"relu\", padding=\"same\"\n",
    ")(inputs)\n",
    "\n",
    "for _ in range(n_residual_blocks):\n",
    "    x = ResidualBlock(filters=128)(x)\n",
    "\n",
    "for _ in range(2):\n",
    "    x = PixelConvLayer(\n",
    "        mask_type=\"B\",\n",
    "        filters=128,\n",
    "        kernel_size=1,\n",
    "        strides=1,\n",
    "        activation=\"relu\",\n",
    "        padding=\"valid\",\n",
    "    )(x)\n",
    "\n",
    "#out = keras.layers.Conv1D(\n",
    "#    filters=1, kernel_size=1, strides=1, activation=\"sigmoid\", padding=\"valid\"\n",
    "#)(x)\n",
    "\n",
    "out = tfp.layers.MixtureNormal(num_components, event_shape)(x)\n",
    "\n",
    "\n",
    "pixel_cnn = keras.Model(inputs, out)\n",
    "\n",
    "negloglik = lambda y, q: -q.log_prob(y)\n",
    "adam = keras.optimizers.Adam(learning_rate=0.0005)\n",
    "pixel_cnn.compile(optimizer=adam, loss=negloglik)\n",
    "\n",
    "pixel_cnn.summary()"
   ]
  },
  {
   "cell_type": "code",
   "execution_count": 52,
   "id": "83acc05a",
   "metadata": {},
   "outputs": [
    {
     "name": "stdout",
     "output_type": "stream",
     "text": [
      "You must install pydot (`pip install pydot`) and install graphviz (see instructions at https://graphviz.gitlab.io/download/) for plot_model/model_to_dot to work.\n"
     ]
    }
   ],
   "source": [
    "from tensorflow.keras.utils import plot_model\n",
    "\n",
    "plot_model(pixel_cnn, to_file='model_plot.png', show_shapes=True, show_layer_names=True)"
   ]
  },
  {
   "cell_type": "code",
   "execution_count": null,
   "id": "cf247519",
   "metadata": {},
   "outputs": [],
   "source": [
    "pixel_cnn.fit(\n",
    "    x=data, y=data, batch_size=128, epochs=50, validation_split=0.1, verbose=2\n",
    ")\n"
   ]
  },
  {
   "cell_type": "code",
   "execution_count": null,
   "id": "ddf53b51",
   "metadata": {},
   "outputs": [],
   "source": [
    "\"\"\"\n",
    "## Demonstration\n",
    "The PixelCNN cannot generate the full image at once. Instead, it must generate each pixel in\n",
    "order, append the last generated pixel to the current image, and feed the image back into the\n",
    "model to repeat the process.\n",
    "\"\"\"\n",
    "\n",
    "from IPython.display import Image, display\n",
    "\n",
    "# Create an empty array of pixels.\n",
    "batch = 4\n",
    "pixels = np.zeros(shape=(batch,) + (pixel_cnn.input_shape)[1:])\n",
    "batch, rows, cols, channels = pixels.shape\n",
    "\n",
    "# Iterate over the pixels because generation has to be done sequentially pixel by pixel.\n",
    "for row in tqdm(range(rows)):\n",
    "    for col in range(cols):\n",
    "        for channel in range(channels):\n",
    "            # Feed the whole array and retrieving the pixel value probabilities for the next\n",
    "            # pixel.\n",
    "            probs = pixel_cnn.predict(pixels)[:, row, col, channel]\n",
    "            # Use the probabilities to pick pixel values and append the values to the image\n",
    "            # frame.\n",
    "            pixels[:, row, col, channel] = tf.math.ceil(\n",
    "                probs - tf.random.uniform(probs.shape)\n",
    "            )\n",
    "\n"
   ]
  },
  {
   "cell_type": "code",
   "execution_count": null,
   "id": "ab075924",
   "metadata": {},
   "outputs": [],
   "source": [
    "\n",
    "def deprocess_image(x):\n",
    "    # Stack the single channeled black and white image to rgb values.\n",
    "    x = np.stack((x, x, x), 2)\n",
    "    # Undo preprocessing\n",
    "    x *= 255.0\n",
    "    # Convert to uint8 and clip to the valid range [0, 255]\n",
    "    x = np.clip(x, 0, 255).astype(\"uint8\")\n",
    "    return x\n",
    "\n",
    "\n",
    "# Iterate over the generated images and plot them with matplotlib.\n",
    "for i, pic in enumerate(pixels):\n",
    "    keras.preprocessing.image.save_img(\n",
    "        \"generated_image_{}.png\".format(i), deprocess_image(np.squeeze(pic, -1))\n",
    "    )\n",
    "\n",
    "display(Image(\"generated_image_0.png\"))\n",
    "display(Image(\"generated_image_1.png\"))\n",
    "display(Image(\"generated_image_2.png\"))\n",
    "display(Image(\"generated_image_3.png\"))"
   ]
  },
  {
   "cell_type": "code",
   "execution_count": 159,
   "id": "adc923a0",
   "metadata": {},
   "outputs": [
    {
     "name": "stdout",
     "output_type": "stream",
     "text": [
      "(None, 100, 1)\n",
      "(3, 1, 16)\n"
     ]
    },
    {
     "name": "stderr",
     "output_type": "stream",
     "text": [
      "[autoreload of sfh.models.pixelcnn_res failed: Traceback (most recent call last):\n",
      "  File \"/var/home/laatu/.local/lib/python3.7/site-packages/IPython/extensions/autoreload.py\", line 245, in check\n",
      "    superreload(m, reload, self.old_objects)\n",
      "  File \"/var/home/laatu/.local/lib/python3.7/site-packages/IPython/extensions/autoreload.py\", line 394, in superreload\n",
      "    module = reload(module)\n",
      "  File \"/var/home/laatu/anaconda3/envs/tf-hack/lib/python3.7/imp.py\", line 314, in reload\n",
      "    return importlib.reload(module)\n",
      "  File \"/var/home/laatu/anaconda3/envs/tf-hack/lib/python3.7/importlib/__init__.py\", line 169, in reload\n",
      "    _bootstrap._exec(spec, module)\n",
      "  File \"<frozen importlib._bootstrap>\", line 630, in _exec\n",
      "  File \"<frozen importlib._bootstrap_external>\", line 724, in exec_module\n",
      "  File \"<frozen importlib._bootstrap_external>\", line 860, in get_code\n",
      "  File \"<frozen importlib._bootstrap_external>\", line 791, in source_to_code\n",
      "  File \"<frozen importlib._bootstrap>\", line 219, in _call_with_frames_removed\n",
      "  File \"/var/home/laatu/sfh-inference-hackathon/sfh/models/pixelcnn_res.py\", line 72\n",
      "    dilation_rate=,\n",
      "                  ^\n",
      "SyntaxError: invalid syntax\n",
      "]\n"
     ]
    }
   ],
   "source": [
    "l = 1\n",
    "print(pixel_cnn.layers[l].input_shape)\n",
    "print(pixel_cnn.layers[l].conv.kernel.get_shape())"
   ]
  },
  {
   "cell_type": "code",
   "execution_count": 151,
   "id": "2f89b984",
   "metadata": {},
   "outputs": [
    {
     "name": "stdout",
     "output_type": "stream",
     "text": [
      "(1, 16, 16)\n"
     ]
    },
    {
     "data": {
      "image/png": "[encoded data removed]",
      "text/plain": [
       "<Figure size 432x288 with 1 Axes>"
      ]
     },
     "metadata": {
      "needs_background": "light"
     },
     "output_type": "display_data"
    },
    {
     "data": {
      "image/png": "[encoded data removed]",
      "text/plain": [
       "<Figure size 432x288 with 1 Axes>"
      ]
     },
     "metadata": {
      "needs_background": "light"
     },
     "output_type": "display_data"
    },
    {
     "data": {
      "image/png": "[encoded data removed]",
      "text/plain": [
       "<Figure size 432x288 with 1 Axes>"
      ]
     },
     "metadata": {
      "needs_background": "light"
     },
     "output_type": "display_data"
    },
    {
     "data": {
      "image/png": "[encoded data removed]",
      "text/plain": [
       "<Figure size 432x288 with 1 Axes>"
      ]
     },
     "metadata": {
      "needs_background": "light"
     },
     "output_type": "display_data"
    },
    {
     "data": {
      "image/png": "[encoded data removed]",
      "text/plain": [
       "<Figure size 432x288 with 1 Axes>"
      ]
     },
     "metadata": {
      "needs_background": "light"
     },
     "output_type": "display_data"
    },
    {
     "data": {
      "image/png": "[encoded data removed]",
      "text/plain": [
       "<Figure size 432x288 with 1 Axes>"
      ]
     },
     "metadata": {
      "needs_background": "light"
     },
     "output_type": "display_data"
    },
    {
     "data": {
      "image/png": "[encoded data removed]",
      "text/plain": [
       "<Figure size 432x288 with 1 Axes>"
      ]
     },
     "metadata": {
      "needs_background": "light"
     },
     "output_type": "display_data"
    },
    {
     "data": {
      "image/png": "[encoded data removed]",
      "text/plain": [
       "<Figure size 432x288 with 1 Axes>"
      ]
     },
     "metadata": {
      "needs_background": "light"
     },
     "output_type": "display_data"
    },
    {
     "data": {
      "image/png": "[encoded data removed]",
      "text/plain": [
       "<Figure size 432x288 with 1 Axes>"
      ]
     },
     "metadata": {
      "needs_background": "light"
     },
     "output_type": "display_data"
    },
    {
     "data": {
      "image/png": "[encoded data removed]",
      "text/plain": [
       "<Figure size 432x288 with 1 Axes>"
      ]
     },
     "metadata": {
      "needs_background": "light"
     },
     "output_type": "display_data"
    },
    {
     "data": {
      "image/png": "[encoded data removed]",
      "text/plain": [
       "<Figure size 432x288 with 1 Axes>"
      ]
     },
     "metadata": {
      "needs_background": "light"
     },
     "output_type": "display_data"
    },
    {
     "data": {
      "image/png": "[encoded data removed]",
      "text/plain": [
       "<Figure size 432x288 with 1 Axes>"
      ]
     },
     "metadata": {
      "needs_background": "light"
     },
     "output_type": "display_data"
    },
    {
     "data": {
      "image/png": "[encoded data removed]",
      "text/plain": [
       "<Figure size 432x288 with 1 Axes>"
      ]
     },
     "metadata": {
      "needs_background": "light"
     },
     "output_type": "display_data"
    },
    {
     "data": {
      "image/png": "[encoded data removed]",
      "text/plain": [
       "<Figure size 432x288 with 1 Axes>"
      ]
     },
     "metadata": {
      "needs_background": "light"
     },
     "output_type": "display_data"
    },
    {
     "data": {
      "image/png": "[encoded data removed]",
      "text/plain": [
       "<Figure size 432x288 with 1 Axes>"
      ]
     },
     "metadata": {
      "needs_background": "light"
     },
     "output_type": "display_data"
    },
    {
     "data": {
      "image/png": "[encoded data removed]",
      "text/plain": [
       "<Figure size 432x288 with 1 Axes>"
      ]
     },
     "metadata": {
      "needs_background": "light"
     },
     "output_type": "display_data"
    }
   ],
   "source": [
    "filt = np.ones(shape=pixel_cnn.layers[3].kernel.get_shape() )\n",
    "print(filt.shape)\n",
    "filt[-1,...] = 0\n",
    "for i in range(16):\n",
    "    plt.imshow(filt[...,i], vmin=0, vmax=1)\n",
    "    plt.show()\n"
   ]
  },
  {
   "cell_type": "code",
   "execution_count": null,
   "id": "adb2b7cc",
   "metadata": {},
   "outputs": [],
   "source": [
    "class PixelConvLayer(layers.Layer):\n",
    "    def __init__(self, mask_type, **kwargs):\n",
    "        super(PixelConvLayer, self).__init__()\n",
    "        self.mask_type = mask_type\n",
    "        self.conv = layers.Conv2D(**kwargs)\n",
    "\n",
    "    def build(self, input_shape):\n",
    "        # Build the conv2d layer to initialize kernel variables\n",
    "        self.conv.build(input_shape)\n",
    "        # Use the initialized kernel to create the mask\n",
    "        kernel_shape = self.conv.kernel.get_shape()\n",
    "        self.mask = np.zeros(shape=kernel_shape)\n",
    "        self.mask[: kernel_shape[0] // 2, ...] = 1.0\n",
    "        self.mask[kernel_shape[0] // 2, : kernel_shape[1] // 2, ...] = 1.0\n",
    "        if self.mask_type == \"B\":\n",
    "            self.mask[kernel_shape[0] // 2, kernel_shape[1] // 2, ...] = 1.0\n",
    "\n",
    "    def call(self, inputs):\n",
    "        self.conv.kernel.assign(self.conv.kernel * self.mask)\n",
    "        return self.conv(inputs)"
   ]
  },
  {
   "cell_type": "code",
   "execution_count": null,
   "id": "40824b9b",
   "metadata": {},
   "outputs": [],
   "source": [
    "for i in range(3):\n",
    "    plt.imshow(filt[i], vmin=-1, vmax=1)\n",
    "    plt.show()"
   ]
  }
 ],
 "metadata": {
  "kernelspec": {
   "display_name": "Python 3 (ipykernel)",
   "language": "python",
   "name": "python3"
  },
  "language_info": {
   "codemirror_mode": {
    "name": "ipython",
    "version": 3
   },
   "file_extension": ".py",
   "mimetype": "text/x-python",
   "name": "python",
   "nbconvert_exporter": "python",
   "pygments_lexer": "ipython3",
   "version": "3.7.10"
  }
 },
 "nbformat": 4,
 "nbformat_minor": 5
}
