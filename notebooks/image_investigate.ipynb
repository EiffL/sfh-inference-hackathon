{
 "cells": [
  {
   "cell_type": "markdown",
   "id": "f9c32d12",
   "metadata": {},
   "source": [
    "# Notebook to investigate Dense Network [Last Mass]"
   ]
  },
  {
   "cell_type": "code",
   "execution_count": 1,
   "id": "26fdc014",
   "metadata": {},
   "outputs": [],
   "source": [
    "# imports\n",
    "from random import randint\n",
    "import datetime\n",
    "import numpy as np\n",
    "import tensorflow as tf\n",
    "from tensorflow.keras import layers as tfkl\n",
    "import tensorflow_datasets as tfds\n",
    "from tqdm import trange\n",
    "# import my_dataset\n",
    "import matplotlib.pyplot as plt\n",
    "data_dir='/gpfsscratch/rech/qrc/commun/tensorflow_datasets'"
   ]
  },
  {
   "cell_type": "code",
   "execution_count": 28,
   "id": "2aa423dc",
   "metadata": {},
   "outputs": [],
   "source": [
    "from sfh.datasets.tng100 import tng100\n",
    "dset = tfds.load('tng100', split='train', data_dir=data_dir)"
   ]
  },
  {
   "cell_type": "code",
   "execution_count": 30,
   "id": "aeb73c18",
   "metadata": {},
   "outputs": [
    {
     "name": "stdout",
     "output_type": "stream",
     "text": [
      "dict_keys(['Mstar', 'Mstar_Half', 'SFR_Max', 'SFR_Rad', 'SFR_halfRad', 'last_major_merger', 'last_over_max', 'mass_quantiles', 'noiseless_griz', 'object_id', 'sed', 'stellar_light', 'time', 'velocity_dispersion_map', 'velocity_map'])\n"
     ]
    }
   ],
   "source": [
    "for example in dset.take(1):\n",
    "    #example=preprocessing(example)\n",
    "    print(example.keys())"
   ]
  },
  {
   "cell_type": "code",
   "execution_count": 31,
   "id": "b427cc9a",
   "metadata": {},
   "outputs": [
    {
     "data": {
      "text/plain": [
       "<tf.Tensor: shape=(), dtype=bool, numpy=False>"
      ]
     },
     "execution_count": 31,
     "metadata": {},
     "output_type": "execute_result"
    }
   ],
   "source": [
    "tf.reduce_all(example['Mstar_Half'] == 0)"
   ]
  },
  {
   "cell_type": "code",
   "execution_count": 33,
   "id": "634f35f7",
   "metadata": {},
   "outputs": [],
   "source": [
    "img200 = []\n",
    "for example in examples:\n",
    "    img200.append(example['noiseless_griz'].numpy())"
   ]
  },
  {
   "cell_type": "code",
   "execution_count": 39,
   "id": "de52f712",
   "metadata": {},
   "outputs": [
    {
     "data": {
      "text/plain": [
       "9.816043"
      ]
     },
     "execution_count": 39,
     "metadata": {},
     "output_type": "execute_result"
    }
   ],
   "source": [
    "np.ravel(img200).std()"
   ]
  },
  {
   "cell_type": "code",
   "execution_count": 4,
   "id": "86cb5220",
   "metadata": {},
   "outputs": [
    {
     "name": "stdout",
     "output_type": "stream",
     "text": [
      "Populating the interactive namespace from numpy and matplotlib\n"
     ]
    },
    {
     "name": "stderr",
     "output_type": "stream",
     "text": [
      "/gpfs7kro/gpfslocalsup/pub/anaconda-py3/2021.05/envs/tensorflow-gpu-2.6.0/lib/python3.7/site-packages/IPython/core/magics/pylab.py:160: UserWarning: pylab import has clobbered these variables: ['randint']\n",
      "`%matplotlib` prevents importing * from pylab and numpy\n",
      "  \"\\n`%matplotlib` prevents importing * from pylab and numpy\"\n"
     ]
    },
    {
     "data": {
      "image/png": "[encoded data removed]",
      "text/plain": [
       "<Figure size 432x288 with 1 Axes>"
      ]
     },
     "metadata": {
      "needs_background": "light"
     },
     "output_type": "display_data"
    }
   ],
   "source": [
    "%pylab inline\n",
    "plot(example['time'], example['Mstar'])\n",
    "for i in example['mass_quantiles']:\n",
    "    axvline(i)"
   ]
  },
  {
   "cell_type": "code",
   "execution_count": 7,
   "id": "30e9b6d5",
   "metadata": {},
   "outputs": [
    {
     "data": {
      "image/png": "[encoded data removed]",
      "text/plain": [
       "<Figure size 432x288 with 4 Axes>"
      ]
     },
     "metadata": {
      "needs_background": "light"
     },
     "output_type": "display_data"
    }
   ],
   "source": [
    "imgs = example['noiseless_griz']\n",
    "example['noiseless_griz'].shape\n",
    "fig, ax = plt.subplots(2, 2)\n",
    "ax = ax.flatten()\n",
    "for i in range(4):\n",
    "    ax[i].imshow(imgs[..., i])"
   ]
  },
  {
   "cell_type": "code",
   "execution_count": 41,
   "id": "a8dfbc08",
   "metadata": {},
   "outputs": [],
   "source": [
    "norm_imgs = preprocessing(example)[0]"
   ]
  },
  {
   "cell_type": "code",
   "execution_count": 42,
   "id": "c86b4e27",
   "metadata": {},
   "outputs": [
    {
     "data": {
      "image/png": "[encoded data removed]",
      "text/plain": [
       "<Figure size 432x288 with 2 Axes>"
      ]
     },
     "metadata": {
      "needs_background": "light"
     },
     "output_type": "display_data"
    }
   ],
   "source": [
    "fig, ax = plt.subplots(1, 2)\n",
    "ax[0].hist(tf.reshape(imgs[..., 0], 128*128).numpy(), log=True, bins=30)\n",
    "ax[1].hist(tf.reshape(norm_imgs[..., 0], 128*128).numpy(), log=True, bins=30);"
   ]
  },
  {
   "cell_type": "code",
   "execution_count": 3,
   "id": "c4dabfea",
   "metadata": {},
   "outputs": [],
   "source": [
    "# functions\n",
    "\n",
    "def Model(nb_summaries):\n",
    "    \"\"\" Creates a small fully connected network\n",
    "    \"\"\"\n",
    "    return tf.keras.Sequential([\n",
    "        tfkl.Input(shape=(128, 128, 4)),\n",
    "        tfkl.Conv2D(16, 3, strides=2, activation='relu', padding='same'),\n",
    "        tfkl.Conv2D(32, 3, strides=2, activation='relu', padding='same'),\n",
    "        tfkl.Conv2D(64, 3, strides=2, activation='relu', padding='same'),\n",
    "        tfkl.Conv2D(64, 3, strides=2, activation='relu', padding='same'),\n",
    "        tfkl.Flatten(),\n",
    "        tfkl.Dense(128, activation='relu'),\n",
    "        tfkl.Dense(1, activation='softplus')\n",
    "        ])\n",
    "\n",
    "import tensorflow_probability as tfp\n",
    "\n",
    "def ModelProba(nb_summaries):\n",
    "    \"\"\" Creates a CNN with probabilistic output\n",
    "    \"\"\"\n",
    "    num_components = 16\n",
    "    event_shape = [1]\n",
    "    return tf.keras.Sequential([\n",
    "        tfkl.Input(shape=(128, 128, 4)),\n",
    "        tfkl.Conv2D(16, 3, strides=2, activation='relu', padding='same'),\n",
    "        tfkl.Conv2D(32, 3, strides=2, activation='relu', padding='same'),\n",
    "        tfkl.Conv2D(64, 3, strides=2, activation='relu', padding='same'),\n",
    "        tfkl.Conv2D(64, 3, strides=2, activation='relu', padding='same'),\n",
    "        tfkl.Flatten(),\n",
    "        tfkl.Dense(128, activation='relu'),\n",
    "        tfkl.Dense(tfp.layers.MixtureNormal.params_size(num_components, event_shape)),\n",
    "        tfp.layers.MixtureNormal(num_components, event_shape),\n",
    "        ])\n",
    "\n",
    "\n",
    "def preprocessing(example):\n",
    "    # Magic constants (from mergers_kin_scripts)\n",
    "    std_noiseless_griz = 9.816043\n",
    "    stellar_light_compression = 3.0\n",
    "    img0 = example['noiseless_griz']\n",
    "    img0 = tf.where(tf.math.is_nan(img0), tf.zeros_like(img0), img0)\n",
    "    img0 = tf.where(tf.math.is_inf(img0), tf.zeros_like(img0), img0)\n",
    "    img0 = tf.math.asinh(img0 / tf.constant(std_noiseless_griz) * tf.constant(stellar_light_compression) ) / tf.constant(stellar_light_compression)\n",
    "\n",
    "    return img0, example['Mstar_Half'][0]\n",
    "\n",
    "def preprocessing_test(example):\n",
    "    # Magic constants (from mergers_kin_scripts)\n",
    "    std_noiseless_griz = 9.816043\n",
    "    stellar_light_compression = 3.0\n",
    "    \n",
    "    img0 = example['noiseless_griz']\n",
    "    img0 = tf.where(tf.math.is_nan(img0), tf.zeros_like(img0), img0)\n",
    "    img0 = tf.where(tf.math.is_inf(img0), tf.zeros_like(img0), img0)\n",
    "    img0 = tf.math.asinh(img0 / tf.constant(std_noiseless_griz) * tf.constant(stellar_light_compression) ) / tf.constant(stellar_light_compression)\n",
    "\n",
    "    return img0, example['Mstar_Half'][0], example['Mstar_Half'], example['time'], example['mass_quantiles']\n",
    "\n",
    "def input_fn(mode='train', batch_size=32):\n",
    "    \"\"\"\n",
    "    mode: 'train' or 'test'\n",
    "    \"\"\"\n",
    "    def has_sfh(example):\n",
    "        print(example)\n",
    "        return not tf.reduce_all(example['Mstar_Half'] == 0)\n",
    "\n",
    "    if mode == 'train':\n",
    "        dataset = tfds.load('tng100', split='train[:80%]', data_dir=data_dir)\n",
    "        dataset = dataset.filter(has_sfh) # adding a filtering condition to exclude empty catalogs\n",
    "        dataset = dataset.map(preprocessing) # Apply data preprocessing\n",
    "        dataset = dataset.repeat()\n",
    "        dataset = dataset.shuffle(10000)\n",
    "        #dataset = dataset.filter(lambda x: x['last_over_max'] > 0.9) # adding a filtering condition to gold samples\n",
    "    else:\n",
    "        dataset = tfds.load('tng100', split='train[80%:]', data_dir=data_dir)\n",
    "        #dataset = dataset.filter(lambda x: x['has_sfh'] == True) # adding a filtering condition to exclude empty catalogs\n",
    "        #dataset = dataset.filter(lambda x: x['last_over_max'] > 0.9) # adding a filtering condition to gold samples\n",
    "        dataset = dataset.map(preprocessing_test) # Apply data preprocessing\n",
    "    \n",
    "    dataset = dataset.batch(batch_size, drop_remainder=True)\n",
    "\n",
    "    dataset = dataset.prefetch(-1)  # fetch next batches while training current one (-1 for autotune)\n",
    "    return dataset"
   ]
  },
  {
   "cell_type": "code",
   "execution_count": 3,
   "id": "55093d3d",
   "metadata": {},
   "outputs": [
    {
     "name": "stdout",
     "output_type": "stream",
     "text": [
      "Model: \"sequential\"\n",
      "_________________________________________________________________\n",
      "Layer (type)                 Output Shape              Param #   \n",
      "=================================================================\n",
      "conv2d (Conv2D)              (None, 64, 64, 16)        592       \n",
      "_________________________________________________________________\n",
      "conv2d_1 (Conv2D)            (None, 32, 32, 32)        4640      \n",
      "_________________________________________________________________\n",
      "conv2d_2 (Conv2D)            (None, 16, 16, 64)        18496     \n",
      "_________________________________________________________________\n",
      "conv2d_3 (Conv2D)            (None, 8, 8, 64)          36928     \n",
      "_________________________________________________________________\n",
      "flatten (Flatten)            (None, 4096)              0         \n",
      "_________________________________________________________________\n",
      "dense (Dense)                (None, 128)               524416    \n",
      "_________________________________________________________________\n",
      "dense_1 (Dense)              (None, 1)                 129       \n",
      "=================================================================\n",
      "Total params: 585,201\n",
      "Trainable params: 585,201\n",
      "Non-trainable params: 0\n",
      "_________________________________________________________________\n"
     ]
    },
    {
     "name": "stderr",
     "output_type": "stream",
     "text": [
      "2021-12-09 12:46:18.251877: I tensorflow/core/platform/cpu_feature_guard.cc:142] This TensorFlow binary is optimized with oneAPI Deep Neural Network Library (oneDNN) to use the following CPU instructions in performance-critical operations:  SSE3 SSE4.1 SSE4.2 AVX AVX2 AVX512F FMA\n",
      "To enable them in other operations, rebuild TensorFlow with the appropriate compiler flags.\n",
      "2021-12-09 12:46:18.895100: I tensorflow/core/common_runtime/gpu/gpu_device.cc:1510] Created device /job:localhost/replica:0/task:0/device:GPU:0 with 30998 MB memory:  -> device: 0, name: Tesla V100-SXM2-32GB, pci bus id: 0000:1a:00.0, compute capability: 7.0\n"
     ]
    }
   ],
   "source": [
    "model = Model(1)\n",
    "model.summary()\n"
   ]
  },
  {
   "cell_type": "code",
   "execution_count": 41,
   "id": "8479485f",
   "metadata": {},
   "outputs": [],
   "source": [
    "LEARNING_RATE=0.001\n",
    "LEARNING_RATE_EXP_DECAY=0.9\n",
    "\n",
    "lr_decay = tf.keras.callbacks.LearningRateScheduler(\n",
    "    lambda epoch: LEARNING_RATE * LEARNING_RATE_EXP_DECAY**epoch,\n",
    "    verbose=True)"
   ]
  },
  {
   "cell_type": "code",
   "execution_count": 5,
   "id": "d59620d8",
   "metadata": {},
   "outputs": [],
   "source": [
    "\n",
    "\n",
    "model.compile(optimizer=tf.keras.optimizers.Adam(),\n",
    "              loss=tf.keras.losses.MSE, metrics=['accuracy'])\n",
    "label = 'img_cnn_last-mass'\n",
    "EPOCHS = 100\n",
    "now = str(datetime.datetime.now())[0:16].replace('-','_').replace(' ','_').replace(':','_')\n",
    "checkpoint_filepath = '/gpfsscratch/rech/qrc/commun/sfhsed/checkpoint/'+label+'/'+now\n",
    "model_checkpoint_callback = tf.keras.callbacks.ModelCheckpoint(\n",
    "    filepath=checkpoint_filepath,\n",
    "    save_weights_only=True,\n",
    "    monitor='val_accuracy',\n",
    "    mode='max',\n",
    "    save_best_only=False)\n",
    "# The model weights (that are considered the best) are loaded into the model."
   ]
  },
  {
   "cell_type": "code",
   "execution_count": 6,
   "id": "bd88086e",
   "metadata": {},
   "outputs": [
    {
     "name": "stdout",
     "output_type": "stream",
     "text": [
      "WARNING:tensorflow:From /tmp/xpython_1738381/337460670.py:1: is_gpu_available (from tensorflow.python.framework.test_util) is deprecated and will be removed in a future version.\n",
      "Instructions for updating:\n",
      "Use `tf.config.list_physical_devices('GPU')` instead.\n"
     ]
    },
    {
     "name": "stderr",
     "output_type": "stream",
     "text": [
      "WARNING:tensorflow:From /tmp/xpython_1738381/337460670.py:1: is_gpu_available (from tensorflow.python.framework.test_util) is deprecated and will be removed in a future version.\n",
      "Instructions for updating:\n",
      "Use `tf.config.list_physical_devices('GPU')` instead.\n"
     ]
    },
    {
     "data": {
      "text/plain": [
       "True"
      ]
     },
     "execution_count": 6,
     "metadata": {},
     "output_type": "execute_result"
    }
   ],
   "source": [
    "tf.test.is_gpu_available()"
   ]
  },
  {
   "cell_type": "code",
   "execution_count": 6,
   "id": "fc7b7007",
   "metadata": {},
   "outputs": [
    {
     "name": "stdout",
     "output_type": "stream",
     "text": [
      "{'Mstar': <tf.Tensor 'args_0:0' shape=(100,) dtype=float32>, 'Mstar_Half': <tf.Tensor 'args_1:0' shape=(100,) dtype=float32>, 'SFR_Max': <tf.Tensor 'args_2:0' shape=(100,) dtype=float32>, 'SFR_Rad': <tf.Tensor 'args_3:0' shape=(100,) dtype=float32>, 'SFR_halfRad': <tf.Tensor 'args_4:0' shape=(100,) dtype=float32>, 'last_major_merger': <tf.Tensor 'args_5:0' shape=() dtype=float32>, 'last_over_max': <tf.Tensor 'args_6:0' shape=() dtype=float32>, 'mass_quantiles': <tf.Tensor 'args_7:0' shape=(9,) dtype=float32>, 'noiseless_griz': <tf.Tensor 'args_8:0' shape=(128, 128, 4) dtype=float32>, 'object_id': <tf.Tensor 'args_9:0' shape=() dtype=int32>, 'sed': <tf.Tensor 'args_10:0' shape=(143,) dtype=float32>, 'stellar_light': <tf.Tensor 'args_11:0' shape=(512, 512) dtype=float32>, 'time': <tf.Tensor 'args_12:0' shape=(100,) dtype=float32>, 'velocity_dispersion_map': <tf.Tensor 'args_13:0' shape=(512, 512) dtype=float32>, 'velocity_map': <tf.Tensor 'args_14:0' shape=(512, 512) dtype=float32>}\n",
      "Epoch 1/100\n",
      "\n",
      "Epoch 00001: LearningRateScheduler setting learning rate to 0.001.\n"
     ]
    },
    {
     "name": "stderr",
     "output_type": "stream",
     "text": [
      "2021-12-09 12:47:55.319548: I tensorflow/compiler/mlir/mlir_graph_optimization_pass.cc:185] None of the MLIR Optimization Passes are enabled (registered 2)\n",
      "2021-12-09 12:48:05.413953: I tensorflow/core/kernels/data/shuffle_dataset_op.cc:175] Filling up shuffle buffer (this may take a while): 7110 of 10000\n",
      "2021-12-09 12:48:07.466363: I tensorflow/core/kernels/data/shuffle_dataset_op.cc:228] Shuffle buffer filled.\n",
      "2021-12-09 12:48:08.016208: I tensorflow/stream_executor/cuda/cuda_dnn.cc:369] Loaded cuDNN version 8101\n"
     ]
    },
    {
     "name": "stdout",
     "output_type": "stream",
     "text": [
      "200/200 [==============================] - 20s 27ms/step - loss: 6.1918 - accuracy: 0.0000e+00\n",
      "Epoch 2/100\n",
      "\n",
      "Epoch 00002: LearningRateScheduler setting learning rate to 0.0009000000000000001.\n",
      "200/200 [==============================] - 5s 24ms/step - loss: 4.0615 - accuracy: 0.0000e+00\n",
      "Epoch 3/100\n",
      "\n",
      "Epoch 00003: LearningRateScheduler setting learning rate to 0.0008100000000000001.\n",
      "200/200 [==============================] - 5s 24ms/step - loss: 4.1610 - accuracy: 0.0000e+00\n",
      "Epoch 4/100\n",
      "\n",
      "Epoch 00004: LearningRateScheduler setting learning rate to 0.0007290000000000002.\n",
      "200/200 [==============================] - 5s 24ms/step - loss: 4.1852 - accuracy: 0.0000e+00\n",
      "Epoch 5/100\n",
      "\n",
      "Epoch 00005: LearningRateScheduler setting learning rate to 0.0006561000000000001.\n",
      "200/200 [==============================] - 5s 24ms/step - loss: 2.2607 - accuracy: 0.0000e+00\n",
      "Epoch 6/100\n",
      "\n",
      "Epoch 00006: LearningRateScheduler setting learning rate to 0.00059049.\n",
      "200/200 [==============================] - 10s 48ms/step - loss: 1.9345 - accuracy: 0.0000e+00\n",
      "Epoch 7/100\n",
      "\n",
      "Epoch 00007: LearningRateScheduler setting learning rate to 0.000531441.\n",
      "200/200 [==============================] - 8s 40ms/step - loss: 1.6054 - accuracy: 0.0000e+00\n",
      "Epoch 8/100\n",
      "\n",
      "Epoch 00008: LearningRateScheduler setting learning rate to 0.0004782969000000001.\n",
      "200/200 [==============================] - 5s 25ms/step - loss: 2.4687 - accuracy: 0.0000e+00\n",
      "Epoch 9/100\n",
      "\n",
      "Epoch 00009: LearningRateScheduler setting learning rate to 0.0004304672100000001.\n",
      "200/200 [==============================] - 5s 24ms/step - loss: 1.6196 - accuracy: 0.0000e+00\n",
      "Epoch 10/100\n",
      "\n",
      "Epoch 00010: LearningRateScheduler setting learning rate to 0.0003874204890000001.\n",
      "200/200 [==============================] - 5s 24ms/step - loss: 2.6835 - accuracy: 0.0000e+00\n",
      "Epoch 11/100\n",
      "\n",
      "Epoch 00011: LearningRateScheduler setting learning rate to 0.0003486784401000001.\n",
      "200/200 [==============================] - 4s 22ms/step - loss: 1.2869 - accuracy: 0.0000e+00\n",
      "Epoch 12/100\n",
      "\n",
      "Epoch 00012: LearningRateScheduler setting learning rate to 0.0003138105960900001.\n",
      "200/200 [==============================] - 5s 25ms/step - loss: 1.1794 - accuracy: 0.0000e+00\n",
      "Epoch 13/100\n",
      "\n",
      "Epoch 00013: LearningRateScheduler setting learning rate to 0.0002824295364810001.\n",
      "200/200 [==============================] - 5s 24ms/step - loss: 0.7481 - accuracy: 0.0000e+00\n",
      "Epoch 14/100\n",
      "\n",
      "Epoch 00014: LearningRateScheduler setting learning rate to 0.0002541865828329001.\n",
      "200/200 [==============================] - 5s 23ms/step - loss: 1.1848 - accuracy: 0.0000e+00\n",
      "Epoch 15/100\n",
      "\n",
      "Epoch 00015: LearningRateScheduler setting learning rate to 0.0002287679245496101.\n",
      "200/200 [==============================] - 5s 24ms/step - loss: 1.7621 - accuracy: 0.0000e+00\n",
      "Epoch 16/100\n",
      "\n",
      "Epoch 00016: LearningRateScheduler setting learning rate to 0.0002058911320946491.\n",
      "200/200 [==============================] - 5s 24ms/step - loss: 1.8402 - accuracy: 0.0000e+00\n",
      "Epoch 17/100\n",
      "\n",
      "Epoch 00017: LearningRateScheduler setting learning rate to 0.00018530201888518417.\n",
      "200/200 [==============================] - 5s 24ms/step - loss: 0.5672 - accuracy: 0.0000e+00\n",
      "Epoch 18/100\n",
      "\n",
      "Epoch 00018: LearningRateScheduler setting learning rate to 0.00016677181699666576.\n",
      "200/200 [==============================] - 4s 22ms/step - loss: 1.7976 - accuracy: 0.0000e+00\n",
      "Epoch 19/100\n",
      "\n",
      "Epoch 00019: LearningRateScheduler setting learning rate to 0.00015009463529699917.\n",
      "200/200 [==============================] - 5s 25ms/step - loss: 0.8991 - accuracy: 0.0000e+00\n",
      "Epoch 20/100\n",
      "\n",
      "Epoch 00020: LearningRateScheduler setting learning rate to 0.0001350851717672993.\n",
      "200/200 [==============================] - 5s 23ms/step - loss: 0.8277 - accuracy: 0.0000e+00\n",
      "Epoch 21/100\n",
      "\n",
      "Epoch 00021: LearningRateScheduler setting learning rate to 0.00012157665459056935.\n",
      "200/200 [==============================] - 5s 24ms/step - loss: 1.5025 - accuracy: 0.0000e+00\n",
      "Epoch 22/100\n",
      "\n",
      "Epoch 00022: LearningRateScheduler setting learning rate to 0.00010941898913151242.\n",
      "200/200 [==============================] - 4s 22ms/step - loss: 0.9842 - accuracy: 0.0000e+00\n",
      "Epoch 23/100\n",
      "\n",
      "Epoch 00023: LearningRateScheduler setting learning rate to 9.847709021836118e-05.\n",
      "200/200 [==============================] - 5s 25ms/step - loss: 1.2449 - accuracy: 0.0000e+00\n",
      "Epoch 24/100\n",
      "\n",
      "Epoch 00024: LearningRateScheduler setting learning rate to 8.862938119652506e-05.\n",
      "200/200 [==============================] - 5s 23ms/step - loss: 0.9905 - accuracy: 0.0000e+00\n",
      "Epoch 25/100\n",
      "\n",
      "Epoch 00025: LearningRateScheduler setting learning rate to 7.976644307687256e-05.\n",
      "200/200 [==============================] - 5s 24ms/step - loss: 0.8761 - accuracy: 0.0000e+00\n",
      "Epoch 26/100\n",
      "\n",
      "Epoch 00026: LearningRateScheduler setting learning rate to 7.17897987691853e-05.\n",
      "200/200 [==============================] - 5s 23ms/step - loss: 1.3468 - accuracy: 0.0000e+00\n",
      "Epoch 27/100\n",
      "\n",
      "Epoch 00027: LearningRateScheduler setting learning rate to 6.461081889226677e-05.\n",
      "200/200 [==============================] - 5s 24ms/step - loss: 0.6415 - accuracy: 0.0000e+00\n",
      "Epoch 28/100\n",
      "\n",
      "Epoch 00028: LearningRateScheduler setting learning rate to 5.8149737003040094e-05.\n",
      "200/200 [==============================] - 5s 23ms/step - loss: 1.1882 - accuracy: 0.0000e+00\n",
      "Epoch 29/100\n",
      "\n",
      "Epoch 00029: LearningRateScheduler setting learning rate to 5.233476330273609e-05.\n",
      "200/200 [==============================] - 5s 23ms/step - loss: 0.7576 - accuracy: 0.0000e+00\n",
      "Epoch 30/100\n",
      "\n",
      "Epoch 00030: LearningRateScheduler setting learning rate to 4.7101286972462485e-05.\n",
      "200/200 [==============================] - 5s 25ms/step - loss: 0.7213 - accuracy: 0.0000e+00\n",
      "Epoch 31/100\n",
      "\n",
      "Epoch 00031: LearningRateScheduler setting learning rate to 4.239115827521624e-05.\n",
      "200/200 [==============================] - 5s 23ms/step - loss: 0.9739 - accuracy: 0.0000e+00\n",
      "Epoch 32/100\n",
      "\n",
      "Epoch 00032: LearningRateScheduler setting learning rate to 3.8152042447694614e-05.\n",
      "200/200 [==============================] - 5s 24ms/step - loss: 0.8104 - accuracy: 0.0000e+00\n",
      "Epoch 33/100\n",
      "\n",
      "Epoch 00033: LearningRateScheduler setting learning rate to 3.433683820292515e-05.\n",
      "200/200 [==============================] - 4s 22ms/step - loss: 0.7313 - accuracy: 0.0000e+00\n",
      "Epoch 34/100\n",
      "\n",
      "Epoch 00034: LearningRateScheduler setting learning rate to 3.090315438263264e-05.\n",
      "200/200 [==============================] - 5s 25ms/step - loss: 1.0299 - accuracy: 0.0000e+00\n",
      "Epoch 35/100\n",
      "\n",
      "Epoch 00035: LearningRateScheduler setting learning rate to 2.7812838944369376e-05.\n",
      "200/200 [==============================] - 5s 23ms/step - loss: 0.7051 - accuracy: 0.0000e+00\n",
      "Epoch 36/100\n",
      "\n",
      "Epoch 00036: LearningRateScheduler setting learning rate to 2.5031555049932436e-05.\n",
      "200/200 [==============================] - 5s 24ms/step - loss: 0.7883 - accuracy: 0.0000e+00\n",
      "Epoch 37/100\n",
      "\n",
      "Epoch 00037: LearningRateScheduler setting learning rate to 2.2528399544939195e-05.\n",
      "200/200 [==============================] - 5s 23ms/step - loss: 0.5139 - accuracy: 0.0000e+00\n",
      "Epoch 38/100\n",
      "\n",
      "Epoch 00038: LearningRateScheduler setting learning rate to 2.0275559590445276e-05.\n",
      "200/200 [==============================] - 7s 36ms/step - loss: 1.0798 - accuracy: 0.0000e+00\n",
      "Epoch 39/100\n",
      "\n",
      "Epoch 00039: LearningRateScheduler setting learning rate to 1.824800363140075e-05.\n",
      "200/200 [==============================] - 10s 52ms/step - loss: 1.0454 - accuracy: 0.0000e+00\n",
      "Epoch 40/100\n",
      "\n",
      "Epoch 00040: LearningRateScheduler setting learning rate to 1.6423203268260675e-05.\n",
      "200/200 [==============================] - 5s 23ms/step - loss: 0.7465 - accuracy: 0.0000e+00\n",
      "Epoch 41/100\n",
      "\n",
      "Epoch 00041: LearningRateScheduler setting learning rate to 1.4780882941434608e-05.\n",
      "200/200 [==============================] - 5s 24ms/step - loss: 0.8672 - accuracy: 0.0000e+00\n",
      "Epoch 42/100\n",
      "\n",
      "Epoch 00042: LearningRateScheduler setting learning rate to 1.3302794647291146e-05.\n",
      "200/200 [==============================] - 5s 23ms/step - loss: 0.9183 - accuracy: 0.0000e+00\n",
      "Epoch 43/100\n",
      "\n",
      "Epoch 00043: LearningRateScheduler setting learning rate to 1.1972515182562033e-05.\n",
      "200/200 [==============================] - 5s 23ms/step - loss: 0.9206 - accuracy: 0.0000e+00\n",
      "Epoch 44/100\n",
      "\n",
      "Epoch 00044: LearningRateScheduler setting learning rate to 1.077526366430583e-05.\n",
      "200/200 [==============================] - 4s 22ms/step - loss: 0.7018 - accuracy: 0.0000e+00\n",
      "Epoch 45/100\n",
      "\n",
      "Epoch 00045: LearningRateScheduler setting learning rate to 9.697737297875246e-06.\n",
      "200/200 [==============================] - 5s 25ms/step - loss: 0.6179 - accuracy: 0.0000e+00\n",
      "Epoch 46/100\n",
      "\n",
      "Epoch 00046: LearningRateScheduler setting learning rate to 8.727963568087722e-06.\n",
      "200/200 [==============================] - 5s 23ms/step - loss: 0.6812 - accuracy: 0.0000e+00\n",
      "Epoch 47/100\n",
      "\n",
      "Epoch 00047: LearningRateScheduler setting learning rate to 7.85516721127895e-06.\n",
      "200/200 [==============================] - 5s 24ms/step - loss: 0.6251 - accuracy: 0.0000e+00\n",
      "Epoch 48/100\n",
      "\n",
      "Epoch 00048: LearningRateScheduler setting learning rate to 7.069650490151056e-06.\n",
      "200/200 [==============================] - 5s 23ms/step - loss: 0.7716 - accuracy: 0.0000e+00\n",
      "Epoch 49/100\n",
      "\n",
      "Epoch 00049: LearningRateScheduler setting learning rate to 6.36268544113595e-06.\n",
      "200/200 [==============================] - 7s 35ms/step - loss: 0.6645 - accuracy: 0.0000e+00\n",
      "Epoch 50/100\n",
      "\n",
      "Epoch 00050: LearningRateScheduler setting learning rate to 5.726416897022355e-06.\n",
      "200/200 [==============================] - 10s 52ms/step - loss: 0.6515 - accuracy: 0.0000e+00\n",
      "Epoch 51/100\n",
      "\n",
      "Epoch 00051: LearningRateScheduler setting learning rate to 5.15377520732012e-06.\n",
      "200/200 [==============================] - 5s 23ms/step - loss: 1.0000 - accuracy: 0.0000e+00\n",
      "Epoch 52/100\n",
      "\n",
      "Epoch 00052: LearningRateScheduler setting learning rate to 4.638397686588108e-06.\n",
      "200/200 [==============================] - 5s 24ms/step - loss: 0.6746 - accuracy: 0.0000e+00\n",
      "Epoch 53/100\n",
      "\n",
      "Epoch 00053: LearningRateScheduler setting learning rate to 4.174557917929297e-06.\n",
      "200/200 [==============================] - 5s 24ms/step - loss: 0.7827 - accuracy: 0.0000e+00\n",
      "Epoch 54/100\n",
      "\n",
      "Epoch 00054: LearningRateScheduler setting learning rate to 3.7571021261363675e-06.\n",
      "200/200 [==============================] - 5s 23ms/step - loss: 0.6272 - accuracy: 0.0000e+00\n",
      "Epoch 55/100\n",
      "\n",
      "Epoch 00055: LearningRateScheduler setting learning rate to 3.381391913522731e-06.\n",
      "200/200 [==============================] - 4s 22ms/step - loss: 0.6971 - accuracy: 0.0000e+00\n",
      "Epoch 56/100\n",
      "\n",
      "Epoch 00056: LearningRateScheduler setting learning rate to 3.0432527221704577e-06.\n",
      "200/200 [==============================] - 5s 25ms/step - loss: 0.8849 - accuracy: 0.0000e+00\n",
      "Epoch 57/100\n",
      "\n",
      "Epoch 00057: LearningRateScheduler setting learning rate to 2.7389274499534123e-06.\n",
      "200/200 [==============================] - 5s 23ms/step - loss: 0.7828 - accuracy: 0.0000e+00\n",
      "Epoch 58/100\n",
      "\n",
      "Epoch 00058: LearningRateScheduler setting learning rate to 2.465034704958071e-06.\n",
      "200/200 [==============================] - 5s 23ms/step - loss: 0.8651 - accuracy: 0.0000e+00\n",
      "Epoch 59/100\n",
      "\n",
      "Epoch 00059: LearningRateScheduler setting learning rate to 2.218531234462264e-06.\n",
      "200/200 [==============================] - 5s 23ms/step - loss: 0.9255 - accuracy: 0.0000e+00\n",
      "Epoch 60/100\n",
      "\n",
      "Epoch 00060: LearningRateScheduler setting learning rate to 1.9966781110160375e-06.\n",
      "200/200 [==============================] - 7s 35ms/step - loss: 0.9172 - accuracy: 0.0000e+00\n",
      "Epoch 61/100\n",
      "\n",
      "Epoch 00061: LearningRateScheduler setting learning rate to 1.797010299914434e-06.\n",
      "200/200 [==============================] - 11s 53ms/step - loss: 0.6076 - accuracy: 0.0000e+00\n",
      "Epoch 62/100\n",
      "\n",
      "Epoch 00062: LearningRateScheduler setting learning rate to 1.6173092699229906e-06.\n",
      "200/200 [==============================] - 5s 23ms/step - loss: 0.7314 - accuracy: 0.0000e+00\n",
      "Epoch 63/100\n",
      "\n",
      "Epoch 00063: LearningRateScheduler setting learning rate to 1.4555783429306915e-06.\n",
      "200/200 [==============================] - 5s 24ms/step - loss: 0.5278 - accuracy: 0.0000e+00\n",
      "Epoch 64/100\n",
      "\n",
      "Epoch 00064: LearningRateScheduler setting learning rate to 1.3100205086376223e-06.\n",
      "200/200 [==============================] - 5s 24ms/step - loss: 0.6485 - accuracy: 0.0000e+00\n",
      "Epoch 65/100\n",
      "\n",
      "Epoch 00065: LearningRateScheduler setting learning rate to 1.1790184577738603e-06.\n",
      "200/200 [==============================] - 5s 23ms/step - loss: 0.5742 - accuracy: 0.0000e+00\n",
      "Epoch 66/100\n",
      "\n",
      "Epoch 00066: LearningRateScheduler setting learning rate to 1.061116611996474e-06.\n",
      "200/200 [==============================] - 4s 22ms/step - loss: 0.5654 - accuracy: 0.0000e+00\n",
      "Epoch 67/100\n",
      "\n",
      "Epoch 00067: LearningRateScheduler setting learning rate to 9.550049507968267e-07.\n",
      "200/200 [==============================] - 5s 24ms/step - loss: 0.9478 - accuracy: 0.0000e+00\n",
      "Epoch 68/100\n",
      "\n",
      "Epoch 00068: LearningRateScheduler setting learning rate to 8.595044557171441e-07.\n",
      "200/200 [==============================] - 5s 23ms/step - loss: 1.0506 - accuracy: 0.0000e+00\n",
      "Epoch 69/100\n",
      "\n",
      "Epoch 00069: LearningRateScheduler setting learning rate to 7.735540101454298e-07.\n",
      "200/200 [==============================] - 5s 23ms/step - loss: 0.8916 - accuracy: 0.0000e+00\n",
      "Epoch 70/100\n",
      "\n",
      "Epoch 00070: LearningRateScheduler setting learning rate to 6.961986091308867e-07.\n",
      "200/200 [==============================] - 5s 24ms/step - loss: 0.6621 - accuracy: 0.0000e+00\n",
      "Epoch 71/100\n",
      "\n",
      "Epoch 00071: LearningRateScheduler setting learning rate to 6.265787482177981e-07.\n",
      "200/200 [==============================] - 7s 35ms/step - loss: 0.6236 - accuracy: 0.0000e+00\n",
      "Epoch 72/100\n",
      "\n",
      "Epoch 00072: LearningRateScheduler setting learning rate to 5.639208733960184e-07.\n",
      "200/200 [==============================] - 11s 53ms/step - loss: 0.7392 - accuracy: 0.0000e+00\n",
      "Epoch 73/100\n",
      "\n",
      "Epoch 00073: LearningRateScheduler setting learning rate to 5.075287860564166e-07.\n",
      "200/200 [==============================] - 5s 23ms/step - loss: 1.2082 - accuracy: 0.0000e+00\n",
      "Epoch 74/100\n",
      "\n",
      "Epoch 00074: LearningRateScheduler setting learning rate to 4.5677590745077486e-07.\n",
      "200/200 [==============================] - 5s 24ms/step - loss: 0.5832 - accuracy: 0.0000e+00\n",
      "Epoch 75/100\n",
      "\n",
      "Epoch 00075: LearningRateScheduler setting learning rate to 4.110983167056974e-07.\n",
      "200/200 [==============================] - 5s 23ms/step - loss: 0.7583 - accuracy: 0.0000e+00\n",
      "Epoch 76/100\n",
      "\n",
      "Epoch 00076: LearningRateScheduler setting learning rate to 3.699884850351277e-07.\n",
      "200/200 [==============================] - 5s 23ms/step - loss: 0.5730 - accuracy: 0.0000e+00\n",
      "Epoch 77/100\n",
      "\n",
      "Epoch 00077: LearningRateScheduler setting learning rate to 3.329896365316149e-07.\n",
      "200/200 [==============================] - 4s 22ms/step - loss: 0.6503 - accuracy: 0.0000e+00\n",
      "Epoch 78/100\n",
      "\n",
      "Epoch 00078: LearningRateScheduler setting learning rate to 2.996906728784534e-07.\n",
      "200/200 [==============================] - 5s 24ms/step - loss: 0.6550 - accuracy: 0.0000e+00\n",
      "Epoch 79/100\n",
      "\n",
      "Epoch 00079: LearningRateScheduler setting learning rate to 2.6972160559060813e-07.\n",
      "200/200 [==============================] - 5s 23ms/step - loss: 0.7959 - accuracy: 0.0000e+00\n",
      "Epoch 80/100\n",
      "\n",
      "Epoch 00080: LearningRateScheduler setting learning rate to 2.427494450315473e-07.\n",
      "200/200 [==============================] - 5s 23ms/step - loss: 0.4899 - accuracy: 0.0000e+00\n",
      "Epoch 81/100\n",
      "\n",
      "Epoch 00081: LearningRateScheduler setting learning rate to 2.1847450052839256e-07.\n",
      "200/200 [==============================] - 5s 23ms/step - loss: 0.9430 - accuracy: 0.0000e+00\n",
      "Epoch 82/100\n",
      "\n",
      "Epoch 00082: LearningRateScheduler setting learning rate to 1.966270504755533e-07.\n",
      "200/200 [==============================] - 7s 34ms/step - loss: 0.4765 - accuracy: 0.0000e+00\n",
      "Epoch 83/100\n",
      "\n",
      "Epoch 00083: LearningRateScheduler setting learning rate to 1.7696434542799797e-07.\n",
      "200/200 [==============================] - 11s 54ms/step - loss: 0.9213 - accuracy: 0.0000e+00\n",
      "Epoch 84/100\n",
      "\n",
      "Epoch 00084: LearningRateScheduler setting learning rate to 1.5926791088519817e-07.\n",
      "200/200 [==============================] - 5s 23ms/step - loss: 0.9991 - accuracy: 0.0000e+00\n",
      "Epoch 85/100\n",
      "\n",
      "Epoch 00085: LearningRateScheduler setting learning rate to 1.4334111979667837e-07.\n",
      "200/200 [==============================] - 5s 24ms/step - loss: 0.5419 - accuracy: 0.0000e+00\n",
      "Epoch 86/100\n",
      "\n",
      "Epoch 00086: LearningRateScheduler setting learning rate to 1.2900700781701054e-07.\n",
      "200/200 [==============================] - 5s 23ms/step - loss: 0.7415 - accuracy: 0.0000e+00\n",
      "Epoch 87/100\n",
      "\n",
      "Epoch 00087: LearningRateScheduler setting learning rate to 1.1610630703530949e-07.\n",
      "200/200 [==============================] - 5s 23ms/step - loss: 0.6747 - accuracy: 0.0000e+00\n",
      "Epoch 88/100\n",
      "\n",
      "Epoch 00088: LearningRateScheduler setting learning rate to 1.0449567633177854e-07.\n",
      "200/200 [==============================] - 4s 22ms/step - loss: 0.6669 - accuracy: 0.0000e+00\n",
      "Epoch 89/100\n",
      "\n",
      "Epoch 00089: LearningRateScheduler setting learning rate to 9.404610869860068e-08.\n",
      "200/200 [==============================] - 5s 24ms/step - loss: 0.8561 - accuracy: 0.0000e+00\n",
      "Epoch 90/100\n",
      "\n",
      "Epoch 00090: LearningRateScheduler setting learning rate to 8.464149782874062e-08.\n",
      "200/200 [==============================] - 5s 23ms/step - loss: 0.7823 - accuracy: 0.0000e+00\n",
      "Epoch 91/100\n",
      "\n",
      "Epoch 00091: LearningRateScheduler setting learning rate to 7.617734804586657e-08.\n",
      "200/200 [==============================] - 5s 23ms/step - loss: 0.6762 - accuracy: 0.0000e+00\n",
      "Epoch 92/100\n",
      "\n",
      "Epoch 00092: LearningRateScheduler setting learning rate to 6.85596132412799e-08.\n",
      "200/200 [==============================] - 4s 21ms/step - loss: 1.0152 - accuracy: 0.0000e+00\n",
      "Epoch 93/100\n",
      "\n",
      "Epoch 00093: LearningRateScheduler setting learning rate to 6.170365191715192e-08.\n",
      "200/200 [==============================] - 5s 25ms/step - loss: 0.7070 - accuracy: 0.0000e+00\n",
      "Epoch 94/100\n",
      "\n",
      "Epoch 00094: LearningRateScheduler setting learning rate to 5.5533286725436726e-08.\n",
      "200/200 [==============================] - 6s 29ms/step - loss: 0.9328 - accuracy: 0.0000e+00\n",
      "Epoch 95/100\n",
      "\n",
      "Epoch 00095: LearningRateScheduler setting learning rate to 4.997995805289306e-08.\n",
      "200/200 [==============================] - 5s 23ms/step - loss: 0.5007 - accuracy: 0.0000e+00\n",
      "Epoch 96/100\n",
      "\n",
      "Epoch 00096: LearningRateScheduler setting learning rate to 4.498196224760375e-08.\n",
      "200/200 [==============================] - 5s 23ms/step - loss: 0.6638 - accuracy: 0.0000e+00\n",
      "Epoch 97/100\n",
      "\n",
      "Epoch 00097: LearningRateScheduler setting learning rate to 4.048376602284338e-08.\n",
      "200/200 [==============================] - 5s 23ms/step - loss: 0.5652 - accuracy: 0.0000e+00\n",
      "Epoch 98/100\n",
      "\n",
      "Epoch 00098: LearningRateScheduler setting learning rate to 3.643538942055904e-08.\n",
      "200/200 [==============================] - 5s 23ms/step - loss: 0.6039 - accuracy: 0.0000e+00\n",
      "Epoch 99/100\n",
      "\n",
      "Epoch 00099: LearningRateScheduler setting learning rate to 3.279185047850314e-08.\n",
      "200/200 [==============================] - 4s 22ms/step - loss: 1.0418 - accuracy: 0.0000e+00\n",
      "Epoch 100/100\n",
      "\n",
      "Epoch 00100: LearningRateScheduler setting learning rate to 2.9512665430652826e-08.\n",
      "200/200 [==============================] - 5s 24ms/step - loss: 0.7472 - accuracy: 0.0000e+00\n"
     ]
    }
   ],
   "source": [
    "dset = input_fn(mode='train', batch_size=32)\n",
    "history = model.fit(dset, steps_per_epoch=200, epochs=EPOCHS, callbacks=[model_checkpoint_callback, lr_decay])"
   ]
  },
  {
   "cell_type": "code",
   "execution_count": 12,
   "id": "1d537c8c",
   "metadata": {},
   "outputs": [
    {
     "data": {
      "text/plain": [
       "<tensorflow.python.training.tracking.util.CheckpointLoadStatus at 0x154e701823d0>"
      ]
     },
     "execution_count": 12,
     "metadata": {},
     "output_type": "execute_result"
    }
   ],
   "source": [
    "checkpoint_filepath = '/gpfsdswork/projects/rech/qrc/uzu97zj/AstroInfo2021/tmp/tmp'\n",
    "#checkpoint_filepath = '/gpfsdswork/projects/rech/qrc/uzu97zj/AstroInfo2021/tmp/tmp'\n",
    "model.load_weights(checkpoint_filepath)\n",
    "#history = model.fit(dset, steps_per_epoch=200, epochs=EPOCHS, callbacks=[model_checkpoint_callback])\n",
    "# plt.plot(history.loss)\n"
   ]
  },
  {
   "cell_type": "code",
   "execution_count": 7,
   "id": "b449233a",
   "metadata": {},
   "outputs": [
    {
     "data": {
      "image/png": "[encoded data removed]",
      "text/plain": [
       "<Figure size 432x288 with 1 Axes>"
      ]
     },
     "metadata": {
      "needs_background": "light"
     },
     "output_type": "display_data"
    }
   ],
   "source": [
    "%matplotlib inline\n",
    "plt.figure()\n",
    "plt.plot(np.arange(len(model.history.history['loss'])), model.history.history['loss'])\n",
    "#plt.yscale('log')\n",
    "plt.title('MSE Loss history')\n",
    "plt.show()"
   ]
  },
  {
   "cell_type": "markdown",
   "id": "6d7d3a38",
   "metadata": {},
   "source": [
    "testing loss"
   ]
  },
  {
   "cell_type": "code",
   "execution_count": 14,
   "id": "a715e405",
   "metadata": {},
   "outputs": [],
   "source": [
    "dset_test = input_fn(mode='test', batch_size=128)"
   ]
  },
  {
   "cell_type": "code",
   "execution_count": 15,
   "id": "f7a0b8e4",
   "metadata": {},
   "outputs": [],
   "source": [
    "i = 0\n",
    "truthes = []\n",
    "predicted = []\n",
    "for ibatch, features in enumerate(dset_test):\n",
    "    truth = features[1]\n",
    "    truthes.append(truth)\n",
    "    predict = model.predict(features[0])\n",
    "    predicted.append(predict)\n",
    "    i = i + 1"
   ]
  },
  {
   "cell_type": "code",
   "execution_count": 16,
   "id": "4506b5ed",
   "metadata": {},
   "outputs": [],
   "source": [
    "truthes = np.ravel(truthes)\n",
    "predicted = np.ravel(predicted)"
   ]
  },
  {
   "cell_type": "code",
   "execution_count": 25,
   "id": "0574d022",
   "metadata": {},
   "outputs": [
    {
     "data": {
      "image/png": "[encoded data removed]",
      "text/plain": [
       "<Figure size 432x288 with 1 Axes>"
      ]
     },
     "metadata": {
      "needs_background": "light"
     },
     "output_type": "display_data"
    }
   ],
   "source": [
    "plt.plot(truthes, predicted, '.')\n",
    "plt.xlim(0, 40)\n",
    "plt.ylim(0, 40)\n",
    "plt.plot([0, 40], [0, 40], '--')\n",
    "plt.xlabel('True Final Mass [$10^{10}M_\\odot$]')\n",
    "plt.ylabel('Predicted Final Mass [$10^{10}M_\\odot$]')\n",
    "plt.title('CNN Image -> Final mass')\n",
    "plt.savefig('CNN-image-final_mass.pdf')"
   ]
  },
  {
   "cell_type": "code",
   "execution_count": 23,
   "id": "f696634d",
   "metadata": {},
   "outputs": [
    {
     "data": {
      "text/plain": [
       "'/gpfsdswork/projects/rech/qrc/ups48kf/AstroInfo2021/sfh-inference-hackathon/notebooks'"
      ]
     },
     "execution_count": 23,
     "metadata": {},
     "output_type": "execute_result"
    }
   ],
   "source": [
    "pwd"
   ]
  },
  {
   "cell_type": "code",
   "execution_count": 25,
   "id": "56a1ace4",
   "metadata": {},
   "outputs": [],
   "source": [
    "# k = 0\n",
    "# fig, ax = plt.subplots(6, 1, figsize=(5, 10))\n",
    "# for batch, features in enumerate(dset_test):\n",
    "#     if batch > 1:\n",
    "#         break\n",
    "#     predict = model.predict(features[0])\n",
    "#     for j, gal in enumerate(features):\n",
    "#         if j >6:\n",
    "#             break\n",
    "# #         ax[k, 0].plot(np.arange(len(features[0][0])), features[0][0])\n",
    "#         ax[k].plot(features[3][0], features[2][0])\n",
    "        \n",
    "#         ax[k].scatter(1, predict[j], marker='x', color='red', s=10)\n",
    "#         k += 1\n",
    "#         #ax[k,1].set_ylim(0,1.5)\n",
    "                  "
   ]
  },
  {
   "cell_type": "code",
   "execution_count": 30,
   "id": "c96aa8e4",
   "metadata": {
    "collapsed": true,
    "jupyter": {
     "outputs_hidden": true
    }
   },
   "outputs": [
    {
     "ename": "AttributeError",
     "evalue": "'tuple' object has no attribute 'shape'",
     "output_type": "error",
     "traceback": [
      "\u001b[0;31m---------------------------------------------------------------------------\u001b[0m\n\u001b[0;31mAttributeError\u001b[0m                            Traceback (most recent call last)",
      "File \u001b[0;34m/gpfs7kro/gpfslocalsup/pub/anaconda-py3/2021.05/envs/tensorflow-gpu-2.6.0/lib/python3.7/site-packages/IPython/core/interactiveshell.py\u001b[0m, in \u001b[0;32mrun_code\u001b[0m:\nLine \u001b[0;34m3441\u001b[0m:  exec(code_obj, \u001b[36mself\u001b[39;49;00m.user_global_ns, \u001b[36mself\u001b[39;49;00m.user_ns)\n",
      "In  \u001b[0;34m[30]\u001b[0m:\nLine \u001b[0;34m1\u001b[0m:     features.shape\n",
      "\u001b[0;31mAttributeError\u001b[0m: 'tuple' object has no attribute 'shape'\n\u001b[0;31m---------------------------------------------------------------------------\u001b[0m"
     ]
    }
   ],
   "source": [
    "features.shape"
   ]
  },
  {
   "cell_type": "code",
   "execution_count": 49,
   "id": "8690516a",
   "metadata": {},
   "outputs": [
    {
     "name": "stderr",
     "output_type": "stream",
     "text": [
      "/gpfslocalsup/pub/anaconda-py3/2021.05/envs/tensorflow-gpu-2.6.0/bin/xpython:5: RuntimeWarning: divide by zero encountered in log10\n"
     ]
    },
    {
     "data": {
      "image/png": "[encoded data removed]",
      "text/plain": [
       "<Figure size 1080x360 with 1 Axes>"
      ]
     },
     "metadata": {
      "needs_background": "light"
     },
     "output_type": "display_data"
    }
   ],
   "source": [
    "k = randint(0, len(features[0]))\n",
    "%matplotlib inline\n",
    "fig, ax = plt.subplots(1, 1, figsize=(15, 5))\n",
    "# features = np.ma.masked_values(features[2],0)\n",
    "ax.plot(features[3][k], np.log10(features[2][k])+10)\n",
    "#np.log10(features[2][k])+10\n",
    "predict[k] = np.ma.masked_values(predict[k],0)\n",
    "ax.scatter(1, np.log10(predict[k])+10, marker='x', color='red', s=30, alpha=0.7)\n",
    "ax.scatter(1, np.log10(features[2][k][0])+10, marker='o', color='blue', s=30, alpha=0.3)\n",
    "ax.set_xlabel('Time')\n",
    "ax.set_ylabel('$M^{*}$');\n",
    "plt.show()"
   ]
  },
  {
   "cell_type": "code",
   "execution_count": 50,
   "id": "2b5e79ed",
   "metadata": {},
   "outputs": [],
   "source": [
    "err = []\n",
    "m_m = []\n",
    "err_n = []\n",
    "#features = np.ma.masked_values(features[2],0)\n",
    "#predict[k] = np.ma.masked_values(predict[k],0)\n",
    "for row in np.arange(len(features[0])):\n",
    "    error = (features[2][row][0].numpy() - predict[row][0])\n",
    "    m_max = features[2][row][0].numpy()\n",
    "    if features[2][row][0].numpy() != 0:\n",
    "        error_n = (features[2][row][0].numpy() - predict[row][0])/features[2][row][0].numpy()\n",
    "    err.append(error)\n",
    "    err_n.append(error_n)\n",
    "    m_m.append(m_m)"
   ]
  },
  {
   "cell_type": "code",
   "execution_count": 51,
   "id": "ca959177",
   "metadata": {},
   "outputs": [
    {
     "data": {
      "text/plain": [
       "Text(0.5, 0, '$M_{data} - M_{predicted}$')"
      ]
     },
     "execution_count": 51,
     "metadata": {},
     "output_type": "execute_result"
    },
    {
     "data": {
      "image/png": "[encoded data removed]",
      "text/plain": [
       "<Figure size 432x288 with 1 Axes>"
      ]
     },
     "metadata": {
      "needs_background": "light"
     },
     "output_type": "display_data"
    }
   ],
   "source": [
    "err = np.ma.masked_values(err,0)\n",
    "err = np.ma.masked_values(err,np.inf)\n",
    "plt.hist(err, bins=70, alpha=0.5);\n",
    "plt.xlabel(r'$M_{data} - M_{predicted}$')\n",
    "#err"
   ]
  },
  {
   "cell_type": "code",
   "execution_count": 52,
   "id": "1429c177",
   "metadata": {},
   "outputs": [
    {
     "data": {
      "text/plain": [
       "Text(0.5, 0, '$\\\\frac{M_{data} - M_{predicted}}{M_{data}}~[10^{10} M*]$')"
      ]
     },
     "execution_count": 52,
     "metadata": {},
     "output_type": "execute_result"
    },
    {
     "data": {
      "image/png": "[encoded data removed]",
      "text/plain": [
       "<Figure size 432x288 with 1 Axes>"
      ]
     },
     "metadata": {
      "needs_background": "light"
     },
     "output_type": "display_data"
    }
   ],
   "source": [
    "err = np.ma.masked_values(err,0)\n",
    "err = np.ma.masked_values(err,np.inf)\n",
    "plt.hist(err_n, bins=70, alpha=0.5);\n",
    "plt.xlabel(r'$\\frac{M_{data} - M_{predicted}}{M_{data}}~[10^{10} M*]$')\n",
    "#err"
   ]
  },
  {
   "cell_type": "code",
   "execution_count": 23,
   "id": "c18bba0e",
   "metadata": {},
   "outputs": [
    {
     "data": {
      "text/plain": [
       "Text(0.5, 0, '$\\\\frac{M_{data} - M_{predicted}}{M_{data}}~[10^{10} M*]$')"
      ]
     },
     "execution_count": 23,
     "metadata": {},
     "output_type": "execute_result"
    },
    {
     "data": {
      "image/png": "[encoded data removed]",
      "text/plain": [
       "<Figure size 432x288 with 1 Axes>"
      ]
     },
     "metadata": {
      "needs_background": "light"
     },
     "output_type": "display_data"
    }
   ],
   "source": [
    "err = np.ma.masked_values(err,0)\n",
    "err = np.ma.masked_values(err,np.inf)\n",
    "plt.hist(err_n, bins=70, alpha=0.5);\n",
    "plt.xlabel(r'$\\frac{M_{data} - M_{predicted}}{M_{data}}~[10^{10} M*]$')\n",
    "#err"
   ]
  },
  {
   "cell_type": "code",
   "execution_count": 60,
   "id": "93dff99d",
   "metadata": {},
   "outputs": [
    {
     "data": {
      "text/plain": [
       "Text(0.5, 0, '$\\\\frac{M_{data} - M_{predicted}}{M_{data}}~[10^{10} M*]$')"
      ]
     },
     "execution_count": 60,
     "metadata": {},
     "output_type": "execute_result"
    },
    {
     "data": {
      "image/png": "[encoded data removed]",
      "text/plain": [
       "<Figure size 432x288 with 1 Axes>"
      ]
     },
     "metadata": {
      "needs_background": "light"
     },
     "output_type": "display_data"
    }
   ],
   "source": [
    "%matplotlib inline\n",
    "err = np.ma.masked_values(err,0)\n",
    "err = np.ma.masked_values(err,np.inf)\n",
    "plt.hist(err_n, bins=70, alpha=0.5);\n",
    "plt.xlabel(r'$\\frac{M_{data} - M_{predicted}}{M_{data}}~[10^{10} M*]$');\n",
    "#err"
   ]
  },
  {
   "cell_type": "code",
   "execution_count": 64,
   "id": "23a195b7",
   "metadata": {},
   "outputs": [
    {
     "data": {
      "text/plain": [
       "0.454129558801651"
      ]
     },
     "execution_count": 64,
     "metadata": {},
     "output_type": "execute_result"
    }
   ],
   "source": [
    "np.quantile(err_n,0.68)"
   ]
  },
  {
   "cell_type": "code",
   "execution_count": 4,
   "id": "598665f8",
   "metadata": {},
   "outputs": [
    {
     "name": "stdout",
     "output_type": "stream",
     "text": [
      "Model: \"sequential\"\n",
      "_________________________________________________________________\n",
      "Layer (type)                 Output Shape              Param #   \n",
      "=================================================================\n",
      "conv2d (Conv2D)              (None, 64, 64, 16)        592       \n",
      "_________________________________________________________________\n",
      "conv2d_1 (Conv2D)            (None, 32, 32, 32)        4640      \n",
      "_________________________________________________________________\n",
      "conv2d_2 (Conv2D)            (None, 16, 16, 64)        18496     \n",
      "_________________________________________________________________\n",
      "conv2d_3 (Conv2D)            (None, 8, 8, 64)          36928     \n",
      "_________________________________________________________________\n",
      "flatten (Flatten)            (None, 4096)              0         \n",
      "_________________________________________________________________\n",
      "dense (Dense)                (None, 128)               524416    \n",
      "_________________________________________________________________\n",
      "dense_1 (Dense)              (None, 48)                6192      \n",
      "_________________________________________________________________\n",
      "mixture_normal (MixtureNorma multiple                  0         \n",
      "=================================================================\n",
      "Total params: 591,264\n",
      "Trainable params: 591,264\n",
      "Non-trainable params: 0\n",
      "_________________________________________________________________\n"
     ]
    },
    {
     "name": "stderr",
     "output_type": "stream",
     "text": [
      "2021-12-09 15:30:00.614774: I tensorflow/core/platform/cpu_feature_guard.cc:142] This TensorFlow binary is optimized with oneAPI Deep Neural Network Library (oneDNN) to use the following CPU instructions in performance-critical operations:  SSE3 SSE4.1 SSE4.2 AVX AVX2 AVX512F FMA\n",
      "To enable them in other operations, rebuild TensorFlow with the appropriate compiler flags.\n",
      "2021-12-09 15:30:01.257088: I tensorflow/core/common_runtime/gpu/gpu_device.cc:1510] Created device /job:localhost/replica:0/task:0/device:GPU:0 with 30998 MB memory:  -> device: 0, name: Tesla V100-SXM2-32GB, pci bus id: 0000:1a:00.0, compute capability: 7.0\n",
      "2021-12-09 15:30:01.643515: W tensorflow/python/util/util.cc:348] Sets are not currently considered sequences, but this may change in the future, so consider avoiding using them.\n"
     ]
    }
   ],
   "source": [
    "model_proba = ModelProba(1)\n",
    "model_proba.summary()"
   ]
  },
  {
   "cell_type": "code",
   "execution_count": 5,
   "id": "a65c83bb",
   "metadata": {},
   "outputs": [],
   "source": [
    "def negloglik(y_true, y_pred):\n",
    "    # instead of tf.keras.losses.MSE\n",
    "    return -y_pred.log_prob(y_true)\n",
    "\n",
    "model_proba.compile(optimizer=tf.keras.optimizers.Adam(),\n",
    "                    loss=negloglik, metrics=['accuracy'])\n",
    "label = 'img_cnnproba_last-mass'\n",
    "EPOCHS = 40\n",
    "now = str(datetime.datetime.now())[0:16].replace('-','_').replace(' ','_').replace(':','_')\n",
    "checkpoint_filepath = '/gpfsscratch/rech/qrc/commun/sfhsed/checkpoint/'+label+'/'+now\n",
    "model_proba_checkpoint_callback = tf.keras.callbacks.ModelCheckpoint(\n",
    "    filepath=checkpoint_filepath,\n",
    "    save_weights_only=True,\n",
    "    monitor='val_accuracy',\n",
    "    mode='max',\n",
    "    save_best_only=False)"
   ]
  },
  {
   "cell_type": "code",
   "execution_count": 6,
   "id": "24f3d4b8",
   "metadata": {},
   "outputs": [
    {
     "name": "stdout",
     "output_type": "stream",
     "text": [
      "{'Mstar': <tf.Tensor 'args_0:0' shape=(100,) dtype=float32>, 'Mstar_Half': <tf.Tensor 'args_1:0' shape=(100,) dtype=float32>, 'SFR_Max': <tf.Tensor 'args_2:0' shape=(100,) dtype=float32>, 'SFR_Rad': <tf.Tensor 'args_3:0' shape=(100,) dtype=float32>, 'SFR_halfRad': <tf.Tensor 'args_4:0' shape=(100,) dtype=float32>, 'last_major_merger': <tf.Tensor 'args_5:0' shape=() dtype=float32>, 'last_over_max': <tf.Tensor 'args_6:0' shape=() dtype=float32>, 'mass_quantiles': <tf.Tensor 'args_7:0' shape=(9,) dtype=float32>, 'noiseless_griz': <tf.Tensor 'args_8:0' shape=(128, 128, 4) dtype=float32>, 'object_id': <tf.Tensor 'args_9:0' shape=() dtype=int32>, 'sed': <tf.Tensor 'args_10:0' shape=(143,) dtype=float32>, 'stellar_light': <tf.Tensor 'args_11:0' shape=(512, 512) dtype=float32>, 'time': <tf.Tensor 'args_12:0' shape=(100,) dtype=float32>, 'velocity_dispersion_map': <tf.Tensor 'args_13:0' shape=(512, 512) dtype=float32>, 'velocity_map': <tf.Tensor 'args_14:0' shape=(512, 512) dtype=float32>}\n",
      "Epoch 1/40\n",
      "\n",
      "Epoch 00001: LearningRateScheduler setting learning rate to 0.0001.\n"
     ]
    },
    {
     "name": "stderr",
     "output_type": "stream",
     "text": [
      "2021-12-09 15:30:06.086849: I tensorflow/compiler/mlir/mlir_graph_optimization_pass.cc:185] None of the MLIR Optimization Passes are enabled (registered 2)\n",
      "2021-12-09 15:30:16.228683: I tensorflow/core/kernels/data/shuffle_dataset_op.cc:175] Filling up shuffle buffer (this may take a while): 7107 of 10000\n",
      "2021-12-09 15:30:18.240577: I tensorflow/core/kernels/data/shuffle_dataset_op.cc:228] Shuffle buffer filled.\n",
      "2021-12-09 15:30:18.810391: I tensorflow/stream_executor/cuda/cuda_dnn.cc:369] Loaded cuDNN version 8101\n"
     ]
    },
    {
     "name": "stdout",
     "output_type": "stream",
     "text": [
      "200/200 [==============================] - 20s 27ms/step - loss: 3.2172 - accuracy: 0.0000e+00\n",
      "Epoch 2/40\n",
      "\n",
      "Epoch 00002: LearningRateScheduler setting learning rate to 9e-05.\n",
      "200/200 [==============================] - 5s 24ms/step - loss: 1.0385 - accuracy: 0.0000e+00\n",
      "Epoch 3/40\n",
      "\n",
      "Epoch 00003: LearningRateScheduler setting learning rate to 8.1e-05.\n",
      "200/200 [==============================] - 5s 24ms/step - loss: 0.6582 - accuracy: 0.0000e+00\n",
      "Epoch 4/40\n",
      "\n",
      "Epoch 00004: LearningRateScheduler setting learning rate to 7.290000000000001e-05.\n",
      "200/200 [==============================] - 5s 24ms/step - loss: 0.3494 - accuracy: 0.0000e+00\n",
      "Epoch 5/40\n",
      "\n",
      "Epoch 00005: LearningRateScheduler setting learning rate to 6.561e-05.\n",
      "200/200 [==============================] - 5s 24ms/step - loss: 0.1578 - accuracy: 0.0000e+00\n",
      "Epoch 6/40\n",
      "\n",
      "Epoch 00006: LearningRateScheduler setting learning rate to 5.904900000000001e-05.\n",
      "200/200 [==============================] - 10s 48ms/step - loss: 0.0708 - accuracy: 0.0000e+00\n",
      "Epoch 7/40\n",
      "\n",
      "Epoch 00007: LearningRateScheduler setting learning rate to 5.3144100000000005e-05.\n",
      "200/200 [==============================] - 8s 39ms/step - loss: -0.0619 - accuracy: 0.0000e+00\n",
      "Epoch 8/40\n",
      "\n",
      "Epoch 00008: LearningRateScheduler setting learning rate to 4.782969000000001e-05.\n",
      "200/200 [==============================] - 5s 25ms/step - loss: -0.1192 - accuracy: 0.0000e+00\n",
      "Epoch 9/40\n",
      "\n",
      "Epoch 00009: LearningRateScheduler setting learning rate to 4.304672100000001e-05.\n",
      "200/200 [==============================] - 5s 23ms/step - loss: -0.1860 - accuracy: 0.0000e+00\n",
      "Epoch 10/40\n",
      "\n",
      "Epoch 00010: LearningRateScheduler setting learning rate to 3.874204890000001e-05.\n",
      "200/200 [==============================] - 5s 24ms/step - loss: -0.2772 - accuracy: 0.0000e+00\n",
      "Epoch 11/40\n",
      "\n",
      "Epoch 00011: LearningRateScheduler setting learning rate to 3.486784401000001e-05.\n",
      "200/200 [==============================] - 4s 21ms/step - loss: -0.2919 - accuracy: 0.0000e+00\n",
      "Epoch 12/40\n",
      "\n",
      "Epoch 00012: LearningRateScheduler setting learning rate to 3.138105960900001e-05.\n",
      "200/200 [==============================] - 5s 26ms/step - loss: -0.3433 - accuracy: 0.0000e+00\n",
      "Epoch 13/40\n",
      "\n",
      "Epoch 00013: LearningRateScheduler setting learning rate to 2.824295364810001e-05.\n",
      "200/200 [==============================] - 5s 24ms/step - loss: -0.3400 - accuracy: 0.0000e+00\n",
      "Epoch 14/40\n",
      "\n",
      "Epoch 00014: LearningRateScheduler setting learning rate to 2.541865828329001e-05.\n",
      "200/200 [==============================] - 5s 23ms/step - loss: -0.4088 - accuracy: 0.0000e+00\n",
      "Epoch 15/40\n",
      "\n",
      "Epoch 00015: LearningRateScheduler setting learning rate to 2.287679245496101e-05.\n",
      "200/200 [==============================] - 5s 24ms/step - loss: -0.4160 - accuracy: 0.0000e+00\n",
      "Epoch 16/40\n",
      "\n",
      "Epoch 00016: LearningRateScheduler setting learning rate to 2.0589113209464907e-05.\n",
      "200/200 [==============================] - 5s 24ms/step - loss: -0.4376 - accuracy: 0.0000e+00\n",
      "Epoch 17/40\n",
      "\n",
      "Epoch 00017: LearningRateScheduler setting learning rate to 1.8530201888518416e-05.\n",
      "200/200 [==============================] - 5s 24ms/step - loss: -0.4269 - accuracy: 0.0000e+00\n",
      "Epoch 18/40\n",
      "\n",
      "Epoch 00018: LearningRateScheduler setting learning rate to 1.6677181699666577e-05.\n",
      "200/200 [==============================] - 5s 23ms/step - loss: -0.4508 - accuracy: 0.0000e+00\n",
      "Epoch 19/40\n",
      "\n",
      "Epoch 00019: LearningRateScheduler setting learning rate to 1.5009463529699919e-05.\n",
      "200/200 [==============================] - 5s 25ms/step - loss: -0.4720 - accuracy: 0.0000e+00\n",
      "Epoch 20/40\n",
      "\n",
      "Epoch 00020: LearningRateScheduler setting learning rate to 1.3508517176729929e-05.\n",
      "200/200 [==============================] - 5s 23ms/step - loss: -0.4712 - accuracy: 0.0000e+00\n",
      "Epoch 21/40\n",
      "\n",
      "Epoch 00021: LearningRateScheduler setting learning rate to 1.2157665459056936e-05.\n",
      "200/200 [==============================] - 5s 24ms/step - loss: -0.4744 - accuracy: 0.0000e+00\n",
      "Epoch 22/40\n",
      "\n",
      "Epoch 00022: LearningRateScheduler setting learning rate to 1.0941898913151242e-05.\n",
      "200/200 [==============================] - 4s 22ms/step - loss: -0.4902 - accuracy: 0.0000e+00\n",
      "Epoch 23/40\n",
      "\n",
      "Epoch 00023: LearningRateScheduler setting learning rate to 9.847709021836118e-06.\n",
      "200/200 [==============================] - 5s 25ms/step - loss: -0.4981 - accuracy: 0.0000e+00\n",
      "Epoch 24/40\n",
      "\n",
      "Epoch 00024: LearningRateScheduler setting learning rate to 8.862938119652508e-06.\n",
      "200/200 [==============================] - 5s 23ms/step - loss: -0.5040 - accuracy: 0.0000e+00\n",
      "Epoch 25/40\n",
      "\n",
      "Epoch 00025: LearningRateScheduler setting learning rate to 7.976644307687255e-06.\n",
      "200/200 [==============================] - 5s 23ms/step - loss: -0.5260 - accuracy: 0.0000e+00\n",
      "Epoch 26/40\n",
      "\n",
      "Epoch 00026: LearningRateScheduler setting learning rate to 7.178979876918531e-06.\n",
      "200/200 [==============================] - 5s 24ms/step - loss: -0.5307 - accuracy: 0.0000e+00\n",
      "Epoch 27/40\n",
      "\n",
      "Epoch 00027: LearningRateScheduler setting learning rate to 6.4610818892266776e-06.\n",
      "200/200 [==============================] - 5s 24ms/step - loss: -0.5212 - accuracy: 0.0000e+00\n",
      "Epoch 28/40\n",
      "\n",
      "Epoch 00028: LearningRateScheduler setting learning rate to 5.8149737003040096e-06.\n",
      "200/200 [==============================] - 5s 23ms/step - loss: -0.5505 - accuracy: 0.0000e+00\n",
      "Epoch 29/40\n",
      "\n",
      "Epoch 00029: LearningRateScheduler setting learning rate to 5.23347633027361e-06.\n",
      "200/200 [==============================] - 5s 23ms/step - loss: -0.5373 - accuracy: 0.0000e+00\n",
      "Epoch 30/40\n",
      "\n",
      "Epoch 00030: LearningRateScheduler setting learning rate to 4.710128697246249e-06.\n",
      "200/200 [==============================] - 5s 24ms/step - loss: -0.5359 - accuracy: 0.0000e+00\n",
      "Epoch 31/40\n",
      "\n",
      "Epoch 00031: LearningRateScheduler setting learning rate to 4.239115827521624e-06.\n",
      "200/200 [==============================] - 5s 24ms/step - loss: -0.5553 - accuracy: 0.0000e+00\n",
      "Epoch 32/40\n",
      "\n",
      "Epoch 00032: LearningRateScheduler setting learning rate to 3.815204244769462e-06.\n",
      "200/200 [==============================] - 5s 23ms/step - loss: -0.5545 - accuracy: 0.0000e+00\n",
      "Epoch 33/40\n",
      "\n",
      "Epoch 00033: LearningRateScheduler setting learning rate to 3.4336838202925152e-06.\n",
      "200/200 [==============================] - 4s 22ms/step - loss: -0.5438 - accuracy: 0.0000e+00\n",
      "Epoch 34/40\n",
      "\n",
      "Epoch 00034: LearningRateScheduler setting learning rate to 3.090315438263264e-06.\n",
      "200/200 [==============================] - 5s 25ms/step - loss: -0.5576 - accuracy: 0.0000e+00\n",
      "Epoch 35/40\n",
      "\n",
      "Epoch 00035: LearningRateScheduler setting learning rate to 2.7812838944369375e-06.\n",
      "200/200 [==============================] - 5s 24ms/step - loss: -0.5264 - accuracy: 0.0000e+00\n",
      "Epoch 36/40\n",
      "\n",
      "Epoch 00036: LearningRateScheduler setting learning rate to 2.503155504993244e-06.\n",
      "200/200 [==============================] - 5s 24ms/step - loss: -0.5746 - accuracy: 0.0000e+00\n",
      "Epoch 37/40\n",
      "\n",
      "Epoch 00037: LearningRateScheduler setting learning rate to 2.2528399544939195e-06.\n",
      "200/200 [==============================] - 5s 23ms/step - loss: -0.5532 - accuracy: 0.0000e+00\n",
      "Epoch 38/40\n",
      "\n",
      "Epoch 00038: LearningRateScheduler setting learning rate to 2.0275559590445276e-06.\n",
      "200/200 [==============================] - 5s 24ms/step - loss: -0.5681 - accuracy: 0.0000e+00\n",
      "Epoch 39/40\n",
      "\n",
      "Epoch 00039: LearningRateScheduler setting learning rate to 1.8248003631400751e-06.\n",
      "200/200 [==============================] - 5s 23ms/step - loss: -0.5669 - accuracy: 0.0000e+00\n",
      "Epoch 40/40\n",
      "\n",
      "Epoch 00040: LearningRateScheduler setting learning rate to 1.6423203268260676e-06.\n",
      "200/200 [==============================] - 5s 23ms/step - loss: -0.5497 - accuracy: 0.0000e+00\n"
     ]
    }
   ],
   "source": [
    "LEARNING_RATE=0.0001\n",
    "LEARNING_RATE_EXP_DECAY=0.9\n",
    "\n",
    "lr_decay = tf.keras.callbacks.LearningRateScheduler(\n",
    "    lambda epoch: LEARNING_RATE * LEARNING_RATE_EXP_DECAY**epoch,\n",
    "    verbose=True)\n",
    "\n",
    "dset = input_fn(mode='train', batch_size=32)\n",
    "history = model_proba.fit(dset, steps_per_epoch=200, epochs=EPOCHS, callbacks=[model_proba_checkpoint_callback, lr_decay])"
   ]
  },
  {
   "cell_type": "code",
   "execution_count": 7,
   "id": "d9250026",
   "metadata": {},
   "outputs": [],
   "source": [
    "checkpoint_filepath = '/gpfsscratch/rech/qrc/commun/sfhsed/checkpoint/img_cnnproba_last-mass/2021_12_09_14_26'\n",
    "#checkpoint_filepath = '/gpfsdswork/projects/rech/qrc/uzu97zj/AstroInfo2021/tmp/tmp'\n",
    "status = model_proba.load_weights(checkpoint_filepath)\n",
    "#history = model.fit(dset, steps_per_epoch=200, epochs=EPOCHS, callbacks=[model_checkpoint_callback])\n",
    "# plt.plot(history.loss)"
   ]
  },
  {
   "cell_type": "code",
   "execution_count": 8,
   "id": "1e5f7fd8",
   "metadata": {},
   "outputs": [
    {
     "data": {
      "text/plain": [
       "Text(0.5, 1.0, 'MSE Loss history')"
      ]
     },
     "execution_count": 8,
     "metadata": {},
     "output_type": "execute_result"
    },
    {
     "data": {
      "image/png": "[encoded data removed]",
      "text/plain": [
       "<Figure size 432x288 with 1 Axes>"
      ]
     },
     "metadata": {
      "needs_background": "light"
     },
     "output_type": "display_data"
    }
   ],
   "source": [
    "plt.figure()\n",
    "plt.plot(np.arange(len(model_proba.history.history['loss'])), model_proba.history.history['loss'])\n",
    "#plt.yscale('log')\n",
    "plt.title('MSE Loss history')"
   ]
  },
  {
   "cell_type": "code",
   "execution_count": 9,
   "id": "1b4dfb6e",
   "metadata": {},
   "outputs": [],
   "source": [
    "dset_test = input_fn(mode='test', batch_size=128)\n",
    "features = dset_test.take(1)"
   ]
  },
  {
   "cell_type": "code",
   "execution_count": 10,
   "id": "05b3aaed",
   "metadata": {},
   "outputs": [],
   "source": [
    "i = 0\n",
    "truthes = []\n",
    "predicted_mean = []\n",
    "predicted_std = []\n",
    "for ibatch, features in enumerate(dset_test):\n",
    "    truth = features[1]\n",
    "    truthes.append(truth)\n",
    "    predict = model_proba(features[0])\n",
    "    predicted_mean.append(predict.mean())\n",
    "    predicted_std.append(predict.stddev())\n",
    "    i = i + 1\n",
    "truthes = np.ravel(truthes)\n",
    "predicted_mean = np.ravel(predicted_mean)\n",
    "predicted_std = np.ravel(predicted_std)"
   ]
  },
  {
   "cell_type": "code",
   "execution_count": 11,
   "id": "87884b7c",
   "metadata": {},
   "outputs": [
    {
     "data": {
      "text/plain": [
       "[<matplotlib.lines.Line2D at 0x145c76ff6a10>]"
      ]
     },
     "execution_count": 11,
     "metadata": {},
     "output_type": "execute_result"
    },
    {
     "data": {
      "image/png": "[encoded data removed]",
      "text/plain": [
       "<Figure size 432x288 with 1 Axes>"
      ]
     },
     "metadata": {
      "needs_background": "light"
     },
     "output_type": "display_data"
    }
   ],
   "source": [
    "plt.errorbar(truthes, predicted_mean, predicted_std, marker='.', ls='')\n",
    "plt.xlim(0, 10)\n",
    "plt.ylim(0, 10)\n",
    "plt.plot([0, 10], [0, 10], '--')"
   ]
  },
  {
   "cell_type": "code",
   "execution_count": 12,
   "id": "381e4fce",
   "metadata": {},
   "outputs": [
    {
     "data": {
      "text/plain": [
       "<matplotlib.collections.PathCollection at 0x145c76fb3310>"
      ]
     },
     "execution_count": 12,
     "metadata": {},
     "output_type": "execute_result"
    },
    {
     "data": {
      "image/png": "[encoded data removed]",
      "text/plain": [
       "<Figure size 432x288 with 1 Axes>"
      ]
     },
     "metadata": {
      "needs_background": "light"
     },
     "output_type": "display_data"
    }
   ],
   "source": [
    "plt.scatter(truthes, predicted_std)"
   ]
  },
  {
   "cell_type": "code",
   "execution_count": null,
   "id": "fd6f1069",
   "metadata": {},
   "outputs": [],
   "source": []
  }
 ],
 "metadata": {
  "kernelspec": {
   "display_name": "Python 3 (ipykernel)",
   "language": "python",
   "name": "python3"
  },
  "language_info": {
   "codemirror_mode": {
    "name": "ipython",
    "version": 3
   },
   "file_extension": ".py",
   "mimetype": "text/x-python",
   "name": "python",
   "nbconvert_exporter": "python",
   "pygments_lexer": "ipython3",
   "version": "3.7.10"
  }
 },
 "nbformat": 4,
 "nbformat_minor": 5
}
