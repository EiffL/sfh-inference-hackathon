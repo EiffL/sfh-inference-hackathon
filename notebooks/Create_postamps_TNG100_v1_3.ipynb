{
  "nbformat": 4,
  "nbformat_minor": 0,
  "metadata": {
    "colab": {
      "name": "Create postamps TNG100_v1-3.ipynb",
      "provenance": [],
      "collapsed_sections": []
    },
    "kernelspec": {
      "display_name": "Python 3",
      "name": "python3"
    },
    "language_info": {
      "name": "python"
    },
    "widgets": {
      "application/vnd.jupyter.widget-state+json": {
        "f6975dd7f5ca470b861c6e5990c4166b": {
          "model_module": "@jupyter-widgets/controls",
          "model_name": "HBoxModel",
          "model_module_version": "1.5.0",
          "state": {
            "_dom_classes": [],
            "_model_module": "@jupyter-widgets/controls",
            "_model_module_version": "1.5.0",
            "_model_name": "HBoxModel",
            "_view_count": null,
            "_view_module": "@jupyter-widgets/controls",
            "_view_module_version": "1.5.0",
            "_view_name": "HBoxView",
            "box_style": "",
            "children": [
              "IPY_MODEL_9beb1aa647e543fcaf7aaf954468c756",
              "IPY_MODEL_ed3c9bdad34d46e6934eb3cabed93cd1",
              "IPY_MODEL_82ba44630956478aaaf11033c4e33476"
            ],
            "layout": "IPY_MODEL_b3a44a0dc1c54ad0ba7cbe9ca1a503c6"
          }
        },
        "9beb1aa647e543fcaf7aaf954468c756": {
          "model_module": "@jupyter-widgets/controls",
          "model_name": "HTMLModel",
          "model_module_version": "1.5.0",
          "state": {
            "_dom_classes": [],
            "_model_module": "@jupyter-widgets/controls",
            "_model_module_version": "1.5.0",
            "_model_name": "HTMLModel",
            "_view_count": null,
            "_view_module": "@jupyter-widgets/controls",
            "_view_module_version": "1.5.0",
            "_view_name": "HTMLView",
            "description": "",
            "description_tooltip": null,
            "layout": "IPY_MODEL_037fa1956abd49e29cf337c6ad92ad90",
            "placeholder": "​",
            "style": "IPY_MODEL_18a8f86c60474153b74210cca84ad665",
            "value": ""
          }
        },
        "ed3c9bdad34d46e6934eb3cabed93cd1": {
          "model_module": "@jupyter-widgets/controls",
          "model_name": "FloatProgressModel",
          "model_module_version": "1.5.0",
          "state": {
            "_dom_classes": [],
            "_model_module": "@jupyter-widgets/controls",
            "_model_module_version": "1.5.0",
            "_model_name": "FloatProgressModel",
            "_view_count": null,
            "_view_module": "@jupyter-widgets/controls",
            "_view_module_version": "1.5.0",
            "_view_name": "ProgressView",
            "bar_style": "info",
            "description": "",
            "description_tooltip": null,
            "layout": "IPY_MODEL_5f893ad6e73549d090c198b328c1141b",
            "max": 1,
            "min": 0,
            "orientation": "horizontal",
            "style": "IPY_MODEL_0353918453c54f6da9c9f73fd31bfc49",
            "value": 0
          }
        },
        "82ba44630956478aaaf11033c4e33476": {
          "model_module": "@jupyter-widgets/controls",
          "model_name": "HTMLModel",
          "model_module_version": "1.5.0",
          "state": {
            "_dom_classes": [],
            "_model_module": "@jupyter-widgets/controls",
            "_model_module_version": "1.5.0",
            "_model_name": "HTMLModel",
            "_view_count": null,
            "_view_module": "@jupyter-widgets/controls",
            "_view_module_version": "1.5.0",
            "_view_name": "HTMLView",
            "description": "",
            "description_tooltip": null,
            "layout": "IPY_MODEL_2cf682fc637c46df94603455ca49b239",
            "placeholder": "​",
            "style": "IPY_MODEL_20d6d515642348a18758c59d3bd10daf",
            "value": " 0/0 [00:00&lt;?, ? examples/s]"
          }
        },
        "b3a44a0dc1c54ad0ba7cbe9ca1a503c6": {
          "model_module": "@jupyter-widgets/base",
          "model_name": "LayoutModel",
          "model_module_version": "1.2.0",
          "state": {
            "_model_module": "@jupyter-widgets/base",
            "_model_module_version": "1.2.0",
            "_model_name": "LayoutModel",
            "_view_count": null,
            "_view_module": "@jupyter-widgets/base",
            "_view_module_version": "1.2.0",
            "_view_name": "LayoutView",
            "align_content": null,
            "align_items": null,
            "align_self": null,
            "border": null,
            "bottom": null,
            "display": null,
            "flex": null,
            "flex_flow": null,
            "grid_area": null,
            "grid_auto_columns": null,
            "grid_auto_flow": null,
            "grid_auto_rows": null,
            "grid_column": null,
            "grid_gap": null,
            "grid_row": null,
            "grid_template_areas": null,
            "grid_template_columns": null,
            "grid_template_rows": null,
            "height": null,
            "justify_content": null,
            "justify_items": null,
            "left": null,
            "margin": null,
            "max_height": null,
            "max_width": null,
            "min_height": null,
            "min_width": null,
            "object_fit": null,
            "object_position": null,
            "order": null,
            "overflow": null,
            "overflow_x": null,
            "overflow_y": null,
            "padding": null,
            "right": null,
            "top": null,
            "visibility": null,
            "width": null
          }
        },
        "037fa1956abd49e29cf337c6ad92ad90": {
          "model_module": "@jupyter-widgets/base",
          "model_name": "LayoutModel",
          "model_module_version": "1.2.0",
          "state": {
            "_model_module": "@jupyter-widgets/base",
            "_model_module_version": "1.2.0",
            "_model_name": "LayoutModel",
            "_view_count": null,
            "_view_module": "@jupyter-widgets/base",
            "_view_module_version": "1.2.0",
            "_view_name": "LayoutView",
            "align_content": null,
            "align_items": null,
            "align_self": null,
            "border": null,
            "bottom": null,
            "display": null,
            "flex": null,
            "flex_flow": null,
            "grid_area": null,
            "grid_auto_columns": null,
            "grid_auto_flow": null,
            "grid_auto_rows": null,
            "grid_column": null,
            "grid_gap": null,
            "grid_row": null,
            "grid_template_areas": null,
            "grid_template_columns": null,
            "grid_template_rows": null,
            "height": null,
            "justify_content": null,
            "justify_items": null,
            "left": null,
            "margin": null,
            "max_height": null,
            "max_width": null,
            "min_height": null,
            "min_width": null,
            "object_fit": null,
            "object_position": null,
            "order": null,
            "overflow": null,
            "overflow_x": null,
            "overflow_y": null,
            "padding": null,
            "right": null,
            "top": null,
            "visibility": null,
            "width": null
          }
        },
        "18a8f86c60474153b74210cca84ad665": {
          "model_module": "@jupyter-widgets/controls",
          "model_name": "DescriptionStyleModel",
          "model_module_version": "1.5.0",
          "state": {
            "_model_module": "@jupyter-widgets/controls",
            "_model_module_version": "1.5.0",
            "_model_name": "DescriptionStyleModel",
            "_view_count": null,
            "_view_module": "@jupyter-widgets/base",
            "_view_module_version": "1.2.0",
            "_view_name": "StyleView",
            "description_width": ""
          }
        },
        "5f893ad6e73549d090c198b328c1141b": {
          "model_module": "@jupyter-widgets/base",
          "model_name": "LayoutModel",
          "model_module_version": "1.2.0",
          "state": {
            "_model_module": "@jupyter-widgets/base",
            "_model_module_version": "1.2.0",
            "_model_name": "LayoutModel",
            "_view_count": null,
            "_view_module": "@jupyter-widgets/base",
            "_view_module_version": "1.2.0",
            "_view_name": "LayoutView",
            "align_content": null,
            "align_items": null,
            "align_self": null,
            "border": null,
            "bottom": null,
            "display": null,
            "flex": null,
            "flex_flow": null,
            "grid_area": null,
            "grid_auto_columns": null,
            "grid_auto_flow": null,
            "grid_auto_rows": null,
            "grid_column": null,
            "grid_gap": null,
            "grid_row": null,
            "grid_template_areas": null,
            "grid_template_columns": null,
            "grid_template_rows": null,
            "height": null,
            "justify_content": null,
            "justify_items": null,
            "left": null,
            "margin": null,
            "max_height": null,
            "max_width": null,
            "min_height": null,
            "min_width": null,
            "object_fit": null,
            "object_position": null,
            "order": null,
            "overflow": null,
            "overflow_x": null,
            "overflow_y": null,
            "padding": null,
            "right": null,
            "top": null,
            "visibility": null,
            "width": "20px"
          }
        },
        "0353918453c54f6da9c9f73fd31bfc49": {
          "model_module": "@jupyter-widgets/controls",
          "model_name": "ProgressStyleModel",
          "model_module_version": "1.5.0",
          "state": {
            "_model_module": "@jupyter-widgets/controls",
            "_model_module_version": "1.5.0",
            "_model_name": "ProgressStyleModel",
            "_view_count": null,
            "_view_module": "@jupyter-widgets/base",
            "_view_module_version": "1.2.0",
            "_view_name": "StyleView",
            "bar_color": null,
            "description_width": ""
          }
        },
        "2cf682fc637c46df94603455ca49b239": {
          "model_module": "@jupyter-widgets/base",
          "model_name": "LayoutModel",
          "model_module_version": "1.2.0",
          "state": {
            "_model_module": "@jupyter-widgets/base",
            "_model_module_version": "1.2.0",
            "_model_name": "LayoutModel",
            "_view_count": null,
            "_view_module": "@jupyter-widgets/base",
            "_view_module_version": "1.2.0",
            "_view_name": "LayoutView",
            "align_content": null,
            "align_items": null,
            "align_self": null,
            "border": null,
            "bottom": null,
            "display": null,
            "flex": null,
            "flex_flow": null,
            "grid_area": null,
            "grid_auto_columns": null,
            "grid_auto_flow": null,
            "grid_auto_rows": null,
            "grid_column": null,
            "grid_gap": null,
            "grid_row": null,
            "grid_template_areas": null,
            "grid_template_columns": null,
            "grid_template_rows": null,
            "height": null,
            "justify_content": null,
            "justify_items": null,
            "left": null,
            "margin": null,
            "max_height": null,
            "max_width": null,
            "min_height": null,
            "min_width": null,
            "object_fit": null,
            "object_position": null,
            "order": null,
            "overflow": null,
            "overflow_x": null,
            "overflow_y": null,
            "padding": null,
            "right": null,
            "top": null,
            "visibility": null,
            "width": null
          }
        },
        "20d6d515642348a18758c59d3bd10daf": {
          "model_module": "@jupyter-widgets/controls",
          "model_name": "DescriptionStyleModel",
          "model_module_version": "1.5.0",
          "state": {
            "_model_module": "@jupyter-widgets/controls",
            "_model_module_version": "1.5.0",
            "_model_name": "DescriptionStyleModel",
            "_view_count": null,
            "_view_module": "@jupyter-widgets/base",
            "_view_module_version": "1.2.0",
            "_view_name": "StyleView",
            "description_width": ""
          }
        }
      }
    }
  },
  "cells": [
    {
      "cell_type": "markdown",
      "metadata": {
        "id": "g7MEUESVB3PM"
      },
      "source": [
        "**Work with NOISY images**"
      ]
    },
    {
      "cell_type": "code",
      "metadata": {
        "id": "J27u1VQkRZSA"
      },
      "source": [
        "%load_ext autoreload\n",
        "%autoreload 2"
      ],
      "execution_count": null,
      "outputs": []
    },
    {
      "cell_type": "code",
      "metadata": {
        "id": "lSCkCdM7n0xh"
      },
      "source": [
        "import matplotlib.pyplot as plt\n",
        "import numpy as np\n",
        "from numpy import random\n",
        "from numpy import loadtxt\n",
        "import pandas as pd\n",
        "import os\n",
        "from astropy.utils.data import get_pkg_data_filename\n",
        "from astropy.io import fits\n",
        "from astropy.visualization import simple_norm\n",
        "import tensorflow as tf"
      ],
      "execution_count": null,
      "outputs": []
    },
    {
      "cell_type": "code",
      "metadata": {
        "colab": {
          "base_uri": "https://localhost:8080/"
        },
        "id": "Pzh2wvtfmI3L",
        "outputId": "03a5fd77-fcbd-48a4-aad1-8aa2737ba585"
      },
      "source": [
        "from google.colab import auth\n",
        "auth.authenticate_user()\n",
        "!gcloud config set project sfhs-333010"
      ],
      "execution_count": null,
      "outputs": [
        {
          "name": "stdout",
          "output_type": "stream",
          "text": [
            "Updated property [core/project].\n",
            "\u001b[1;33mWARNING:\u001b[0m You do not appear to have access to project [sfhs-333010] or it does not exist.\n"
          ]
        }
      ]
    },
    {
      "cell_type": "code",
      "metadata": {
        "colab": {
          "base_uri": "https://localhost:8080/"
        },
        "id": "5KrRxsyAmdWo",
        "outputId": "4e29ac24-3e1e-407b-889e-10ece339d6b1"
      },
      "source": [
        "!echo \"deb http://packages.cloud.google.com/apt gcsfuse-bionic main\" > /etc/apt/sources.list.d/gcsfuse.list\n",
        "!curl https://packages.cloud.google.com/apt/doc/apt-key.gpg | apt-key add -\n",
        "!apt -qq update\n",
        "!apt -qq install gcsfuse"
      ],
      "execution_count": null,
      "outputs": [
        {
          "name": "stdout",
          "output_type": "stream",
          "text": [
            "  % Total    % Received % Xferd  Average Speed   Time    Time     Time  Current\n",
            "                                 Dload  Upload   Total   Spent    Left  Speed\n",
            "\r  0     0    0     0    0     0      0      0 --:--:-- --:--:-- --:--:--     0\r100  2537  100  2537    0     0   103k      0 --:--:-- --:--:-- --:--:--  103k\n",
            "OK\n",
            "55 packages can be upgraded. Run 'apt list --upgradable' to see them.\n",
            "gcsfuse is already the newest version (0.38.0).\n",
            "0 upgraded, 0 newly installed, 0 to remove and 55 not upgraded.\n"
          ]
        }
      ]
    },
    {
      "cell_type": "code",
      "metadata": {
        "colab": {
          "base_uri": "https://localhost:8080/"
        },
        "id": "8kLyAzgmmfNV",
        "outputId": "89babbb4-7ca4-4a6d-d652-2544aeee8059"
      },
      "source": [
        "!mkdir data\n",
        "!gcsfuse --implicit-dirs tng100 data"
      ],
      "execution_count": null,
      "outputs": [
        {
          "name": "stdout",
          "output_type": "stream",
          "text": [
            "mkdir: cannot create directory ‘data’: File exists\n",
            "2021/12/07 14:49:15.544153 Start gcsfuse/0.38.0 (Go version go1.17.3) for app \"\" using mount point: /content/data\n",
            "2021/12/07 14:49:15.558902 Opening GCS connection...\n",
            "2021/12/07 14:49:15.981484 Mounting file system \"tng100\"...\n",
            "2021/12/07 14:49:15.985176 File system has been successfully mounted.\n"
          ]
        }
      ]
    },
    {
      "cell_type": "code",
      "metadata": {
        "colab": {
          "base_uri": "https://localhost:8080/",
          "height": 261
        },
        "id": "ZMpTsQKmoNRS",
        "outputId": "f9d8dbd8-9607-47f2-a5cd-0aa0535429d9"
      },
      "source": [
        "# load catalogs\n",
        "cat_path = \"/content/data/phot_TNG100_dylan_143.csv\"\n",
        "phot_cat = pd.read_csv(cat_path)\n",
        "sfh_path = \"/content/data/cats_SFH/\"\n",
        "wl = loadtxt('/content/data/wl.csv', delimiter=',')/10**4\n",
        "\"\"\"\n",
        "#index pandas table\n",
        "shids = phot_cat['subhaloIDs']\n",
        "phot_cat.set_index(\"subhaloIDs\", inplace=True)\n",
        "phot_cat.head()\n",
        "\n",
        "#plot figures\n",
        "fig, axs = plt.subplots(10, 3)\n",
        "fig.set_size_inches(18, 30)\n",
        "fig.suptitle(\"TNG100, no dust\", fontsize=16)\n",
        "for index in range(10):\n",
        "    sh = int(shids[index+random.randint(0,high=len(shids)-20)])\n",
        "    obj=phot_cat.loc[sh][:]\n",
        "    #apparent mags\n",
        "    app_mag = obj.values+5*(np.log10(20e6)-1) #assume at 20pc\n",
        "    flux = 10**(.4*(-app_mag[np.array(wl)<10**3]+8.90)) #convert to Jy\n",
        "    axs[index, 0].scatter(np.array(wl)[np.array(wl)<10**3],np.log10(flux),s=10)\n",
        "    axs[index, 0].set_xlabel(\"wavelength [$\\mu m$]\")\n",
        "    axs[index, 0].set_xscale('log')\n",
        "    try:\n",
        "      sfh = pd.read_csv(sfh_path+\"TNG100_mainprojenitors_\"+str(sh)+\".csv\")\n",
        "    except:\n",
        "      continue  \n",
        "    axs[index, 0].set_ylabel(\"$\\log(f)$ [Jy]\")\n",
        "    axs[index, 1].set_xlabel(\"Time\")\n",
        "    axs[index, 1].set_ylabel(\"SFR\")\n",
        "    axs[index, 1].plot(sfh.time,sfh.SFR_halfRad)\n",
        "    axs[index, 2].plot(sfh.time,np.log10(sfh.Mstar_Half)+10)\n",
        "    axs[index, 2].set_xlabel(\"Time\")\n",
        "    axs[index, 2].set_ylabel(\"Mstar\")\n",
        "plt.savefig(\"/content/data/TNG100_examples.pdf\")\"\"\""
      ],
      "execution_count": null,
      "outputs": [
        {
          "data": {
            "application/vnd.google.colaboratory.intrinsic+json": {
              "type": "string"
            },
            "text/plain": [
              "'\\n#index pandas table\\nshids = phot_cat[\\'subhaloIDs\\']\\nphot_cat.set_index(\"subhaloIDs\", inplace=True)\\nphot_cat.head()\\n\\n#plot figures\\nfig, axs = plt.subplots(10, 3)\\nfig.set_size_inches(18, 30)\\nfig.suptitle(\"TNG100, no dust\", fontsize=16)\\nfor index in range(10):\\n    sh = int(shids[index+random.randint(0,high=len(shids)-20)])\\n    obj=phot_cat.loc[sh][:]\\n    #apparent mags\\n    app_mag = obj.values+5*(np.log10(20e6)-1) #assume at 20pc\\n    flux = 10**(.4*(-app_mag[np.array(wl)<10**3]+8.90)) #convert to Jy\\n    axs[index, 0].scatter(np.array(wl)[np.array(wl)<10**3],np.log10(flux),s=10)\\n    axs[index, 0].set_xlabel(\"wavelength [$\\\\mu m$]\")\\n    axs[index, 0].set_xscale(\\'log\\')\\n    try:\\n      sfh = pd.read_csv(sfh_path+\"TNG100_mainprojenitors_\"+str(sh)+\".csv\")\\n    except:\\n      continue  \\n    axs[index, 0].set_ylabel(\"$\\\\log(f)$ [Jy]\")\\n    axs[index, 1].set_xlabel(\"Time\")\\n    axs[index, 1].set_ylabel(\"SFR\")\\n    axs[index, 1].plot(sfh.time,sfh.SFR_halfRad)\\n    axs[index, 2].plot(sfh.time,np.log10(sfh.Mstar_Half)+10)\\n    axs[index, 2].set_xlabel(\"Time\")\\n    axs[index, 2].set_ylabel(\"Mstar\")\\nplt.savefig(\"/content/data/TNG100_examples.pdf\")'"
            ]
          },
          "execution_count": 7,
          "metadata": {},
          "output_type": "execute_result"
        }
      ]
    },
    {
      "cell_type": "markdown",
      "metadata": {
        "id": "D8Nyh8xxym7g"
      },
      "source": [
        "**List the NOISY files**"
      ]
    },
    {
      "cell_type": "code",
      "metadata": {
        "colab": {
          "base_uri": "https://localhost:8080/"
        },
        "id": "ytM8yFFnn4QO",
        "outputId": "fc9a015f-5868-4f6b-b455-b88198378efd"
      },
      "source": [
        "print(\"Number of files in the g-band\",len(os.listdir(\"/content/data/images/TNG100/sdss/sn99/Outputs/g/\")))\n",
        "print(\"Number of files in the i-band\",len(os.listdir(\"/content/data/images/TNG100/sdss/sn99/Outputs/i/\")))\n",
        "print(\"Number of files in the r-band\",len(os.listdir(\"/content/data/images/TNG100/sdss/sn99/Outputs/r/\")))\n",
        "print(\"Number of files in the z-band\",len(os.listdir(\"/content/data/images/TNG100/sdss/sn99/Outputs/z/\")))"
      ],
      "execution_count": null,
      "outputs": [
        {
          "name": "stdout",
          "output_type": "stream",
          "text": [
            "Number of files in the g-band 11362\n",
            "Number of files in the i-band 11366\n",
            "Number of files in the r-band 11372\n",
            "Number of files in the z-band 11376\n"
          ]
        }
      ]
    },
    {
      "cell_type": "code",
      "metadata": {
        "id": "TK59Bb_9qL_A"
      },
      "source": [
        "g_band=os.listdir(\"/content/data/images/TNG100/sdss/sn99/Outputs/g/\")"
      ],
      "execution_count": null,
      "outputs": []
    },
    {
      "cell_type": "code",
      "metadata": {
        "id": "PlrMrjvKrke4"
      },
      "source": [
        "g_band[1]"
      ],
      "execution_count": null,
      "outputs": []
    },
    {
      "cell_type": "code",
      "metadata": {
        "id": "t2egLnZ2zMVz"
      },
      "source": [
        "def show_img(image_path,shid,band):\n",
        "  \"\"\"\n",
        "  Displays an image (with original scaling).\n",
        "  \"\"\"\n",
        "  image_file = image_path+'/broadband_'+str(int(shid))+\"_FullReal.fits_\"+band+\"_band_FullReal.fits\"\n",
        "  image_data = fits.getdata(image_file, ext=0)\n",
        "  fig=plt.figure()\n",
        "  fig.suptitle(\"Noiseless image in \"+band+\" band\", fontsize=16)\n",
        "  plt.imshow(image_data,cmap='gray')\n",
        "  plt.colorbar()\n",
        "  return image_data"
      ],
      "execution_count": null,
      "outputs": []
    },
    {
      "cell_type": "code",
      "metadata": {
        "id": "E8IteTbssAsQ"
      },
      "source": [
        "band=\"i\"\n",
        "image_path=\"/content/data/images/TNG100/sdss/sn99/Outputs/\"+band\n",
        "shid=100\n",
        "show_img(image_path,shid,band)"
      ],
      "execution_count": null,
      "outputs": []
    },
    {
      "cell_type": "code",
      "metadata": {
        "id": "3NIa1zn9XtpE"
      },
      "source": [
        ""
      ],
      "execution_count": null,
      "outputs": []
    },
    {
      "cell_type": "markdown",
      "metadata": {
        "id": "UD1G6Kwf3CIK"
      },
      "source": [
        "Create TF dataset"
      ]
    },
    {
      "cell_type": "code",
      "metadata": {
        "id": "-UKc6UhqsMcA"
      },
      "source": [
        "import tensorflow as tf\n",
        "import tensorflow_datasets as tfds"
      ],
      "execution_count": null,
      "outputs": []
    },
    {
      "cell_type": "code",
      "metadata": {
        "id": "Ox5bv9v4xt0V"
      },
      "source": [
        "!tfds new tng100_images"
      ],
      "execution_count": null,
      "outputs": []
    },
    {
      "cell_type": "markdown",
      "metadata": {
        "id": "Pw6_Mff-eClN"
      },
      "source": [
        "**Correspondance snapshot number - time**"
      ]
    },
    {
      "cell_type": "code",
      "metadata": {
        "id": "nBbcmV5IzsSF"
      },
      "source": [
        "def correspondance_snapshot_zmerger(image_path,cat_snapshot_path,cat_merger_path):\n",
        "  \"\"\"\n",
        "  From the ID of a galaxy in the Illustris TNG100 simulation, returns the time of the corresponding last major merger in lookback time in Gyrs\n",
        "  Input: illustris_id (int): number of the galaxy in the Illustris TNG100 simulation\n",
        "         catalog_snapshot(panda dataframe): dataframe containing the number of the snapshot and the corresponding time (including lookback time)\n",
        "         catalog_merger_time (panda dataframe): dataframe containing the number of the snapshot corresponding to the last major merger, for each galaxy id\n",
        "  Output: z (float): redshift of the last major merger\n",
        "  \"\"\"\n",
        "  catalog_merger_time=pd.read_csv(cat_merger_path)  \n",
        "  catalog_snapshot=pd.read_csv(cat_snapshot_path)\n",
        "  # To adapt to the filenames\n",
        "  # Here the structure of the filename is the following: \n",
        "  #dir=\"/content/data/images/TNG100/sdss/sn99/Outputs/g/\"\n",
        "  #file: dir+ broadband_number_FullReal.fits_g_band_FullReal.fits where number is the number of the galaxy and g is the band\n",
        "  illustris_id=int(image_path.split(\"_\")[1])\n",
        "\n",
        "  num_last_merger=int(catalog_merger_time[catalog_merger_time[\"Illustris_ID\"]==illustris_id][\"SnapNumLastMajorMerger\"])\n",
        "  z=float(catalog_snapshot[catalog_snapshot[\"Snapshot\"]==num_last_merger][\"Redshift\"])\n",
        "  return z"
      ],
      "execution_count": null,
      "outputs": []
    },
    {
      "cell_type": "code",
      "metadata": {
        "id": "hvkWMxrsCYex"
      },
      "source": [
        "def snapshot2lookbackmerger(image_path,cat_snapshot_path,cat_merger_path):\n",
        "  \"\"\"\n",
        "  From the ID of a galaxy in the Illustris TNG100 simulation, returns the time of the corresponding last major merger in lookback time in Gyrs\n",
        "  Input: illustris_id (int): number of the galaxy in the Illustris TNG100 simulation\n",
        "         catalog_snapshot(panda dataframe): dataframe containing the number of the snapshot and the corresponding time (including lookback time)\n",
        "         catalog_merger_time (panda dataframe): dataframe containing the number of the snapshot corresponding to the last major merger, for each galaxy id\n",
        "  Output: lookback (float): lookback time in Gyrs of the last major merger\n",
        "  \"\"\"\n",
        "  catalog_merger_time=pd.read_csv(cat_merger_path)  \n",
        "  catalog_snapshot=pd.read_csv(cat_snapshot_path)\n",
        "  # To adapt to the filenames\n",
        "  # Here the structure of the filename is the following: \n",
        "  #dir=\"/content/data/images/TNG100/sdss/sn99/Outputs/g/\"\n",
        "  #file: dir+ broadband_number_FullReal.fits_g_band_FullReal.fits where number is the number of the galaxy and g is the band\n",
        "  illustris_id=int(image_path.split(\"_\")[1])\n",
        "\n",
        "  num_last_merger=int(catalog_merger_time[catalog_merger_time[\"Illustris_ID\"]==illustris_id][\"SnapNumLastMajorMerger\"])\n",
        "  lookback=float(catalog_snapshot[catalog_snapshot[\"Snapshot\"]==num_last_merger][\"Lookback\"])\n",
        "  return lookback"
      ],
      "execution_count": null,
      "outputs": []
    },
    {
      "cell_type": "code",
      "metadata": {
        "id": "oT7LcjA4i0Qs"
      },
      "source": [
        "cat_snapshot_path='/content/drive/MyDrive/Colab Notebooks/corresp_snapshot_lookback.csv'\n",
        "cat_merger_path=\"/content/data/mergers/TNG100_SDSS_MajorMergers.csv\"\n",
        "image_path=\"/content/data/images/TNG100/sdss/sn99/Outputs/g/broadband_1_FullReal.fits_g_band_FullReal.fits\"\n",
        "\n",
        "snapshot2lookbackmerger(image_path,cat_snapshot_path,cat_merger_path)"
      ],
      "execution_count": null,
      "outputs": []
    },
    {
      "cell_type": "markdown",
      "metadata": {
        "id": "g8sBKBQ9Hhdr"
      },
      "source": [
        "**Combine all the NOISY bands into one**"
      ]
    },
    {
      "cell_type": "code",
      "metadata": {
        "id": "YPDgYAfYPnyg"
      },
      "source": [
        "def keep_common_filters(img_dir):\n",
        "  \"\"\"\n",
        "  Keeps the number (=id) of the images of galaxies that are available in the four bands g,r,i,z\n",
        "  Input: img_dir (str): path to the directory containing the noisy images\n",
        "  Output: gal_id_kept (list of int): list of the IDs of the images available in the four bands\n",
        "  \"\"\"\n",
        "  filters=['g','r','i','z']\n",
        "  gal_id_all=[]\n",
        "  for i in range(len(filters)):\n",
        "    files=os.listdir(img_dir+filters[i])\n",
        "    #Get the IDs of the galaxies in the NOISY files\n",
        "    gal_id_all.append([int(file.split(\"_\")[1]) for file in files])\n",
        "  gal_id_kept=list(set.intersection(*[set(ids) for ids in gal_id_all]))\n",
        "  return gal_id_kept"
      ],
      "execution_count": null,
      "outputs": []
    },
    {
      "cell_type": "code",
      "metadata": {
        "id": "6rWWUnu5RTyW"
      },
      "source": [
        "img_dir='/content/data/images/TNG100/sdss/sn99/Outputs/'\n",
        "gal_ids=keep_common_filters(img_dir)"
      ],
      "execution_count": null,
      "outputs": []
    },
    {
      "cell_type": "code",
      "metadata": {
        "id": "bqLyyaylO0Nj"
      },
      "source": [
        "def stack_bands(img_dir,gal_id):\n",
        "  \"\"\"\n",
        "  For a given image path and galaxy id, stacks the four bands g,r,i,z into a single image\n",
        "  Input: img_dir (str): path to the directory containing the noisy images\n",
        "         gal_id (int): number of the image of galaxy for which you want to stack bands\n",
        "  Output: im (numpy ndarray): resulting image with the four stacked bands\n",
        "  \"\"\"\n",
        "  filters=['g','r','i','z']\n",
        "  filenames=[img_dir+filters[i]+\"/broadband_\"+str(gal_id)+'_FullReal.fits_'+filters[i]+\"_band_FullReal.fits\" for i in range(len(filters))]\n",
        "  #Stack the bands together\n",
        "  im=[fits.getdata(filename, ext=0) for filename in filenames]\n",
        "  im_size = min([min(i.shape) for i in im])\n",
        "  im = np.stack([i[:im_size, :im_size] for i in im], axis=-1).astype('float32')\n",
        "  return im"
      ],
      "execution_count": null,
      "outputs": []
    },
    {
      "cell_type": "code",
      "metadata": {
        "id": "JeT-ZEczLYzM"
      },
      "source": [
        "img_dir='/content/data/images/TNG100/sdss/sn99/Outputs/'\n",
        "gal_id=575303\n",
        "im=stack_bands(img_dir,gal_id)"
      ],
      "execution_count": null,
      "outputs": []
    },
    {
      "cell_type": "code",
      "metadata": {
        "id": "ZZWl9Q76QXg_"
      },
      "source": [
        "print(im.shape,type(im))"
      ],
      "execution_count": null,
      "outputs": []
    },
    {
      "cell_type": "code",
      "metadata": {
        "id": "9b7_lhSKO_Oj"
      },
      "source": [
        "plt.imshow(im[:,:,3])"
      ],
      "execution_count": null,
      "outputs": []
    },
    {
      "cell_type": "markdown",
      "metadata": {
        "id": "3SyQ1lstgX4b"
      },
      "source": [
        "**Test: load dataset**"
      ]
    },
    {
      "cell_type": "code",
      "metadata": {
        "colab": {
          "background_save": true,
          "base_uri": "https://localhost:8080/",
          "height": 86,
          "referenced_widgets": [
            "f6975dd7f5ca470b861c6e5990c4166b",
            "9beb1aa647e543fcaf7aaf954468c756",
            "ed3c9bdad34d46e6934eb3cabed93cd1",
            "82ba44630956478aaaf11033c4e33476",
            "b3a44a0dc1c54ad0ba7cbe9ca1a503c6",
            "037fa1956abd49e29cf337c6ad92ad90",
            "18a8f86c60474153b74210cca84ad665",
            "5f893ad6e73549d090c198b328c1141b",
            "0353918453c54f6da9c9f73fd31bfc49",
            "2cf682fc637c46df94603455ca49b239",
            "20d6d515642348a18758c59d3bd10daf",
            "411f4eeb403549e9b3b473fd582e17bf"
          ]
        },
        "id": "TEwZ4014gZ0K",
        "outputId": "f2f20ce4-d152-4bf3-8703-09c691d6ade8"
      },
      "source": [
        "import tng100_images\n",
        "manual_dir='/content'\n",
        "dset = tfds.load('tng100_images', split='train')"
      ],
      "execution_count": null,
      "outputs": [
        {
          "name": "stdout",
          "output_type": "stream",
          "text": [
            "\u001b[1mDownloading and preparing dataset tng100_images/1.0.0 (download: Unknown size, generated: Unknown size, total: Unknown size) to /root/tensorflow_datasets/tng100_images/1.0.0...\u001b[0m\n"
          ]
        },
        {
          "data": {
            "application/vnd.jupyter.widget-view+json": {
              "model_id": "f6975dd7f5ca470b861c6e5990c4166b",
              "version_major": 2,
              "version_minor": 0
            },
            "text/plain": [
              "0 examples [00:00, ? examples/s]"
            ]
          },
          "metadata": {},
          "output_type": "display_data"
        },
        {
          "name": "stdout",
          "output_type": "stream",
          "text": [
            "Shuffling and writing examples to /root/tensorflow_datasets/tng100_images/1.0.0.incompleteINJJVN/tng100_images-train.tfrecord\n"
          ]
        },
        {
          "data": {
            "application/vnd.jupyter.widget-view+json": {
              "model_id": "411f4eeb403549e9b3b473fd582e17bf",
              "version_major": 2,
              "version_minor": 0
            },
            "text/plain": [
              "  0%|          | 0/5 [00:00<?, ? examples/s]"
            ]
          },
          "metadata": {},
          "output_type": "display_data"
        },
        {
          "name": "stdout",
          "output_type": "stream",
          "text": [
            "\u001b[1mDataset tng100_images downloaded and prepared to /root/tensorflow_datasets/tng100_images/1.0.0. Subsequent calls will reuse this data.\u001b[0m\n"
          ]
        }
      ]
    },
    {
      "cell_type": "code",
      "metadata": {
        "id": "kdroRaeJnxCH",
        "colab": {
          "base_uri": "https://localhost:8080/"
        },
        "outputId": "44d5c988-89dd-4f65-8b28-0f92816e894a"
      },
      "source": [
        "dset"
      ],
      "execution_count": 10,
      "outputs": [
        {
          "output_type": "execute_result",
          "data": {
            "text/plain": [
              "<PrefetchDataset shapes: {image: (128, 128, 4), last_major_merger: (), object_id: ()}, types: {image: tf.float32, last_major_merger: tf.float32, object_id: tf.int32}>"
            ]
          },
          "metadata": {},
          "execution_count": 10
        }
      ]
    },
    {
      "cell_type": "code",
      "metadata": {
        "id": "0gHbfz3gg3fW",
        "colab": {
          "base_uri": "https://localhost:8080/"
        },
        "outputId": "f5b89c0c-e3a1-4620-b54b-830171a088f2"
      },
      "source": [
        "for example in dset.take(2):\n",
        "  print(example[\"last_major_merger\"])"
      ],
      "execution_count": 12,
      "outputs": [
        {
          "output_type": "stream",
          "name": "stdout",
          "text": [
            "tf.Tensor(4.079, shape=(), dtype=float32)\n",
            "tf.Tensor(5.872, shape=(), dtype=float32)\n"
          ]
        }
      ]
    },
    {
      "cell_type": "code",
      "metadata": {
        "id": "nNjTbeqT8WlP",
        "colab": {
          "base_uri": "https://localhost:8080/",
          "height": 285
        },
        "outputId": "e3660d7b-6224-4850-d585-1b817cb16b7b"
      },
      "source": [
        "plt.imshow(example['image'][:,:,3])"
      ],
      "execution_count": 16,
      "outputs": [
        {
          "output_type": "execute_result",
          "data": {
            "text/plain": [
              "<matplotlib.image.AxesImage at 0x7f0a380c10d0>"
            ]
          },
          "metadata": {},
          "execution_count": 16
        },
        {
          "output_type": "display_data",
          "data": {
            "image/png": "[encoded data removed]",
            "text/plain": [
              "<Figure size 432x288 with 1 Axes>"
            ]
          },
          "metadata": {
            "needs_background": "light"
          }
        }
      ]
    }
  ]
}