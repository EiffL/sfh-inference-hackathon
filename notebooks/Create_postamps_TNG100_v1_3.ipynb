{
  "nbformat": 4,
  "nbformat_minor": 0,
  "metadata": {
    "colab": {
      "name": "Create postamps TNG100_v1-3.ipynb",
      "provenance": [],
      "collapsed_sections": []
    },
    "kernelspec": {
      "name": "python3",
      "display_name": "Python 3"
    },
    "language_info": {
      "name": "python"
    }
  },
  "cells": [
    {
      "cell_type": "markdown",
      "metadata": {
        "id": "g7MEUESVB3PM"
      },
      "source": [
        "**Work with NOISY images**"
      ]
    },
    {
      "cell_type": "code",
      "metadata": {
        "id": "J27u1VQkRZSA"
      },
      "source": [
        "%load_ext autoreload\n",
        "%autoreload 2"
      ],
      "execution_count": 1,
      "outputs": []
    },
    {
      "cell_type": "code",
      "metadata": {
        "id": "lSCkCdM7n0xh"
      },
      "source": [
        "import matplotlib.pyplot as plt\n",
        "import numpy as np\n",
        "from numpy import random\n",
        "from numpy import loadtxt\n",
        "import pandas as pd\n",
        "import os\n",
        "from astropy.utils.data import get_pkg_data_filename\n",
        "from astropy.io import fits\n",
        "from astropy.visualization import simple_norm\n",
        "import tensorflow as tf"
      ],
      "execution_count": 2,
      "outputs": []
    },
    {
      "cell_type": "code",
      "metadata": {
        "colab": {
          "base_uri": "https://localhost:8080/"
        },
        "id": "Pzh2wvtfmI3L",
        "outputId": "f7e945c9-4516-4f69-adea-5e26b0f172b9"
      },
      "source": [
        "from google.colab import auth\n",
        "auth.authenticate_user()\n",
        "!gcloud config set project sfhs-333010"
      ],
      "execution_count": 3,
      "outputs": [
        {
          "output_type": "stream",
          "name": "stdout",
          "text": [
            "Updated property [core/project].\n",
            "\u001b[1;33mWARNING:\u001b[0m You do not appear to have access to project [sfhs-333010] or it does not exist.\n"
          ]
        }
      ]
    },
    {
      "cell_type": "code",
      "metadata": {
        "colab": {
          "base_uri": "https://localhost:8080/"
        },
        "id": "5KrRxsyAmdWo",
        "outputId": "6599286f-460a-4421-b0d1-360f8b628355"
      },
      "source": [
        "!echo \"deb http://packages.cloud.google.com/apt gcsfuse-bionic main\" > /etc/apt/sources.list.d/gcsfuse.list\n",
        "!curl https://packages.cloud.google.com/apt/doc/apt-key.gpg | apt-key add -\n",
        "!apt -qq update\n",
        "!apt -qq install gcsfuse"
      ],
      "execution_count": 4,
      "outputs": [
        {
          "output_type": "stream",
          "name": "stdout",
          "text": [
            "  % Total    % Received % Xferd  Average Speed   Time    Time     Time  Current\n",
            "                                 Dload  Upload   Total   Spent    Left  Speed\n",
            "\r  0     0    0     0    0     0      0      0 --:--:-- --:--:-- --:--:--     0\r100  2537  100  2537    0     0  63425      0 --:--:-- --:--:-- --:--:-- 63425\n",
            "OK\n",
            "55 packages can be upgraded. Run 'apt list --upgradable' to see them.\n",
            "The following NEW packages will be installed:\n",
            "  gcsfuse\n",
            "0 upgraded, 1 newly installed, 0 to remove and 55 not upgraded.\n",
            "Need to get 12.5 MB of archives.\n",
            "After this operation, 28.5 MB of additional disk space will be used.\n",
            "Selecting previously unselected package gcsfuse.\n",
            "(Reading database ... 155222 files and directories currently installed.)\n",
            "Preparing to unpack .../gcsfuse_0.38.0_amd64.deb ...\n",
            "Unpacking gcsfuse (0.38.0) ...\n",
            "Setting up gcsfuse (0.38.0) ...\n"
          ]
        }
      ]
    },
    {
      "cell_type": "code",
      "metadata": {
        "colab": {
          "base_uri": "https://localhost:8080/"
        },
        "id": "8kLyAzgmmfNV",
        "outputId": "82325b9a-7112-49f0-ed25-5e267baa38c5"
      },
      "source": [
        "!mkdir data\n",
        "!gcsfuse --implicit-dirs tng100 data"
      ],
      "execution_count": 5,
      "outputs": [
        {
          "output_type": "stream",
          "name": "stdout",
          "text": [
            "2021/12/07 10:31:42.675343 Start gcsfuse/0.38.0 (Go version go1.17.3) for app \"\" using mount point: /content/data\n",
            "2021/12/07 10:31:42.689312 Opening GCS connection...\n",
            "2021/12/07 10:31:42.810927 Mounting file system \"tng100\"...\n",
            "2021/12/07 10:31:42.845139 File system has been successfully mounted.\n"
          ]
        }
      ]
    },
    {
      "cell_type": "code",
      "metadata": {
        "colab": {
          "base_uri": "https://localhost:8080/",
          "height": 192
        },
        "id": "ZMpTsQKmoNRS",
        "outputId": "a043f9e1-4f2c-4783-8216-55ce68f7e325"
      },
      "source": [
        "# load catalogs\n",
        "cat_path = \"/content/data/phot_TNG100_dylan_143.csv\"\n",
        "phot_cat = pd.read_csv(cat_path)\n",
        "sfh_path = \"/content/data/cats_SFH/\"\n",
        "wl = loadtxt('/content/data/wl.csv', delimiter=',')/10**4\n",
        "\"\"\"\n",
        "#index pandas table\n",
        "shids = phot_cat['subhaloIDs']\n",
        "phot_cat.set_index(\"subhaloIDs\", inplace=True)\n",
        "phot_cat.head()\n",
        "\n",
        "#plot figures\n",
        "fig, axs = plt.subplots(10, 3)\n",
        "fig.set_size_inches(18, 30)\n",
        "fig.suptitle(\"TNG100, no dust\", fontsize=16)\n",
        "for index in range(10):\n",
        "    sh = int(shids[index+random.randint(0,high=len(shids)-20)])\n",
        "    obj=phot_cat.loc[sh][:]\n",
        "    #apparent mags\n",
        "    app_mag = obj.values+5*(np.log10(20e6)-1) #assume at 20pc\n",
        "    flux = 10**(.4*(-app_mag[np.array(wl)<10**3]+8.90)) #convert to Jy\n",
        "    axs[index, 0].scatter(np.array(wl)[np.array(wl)<10**3],np.log10(flux),s=10)\n",
        "    axs[index, 0].set_xlabel(\"wavelength [$\\mu m$]\")\n",
        "    axs[index, 0].set_xscale('log')\n",
        "    try:\n",
        "      sfh = pd.read_csv(sfh_path+\"TNG100_mainprojenitors_\"+str(sh)+\".csv\")\n",
        "    except:\n",
        "      continue  \n",
        "    axs[index, 0].set_ylabel(\"$\\log(f)$ [Jy]\")\n",
        "    axs[index, 1].set_xlabel(\"Time\")\n",
        "    axs[index, 1].set_ylabel(\"SFR\")\n",
        "    axs[index, 1].plot(sfh.time,sfh.SFR_halfRad)\n",
        "    axs[index, 2].plot(sfh.time,np.log10(sfh.Mstar_Half)+10)\n",
        "    axs[index, 2].set_xlabel(\"Time\")\n",
        "    axs[index, 2].set_ylabel(\"Mstar\")\n",
        "plt.savefig(\"/content/data/TNG100_examples.pdf\")\"\"\""
      ],
      "execution_count": 6,
      "outputs": [
        {
          "output_type": "execute_result",
          "data": {
            "application/vnd.google.colaboratory.intrinsic+json": {
              "type": "string"
            },
            "text/plain": [
              "'\\n#index pandas table\\nshids = phot_cat[\\'subhaloIDs\\']\\nphot_cat.set_index(\"subhaloIDs\", inplace=True)\\nphot_cat.head()\\n\\n#plot figures\\nfig, axs = plt.subplots(10, 3)\\nfig.set_size_inches(18, 30)\\nfig.suptitle(\"TNG100, no dust\", fontsize=16)\\nfor index in range(10):\\n    sh = int(shids[index+random.randint(0,high=len(shids)-20)])\\n    obj=phot_cat.loc[sh][:]\\n    #apparent mags\\n    app_mag = obj.values+5*(np.log10(20e6)-1) #assume at 20pc\\n    flux = 10**(.4*(-app_mag[np.array(wl)<10**3]+8.90)) #convert to Jy\\n    axs[index, 0].scatter(np.array(wl)[np.array(wl)<10**3],np.log10(flux),s=10)\\n    axs[index, 0].set_xlabel(\"wavelength [$\\\\mu m$]\")\\n    axs[index, 0].set_xscale(\\'log\\')\\n    try:\\n      sfh = pd.read_csv(sfh_path+\"TNG100_mainprojenitors_\"+str(sh)+\".csv\")\\n    except:\\n      continue  \\n    axs[index, 0].set_ylabel(\"$\\\\log(f)$ [Jy]\")\\n    axs[index, 1].set_xlabel(\"Time\")\\n    axs[index, 1].set_ylabel(\"SFR\")\\n    axs[index, 1].plot(sfh.time,sfh.SFR_halfRad)\\n    axs[index, 2].plot(sfh.time,np.log10(sfh.Mstar_Half)+10)\\n    axs[index, 2].set_xlabel(\"Time\")\\n    axs[index, 2].set_ylabel(\"Mstar\")\\nplt.savefig(\"/content/data/TNG100_examples.pdf\")'"
            ]
          },
          "metadata": {},
          "execution_count": 6
        }
      ]
    },
    {
      "cell_type": "markdown",
      "metadata": {
        "id": "D8Nyh8xxym7g"
      },
      "source": [
        "**List the NOISY files**"
      ]
    },
    {
      "cell_type": "code",
      "metadata": {
        "id": "ytM8yFFnn4QO",
        "colab": {
          "base_uri": "https://localhost:8080/"
        },
        "outputId": "a35e9554-1920-4fbb-c2f9-92f078721c97"
      },
      "source": [
        "print(\"Number of files in the g-band\",len(os.listdir(\"/content/data/images/TNG100/sdss/sn99/Outputs/g/\")))\n",
        "print(\"Number of files in the i-band\",len(os.listdir(\"/content/data/images/TNG100/sdss/sn99/Outputs/i/\")))\n",
        "print(\"Number of files in the r-band\",len(os.listdir(\"/content/data/images/TNG100/sdss/sn99/Outputs/r/\")))\n",
        "print(\"Number of files in the z-band\",len(os.listdir(\"/content/data/images/TNG100/sdss/sn99/Outputs/z/\")))"
      ],
      "execution_count": 7,
      "outputs": [
        {
          "output_type": "stream",
          "name": "stdout",
          "text": [
            "Number of files in the g-band 11362\n",
            "Number of files in the i-band 11366\n",
            "Number of files in the r-band 11372\n",
            "Number of files in the z-band 11376\n"
          ]
        }
      ]
    },
    {
      "cell_type": "code",
      "metadata": {
        "id": "TK59Bb_9qL_A"
      },
      "source": [
        "g_band=os.listdir(\"/content/data/images/TNG100/sdss/sn99/Outputs/g/\")"
      ],
      "execution_count": 8,
      "outputs": []
    },
    {
      "cell_type": "code",
      "metadata": {
        "id": "PlrMrjvKrke4",
        "colab": {
          "base_uri": "https://localhost:8080/",
          "height": 35
        },
        "outputId": "5c5862fe-9c09-49e6-a00c-fd584ff90bb2"
      },
      "source": [
        "g_band[1]"
      ],
      "execution_count": 9,
      "outputs": [
        {
          "output_type": "execute_result",
          "data": {
            "application/vnd.google.colaboratory.intrinsic+json": {
              "type": "string"
            },
            "text/plain": [
              "'broadband_100_FullReal.fits_g_band_FullReal.fits'"
            ]
          },
          "metadata": {},
          "execution_count": 9
        }
      ]
    },
    {
      "cell_type": "code",
      "metadata": {
        "id": "t2egLnZ2zMVz"
      },
      "source": [
        "def show_img(image_path,shid,band):\n",
        "  \"\"\"\n",
        "  Displays an image (with original scaling).\n",
        "  \"\"\"\n",
        "  image_file = image_path+'/broadband_'+str(int(shid))+\"_FullReal.fits_\"+band+\"_band_FullReal.fits\"\n",
        "  image_data = fits.getdata(image_file, ext=0)\n",
        "  fig=plt.figure()\n",
        "  fig.suptitle(\"Noiseless image in \"+band+\" band\", fontsize=16)\n",
        "  plt.imshow(image_data,cmap='gray')\n",
        "  plt.colorbar()\n",
        "  return image_data"
      ],
      "execution_count": 10,
      "outputs": []
    },
    {
      "cell_type": "code",
      "metadata": {
        "id": "E8IteTbssAsQ",
        "colab": {
          "base_uri": "https://localhost:8080/",
          "height": 415
        },
        "outputId": "eca53036-bd9b-4a24-cf7a-85754d85ffc9"
      },
      "source": [
        "band=\"i\"\n",
        "image_path=\"/content/data/images/TNG100/sdss/sn99/Outputs/\"+band\n",
        "shid=100\n",
        "show_img(image_path,shid,band)"
      ],
      "execution_count": 11,
      "outputs": [
        {
          "output_type": "execute_result",
          "data": {
            "text/plain": [
              "array([[188., 184., 184., ..., 184., 183., 196.],\n",
              "       [184., 190., 194., ..., 189., 182., 180.],\n",
              "       [184., 176., 180., ..., 196., 185., 191.],\n",
              "       ...,\n",
              "       [192., 184., 190., ..., 179., 188., 185.],\n",
              "       [194., 185., 180., ..., 189., 195., 188.],\n",
              "       [192., 182., 193., ..., 181., 180., 178.]])"
            ]
          },
          "metadata": {},
          "execution_count": 11
        },
        {
          "output_type": "display_data",
          "data": {
            "image/png": "[encoded data removed]",
            "text/plain": [
              "<Figure size 432x288 with 2 Axes>"
            ]
          },
          "metadata": {
            "needs_background": "light"
          }
        }
      ]
    },
    {
      "cell_type": "markdown",
      "metadata": {
        "id": "UD1G6Kwf3CIK"
      },
      "source": [
        "Create TF dataset"
      ]
    },
    {
      "cell_type": "code",
      "metadata": {
        "id": "-UKc6UhqsMcA"
      },
      "source": [
        "import tensorflow as tf\n",
        "import tensorflow_datasets as tfds"
      ],
      "execution_count": 12,
      "outputs": []
    },
    {
      "cell_type": "code",
      "metadata": {
        "id": "Ox5bv9v4xt0V"
      },
      "source": [
        "#!tfds new tng100_images"
      ],
      "execution_count": 13,
      "outputs": []
    },
    {
      "cell_type": "markdown",
      "metadata": {
        "id": "Pw6_Mff-eClN"
      },
      "source": [
        "**Correspondance snapshot number - time**"
      ]
    },
    {
      "cell_type": "code",
      "metadata": {
        "id": "nBbcmV5IzsSF"
      },
      "source": [
        "def correspondance_snapshot_zmerger(image_path,cat_snapshot_path,cat_merger_path):\n",
        "  \"\"\"\n",
        "  From the ID of a galaxy in the Illustris TNG100 simulation, returns the time of the corresponding last major merger in lookback time in Gyrs\n",
        "  Input: illustris_id (int): number of the galaxy in the Illustris TNG100 simulation\n",
        "         catalog_snapshot(panda dataframe): dataframe containing the number of the snapshot and the corresponding time (including lookback time)\n",
        "         catalog_merger_time (panda dataframe): dataframe containing the number of the snapshot corresponding to the last major merger, for each galaxy id\n",
        "  Output: z (float): redshift of the last major merger\n",
        "  \"\"\"\n",
        "  catalog_merger_time=pd.read_csv(cat_merger_path)  \n",
        "  catalog_snapshot=pd.read_csv(cat_snapshot_path)\n",
        "  # To adapt to the filenames\n",
        "  # Here the structure of the filename is the following: \n",
        "  #dir=\"/content/data/images/TNG100/sdss/sn99/Outputs/g/\"\n",
        "  #file: dir+ broadband_number_FullReal.fits_g_band_FullReal.fits where number is the number of the galaxy and g is the band\n",
        "  illustris_id=int(image_path.split(\"_\")[1])\n",
        "\n",
        "  num_last_merger=int(catalog_merger_time[catalog_merger_time[\"Illustris_ID\"]==illustris_id][\"SnapNumLastMajorMerger\"])\n",
        "  z=float(catalog_snapshot[catalog_snapshot[\"Snapshot\"]==num_last_merger][\"Redshift\"])\n",
        "  return z"
      ],
      "execution_count": 14,
      "outputs": []
    },
    {
      "cell_type": "code",
      "metadata": {
        "id": "hvkWMxrsCYex"
      },
      "source": [
        "def snapshot2lookbackmerger(image_path,cat_snapshot_path,cat_merger_path):\n",
        "  \"\"\"\n",
        "  From the ID of a galaxy in the Illustris TNG100 simulation, returns the time of the corresponding last major merger in lookback time in Gyrs\n",
        "  Input: illustris_id (int): number of the galaxy in the Illustris TNG100 simulation\n",
        "         catalog_snapshot(panda dataframe): dataframe containing the number of the snapshot and the corresponding time (including lookback time)\n",
        "         catalog_merger_time (panda dataframe): dataframe containing the number of the snapshot corresponding to the last major merger, for each galaxy id\n",
        "  Output: lookback (float): lookback time in Gyrs of the last major merger\n",
        "  \"\"\"\n",
        "  catalog_merger_time=pd.read_csv(cat_merger_path)  \n",
        "  catalog_snapshot=pd.read_csv(cat_snapshot_path)\n",
        "  # To adapt to the filenames\n",
        "  # Here the structure of the filename is the following: \n",
        "  #dir=\"/content/data/images/TNG100/sdss/sn99/Outputs/g/\"\n",
        "  #file: dir+ broadband_number_FullReal.fits_g_band_FullReal.fits where number is the number of the galaxy and g is the band\n",
        "  illustris_id=int(image_path.split(\"_\")[1])\n",
        "\n",
        "  num_last_merger=int(catalog_merger_time[catalog_merger_time[\"Illustris_ID\"]==illustris_id][\"SnapNumLastMajorMerger\"])\n",
        "  lookback=float(catalog_snapshot[catalog_snapshot[\"Snapshot\"]==num_last_merger][\"Lookback\"])\n",
        "  return lookback"
      ],
      "execution_count": 15,
      "outputs": []
    },
    {
      "cell_type": "code",
      "metadata": {
        "colab": {
          "base_uri": "https://localhost:8080/"
        },
        "id": "oT7LcjA4i0Qs",
        "outputId": "9f9563fa-292d-471d-c700-0710c6287391"
      },
      "source": [
        "cat_snapshot_path='/content/drive/MyDrive/Colab Notebooks/corresp_snapshot_lookback.csv'\n",
        "cat_merger_path=\"/content/data/mergers/TNG100_SDSS_MajorMergers.csv\"\n",
        "image_path=\"/content/data/images/TNG100/sdss/sn99/Outputs/g/broadband_1_FullReal.fits_g_band_FullReal.fits\"\n",
        "\n",
        "snapshot2lookbackmerger(image_path,cat_snapshot_path,cat_merger_path)"
      ],
      "execution_count": 17,
      "outputs": [
        {
          "output_type": "execute_result",
          "data": {
            "text/plain": [
              "4.079"
            ]
          },
          "metadata": {},
          "execution_count": 17
        }
      ]
    },
    {
      "cell_type": "markdown",
      "metadata": {
        "id": "g8sBKBQ9Hhdr"
      },
      "source": [
        "**Combine all the NOISY bands into one**"
      ]
    },
    {
      "cell_type": "code",
      "metadata": {
        "id": "YPDgYAfYPnyg"
      },
      "source": [
        "def keep_common_filters(img_dir):\n",
        "  \"\"\"\n",
        "  Keeps the number (=id) of the images of galaxies that are available in the four bands g,r,i,z\n",
        "  Input: img_dir (str): path to the directory containing the noisy images\n",
        "  Output: gal_id_kept (list of int): list of the IDs of the images available in the four bands\n",
        "  \"\"\"\n",
        "  filters=['g','r','i','z']\n",
        "  gal_id_all=[]\n",
        "  for i in range(len(filters)):\n",
        "    files=os.listdir(img_dir+filters[i])\n",
        "    #Get the IDs of the galaxies in the NOISY files\n",
        "    gal_id_all.append([int(file.split(\"_\")[1]) for file in files])\n",
        "  gal_id_kept=list(set.intersection(*[set(ids) for ids in gal_id_all]))\n",
        "  return gal_id_kept"
      ],
      "execution_count": 18,
      "outputs": []
    },
    {
      "cell_type": "code",
      "metadata": {
        "id": "6rWWUnu5RTyW"
      },
      "source": [
        "img_dir='/content/data/images/TNG100/sdss/sn99/Outputs/'\n",
        "gal_ids=keep_common_filters(img_dir)"
      ],
      "execution_count": 19,
      "outputs": []
    },
    {
      "cell_type": "code",
      "metadata": {
        "id": "AOso-MDjRpwh"
      },
      "source": [
        "\"\"\"img_dir='/content/data/images/TNG100/sdss/sn99/Outputs/'\n",
        "for i in range(len(gal_ids)):\n",
        "  try:\n",
        "    stack_bands(img_dir,gal_ids[i])\n",
        "  except:\n",
        "    print(\"Problem for gal_ids\",gal_ids[i])\"\"\""
      ],
      "execution_count": null,
      "outputs": []
    },
    {
      "cell_type": "code",
      "metadata": {
        "id": "bqLyyaylO0Nj"
      },
      "source": [
        "def stack_bands(img_dir,gal_id):\n",
        "  \"\"\"\n",
        "  For a given image path and galaxy id, stacks the four bands g,r,i,z into a single image\n",
        "  Input: img_dir (str): path to the directory containing the noisy images\n",
        "         gal_id (int): number of the image of galaxy for which you want to stack bands\n",
        "  Output: im (numpy ndarray): resulting image with the four stacked bands\n",
        "  \"\"\"\n",
        "  filters=['g','r','i','z']\n",
        "  filenames=[img_dir+filters[i]+\"/broadband_\"+str(gal_id)+'_FullReal.fits_'+filters[i]+\"_band_FullReal.fits\" for i in range(len(filters))]\n",
        "  #Stack the bands together\n",
        "  im=[fits.getdata(filename, ext=0) for filename in filenames]\n",
        "  im_size = min([min(i.shape) for i in im])\n",
        "  im = np.stack([i[:im_size, :im_size] for i in im], axis=-1).astype('float32')\n",
        "  return im"
      ],
      "execution_count": 20,
      "outputs": []
    },
    {
      "cell_type": "code",
      "metadata": {
        "id": "JeT-ZEczLYzM"
      },
      "source": [
        "img_dir='/content/data/images/TNG100/sdss/sn99/Outputs/'\n",
        "gal_id=10\n",
        "im=stack_bands(img_dir,gal_id)"
      ],
      "execution_count": 21,
      "outputs": []
    },
    {
      "cell_type": "code",
      "metadata": {
        "colab": {
          "base_uri": "https://localhost:8080/"
        },
        "id": "ZZWl9Q76QXg_",
        "outputId": "dfe42aae-17c1-40bf-b6a9-ecb778c2c2c4"
      },
      "source": [
        "print(im.shape,type(im))"
      ],
      "execution_count": 23,
      "outputs": [
        {
          "output_type": "stream",
          "name": "stdout",
          "text": [
            "(128, 128, 4) <class 'numpy.ndarray'>\n"
          ]
        }
      ]
    },
    {
      "cell_type": "code",
      "metadata": {
        "colab": {
          "base_uri": "https://localhost:8080/",
          "height": 285
        },
        "id": "9b7_lhSKO_Oj",
        "outputId": "aed1bc52-bd60-4f06-ea9a-95a39470125a"
      },
      "source": [
        "plt.imshow(im[:,:,3])"
      ],
      "execution_count": 24,
      "outputs": [
        {
          "output_type": "execute_result",
          "data": {
            "text/plain": [
              "<matplotlib.image.AxesImage at 0x7f8dac340bd0>"
            ]
          },
          "metadata": {},
          "execution_count": 24
        },
        {
          "output_type": "display_data",
          "data": {
            "image/png": "[encoded data removed]",
            "text/plain": [
              "<Figure size 432x288 with 1 Axes>"
            ]
          },
          "metadata": {
            "needs_background": "light"
          }
        }
      ]
    },
    {
      "cell_type": "code",
      "metadata": {
        "id": "hlCY8fwGdGkx"
      },
      "source": [
        ""
      ],
      "execution_count": null,
      "outputs": []
    }
  ]
}