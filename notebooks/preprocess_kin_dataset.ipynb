{
 "cells": [
  {
   "cell_type": "code",
   "execution_count": 1,
   "id": "52c500fa",
   "metadata": {},
   "outputs": [
    {
     "name": "stdout",
     "output_type": "stream",
     "text": [
      "Thu Dec  9 10:45:49 2021       \n",
      "+-----------------------------------------------------------------------------+\n",
      "| NVIDIA-SMI 470.57.02    Driver Version: 470.57.02    CUDA Version: 11.4     |\n",
      "|-------------------------------+----------------------+----------------------+\n",
      "| GPU  Name        Persistence-M| Bus-Id        Disp.A | Volatile Uncorr. ECC |\n",
      "| Fan  Temp  Perf  Pwr:Usage/Cap|         Memory-Usage | GPU-Util  Compute M. |\n",
      "|                               |                      |               MIG M. |\n",
      "|===============================+======================+======================|\n",
      "|   0  Tesla V100-SXM2...  On   | 00000000:1A:00.0 Off |                    0 |\n",
      "| N/A   43C    P0    42W / 300W |      0MiB / 32510MiB |      0%      Default |\n",
      "|                               |                      |                  N/A |\n",
      "+-------------------------------+----------------------+----------------------+\n",
      "                                                                               \n",
      "+-----------------------------------------------------------------------------+\n",
      "| Processes:                                                                  |\n",
      "|  GPU   GI   CI        PID   Type   Process name                  GPU Memory |\n",
      "|        ID   ID                                                   Usage      |\n",
      "|=============================================================================|\n",
      "|  No running processes found                                                 |\n",
      "+-----------------------------------------------------------------------------+\n"
     ]
    }
   ],
   "source": [
    "!nvidia-smi"
   ]
  },
  {
   "cell_type": "code",
   "execution_count": 2,
   "id": "5ddc8cf5",
   "metadata": {},
   "outputs": [],
   "source": [
    "%load_ext autoreload\n",
    "%autoreload 2"
   ]
  },
  {
   "cell_type": "code",
   "execution_count": 3,
   "id": "cd612452",
   "metadata": {},
   "outputs": [
    {
     "name": "stdout",
     "output_type": "stream",
     "text": [
      "Populating the interactive namespace from numpy and matplotlib\n"
     ]
    }
   ],
   "source": [
    "import tensorflow as tf\n",
    "import tensorflow_datasets as tfds\n",
    "import os\n",
    "%pylab inline\n",
    "import matplotlib.pyplot as plt"
   ]
  },
  {
   "cell_type": "code",
   "execution_count": 4,
   "id": "f0c996ab",
   "metadata": {},
   "outputs": [],
   "source": [
    "data_dir='/gpfsscratch/rech/qrc/commun/tensorflow_datasets'"
   ]
  },
  {
   "cell_type": "code",
   "execution_count": 5,
   "id": "2a073ed6",
   "metadata": {},
   "outputs": [],
   "source": [
    "from sfh.datasets.mergers import kinetic"
   ]
  },
  {
   "cell_type": "code",
   "execution_count": 7,
   "id": "7106188e",
   "metadata": {},
   "outputs": [],
   "source": [
    "from astropy.stats import mad_std\n",
    "import numpy as np\n",
    "\n",
    "def mean_std_computation(img,lbt):      \n",
    "    scaling = []\n",
    "    mean_img = []\n",
    "    #img = np.nan_to_num(img, copy=Tru, nan=0.0)\n",
    "    img[np.isnan(img)] = 0\n",
    "    img[np.isinf(img)] = 0\n",
    "    for i in range(0,img.shape[1]):\n",
    "        sigma = mad_std(img[:,i,:,:].flatten())\n",
    "        avg = np.mean(img[:,i,:,:].flatten())\n",
    "        scaling.append(sigma)\n",
    "        mean_img.append(avg)\n",
    "    return mean_img, scaling"
   ]
  },
  {
   "cell_type": "code",
   "execution_count": 35,
   "id": "fa244d1a",
   "metadata": {},
   "outputs": [],
   "source": [
    "# Using a mapping function to apply preprocessing to our data\n",
    "def preprocessing(example):\n",
    "    a = 3.\n",
    "    img1 = tf.constant(1/a,dtype=tf.float32) * tf.math.asinh(example['image'][0,:,:]/(tf.constant(scaling[0]*a,dtype=tf.float32)) )\n",
    "    img2 = (example['image'][1,:,:]-tf.constant(mean_img[1],dtype=tf.float32))/tf.constant(scaling[1],dtype=tf.float32)\n",
    "    img3 = (example['image'][2,:,:]-tf.constant(mean_img[2],dtype=tf.float32))/tf.constant(scaling[2],dtype=tf.float32)\n",
    "    img  = tf.stack([img1,img2,img3],axis=0)\n",
    "    lbt = example['last_major_merger']/tf.constant(13.6)    \n",
    "    return dict(image=img, last_major_merger =lbt, object_id=example['object_id'])"
   ]
  },
  {
   "cell_type": "code",
   "execution_count": 36,
   "id": "c3a39b4e",
   "metadata": {},
   "outputs": [],
   "source": [
    "def stack_vars(ds):\n",
    "    images =[]\n",
    "    lbt = []\n",
    "    for i, entry in enumerate(ds): \n",
    "        images.append(entry['image'])\n",
    "        lbt.append(entry['last_major_merger'])\n",
    "    images = np.stack(images)\n",
    "    lbt = np.stack(lbt)\n",
    "    return images, lbt"
   ]
  },
  {
   "cell_type": "code",
   "execution_count": 37,
   "id": "4f151524",
   "metadata": {},
   "outputs": [],
   "source": [
    "ds = tfds.load('mergers_kinetic', split='train[:1%]', data_dir=data_dir)"
   ]
  },
  {
   "cell_type": "code",
   "execution_count": 38,
   "id": "2156d94e",
   "metadata": {},
   "outputs": [
    {
     "name": "stdout",
     "output_type": "stream",
     "text": [
      "252\n"
     ]
    }
   ],
   "source": [
    "print(len(ds))"
   ]
  },
  {
   "cell_type": "code",
   "execution_count": 39,
   "id": "377d8e6e",
   "metadata": {},
   "outputs": [],
   "source": [
    "N = 10\n",
    "\n",
    "ds = ds.take(N)"
   ]
  },
  {
   "cell_type": "code",
   "execution_count": 40,
   "id": "5160271a",
   "metadata": {},
   "outputs": [
    {
     "name": "stdout",
     "output_type": "stream",
     "text": [
      "10\n"
     ]
    }
   ],
   "source": [
    "print(len(ds))"
   ]
  },
  {
   "cell_type": "code",
   "execution_count": 41,
   "id": "a1935261",
   "metadata": {},
   "outputs": [
    {
     "name": "stdout",
     "output_type": "stream",
     "text": [
      "stacked_images: (10, 3, 512, 512)\n",
      "stacked_lbt: (10,)\n"
     ]
    }
   ],
   "source": [
    "images, lbt =  stack_vars(ds)   \n",
    "print('stacked_images:', shape(images))\n",
    "print('stacked_lbt:', shape(lbt))"
   ]
  },
  {
   "cell_type": "code",
   "execution_count": 42,
   "id": "c8d29612",
   "metadata": {},
   "outputs": [
    {
     "name": "stdout",
     "output_type": "stream",
     "text": [
      "sigma: [33205.43648882585, 43.65749262641268, 37.643232661037565]\n",
      "mean: [193696.55, 2.9481435, 95.614685]\n"
     ]
    }
   ],
   "source": [
    "mean_img, scaling = mean_std_computation(images,lbt)\n",
    "print(\"sigma:\", scaling)\n",
    "print(\"mean:\", mean_img)"
   ]
  },
  {
   "cell_type": "code",
   "execution_count": 43,
   "id": "b5b7dc61",
   "metadata": {},
   "outputs": [],
   "source": [
    "dset = ds.map(preprocessing)"
   ]
  },
  {
   "cell_type": "code",
   "execution_count": 45,
   "id": "486da773",
   "metadata": {},
   "outputs": [],
   "source": [
    "images_scaled,lbt_scaled = stack_vars(dset)"
   ]
  },
  {
   "cell_type": "code",
   "execution_count": 46,
   "id": "9c55d88e",
   "metadata": {},
   "outputs": [
    {
     "data": {
      "text/plain": [
       "(-0.5, 511.5, 511.5, -0.5)"
      ]
     },
     "execution_count": 46,
     "metadata": {},
     "output_type": "execute_result"
    },
    {
     "data": {
      "image/png": "[encoded data removed]",
      "text/plain": [
       "<Figure size 720x2160 with 2 Axes>"
      ]
     },
     "metadata": {
      "needs_background": "light"
     },
     "output_type": "display_data"
    }
   ],
   "source": [
    "sample = 1 \n",
    "\n",
    "plt.figure(figsize=(10,30))\n",
    "\n",
    "plt.subplot(1,2,1)\n",
    "plt.imshow(images[sample,0,:,:])\n",
    "plt.title('Steller light Before')\n",
    "plt.axis('off')\n",
    "\n",
    "plt.subplot(1,2,2)\n",
    "plt.imshow(images_scaled[sample,0,:,:])\n",
    "plt.title( 'Steller light After')\n",
    "plt.axis('off')"
   ]
  },
  {
   "cell_type": "code",
   "execution_count": null,
   "id": "2b40d57b",
   "metadata": {},
   "outputs": [],
   "source": []
  }
 ],
 "metadata": {
  "kernelspec": {
   "display_name": "Python 3 (ipykernel)",
   "language": "python",
   "name": "python3"
  },
  "language_info": {
   "codemirror_mode": {
    "name": "ipython",
    "version": 3
   },
   "file_extension": ".py",
   "mimetype": "text/x-python",
   "name": "python",
   "nbconvert_exporter": "python",
   "pygments_lexer": "ipython3",
   "version": "3.7.10"
  }
 },
 "nbformat": 4,
 "nbformat_minor": 5
}
