{
 "cells": [
  {
   "cell_type": "code",
   "execution_count": 11,
   "id": "0c11bd55",
   "metadata": {},
   "outputs": [],
   "source": [
    "\"\"\"\n",
    "Title: PixelCNN\n",
    "Author: [ADMoreau](https://github.com/ADMoreau)\n",
    "Date created: 2020/05/17\n",
    "Last modified: 2020/05/23\n",
    "Description: PixelCNN implemented in Keras.\n",
    "\"\"\"\n",
    "\n",
    "\"\"\"\n",
    "## Introduction\n",
    "PixelCNN is a generative model proposed in 2016 by van den Oord et al.\n",
    "(reference: [Conditional Image Generation with PixelCNN Decoders](https://arxiv.org/abs/1606.05328)).\n",
    "It is designed to generate images (or other data types) iteratively\n",
    "from an input vector where the probability distribution of prior elements dictates the\n",
    "probability distribution of later elements. In the following example, images are generated\n",
    "in this fashion, pixel-by-pixel, via a masked convolution kernel that only looks at data\n",
    "from previously generated pixels (origin at the top left) to generate later pixels.\n",
    "During inference, the output of the network is used as a probability ditribution\n",
    "from which new pixel values are sampled to generate a new image\n",
    "(here, with MNIST, the pixels values are either black or white).\n",
    "\"\"\"\n",
    "\n",
    "import numpy as np\n",
    "import tensorflow as tf\n",
    "from tensorflow import keras\n",
    "from tensorflow.keras import layers\n",
    "from tqdm import tqdm\n",
    "from matplotlib import pyplot as plt\n",
    "import tensorflow_probability as tfp\n",
    "from keras.callbacks import History \n",
    "history = History()"
   ]
  },
  {
   "cell_type": "code",
   "execution_count": 12,
   "id": "9dbb7b35",
   "metadata": {},
   "outputs": [
    {
     "data": {
      "text/plain": [
       "'0.14.1'"
      ]
     },
     "execution_count": 12,
     "metadata": {},
     "output_type": "execute_result"
    }
   ],
   "source": [
    "tf.__version__\n",
    "tfp.__version__"
   ]
  },
  {
   "cell_type": "code",
   "execution_count": 13,
   "id": "19ea9860",
   "metadata": {},
   "outputs": [],
   "source": [
    "\n",
    "# Code for the TCN adapted from https://github.com/philipperemy/keras-tcn\n",
    "\n",
    "def residual_block(x, training, dilation_rate, nb_filters, kernel_size, padding,\n",
    "                   activation='relu', dropout_rate=0, use_batch_norm=False):\n",
    "    # type: (Layer, bool, int, int, int, str, str, float, str, bool) -> Tuple[Layer, Layer]\n",
    "    \"\"\"Defines the residual block for the WaveNet TCN\n",
    "    Args:\n",
    "        x: The previous layer in the model\n",
    "        training: boolean indicating whether the layer should behave in training mode or in inference mode\n",
    "        dilation_rate: The dilation power of 2 we are using for this residual block\n",
    "        nb_filters: The number of convolutional filters to use in this block\n",
    "        kernel_size: The size of the convolutional kernel\n",
    "        padding: The padding used in the convolutional layers, 'same' or 'causal'.\n",
    "        activation: The final activation used in o = Activation(x + F(x))\n",
    "        dropout_rate: Float between 0 and 1. Fraction of the input units to drop.\n",
    "        kernel_initializer: Initializer for the kernel weights matrix (Conv1D).\n",
    "        use_batch_norm: Whether to use batch normalization in the residual layers or not.\n",
    "    Returns:\n",
    "        A tuple where the first element is the residual model layer, and the second\n",
    "        is the skip connection.\n",
    "    \"\"\"\n",
    "    prev_x = x\n",
    "    for k in range(2):\n",
    "        x = tf.keras.layers.Conv1D(filters=nb_filters,\n",
    "                   kernel_size=kernel_size,\n",
    "                   dilation_rate=dilation_rate,\n",
    "                   padding=padding,\n",
    "                   activation=activation)(x)\n",
    "        if use_batch_norm:\n",
    "            x = tf.layers.batch_normalization(x)  # TODO should be WeightNorm here, but using batchNorm instead\n",
    "        #x = tf.nn.relu(x)\n",
    "        x = tf.keras.layers.SpatialDropout1D(rate=dropout_rate)(inputs=x, training=training)\n",
    "\n",
    "    # 1x1 conv to match the shapes (channel dimension).\n",
    "    prev_x = tf.keras.layers.Conv1D(nb_filters, 1, padding='same')(prev_x)\n",
    "    res_x = prev_x + x\n",
    "    res_x = tf.keras.activations.relu(res_x)\n",
    "    return res_x, x\n",
    "\n",
    "def process_dilations(dilations):\n",
    "    def is_power_of_two(num):\n",
    "        return num != 0 and ((num & (num - 1)) == 0)\n",
    "\n",
    "    if all([is_power_of_two(i) for i in dilations]):\n",
    "        return dilations\n",
    "\n",
    "    else:\n",
    "        new_dilations = [2 ** i for i in dilations]\n",
    "        return new_dilations\n",
    "\n",
    "    x = tf.keras.layers.Conv1D(nb_filters, 1, padding=padding)(x)\n",
    "    skip_connections = []\n",
    "    for s in range(nb_stacks):\n",
    "        for d in dilations:\n",
    "            x, skip_out = residual_block(training=training,\n",
    "                                          dilation_rate=d,\n",
    "                                          nb_filters=nb_filters,\n",
    "                                          kernel_size=kernel_size,\n",
    "                                          padding=padding,\n",
    "                                          activation=activation,\n",
    "                                          dropout_rate=dropout_rate,\n",
    "                                          use_batch_norm=use_batch_norm)(x)\n",
    "            skip_connections.append(skip_out)\n",
    "    if use_skip_connections:\n",
    "        x = tf.keras.layers.add(skip_connections)\n",
    "    if not return_sequences:\n",
    "        x = x[:, -1, :]\n",
    "    return x\n",
    "\n",
    "\n",
    "paddings = tf.constant([[0, 0],[1,0],[0,0]])\n",
    "\n",
    "shift_layer = tf.keras.layers.Lambda(lambda x: tf.pad( x, paddings))\n",
    "cut_layer = tf.keras.layers.Lambda(lambda x: x[:,:-1,:])"
   ]
  },
  {
   "cell_type": "code",
   "execution_count": 14,
   "id": "f011e565",
   "metadata": {},
   "outputs": [
    {
     "name": "stdout",
     "output_type": "stream",
     "text": [
      "6\n"
     ]
    },
    {
     "name": "stderr",
     "output_type": "stream",
     "text": [
      "2021-12-08 00:19:28.485648: W tensorflow/core/kernels/data/cache_dataset_ops.cc:768] The calling iterator did not fully read the dataset being cached. In order to avoid unexpected truncation of the dataset, the partially cached contents of the dataset  will be discarded. This can happen if you have an input pipeline similar to `dataset.cache().take(k).repeat()`. You should use `dataset.take(k).cache().repeat()` instead.\n"
     ]
    }
   ],
   "source": [
    "import tensorflow_datasets as tfds\n",
    "dset = tfds.load('sfh_interp', split='train')\n",
    "sample = list(dset.take(5))[3]\n",
    "\n",
    "num_components = 2\n",
    "# Shape of the distribution\n",
    "event_shape = [1]\n",
    "# Utility function to compute how many parameters this distribution requires\n",
    "params_size = tfp.layers.MixtureNormal.params_size(num_components, event_shape)\n",
    "print(params_size)"
   ]
  },
  {
   "cell_type": "code",
   "execution_count": 15,
   "id": "48e9e318",
   "metadata": {},
   "outputs": [],
   "source": [
    "\n",
    "\n",
    "def preprocessing(example):\n",
    "    \n",
    "    return tf.reshape(tf.cast(example['SFR_Max'], dtype=tf.float32),(-1,100,1)), \\\n",
    "           tf.reshape(tf.cast(example['SFR_Max'], dtype=tf.float32),(-1,100,1))\n",
    "\n",
    "def input_fn(mode='train', batch_size=64, dataset_name='sfh'):\n",
    "    \"\"\"\n",
    "    mode: 'train' or 'test'\n",
    "    \"\"\"\n",
    "    if mode == 'train':\n",
    "        dataset = tfds.load(dataset_name, split='train[:80%]')\n",
    "        dataset = dataset.repeat()\n",
    "        dataset = dataset.shuffle(10000)\n",
    "    else:\n",
    "        dataset = tfds.load(dataset_name, split='train[80%:]')\n",
    "    \n",
    "    dataset = dataset.batch(batch_size, drop_remainder=True)\n",
    "    dataset = dataset.map(preprocessing) # Apply data preprocessing\n",
    "    dataset = dataset.prefetch(-1)       # fetch next batches while training current one (-1 for autotune)\n",
    "    return dataset, tf.data.experimental.cardinality(dset).numpy()"
   ]
  },
  {
   "cell_type": "code",
   "execution_count": 16,
   "id": "abce1088",
   "metadata": {},
   "outputs": [
    {
     "name": "stdout",
     "output_type": "stream",
     "text": [
      "Model: \"sequential_1\"\n",
      "_________________________________________________________________\n",
      "Layer (type)                 Output Shape              Param #   \n",
      "=================================================================\n",
      "lambda_2 (Lambda)            (64, 101, 1)              0         \n",
      "_________________________________________________________________\n",
      "lambda_3 (Lambda)            (64, 100, 1)              0         \n",
      "_________________________________________________________________\n",
      "conv1d_6 (Conv1D)            (64, 100, 16)             64        \n",
      "_________________________________________________________________\n",
      "conv1d_7 (Conv1D)            (64, 100, 16)             784       \n",
      "_________________________________________________________________\n",
      "conv1d_8 (Conv1D)            (64, 100, 32)             1568      \n",
      "_________________________________________________________________\n",
      "conv1d_9 (Conv1D)            (64, 100, 64)             6208      \n",
      "_________________________________________________________________\n",
      "conv1d_10 (Conv1D)           (64, 100, 128)            24704     \n",
      "_________________________________________________________________\n",
      "conv1d_11 (Conv1D)           (64, 100, 256)            98560     \n",
      "_________________________________________________________________\n",
      "dense_1 (Dense)              (64, 100, 6)              1542      \n",
      "_________________________________________________________________\n",
      "mixture_normal_1 (MixtureNor multiple                  0         \n",
      "=================================================================\n",
      "Total params: 133,430\n",
      "Trainable params: 133,430\n",
      "Non-trainable params: 0\n",
      "_________________________________________________________________\n"
     ]
    }
   ],
   "source": [
    "\"\"\"\n",
    "## Build the model based on the original paper\n",
    "\"\"\"\n",
    "\n",
    "N_TIMESTEPS = sample['SFR_Max'].shape[0]\n",
    "kernel_size=3\n",
    "\n",
    "pixel_cnn = keras.Sequential()\n",
    "\n",
    "pixel_cnn.add(shift_layer)\n",
    "pixel_cnn.add(cut_layer)\n",
    "pixel_cnn.add(tf.keras.layers.Conv1D(filters=16,\n",
    "                  kernel_size=kernel_size,\n",
    "                  dilation_rate=1,\n",
    "                  padding='causal',\n",
    "                  activation='relu'\n",
    "                  )\n",
    "             )\n",
    "\n",
    "for dilation_rate, nb_filters in zip([2, 4, 8, 16, 32], [16, 32, 64, 128, 256]):\n",
    "    pixel_cnn.add(\n",
    "        tf.keras.layers.Conv1D(filters=nb_filters,\n",
    "               kernel_size=kernel_size,\n",
    "               dilation_rate=dilation_rate,\n",
    "               padding='causal',\n",
    "               activation='relu')\n",
    "    )\n",
    "\n",
    "pixel_cnn.add(keras.layers.Dense(params_size))\n",
    "pixel_cnn.add(tfp.layers.MixtureNormal(num_components, event_shape))\n",
    "\n",
    "pixel_cnn.build(input_shape=(64,N_TIMESTEPS,1))\n",
    "pixel_cnn.summary()"
   ]
  },
  {
   "cell_type": "code",
   "execution_count": 17,
   "id": "bcc0af57",
   "metadata": {},
   "outputs": [],
   "source": [
    "negloglik = lambda y, q: tf.reduce_sum(-q.log_prob(y),-1)\n",
    "#negloglik = lambda y, q: -q.log_prob(y)\n",
    "\n",
    "pixel_cnn.compile(loss=negloglik, optimizer='adam')\n",
    "\n",
    "#dist=pixel_cnn(tf.reshape(sample['SFR_Max'],(1,N_TIMESTEPS,1)))\n",
    "#dist.log_prob(tf.cast(tf.reshape(sample['SFR_Max'],(1,N_TIMESTEPS,1)),dtype=tf.float32))"
   ]
  },
  {
   "cell_type": "code",
   "execution_count": 18,
   "id": "382a3208",
   "metadata": {},
   "outputs": [
    {
     "name": "stdout",
     "output_type": "stream",
     "text": [
      "21574\n",
      "Epoch 1/100\n",
      "337/337 [==============================] - 3s 4ms/step - loss: 57.1397\n",
      "Epoch 2/100\n",
      "337/337 [==============================] - 1s 4ms/step - loss: -54.7930\n",
      "Epoch 3/100\n",
      "337/337 [==============================] - 1s 4ms/step - loss: -62.7889\n",
      "Epoch 4/100\n",
      "337/337 [==============================] - 1s 4ms/step - loss: -55.2211\n",
      "Epoch 5/100\n",
      "337/337 [==============================] - 1s 4ms/step - loss: -88.4189\n",
      "Epoch 6/100\n",
      "337/337 [==============================] - 1s 4ms/step - loss: -85.8241\n",
      "Epoch 7/100\n",
      "337/337 [==============================] - 1s 4ms/step - loss: -84.4872\n",
      "Epoch 8/100\n",
      "337/337 [==============================] - 1s 4ms/step - loss: -88.0101\n",
      "Epoch 9/100\n",
      "337/337 [==============================] - 1s 4ms/step - loss: -88.9515\n",
      "Epoch 10/100\n",
      "337/337 [==============================] - 1s 4ms/step - loss: -86.2463\n",
      "Epoch 11/100\n",
      "337/337 [==============================] - 1s 4ms/step - loss: -100.7427\n",
      "Epoch 12/100\n",
      "337/337 [==============================] - 1s 4ms/step - loss: -87.8769\n",
      "Epoch 13/100\n",
      "337/337 [==============================] - 1s 4ms/step - loss: -91.2386\n",
      "Epoch 14/100\n",
      "337/337 [==============================] - 1s 4ms/step - loss: -91.0940\n",
      "Epoch 15/100\n",
      "337/337 [==============================] - 1s 4ms/step - loss: -100.7530\n",
      "Epoch 16/100\n",
      "337/337 [==============================] - 1s 4ms/step - loss: -107.6334\n",
      "Epoch 17/100\n",
      "337/337 [==============================] - 1s 4ms/step - loss: -105.5639\n",
      "Epoch 18/100\n",
      "337/337 [==============================] - 1s 4ms/step - loss: -98.9444\n",
      "Epoch 19/100\n",
      "337/337 [==============================] - 1s 4ms/step - loss: -105.8121\n",
      "Epoch 20/100\n",
      "337/337 [==============================] - 1s 4ms/step - loss: -100.5166\n",
      "Epoch 21/100\n",
      "337/337 [==============================] - 1s 4ms/step - loss: -85.4939\n",
      "Epoch 22/100\n",
      "337/337 [==============================] - 1s 4ms/step - loss: -104.0527\n",
      "Epoch 23/100\n",
      "337/337 [==============================] - 1s 4ms/step - loss: -101.3192\n",
      "Epoch 24/100\n",
      "337/337 [==============================] - 1s 4ms/step - loss: -99.7371\n",
      "Epoch 25/100\n",
      "337/337 [==============================] - 1s 4ms/step - loss: -93.8986\n",
      "Epoch 26/100\n",
      "337/337 [==============================] - 1s 4ms/step - loss: -106.7661\n",
      "Epoch 27/100\n",
      "337/337 [==============================] - 1s 4ms/step - loss: -103.6569\n",
      "Epoch 28/100\n",
      "337/337 [==============================] - 1s 4ms/step - loss: -106.2502\n",
      "Epoch 29/100\n",
      "337/337 [==============================] - 1s 4ms/step - loss: -108.3102\n",
      "Epoch 30/100\n",
      "337/337 [==============================] - 1s 4ms/step - loss: -100.0528\n",
      "Epoch 31/100\n",
      "337/337 [==============================] - 1s 4ms/step - loss: -112.2929\n",
      "Epoch 32/100\n",
      "337/337 [==============================] - 1s 4ms/step - loss: -111.7450\n",
      "Epoch 33/100\n",
      "337/337 [==============================] - 1s 4ms/step - loss: -100.4848\n",
      "Epoch 34/100\n",
      "337/337 [==============================] - 1s 4ms/step - loss: -111.3394\n",
      "Epoch 35/100\n",
      "337/337 [==============================] - 1s 4ms/step - loss: -97.8935\n",
      "Epoch 36/100\n",
      "337/337 [==============================] - 1s 4ms/step - loss: -112.4348\n",
      "Epoch 37/100\n",
      "337/337 [==============================] - 1s 4ms/step - loss: -112.1748\n",
      "Epoch 38/100\n",
      "337/337 [==============================] - 1s 4ms/step - loss: -116.4078\n",
      "Epoch 39/100\n",
      "337/337 [==============================] - 1s 4ms/step - loss: -116.6219\n",
      "Epoch 40/100\n",
      "337/337 [==============================] - 1s 4ms/step - loss: -120.2191\n",
      "Epoch 41/100\n",
      "337/337 [==============================] - 1s 4ms/step - loss: -105.1407\n",
      "Epoch 42/100\n",
      "337/337 [==============================] - 1s 4ms/step - loss: -121.2000\n",
      "Epoch 43/100\n",
      "337/337 [==============================] - 1s 4ms/step - loss: -102.4660\n",
      "Epoch 44/100\n",
      "337/337 [==============================] - 1s 4ms/step - loss: -102.2378\n",
      "Epoch 45/100\n",
      "337/337 [==============================] - 1s 4ms/step - loss: -109.3976\n",
      "Epoch 46/100\n",
      "337/337 [==============================] - 1s 4ms/step - loss: -109.7776\n",
      "Epoch 47/100\n",
      "337/337 [==============================] - 1s 4ms/step - loss: -109.5959\n",
      "Epoch 48/100\n",
      "337/337 [==============================] - 1s 4ms/step - loss: -99.1495\n",
      "Epoch 49/100\n",
      "337/337 [==============================] - 1s 4ms/step - loss: -108.9135\n",
      "Epoch 50/100\n",
      "337/337 [==============================] - 1s 4ms/step - loss: -101.0529\n",
      "Epoch 51/100\n",
      "337/337 [==============================] - 1s 4ms/step - loss: -116.5224\n",
      "Epoch 52/100\n",
      "337/337 [==============================] - 1s 4ms/step - loss: -95.7975\n",
      "Epoch 53/100\n",
      "337/337 [==============================] - 1s 4ms/step - loss: -111.6182\n",
      "Epoch 54/100\n",
      "337/337 [==============================] - 1s 4ms/step - loss: -114.0935\n",
      "Epoch 55/100\n",
      "337/337 [==============================] - 1s 4ms/step - loss: -107.2311\n",
      "Epoch 56/100\n",
      "337/337 [==============================] - 1s 4ms/step - loss: -84.3741\n",
      "Epoch 57/100\n",
      "337/337 [==============================] - 1s 4ms/step - loss: -120.7174\n",
      "Epoch 58/100\n",
      "337/337 [==============================] - 1s 4ms/step - loss: -121.5868\n",
      "Epoch 59/100\n",
      "337/337 [==============================] - 1s 4ms/step - loss: -94.0823\n",
      "Epoch 60/100\n",
      "337/337 [==============================] - 1s 4ms/step - loss: -106.9464\n",
      "Epoch 61/100\n",
      "337/337 [==============================] - 1s 4ms/step - loss: -104.4874\n",
      "Epoch 62/100\n",
      "337/337 [==============================] - 1s 4ms/step - loss: -103.9778\n",
      "Epoch 63/100\n",
      "337/337 [==============================] - 1s 4ms/step - loss: -91.7396\n",
      "Epoch 64/100\n",
      "337/337 [==============================] - 1s 4ms/step - loss: -112.6896\n",
      "Epoch 65/100\n",
      "337/337 [==============================] - 1s 4ms/step - loss: -113.2336\n",
      "Epoch 66/100\n",
      "337/337 [==============================] - 1s 4ms/step - loss: -123.4239\n",
      "Epoch 67/100\n",
      "337/337 [==============================] - 1s 4ms/step - loss: -101.7165\n",
      "Epoch 68/100\n",
      "337/337 [==============================] - 1s 4ms/step - loss: -110.4376\n",
      "Epoch 69/100\n",
      "337/337 [==============================] - 1s 4ms/step - loss: -93.5584\n",
      "Epoch 70/100\n",
      "337/337 [==============================] - 1s 4ms/step - loss: -116.4924\n",
      "Epoch 71/100\n",
      "337/337 [==============================] - 1s 4ms/step - loss: -115.5455\n",
      "Epoch 72/100\n",
      "337/337 [==============================] - 1s 4ms/step - loss: -103.2494\n",
      "Epoch 73/100\n",
      "337/337 [==============================] - 1s 4ms/step - loss: -98.7762\n",
      "Epoch 74/100\n",
      "337/337 [==============================] - 1s 4ms/step - loss: -119.3420\n",
      "Epoch 75/100\n",
      "337/337 [==============================] - 1s 4ms/step - loss: -92.7903\n",
      "Epoch 76/100\n",
      "337/337 [==============================] - 1s 4ms/step - loss: -127.5899\n",
      "Epoch 77/100\n",
      "337/337 [==============================] - 1s 4ms/step - loss: -113.6424\n",
      "Epoch 78/100\n",
      "337/337 [==============================] - 1s 4ms/step - loss: -118.6583\n",
      "Epoch 79/100\n",
      "337/337 [==============================] - 1s 4ms/step - loss: -110.3481\n",
      "Epoch 80/100\n",
      "337/337 [==============================] - 1s 4ms/step - loss: -113.0006\n",
      "Epoch 81/100\n",
      "337/337 [==============================] - 1s 4ms/step - loss: -100.6105\n",
      "Epoch 82/100\n",
      "337/337 [==============================] - 1s 4ms/step - loss: -117.1396\n",
      "Epoch 83/100\n",
      "337/337 [==============================] - 1s 4ms/step - loss: -109.1169\n",
      "Epoch 84/100\n",
      "337/337 [==============================] - 1s 4ms/step - loss: -112.4050\n",
      "Epoch 85/100\n",
      "337/337 [==============================] - 1s 4ms/step - loss: -116.3110\n",
      "Epoch 86/100\n",
      "337/337 [==============================] - 1s 4ms/step - loss: -129.0943\n",
      "Epoch 87/100\n",
      "337/337 [==============================] - 1s 4ms/step - loss: -108.8906\n",
      "Epoch 88/100\n",
      "337/337 [==============================] - 1s 4ms/step - loss: -112.0854\n",
      "Epoch 89/100\n",
      "337/337 [==============================] - 1s 4ms/step - loss: -109.5967\n",
      "Epoch 90/100\n",
      "337/337 [==============================] - 1s 4ms/step - loss: -102.7920\n",
      "Epoch 91/100\n",
      "337/337 [==============================] - 1s 4ms/step - loss: -113.9883\n",
      "Epoch 92/100\n",
      "337/337 [==============================] - 1s 4ms/step - loss: -107.4076\n",
      "Epoch 93/100\n",
      "337/337 [==============================] - 1s 4ms/step - loss: -96.6369\n",
      "Epoch 94/100\n",
      "337/337 [==============================] - 1s 4ms/step - loss: -128.6792\n",
      "Epoch 95/100\n",
      "337/337 [==============================] - 1s 4ms/step - loss: -105.1353\n",
      "Epoch 96/100\n",
      "337/337 [==============================] - 1s 4ms/step - loss: -108.6928\n",
      "Epoch 97/100\n",
      "337/337 [==============================] - 1s 4ms/step - loss: -127.3869\n",
      "Epoch 98/100\n",
      "337/337 [==============================] - 1s 4ms/step - loss: -119.0469\n",
      "Epoch 99/100\n",
      "337/337 [==============================] - 1s 4ms/step - loss: -110.3881\n",
      "Epoch 100/100\n",
      "337/337 [==============================] - 1s 4ms/step - loss: -110.1355\n"
     ]
    }
   ],
   "source": [
    "batch_size = 64\n",
    "epochs = 100\n",
    "\n",
    "data, num_samples = input_fn(mode='train', batch_size=batch_size, dataset_name='sfh')\n",
    "num_samples\n",
    "hist = pixel_cnn.fit(data, epochs=epochs, steps_per_epoch=num_samples//batch_size, callbacks=[history])"
   ]
  },
  {
   "cell_type": "code",
   "execution_count": 19,
   "id": "81e38df6",
   "metadata": {},
   "outputs": [],
   "source": [
    "%matplotlib inline"
   ]
  },
  {
   "cell_type": "code",
   "execution_count": 20,
   "id": "68f687c0",
   "metadata": {},
   "outputs": [
    {
     "data": {
      "image/png": "[encoded data removed]",
      "text/plain": [
       "<Figure size 432x288 with 1 Axes>"
      ]
     },
     "metadata": {
      "needs_background": "light"
     },
     "output_type": "display_data"
    }
   ],
   "source": [
    "plt.plot(hist.history['loss'])\n",
    "plt.show()"
   ]
  },
  {
   "cell_type": "code",
   "execution_count": 43,
   "id": "424448b1",
   "metadata": {
    "scrolled": true
   },
   "outputs": [
    {
     "data": {
      "image/png": "[encoded data removed]",
      "text/plain": [
       "<Figure size 432x288 with 1 Axes>"
      ]
     },
     "metadata": {
      "needs_background": "light"
     },
     "output_type": "display_data"
    },
    {
     "data": {
      "image/png": "[encoded data removed]",
      "text/plain": [
       "<Figure size 432x288 with 1 Axes>"
      ]
     },
     "metadata": {
      "needs_background": "light"
     },
     "output_type": "display_data"
    },
    {
     "data": {
      "text/plain": [
       "<matplotlib.image.AxesImage at 0x7f26601d0bd0>"
      ]
     },
     "execution_count": 43,
     "metadata": {},
     "output_type": "execute_result"
    },
    {
     "data": {
      "image/png": "[encoded data removed]",
      "text/plain": [
       "<Figure size 432x288 with 1 Axes>"
      ]
     },
     "metadata": {
      "needs_background": "light"
     },
     "output_type": "display_data"
    }
   ],
   "source": [
    "seq = np.random.random((28,1))\n",
    "plt.imshow(pixel_cnn.predict(seq).reshape(28,1))\n",
    "plt.show()\n",
    "plt.imshow(seq)\n",
    "plt.show()\n",
    "plt.imshow(seq-pixel_cnn.predict(seq).reshape(28,1))"
   ]
  },
  {
   "cell_type": "code",
   "execution_count": 51,
   "id": "55c7b029",
   "metadata": {},
   "outputs": [
    {
     "data": {
      "text/plain": [
       "<matplotlib.colorbar.Colorbar at 0x7f266020dc50>"
      ]
     },
     "execution_count": 51,
     "metadata": {},
     "output_type": "execute_result"
    },
    {
     "data": {
      "image/png": "[encoded data removed]",
      "text/plain": [
       "<Figure size 432x288 with 3 Axes>"
      ]
     },
     "metadata": {
      "needs_background": "light"
     },
     "output_type": "display_data"
    }
   ],
   "source": [
    "plt.subplot(1, 2, 1)\n",
    "plt.imshow(seq, vmin=-5, vmax=5, cmap='jet', aspect='auto')\n",
    "plt.subplot(1, 2, 2)\n",
    "plt.imshow(pixel_cnn.predict(seq).reshape(28,1), vmin=-5, vmax=5, cmap='jet', aspect='auto')\n",
    "plt.colorbar()"
   ]
  },
  {
   "cell_type": "code",
   "execution_count": 49,
   "id": "23c0a08c",
   "metadata": {},
   "outputs": [
    {
     "data": {
      "text/plain": [
       "<tf.Tensor: shape=(28, 1, 1), dtype=float32, numpy=\n",
       "array([[[ 2.0971757e-01]],\n",
       "\n",
       "       [[ 2.0853369e-01]],\n",
       "\n",
       "       [[ 5.7056743e-01]],\n",
       "\n",
       "       [[ 5.2681899e-01]],\n",
       "\n",
       "       [[ 1.1434085e-02]],\n",
       "\n",
       "       [[-1.4872286e-03]],\n",
       "\n",
       "       [[ 1.9894464e-01]],\n",
       "\n",
       "       [[ 6.9658109e-03]],\n",
       "\n",
       "       [[ 2.4975747e-02]],\n",
       "\n",
       "       [[ 3.4848716e-02]],\n",
       "\n",
       "       [[ 4.1500636e-05]],\n",
       "\n",
       "       [[ 6.5648180e-01]],\n",
       "\n",
       "       [[ 1.0504401e-01]],\n",
       "\n",
       "       [[ 2.4598925e-03]],\n",
       "\n",
       "       [[-3.7073959e-03]],\n",
       "\n",
       "       [[ 1.7077190e-01]],\n",
       "\n",
       "       [[ 3.3144313e-03]],\n",
       "\n",
       "       [[ 6.1454052e-01]],\n",
       "\n",
       "       [[ 1.5206153e-02]],\n",
       "\n",
       "       [[ 1.9228107e-01]],\n",
       "\n",
       "       [[ 2.7804214e-01]],\n",
       "\n",
       "       [[ 1.6186319e-01]],\n",
       "\n",
       "       [[ 6.1516356e-01]],\n",
       "\n",
       "       [[-1.7056708e-01]],\n",
       "\n",
       "       [[ 5.4616743e-01]],\n",
       "\n",
       "       [[ 2.5906002e-03]],\n",
       "\n",
       "       [[-2.8486946e-03]],\n",
       "\n",
       "       [[-3.9793984e-03]]], dtype=float32)>"
      ]
     },
     "execution_count": 49,
     "metadata": {},
     "output_type": "execute_result"
    }
   ],
   "source": [
    "pixel_cnn(seq).sample()"
   ]
  },
  {
   "cell_type": "code",
   "execution_count": 37,
   "id": "2860003a",
   "metadata": {},
   "outputs": [
    {
     "ename": "AttributeError",
     "evalue": "'MixtureNormal' object has no attribute 'sample'",
     "output_type": "error",
     "traceback": [
      "\u001b[0;31m---------------------------------------------------------------------------\u001b[0m",
      "\u001b[0;31mAttributeError\u001b[0m                            Traceback (most recent call last)",
      "\u001b[0;32m<ipython-input-37-9a8e655d0baa>\u001b[0m in \u001b[0;36m<module>\u001b[0;34m\u001b[0m\n\u001b[0;32m----> 1\u001b[0;31m \u001b[0mpixel_cnn\u001b[0m\u001b[0;34m.\u001b[0m\u001b[0mlayers\u001b[0m\u001b[0;34m[\u001b[0m\u001b[0;34m-\u001b[0m\u001b[0;36m1\u001b[0m\u001b[0;34m]\u001b[0m\u001b[0;34m.\u001b[0m\u001b[0msample\u001b[0m\u001b[0;34m(\u001b[0m\u001b[0;34m)\u001b[0m\u001b[0;34m\u001b[0m\u001b[0;34m\u001b[0m\u001b[0m\n\u001b[0m",
      "\u001b[0;31mAttributeError\u001b[0m: 'MixtureNormal' object has no attribute 'sample'"
     ]
    }
   ],
   "source": [
    "pixel_cnn.layers[-1].sample()"
   ]
  },
  {
   "cell_type": "code",
   "execution_count": 17,
   "id": "86c56942",
   "metadata": {},
   "outputs": [],
   "source": [
    "\"\"\"\n",
    "## Build the model based on the original paper\n",
    "\"\"\"\n",
    "\n",
    "inputs = keras.Input(shape=(28,1))\n",
    "x = PixelConvLayer(\n",
    "    mask_type=\"A\", filters=128, kernel_size=7, activation=\"relu\", padding=\"same\"\n",
    ")(inputs)\n",
    "\n",
    "for _ in range(n_residual_blocks):\n",
    "    x = ResidualBlock(filters=128)(x)\n",
    "\n",
    "for _ in range(2):\n",
    "    x = PixelConvLayer(\n",
    "        mask_type=\"B\",\n",
    "        filters=128,\n",
    "        kernel_size=1,\n",
    "        strides=1,\n",
    "        activation=\"relu\",\n",
    "        padding=\"valid\",\n",
    "    )(x)\n",
    "\n",
    "#out = keras.layers.Conv1D(\n",
    "#    filters=1, kernel_size=1, strides=1, activation=\"sigmoid\", padding=\"valid\"\n",
    "#)(x)\n",
    "\n",
    "out = tfp.layers.MixtureNormal(num_components, event_shape)(x)\n",
    "\n",
    "\n",
    "pixel_cnn = keras.Model(inputs, out)\n"
   ]
  },
  {
   "cell_type": "code",
   "execution_count": null,
   "id": "fadb1e89",
   "metadata": {},
   "outputs": [],
   "source": [
    "negloglik = lambda y, q: -q.log_prob(y)\n"
   ]
  },
  {
   "cell_type": "code",
   "execution_count": 18,
   "id": "ad3a58c0",
   "metadata": {
    "scrolled": true
   },
   "outputs": [
    {
     "name": "stdout",
     "output_type": "stream",
     "text": [
      "Model: \"model\"\n",
      "_________________________________________________________________\n",
      "Layer (type)                 Output Shape              Param #   \n",
      "=================================================================\n",
      "input_1 (InputLayer)         [(None, 28, 1)]           0         \n",
      "_________________________________________________________________\n",
      "pixel_conv_layer (PixelConvL (None, 28, 128)           1024      \n",
      "_________________________________________________________________\n",
      "residual_block (ResidualBloc (None, 28, 128)           49472     \n",
      "_________________________________________________________________\n",
      "residual_block_1 (ResidualBl (None, 28, 128)           49472     \n",
      "_________________________________________________________________\n",
      "residual_block_2 (ResidualBl (None, 28, 128)           49472     \n",
      "_________________________________________________________________\n",
      "residual_block_3 (ResidualBl (None, 28, 128)           49472     \n",
      "_________________________________________________________________\n",
      "residual_block_4 (ResidualBl (None, 28, 128)           49472     \n",
      "_________________________________________________________________\n",
      "pixel_conv_layer_6 (PixelCon (None, 28, 128)           16512     \n",
      "_________________________________________________________________\n",
      "pixel_conv_layer_7 (PixelCon (None, 28, 128)           16512     \n",
      "_________________________________________________________________\n",
      "conv1d_18 (Conv1D)           (None, 28, 1)             129       \n",
      "=================================================================\n",
      "Total params: 281,537\n",
      "Trainable params: 281,537\n",
      "Non-trainable params: 0\n",
      "_________________________________________________________________\n"
     ]
    }
   ],
   "source": [
    "adam = keras.optimizers.Adam(learning_rate=0.0005)\n",
    "pixel_cnn.compile(optimizer=adam, loss=negloglik)\n",
    "\n",
    "pixel_cnn.summary()\n",
    "\n",
    "\n"
   ]
  },
  {
   "cell_type": "code",
   "execution_count": 52,
   "id": "4e03466d",
   "metadata": {},
   "outputs": [
    {
     "name": "stdout",
     "output_type": "stream",
     "text": [
      "You must install pydot (`pip install pydot`) and install graphviz (see instructions at https://graphviz.gitlab.io/download/) for plot_model/model_to_dot to work.\n"
     ]
    }
   ],
   "source": [
    "from tensorflow.keras.utils import plot_model\n",
    "\n",
    "plot_model(pixel_cnn, to_file='model_plot.png', show_shapes=True, show_layer_names=True)"
   ]
  },
  {
   "cell_type": "code",
   "execution_count": null,
   "id": "08dbdf17",
   "metadata": {},
   "outputs": [],
   "source": [
    "pixel_cnn.fit(\n",
    "    x=data, y=data, batch_size=128, epochs=50, validation_split=0.1, verbose=2\n",
    ")\n"
   ]
  },
  {
   "cell_type": "code",
   "execution_count": null,
   "id": "1380423d",
   "metadata": {},
   "outputs": [],
   "source": []
  },
  {
   "cell_type": "code",
   "execution_count": null,
   "id": "44d305ee",
   "metadata": {},
   "outputs": [],
   "source": [
    "\"\"\"\n",
    "## Demonstration\n",
    "The PixelCNN cannot generate the full image at once. Instead, it must generate each pixel in\n",
    "order, append the last generated pixel to the current image, and feed the image back into the\n",
    "model to repeat the process.\n",
    "\"\"\"\n",
    "\n",
    "from IPython.display import Image, display\n",
    "\n",
    "# Create an empty array of pixels.\n",
    "batch = 4\n",
    "pixels = np.zeros(shape=(batch,) + (pixel_cnn.input_shape)[1:])\n",
    "batch, rows, cols, channels = pixels.shape\n",
    "\n",
    "# Iterate over the pixels because generation has to be done sequentially pixel by pixel.\n",
    "for row in tqdm(range(rows)):\n",
    "    for col in range(cols):\n",
    "        for channel in range(channels):\n",
    "            # Feed the whole array and retrieving the pixel value probabilities for the next\n",
    "            # pixel.\n",
    "            probs = pixel_cnn.predict(pixels)[:, row, col, channel]\n",
    "            # Use the probabilities to pick pixel values and append the values to the image\n",
    "            # frame.\n",
    "            pixels[:, row, col, channel] = tf.math.ceil(\n",
    "                probs - tf.random.uniform(probs.shape)\n",
    "            )\n",
    "\n"
   ]
  },
  {
   "cell_type": "code",
   "execution_count": null,
   "id": "eb72d239",
   "metadata": {},
   "outputs": [],
   "source": [
    "\n",
    "def deprocess_image(x):\n",
    "    # Stack the single channeled black and white image to rgb values.\n",
    "    x = np.stack((x, x, x), 2)\n",
    "    # Undo preprocessing\n",
    "    x *= 255.0\n",
    "    # Convert to uint8 and clip to the valid range [0, 255]\n",
    "    x = np.clip(x, 0, 255).astype(\"uint8\")\n",
    "    return x\n",
    "\n",
    "\n",
    "# Iterate over the generated images and plot them with matplotlib.\n",
    "for i, pic in enumerate(pixels):\n",
    "    keras.preprocessing.image.save_img(\n",
    "        \"generated_image_{}.png\".format(i), deprocess_image(np.squeeze(pic, -1))\n",
    "    )\n",
    "\n",
    "display(Image(\"generated_image_0.png\"))\n",
    "display(Image(\"generated_image_1.png\"))\n",
    "display(Image(\"generated_image_2.png\"))\n",
    "display(Image(\"generated_image_3.png\"))"
   ]
  },
  {
   "cell_type": "code",
   "execution_count": 18,
   "id": "77f14216",
   "metadata": {},
   "outputs": [],
   "source": []
  },
  {
   "cell_type": "code",
   "execution_count": 22,
   "id": "804ff1e9",
   "metadata": {},
   "outputs": [
    {
     "data": {
      "text/plain": [
       "<matplotlib.image.AxesImage at 0x7f3875926bd0>"
      ]
     },
     "execution_count": 22,
     "metadata": {},
     "output_type": "execute_result"
    },
    {
     "data": {
      "image/png": "[encoded data removed]",
      "text/plain": [
       "<Figure size 432x288 with 1 Axes>"
      ]
     },
     "metadata": {
      "needs_background": "light"
     },
     "output_type": "display_data"
    }
   ],
   "source": [
    "mask_type = \"B\"\n",
    "kernel_shape=pixel_cnn.layers[1].conv.kernel.get_shape()\n",
    "mask = np.zeros(shape=kernel_shape)\n",
    "mask[: kernel_shape[0] // 2, ...] = 1.0\n",
    "mask[kernel_shape[0] // 2, : kernel_shape[1] // 2, ...] = 1.0\n",
    "if mask_type == \"B\":\n",
    "    mask[kernel_shape[0] // 2, kernel_shape[1] // 2, ...] = 1.0\n",
    "    \n",
    "plt.imshow(mask[...,0])"
   ]
  },
  {
   "cell_type": "code",
   "execution_count": 22,
   "id": "dec91dd3",
   "metadata": {},
   "outputs": [
    {
     "data": {
      "text/plain": [
       "<matplotlib.image.AxesImage at 0x7f1cd36dd950>"
      ]
     },
     "execution_count": 22,
     "metadata": {},
     "output_type": "execute_result"
    },
    {
     "data": {
      "image/png": "[encoded data removed]",
      "text/plain": [
       "<Figure size 432x288 with 1 Axes>"
      ]
     },
     "metadata": {
      "needs_background": "light"
     },
     "output_type": "display_data"
    }
   ],
   "source": [
    "\n"
   ]
  }
 ],
 "metadata": {
  "kernelspec": {
   "display_name": "Python 3 (ipykernel)",
   "language": "python",
   "name": "python3"
  },
  "language_info": {
   "codemirror_mode": {
    "name": "ipython",
    "version": 3
   },
   "file_extension": ".py",
   "mimetype": "text/x-python",
   "name": "python",
   "nbconvert_exporter": "python",
   "pygments_lexer": "ipython3",
   "version": "3.7.10"
  }
 },
 "nbformat": 4,
 "nbformat_minor": 5
}
