{
 "cells": [
  {
   "cell_type": "code",
   "execution_count": 1,
   "id": "77551dca",
   "metadata": {},
   "outputs": [],
   "source": [
    "\"\"\"\n",
    "Title: PixelCNN\n",
    "Author: [ADMoreau](https://github.com/ADMoreau)\n",
    "Date created: 2020/05/17\n",
    "Last modified: 2020/05/23\n",
    "Description: PixelCNN implemented in Keras.\n",
    "\"\"\"\n",
    "\n",
    "\"\"\"\n",
    "## Introduction\n",
    "PixelCNN is a generative model proposed in 2016 by van den Oord et al.\n",
    "(reference: [Conditional Image Generation with PixelCNN Decoders](https://arxiv.org/abs/1606.05328)).\n",
    "It is designed to generate images (or other data types) iteratively\n",
    "from an input vector where the probability distribution of prior elements dictates the\n",
    "probability distribution of later elements. In the following example, images are generated\n",
    "in this fashion, pixel-by-pixel, via a masked convolution kernel that only looks at data\n",
    "from previously generated pixels (origin at the top left) to generate later pixels.\n",
    "During inference, the output of the network is used as a probability ditribution\n",
    "from which new pixel values are sampled to generate a new image\n",
    "(here, with MNIST, the pixels values are either black or white).\n",
    "\"\"\"\n",
    "\n",
    "import numpy as np\n",
    "import tensorflow as tf\n",
    "from tensorflow import keras\n",
    "from tensorflow.keras import layers\n",
    "from tqdm import tqdm\n",
    "from matplotlib import pyplot as plt\n",
    "import tensorflow_probability as tfp\n",
    "from keras.callbacks import History \n",
    "history = History()\n",
    "print(tf.config.list_physical_devices('GPU'))\n",
    "print(tf.__version__)\n",
    "print(tfp.__version__)"
   ]
  },
  {
   "cell_type": "code",
   "execution_count": 3,
   "id": "ba58a5a4",
   "metadata": {},
   "outputs": [
    {
     "name": "stderr",
     "output_type": "stream",
     "text": [
      "2021-12-08 09:33:38.933170: I tensorflow/core/platform/cpu_feature_guard.cc:142] This TensorFlow binary is optimized with oneAPI Deep Neural Network Library (oneDNN) to use the following CPU instructions in performance-critical operations:  SSE3 SSE4.1 SSE4.2 AVX AVX2 AVX512F FMA\n",
      "To enable them in other operations, rebuild TensorFlow with the appropriate compiler flags.\n",
      "2021-12-08 09:33:39.574917: I tensorflow/core/common_runtime/gpu/gpu_device.cc:1510] Created device /job:localhost/replica:0/task:0/device:GPU:0 with 30998 MB memory:  -> device: 0, name: Tesla V100-SXM2-32GB, pci bus id: 0000:1a:00.0, compute capability: 7.0\n"
     ]
    }
   ],
   "source": [
    "\n",
    "# Code for the TCN adapted from https://github.com/philipperemy/keras-tcn\n",
    "\n",
    "def residual_block(x, training, dilation_rate, nb_filters, kernel_size, padding,\n",
    "                   activation='relu', dropout_rate=0, use_batch_norm=False):\n",
    "    # type: (Layer, bool, int, int, int, str, str, float, str, bool) -> Tuple[Layer, Layer]\n",
    "    \"\"\"Defines the residual block for the WaveNet TCN\n",
    "    Args:\n",
    "        x: The previous layer in the model\n",
    "        training: boolean indicating whether the layer should behave in training mode or in inference mode\n",
    "        dilation_rate: The dilation power of 2 we are using for this residual block\n",
    "        nb_filters: The number of convolutional filters to use in this block\n",
    "        kernel_size: The size of the convolutional kernel\n",
    "        padding: The padding used in the convolutional layers, 'same' or 'causal'.\n",
    "        activation: The final activation used in o = Activation(x + F(x))\n",
    "        dropout_rate: Float between 0 and 1. Fraction of the input units to drop.\n",
    "        kernel_initializer: Initializer for the kernel weights matrix (Conv1D).\n",
    "        use_batch_norm: Whether to use batch normalization in the residual layers or not.\n",
    "    Returns:\n",
    "        A tuple where the first element is the residual model layer, and the second\n",
    "        is the skip connection.\n",
    "    \"\"\"\n",
    "    prev_x = x\n",
    "    for k in range(2):\n",
    "        x = tf.keras.layers.Conv1D(filters=nb_filters,\n",
    "                   kernel_size=kernel_size,\n",
    "                   dilation_rate=dilation_rate,\n",
    "                   padding=padding,\n",
    "                   activation=activation)(x)\n",
    "        if use_batch_norm:\n",
    "            x = tf.layers.batch_normalization(x)  # TODO should be WeightNorm here, but using batchNorm instead\n",
    "        #x = tf.nn.relu(x)\n",
    "        x = tf.keras.layers.SpatialDropout1D(rate=dropout_rate)(inputs=x, training=training)\n",
    "\n",
    "    # 1x1 conv to match the shapes (channel dimension).\n",
    "    prev_x = tf.keras.layers.Conv1D(nb_filters, 1, padding='same')(prev_x)\n",
    "    res_x = prev_x + x\n",
    "    res_x = tf.keras.activations.relu(res_x)\n",
    "    return res_x, x\n",
    "\n",
    "def process_dilations(dilations):\n",
    "    def is_power_of_two(num):\n",
    "        return num != 0 and ((num & (num - 1)) == 0)\n",
    "\n",
    "    if all([is_power_of_two(i) for i in dilations]):\n",
    "        return dilations\n",
    "\n",
    "    else:\n",
    "        new_dilations = [2 ** i for i in dilations]\n",
    "        return new_dilations\n",
    "\n",
    "    x = tf.keras.layers.Conv1D(nb_filters, 1, padding=padding)(x)\n",
    "    skip_connections = []\n",
    "    for s in range(nb_stacks):\n",
    "        for d in dilations:\n",
    "            x, skip_out = residual_block(training=training,\n",
    "                                          dilation_rate=d,\n",
    "                                          nb_filters=nb_filters,\n",
    "                                          kernel_size=kernel_size,\n",
    "                                          padding=padding,\n",
    "                                          activation=activation,\n",
    "                                          dropout_rate=dropout_rate,\n",
    "                                          use_batch_norm=use_batch_norm)(x)\n",
    "            skip_connections.append(skip_out)\n",
    "    if use_skip_connections:\n",
    "        x = tf.keras.layers.add(skip_connections)\n",
    "    if not return_sequences:\n",
    "        x = x[:, -1, :]\n",
    "    return x\n",
    "\n",
    "\n",
    "paddings = tf.constant([[0, 0],[1,0],[0,0]])\n",
    "\n",
    "shift_layer = tf.keras.layers.Lambda(lambda x: tf.pad( x, paddings))\n",
    "cut_layer = tf.keras.layers.Lambda(lambda x: x[:,:-1,:])"
   ]
  },
  {
   "cell_type": "code",
   "execution_count": 4,
   "id": "5d9a2898",
   "metadata": {},
   "outputs": [
    {
     "name": "stdout",
     "output_type": "stream",
     "text": [
      "6\n"
     ]
    },
    {
     "name": "stderr",
     "output_type": "stream",
     "text": [
      "2021-12-08 09:33:40.765008: I tensorflow/compiler/mlir/mlir_graph_optimization_pass.cc:185] None of the MLIR Optimization Passes are enabled (registered 2)\n",
      "2021-12-08 09:33:40.794135: W tensorflow/core/kernels/data/cache_dataset_ops.cc:768] The calling iterator did not fully read the dataset being cached. In order to avoid unexpected truncation of the dataset, the partially cached contents of the dataset  will be discarded. This can happen if you have an input pipeline similar to `dataset.cache().take(k).repeat()`. You should use `dataset.take(k).cache().repeat()` instead.\n"
     ]
    }
   ],
   "source": [
    "import tensorflow_datasets as tfds\n",
    "dset = tfds.load('sfh_interp', split='train')\n",
    "sample = list(dset.take(5))[3]\n",
    "\n",
    "num_components = 2\n",
    "# Shape of the distribution\n",
    "event_shape = [1]\n",
    "# Utility function to compute how many parameters this distribution requires\n",
    "params_size = tfp.layers.MixtureNormal.params_size(num_components, event_shape)\n",
    "print(params_size)"
   ]
  },
  {
   "cell_type": "code",
   "execution_count": 71,
   "id": "69f61691",
   "metadata": {},
   "outputs": [],
   "source": [
    "\n",
    "\n",
    "def preprocessing(example):\n",
    "    \n",
    "    return tf.reshape(tf.cast(example['SFR_Max'], dtype=tf.float32),(-1,100,1)), \\\n",
    "           tf.reshape(tf.cast(example['SFR_Max'], dtype=tf.float32),(-1,100,1))\n",
    "\n",
    "def input_fn(mode='train', batch_size=64, dataset_name='sfh'):\n",
    "    \"\"\"\n",
    "    mode: 'train' or 'test'\n",
    "    \"\"\"\n",
    "    if mode == 'train':\n",
    "        dataset = tfds.load(dataset_name, split='train[:80%]')\n",
    "        #dataset = dataset.repeat()\n",
    "        dataset = dataset.shuffle(10000)\n",
    "    else:\n",
    "        dataset = tfds.load(dataset_name, split='train[80%:]')\n",
    "    \n",
    "    dataset = dataset.batch(batch_size, drop_remainder=True)\n",
    "    dataset = dataset.map(preprocessing) # Apply data preprocessing\n",
    "    dataset = dataset.prefetch(-1)       # fetch next batches while training current one (-1 for autotune)\n",
    "    return dataset, tf.data.experimental.cardinality(dset).numpy()\n",
    "\n",
    "def predictor(model, sample_size, nsteps=100):\n",
    "    res = np.zeros((sample_size, nsteps,1))\n",
    "    for i in range(nsteps):\n",
    "        tmp = model(res).sample()\n",
    "        res[0,i] = tmp[0,i]\n",
    "    return res\n",
    "\n",
    "def pass_sample(model, sample, n_pass=100):\n",
    "    sample = tf.reshape(sample,(1, 100, 1))\n",
    "    mean = model(sample).mean()\n",
    "    std = model(sample).stddev()\n",
    "    p_sample = model(sample).sample()\n",
    "    return mean, std, p_sample"
   ]
  },
  {
   "cell_type": "code",
   "execution_count": 6,
   "id": "3d244d7d",
   "metadata": {},
   "outputs": [
    {
     "name": "stdout",
     "output_type": "stream",
     "text": [
      "Model: \"sequential\"\n",
      "_________________________________________________________________\n",
      "Layer (type)                 Output Shape              Param #   \n",
      "=================================================================\n",
      "lambda (Lambda)              (64, 101, 1)              0         \n",
      "_________________________________________________________________\n",
      "lambda_1 (Lambda)            (64, 100, 1)              0         \n",
      "_________________________________________________________________\n",
      "conv1d (Conv1D)              (64, 100, 16)             64        \n",
      "_________________________________________________________________\n",
      "conv1d_1 (Conv1D)            (64, 100, 16)             784       \n",
      "_________________________________________________________________\n",
      "conv1d_2 (Conv1D)            (64, 100, 32)             1568      \n",
      "_________________________________________________________________\n",
      "conv1d_3 (Conv1D)            (64, 100, 64)             6208      \n",
      "_________________________________________________________________\n",
      "conv1d_4 (Conv1D)            (64, 100, 128)            24704     \n",
      "_________________________________________________________________\n",
      "conv1d_5 (Conv1D)            (64, 100, 256)            98560     \n",
      "_________________________________________________________________\n",
      "dense (Dense)                (64, 100, 6)              1542      \n",
      "_________________________________________________________________\n",
      "mixture_normal (MixtureNorma multiple                  0         \n",
      "=================================================================\n",
      "Total params: 133,430\n",
      "Trainable params: 133,430\n",
      "Non-trainable params: 0\n",
      "_________________________________________________________________\n"
     ]
    },
    {
     "name": "stderr",
     "output_type": "stream",
     "text": [
      "2021-12-08 09:33:40.962827: W tensorflow/python/util/util.cc:348] Sets are not currently considered sequences, but this may change in the future, so consider avoiding using them.\n"
     ]
    }
   ],
   "source": [
    "\"\"\"\n",
    "## Build the model based on the original paper\n",
    "\"\"\"\n",
    "\n",
    "N_TIMESTEPS = sample['SFR_Max'].shape[0]\n",
    "kernel_size=3\n",
    "\n",
    "pixel_cnn = keras.Sequential()\n",
    "\n",
    "pixel_cnn.add(shift_layer)\n",
    "pixel_cnn.add(cut_layer)\n",
    "pixel_cnn.add(tf.keras.layers.Conv1D(filters=16,\n",
    "                  kernel_size=kernel_size,\n",
    "                  dilation_rate=1,\n",
    "                  padding='causal',\n",
    "                  activation='relu'\n",
    "                  )\n",
    "             )\n",
    "\n",
    "for dilation_rate, nb_filters in zip([2, 4, 8, 16, 32], [16, 32, 64, 128, 256]):\n",
    "    pixel_cnn.add(\n",
    "        tf.keras.layers.Conv1D(filters=nb_filters,\n",
    "               kernel_size=kernel_size,\n",
    "               dilation_rate=dilation_rate,\n",
    "               padding='causal',\n",
    "               activation='relu')\n",
    "    )\n",
    "\n",
    "pixel_cnn.add(keras.layers.Dense(params_size))\n",
    "pixel_cnn.add(tfp.layers.MixtureNormal(num_components, event_shape))\n",
    "\n",
    "pixel_cnn.build(input_shape=(None,N_TIMESTEPS,1))\n",
    "pixel_cnn.summary()"
   ]
  },
  {
   "cell_type": "code",
   "execution_count": 7,
   "id": "e071e817",
   "metadata": {},
   "outputs": [],
   "source": [
    "negloglik = lambda y, q: tf.reduce_sum(-q.log_prob(y),-1)\n",
    "#negloglik = lambda y, q: -q.log_prob(y)\n",
    "\n",
    "pixel_cnn.compile(loss=negloglik, optimizer='adam')\n",
    "\n",
    "#dist=pixel_cnn(tf.reshape(sample['SFR_Max'],(1,N_TIMESTEPS,1)))\n",
    "#dist.log_prob(tf.cast(tf.reshape(sample['SFR_Max'],(1,N_TIMESTEPS,1)),dtype=tf.float32))"
   ]
  },
  {
   "cell_type": "code",
   "execution_count": 8,
   "id": "14330f37",
   "metadata": {},
   "outputs": [
    {
     "name": "stdout",
     "output_type": "stream",
     "text": [
      "Epoch 1/50\n"
     ]
    },
    {
     "name": "stderr",
     "output_type": "stream",
     "text": [
      "2021-12-08 09:33:43.073150: I tensorflow/stream_executor/cuda/cuda_dnn.cc:369] Loaded cuDNN version 8101\n"
     ]
    },
    {
     "name": "stdout",
     "output_type": "stream",
     "text": [
      "269/269 [==============================] - 5s 6ms/step - loss: 71.5349 - val_loss: -33.4344\n",
      "Epoch 2/50\n",
      "269/269 [==============================] - 1s 5ms/step - loss: -34.5751 - val_loss: -66.5188\n",
      "Epoch 3/50\n",
      "269/269 [==============================] - 1s 5ms/step - loss: -55.0014 - val_loss: -28.6587\n",
      "Epoch 4/50\n",
      "269/269 [==============================] - 1s 5ms/step - loss: -68.9120 - val_loss: -86.7812\n",
      "Epoch 5/50\n",
      "269/269 [==============================] - 1s 5ms/step - loss: -64.0149 - val_loss: -89.6267\n",
      "Epoch 6/50\n",
      "269/269 [==============================] - 1s 5ms/step - loss: -80.5412 - val_loss: -92.2526\n",
      "Epoch 7/50\n",
      "269/269 [==============================] - 1s 5ms/step - loss: -85.8269 - val_loss: -35.7014\n",
      "Epoch 8/50\n",
      "269/269 [==============================] - 1s 5ms/step - loss: -81.5627 - val_loss: -24.8803\n",
      "Epoch 9/50\n",
      "269/269 [==============================] - 1s 5ms/step - loss: -84.5312 - val_loss: -11.3379\n",
      "Epoch 10/50\n",
      "269/269 [==============================] - 1s 5ms/step - loss: -84.6445 - val_loss: -94.4436\n",
      "Epoch 11/50\n",
      "269/269 [==============================] - 1s 5ms/step - loss: -90.6145 - val_loss: -105.4122\n",
      "Epoch 12/50\n",
      "269/269 [==============================] - 1s 5ms/step - loss: -94.6312 - val_loss: -111.4832\n",
      "Epoch 13/50\n",
      "269/269 [==============================] - 1s 5ms/step - loss: -85.4870 - val_loss: -63.4096\n",
      "Epoch 14/50\n",
      "269/269 [==============================] - 1s 5ms/step - loss: -89.5661 - val_loss: -102.7323\n",
      "Epoch 15/50\n",
      "269/269 [==============================] - 1s 5ms/step - loss: -103.2848 - val_loss: -90.7990\n",
      "Epoch 16/50\n",
      "269/269 [==============================] - 1s 5ms/step - loss: -94.9764 - val_loss: -84.7594\n",
      "Epoch 17/50\n",
      "269/269 [==============================] - 1s 5ms/step - loss: -88.3066 - val_loss: -93.8727\n",
      "Epoch 18/50\n",
      "269/269 [==============================] - 1s 5ms/step - loss: -101.4033 - val_loss: -107.0644\n",
      "Epoch 19/50\n",
      "269/269 [==============================] - 1s 5ms/step - loss: -97.8448 - val_loss: -98.8736\n",
      "Epoch 20/50\n",
      "269/269 [==============================] - 1s 5ms/step - loss: -100.5018 - val_loss: -109.7754\n",
      "Epoch 21/50\n",
      "269/269 [==============================] - 1s 5ms/step - loss: -111.0510 - val_loss: -114.7108\n",
      "Epoch 22/50\n",
      "269/269 [==============================] - 1s 5ms/step - loss: -107.7602 - val_loss: -115.8118\n",
      "Epoch 23/50\n",
      "269/269 [==============================] - 1s 5ms/step - loss: -93.5140 - val_loss: -79.2424\n",
      "Epoch 24/50\n",
      "269/269 [==============================] - 1s 5ms/step - loss: -110.5388 - val_loss: -108.2331\n",
      "Epoch 25/50\n",
      "269/269 [==============================] - 1s 5ms/step - loss: -112.0369 - val_loss: -98.6381\n",
      "Epoch 26/50\n",
      "269/269 [==============================] - 1s 5ms/step - loss: -108.9545 - val_loss: -119.9392\n",
      "Epoch 27/50\n",
      "269/269 [==============================] - 1s 5ms/step - loss: -97.1053 - val_loss: -88.5209\n",
      "Epoch 28/50\n",
      "269/269 [==============================] - 1s 5ms/step - loss: -111.5725 - val_loss: -120.8314\n",
      "Epoch 29/50\n",
      "269/269 [==============================] - 1s 5ms/step - loss: -116.4243 - val_loss: -124.1139\n",
      "Epoch 30/50\n",
      "269/269 [==============================] - 1s 5ms/step - loss: -103.4096 - val_loss: -118.3653\n",
      "Epoch 31/50\n",
      "269/269 [==============================] - 1s 5ms/step - loss: -115.7757 - val_loss: -122.1750\n",
      "Epoch 32/50\n",
      "269/269 [==============================] - 1s 5ms/step - loss: -116.0967 - val_loss: -123.4399\n",
      "Epoch 33/50\n",
      "269/269 [==============================] - 1s 5ms/step - loss: -102.0161 - val_loss: -125.9903\n",
      "Epoch 34/50\n",
      "269/269 [==============================] - 1s 5ms/step - loss: -108.6338 - val_loss: -118.1377\n",
      "Epoch 35/50\n",
      "269/269 [==============================] - 1s 5ms/step - loss: -111.8570 - val_loss: -123.3663\n",
      "Epoch 36/50\n",
      "269/269 [==============================] - 1s 5ms/step - loss: -113.6094 - val_loss: -124.9357\n",
      "Epoch 37/50\n",
      "269/269 [==============================] - 1s 5ms/step - loss: -116.2920 - val_loss: -120.0035\n",
      "Epoch 38/50\n",
      "269/269 [==============================] - 1s 5ms/step - loss: -121.2238 - val_loss: -126.1782\n",
      "Epoch 39/50\n",
      "269/269 [==============================] - 1s 5ms/step - loss: -113.4676 - val_loss: -129.6121\n",
      "Epoch 40/50\n",
      "269/269 [==============================] - 1s 5ms/step - loss: -117.2017 - val_loss: -129.9276\n",
      "Epoch 41/50\n",
      "269/269 [==============================] - 1s 5ms/step - loss: -106.3233 - val_loss: -117.0797\n",
      "Epoch 42/50\n",
      "269/269 [==============================] - 1s 5ms/step - loss: -96.6160 - val_loss: -119.1524\n",
      "Epoch 43/50\n",
      "269/269 [==============================] - 1s 5ms/step - loss: -103.6934 - val_loss: -118.0883\n",
      "Epoch 44/50\n",
      "269/269 [==============================] - 1s 5ms/step - loss: -93.2541 - val_loss: -27.6328\n",
      "Epoch 45/50\n",
      "269/269 [==============================] - 1s 5ms/step - loss: -94.5458 - val_loss: -112.8017\n",
      "Epoch 46/50\n",
      "269/269 [==============================] - 1s 5ms/step - loss: -103.6274 - val_loss: -118.8416\n",
      "Epoch 47/50\n",
      "269/269 [==============================] - 1s 5ms/step - loss: -100.5389 - val_loss: -122.2317\n",
      "Epoch 48/50\n",
      "269/269 [==============================] - 1s 5ms/step - loss: -98.6019 - val_loss: -68.3187\n",
      "Epoch 49/50\n",
      "269/269 [==============================] - 1s 5ms/step - loss: -103.4002 - val_loss: -123.8169\n",
      "Epoch 50/50\n",
      "269/269 [==============================] - 1s 5ms/step - loss: -108.4059 - val_loss: -104.3073\n"
     ]
    }
   ],
   "source": [
    "batch_size = 64\n",
    "epochs = 50\n",
    "\n",
    "dtrain, num_train = input_fn(mode='train', batch_size=batch_size, dataset_name='sfh')\n",
    "dval, num_val = input_fn(mode='val', batch_size=batch_size, dataset_name='sfh')\n",
    "\n",
    "hist = pixel_cnn.fit(dtrain, \n",
    "                     epochs=epochs, \n",
    "                     #steps_per_epoch=num_train//batch_size, \n",
    "                     validation_data=dval,\n",
    "                     callbacks=[history])"
   ]
  },
  {
   "cell_type": "code",
   "execution_count": 9,
   "id": "876389d7",
   "metadata": {},
   "outputs": [],
   "source": [
    "%matplotlib inline"
   ]
  },
  {
   "cell_type": "markdown",
   "id": "cc40cd1c",
   "metadata": {},
   "source": [
    "### Check learning curve"
   ]
  },
  {
   "cell_type": "code",
   "execution_count": 10,
   "id": "c68925c7",
   "metadata": {},
   "outputs": [
    {
     "data": {
      "image/png": "[encoded data removed]",
      "text/plain": [
       "<Figure size 432x288 with 1 Axes>"
      ]
     },
     "metadata": {
      "needs_background": "light"
     },
     "output_type": "display_data"
    }
   ],
   "source": [
    "plt.plot(hist.history['loss'])\n",
    "plt.plot(hist.history['val_loss'])\n",
    "plt.show()"
   ]
  },
  {
   "cell_type": "markdown",
   "id": "5287f821",
   "metadata": {},
   "source": [
    "### Pass sample\n",
    "\n",
    "Feed a dataset sample to the network and visualize output"
   ]
  },
  {
   "cell_type": "code",
   "execution_count": 102,
   "id": "6b1b7779",
   "metadata": {},
   "outputs": [
    {
     "name": "stderr",
     "output_type": "stream",
     "text": [
      "2021-12-08 12:33:43.916733: W tensorflow/core/kernels/data/cache_dataset_ops.cc:768] The calling iterator did not fully read the dataset being cached. In order to avoid unexpected truncation of the dataset, the partially cached contents of the dataset  will be discarded. This can happen if you have an input pipeline similar to `dataset.cache().take(k).repeat()`. You should use `dataset.take(k).cache().repeat()` instead.\n"
     ]
    },
    {
     "data": {
      "image/png": "[encoded data removed]",
      "text/plain": [
       "<Figure size 432x288 with 1 Axes>"
      ]
     },
     "metadata": {
      "needs_background": "light"
     },
     "output_type": "display_data"
    }
   ],
   "source": [
    "sample = list(dset.take(10))[3]\n",
    "samp_mean, samp_std, p_sample = pass_sample(pixel_cnn, sample['SFR_Max'])\n",
    "\n",
    "std = samp_std.numpy().reshape((-1,))\n",
    "mean = samp_mean.numpy().reshape((-1,))\n",
    "plt.plot(mean,'r')\n",
    "plt.fill_between(np.linspace(0,99,100,endpoint=True), y1=mean+std, y2=mean-std, color='magenta', alpha=0.2)\n",
    "plt.plot(p_sample.numpy().reshape((-1,)), 'g')\n",
    "plt.plot(sample['SFR_Max'].numpy().reshape((-1,)), 'b')\n",
    "plt.ylim([0,4])\n",
    "plt.show()"
   ]
  },
  {
   "cell_type": "markdown",
   "id": "c7f53e3e",
   "metadata": {},
   "source": [
    "### Predictor\n",
    "\n",
    "A randomly generated SFR from the model"
   ]
  },
  {
   "cell_type": "code",
   "execution_count": 105,
   "id": "2892febe",
   "metadata": {},
   "outputs": [
    {
     "data": {
      "image/png": "[encoded data removed]",
      "text/plain": [
       "<Figure size 432x288 with 1 Axes>"
      ]
     },
     "metadata": {
      "needs_background": "light"
     },
     "output_type": "display_data"
    }
   ],
   "source": [
    "gen_sample = predictor(pixel_cnn, 1).reshape((-1,))\n",
    "plt.plot(gen_sample)\n",
    "plt.show()\n"
   ]
  },
  {
   "cell_type": "markdown",
   "id": "56cfe62a",
   "metadata": {},
   "source": [
    "### Finish sample\n",
    "\n",
    "Take a part of a SFR sequence, and predicts the endplt.plot(sample['SFR_Max'].numpy().reshape((-1,)), 'b')"
   ]
  },
  {
   "cell_type": "code",
   "execution_count": 106,
   "id": "c90f3acd",
   "metadata": {},
   "outputs": [
    {
     "data": {
      "image/png": "[encoded data removed]",
      "text/plain": [
       "<Figure size 432x288 with 1 Axes>"
      ]
     },
     "metadata": {
      "needs_background": "light"
     },
     "output_type": "display_data"
    }
   ],
   "source": [
    "# TODO FIX MEEE\n",
    "import importlib\n",
    "import sys\n",
    "sys.path.insert(0,'../sfh')\n",
    "importlib.reload(model_utils)\n",
    "\n",
    "gen_sample = model_utils.finish_sample(pixel_cnn, sample['SFR_Max'][:50]).reshape((-1,))\n",
    "plt.plot(gen_sample, 'r')\n",
    "plt.plot(sample['SFR_Max'].numpy().reshape((-1,)), 'b')\n",
    "plt.show()\n"
   ]
  },
  {
   "cell_type": "code",
   "execution_count": 17,
   "id": "f05dc5d2",
   "metadata": {},
   "outputs": [],
   "source": [
    "\"\"\"\n",
    "## Build the model based on the original paper\n",
    "\"\"\"\n",
    "\n",
    "inputs = keras.Input(shape=(28,1))\n",
    "x = PixelConvLayer(\n",
    "    mask_type=\"A\", filters=128, kernel_size=7, activation=\"relu\", padding=\"same\"\n",
    ")(inputs)\n",
    "\n",
    "for _ in range(n_residual_blocks):\n",
    "    x = ResidualBlock(filters=128)(x)\n",
    "\n",
    "for _ in range(2):\n",
    "    x = PixelConvLayer(\n",
    "        mask_type=\"B\",\n",
    "        filters=128,\n",
    "        kernel_size=1,\n",
    "        strides=1,\n",
    "        activation=\"relu\",\n",
    "        padding=\"valid\",\n",
    "    )(x)\n",
    "\n",
    "#out = keras.layers.Conv1D(\n",
    "#    filters=1, kernel_size=1, strides=1, activation=\"sigmoid\", padding=\"valid\"\n",
    "#)(x)\n",
    "\n",
    "out = tfp.layers.MixtureNormal(num_components, event_shape)(x)\n",
    "\n",
    "\n",
    "pixel_cnn = keras.Model(inputs, out)\n",
    "\n",
    "negloglik = lambda y, q: -q.log_prob(y)\n",
    "adam = keras.optimizers.Adam(learning_rate=0.0005)\n",
    "pixel_cnn.compile(optimizer=adam, loss=negloglik)\n",
    "\n",
    "pixel_cnn.summary()"
   ]
  },
  {
   "cell_type": "code",
   "execution_count": 52,
   "id": "5e057466",
   "metadata": {},
   "outputs": [
    {
     "name": "stdout",
     "output_type": "stream",
     "text": [
      "You must install pydot (`pip install pydot`) and install graphviz (see instructions at https://graphviz.gitlab.io/download/) for plot_model/model_to_dot to work.\n"
     ]
    }
   ],
   "source": [
    "from tensorflow.keras.utils import plot_model\n",
    "\n",
    "plot_model(pixel_cnn, to_file='model_plot.png', show_shapes=True, show_layer_names=True)"
   ]
  },
  {
   "cell_type": "code",
   "execution_count": null,
   "id": "b9b1e0e0",
   "metadata": {},
   "outputs": [],
   "source": [
    "pixel_cnn.fit(\n",
    "    x=data, y=data, batch_size=128, epochs=50, validation_split=0.1, verbose=2\n",
    ")\n"
   ]
  },
  {
   "cell_type": "code",
   "execution_count": null,
   "id": "339e119e",
   "metadata": {},
   "outputs": [],
   "source": [
    "\"\"\"\n",
    "## Demonstration\n",
    "The PixelCNN cannot generate the full image at once. Instead, it must generate each pixel in\n",
    "order, append the last generated pixel to the current image, and feed the image back into the\n",
    "model to repeat the process.\n",
    "\"\"\"\n",
    "\n",
    "from IPython.display import Image, display\n",
    "\n",
    "# Create an empty array of pixels.\n",
    "batch = 4\n",
    "pixels = np.zeros(shape=(batch,) + (pixel_cnn.input_shape)[1:])\n",
    "batch, rows, cols, channels = pixels.shape\n",
    "\n",
    "# Iterate over the pixels because generation has to be done sequentially pixel by pixel.\n",
    "for row in tqdm(range(rows)):\n",
    "    for col in range(cols):\n",
    "        for channel in range(channels):\n",
    "            # Feed the whole array and retrieving the pixel value probabilities for the next\n",
    "            # pixel.\n",
    "            probs = pixel_cnn.predict(pixels)[:, row, col, channel]\n",
    "            # Use the probabilities to pick pixel values and append the values to the image\n",
    "            # frame.\n",
    "            pixels[:, row, col, channel] = tf.math.ceil(\n",
    "                probs - tf.random.uniform(probs.shape)\n",
    "            )\n",
    "\n"
   ]
  },
  {
   "cell_type": "code",
   "execution_count": null,
   "id": "faa3697e",
   "metadata": {},
   "outputs": [],
   "source": [
    "\n",
    "def deprocess_image(x):\n",
    "    # Stack the single channeled black and white image to rgb values.\n",
    "    x = np.stack((x, x, x), 2)\n",
    "    # Undo preprocessing\n",
    "    x *= 255.0\n",
    "    # Convert to uint8 and clip to the valid range [0, 255]\n",
    "    x = np.clip(x, 0, 255).astype(\"uint8\")\n",
    "    return x\n",
    "\n",
    "\n",
    "# Iterate over the generated images and plot them with matplotlib.\n",
    "for i, pic in enumerate(pixels):\n",
    "    keras.preprocessing.image.save_img(\n",
    "        \"generated_image_{}.png\".format(i), deprocess_image(np.squeeze(pic, -1))\n",
    "    )\n",
    "\n",
    "display(Image(\"generated_image_0.png\"))\n",
    "display(Image(\"generated_image_1.png\"))\n",
    "display(Image(\"generated_image_2.png\"))\n",
    "display(Image(\"generated_image_3.png\"))"
   ]
  }
 ],
 "metadata": {
  "kernelspec": {
   "display_name": "Python 3 (ipykernel)",
   "language": "python",
   "name": "python3"
  },
  "language_info": {
   "codemirror_mode": {
    "name": "ipython",
    "version": 3
   },
   "file_extension": ".py",
   "mimetype": "text/x-python",
   "name": "python",
   "nbconvert_exporter": "python",
   "pygments_lexer": "ipython3",
   "version": "3.7.10"
  }
 },
 "nbformat": 4,
 "nbformat_minor": 5
}
