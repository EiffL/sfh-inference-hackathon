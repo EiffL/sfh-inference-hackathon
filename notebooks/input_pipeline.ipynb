{
 "cells": [
  {
   "cell_type": "code",
   "execution_count": 1,
   "id": "3a6f4e26",
   "metadata": {},
   "outputs": [],
   "source": [
    "%load_ext autoreload\n",
    "%autoreload 2"
   ]
  },
  {
   "cell_type": "code",
   "execution_count": 2,
   "id": "65269a86",
   "metadata": {},
   "outputs": [],
   "source": [
    "import tensorflow as tf\n",
    "import tensorflow_datasets as tfds\n",
    "import numpy as np\n",
    "from sfh.datasets.mergers import kinetic"
   ]
  },
  {
   "cell_type": "code",
   "execution_count": 5,
   "id": "6fa076c7",
   "metadata": {},
   "outputs": [],
   "source": [
    "# Using a mapping function to apply preprocessing to our data\n",
    "def preprocessing(example):\n",
    "    a = 3.\n",
    "    scaling = [33205.43648882585, 43.65749262641268, 37.643232661037565]\n",
    "    mean_img = [193696.55, 2.9481435, 95.614685]\n",
    "    \n",
    "    img1 = tf.constant(1/a,dtype=tf.float32) * tf.math.asinh(example['image'][0,:,:]/(tf.constant(scaling[0]*a,dtype=tf.float32)) )\n",
    "    img2 = (example['image'][1,:,:]-tf.constant(mean_img[1],dtype=tf.float32))/tf.constant(scaling[1],dtype=tf.float32)\n",
    "    img3 = (example['image'][2,:,:]-tf.constant(mean_img[2],dtype=tf.float32))/tf.constant(scaling[2],dtype=tf.float32)\n",
    "       \n",
    "    # Replace NaNs by zeros\n",
    "    img1 = tf.where(tf.math.is_nan(img1), tf.zeros_like(img1), img1)\n",
    "    img2 = tf.where(tf.math.is_nan(img2), tf.zeros_like(img2), img2)\n",
    "    img3 = tf.where(tf.math.is_nan(img3), tf.zeros_like(img3), img3)\n",
    "    # Replace InFs by zeros\n",
    "    img1 = tf.where(tf.math.is_inf(img1), tf.zeros_like(img1), img1)\n",
    "    img2 = tf.where(tf.math.is_inf(img2), tf.zeros_like(img2), img2)\n",
    "    img3 = tf.where(tf.math.is_inf(img3), tf.zeros_like(img3), img3)\n",
    "    \n",
    "    img  = tf.stack([img1,img2,img3],axis=-1)\n",
    "    \n",
    "    lbt = example['last_major_merger']/tf.constant(13.6)    \n",
    "\n",
    "    return (img, lbt)"
   ]
  },
  {
   "cell_type": "code",
   "execution_count": 6,
   "id": "9c653c1c",
   "metadata": {},
   "outputs": [],
   "source": [
    "def input_fn(mode='train', batch_size=1):\n",
    "    \n",
    "    data_dir='/gpfsscratch/rech/qrc/commun/tensorflow_datasets'\n",
    "\n",
    "    #mode: 'train' or 'test'\n",
    "\n",
    "    if mode == 'train':       \n",
    "        dataset = tfds.load('mergers_kinetic', split='train[:80%]', data_dir=data_dir)\n",
    "        dataset = dataset.map(preprocessing)# Apply data preprocessing\n",
    "        print(len(dataset))\n",
    "        dataset = dataset.repeat()\n",
    "        dataset = dataset.shuffle(1000)\n",
    "    elif mode == 'validation':\n",
    "        dataset = tfds.load('mergers_kinetic', split='train[80%:90%]', data_dir=data_dir)\n",
    "        dataset = dataset.map(preprocessing)# Apply data preprocessing\n",
    "        print(len(dataset))\n",
    "        dataset = dataset.shuffle(1000) \n",
    "        \n",
    "    else:\n",
    "        dataset = tfds.load('mergers_kinetic', split='train[90%:]', data_dir=data_dir)\n",
    "        dataset = dataset.map(preprocessing)# Apply data preprocessing\n",
    "        print(len(dataset))\n",
    "    \n",
    "    dataset = dataset.batch(batch_size, drop_remainder=True)\n",
    "    dataset = dataset.prefetch(-1)       # fetch next batches while training current one (-1 for autotune)\n",
    "    \n",
    "    return dataset"
   ]
  },
  {
   "cell_type": "code",
   "execution_count": null,
   "id": "b4cb739b",
   "metadata": {},
   "outputs": [],
   "source": []
  }
 ],
 "metadata": {
  "kernelspec": {
   "display_name": "Python 3 (ipykernel)",
   "language": "python",
   "name": "python3"
  },
  "language_info": {
   "codemirror_mode": {
    "name": "ipython",
    "version": 3
   },
   "file_extension": ".py",
   "mimetype": "text/x-python",
   "name": "python",
   "nbconvert_exporter": "python",
   "pygments_lexer": "ipython3",
   "version": "3.7.10"
  }
 },
 "nbformat": 4,
 "nbformat_minor": 5
}
