{
 "cells": [
  {
   "cell_type": "markdown",
   "id": "926d62c8",
   "metadata": {},
   "source": [
    "***Notebook to retrieve the dataset of the NOISELESS images***"
   ]
  },
  {
   "cell_type": "code",
   "execution_count": 1,
   "id": "17f4f67b",
   "metadata": {},
   "outputs": [
    {
     "name": "stdout",
     "output_type": "stream",
     "text": [
      "Wed Dec  8 17:57:02 2021       \n",
      "+-----------------------------------------------------------------------------+\n",
      "| NVIDIA-SMI 470.57.02    Driver Version: 470.57.02    CUDA Version: 11.4     |\n",
      "|-------------------------------+----------------------+----------------------+\n",
      "| GPU  Name        Persistence-M| Bus-Id        Disp.A | Volatile Uncorr. ECC |\n",
      "| Fan  Temp  Perf  Pwr:Usage/Cap|         Memory-Usage | GPU-Util  Compute M. |\n",
      "|                               |                      |               MIG M. |\n",
      "|===============================+======================+======================|\n",
      "|   0  Tesla V100-SXM2...  On   | 00000000:1A:00.0 Off |                    0 |\n",
      "| N/A   43C    P0    44W / 300W |      0MiB / 32510MiB |      0%      Default |\n",
      "|                               |                      |                  N/A |\n",
      "+-------------------------------+----------------------+----------------------+\n",
      "                                                                               \n",
      "+-----------------------------------------------------------------------------+\n",
      "| Processes:                                                                  |\n",
      "|  GPU   GI   CI        PID   Type   Process name                  GPU Memory |\n",
      "|        ID   ID                                                   Usage      |\n",
      "|=============================================================================|\n",
      "|  No running processes found                                                 |\n",
      "+-----------------------------------------------------------------------------+\n"
     ]
    }
   ],
   "source": [
    "!nvidia-smi"
   ]
  },
  {
   "cell_type": "code",
   "execution_count": 2,
   "id": "ac363a58",
   "metadata": {},
   "outputs": [],
   "source": [
    "%load_ext autoreload\n",
    "%autoreload 2"
   ]
  },
  {
   "cell_type": "code",
   "execution_count": 3,
   "id": "bc08a376",
   "metadata": {},
   "outputs": [],
   "source": [
    "import tensorflow as tf\n",
    "import tensorflow_datasets as tfds\n",
    "import matplotlib.pyplot as plt\n",
    "import numpy as np\n",
    "from astropy.stats import mad_std\n",
    "import tensorflow.keras as tfk\n",
    "#from sfh.datasets.mergers import tng100_images_noiseless"
   ]
  },
  {
   "cell_type": "code",
   "execution_count": null,
   "id": "6452a45c",
   "metadata": {},
   "outputs": [],
   "source": [
    "#train_dset=tfds.load('tng100_images_noiseless',split='train')"
   ]
  },
  {
   "cell_type": "code",
   "execution_count": 4,
   "id": "5bf016a7",
   "metadata": {},
   "outputs": [
    {
     "name": "stderr",
     "output_type": "stream",
     "text": [
      "2021-12-08 17:57:12.787473: I tensorflow/core/platform/cpu_feature_guard.cc:142] This TensorFlow binary is optimized with oneAPI Deep Neural Network Library (oneDNN) to use the following CPU instructions in performance-critical operations:  SSE3 SSE4.1 SSE4.2 AVX AVX2 AVX512F FMA\n",
      "To enable them in other operations, rebuild TensorFlow with the appropriate compiler flags.\n",
      "2021-12-08 17:57:13.426607: I tensorflow/core/common_runtime/gpu/gpu_device.cc:1510] Created device /job:localhost/replica:0/task:0/device:GPU:0 with 30998 MB memory:  -> device: 0, name: Tesla V100-SXM2-32GB, pci bus id: 0000:1a:00.0, compute capability: 7.0\n"
     ]
    }
   ],
   "source": [
    "train_dset,valid_dset,test_dset = tfds.load('tng100_images_noiseless', split=['train[:75%]','train[75%:85%]','train[85%:]'])"
   ]
  },
  {
   "cell_type": "code",
   "execution_count": 5,
   "id": "ae25fcb7",
   "metadata": {},
   "outputs": [
    {
     "data": {
      "text/plain": [
       "<PrefetchDataset shapes: {image: (128, 128, 4), last_major_merger: (), object_id: ()}, types: {image: tf.float32, last_major_merger: tf.float32, object_id: tf.int32}>"
      ]
     },
     "execution_count": 5,
     "metadata": {},
     "output_type": "execute_result"
    }
   ],
   "source": [
    "train_dset"
   ]
  },
  {
   "cell_type": "code",
   "execution_count": 6,
   "id": "ddd997a3",
   "metadata": {},
   "outputs": [
    {
     "data": {
      "text/plain": [
       "<PrefetchDataset shapes: {image: (128, 128, 4), last_major_merger: (), object_id: ()}, types: {image: tf.float32, last_major_merger: tf.float32, object_id: tf.int32}>"
      ]
     },
     "execution_count": 6,
     "metadata": {},
     "output_type": "execute_result"
    }
   ],
   "source": [
    "test_dset"
   ]
  },
  {
   "cell_type": "code",
   "execution_count": 7,
   "id": "1ce2f43c",
   "metadata": {},
   "outputs": [
    {
     "name": "stdout",
     "output_type": "stream",
     "text": [
      "Test 1749\n",
      "Train 8744\n",
      "Train 1166\n",
      "Total 11659\n"
     ]
    }
   ],
   "source": [
    "print(\"Test\",len(test_dset))\n",
    "print(\"Train\",len(train_dset))\n",
    "print(\"Train\",len(valid_dset))\n",
    "\n",
    "print(\"Total\",len(train_dset)+len(test_dset)+len(valid_dset))"
   ]
  },
  {
   "cell_type": "code",
   "execution_count": 8,
   "id": "3f002e07",
   "metadata": {},
   "outputs": [
    {
     "name": "stderr",
     "output_type": "stream",
     "text": [
      "2021-12-08 17:57:40.511692: I tensorflow/compiler/mlir/mlir_graph_optimization_pass.cc:185] None of the MLIR Optimization Passes are enabled (registered 2)\n"
     ]
    },
    {
     "data": {
      "image/png": "[encoded data removed]",
      "text/plain": [
       "<Figure size 432x288 with 1 Axes>"
      ]
     },
     "metadata": {
      "needs_background": "light"
     },
     "output_type": "display_data"
    },
    {
     "data": {
      "image/png": "[encoded data removed]",
      "text/plain": [
       "<Figure size 432x288 with 1 Axes>"
      ]
     },
     "metadata": {
      "needs_background": "light"
     },
     "output_type": "display_data"
    }
   ],
   "source": [
    "for example in train_dset.take(2):\n",
    "    plt.figure()\n",
    "    plt.imshow(example[\"image\"][:,:,1],cmap='gray')\n",
    "    lbt=float(example[\"last_major_merger\"])\n",
    "    plt.title(\"Last major merger \"+str(\"{:.1f}\".format(lbt))+\" Gyr ago\"+\"\\n Galaxy ID \"+str(int(example[\"object_id\"])))"
   ]
  },
  {
   "cell_type": "code",
   "execution_count": null,
   "id": "97e9fc16",
   "metadata": {},
   "outputs": [],
   "source": [
    "float(example[\"last_major_merger\"])"
   ]
  },
  {
   "cell_type": "markdown",
   "id": "63cabfab",
   "metadata": {},
   "source": [
    "**Normalise images**"
   ]
  },
  {
   "cell_type": "code",
   "execution_count": null,
   "id": "c0aee53a",
   "metadata": {},
   "outputs": [],
   "source": [
    "# Let's collect a few examples to check their distributions\n",
    "imgs=[]\n",
    "for (batch, entry) in enumerate(train_dset.take(1000)):\n",
    "    imgs.append(entry['image'])\n",
    "imgs=np.array(imgs)"
   ]
  },
  {
   "cell_type": "code",
   "execution_count": null,
   "id": "4e10ffc4",
   "metadata": {},
   "outputs": [],
   "source": [
    "#Check pixel distribution for a few images\n",
    "for i,b in enumerate(['g', 'r', 'i', 'z']):\n",
    "    plt.hist(imgs[:,:,:,i].flatten(),100, label=b)\n",
    "plt.legend()\n",
    "plt.yscale(\"log\")\n",
    "plt.ylabel(\"Number of pixels\")\n",
    "plt.xlabel(\"Values\")\n",
    "plt.title(\"Histogram of the pixel values in the first 300 NOISELESS images\")"
   ]
  },
  {
   "cell_type": "code",
   "execution_count": null,
   "id": "00534e3f",
   "metadata": {},
   "outputs": [],
   "source": [
    "# Let's evaluate the noise standard deviation in each band, and apply range \n",
    "# compression accordingly\n",
    "scaling = []\n",
    "mean=[]\n",
    "for i,b in enumerate(['g', 'r', 'i', 'z']):\n",
    "    plt.hist(imgs[:,:,:,i].flatten(),100, label=b,alpha=0.5)#,range=[-100,100]);\n",
    "    sigma = mad_std(imgs[:,:,:,i].flatten())\n",
    "    scaling.append(sigma)\n",
    "    mean.append(np.mean(imgs[:,:,:,i].flatten()))\n",
    "    plt.axvline(sigma, color='C%d'%i,alpha=0.5)\n",
    "    plt.axvline(-sigma, color='C%d'%i,alpha=0.5)\n",
    "plt.legend()\n",
    "plt.yscale(\"log\")"
   ]
  },
  {
   "cell_type": "code",
   "execution_count": null,
   "id": "2efe40db",
   "metadata": {},
   "outputs": [],
   "source": [
    "# Let's have a look at this distribution if we rescale each band by the standard\n",
    "# deviation\n",
    "for i,b in enumerate(['g', 'r', 'i', 'z']):\n",
    "    plt.hist((imgs[:,:,:,i].flatten()-mean[i])/scaling[i],100, label=b,alpha=0.5)#,range=[-10,20]);\n",
    "plt.legend()\n",
    "plt.title(\"Histogram of the pixel values after rescaling by the standard deviation\")\n"
   ]
  },
  {
   "cell_type": "code",
   "execution_count": null,
   "id": "099018cd",
   "metadata": {},
   "outputs": [],
   "source": [
    "# a common approach for range compression is to apply arcsinh to suppress the\n",
    "# high amplitude values\n",
    "#Test with a compression factor manually adjusted\n",
    "for i,b in enumerate(['g', 'r', 'i', 'z']):\n",
    "    plt.hist(1/6*np.arcsinh((imgs[:,:,:,i].flatten()-mean[i])/scaling[i]*6),100,\n",
    "           label=b, alpha=0.5);\n",
    "plt.legend()\n",
    "plt.yscale('log')\n",
    "plt.title(\"Histogram of the pixel values after scaling by std and arcsinh\")"
   ]
  },
  {
   "cell_type": "code",
   "execution_count": 120,
   "id": "42da8659",
   "metadata": {},
   "outputs": [],
   "source": [
    "# Using a mapping function to apply preprocessing to our data\n",
    "def evaluate_scaling(train_dset):\n",
    "    \"\"\"\n",
    "    Evaluates the standard deviation of the pixel values in each band g,r,i,z.\n",
    "    Input: train_dset (tensforflow dataset): training datset on which we want to evaluate the scaling\n",
    "    Output: scaling (np array): array containig the std in each band\n",
    "            mean (np array): array containig the mean in each band\n",
    "    \"\"\"\n",
    "    #Takes 100 images from wich the std will be estimated  \n",
    "    imgs=[]\n",
    "    for (batch, entry) in enumerate(train_dset.take(100)):\n",
    "        imgs.append(entry['image'])\n",
    "    imgs=np.array(imgs)\n",
    "    #Computes the scaling\n",
    "    mean=[]\n",
    "    scaling = []\n",
    "    maximum=[]\n",
    "    for i,b in enumerate(['g', 'r', 'i', 'z']):\n",
    "        sigma = mad_std(imgs[:,:,:,i].flatten())\n",
    "        mean.append(np.mean(imgs[:,:,:,i].flatten()))\n",
    "        scaling.append(sigma)\n",
    "        maximum.append(np.max(imgs[:,:,:,i].flatten()))\n",
    "    return scaling,mean,maximum\n",
    "\n",
    "def preprocessing(example):\n",
    "    \"\"\"\n",
    "    Normalises the images from the original dataset, by dividing it by the std in each band and by appling arcsinh scaling.\n",
    "    NB: scaling and mean are global variablse, as this notebook is made only for one particular example and cannot be generalized without changing the code\n",
    "    NB: a compression factor for the arcsinh has been added to compress the values close to 0-1\n",
    "    Input: example (dict): example from the tensorflow dataset\n",
    "    Output: norm_img (np ndarray): normalised image\n",
    "            example[\"last_major_merger\"]: tf tensor containing the lookback time of the last major merger\n",
    "            example[\"object_id\"]: tf tensor containing the galaxy id        \n",
    "    \"\"\"\n",
    "    img=example[\"image\"]\n",
    "    #norm_img=1/6*tf.math.asinh((img-mean)/tf.constant(scaling)*6)\n",
    "    #norm_img=img/tf.constant(maximum)\n",
    "    norm_img=1/6*tf.math.asinh((img)/tf.constant(maximum)*6)\n",
    "    \n",
    "    \n",
    "    #Normalises output by 13.6 (age of the Universe)\n",
    "    example[\"last_major_merger\"]/=13.6\n",
    "    \n",
    "    return norm_img,float(example[\"last_major_merger\"])#,example[\"object_id\"]"
   ]
  },
  {
   "cell_type": "code",
   "execution_count": 121,
   "id": "777378af",
   "metadata": {},
   "outputs": [
    {
     "name": "stdout",
     "output_type": "stream",
     "text": [
      "[0.013293113401059552, 0.024231357420802166, 0.020571552039110794, 0.004017575382304042] [0.26849395, 0.50093114, 0.44640252, 0.09331725] [279.11002, 606.5274, 571.3022, 133.87555]\n"
     ]
    }
   ],
   "source": [
    "scaling,mean,maximum=evaluate_scaling(train_dset)\n",
    "print(scaling,mean,maximum)"
   ]
  },
  {
   "cell_type": "code",
   "execution_count": 122,
   "id": "50d5a3b1",
   "metadata": {},
   "outputs": [],
   "source": [
    "#Normalise the training dataset\n",
    "norm_train_dset = train_dset.map(preprocessing)"
   ]
  },
  {
   "cell_type": "code",
   "execution_count": 123,
   "id": "a1b39e7a",
   "metadata": {},
   "outputs": [
    {
     "name": "stdout",
     "output_type": "stream",
     "text": [
      "0.8396323323249817\n",
      "0.383529394865036\n"
     ]
    },
    {
     "data": {
      "image/png": "[encoded data removed]",
      "text/plain": [
       "<Figure size 432x288 with 2 Axes>"
      ]
     },
     "metadata": {
      "needs_background": "light"
     },
     "output_type": "display_data"
    },
    {
     "data": {
      "image/png": "[encoded data removed]",
      "text/plain": [
       "<Figure size 432x288 with 2 Axes>"
      ]
     },
     "metadata": {
      "needs_background": "light"
     },
     "output_type": "display_data"
    }
   ],
   "source": [
    "#Check the normalisation on a few examples\n",
    "norm_imgs,last_major_merger,object_id=[],[],[]\n",
    "for example in norm_train_dset.take(2):\n",
    "    #print(np.shape(ex))\n",
    "    plt.figure()\n",
    "    norm_imgs.append(example[0])\n",
    "    last_major_merger.append(float(example[1]))\n",
    "    print(last_major_merger[-1])\n",
    "    plt.imshow(norm_imgs[-1][:,:,0],cmap='gray')\n",
    "    plt.title(\"Normalised image in g-band\")\n",
    "    plt.colorbar()"
   ]
  },
  {
   "cell_type": "markdown",
   "id": "20e72f09",
   "metadata": {},
   "source": [
    "**Create the input pipeline**"
   ]
  },
  {
   "cell_type": "code",
   "execution_count": 111,
   "id": "aceb7541",
   "metadata": {},
   "outputs": [],
   "source": [
    "def input_pipeline(mode='train', batch_size=64):\n",
    "    \"\"\"\n",
    "    Creates the input pipeline that loads the dataset and normalises the data\n",
    "    Possible modes: 'train', 'valid' or 'test'.\n",
    "    Input: mode (str): specifies the mode for train, validation or test\n",
    "           batch_size (int): size of the batch\n",
    "    Output= dataset (tf dataset): properly processes dataset\n",
    "    \"\"\"\n",
    "    if mode == 'train':\n",
    "        dataset = tfds.load('tng100_images_noiseless', split='train[:70%]')\n",
    "        dataset = dataset.repeat()\n",
    "        dataset = dataset.shuffle(10000)\n",
    "    elif mode=='valid':\n",
    "        dataset = tfds.load('tng100_images_noiseless', split='train[70%:90%]')\n",
    "    elif mode=='test':\n",
    "        dataset = tfds.load('tng100_images_noiseless', split='train[90%:]')\n",
    "\n",
    "    dataset = dataset.batch(batch_size, drop_remainder=True)\n",
    "    dataset = dataset.map(preprocessing) # Apply data preprocessing\n",
    "    dataset = dataset.prefetch(-1) # fetch next batches while training current one (-1 for autotune)\n",
    "    return dataset"
   ]
  },
  {
   "cell_type": "code",
   "execution_count": 112,
   "id": "279675a5",
   "metadata": {},
   "outputs": [],
   "source": [
    "input_train_dset=input_pipeline(mode='train', batch_size=64)"
   ]
  },
  {
   "cell_type": "code",
   "execution_count": 113,
   "id": "fd11ff88",
   "metadata": {},
   "outputs": [
    {
     "data": {
      "text/plain": [
       "<PrefetchDataset shapes: ((64, 128, 128, 4), (64,)), types: (tf.float32, tf.float32)>"
      ]
     },
     "execution_count": 113,
     "metadata": {},
     "output_type": "execute_result"
    }
   ],
   "source": [
    "input_train_dset"
   ]
  },
  {
   "cell_type": "code",
   "execution_count": 114,
   "id": "bb77a76b",
   "metadata": {},
   "outputs": [
    {
     "name": "stdout",
     "output_type": "stream",
     "text": [
      "(64, 128, 128, 4)\n"
     ]
    },
    {
     "data": {
      "image/png": "[encoded data removed]",
      "text/plain": [
       "<Figure size 432x288 with 1 Axes>"
      ]
     },
     "metadata": {
      "needs_background": "light"
     },
     "output_type": "display_data"
    }
   ],
   "source": [
    "for example in input_train_dset.take(1):\n",
    "    print(np.shape(example[0]))\n",
    "    plt.imshow(example[0][1,:,:,1],cmap='gray')"
   ]
  },
  {
   "cell_type": "markdown",
   "id": "9b2e6bf4",
   "metadata": {},
   "source": [
    "**Define a first simple CNN**"
   ]
  },
  {
   "cell_type": "code",
   "execution_count": 124,
   "id": "160aaf56",
   "metadata": {},
   "outputs": [],
   "source": [
    "def build_model():\n",
    "    \n",
    "    model = tfk.models.Sequential()\n",
    "    #1st layer\n",
    "    model.add(tfk.layers.Conv2D(32, kernel_size=5, padding='same',input_shape=(128,128,4), activation='elu', strides=2))\n",
    "    model.add(tfk.layers.BatchNormalization())\n",
    "    #2nd layer\n",
    "    model.add(tfk.layers.Conv2D(64, kernel_size=5, padding='same', activation='relu', strides=2))\n",
    "    model.add(tfk.layers.BatchNormalization())\n",
    "    #3rd layer\n",
    "    model.add(tfk.layers.Conv2D(128, kernel_size=5, padding='same', activation='relu', strides=2))\n",
    "    model.add(tfk.layers.BatchNormalization())\n",
    "    #Flatten layer\n",
    "    model.add(tfk.layers.Flatten())\n",
    "    #Dense\n",
    "    #model.add(tfk.layers.Dense(512,activation='relu'))\n",
    "    model.add(tfk.layers.Dense(256,activation='relu'))\n",
    "    model.add(tfk.layers.Dropout(0.3))\n",
    "    model.add(tfk.layers.Dense(128,activation='relu'))\n",
    "    \n",
    "    model.add(tfk.layers.Dense(1,activation='relu'))\n",
    "    model.compile(optimizer=tfk.optimizers.SGD(), # learning rate will be set by LearningRateScheduler\n",
    "                loss=tfk.metrics.mse)\n",
    "    return model"
   ]
  },
  {
   "cell_type": "code",
   "execution_count": 125,
   "id": "2e7b9a8f",
   "metadata": {},
   "outputs": [
    {
     "name": "stdout",
     "output_type": "stream",
     "text": [
      "Model: \"sequential_8\"\n",
      "_________________________________________________________________\n",
      "Layer (type)                 Output Shape              Param #   \n",
      "=================================================================\n",
      "conv2d_24 (Conv2D)           (None, 64, 64, 32)        3232      \n",
      "_________________________________________________________________\n",
      "batch_normalization_24 (Batc (None, 64, 64, 32)        128       \n",
      "_________________________________________________________________\n",
      "conv2d_25 (Conv2D)           (None, 32, 32, 64)        51264     \n",
      "_________________________________________________________________\n",
      "batch_normalization_25 (Batc (None, 32, 32, 64)        256       \n",
      "_________________________________________________________________\n",
      "conv2d_26 (Conv2D)           (None, 16, 16, 128)       204928    \n",
      "_________________________________________________________________\n",
      "batch_normalization_26 (Batc (None, 16, 16, 128)       512       \n",
      "_________________________________________________________________\n",
      "flatten_8 (Flatten)          (None, 32768)             0         \n",
      "_________________________________________________________________\n",
      "dense_24 (Dense)             (None, 256)               8388864   \n",
      "_________________________________________________________________\n",
      "dropout_8 (Dropout)          (None, 256)               0         \n",
      "_________________________________________________________________\n",
      "dense_25 (Dense)             (None, 128)               32896     \n",
      "_________________________________________________________________\n",
      "dense_26 (Dense)             (None, 1)                 129       \n",
      "=================================================================\n",
      "Total params: 8,682,209\n",
      "Trainable params: 8,681,761\n",
      "Non-trainable params: 448\n",
      "_________________________________________________________________\n"
     ]
    }
   ],
   "source": [
    "model=build_model()\n",
    "model.summary()"
   ]
  },
  {
   "cell_type": "code",
   "execution_count": 126,
   "id": "4680c0da",
   "metadata": {},
   "outputs": [],
   "source": [
    "#Input dataset\n",
    "dataset_training=input_pipeline(mode='train', batch_size=64)\n",
    "dataset_validation=input_pipeline(mode='valid', batch_size=64)\n",
    "dataset_test=input_pipeline(mode='test', batch_size=64)"
   ]
  },
  {
   "cell_type": "code",
   "execution_count": 127,
   "id": "a0f55a14",
   "metadata": {},
   "outputs": [
    {
     "name": "stderr",
     "output_type": "stream",
     "text": [
      "WARNING:matplotlib.legend:No handles with labels found to put in legend.\n",
      "WARNING:matplotlib.legend:No handles with labels found to put in legend.\n"
     ]
    },
    {
     "name": "stdout",
     "output_type": "stream",
     "text": [
      "normalised lbt 0.5683823227882385\n",
      "normalised lbt 0.8503676056861877\n"
     ]
    },
    {
     "data": {
      "image/png": "[encoded data removed]",
      "text/plain": [
       "<Figure size 1080x360 with 4 Axes>"
      ]
     },
     "metadata": {
      "needs_background": "light"
     },
     "output_type": "display_data"
    },
    {
     "data": {
      "image/png": "[encoded data removed]",
      "text/plain": [
       "<Figure size 1080x360 with 4 Axes>"
      ]
     },
     "metadata": {
      "needs_background": "light"
     },
     "output_type": "display_data"
    }
   ],
   "source": [
    "for example in dataset_training.take(2):\n",
    "    #print(example[1])\n",
    "    plt.figure(figsize=(15,5))\n",
    "    plt.subplot(1,4,1)\n",
    "    plt.imshow(example[0][1,:,:,0],label='g')\n",
    "    plt.subplot(1,4,2)\n",
    "    plt.imshow(example[0][1,:,:,1],label='r')\n",
    "    plt.subplot(1,4,3)\n",
    "    plt.imshow(example[0][1,:,:,2])\n",
    "    plt.subplot(1,4,4)\n",
    "    plt.imshow(example[0][1,:,:,3])\n",
    "    plt.legend()  \n",
    "    print(\"normalised lbt\",float(example[1][1]))"
   ]
  },
  {
   "cell_type": "code",
   "execution_count": 128,
   "id": "c46d12fd",
   "metadata": {},
   "outputs": [
    {
     "name": "stdout",
     "output_type": "stream",
     "text": [
      "Epoch 1/10\n",
      "156/156 [==============================] - 4s 18ms/step - loss: 0.5315 - val_loss: 0.0736\n",
      "Epoch 2/10\n",
      "156/156 [==============================] - 3s 17ms/step - loss: 0.5413 - val_loss: 0.1779\n",
      "Epoch 3/10\n",
      "156/156 [==============================] - 3s 17ms/step - loss: 0.2397 - val_loss: 0.1432\n",
      "Epoch 4/10\n",
      "156/156 [==============================] - 3s 17ms/step - loss: 0.0807 - val_loss: 0.1447\n",
      "Epoch 5/10\n",
      "156/156 [==============================] - 3s 17ms/step - loss: 0.0673 - val_loss: 0.0694\n",
      "Epoch 6/10\n",
      "156/156 [==============================] - 3s 17ms/step - loss: 0.0610 - val_loss: 0.0656\n",
      "Epoch 7/10\n",
      "156/156 [==============================] - 3s 17ms/step - loss: 0.0599 - val_loss: 0.0699\n",
      "Epoch 8/10\n",
      "156/156 [==============================] - 3s 17ms/step - loss: 0.0586 - val_loss: 0.0660\n",
      "Epoch 9/10\n",
      "156/156 [==============================] - 3s 17ms/step - loss: 0.0574 - val_loss: 0.0695\n",
      "Epoch 10/10\n",
      "156/156 [==============================] - 3s 17ms/step - loss: 0.0561 - val_loss: 0.0680\n"
     ]
    }
   ],
   "source": [
    "#Train the model\n",
    "\"\"\"\n",
    "# Learning rate schedule\n",
    "LEARNING_RATE=0.001\n",
    "LEARNING_RATE_EXP_DECAY=0.9\n",
    "lr_decay = tfk.callbacks.LearningRateScheduler(\n",
    "    lambda epoch: LEARNING_RATE * LEARNING_RATE_EXP_DECAY**epoch,\n",
    "    verbose=True)\n",
    "\n",
    "# Tensoboard tracking\n",
    "tb_callback = tf.keras.callbacks.TensorBoard('./logs/run1', update_freq='batch')\"\"\"\n",
    "\n",
    "# We are ready to train our model\n",
    "history=model.fit(dataset_training,\n",
    "          validation_data=dataset_validation,\n",
    "          steps_per_epoch=10000//64,\n",
    "          epochs=10)#,\n",
    "          #callbacks=[lr_decay, tb_callback])"
   ]
  },
  {
   "cell_type": "code",
   "execution_count": 129,
   "id": "7fd1a970",
   "metadata": {},
   "outputs": [
    {
     "data": {
      "text/plain": [
       "<matplotlib.legend.Legend at 0x145c343ae8d0>"
      ]
     },
     "execution_count": 129,
     "metadata": {},
     "output_type": "execute_result"
    },
    {
     "data": {
      "image/png": "[encoded data removed]",
      "text/plain": [
       "<Figure size 432x288 with 1 Axes>"
      ]
     },
     "metadata": {
      "needs_background": "light"
     },
     "output_type": "display_data"
    }
   ],
   "source": [
    "loss=history.history[\"loss\"]\n",
    "val_loss=history.history[\"val_loss\"]\n",
    "\n",
    "epochs=np.linspace(0,10,len(loss))\n",
    "plt.plot(epochs,loss,label='training loss')\n",
    "plt.plot(epochs,val_loss,label='training loss')\n",
    "plt.xlabel(\"Epochs\")\n",
    "plt.legend(loc='upper right')\n"
   ]
  },
  {
   "cell_type": "code",
   "execution_count": 130,
   "id": "ef0ad88b",
   "metadata": {},
   "outputs": [],
   "source": [
    "predictions = model.predict(dataset_test)"
   ]
  },
  {
   "cell_type": "code",
   "execution_count": 131,
   "id": "bfdd2c40",
   "metadata": {},
   "outputs": [
    {
     "name": "stdout",
     "output_type": "stream",
     "text": [
      "1152 [[0.5770699 ]\n",
      " [0.61988693]\n",
      " [0.6486026 ]\n",
      " ...\n",
      " [0.74823564]\n",
      " [0.57671463]\n",
      " [0.54698396]]\n"
     ]
    }
   ],
   "source": [
    "print(len(predictions),predictions)"
   ]
  },
  {
   "cell_type": "code",
   "execution_count": 132,
   "id": "18b4915a",
   "metadata": {},
   "outputs": [],
   "source": [
    "# Retrieving last_major_merger for testing set\n",
    "BATCH_SIZE=64\n",
    "ground_truth = []\n",
    "for im, lbt in input_pipeline('test', BATCH_SIZE):\n",
    "    ground_truth.append(lbt)\n",
    "ground_truth = np.concatenate(ground_truth, axis=0)"
   ]
  },
  {
   "cell_type": "code",
   "execution_count": 133,
   "id": "b05b61ae",
   "metadata": {},
   "outputs": [
    {
     "data": {
      "text/plain": [
       "<matplotlib.colorbar.Colorbar at 0x145c37bcc5d0>"
      ]
     },
     "execution_count": 133,
     "metadata": {},
     "output_type": "execute_result"
    },
    {
     "data": {
      "image/png": "[encoded data removed]",
      "text/plain": [
       "<Figure size 432x288 with 2 Axes>"
      ]
     },
     "metadata": {
      "needs_background": "light"
     },
     "output_type": "display_data"
    }
   ],
   "source": [
    "#plt.hist2d(ground_truth, predictions.squeeze(), 64,range=[[0,1],[0,1]], cmap='gist_stern'); \n",
    "plt.hist2d(ground_truth, predictions.squeeze(), 64, cmap='gist_stern'); \n",
    "\n",
    "plt.gca().set_aspect('equal');\n",
    "plt.plot([0,1],[0,1],color='r')\n",
    "plt.xlabel('True lookback time')\n",
    "plt.ylabel('Predicted lookback time');\n",
    "plt.colorbar()\n",
    "\n"
   ]
  },
  {
   "cell_type": "code",
   "execution_count": null,
   "id": "a197f790",
   "metadata": {},
   "outputs": [],
   "source": []
  },
  {
   "cell_type": "code",
   "execution_count": null,
   "id": "350bcca8",
   "metadata": {},
   "outputs": [],
   "source": []
  }
 ],
 "metadata": {
  "kernelspec": {
   "display_name": "Python 3 (ipykernel)",
   "language": "python",
   "name": "python3"
  },
  "language_info": {
   "codemirror_mode": {
    "name": "ipython",
    "version": 3
   },
   "file_extension": ".py",
   "mimetype": "text/x-python",
   "name": "python",
   "nbconvert_exporter": "python",
   "pygments_lexer": "ipython3",
   "version": "3.7.10"
  }
 },
 "nbformat": 4,
 "nbformat_minor": 5
}
