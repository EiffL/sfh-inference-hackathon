{
 "cells": [
  {
   "cell_type": "markdown",
   "id": "c5084db6",
   "metadata": {},
   "source": [
    "***Notebook to retrieve the dataset of the NOISELESS images***"
   ]
  },
  {
   "cell_type": "code",
   "execution_count": 1,
   "id": "1c06c270",
   "metadata": {},
   "outputs": [
    {
     "name": "stdout",
     "output_type": "stream",
     "text": [
      "Thu Dec  9 12:29:51 2021       \n",
      "+-----------------------------------------------------------------------------+\n",
      "| NVIDIA-SMI 470.57.02    Driver Version: 470.57.02    CUDA Version: 11.4     |\n",
      "|-------------------------------+----------------------+----------------------+\n",
      "| GPU  Name        Persistence-M| Bus-Id        Disp.A | Volatile Uncorr. ECC |\n",
      "| Fan  Temp  Perf  Pwr:Usage/Cap|         Memory-Usage | GPU-Util  Compute M. |\n",
      "|                               |                      |               MIG M. |\n",
      "|===============================+======================+======================|\n",
      "|   0  Tesla V100-SXM2...  On   | 00000000:1C:00.0 Off |                    0 |\n",
      "| N/A   47C    P0    71W / 300W |      0MiB / 32510MiB |      0%      Default |\n",
      "|                               |                      |                  N/A |\n",
      "+-------------------------------+----------------------+----------------------+\n",
      "                                                                               \n",
      "+-----------------------------------------------------------------------------+\n",
      "| Processes:                                                                  |\n",
      "|  GPU   GI   CI        PID   Type   Process name                  GPU Memory |\n",
      "|        ID   ID                                                   Usage      |\n",
      "|=============================================================================|\n",
      "|  No running processes found                                                 |\n",
      "+-----------------------------------------------------------------------------+\n"
     ]
    }
   ],
   "source": [
    "!nvidia-smi"
   ]
  },
  {
   "cell_type": "code",
   "execution_count": 2,
   "id": "39ae1379",
   "metadata": {},
   "outputs": [],
   "source": [
    "%load_ext autoreload\n",
    "%autoreload 2"
   ]
  },
  {
   "cell_type": "code",
   "execution_count": 3,
   "id": "d38703df",
   "metadata": {},
   "outputs": [],
   "source": [
    "import tensorflow as tf\n",
    "import tensorflow_datasets as tfds\n",
    "import matplotlib.pyplot as plt\n",
    "import numpy as np\n",
    "from astropy.stats import mad_std\n",
    "import tensorflow.keras as tfk\n",
    "#from sfh.datasets.mergers import tng100_images_noiseless"
   ]
  },
  {
   "cell_type": "code",
   "execution_count": 4,
   "id": "5dddc854",
   "metadata": {},
   "outputs": [],
   "source": [
    "#train_dset=tfds.load('tng100_images_noiseless',split='train')"
   ]
  },
  {
   "cell_type": "code",
   "execution_count": 5,
   "id": "f1c3b8e3",
   "metadata": {},
   "outputs": [
    {
     "name": "stderr",
     "output_type": "stream",
     "text": [
      "2021-12-09 12:29:59.514944: I tensorflow/core/platform/cpu_feature_guard.cc:142] This TensorFlow binary is optimized with oneAPI Deep Neural Network Library (oneDNN) to use the following CPU instructions in performance-critical operations:  SSE3 SSE4.1 SSE4.2 AVX AVX2 AVX512F FMA\n",
      "To enable them in other operations, rebuild TensorFlow with the appropriate compiler flags.\n",
      "2021-12-09 12:30:00.154588: I tensorflow/core/common_runtime/gpu/gpu_device.cc:1510] Created device /job:localhost/replica:0/task:0/device:GPU:0 with 30998 MB memory:  -> device: 0, name: Tesla V100-SXM2-32GB, pci bus id: 0000:1c:00.0, compute capability: 7.0\n"
     ]
    }
   ],
   "source": [
    "train_dset,valid_dset,test_dset = tfds.load('tng100_images_noiseless', split=['train[:75%]','train[75%:85%]','train[85%:]'])"
   ]
  },
  {
   "cell_type": "code",
   "execution_count": 6,
   "id": "b8097934",
   "metadata": {},
   "outputs": [
    {
     "name": "stdout",
     "output_type": "stream",
     "text": [
      "<PrefetchDataset shapes: {image: (128, 128, 4), last_major_merger: (), object_id: ()}, types: {image: tf.float32, last_major_merger: tf.float32, object_id: tf.int32}> <PrefetchDataset shapes: {image: (128, 128, 4), last_major_merger: (), object_id: ()}, types: {image: tf.float32, last_major_merger: tf.float32, object_id: tf.int32}>\n"
     ]
    }
   ],
   "source": [
    "print(train_dset,test_dset)"
   ]
  },
  {
   "cell_type": "code",
   "execution_count": 7,
   "id": "1e7144c1",
   "metadata": {},
   "outputs": [
    {
     "name": "stdout",
     "output_type": "stream",
     "text": [
      "Test 1749\n",
      "Train 8744\n",
      "Train 1166\n",
      "Total 11659\n"
     ]
    }
   ],
   "source": [
    "print(\"Test\",len(test_dset))\n",
    "print(\"Train\",len(train_dset))\n",
    "print(\"Train\",len(valid_dset))\n",
    "print(\"Total\",len(train_dset)+len(test_dset)+len(valid_dset))"
   ]
  },
  {
   "cell_type": "code",
   "execution_count": 8,
   "id": "0d68edfc",
   "metadata": {},
   "outputs": [
    {
     "name": "stderr",
     "output_type": "stream",
     "text": [
      "2021-12-09 12:30:01.165283: I tensorflow/compiler/mlir/mlir_graph_optimization_pass.cc:185] None of the MLIR Optimization Passes are enabled (registered 2)\n"
     ]
    },
    {
     "data": {
      "image/png": "[encoded data removed]",
      "text/plain": [
       "<Figure size 432x288 with 1 Axes>"
      ]
     },
     "metadata": {
      "needs_background": "light"
     },
     "output_type": "display_data"
    },
    {
     "data": {
      "image/png": "[encoded data removed]",
      "text/plain": [
       "<Figure size 432x288 with 1 Axes>"
      ]
     },
     "metadata": {
      "needs_background": "light"
     },
     "output_type": "display_data"
    }
   ],
   "source": [
    "for example in train_dset.take(2):\n",
    "    plt.figure()\n",
    "    plt.imshow(example[\"image\"][:,:,1],cmap='gray')\n",
    "    lbt=float(example[\"last_major_merger\"])\n",
    "    plt.title(\"Last major merger \"+str(\"{:.1f}\".format(lbt))+\" Gyr ago\"+\"\\n Galaxy ID \"+str(int(example[\"object_id\"])))"
   ]
  },
  {
   "cell_type": "markdown",
   "id": "93566b52",
   "metadata": {},
   "source": [
    "**Check the distribution of the lookback times**"
   ]
  },
  {
   "cell_type": "code",
   "execution_count": 9,
   "id": "03d3309c",
   "metadata": {},
   "outputs": [],
   "source": [
    "# Let's collect a few examples to check their distributions\n",
    "lbts=[]\n",
    "for (batch, entry) in enumerate(train_dset.take(len(train_dset))):\n",
    "    lbts.append(float(entry['last_major_merger'])/13.6)\n",
    "lbts=np.array(lbts)"
   ]
  },
  {
   "cell_type": "code",
   "execution_count": 10,
   "id": "16e26370",
   "metadata": {},
   "outputs": [
    {
     "name": "stdout",
     "output_type": "stream",
     "text": [
      "There are 8744 values in the training set\n",
      "0.6898906712248014\n"
     ]
    },
    {
     "data": {
      "image/png": "[encoded data removed]",
      "text/plain": [
       "<Figure size 432x288 with 1 Axes>"
      ]
     },
     "metadata": {
      "needs_background": "light"
     },
     "output_type": "display_data"
    }
   ],
   "source": [
    "print(\"There are\",len(lbts),\"values in the training set\")\n",
    "plt.hist(lbts,20)\n",
    "plt.title(\"Histogram of the normalised lookback time\")\n",
    "plt.ylabel('Number')\n",
    "plt.xlabel(\"Normalised lookback time\")\n",
    "print(np.mean(lbts))"
   ]
  },
  {
   "cell_type": "markdown",
   "id": "96897d6c",
   "metadata": {},
   "source": [
    "**Normalise images**"
   ]
  },
  {
   "cell_type": "code",
   "execution_count": 11,
   "id": "6ea5097a",
   "metadata": {},
   "outputs": [],
   "source": [
    "# Let's collect a few examples to check their distributions\n",
    "imgs=[]\n",
    "for (batch, entry) in enumerate(train_dset.take(100)):\n",
    "    imgs.append(entry['image'])\n",
    "imgs=np.array(imgs)"
   ]
  },
  {
   "cell_type": "code",
   "execution_count": 12,
   "id": "dddcfb0d",
   "metadata": {},
   "outputs": [
    {
     "data": {
      "text/plain": [
       "Text(0.5, 1.0, 'Histogram of the pixel values in the first 300 NOISELESS images')"
      ]
     },
     "execution_count": 12,
     "metadata": {},
     "output_type": "execute_result"
    },
    {
     "data": {
      "image/png": "[encoded data removed]",
      "text/plain": [
       "<Figure size 432x288 with 1 Axes>"
      ]
     },
     "metadata": {
      "needs_background": "light"
     },
     "output_type": "display_data"
    }
   ],
   "source": [
    "#Check pixel distribution for a few images\n",
    "for i,b in enumerate(['g', 'r', 'i', 'z']):\n",
    "    plt.hist(imgs[:,:,:,i].flatten(),100, label=b)\n",
    "plt.legend()\n",
    "plt.yscale(\"log\")\n",
    "plt.ylabel(\"Number of pixels\")\n",
    "plt.xlabel(\"Values\")\n",
    "plt.title(\"Histogram of the pixel values in the first 300 NOISELESS images\")"
   ]
  },
  {
   "cell_type": "code",
   "execution_count": 13,
   "id": "16b0b041",
   "metadata": {},
   "outputs": [
    {
     "data": {
      "image/png": "[encoded data removed]",
      "text/plain": [
       "<Figure size 432x288 with 1 Axes>"
      ]
     },
     "metadata": {
      "needs_background": "light"
     },
     "output_type": "display_data"
    }
   ],
   "source": [
    "# Let's evaluate the noise standard deviation in each band, and apply range \n",
    "# compression accordingly\n",
    "scaling = []\n",
    "mean=[]\n",
    "for i,b in enumerate(['g', 'r', 'i', 'z']):\n",
    "    plt.hist(imgs[:,:,:,i].flatten(),100, label=b,alpha=0.5)#,range=[-100,100]);\n",
    "    sigma = mad_std(imgs[:,:,:,i].flatten())\n",
    "    scaling.append(sigma)\n",
    "    mean.append(np.mean(imgs[:,:,:,i].flatten()))\n",
    "    plt.axvline(sigma, color='C%d'%i,alpha=0.5)\n",
    "    plt.axvline(-sigma, color='C%d'%i,alpha=0.5)\n",
    "plt.legend()\n",
    "plt.yscale(\"log\")"
   ]
  },
  {
   "cell_type": "code",
   "execution_count": 14,
   "id": "2e062950",
   "metadata": {},
   "outputs": [
    {
     "data": {
      "text/plain": [
       "Text(0.5, 1.0, 'Histogram of the pixel values after rescaling by the standard deviation')"
      ]
     },
     "execution_count": 14,
     "metadata": {},
     "output_type": "execute_result"
    },
    {
     "data": {
      "image/png": "[encoded data removed]",
      "text/plain": [
       "<Figure size 432x288 with 1 Axes>"
      ]
     },
     "metadata": {
      "needs_background": "light"
     },
     "output_type": "display_data"
    }
   ],
   "source": [
    "# Let's have a look at this distribution if we rescale each band by the standard\n",
    "# deviation\n",
    "for i,b in enumerate(['g', 'r', 'i', 'z']):\n",
    "    plt.hist((imgs[:,:,:,i].flatten()-mean[i])/scaling[i],100, label=b,alpha=0.5)#,range=[-10,20]);\n",
    "plt.legend()\n",
    "plt.title(\"Histogram of the pixel values after rescaling by the standard deviation\")\n"
   ]
  },
  {
   "cell_type": "code",
   "execution_count": 15,
   "id": "5af8b4b7",
   "metadata": {},
   "outputs": [
    {
     "data": {
      "text/plain": [
       "Text(0.5, 1.0, 'Histogram of the pixel values after scaling by std and arcsinh')"
      ]
     },
     "execution_count": 15,
     "metadata": {},
     "output_type": "execute_result"
    },
    {
     "data": {
      "image/png": "[encoded data removed]",
      "text/plain": [
       "<Figure size 432x288 with 1 Axes>"
      ]
     },
     "metadata": {
      "needs_background": "light"
     },
     "output_type": "display_data"
    }
   ],
   "source": [
    "# a common approach for range compression is to apply arcsinh to suppress the\n",
    "# high amplitude values\n",
    "#Test with a compression factor manually adjusted\n",
    "for i,b in enumerate(['g', 'r', 'i', 'z']):\n",
    "    plt.hist(1/6*np.arcsinh((imgs[:,:,:,i].flatten()-mean[i])/scaling[i]*6),100,\n",
    "           label=b, alpha=0.5);\n",
    "plt.legend()\n",
    "plt.yscale('log')\n",
    "plt.title(\"Histogram of the pixel values after scaling by std and arcsinh\")"
   ]
  },
  {
   "cell_type": "code",
   "execution_count": 16,
   "id": "d3a8f941",
   "metadata": {},
   "outputs": [],
   "source": [
    "#Scaling with max"
   ]
  },
  {
   "cell_type": "code",
   "execution_count": 17,
   "id": "124cd9bc",
   "metadata": {},
   "outputs": [],
   "source": [
    "# Using a mapping function to apply preprocessing to our data\n",
    "def evaluate_scaling(train_dset):\n",
    "    \"\"\"\n",
    "    Evaluates the standard deviation of the pixel values in each band g,r,i,z.\n",
    "    Input: train_dset (tensforflow dataset): training datset on which we want to evaluate the scaling\n",
    "    Output: scaling (np array): array containig the std in each band\n",
    "            mean (np array): array containig the mean in each band\n",
    "    \"\"\"\n",
    "    #Takes 100 images from wich the std will be estimated  \n",
    "    imgs=[]\n",
    "    for (batch, entry) in enumerate(train_dset.take(100)):\n",
    "        imgs.append(entry['image'])\n",
    "    imgs=np.array(imgs)\n",
    "    #Computes the scaling\n",
    "    mean=[]\n",
    "    scaling = []\n",
    "    maximum=[]\n",
    "    for i,b in enumerate(['g', 'r', 'i', 'z']):\n",
    "        sigma = mad_std(imgs[:,:,:,i].flatten())\n",
    "        mean.append(np.mean(imgs[:,:,:,i].flatten()))\n",
    "        scaling.append(sigma)\n",
    "        maximum.append(np.max(imgs[:,:,:,i].flatten()))\n",
    "    return scaling,mean,maximum\n",
    "\n",
    "def preprocessing(example):\n",
    "    \"\"\"\n",
    "    Normalises the images from the original dataset, by dividing it by the std in each band and by appling arcsinh scaling.\n",
    "    NB: scaling and mean are global variablse, as this notebook is made only for one particular example and cannot be generalized without changing the code\n",
    "    NB: a compression factor for the arcsinh has been added to compress the values close to 0-1\n",
    "    Input: example (dict): example from the tensorflow dataset\n",
    "    Output: norm_img (np ndarray): normalised image\n",
    "            example[\"last_major_merger\"]: tf tensor containing the lookback time of the last major merger\n",
    "            example[\"object_id\"]: tf tensor containing the galaxy id        \n",
    "    \"\"\"\n",
    "    img=example[\"image\"]\n",
    "    #print(\"Before, type\", type(img),img)\n",
    "    ##norm_img=1/6*tf.math.asinh((img-mean)/tf.constant(scaling)*6)\n",
    "    #norm_img=1/6*tf.math.asinh((img)/tf.constant(scaling)*6)\n",
    "    \n",
    "    #norm_img=img/tf.constant(maximum)\n",
    "    ## Works better with maximum\n",
    "    norm_img=1/6*tf.math.asinh((img)/tf.constant(maximum)*6)\n",
    "    #Clipping values to the interval [-1,2.5]\n",
    "    #print(type(norm_img),norm_img)\n",
    "    #print(np.array(norm_img))\n",
    "    #plt.imshow(norm_img[:,:,1])\n",
    "    #norm_img=tf.Tensor(np.clip(np.array(norm_img),-1,2.5))\n",
    "    #print(norm_img[:,:,1])\n",
    "    \n",
    "    #Normalises output by 13.6 (age of the Universe)\n",
    "    example[\"last_major_merger\"]/=13.6\n",
    "    \n",
    "    return norm_img,float(example[\"last_major_merger\"])#,example[\"object_id\"]"
   ]
  },
  {
   "cell_type": "code",
   "execution_count": 18,
   "id": "4b33ebeb",
   "metadata": {},
   "outputs": [
    {
     "name": "stdout",
     "output_type": "stream",
     "text": [
      "[0.013293113401059552, 0.024231357420802166, 0.020571552039110794, 0.004017575382304042] [0.26849395, 0.50093114, 0.44640252, 0.09331725] [279.11002, 606.5274, 571.3022, 133.87555]\n"
     ]
    }
   ],
   "source": [
    "scaling,mean,maximum=evaluate_scaling(train_dset)\n",
    "print(scaling,mean,maximum)"
   ]
  },
  {
   "cell_type": "code",
   "execution_count": 19,
   "id": "ce316a38",
   "metadata": {},
   "outputs": [],
   "source": [
    "#Normalise the training dataset\n",
    "norm_train_dset = train_dset.map(preprocessing)"
   ]
  },
  {
   "cell_type": "code",
   "execution_count": 20,
   "id": "d12c30df",
   "metadata": {},
   "outputs": [
    {
     "data": {
      "image/png": "[encoded data removed]",
      "text/plain": [
       "<Figure size 432x288 with 2 Axes>"
      ]
     },
     "metadata": {
      "needs_background": "light"
     },
     "output_type": "display_data"
    },
    {
     "data": {
      "image/png": "[encoded data removed]",
      "text/plain": [
       "<Figure size 432x288 with 2 Axes>"
      ]
     },
     "metadata": {
      "needs_background": "light"
     },
     "output_type": "display_data"
    }
   ],
   "source": [
    "#Check the normalisation on a few examples\n",
    "norm_imgs,last_major_merger,object_id=[],[],[]\n",
    "for example in norm_train_dset.take(2):\n",
    "    #print(np.shape(ex))\n",
    "    plt.figure()\n",
    "    norm_imgs.append(example[0])\n",
    "    last_major_merger.append(float(example[1]))\n",
    "    #print(last_major_merger[-1])\n",
    "    plt.imshow(norm_imgs[-1][:,:,0],cmap='gray')\n",
    "    #print(norm_imgs[-1][:,:,0])\n",
    "    plt.title(\"Normalised image in g-band\")\n",
    "    plt.colorbar()"
   ]
  },
  {
   "cell_type": "code",
   "execution_count": 21,
   "id": "ff442d41",
   "metadata": {},
   "outputs": [
    {
     "name": "stdout",
     "output_type": "stream",
     "text": [
      "(500, 128, 128, 4) <class 'numpy.ndarray'>\n"
     ]
    },
    {
     "data": {
      "text/plain": [
       "Text(0.5, 1.0, 'Histogram of the pixel values after preprocessing')"
      ]
     },
     "execution_count": 21,
     "metadata": {},
     "output_type": "execute_result"
    },
    {
     "data": {
      "image/png": "[encoded data removed]",
      "text/plain": [
       "<Figure size 432x288 with 1 Axes>"
      ]
     },
     "metadata": {
      "needs_background": "light"
     },
     "output_type": "display_data"
    }
   ],
   "source": [
    "norm_imgs=[]\n",
    "for example in norm_train_dset.take(500):\n",
    "    norm_imgs.append(example[0])\n",
    "norm_imgs=np.array(norm_imgs)\n",
    "print(np.shape(norm_imgs),type(norm_imgs))\n",
    "\n",
    "for i,b in enumerate(['g', 'r', 'i', 'z']):\n",
    "    plt.hist(norm_imgs[:,:,:,i].flatten(),100,label=b, alpha=0.5);\n",
    "    \n",
    "plt.legend()\n",
    "plt.yscale('log')\n",
    "plt.title(\"Histogram of the pixel values after preprocessing\")"
   ]
  },
  {
   "cell_type": "markdown",
   "id": "1ef93d56",
   "metadata": {},
   "source": [
    "**Create the input pipeline**"
   ]
  },
  {
   "cell_type": "code",
   "execution_count": 22,
   "id": "b7a7f2f4",
   "metadata": {},
   "outputs": [],
   "source": [
    "def input_pipeline(mode='train', batch_size=64):\n",
    "    \"\"\"\n",
    "    Creates the input pipeline that loads the dataset and normalises the data\n",
    "    Possible modes: 'train', 'valid' or 'test'.\n",
    "    Input: mode (str): specifies the mode for train, validation or test\n",
    "           batch_size (int): size of the batch\n",
    "    Output= dataset (tf dataset): properly processes dataset\n",
    "    \"\"\"\n",
    "    if mode == 'train':\n",
    "        dataset = tfds.load('tng100_images_noiseless', split='train[:80%]')\n",
    "        dataset = dataset.repeat()\n",
    "        dataset = dataset.shuffle(10000)\n",
    "    elif mode=='valid':\n",
    "        dataset = tfds.load('tng100_images_noiseless', split='train[80%:90%]')\n",
    "    elif mode=='test':\n",
    "        dataset = tfds.load('tng100_images_noiseless', split='train[90%:]')\n",
    "\n",
    "    dataset = dataset.batch(batch_size, drop_remainder=True)\n",
    "    dataset = dataset.map(preprocessing) # Apply data preprocessing\n",
    "    dataset = dataset.prefetch(-1) # fetch next batches while training current one (-1 for autotune)\n",
    "    return dataset"
   ]
  },
  {
   "cell_type": "code",
   "execution_count": 23,
   "id": "fba377db",
   "metadata": {},
   "outputs": [],
   "source": [
    "input_train_dset=input_pipeline(mode='train', batch_size=64)"
   ]
  },
  {
   "cell_type": "code",
   "execution_count": 24,
   "id": "88bf94cb",
   "metadata": {},
   "outputs": [
    {
     "data": {
      "text/plain": [
       "<PrefetchDataset shapes: ((64, 128, 128, 4), (64,)), types: (tf.float32, tf.float32)>"
      ]
     },
     "execution_count": 24,
     "metadata": {},
     "output_type": "execute_result"
    }
   ],
   "source": [
    "input_train_dset"
   ]
  },
  {
   "cell_type": "code",
   "execution_count": 25,
   "id": "5b3ce771",
   "metadata": {},
   "outputs": [
    {
     "name": "stdout",
     "output_type": "stream",
     "text": [
      "(64, 128, 128, 4)\n"
     ]
    },
    {
     "data": {
      "image/png": "[encoded data removed]",
      "text/plain": [
       "<Figure size 432x288 with 1 Axes>"
      ]
     },
     "metadata": {
      "needs_background": "light"
     },
     "output_type": "display_data"
    }
   ],
   "source": [
    "for example in input_train_dset.take(1):\n",
    "    print(np.shape(example[0]))\n",
    "    plt.imshow(example[0][1,:,:,1],cmap='gray')"
   ]
  },
  {
   "cell_type": "markdown",
   "id": "1ad7d877",
   "metadata": {},
   "source": [
    "**INPUT DATASETS**"
   ]
  },
  {
   "cell_type": "code",
   "execution_count": 26,
   "id": "9fd034db",
   "metadata": {},
   "outputs": [],
   "source": [
    "#Input dataset\n",
    "dataset_training=input_pipeline(mode='train', batch_size=64)\n",
    "dataset_validation=input_pipeline(mode='valid', batch_size=64)\n",
    "dataset_test=input_pipeline(mode='test', batch_size=64)"
   ]
  },
  {
   "cell_type": "code",
   "execution_count": 27,
   "id": "3b579c14",
   "metadata": {},
   "outputs": [
    {
     "name": "stderr",
     "output_type": "stream",
     "text": [
      "WARNING:matplotlib.legend:No handles with labels found to put in legend.\n"
     ]
    },
    {
     "name": "stdout",
     "output_type": "stream",
     "text": [
      "normalised lbt 0.5475735068321228\n"
     ]
    },
    {
     "data": {
      "image/png": "[encoded data removed]",
      "text/plain": [
       "<Figure size 1080x360 with 4 Axes>"
      ]
     },
     "metadata": {
      "needs_background": "light"
     },
     "output_type": "display_data"
    }
   ],
   "source": [
    "#Displays a few examples\n",
    "for example in dataset_training.take(1):\n",
    "    plt.figure(figsize=(15,5))\n",
    "    plt.subplot(1,4,1)\n",
    "    plt.imshow(example[0][1,:,:,0],label='g')\n",
    "    plt.subplot(1,4,2)\n",
    "    plt.imshow(example[0][1,:,:,1],label='r')\n",
    "    plt.subplot(1,4,3)\n",
    "    plt.imshow(example[0][1,:,:,2])\n",
    "    plt.subplot(1,4,4)\n",
    "    plt.imshow(example[0][1,:,:,3])\n",
    "    plt.legend()  \n",
    "    print(\"normalised lbt\",float(example[1][1]))"
   ]
  },
  {
   "cell_type": "markdown",
   "id": "985d84d2",
   "metadata": {},
   "source": [
    "**Define a first simple non-probabilistic CNN**"
   ]
  },
  {
   "cell_type": "code",
   "execution_count": 28,
   "id": "19680e48",
   "metadata": {},
   "outputs": [],
   "source": [
    "def build_model_non_probabilistic():\n",
    "    \"\"\"\n",
    "    Creates a CNN that takes as input an image of a galaxy and predicts the corresponding lookback time\n",
    "    \"\"\"\n",
    "    #Define the model\n",
    "    model = tfk.models.Sequential()\n",
    "    #1st layer\n",
    "    model.add(tfk.layers.Conv2D(32, kernel_size=5, padding='same',input_shape=(128,128,4), activation='elu', strides=2))\n",
    "    model.add(tfk.layers.BatchNormalization())\n",
    "    #2nd layer\n",
    "    model.add(tfk.layers.Conv2D(64, kernel_size=5, padding='same', activation='relu', strides=2))\n",
    "    model.add(tfk.layers.BatchNormalization())\n",
    "    #Flatten layer\n",
    "    model.add(tfk.layers.Flatten())\n",
    "    #Dense\n",
    "    model.add(tfk.layers.Dense(256,activation='relu'))\n",
    "    #model.add(tfk.layers.Dropout(0.3))\n",
    "    model.add(tfk.layers.Dense(128,activation='relu'))\n",
    "    #Predict a single value, no activation function\n",
    "    model.add(tfk.layers.Dense(1))\n",
    "        \n",
    "    #Compile for a single value\n",
    "    model.compile(optimizer=tfk.optimizers.Adam(), # learning rate will be set by LearningRateScheduler\n",
    "                loss=tfk.metrics.mse)\n",
    "\n",
    "    return model"
   ]
  },
  {
   "cell_type": "code",
   "execution_count": 29,
   "id": "5d39789b",
   "metadata": {},
   "outputs": [
    {
     "name": "stdout",
     "output_type": "stream",
     "text": [
      "Model: \"sequential\"\n",
      "_________________________________________________________________\n",
      "Layer (type)                 Output Shape              Param #   \n",
      "=================================================================\n",
      "conv2d (Conv2D)              (None, 64, 64, 32)        3232      \n",
      "_________________________________________________________________\n",
      "batch_normalization (BatchNo (None, 64, 64, 32)        128       \n",
      "_________________________________________________________________\n",
      "conv2d_1 (Conv2D)            (None, 32, 32, 64)        51264     \n",
      "_________________________________________________________________\n",
      "batch_normalization_1 (Batch (None, 32, 32, 64)        256       \n",
      "_________________________________________________________________\n",
      "flatten (Flatten)            (None, 65536)             0         \n",
      "_________________________________________________________________\n",
      "dense (Dense)                (None, 256)               16777472  \n",
      "_________________________________________________________________\n",
      "dense_1 (Dense)              (None, 128)               32896     \n",
      "_________________________________________________________________\n",
      "dense_2 (Dense)              (None, 1)                 129       \n",
      "=================================================================\n",
      "Total params: 16,865,377\n",
      "Trainable params: 16,865,185\n",
      "Non-trainable params: 192\n",
      "_________________________________________________________________\n"
     ]
    }
   ],
   "source": [
    "model=build_model_non_probabilistic()\n",
    "model.summary()"
   ]
  },
  {
   "cell_type": "code",
   "execution_count": 30,
   "id": "071fbdfd",
   "metadata": {},
   "outputs": [
    {
     "name": "stdout",
     "output_type": "stream",
     "text": [
      "Epoch 1/10\n"
     ]
    },
    {
     "name": "stderr",
     "output_type": "stream",
     "text": [
      "2021-12-09 12:30:22.794314: I tensorflow/stream_executor/cuda/cuda_dnn.cc:369] Loaded cuDNN version 8101\n"
     ]
    },
    {
     "name": "stdout",
     "output_type": "stream",
     "text": [
      "156/156 [==============================] - 6s 16ms/step - loss: 11.8212 - val_loss: 0.4770\n",
      "Epoch 2/10\n",
      "156/156 [==============================] - 4s 28ms/step - loss: 0.0892 - val_loss: 0.3401\n",
      "Epoch 3/10\n",
      "156/156 [==============================] - 3s 17ms/step - loss: 0.0616 - val_loss: 0.0967\n",
      "Epoch 4/10\n",
      "156/156 [==============================] - 2s 15ms/step - loss: 0.1782 - val_loss: 79.7262\n",
      "Epoch 5/10\n",
      "156/156 [==============================] - 2s 15ms/step - loss: 0.0761 - val_loss: 0.3012\n",
      "Epoch 6/10\n",
      "156/156 [==============================] - 2s 15ms/step - loss: 0.1124 - val_loss: 0.6284\n",
      "Epoch 7/10\n",
      "156/156 [==============================] - 2s 16ms/step - loss: 0.1113 - val_loss: 0.0785\n",
      "Epoch 8/10\n",
      "156/156 [==============================] - 3s 18ms/step - loss: 0.0583 - val_loss: 0.0577\n",
      "Epoch 9/10\n",
      "156/156 [==============================] - 3s 17ms/step - loss: 0.0557 - val_loss: 0.0582\n",
      "Epoch 10/10\n",
      "156/156 [==============================] - 3s 16ms/step - loss: 0.0558 - val_loss: 0.0576\n"
     ]
    }
   ],
   "source": [
    "#Train the non probabilistic model\n",
    "history=model.fit(dataset_training,\n",
    "          validation_data=dataset_validation,\n",
    "          steps_per_epoch=10000//64,\n",
    "          epochs=10)"
   ]
  },
  {
   "cell_type": "code",
   "execution_count": 31,
   "id": "3b98ca37",
   "metadata": {},
   "outputs": [
    {
     "data": {
      "text/plain": [
       "<matplotlib.legend.Legend at 0x150fc838a650>"
      ]
     },
     "execution_count": 31,
     "metadata": {},
     "output_type": "execute_result"
    },
    {
     "data": {
      "image/png": "[encoded data removed]",
      "text/plain": [
       "<Figure size 432x288 with 1 Axes>"
      ]
     },
     "metadata": {
      "needs_background": "light"
     },
     "output_type": "display_data"
    }
   ],
   "source": [
    "#Plot loss functions\n",
    "loss=history.history[\"loss\"]\n",
    "val_loss=history.history[\"val_loss\"]\n",
    "\n",
    "epochs=np.linspace(0,10,len(loss))\n",
    "plt.plot(epochs,loss,label='training loss')\n",
    "plt.plot(epochs,val_loss,label='validation loss')\n",
    "plt.xlabel(\"Epochs\")\n",
    "plt.legend(loc='upper right')"
   ]
  },
  {
   "cell_type": "markdown",
   "id": "2662fa4e",
   "metadata": {},
   "source": [
    "Predictions"
   ]
  },
  {
   "cell_type": "code",
   "execution_count": 32,
   "id": "cd842258",
   "metadata": {},
   "outputs": [],
   "source": [
    "predictions = model.predict(dataset_test)"
   ]
  },
  {
   "cell_type": "code",
   "execution_count": 33,
   "id": "90c868fc",
   "metadata": {},
   "outputs": [],
   "source": [
    "# Retrieving last_major_merger for testing set\n",
    "BATCH_SIZE=64\n",
    "ground_truth = []\n",
    "#The order is the same in 'prediction' and when I take examples because there is no shuffle when loading the test dataset\n",
    "for im,lbt in dataset_test.take(len(dataset_test)):\n",
    "    ground_truth.append(lbt)\n",
    "ground_truth = np.concatenate(ground_truth, axis=0)"
   ]
  },
  {
   "cell_type": "code",
   "execution_count": 34,
   "id": "bc3ef292",
   "metadata": {},
   "outputs": [
    {
     "data": {
      "text/plain": [
       "Text(0.5, 1.0, 'For a simple non-probabilistic CNN')"
      ]
     },
     "execution_count": 34,
     "metadata": {},
     "output_type": "execute_result"
    },
    {
     "data": {
      "image/png": "[encoded data removed]",
      "text/plain": [
       "<Figure size 432x288 with 1 Axes>"
      ]
     },
     "metadata": {
      "needs_background": "light"
     },
     "output_type": "display_data"
    }
   ],
   "source": [
    "plt.plot(ground_truth, predictions,'.')\n",
    "plt.xlabel(\"True lookback time\")\n",
    "plt.ylabel(\"Predicted lookback time\")\n",
    "plt.plot([0,1],[0,1],color='r')\n",
    "plt.gca().set_aspect(\"equal\")\n",
    "plt.title(\"For a simple non-probabilistic CNN\")"
   ]
  },
  {
   "cell_type": "code",
   "execution_count": 35,
   "id": "504932bc",
   "metadata": {},
   "outputs": [
    {
     "data": {
      "text/plain": [
       "Text(0.5, 1.0, '2D-histogram for a simple non-probabilistic CNN')"
      ]
     },
     "execution_count": 35,
     "metadata": {},
     "output_type": "execute_result"
    },
    {
     "data": {
      "image/png": "[encoded data removed]",
      "text/plain": [
       "<Figure size 432x288 with 2 Axes>"
      ]
     },
     "metadata": {
      "needs_background": "light"
     },
     "output_type": "display_data"
    }
   ],
   "source": [
    "plt.hist2d(ground_truth, predictions.squeeze(), 64, cmap='gist_stern'); \n",
    "plt.gca().set_aspect('equal');\n",
    "plt.plot([0,1],[0,1],color='r')\n",
    "plt.xlabel('True lookback time')\n",
    "plt.ylabel('Predicted lookback time');\n",
    "plt.colorbar()\n",
    "plt.title(\"2D-histogram for a simple non-probabilistic CNN\")"
   ]
  },
  {
   "cell_type": "markdown",
   "id": "26961272",
   "metadata": {},
   "source": [
    "**Define a PROBABILISTIC network**"
   ]
  },
  {
   "cell_type": "code",
   "execution_count": 36,
   "id": "f32f2fe6",
   "metadata": {},
   "outputs": [],
   "source": [
    "import tensorflow_probability as tfp\n",
    "tfk = tf.keras\n",
    "tfkl = tf.keras.layers\n",
    "tfpl = tfp.layers\n",
    "tfd = tfp.distributions\n",
    "\n",
    "def build_model_probabilistic():\n",
    "    \"\"\"\n",
    "    Creates a probabilistic CNN that takes as input an image of a galaxy and predicts the distribution of the corresponding lookback time\n",
    "    \"\"\"\n",
    "    # Number of components in the Gaussian Mixture\n",
    "    num_components = 2\n",
    "    # Shape of the distribution\n",
    "    event_shape = [1]\n",
    "    # Utility function to compute how many parameters this distribution requires\n",
    "    params_size = tfp.layers.MixtureNormal.params_size(num_components, event_shape)\n",
    "\n",
    "    #Loss function\n",
    "    negloglik = lambda x, rv_x: -rv_x.log_prob(x)\n",
    "\n",
    "    #Define the model\n",
    "    model = tfk.models.Sequential()\n",
    "    #1st layer\n",
    "    model.add(tfk.layers.Conv2D(32, kernel_size=5, padding='same',input_shape=(128,128,4), activation='elu', strides=2))\n",
    "    model.add(tfk.layers.BatchNormalization())\n",
    "    #2nd layer\n",
    "    model.add(tfk.layers.Conv2D(64, kernel_size=5, padding='same', activation='relu', strides=2))\n",
    "    model.add(tfk.layers.BatchNormalization())\n",
    "    #Flatten layer\n",
    "    model.add(tfk.layers.Flatten())\n",
    "    #Dense\n",
    "    #model.add(tfk.layers.Dense(512,activation='relu'))\n",
    "    model.add(tfk.layers.Dense(256,activation='relu'))\n",
    "    #model.add(tfk.layers.Dropout(0.3))\n",
    "    model.add(tfk.layers.Dense(128,activation='relu'))\n",
    "    #Predict a distribution\n",
    "    model.add(tfkl.Dense(params_size))\n",
    "    model.add(tfp.layers.MixtureNormal(num_components, event_shape))\n",
    "    \n",
    "    model.compile(optimizer=tf.optimizers.Adam(learning_rate=1e-4),\n",
    "            loss=negloglik)\n",
    "\n",
    "    return model"
   ]
  },
  {
   "cell_type": "code",
   "execution_count": 37,
   "id": "120cdcdc",
   "metadata": {},
   "outputs": [
    {
     "name": "stdout",
     "output_type": "stream",
     "text": [
      "Model: \"sequential_1\"\n",
      "_________________________________________________________________\n",
      "Layer (type)                 Output Shape              Param #   \n",
      "=================================================================\n",
      "conv2d_2 (Conv2D)            (None, 64, 64, 32)        3232      \n",
      "_________________________________________________________________\n",
      "batch_normalization_2 (Batch (None, 64, 64, 32)        128       \n",
      "_________________________________________________________________\n",
      "conv2d_3 (Conv2D)            (None, 32, 32, 64)        51264     \n",
      "_________________________________________________________________\n",
      "batch_normalization_3 (Batch (None, 32, 32, 64)        256       \n",
      "_________________________________________________________________\n",
      "flatten_1 (Flatten)          (None, 65536)             0         \n",
      "_________________________________________________________________\n",
      "dense_3 (Dense)              (None, 256)               16777472  \n",
      "_________________________________________________________________\n",
      "dense_4 (Dense)              (None, 128)               32896     \n",
      "_________________________________________________________________\n",
      "dense_5 (Dense)              (None, 6)                 774       \n",
      "_________________________________________________________________\n",
      "mixture_normal (MixtureNorma multiple                  0         \n",
      "=================================================================\n",
      "Total params: 16,866,022\n",
      "Trainable params: 16,865,830\n",
      "Non-trainable params: 192\n",
      "_________________________________________________________________\n"
     ]
    },
    {
     "name": "stderr",
     "output_type": "stream",
     "text": [
      "2021-12-09 12:30:55.041444: W tensorflow/python/util/util.cc:348] Sets are not currently considered sequences, but this may change in the future, so consider avoiding using them.\n"
     ]
    }
   ],
   "source": [
    "model_probabilistic=build_model_probabilistic()\n",
    "model_probabilistic.summary()"
   ]
  },
  {
   "cell_type": "code",
   "execution_count": 38,
   "id": "299b89ad",
   "metadata": {},
   "outputs": [
    {
     "data": {
      "text/plain": [
       "\"#Input dataset\\ndataset_training=input_pipeline(mode='train', batch_size=64)\\ndataset_validation=input_pipeline(mode='valid', batch_size=64)\\ndataset_test=input_pipeline(mode='test', batch_size=64)\""
      ]
     },
     "execution_count": 38,
     "metadata": {},
     "output_type": "execute_result"
    }
   ],
   "source": [
    "\"\"\"#Input dataset\n",
    "dataset_training=input_pipeline(mode='train', batch_size=64)\n",
    "dataset_validation=input_pipeline(mode='valid', batch_size=64)\n",
    "dataset_test=input_pipeline(mode='test', batch_size=64)\"\"\""
   ]
  },
  {
   "cell_type": "code",
   "execution_count": 39,
   "id": "3f202bb4",
   "metadata": {},
   "outputs": [
    {
     "data": {
      "text/plain": [
       "'for example in dataset_training.take(2):\\n    #print(example[1])\\n    plt.figure(figsize=(15,5))\\n    plt.subplot(1,4,1)\\n    plt.imshow(example[0][1,:,:,0],label=\\'g\\')\\n    plt.subplot(1,4,2)\\n    plt.imshow(example[0][1,:,:,1],label=\\'r\\')\\n    plt.subplot(1,4,3)\\n    plt.imshow(example[0][1,:,:,2])\\n    plt.subplot(1,4,4)\\n    plt.imshow(example[0][1,:,:,3])\\n    plt.legend()  \\n    print(\"normalised lbt\",float(example[1][1]))'"
      ]
     },
     "execution_count": 39,
     "metadata": {},
     "output_type": "execute_result"
    }
   ],
   "source": [
    "\"\"\"for example in dataset_training.take(2):\n",
    "    #print(example[1])\n",
    "    plt.figure(figsize=(15,5))\n",
    "    plt.subplot(1,4,1)\n",
    "    plt.imshow(example[0][1,:,:,0],label='g')\n",
    "    plt.subplot(1,4,2)\n",
    "    plt.imshow(example[0][1,:,:,1],label='r')\n",
    "    plt.subplot(1,4,3)\n",
    "    plt.imshow(example[0][1,:,:,2])\n",
    "    plt.subplot(1,4,4)\n",
    "    plt.imshow(example[0][1,:,:,3])\n",
    "    plt.legend()  \n",
    "    print(\"normalised lbt\",float(example[1][1]))\"\"\""
   ]
  },
  {
   "cell_type": "code",
   "execution_count": 40,
   "id": "c981bb04",
   "metadata": {},
   "outputs": [
    {
     "name": "stdout",
     "output_type": "stream",
     "text": [
      "Epoch 1/10\n",
      "156/156 [==============================] - 5s 17ms/step - loss: 0.3800 - val_loss: 0.9911\n",
      "Epoch 2/10\n",
      "156/156 [==============================] - 2s 16ms/step - loss: 0.0512 - val_loss: 0.8824\n",
      "Epoch 3/10\n",
      "156/156 [==============================] - 2s 15ms/step - loss: 0.0114 - val_loss: 0.7087\n",
      "Epoch 4/10\n",
      "156/156 [==============================] - 3s 16ms/step - loss: -0.0642 - val_loss: 0.5347\n",
      "Epoch 5/10\n",
      "156/156 [==============================] - 4s 28ms/step - loss: -0.1112 - val_loss: 2.3992\n",
      "Epoch 6/10\n",
      "156/156 [==============================] - 4s 27ms/step - loss: -0.1050 - val_loss: 22385006.0000\n",
      "Epoch 7/10\n",
      "156/156 [==============================] - 3s 18ms/step - loss: -0.1592 - val_loss: 6579.6978\n",
      "Epoch 8/10\n",
      "156/156 [==============================] - 2s 15ms/step - loss: -0.1989 - val_loss: 3.3496\n",
      "Epoch 9/10\n",
      "156/156 [==============================] - 2s 15ms/step - loss: -0.2523 - val_loss: 6.0962\n",
      "Epoch 10/10\n",
      "156/156 [==============================] - 2s 15ms/step - loss: -0.2828 - val_loss: 5.4622\n"
     ]
    }
   ],
   "source": [
    "#Train the probabilistic model\n",
    "history_probabilistic=model_probabilistic.fit(dataset_training,\n",
    "          validation_data=dataset_validation,\n",
    "          steps_per_epoch=10000//64,\n",
    "          epochs=10)"
   ]
  },
  {
   "cell_type": "code",
   "execution_count": 41,
   "id": "9005265f",
   "metadata": {},
   "outputs": [
    {
     "data": {
      "text/plain": [
       "<matplotlib.legend.Legend at 0x1507c40daa50>"
      ]
     },
     "execution_count": 41,
     "metadata": {},
     "output_type": "execute_result"
    },
    {
     "data": {
      "image/png": "[encoded data removed]",
      "text/plain": [
       "<Figure size 432x288 with 1 Axes>"
      ]
     },
     "metadata": {
      "needs_background": "light"
     },
     "output_type": "display_data"
    }
   ],
   "source": [
    "loss=history_probabilistic.history[\"loss\"]\n",
    "val_loss=history_probabilistic.history[\"val_loss\"]\n",
    "\n",
    "epochs=np.linspace(0,10,len(loss))\n",
    "plt.plot(epochs,loss,label='training loss')\n",
    "plt.plot(epochs,val_loss,label='validation loss')\n",
    "plt.xlabel(\"Epochs\")\n",
    "plt.legend(loc='upper right')"
   ]
  },
  {
   "cell_type": "code",
   "execution_count": 44,
   "id": "c1409fd2",
   "metadata": {},
   "outputs": [],
   "source": [
    "#predictions = model.predict(dataset_test)\n",
    "for example in dataset_test.take(1):\n",
    "    predictions = model_probabilistic(example[0])"
   ]
  },
  {
   "cell_type": "code",
   "execution_count": 48,
   "id": "a1c1884f",
   "metadata": {},
   "outputs": [
    {
     "data": {
      "text/plain": [
       "(array([[0., 0., 0., ..., 0., 0., 0.],\n",
       "        [0., 0., 0., ..., 0., 0., 0.],\n",
       "        [0., 0., 0., ..., 0., 0., 0.],\n",
       "        ...,\n",
       "        [0., 0., 0., ..., 0., 0., 0.],\n",
       "        [0., 0., 0., ..., 0., 0., 0.],\n",
       "        [0., 0., 0., ..., 0., 0., 0.]]),\n",
       " array([-14.048573 , -10.72186  ,  -7.395148 ,  -4.068435 ,  -0.7417229,\n",
       "          2.5849895,   5.911702 ,   9.238415 ,  12.565126 ,  15.891839 ,\n",
       "         19.218552 ], dtype=float32),\n",
       " <a list of 1000 BarContainer objects>)"
      ]
     },
     "execution_count": 48,
     "metadata": {},
     "output_type": "execute_result"
    },
    {
     "data": {
      "image/png": "[encoded data removed]",
      "text/plain": [
       "<Figure size 432x288 with 1 Axes>"
      ]
     },
     "metadata": {
      "needs_background": "light"
     },
     "output_type": "display_data"
    }
   ],
   "source": [
    "predictions\n",
    "#print(np.shape(predictions.sample(1)))\n",
    "to_plot=predictions.sample(1000)\n",
    "plt.hist(to_plot[:,:,0])\n",
    "#plt.hist(to_plot[:,0,0].numpy().flatten(),20,alpha=0.5)\n",
    "#plt.hist(to_plot[:,1,0].numpy().flatten(),20,alpha=0.5)\n",
    "#plt.hist(to_plot[:,2,0].numpy().flatten(),20,alpha=0.5)"
   ]
  },
  {
   "cell_type": "code",
   "execution_count": null,
   "id": "fe0a9c62",
   "metadata": {},
   "outputs": [],
   "source": [
    "#t=np.linspace(0,1)\n",
    "#plt.plot(t,predictions.log_prob(t.reshape(1,50).repeat(64,0))[0])"
   ]
  },
  {
   "cell_type": "code",
   "execution_count": null,
   "id": "16bfd753",
   "metadata": {},
   "outputs": [],
   "source": [
    "print(len(predictions),predictions)\n",
    "#print(np.mean(predictions))"
   ]
  },
  {
   "cell_type": "code",
   "execution_count": null,
   "id": "180bcf74",
   "metadata": {},
   "outputs": [],
   "source": [
    "\"\"\"# Retrieving last_major_merger for testing set\n",
    "BATCH_SIZE=64\n",
    "ground_truth = []\n",
    "#Même ordre car pas de shuffle\n",
    "for im,lbt in dataset_test.take(len(dataset_test)):\n",
    "#for im, lbt in input_pipeline('test', BATCH_SIZE):\n",
    "    ground_truth.append(lbt)\n",
    "ground_truth = np.concatenate(ground_truth, axis=0)\"\"\""
   ]
  },
  {
   "cell_type": "code",
   "execution_count": null,
   "id": "4952a110",
   "metadata": {},
   "outputs": [],
   "source": [
    "\"\"\"plt.plot(ground_truth, predictions,'.')\n",
    "plt.xlabel(\"True lookback time\")\n",
    "plt.ylabel(\"Predicted lookback time\")\n",
    "plt.plot([0,1],[0,1],color='r')\n",
    "plt.gca().set_aspect(\"equal\")\"\"\""
   ]
  },
  {
   "cell_type": "code",
   "execution_count": null,
   "id": "725a4fc2",
   "metadata": {},
   "outputs": [],
   "source": [
    "\"\"\"#plt.hist2d(ground_truth, predictions.squeeze(), 64,range=[[0,1],[0,1]], cmap='gist_stern'); \n",
    "plt.hist2d(ground_truth, predictions.squeeze(), 64, cmap='gist_stern'); \n",
    "\n",
    "plt.gca().set_aspect('equal');\n",
    "plt.plot([0,1],[0,1],color='r')\n",
    "plt.xlabel('True lookback time')\n",
    "plt.ylabel('Predicted lookback time');\n",
    "plt.colorbar()\"\"\""
   ]
  }
 ],
 "metadata": {
  "kernelspec": {
   "display_name": "Python 3 (ipykernel)",
   "language": "python",
   "name": "python3"
  },
  "language_info": {
   "codemirror_mode": {
    "name": "ipython",
    "version": 3
   },
   "file_extension": ".py",
   "mimetype": "text/x-python",
   "name": "python",
   "nbconvert_exporter": "python",
   "pygments_lexer": "ipython3",
   "version": "3.7.10"
  }
 },
 "nbformat": 4,
 "nbformat_minor": 5
}
