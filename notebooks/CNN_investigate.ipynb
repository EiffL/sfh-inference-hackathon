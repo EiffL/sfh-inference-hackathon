{
 "cells": [
  {
   "cell_type": "markdown",
   "id": "b04bccf6",
   "metadata": {},
   "source": [
    "# Notebook to investigate Dense Network [Last Mass]"
   ]
  },
  {
   "cell_type": "code",
   "execution_count": 20,
   "id": "53d55b96",
   "metadata": {},
   "outputs": [],
   "source": [
    "# imports\n",
    "from random import randint\n",
    "import datetime\n",
    "import numpy as np\n",
    "import tensorflow as tf\n",
    "from tensorflow.keras import layers as tfkl\n",
    "import tensorflow_datasets as tfds\n",
    "from tqdm import trange\n",
    "# import my_dataset\n",
    "import matplotlib.pyplot as plt\n",
    "data_dir='/gpfsscratch/rech/qrc/commun/tensorflow_datasets'"
   ]
  },
  {
   "cell_type": "code",
   "execution_count": null,
   "id": "156a48d6",
   "metadata": {},
   "outputs": [],
   "source": []
  },
  {
   "cell_type": "code",
   "execution_count": 2,
   "id": "caa8a8ac",
   "metadata": {},
   "outputs": [],
   "source": [
    "from sfh.datasets.tng100 import tng100\n",
    "dset = tfds.load('tng100', split='train', data_dir=data_dir)"
   ]
  },
  {
   "cell_type": "code",
   "execution_count": 3,
   "id": "4cf1f27c",
   "metadata": {},
   "outputs": [
    {
     "name": "stdout",
     "output_type": "stream",
     "text": [
      "dict_keys(['Mstar', 'Mstar_Half', 'SFR_Max', 'SFR_Rad', 'SFR_halfRad', 'last_major_merger', 'last_over_max', 'mass_quantiles', 'noiseless_griz', 'object_id', 'sed', 'stellar_light', 'time', 'velocity_dispersion_map', 'velocity_map'])\n"
     ]
    }
   ],
   "source": [
    "for example in dset.take(1):\n",
    "    print(example.keys())"
   ]
  },
  {
   "cell_type": "code",
   "execution_count": 5,
   "id": "a6af17a2",
   "metadata": {},
   "outputs": [
    {
     "name": "stdout",
     "output_type": "stream",
     "text": [
      "Populating the interactive namespace from numpy and matplotlib\n"
     ]
    },
    {
     "data": {
      "image/png": "[encoded data removed]",
      "text/plain": [
       "<Figure size 432x288 with 1 Axes>"
      ]
     },
     "metadata": {
      "needs_background": "light"
     },
     "output_type": "display_data"
    }
   ],
   "source": [
    "%pylab inline\n",
    "plot(example['time'], example['Mstar'])\n",
    "for i in example['mass_quantiles']:\n",
    "    axvline(i)"
   ]
  },
  {
   "cell_type": "code",
   "execution_count": 8,
   "id": "ff5847bf",
   "metadata": {},
   "outputs": [],
   "source": [
    "# functions\n",
    "\n",
    "def Model(nb_summaries):\n",
    "    \"\"\" Creates a small fully connected network\n",
    "    \"\"\"\n",
    "    return tf.keras.Sequential([\n",
    "        tfkl.Input(shape=(143)),\n",
    "        tfkl.Dense(8, activation='relu'),\n",
    "        tfkl.Dense(16, activation='relu'),\n",
    "        tfkl.Dense(32, activation='relu'),\n",
    "        tfkl.Dense(64, activation='relu'),\n",
    "        tfkl.Dense(128, activation='relu'),\n",
    "        tfkl.Dense(256, activation='relu'),\n",
    "        tfkl.Dense(512, activation='relu'),\n",
    "        tfkl.Dense(nb_summaries, activation='softplus')\n",
    "        ])\n",
    "\n",
    "def to_mag(x):\n",
    "    return (-2.5*tf.math.log(x)+8.90)\n",
    "\n",
    "def preprocessing(example):\n",
    "#     def conv(x):\n",
    "    example['flux'] = to_mag(example['flux'])\n",
    "    example['flux'] = example['flux']/46.\n",
    "    return example['flux'], example['mass'][0]\n",
    "\n",
    "def preprocessing_test(example):\n",
    "#     def conv(x):\n",
    "    example['flux'] = to_mag(example['flux'])\n",
    "    example['flux'] = example['flux']/46.\n",
    "    #example = example[np.where(example['mass']>0.5)]\n",
    "    return example['flux'], example['mass'][0], example['mass'], example['time'], example['quantile']\n",
    "\n",
    "#     img = tf.math.asinh(example['image'] / tf.constant(scaling) / 3. )\n",
    "#   # We return the image as our input and output for a generative model\n",
    "#   return img\n",
    "\n",
    "def input_fn(mode='train', batch_size=32):\n",
    "    \"\"\"\n",
    "    mode: 'train' or 'test'\n",
    "    \"\"\"\n",
    "    if mode == 'train':\n",
    "        dataset = tfds.load('sfhsed', split='train[:80%]', data_dir=data_dir)\n",
    "        dataset = dataset.repeat()\n",
    "        dataset = dataset.shuffle(10000)\n",
    "        dataset = dataset.filter(lambda x: x['has_sfh'] == True) # adding a filtering condition to exclude empty catalogs\n",
    "        #dataset = dataset.filter(lambda x: x['last_over_max'] > 0.9) # adding a filtering condition to gold samples\n",
    "        dataset = dataset.map(preprocessing) # Apply data preprocessing\n",
    "    else:\n",
    "        dataset = tfds.load('sfhsed', split='train[20%:]', data_dir=data_dir)\n",
    "        dataset = dataset.filter(lambda x: x['has_sfh'] == True) # adding a filtering condition to exclude empty catalogs\n",
    "        #dataset = dataset.filter(lambda x: x['last_over_max'] > 0.9) # adding a filtering condition to gold samples\n",
    "        dataset = dataset.map(preprocessing_test) # Apply data preprocessing\n",
    "    \n",
    "    dataset = dataset.batch(batch_size, drop_remainder=True)\n",
    "\n",
    "    dataset = dataset.prefetch(-1)  # fetch next batches while training current one (-1 for autotune)\n",
    "    return dataset"
   ]
  },
  {
   "cell_type": "code",
   "execution_count": 9,
   "id": "13a628da",
   "metadata": {},
   "outputs": [],
   "source": [
    "dset = input_fn()"
   ]
  },
  {
   "cell_type": "code",
   "execution_count": 19,
   "id": "fc9be1c6",
   "metadata": {},
   "outputs": [
    {
     "ename": "NameError",
     "evalue": "name 'label' is not defined",
     "output_type": "error",
     "traceback": [
      "\u001b[0;31m---------------------------------------------------------------------------\u001b[0m\n\u001b[0;31mNameError\u001b[0m                                 Traceback (most recent call last)",
      "File \u001b[0;34m/gpfs7kro/gpfslocalsup/pub/anaconda-py3/2021.05/envs/tensorflow-gpu-2.6.0/lib/python3.7/site-packages/IPython/core/interactiveshell.py\u001b[0m, in \u001b[0;32mrun_code\u001b[0m:\nLine \u001b[0;34m3441\u001b[0m:  exec(code_obj, \u001b[36mself\u001b[39;49;00m.user_global_ns, \u001b[36mself\u001b[39;49;00m.user_ns)\n",
      "In  \u001b[0;34m[19]\u001b[0m:\nLine \u001b[0;34m10\u001b[0m:    checkpoint_filepath = \u001b[33m'\u001b[39;49;00m\u001b[33m/gpfsscratch/rech/qrc/commun/sfhsed/checkpoint/\u001b[39;49;00m\u001b[33m'\u001b[39;49;00m+label+\u001b[33m'\u001b[39;49;00m\u001b[33m/\u001b[39;49;00m\u001b[33m'\u001b[39;49;00m+now\n",
      "\u001b[0;31mNameError\u001b[0m: name 'label' is not defined\n\u001b[0;31m---------------------------------------------------------------------------\u001b[0m"
     ]
    }
   ],
   "source": [
    "model = Model(1)\n",
    "# print(model.summary)\n",
    "# dset = input_fn()\n",
    "\n",
    "model.compile(optimizer=tf.keras.optimizers.Adam(),\n",
    "              loss=tf.keras.losses.MSE, metrics=['accuracy'])\n",
    "\n",
    "EPOCHS = 200\n",
    "now = str(datetime.datetime.now())[0:16].replace('-','_').replace(' ','_').replace(':','_')\n",
    "checkpoint_filepath = '/gpfsscratch/rech/qrc/commun/sfhsed/checkpoint/'+label+'/'+now\n",
    "model_checkpoint_callback = tf.keras.callbacks.ModelCheckpoint(\n",
    "    filepath=checkpoint_filepath,\n",
    "    save_weights_only=True,\n",
    "    monitor='val_accuracy',\n",
    "    mode='max',\n",
    "    save_best_only=False)\n",
    "# The model weights (that are considered the best) are loaded into the model."
   ]
  },
  {
   "cell_type": "code",
   "execution_count": 43,
   "id": "120ddeb0",
   "metadata": {
    "collapsed": true,
    "jupyter": {
     "outputs_hidden": true
    }
   },
   "outputs": [
    {
     "name": "stdout",
     "output_type": "stream",
     "text": [
      "Epoch 1/200\n",
      "200/200 [==============================] - ETA: 2:02 - loss: 4.3550 - accuracy: 0.0000e+ - ETA: 0s - loss: 4.1108 - accuracy: 0.0000e+00 - ETA: 0s - loss: 2.9895 - accuracy: 0.0000e+ - ETA: 0s - loss: 2.3560 - accuracy: 0.0000e+ - ETA: 0s - loss: 1.8599 - accuracy: 0.0000e+ - ETA: 0s - loss: 1.8301 - accuracy: 0.0000e+ - ETA: 0s - loss: 1.9890 - accuracy: 0.0000e+ - ETA: 0s - loss: 2.2095 - accuracy: 0.0000e+ - 1s 2ms/step - loss: 2.2142 - accuracy: 0.0000e+00\n",
      "Epoch 2/200\n",
      "200/200 [==============================] - ETA: 0s - loss: 0.7828 - accuracy: 0.0000e+ - ETA: 0s - loss: 11.0413 - accuracy: 0.0000e+0 - ETA: 0s - loss: 8.0035 - accuracy: 0.0000e+0 - ETA: 0s - loss: 5.7380 - accuracy: 0.0000e+ - ETA: 0s - loss: 4.9744 - accuracy: 0.0000e+ - ETA: 0s - loss: 4.5138 - accuracy: 0.0000e+ - ETA: 0s - loss: 4.0984 - accuracy: 0.0000e+ - ETA: 0s - loss: 3.7839 - accuracy: 0.0000e+ - 0s 2ms/step - loss: 3.6787 - accuracy: 0.0000e+00\n",
      "Epoch 3/200\n",
      "200/200 [==============================] - ETA: 0s - loss: 0.7607 - accuracy: 0.0000e+ - ETA: 0s - loss: 0.1682 - accuracy: 0.0000e+ - ETA: 0s - loss: 0.1755 - accuracy: 0.0000e+ - ETA: 0s - loss: 0.1684 - accuracy: 0.0000e+ - ETA: 0s - loss: 0.1612 - accuracy: 0.0000e+ - ETA: 0s - loss: 0.1777 - accuracy: 0.0000e+ - ETA: 0s - loss: 0.1671 - accuracy: 0.0000e+ - ETA: 0s - loss: 0.3080 - accuracy: 0.0000e+ - 0s 2ms/step - loss: 0.3054 - accuracy: 0.0000e+00\n",
      "Epoch 4/200\n",
      "200/200 [==============================] - ETA: 0s - loss: 0.0785 - accuracy: 0.0000e+ - ETA: 0s - loss: 0.1190 - accuracy: 0.0000e+ - ETA: 0s - loss: 0.1548 - accuracy: 0.0000e+ - ETA: 0s - loss: 0.1832 - accuracy: 0.0000e+ - ETA: 0s - loss: 0.1931 - accuracy: 0.0000e+ - ETA: 0s - loss: 0.2624 - accuracy: 0.0000e+ - ETA: 0s - loss: 0.4212 - accuracy: 0.0000e+ - ETA: 0s - loss: 0.4518 - accuracy: 0.0000e+ - 0s 2ms/step - loss: 0.5038 - accuracy: 0.0000e+00\n",
      "Epoch 5/200\n",
      "200/200 [==============================] - ETA: 0s - loss: 0.1548 - accuracy: 0.0000e+ - ETA: 0s - loss: 3.0174 - accuracy: 0.0000e+ - ETA: 0s - loss: 2.8532 - accuracy: 0.0000e+ - ETA: 0s - loss: 4.0978 - accuracy: 0.0000e+ - ETA: 0s - loss: 3.7949 - accuracy: 0.0000e+ - ETA: 0s - loss: 3.6423 - accuracy: 0.0000e+ - ETA: 0s - loss: 3.1549 - accuracy: 0.0000e+ - ETA: 0s - loss: 3.1318 - accuracy: 0.0000e+ - 0s 2ms/step - loss: 3.0935 - accuracy: 0.0000e+00\n",
      "Epoch 6/200\n",
      "200/200 [==============================] - ETA: 0s - loss: 0.2675 - accuracy: 0.0000e+ - ETA: 0s - loss: 1.0838 - accuracy: 0.0000e+ - ETA: 0s - loss: 0.8343 - accuracy: 0.0000e+ - ETA: 0s - loss: 1.3724 - accuracy: 0.0000e+ - ETA: 0s - loss: 1.1890 - accuracy: 0.0000e+ - ETA: 0s - loss: 1.0618 - accuracy: 0.0000e+ - ETA: 0s - loss: 0.9564 - accuracy: 0.0000e+ - ETA: 0s - loss: 0.8548 - accuracy: 0.0000e+ - 0s 2ms/step - loss: 0.8435 - accuracy: 0.0000e+00\n",
      "Epoch 7/200\n",
      "200/200 [==============================] - ETA: 0s - loss: 0.2102 - accuracy: 0.0000e+ - ETA: 0s - loss: 2.5176 - accuracy: 0.0000e+ - ETA: 0s - loss: 3.9213 - accuracy: 0.0000e+ - ETA: 0s - loss: 3.8889 - accuracy: 0.0000e+ - ETA: 0s - loss: 4.3869 - accuracy: 0.0000e+ - ETA: 0s - loss: 4.9872 - accuracy: 0.0000e+ - ETA: 0s - loss: 5.1722 - accuracy: 0.0000e+ - ETA: 0s - loss: 4.5986 - accuracy: 0.0000e+ - 0s 2ms/step - loss: 4.5328 - accuracy: 0.0000e+00\n",
      "Epoch 8/200\n",
      "200/200 [==============================] - ETA: 0s - loss: 0.0790 - accuracy: 0.0000e+ - ETA: 0s - loss: 0.1467 - accuracy: 0.0000e+ - ETA: 0s - loss: 0.6933 - accuracy: 0.0000e+ - ETA: 0s - loss: 0.5505 - accuracy: 0.0000e+ - ETA: 0s - loss: 0.4465 - accuracy: 0.0000e+ - ETA: 0s - loss: 0.3787 - accuracy: 0.0000e+ - ETA: 0s - loss: 0.3293 - accuracy: 0.0000e+ - ETA: 0s - loss: 0.2958 - accuracy: 0.0000e+ - 0s 2ms/step - loss: 0.2932 - accuracy: 0.0000e+00\n",
      "Epoch 9/200\n",
      "200/200 [==============================] - ETA: 0s - loss: 0.0219 - accuracy: 0.0000e+ - ETA: 0s - loss: 0.4841 - accuracy: 0.0000e+ - ETA: 0s - loss: 0.3159 - accuracy: 0.0000e+ - ETA: 0s - loss: 0.2438 - accuracy: 0.0000e+ - ETA: 0s - loss: 0.2176 - accuracy: 0.0000e+ - ETA: 0s - loss: 0.1941 - accuracy: 0.0000e+ - ETA: 0s - loss: 0.1721 - accuracy: 0.0000e+ - ETA: 0s - loss: 0.1817 - accuracy: 0.0000e+ - 0s 2ms/step - loss: 0.1807 - accuracy: 0.0000e+00\n",
      "Epoch 10/200\n",
      "200/200 [==============================] - ETA: 0s - loss: 0.1276 - accuracy: 0.0000e+ - ETA: 0s - loss: 0.2781 - accuracy: 0.0000e+ - ETA: 0s - loss: 0.1812 - accuracy: 0.0000e+ - ETA: 0s - loss: 0.1395 - accuracy: 0.0000e+ - ETA: 0s - loss: 0.2510 - accuracy: 0.0000e+ - ETA: 0s - loss: 0.3198 - accuracy: 0.0000e+ - ETA: 0s - loss: 0.4531 - accuracy: 0.0000e+ - ETA: 0s - loss: 0.4500 - accuracy: 0.0000e+ - 0s 2ms/step - loss: 0.4467 - accuracy: 0.0000e+00\n",
      "Epoch 11/200\n",
      "200/200 [==============================] - ETA: 0s - loss: 0.2668 - accuracy: 0.0000e+ - ETA: 0s - loss: 0.3558 - accuracy: 0.0000e+ - ETA: 0s - loss: 0.3299 - accuracy: 0.0000e+ - ETA: 0s - loss: 0.2916 - accuracy: 0.0000e+ - ETA: 0s - loss: 0.2982 - accuracy: 0.0000e+ - ETA: 0s - loss: 0.2549 - accuracy: 0.0000e+ - ETA: 0s - loss: 0.2444 - accuracy: 0.0000e+ - ETA: 0s - loss: 0.2189 - accuracy: 0.0000e+ - 0s 2ms/step - loss: 0.2163 - accuracy: 0.0000e+00\n",
      "Epoch 12/200\n",
      "200/200 [==============================] - ETA: 0s - loss: 0.0086 - accuracy: 0.0000e+ - ETA: 0s - loss: 0.0551 - accuracy: 0.0000e+ - ETA: 0s - loss: 0.0760 - accuracy: 0.0000e+ - ETA: 0s - loss: 0.0662 - accuracy: 0.0000e+ - ETA: 0s - loss: 0.0619 - accuracy: 0.0000e+ - ETA: 0s - loss: 0.0583 - accuracy: 0.0000e+ - ETA: 0s - loss: 0.0593 - accuracy: 0.0000e+ - ETA: 0s - loss: 0.0693 - accuracy: 0.0000e+ - 0s 2ms/step - loss: 0.0812 - accuracy: 0.0000e+00\n",
      "Epoch 13/200\n",
      "200/200 [==============================] - ETA: 0s - loss: 0.2416 - accuracy: 0.0000e+ - ETA: 0s - loss: 0.1661 - accuracy: 0.0000e+ - ETA: 0s - loss: 0.3174 - accuracy: 0.0000e+ - ETA: 0s - loss: 0.2447 - accuracy: 0.0000e+ - ETA: 0s - loss: 0.3058 - accuracy: 0.0000e+ - ETA: 0s - loss: 0.2701 - accuracy: 0.0000e+ - ETA: 0s - loss: 0.8029 - accuracy: 0.0000e+ - ETA: 0s - loss: 0.8595 - accuracy: 0.0000e+ - 0s 2ms/step - loss: 0.8477 - accuracy: 0.0000e+00\n",
      "Epoch 14/200\n",
      "200/200 [==============================] - ETA: 0s - loss: 4.8169 - accuracy: 0.0000e+ - ETA: 0s - loss: 1.3676 - accuracy: 0.0000e+ - ETA: 0s - loss: 0.8602 - accuracy: 0.0000e+ - ETA: 0s - loss: 1.8119 - accuracy: 0.0000e+ - ETA: 0s - loss: 1.4240 - accuracy: 0.0000e+ - ETA: 0s - loss: 1.1676 - accuracy: 0.0000e+ - ETA: 0s - loss: 1.0349 - accuracy: 0.0000e+ - ETA: 0s - loss: 0.9102 - accuracy: 0.0000e+ - 0s 2ms/step - loss: 0.8991 - accuracy: 0.0000e+00\n",
      "Epoch 15/200\n",
      "200/200 [==============================] - ETA: 0s - loss: 0.1120 - accuracy: 0.0000e+ - ETA: 0s - loss: 0.1680 - accuracy: 0.0000e+ - ETA: 0s - loss: 0.1236 - accuracy: 0.0000e+ - ETA: 0s - loss: 0.1278 - accuracy: 0.0000e+ - ETA: 0s - loss: 0.1687 - accuracy: 0.0000e+ - ETA: 0s - loss: 0.1683 - accuracy: 0.0000e+ - ETA: 0s - loss: 0.1651 - accuracy: 0.0000e+ - ETA: 0s - loss: 0.1957 - accuracy: 0.0000e+ - 0s 2ms/step - loss: 0.1937 - accuracy: 0.0000e+00\n",
      "Epoch 16/200\n",
      "200/200 [==============================] - ETA: 0s - loss: 0.0898 - accuracy: 0.0000e+ - ETA: 0s - loss: 0.2361 - accuracy: 0.0000e+ - ETA: 0s - loss: 0.6422 - accuracy: 0.0000e+ - ETA: 0s - loss: 0.7591 - accuracy: 0.0000e+ - ETA: 0s - loss: 0.7570 - accuracy: 0.0000e+ - ETA: 0s - loss: 0.6938 - accuracy: 0.0000e+ - ETA: 0s - loss: 0.6022 - accuracy: 0.0000e+ - ETA: 0s - loss: 0.5560 - accuracy: 0.0000e+ - 0s 2ms/step - loss: 0.5706 - accuracy: 0.0000e+00\n",
      "Epoch 17/200\n",
      "200/200 [==============================] - ETA: 0s - loss: 0.1486 - accuracy: 0.0000e+ - ETA: 0s - loss: 0.6203 - accuracy: 0.0000e+ - ETA: 0s - loss: 0.4624 - accuracy: 0.0000e+ - ETA: 0s - loss: 0.3649 - accuracy: 0.0000e+ - ETA: 0s - loss: 0.2872 - accuracy: 0.0000e+ - ETA: 0s - loss: 0.2717 - accuracy: 0.0000e+ - ETA: 0s - loss: 0.5614 - accuracy: 0.0000e+ - ETA: 0s - loss: 1.2288 - accuracy: 0.0000e+ - 0s 2ms/step - loss: 1.5104 - accuracy: 0.0000e+00\n",
      "Epoch 18/200\n",
      "200/200 [==============================] - ETA: 0s - loss: 1.7002 - accuracy: 0.0000e+ - ETA: 0s - loss: 2.2216 - accuracy: 0.0000e+ - ETA: 0s - loss: 3.7220 - accuracy: 0.0000e+ - ETA: 0s - loss: 4.2863 - accuracy: 0.0000e+ - ETA: 0s - loss: 4.3437 - accuracy: 0.0000e+ - ETA: 0s - loss: 5.1134 - accuracy: 0.0000e+ - ETA: 0s - loss: 4.4669 - accuracy: 0.0000e+ - ETA: 0s - loss: 4.0046 - accuracy: 0.0000e+ - 0s 2ms/step - loss: 3.9511 - accuracy: 0.0000e+00\n",
      "Epoch 19/200\n",
      "200/200 [==============================] - ETA: 0s - loss: 0.4665 - accuracy: 0.0000e+ - ETA: 0s - loss: 0.2041 - accuracy: 0.0000e+ - ETA: 0s - loss: 0.1651 - accuracy: 0.0000e+ - ETA: 0s - loss: 0.2561 - accuracy: 0.0000e+ - ETA: 0s - loss: 0.2177 - accuracy: 0.0000e+ - ETA: 0s - loss: 0.1845 - accuracy: 0.0000e+ - ETA: 0s - loss: 0.1622 - accuracy: 0.0000e+ - ETA: 0s - loss: 0.1482 - accuracy: 0.0000e+ - 0s 2ms/step - loss: 0.1468 - accuracy: 0.0000e+00\n",
      "Epoch 20/200\n",
      "200/200 [==============================] - ETA: 0s - loss: 0.0094 - accuracy: 0.0000e+ - ETA: 0s - loss: 0.9280 - accuracy: 0.0000e+ - ETA: 0s - loss: 0.8462 - accuracy: 0.0000e+ - ETA: 0s - loss: 0.7132 - accuracy: 0.0000e+ - ETA: 0s - loss: 0.6199 - accuracy: 0.0000e+ - ETA: 0s - loss: 0.5155 - accuracy: 0.0000e+ - ETA: 0s - loss: 0.4377 - accuracy: 0.0000e+ - ETA: 0s - loss: 0.3879 - accuracy: 0.0000e+ - 0s 2ms/step - loss: 0.3830 - accuracy: 0.0000e+00\n",
      "Epoch 21/200\n",
      "200/200 [==============================] - ETA: 0s - loss: 0.0090 - accuracy: 0.0000e+ - ETA: 0s - loss: 0.0505 - accuracy: 0.0000e+ - ETA: 0s - loss: 0.1344 - accuracy: 0.0000e+ - ETA: 0s - loss: 0.1106 - accuracy: 0.0000e+ - ETA: 0s - loss: 0.1065 - accuracy: 0.0000e+ - ETA: 0s - loss: 0.1051 - accuracy: 0.0000e+ - ETA: 0s - loss: 0.0946 - accuracy: 0.0000e+ - ETA: 0s - loss: 0.0921 - accuracy: 0.0000e+ - 0s 2ms/step - loss: 0.0918 - accuracy: 0.0000e+00\n",
      "Epoch 22/200\n",
      "200/200 [==============================] - ETA: 0s - loss: 0.0224 - accuracy: 0.0000e+ - ETA: 0s - loss: 0.0669 - accuracy: 0.0000e+ - ETA: 0s - loss: 0.0724 - accuracy: 0.0000e+ - ETA: 0s - loss: 0.0690 - accuracy: 0.0000e+ - ETA: 0s - loss: 0.0692 - accuracy: 0.0000e+ - ETA: 0s - loss: 0.0739 - accuracy: 0.0000e+ - ETA: 0s - loss: 0.1196 - accuracy: 0.0000e+ - ETA: 0s - loss: 0.1636 - accuracy: 0.0000e+ - 0s 2ms/step - loss: 0.1631 - accuracy: 0.0000e+00\n",
      "Epoch 23/200\n",
      "200/200 [==============================] - ETA: 0s - loss: 0.4463 - accuracy: 0.0000e+ - ETA: 0s - loss: 0.1328 - accuracy: 0.0000e+ - ETA: 0s - loss: 0.1049 - accuracy: 0.0000e+ - ETA: 0s - loss: 0.0890 - accuracy: 0.0000e+ - ETA: 0s - loss: 0.0766 - accuracy: 0.0000e+ - ETA: 0s - loss: 0.0694 - accuracy: 0.0000e+ - ETA: 0s - loss: 0.0725 - accuracy: 0.0000e+ - ETA: 0s - loss: 0.0979 - accuracy: 0.0000e+ - 0s 2ms/step - loss: 0.1270 - accuracy: 0.0000e+00\n",
      "Epoch 24/200\n",
      "200/200 [==============================] - ETA: 0s - loss: 0.0874 - accuracy: 0.0000e+ - ETA: 0s - loss: 0.1997 - accuracy: 0.0000e+ - ETA: 0s - loss: 0.1379 - accuracy: 0.0000e+ - ETA: 0s - loss: 0.1095 - accuracy: 0.0000e+ - ETA: 0s - loss: 0.1068 - accuracy: 0.0000e+ - ETA: 0s - loss: 0.0957 - accuracy: 0.0000e+ - ETA: 0s - loss: 0.0928 - accuracy: 0.0000e+ - ETA: 0s - loss: 0.0860 - accuracy: 0.0000e+ - 0s 2ms/step - loss: 0.0851 - accuracy: 0.0000e+00\n",
      "Epoch 25/200\n",
      "200/200 [==============================] - ETA: 0s - loss: 0.0255 - accuracy: 0.0000e+ - ETA: 0s - loss: 0.0894 - accuracy: 0.0000e+ - ETA: 0s - loss: 0.0632 - accuracy: 0.0000e+ - ETA: 0s - loss: 0.0578 - accuracy: 0.0000e+ - ETA: 0s - loss: 0.0568 - accuracy: 0.0000e+ - ETA: 0s - loss: 0.0692 - accuracy: 0.0000e+ - ETA: 0s - loss: 0.0711 - accuracy: 0.0000e+ - ETA: 0s - loss: 0.0703 - accuracy: 0.0000e+ - 0s 2ms/step - loss: 0.0713 - accuracy: 0.0000e+00\n",
      "Epoch 26/200\n",
      "200/200 [==============================] - ETA: 0s - loss: 0.0503 - accuracy: 0.0000e+ - ETA: 0s - loss: 0.0732 - accuracy: 0.0000e+ - ETA: 0s - loss: 0.0876 - accuracy: 0.0000e+ - ETA: 0s - loss: 0.2159 - accuracy: 0.0000e+ - ETA: 0s - loss: 0.3320 - accuracy: 0.0000e+ - ETA: 0s - loss: 0.3289 - accuracy: 0.0000e+ - ETA: 0s - loss: 0.2910 - accuracy: 0.0000e+ - ETA: 0s - loss: 0.2600 - accuracy: 0.0000e+ - 0s 2ms/step - loss: 0.2579 - accuracy: 0.0000e+00\n",
      "Epoch 27/200\n",
      "200/200 [==============================] - ETA: 0s - loss: 0.1996 - accuracy: 0.0000e+ - ETA: 0s - loss: 0.4460 - accuracy: 0.0000e+ - ETA: 0s - loss: 0.4213 - accuracy: 0.0000e+ - ETA: 0s - loss: 0.3528 - accuracy: 0.0000e+ - ETA: 0s - loss: 0.3815 - accuracy: 0.0000e+ - ETA: 0s - loss: 0.3266 - accuracy: 0.0000e+ - ETA: 0s - loss: 0.2860 - accuracy: 0.0000e+ - ETA: 0s - loss: 0.2823 - accuracy: 0.0000e+ - 0s 2ms/step - loss: 0.2863 - accuracy: 0.0000e+00\n",
      "Epoch 28/200\n",
      "200/200 [==============================] - ETA: 0s - loss: 0.6942 - accuracy: 0.0000e+ - ETA: 0s - loss: 0.3518 - accuracy: 0.0000e+ - ETA: 0s - loss: 0.2721 - accuracy: 0.0000e+ - ETA: 0s - loss: 0.2024 - accuracy: 0.0000e+ - ETA: 0s - loss: 0.1625 - accuracy: 0.0000e+ - ETA: 0s - loss: 0.3882 - accuracy: 0.0000e+ - ETA: 0s - loss: 0.6814 - accuracy: 0.0000e+ - ETA: 0s - loss: 0.6131 - accuracy: 0.0000e+ - 0s 2ms/step - loss: 0.6069 - accuracy: 0.0000e+00\n",
      "Epoch 29/200\n",
      "200/200 [==============================] - ETA: 0s - loss: 0.1396 - accuracy: 0.0000e+ - ETA: 0s - loss: 0.1839 - accuracy: 0.0000e+ - ETA: 0s - loss: 0.1410 - accuracy: 0.0000e+ - ETA: 0s - loss: 0.1415 - accuracy: 0.0000e+ - ETA: 0s - loss: 0.1259 - accuracy: 0.0000e+ - ETA: 0s - loss: 0.1119 - accuracy: 0.0000e+ - ETA: 0s - loss: 0.2616 - accuracy: 0.0000e+ - ETA: 0s - loss: 0.2850 - accuracy: 0.0000e+ - 0s 2ms/step - loss: 0.2814 - accuracy: 0.0000e+00\n",
      "Epoch 30/200\n",
      "200/200 [==============================] - ETA: 0s - loss: 0.0679 - accuracy: 0.0000e+ - ETA: 0s - loss: 0.1023 - accuracy: 0.0000e+ - ETA: 0s - loss: 0.0837 - accuracy: 0.0000e+ - ETA: 0s - loss: 0.0871 - accuracy: 0.0000e+ - ETA: 0s - loss: 0.2080 - accuracy: 0.0000e+ - ETA: 0s - loss: 0.2312 - accuracy: 0.0000e+ - ETA: 0s - loss: 0.2060 - accuracy: 0.0000e+ - ETA: 0s - loss: 0.1820 - accuracy: 0.0000e+ - 0s 2ms/step - loss: 0.1799 - accuracy: 0.0000e+00\n",
      "Epoch 31/200\n",
      "200/200 [==============================] - ETA: 0s - loss: 0.0220 - accuracy: 0.0000e+ - ETA: 0s - loss: 0.0510 - accuracy: 0.0000e+ - ETA: 0s - loss: 0.0563 - accuracy: 0.0000e+ - ETA: 0s - loss: 0.0818 - accuracy: 0.0000e+ - ETA: 0s - loss: 0.1186 - accuracy: 0.0000e+ - ETA: 0s - loss: 0.1134 - accuracy: 0.0000e+ - ETA: 0s - loss: 0.1039 - accuracy: 0.0000e+ - ETA: 0s - loss: 0.0940 - accuracy: 0.0000e+ - 0s 2ms/step - loss: 0.1348 - accuracy: 0.0000e+00\n",
      "Epoch 32/200\n",
      "200/200 [==============================] - ETA: 0s - loss: 0.0093 - accuracy: 0.0000e+ - ETA: 0s - loss: 0.0363 - accuracy: 0.0000e+ - ETA: 0s - loss: 1.2349 - accuracy: 0.0000e+ - ETA: 0s - loss: 1.4040 - accuracy: 0.0000e+ - ETA: 0s - loss: 1.5021 - accuracy: 0.0000e+ - ETA: 0s - loss: 1.5144 - accuracy: 0.0000e+ - ETA: 0s - loss: 1.4997 - accuracy: 0.0000e+ - ETA: 0s - loss: 1.3102 - accuracy: 0.0000e+ - 0s 2ms/step - loss: 1.2921 - accuracy: 0.0000e+00\n",
      "Epoch 33/200\n",
      "200/200 [==============================] - ETA: 0s - loss: 0.0788 - accuracy: 0.0000e+ - ETA: 0s - loss: 0.1087 - accuracy: 0.0000e+ - ETA: 0s - loss: 0.1188 - accuracy: 0.0000e+ - ETA: 0s - loss: 0.1030 - accuracy: 0.0000e+ - ETA: 0s - loss: 0.0948 - accuracy: 0.0000e+ - ETA: 0s - loss: 0.0945 - accuracy: 0.0000e+ - ETA: 0s - loss: 0.1341 - accuracy: 0.0000e+ - ETA: 0s - loss: 0.1502 - accuracy: 0.0000e+ - 0s 2ms/step - loss: 0.1561 - accuracy: 0.0000e+00\n",
      "Epoch 34/200\n",
      "200/200 [==============================] - ETA: 0s - loss: 0.0899 - accuracy: 0.0000e+ - ETA: 0s - loss: 0.2069 - accuracy: 0.0000e+ - ETA: 0s - loss: 0.1873 - accuracy: 0.0000e+ - ETA: 0s - loss: 0.1719 - accuracy: 0.0000e+ - ETA: 0s - loss: 0.1422 - accuracy: 0.0000e+ - ETA: 0s - loss: 0.1330 - accuracy: 0.0000e+ - ETA: 0s - loss: 0.1199 - accuracy: 0.0000e+ - ETA: 0s - loss: 0.1732 - accuracy: 0.0000e+ - 0s 2ms/step - loss: 0.1842 - accuracy: 0.0000e+00\n",
      "Epoch 35/200\n",
      "200/200 [==============================] - ETA: 0s - loss: 1.9199 - accuracy: 0.0000e+ - ETA: 0s - loss: 1.0201 - accuracy: 0.0000e+ - ETA: 0s - loss: 0.9064 - accuracy: 0.0000e+ - ETA: 0s - loss: 0.6711 - accuracy: 0.0000e+ - ETA: 0s - loss: 0.5654 - accuracy: 0.0000e+ - ETA: 0s - loss: 0.5248 - accuracy: 0.0000e+ - ETA: 0s - loss: 0.4537 - accuracy: 0.0000e+ - ETA: 0s - loss: 0.3989 - accuracy: 0.0000e+ - 0s 2ms/step - loss: 0.3971 - accuracy: 0.0000e+00\n",
      "Epoch 36/200\n",
      "200/200 [==============================] - ETA: 0s - loss: 0.0241 - accuracy: 0.0000e+ - ETA: 0s - loss: 0.0713 - accuracy: 0.0000e+ - ETA: 0s - loss: 0.0772 - accuracy: 0.0000e+ - ETA: 0s - loss: 0.1336 - accuracy: 0.0000e+ - ETA: 0s - loss: 0.1437 - accuracy: 0.0000e+ - ETA: 0s - loss: 0.1369 - accuracy: 0.0000e+ - ETA: 0s - loss: 0.1471 - accuracy: 0.0000e+ - ETA: 0s - loss: 0.1356 - accuracy: 0.0000e+ - 0s 2ms/step - loss: 0.1348 - accuracy: 0.0000e+00\n",
      "Epoch 37/200\n",
      "200/200 [==============================] - ETA: 0s - loss: 0.0209 - accuracy: 0.0000e+ - ETA: 0s - loss: 0.0506 - accuracy: 0.0000e+ - ETA: 0s - loss: 0.0526 - accuracy: 0.0000e+ - ETA: 0s - loss: 0.0555 - accuracy: 0.0000e+ - ETA: 0s - loss: 0.0601 - accuracy: 0.0000e+ - ETA: 0s - loss: 0.0617 - accuracy: 0.0000e+ - ETA: 0s - loss: 0.0667 - accuracy: 0.0000e+ - ETA: 0s - loss: 0.0685 - accuracy: 0.0000e+ - 0s 2ms/step - loss: 0.0678 - accuracy: 0.0000e+00\n",
      "Epoch 38/200\n",
      "200/200 [==============================] - ETA: 0s - loss: 0.0528 - accuracy: 0.0000e+ - ETA: 0s - loss: 0.0463 - accuracy: 0.0000e+ - ETA: 0s - loss: 0.0504 - accuracy: 0.0000e+ - ETA: 0s - loss: 0.0636 - accuracy: 0.0000e+ - ETA: 0s - loss: 0.0744 - accuracy: 0.0000e+ - ETA: 0s - loss: 0.0737 - accuracy: 0.0000e+ - ETA: 0s - loss: 0.0825 - accuracy: 0.0000e+ - ETA: 0s - loss: 0.0764 - accuracy: 0.0000e+ - 0s 2ms/step - loss: 0.0755 - accuracy: 0.0000e+00\n",
      "Epoch 39/200\n",
      "200/200 [==============================] - ETA: 0s - loss: 0.0029 - accuracy: 0.0000e+ - ETA: 0s - loss: 0.0320 - accuracy: 0.0000e+ - ETA: 0s - loss: 0.0806 - accuracy: 0.0000e+ - ETA: 0s - loss: 0.0964 - accuracy: 0.0000e+ - ETA: 0s - loss: 0.0894 - accuracy: 0.0000e+ - ETA: 0s - loss: 0.0789 - accuracy: 0.0000e+ - ETA: 0s - loss: 0.1793 - accuracy: 0.0000e+ - ETA: 0s - loss: 0.3152 - accuracy: 0.0000e+ - 0s 2ms/step - loss: 0.3343 - accuracy: 0.0000e+00\n",
      "Epoch 40/200\n",
      "200/200 [==============================] - ETA: 0s - loss: 0.5549 - accuracy: 0.0000e+ - ETA: 0s - loss: 0.7110 - accuracy: 0.0000e+ - ETA: 0s - loss: 0.3913 - accuracy: 0.0000e+ - ETA: 0s - loss: 0.3567 - accuracy: 0.0000e+ - ETA: 0s - loss: 0.4441 - accuracy: 0.0000e+ - ETA: 0s - loss: 0.3964 - accuracy: 0.0000e+ - ETA: 0s - loss: 0.3641 - accuracy: 0.0000e+ - ETA: 0s - loss: 0.3331 - accuracy: 0.0000e+ - 0s 2ms/step - loss: 0.3287 - accuracy: 0.0000e+00\n",
      "Epoch 41/200\n",
      "200/200 [==============================] - ETA: 0s - loss: 0.0947 - accuracy: 0.0000e+ - ETA: 0s - loss: 0.0906 - accuracy: 0.0000e+ - ETA: 0s - loss: 0.1844 - accuracy: 0.0000e+ - ETA: 0s - loss: 0.1813 - accuracy: 0.0000e+ - ETA: 0s - loss: 0.3023 - accuracy: 0.0000e+ - ETA: 0s - loss: 0.2731 - accuracy: 0.0000e+ - ETA: 0s - loss: 0.2866 - accuracy: 0.0000e+ - ETA: 0s - loss: 0.3407 - accuracy: 0.0000e+ - 0s 2ms/step - loss: 0.3385 - accuracy: 0.0000e+00\n",
      "Epoch 42/200\n",
      "200/200 [==============================] - ETA: 0s - loss: 0.1065 - accuracy: 0.0000e+ - ETA: 0s - loss: 0.0898 - accuracy: 0.0000e+ - ETA: 0s - loss: 0.1392 - accuracy: 0.0000e+ - ETA: 0s - loss: 0.1105 - accuracy: 0.0000e+ - ETA: 0s - loss: 0.0952 - accuracy: 0.0000e+ - ETA: 0s - loss: 0.0832 - accuracy: 0.0000e+ - ETA: 0s - loss: 0.0809 - accuracy: 0.0000e+ - ETA: 0s - loss: 0.0959 - accuracy: 0.0000e+ - 0s 2ms/step - loss: 0.0952 - accuracy: 0.0000e+00\n",
      "Epoch 43/200\n",
      "200/200 [==============================] - ETA: 0s - loss: 0.0600 - accuracy: 0.0000e+ - ETA: 0s - loss: 0.1190 - accuracy: 0.0000e+ - ETA: 0s - loss: 0.1577 - accuracy: 0.0000e+ - ETA: 0s - loss: 0.1258 - accuracy: 0.0000e+ - ETA: 0s - loss: 0.3604 - accuracy: 0.0000e+ - ETA: 0s - loss: 0.3546 - accuracy: 0.0000e+ - ETA: 0s - loss: 0.3156 - accuracy: 0.0000e+ - ETA: 0s - loss: 0.2788 - accuracy: 0.0000e+ - 0s 2ms/step - loss: 0.2767 - accuracy: 0.0000e+00\n",
      "Epoch 44/200\n",
      "200/200 [==============================] - ETA: 0s - loss: 0.0936 - accuracy: 0.0000e+ - ETA: 0s - loss: 0.1285 - accuracy: 0.0000e+ - ETA: 0s - loss: 0.1560 - accuracy: 0.0000e+ - ETA: 0s - loss: 0.1488 - accuracy: 0.0000e+ - ETA: 0s - loss: 0.1938 - accuracy: 0.0000e+ - ETA: 0s - loss: 0.1975 - accuracy: 0.0000e+ - ETA: 0s - loss: 0.2026 - accuracy: 0.0000e+ - ETA: 0s - loss: 0.3616 - accuracy: 0.0000e+ - 0s 2ms/step - loss: 0.3594 - accuracy: 0.0000e+00\n",
      "Epoch 45/200\n",
      "200/200 [==============================] - ETA: 0s - loss: 0.1894 - accuracy: 0.0000e+ - ETA: 0s - loss: 0.1279 - accuracy: 0.0000e+ - ETA: 0s - loss: 0.0924 - accuracy: 0.0000e+ - ETA: 0s - loss: 0.0788 - accuracy: 0.0000e+ - ETA: 0s - loss: 0.0800 - accuracy: 0.0000e+ - ETA: 0s - loss: 0.0724 - accuracy: 0.0000e+ - ETA: 0s - loss: 0.0743 - accuracy: 0.0000e+ - ETA: 0s - loss: 0.0704 - accuracy: 0.0000e+ - 0s 2ms/step - loss: 0.0696 - accuracy: 0.0000e+00\n",
      "Epoch 46/200\n",
      "200/200 [==============================] - ETA: 0s - loss: 0.0484 - accuracy: 0.0000e+ - ETA: 0s - loss: 0.2218 - accuracy: 0.0000e+ - ETA: 0s - loss: 0.1332 - accuracy: 0.0000e+ - ETA: 0s - loss: 0.3370 - accuracy: 0.0000e+ - ETA: 0s - loss: 0.3430 - accuracy: 0.0000e+ - ETA: 0s - loss: 0.3105 - accuracy: 0.0000e+ - ETA: 0s - loss: 0.3261 - accuracy: 0.0000e+ - ETA: 0s - loss: 0.3200 - accuracy: 0.0000e+ - 0s 2ms/step - loss: 0.3160 - accuracy: 0.0000e+00\n",
      "Epoch 47/200\n",
      "200/200 [==============================] - ETA: 0s - loss: 0.0245 - accuracy: 0.0000e+ - ETA: 0s - loss: 0.0947 - accuracy: 0.0000e+ - ETA: 0s - loss: 0.0943 - accuracy: 0.0000e+ - ETA: 0s - loss: 0.1040 - accuracy: 0.0000e+ - ETA: 0s - loss: 0.1094 - accuracy: 0.0000e+ - ETA: 0s - loss: 0.1281 - accuracy: 0.0000e+ - ETA: 0s - loss: 0.1255 - accuracy: 0.0000e+ - ETA: 0s - loss: 0.1154 - accuracy: 0.0000e+ - 0s 2ms/step - loss: 0.1139 - accuracy: 0.0000e+00\n",
      "Epoch 48/200\n",
      "200/200 [==============================] - ETA: 0s - loss: 0.0344 - accuracy: 0.0000e+ - ETA: 0s - loss: 0.3272 - accuracy: 0.0000e+ - ETA: 0s - loss: 0.1971 - accuracy: 0.0000e+ - ETA: 0s - loss: 0.1473 - accuracy: 0.0000e+ - ETA: 0s - loss: 0.1326 - accuracy: 0.0000e+ - ETA: 0s - loss: 0.1151 - accuracy: 0.0000e+ - ETA: 0s - loss: 0.1008 - accuracy: 0.0000e+ - ETA: 0s - loss: 0.0932 - accuracy: 0.0000e+ - 0s 2ms/step - loss: 0.0953 - accuracy: 0.0000e+00\n",
      "Epoch 49/200\n",
      "200/200 [==============================] - ETA: 0s - loss: 0.1239 - accuracy: 0.0000e+ - ETA: 0s - loss: 0.0800 - accuracy: 0.0000e+ - ETA: 0s - loss: 0.6585 - accuracy: 0.0000e+ - ETA: 0s - loss: 1.2638 - accuracy: 0.0000e+ - ETA: 0s - loss: 1.1368 - accuracy: 0.0000e+ - ETA: 0s - loss: 1.0486 - accuracy: 0.0000e+ - ETA: 0s - loss: 0.9964 - accuracy: 0.0000e+ - ETA: 0s - loss: 0.8974 - accuracy: 0.0000e+ - 0s 2ms/step - loss: 0.8871 - accuracy: 0.0000e+00\n",
      "Epoch 50/200\n",
      "200/200 [==============================] - ETA: 0s - loss: 0.0102 - accuracy: 0.0000e+ - ETA: 0s - loss: 0.0429 - accuracy: 0.0000e+ - ETA: 0s - loss: 0.1981 - accuracy: 0.0000e+ - ETA: 0s - loss: 0.2110 - accuracy: 0.0000e+ - ETA: 0s - loss: 0.2695 - accuracy: 0.0000e+ - ETA: 0s - loss: 0.2384 - accuracy: 0.0000e+ - ETA: 0s - loss: 0.2700 - accuracy: 0.0000e+ - ETA: 0s - loss: 0.2449 - accuracy: 0.0000e+ - 0s 2ms/step - loss: 0.2420 - accuracy: 0.0000e+00\n",
      "Epoch 51/200\n",
      "200/200 [==============================] - ETA: 0s - loss: 0.0672 - accuracy: 0.0000e+ - ETA: 0s - loss: 0.0391 - accuracy: 0.0000e+ - ETA: 0s - loss: 0.0390 - accuracy: 0.0000e+ - ETA: 0s - loss: 0.0638 - accuracy: 0.0000e+ - ETA: 0s - loss: 0.0694 - accuracy: 0.0000e+ - ETA: 0s - loss: 0.0670 - accuracy: 0.0000e+ - ETA: 0s - loss: 0.0615 - accuracy: 0.0000e+ - ETA: 0s - loss: 0.0626 - accuracy: 0.0000e+ - 0s 2ms/step - loss: 0.0639 - accuracy: 0.0000e+00\n",
      "Epoch 52/200\n",
      "200/200 [==============================] - ETA: 0s - loss: 0.0414 - accuracy: 0.0000e+ - ETA: 0s - loss: 0.2845 - accuracy: 0.0000e+ - ETA: 0s - loss: 0.1920 - accuracy: 0.0000e+ - ETA: 0s - loss: 0.1722 - accuracy: 0.0000e+ - ETA: 0s - loss: 0.1508 - accuracy: 0.0000e+ - ETA: 0s - loss: 0.1294 - accuracy: 0.0000e+ - ETA: 0s - loss: 0.1172 - accuracy: 0.0000e+ - ETA: 0s - loss: 0.1073 - accuracy: 0.0000e+ - 0s 2ms/step - loss: 0.1060 - accuracy: 0.0000e+00\n",
      "Epoch 53/200\n",
      "200/200 [==============================] - ETA: 0s - loss: 0.0041 - accuracy: 0.0000e+ - ETA: 0s - loss: 0.1471 - accuracy: 0.0000e+ - ETA: 0s - loss: 0.1136 - accuracy: 0.0000e+ - ETA: 0s - loss: 0.0979 - accuracy: 0.0000e+ - ETA: 0s - loss: 0.0882 - accuracy: 0.0000e+ - ETA: 0s - loss: 0.1422 - accuracy: 0.0000e+ - ETA: 0s - loss: 0.1445 - accuracy: 0.0000e+ - ETA: 0s - loss: 0.1354 - accuracy: 0.0000e+ - 0s 2ms/step - loss: 0.1336 - accuracy: 0.0000e+00\n",
      "Epoch 54/200\n",
      "200/200 [==============================] - ETA: 0s - loss: 0.0125 - accuracy: 0.0000e+ - ETA: 0s - loss: 0.3657 - accuracy: 0.0000e+ - ETA: 0s - loss: 0.2932 - accuracy: 0.0000e+ - ETA: 0s - loss: 0.2234 - accuracy: 0.0000e+ - ETA: 0s - loss: 0.1814 - accuracy: 0.0000e+ - ETA: 0s - loss: 0.1525 - accuracy: 0.0000e+ - ETA: 0s - loss: 0.1325 - accuracy: 0.0000e+ - ETA: 0s - loss: 0.1224 - accuracy: 0.0000e+ - 0s 2ms/step - loss: 0.1375 - accuracy: 0.0000e+00\n",
      "Epoch 55/200\n",
      "200/200 [==============================] - ETA: 0s - loss: 0.8340 - accuracy: 0.0000e+ - ETA: 0s - loss: 0.2227 - accuracy: 0.0000e+ - ETA: 0s - loss: 0.2622 - accuracy: 0.0000e+ - ETA: 0s - loss: 0.1948 - accuracy: 0.0000e+ - ETA: 0s - loss: 0.2253 - accuracy: 0.0000e+ - ETA: 0s - loss: 0.2026 - accuracy: 0.0000e+ - ETA: 0s - loss: 0.2441 - accuracy: 0.0000e+ - ETA: 0s - loss: 0.2588 - accuracy: 0.0000e+ - 0s 2ms/step - loss: 0.2556 - accuracy: 0.0000e+00\n",
      "Epoch 56/200\n",
      "200/200 [==============================] - ETA: 0s - loss: 0.0286 - accuracy: 0.0000e+ - ETA: 0s - loss: 0.0411 - accuracy: 0.0000e+ - ETA: 0s - loss: 0.2361 - accuracy: 0.0000e+ - ETA: 0s - loss: 0.2453 - accuracy: 0.0000e+ - ETA: 0s - loss: 0.2191 - accuracy: 0.0000e+ - ETA: 0s - loss: 0.2026 - accuracy: 0.0000e+ - ETA: 0s - loss: 0.1907 - accuracy: 0.0000e+ - ETA: 0s - loss: 0.1822 - accuracy: 0.0000e+ - 0s 2ms/step - loss: 0.1799 - accuracy: 0.0000e+00\n",
      "Epoch 57/200\n",
      "200/200 [==============================] - ETA: 0s - loss: 0.0191 - accuracy: 0.0000e+ - ETA: 0s - loss: 0.1432 - accuracy: 0.0000e+ - ETA: 0s - loss: 0.1068 - accuracy: 0.0000e+ - ETA: 0s - loss: 0.0987 - accuracy: 0.0000e+ - ETA: 0s - loss: 0.1596 - accuracy: 0.0000e+ - ETA: 0s - loss: 0.1824 - accuracy: 0.0000e+ - ETA: 0s - loss: 0.2320 - accuracy: 0.0000e+ - ETA: 0s - loss: 0.2400 - accuracy: 0.0000e+ - 0s 2ms/step - loss: 0.2372 - accuracy: 0.0000e+00\n",
      "Epoch 58/200\n",
      "200/200 [==============================] - ETA: 0s - loss: 2.3706 - accuracy: 0.0000e+ - ETA: 0s - loss: 0.3292 - accuracy: 0.0000e+ - ETA: 0s - loss: 0.2216 - accuracy: 0.0000e+ - ETA: 0s - loss: 0.1653 - accuracy: 0.0000e+ - ETA: 0s - loss: 0.1358 - accuracy: 0.0000e+ - ETA: 0s - loss: 0.1632 - accuracy: 0.0000e+ - ETA: 0s - loss: 0.1485 - accuracy: 0.0000e+ - ETA: 0s - loss: 0.1334 - accuracy: 0.0000e+ - 0s 2ms/step - loss: 0.1317 - accuracy: 0.0000e+00\n",
      "Epoch 59/200\n",
      "200/200 [==============================] - ETA: 0s - loss: 0.0060 - accuracy: 0.0000e+ - ETA: 0s - loss: 0.0893 - accuracy: 0.0000e+ - ETA: 0s - loss: 0.1005 - accuracy: 0.0000e+ - ETA: 0s - loss: 0.1636 - accuracy: 0.0000e+ - ETA: 0s - loss: 0.1979 - accuracy: 0.0000e+ - ETA: 0s - loss: 0.1983 - accuracy: 0.0000e+ - ETA: 0s - loss: 0.1774 - accuracy: 0.0000e+ - ETA: 0s - loss: 0.1668 - accuracy: 0.0000e+ - 0s 2ms/step - loss: 0.1660 - accuracy: 0.0000e+00\n",
      "Epoch 60/200\n",
      "200/200 [==============================] - ETA: 0s - loss: 0.6594 - accuracy: 0.0000e+ - ETA: 0s - loss: 0.0725 - accuracy: 0.0000e+ - ETA: 0s - loss: 0.0550 - accuracy: 0.0000e+ - ETA: 0s - loss: 0.0599 - accuracy: 0.0000e+ - ETA: 0s - loss: 0.1272 - accuracy: 0.0000e+ - ETA: 0s - loss: 0.1228 - accuracy: 0.0000e+ - ETA: 0s - loss: 0.1209 - accuracy: 0.0000e+ - ETA: 0s - loss: 0.1098 - accuracy: 0.0000e+ - 0s 2ms/step - loss: 0.1087 - accuracy: 0.0000e+00\n",
      "Epoch 61/200\n",
      "200/200 [==============================] - ETA: 0s - loss: 0.0229 - accuracy: 0.0000e+ - ETA: 0s - loss: 0.0713 - accuracy: 0.0000e+ - ETA: 0s - loss: 0.0596 - accuracy: 0.0000e+ - ETA: 0s - loss: 0.0729 - accuracy: 0.0000e+ - ETA: 0s - loss: 0.0945 - accuracy: 0.0000e+ - ETA: 0s - loss: 0.0953 - accuracy: 0.0000e+ - ETA: 0s - loss: 0.0890 - accuracy: 0.0000e+ - ETA: 0s - loss: 0.0877 - accuracy: 0.0000e+ - 0s 2ms/step - loss: 0.0867 - accuracy: 0.0000e+00\n",
      "Epoch 62/200\n",
      "200/200 [==============================] - ETA: 0s - loss: 0.0156 - accuracy: 0.0000e+ - ETA: 0s - loss: 0.0432 - accuracy: 0.0000e+ - ETA: 0s - loss: 0.0405 - accuracy: 0.0000e+ - ETA: 0s - loss: 0.0452 - accuracy: 0.0000e+ - ETA: 0s - loss: 0.1462 - accuracy: 0.0000e+ - ETA: 0s - loss: 0.1968 - accuracy: 0.0000e+ - ETA: 0s - loss: 0.2153 - accuracy: 0.0000e+ - ETA: 0s - loss: 0.2139 - accuracy: 0.0000e+ - 0s 2ms/step - loss: 0.2111 - accuracy: 0.0000e+00\n",
      "Epoch 63/200\n",
      "200/200 [==============================] - ETA: 0s - loss: 0.0339 - accuracy: 0.0000e+ - ETA: 0s - loss: 1.9608 - accuracy: 0.0000e+ - ETA: 0s - loss: 1.0649 - accuracy: 0.0000e+ - ETA: 0s - loss: 0.7903 - accuracy: 0.0000e+ - ETA: 0s - loss: 0.7126 - accuracy: 0.0000e+ - ETA: 0s - loss: 0.7012 - accuracy: 0.0000e+ - ETA: 0s - loss: 0.6991 - accuracy: 0.0000e+ - ETA: 0s - loss: 0.6567 - accuracy: 0.0000e+ - 0s 2ms/step - loss: 0.6580 - accuracy: 0.0000e+00\n",
      "Epoch 64/200\n",
      "200/200 [==============================] - ETA: 0s - loss: 0.2119 - accuracy: 0.0000e+ - ETA: 0s - loss: 0.5801 - accuracy: 0.0000e+ - ETA: 0s - loss: 0.4343 - accuracy: 0.0000e+ - ETA: 0s - loss: 0.3206 - accuracy: 0.0000e+ - ETA: 0s - loss: 0.3571 - accuracy: 0.0000e+ - ETA: 0s - loss: 0.2991 - accuracy: 0.0000e+ - ETA: 0s - loss: 0.2582 - accuracy: 0.0000e+ - ETA: 0s - loss: 0.2608 - accuracy: 0.0000e+ - 0s 2ms/step - loss: 0.2582 - accuracy: 0.0000e+00\n",
      "Epoch 65/200\n",
      "200/200 [==============================] - ETA: 0s - loss: 0.2138 - accuracy: 0.0000e+ - ETA: 0s - loss: 0.2340 - accuracy: 0.0000e+ - ETA: 0s - loss: 0.1592 - accuracy: 0.0000e+ - ETA: 0s - loss: 0.1604 - accuracy: 0.0000e+ - ETA: 0s - loss: 0.1448 - accuracy: 0.0000e+ - ETA: 0s - loss: 0.1264 - accuracy: 0.0000e+ - ETA: 0s - loss: 0.1249 - accuracy: 0.0000e+ - ETA: 0s - loss: 0.1117 - accuracy: 0.0000e+ - 0s 2ms/step - loss: 0.1117 - accuracy: 0.0000e+00\n",
      "Epoch 66/200\n",
      "200/200 [==============================] - ETA: 0s - loss: 0.0067 - accuracy: 0.0000e+ - ETA: 0s - loss: 0.0825 - accuracy: 0.0000e+ - ETA: 0s - loss: 0.0751 - accuracy: 0.0000e+ - ETA: 0s - loss: 0.1126 - accuracy: 0.0000e+ - ETA: 0s - loss: 0.1295 - accuracy: 0.0000e+ - ETA: 0s - loss: 0.1141 - accuracy: 0.0000e+ - ETA: 0s - loss: 0.1033 - accuracy: 0.0000e+ - ETA: 0s - loss: 0.0953 - accuracy: 0.0000e+ - 0s 2ms/step - loss: 0.0942 - accuracy: 0.0000e+00\n",
      "Epoch 67/200\n",
      "200/200 [==============================] - ETA: 0s - loss: 0.0366 - accuracy: 0.0000e+ - ETA: 0s - loss: 0.0908 - accuracy: 0.0000e+ - ETA: 0s - loss: 0.0884 - accuracy: 0.0000e+ - ETA: 0s - loss: 0.2806 - accuracy: 0.0000e+ - ETA: 0s - loss: 0.3164 - accuracy: 0.0000e+ - ETA: 0s - loss: 0.5603 - accuracy: 0.0000e+ - ETA: 0s - loss: 0.5147 - accuracy: 0.0000e+ - ETA: 0s - loss: 0.4538 - accuracy: 0.0000e+ - 0s 2ms/step - loss: 0.4473 - accuracy: 0.0000e+00\n",
      "Epoch 68/200\n",
      "200/200 [==============================] - ETA: 0s - loss: 0.1199 - accuracy: 0.0000e+ - ETA: 0s - loss: 0.0782 - accuracy: 0.0000e+ - ETA: 0s - loss: 0.0775 - accuracy: 0.0000e+ - ETA: 0s - loss: 0.0660 - accuracy: 0.0000e+ - ETA: 0s - loss: 0.0607 - accuracy: 0.0000e+ - ETA: 0s - loss: 0.0601 - accuracy: 0.0000e+ - ETA: 0s - loss: 0.0602 - accuracy: 0.0000e+ - ETA: 0s - loss: 0.0555 - accuracy: 0.0000e+ - 0s 2ms/step - loss: 0.0551 - accuracy: 0.0000e+00\n",
      "Epoch 69/200\n",
      "200/200 [==============================] - ETA: 0s - loss: 0.0222 - accuracy: 0.0000e+ - ETA: 0s - loss: 0.4362 - accuracy: 0.0000e+ - ETA: 0s - loss: 0.3617 - accuracy: 0.0000e+ - ETA: 0s - loss: 0.2579 - accuracy: 0.0000e+ - ETA: 0s - loss: 0.2184 - accuracy: 0.0000e+ - ETA: 0s - loss: 0.1930 - accuracy: 0.0000e+ - ETA: 0s - loss: 0.1680 - accuracy: 0.0000e+ - ETA: 0s - loss: 0.1501 - accuracy: 0.0000e+ - 0s 2ms/step - loss: 0.1483 - accuracy: 0.0000e+00\n",
      "Epoch 70/200\n",
      "200/200 [==============================] - ETA: 0s - loss: 0.0085 - accuracy: 0.0000e+ - ETA: 0s - loss: 0.0643 - accuracy: 0.0000e+ - ETA: 0s - loss: 0.0695 - accuracy: 0.0000e+ - ETA: 0s - loss: 0.0801 - accuracy: 0.0000e+ - ETA: 0s - loss: 0.1165 - accuracy: 0.0000e+ - ETA: 0s - loss: 0.1075 - accuracy: 0.0000e+ - ETA: 0s - loss: 0.0950 - accuracy: 0.0000e+ - ETA: 0s - loss: 0.0883 - accuracy: 0.0000e+ - 0s 2ms/step - loss: 0.0877 - accuracy: 0.0000e+00\n",
      "Epoch 71/200\n",
      "200/200 [==============================] - ETA: 0s - loss: 0.0170 - accuracy: 0.0000e+ - ETA: 0s - loss: 0.0578 - accuracy: 0.0000e+ - ETA: 0s - loss: 0.0640 - accuracy: 0.0000e+ - ETA: 0s - loss: 0.0743 - accuracy: 0.0000e+ - ETA: 0s - loss: 0.0696 - accuracy: 0.0000e+ - ETA: 0s - loss: 0.0745 - accuracy: 0.0000e+ - ETA: 0s - loss: 0.1025 - accuracy: 0.0000e+ - ETA: 0s - loss: 0.0964 - accuracy: 0.0000e+ - 0s 2ms/step - loss: 0.0952 - accuracy: 0.0000e+00\n",
      "Epoch 72/200\n",
      "200/200 [==============================] - ETA: 0s - loss: 0.0030 - accuracy: 0.0000e+ - ETA: 0s - loss: 0.2609 - accuracy: 0.0000e+ - ETA: 0s - loss: 0.5187 - accuracy: 0.0000e+ - ETA: 0s - loss: 0.3784 - accuracy: 0.0000e+ - ETA: 0s - loss: 0.4035 - accuracy: 0.0000e+ - ETA: 0s - loss: 0.3500 - accuracy: 0.0000e+ - ETA: 0s - loss: 0.3250 - accuracy: 0.0000e+ - ETA: 0s - loss: 0.3000 - accuracy: 0.0000e+ - 0s 2ms/step - loss: 0.2980 - accuracy: 0.0000e+00\n",
      "Epoch 73/200\n",
      "200/200 [==============================] - ETA: 0s - loss: 0.5862 - accuracy: 0.0000e+ - ETA: 0s - loss: 0.1088 - accuracy: 0.0000e+ - ETA: 0s - loss: 0.0796 - accuracy: 0.0000e+ - ETA: 0s - loss: 0.0789 - accuracy: 0.0000e+ - ETA: 0s - loss: 0.1071 - accuracy: 0.0000e+ - ETA: 0s - loss: 0.1067 - accuracy: 0.0000e+ - ETA: 0s - loss: 0.1009 - accuracy: 0.0000e+ - ETA: 0s - loss: 0.0937 - accuracy: 0.0000e+ - 0s 2ms/step - loss: 0.0926 - accuracy: 0.0000e+00\n",
      "Epoch 74/200\n",
      "200/200 [==============================] - ETA: 0s - loss: 0.0741 - accuracy: 0.0000e+ - ETA: 0s - loss: 0.0376 - accuracy: 0.0000e+ - ETA: 0s - loss: 0.0427 - accuracy: 0.0000e+ - ETA: 0s - loss: 0.1107 - accuracy: 0.0000e+ - ETA: 0s - loss: 0.0966 - accuracy: 0.0000e+ - ETA: 0s - loss: 0.0869 - accuracy: 0.0000e+ - ETA: 0s - loss: 0.0792 - accuracy: 0.0000e+ - ETA: 0s - loss: 0.0724 - accuracy: 0.0000e+ - 0s 2ms/step - loss: 0.0717 - accuracy: 0.0000e+00\n",
      "Epoch 75/200\n",
      "200/200 [==============================] - ETA: 0s - loss: 0.2508 - accuracy: 0.0000e+ - ETA: 0s - loss: 0.1310 - accuracy: 0.0000e+ - ETA: 0s - loss: 0.0918 - accuracy: 0.0000e+ - ETA: 0s - loss: 0.0821 - accuracy: 0.0000e+ - ETA: 0s - loss: 0.0833 - accuracy: 0.0000e+ - ETA: 0s - loss: 0.0990 - accuracy: 0.0000e+ - ETA: 0s - loss: 0.0930 - accuracy: 0.0000e+ - ETA: 0s - loss: 0.0853 - accuracy: 0.0000e+ - 0s 2ms/step - loss: 0.0850 - accuracy: 0.0000e+00\n",
      "Epoch 76/200\n",
      "200/200 [==============================] - ETA: 0s - loss: 0.0504 - accuracy: 0.0000e+ - ETA: 0s - loss: 0.1188 - accuracy: 0.0000e+ - ETA: 0s - loss: 0.2295 - accuracy: 0.0000e+ - ETA: 0s - loss: 0.1937 - accuracy: 0.0000e+ - ETA: 0s - loss: 0.3658 - accuracy: 0.0000e+ - ETA: 0s - loss: 0.3527 - accuracy: 0.0000e+ - ETA: 0s - loss: 0.3079 - accuracy: 0.0000e+ - ETA: 0s - loss: 0.2802 - accuracy: 0.0000e+ - 0s 2ms/step - loss: 0.2774 - accuracy: 0.0000e+00\n",
      "Epoch 77/200\n",
      "200/200 [==============================] - ETA: 0s - loss: 0.0084 - accuracy: 0.0000e+ - ETA: 0s - loss: 0.0674 - accuracy: 0.0000e+ - ETA: 0s - loss: 0.4626 - accuracy: 0.0000e+ - ETA: 0s - loss: 0.3861 - accuracy: 0.0000e+ - ETA: 0s - loss: 0.3529 - accuracy: 0.0000e+ - ETA: 0s - loss: 0.3067 - accuracy: 0.0000e+ - ETA: 0s - loss: 0.2741 - accuracy: 0.0000e+ - ETA: 0s - loss: 0.4485 - accuracy: 0.0000e+ - 0s 2ms/step - loss: 0.4581 - accuracy: 0.0000e+00\n",
      "Epoch 78/200\n",
      "200/200 [==============================] - ETA: 0s - loss: 0.5397 - accuracy: 0.0000e+ - ETA: 0s - loss: 0.3656 - accuracy: 0.0000e+ - ETA: 0s - loss: 0.4474 - accuracy: 0.0000e+ - ETA: 0s - loss: 0.5169 - accuracy: 0.0000e+ - ETA: 0s - loss: 0.4107 - accuracy: 0.0000e+ - ETA: 0s - loss: 0.6150 - accuracy: 0.0000e+ - ETA: 0s - loss: 0.6962 - accuracy: 0.0000e+ - ETA: 0s - loss: 0.6353 - accuracy: 0.0000e+ - 0s 2ms/step - loss: 0.6280 - accuracy: 0.0000e+00\n",
      "Epoch 79/200\n",
      "200/200 [==============================] - ETA: 0s - loss: 0.0819 - accuracy: 0.0000e+ - ETA: 0s - loss: 0.1502 - accuracy: 0.0000e+ - ETA: 0s - loss: 0.2756 - accuracy: 0.0000e+ - ETA: 0s - loss: 0.2108 - accuracy: 0.0000e+ - ETA: 0s - loss: 0.1801 - accuracy: 0.0000e+ - ETA: 0s - loss: 0.1540 - accuracy: 0.0000e+ - ETA: 0s - loss: 0.1375 - accuracy: 0.0000e+ - ETA: 0s - loss: 0.1347 - accuracy: 0.0000e+ - 0s 2ms/step - loss: 0.1342 - accuracy: 0.0000e+00\n",
      "Epoch 80/200\n",
      "200/200 [==============================] - ETA: 0s - loss: 0.0335 - accuracy: 0.0000e+ - ETA: 0s - loss: 0.0589 - accuracy: 0.0000e+ - ETA: 0s - loss: 0.1980 - accuracy: 0.0000e+ - ETA: 0s - loss: 0.1917 - accuracy: 0.0000e+ - ETA: 0s - loss: 0.1600 - accuracy: 0.0000e+ - ETA: 0s - loss: 0.2081 - accuracy: 0.0000e+ - ETA: 0s - loss: 0.2034 - accuracy: 0.0000e+ - ETA: 0s - loss: 0.1912 - accuracy: 0.0000e+ - 0s 2ms/step - loss: 0.1891 - accuracy: 0.0000e+00\n",
      "Epoch 81/200\n",
      "200/200 [==============================] - ETA: 0s - loss: 0.0662 - accuracy: 0.0000e+ - ETA: 0s - loss: 0.0527 - accuracy: 0.0000e+ - ETA: 0s - loss: 0.0654 - accuracy: 0.0000e+ - ETA: 0s - loss: 0.0669 - accuracy: 0.0000e+ - ETA: 0s - loss: 0.0716 - accuracy: 0.0000e+ - ETA: 0s - loss: 0.1141 - accuracy: 0.0000e+ - ETA: 0s - loss: 0.1351 - accuracy: 0.0000e+ - ETA: 0s - loss: 0.1277 - accuracy: 0.0000e+ - 0s 2ms/step - loss: 0.1264 - accuracy: 0.0000e+00\n",
      "Epoch 82/200\n",
      "200/200 [==============================] - ETA: 0s - loss: 0.0525 - accuracy: 0.0000e+ - ETA: 0s - loss: 0.2551 - accuracy: 0.0000e+ - ETA: 0s - loss: 0.2073 - accuracy: 0.0000e+ - ETA: 0s - loss: 0.1595 - accuracy: 0.0000e+ - ETA: 0s - loss: 0.1439 - accuracy: 0.0000e+ - ETA: 0s - loss: 0.1253 - accuracy: 0.0000e+ - ETA: 0s - loss: 0.1137 - accuracy: 0.0000e+ - ETA: 0s - loss: 0.1032 - accuracy: 0.0000e+ - 0s 2ms/step - loss: 0.1027 - accuracy: 0.0000e+00\n",
      "Epoch 83/200\n",
      "200/200 [==============================] - ETA: 0s - loss: 0.0195 - accuracy: 0.0000e+ - ETA: 0s - loss: 0.0342 - accuracy: 0.0000e+ - ETA: 0s - loss: 0.0924 - accuracy: 0.0000e+ - ETA: 0s - loss: 0.0899 - accuracy: 0.0000e+ - ETA: 0s - loss: 0.1185 - accuracy: 0.0000e+ - ETA: 0s - loss: 0.1219 - accuracy: 0.0000e+ - ETA: 0s - loss: 0.1443 - accuracy: 0.0000e+ - ETA: 0s - loss: 0.1388 - accuracy: 0.0000e+ - 0s 2ms/step - loss: 0.1375 - accuracy: 0.0000e+00\n",
      "Epoch 84/200\n",
      "200/200 [==============================] - ETA: 0s - loss: 0.1150 - accuracy: 0.0000e+ - ETA: 0s - loss: 0.0928 - accuracy: 0.0000e+ - ETA: 0s - loss: 0.0784 - accuracy: 0.0000e+ - ETA: 0s - loss: 0.0923 - accuracy: 0.0000e+ - ETA: 0s - loss: 0.0914 - accuracy: 0.0000e+ - ETA: 0s - loss: 0.1075 - accuracy: 0.0000e+ - ETA: 0s - loss: 0.1027 - accuracy: 0.0000e+ - ETA: 0s - loss: 0.1016 - accuracy: 0.0000e+ - 0s 2ms/step - loss: 0.1007 - accuracy: 0.0000e+00\n",
      "Epoch 85/200\n",
      "200/200 [==============================] - ETA: 0s - loss: 0.1348 - accuracy: 0.0000e+ - ETA: 0s - loss: 0.0623 - accuracy: 0.0000e+ - ETA: 0s - loss: 0.1034 - accuracy: 0.0000e+ - ETA: 0s - loss: 0.0998 - accuracy: 0.0000e+ - ETA: 0s - loss: 0.0924 - accuracy: 0.0000e+ - ETA: 0s - loss: 0.0801 - accuracy: 0.0000e+ - ETA: 0s - loss: 0.0896 - accuracy: 0.0000e+ - ETA: 0s - loss: 0.0899 - accuracy: 0.0000e+ - 0s 2ms/step - loss: 0.0922 - accuracy: 0.0000e+00\n",
      "Epoch 86/200\n",
      "200/200 [==============================] - ETA: 0s - loss: 0.1852 - accuracy: 0.0000e+ - ETA: 0s - loss: 0.0457 - accuracy: 0.0000e+ - ETA: 0s - loss: 0.0610 - accuracy: 0.0000e+ - ETA: 0s - loss: 0.0802 - accuracy: 0.0000e+ - ETA: 0s - loss: 0.0746 - accuracy: 0.0000e+ - ETA: 0s - loss: 0.0711 - accuracy: 0.0000e+ - ETA: 0s - loss: 0.0774 - accuracy: 0.0000e+ - ETA: 0s - loss: 0.0853 - accuracy: 0.0000e+ - 0s 2ms/step - loss: 0.0851 - accuracy: 0.0000e+00\n",
      "Epoch 87/200\n",
      "200/200 [==============================] - ETA: 0s - loss: 0.0443 - accuracy: 0.0000e+ - ETA: 0s - loss: 0.0967 - accuracy: 0.0000e+ - ETA: 0s - loss: 0.0700 - accuracy: 0.0000e+ - ETA: 0s - loss: 0.0583 - accuracy: 0.0000e+ - ETA: 0s - loss: 0.1513 - accuracy: 0.0000e+ - ETA: 0s - loss: 0.1482 - accuracy: 0.0000e+ - ETA: 0s - loss: 0.1306 - accuracy: 0.0000e+ - ETA: 0s - loss: 0.1194 - accuracy: 0.0000e+ - 0s 2ms/step - loss: 0.1188 - accuracy: 0.0000e+00\n",
      "Epoch 88/200\n",
      "200/200 [==============================] - ETA: 0s - loss: 0.0378 - accuracy: 0.0000e+ - ETA: 0s - loss: 0.0552 - accuracy: 0.0000e+ - ETA: 0s - loss: 0.0541 - accuracy: 0.0000e+ - ETA: 0s - loss: 0.0485 - accuracy: 0.0000e+ - ETA: 0s - loss: 0.1074 - accuracy: 0.0000e+ - ETA: 0s - loss: 0.0970 - accuracy: 0.0000e+ - ETA: 0s - loss: 0.1097 - accuracy: 0.0000e+ - ETA: 0s - loss: 0.1035 - accuracy: 0.0000e+ - 0s 2ms/step - loss: 0.1023 - accuracy: 0.0000e+00\n",
      "Epoch 89/200\n",
      "200/200 [==============================] - ETA: 0s - loss: 0.0118 - accuracy: 0.0000e+ - ETA: 0s - loss: 0.0330 - accuracy: 0.0000e+ - ETA: 0s - loss: 0.0624 - accuracy: 0.0000e+ - ETA: 0s - loss: 0.0529 - accuracy: 0.0000e+ - ETA: 0s - loss: 0.0581 - accuracy: 0.0000e+ - ETA: 0s - loss: 0.1089 - accuracy: 0.0000e+ - ETA: 0s - loss: 0.1198 - accuracy: 0.0000e+ - ETA: 0s - loss: 0.1308 - accuracy: 0.0000e+ - 0s 2ms/step - loss: 0.1301 - accuracy: 0.0000e+00\n",
      "Epoch 90/200\n",
      "200/200 [==============================] - ETA: 0s - loss: 0.0447 - accuracy: 0.0000e+ - ETA: 0s - loss: 0.2602 - accuracy: 0.0000e+ - ETA: 0s - loss: 0.3204 - accuracy: 0.0000e+ - ETA: 0s - loss: 0.2548 - accuracy: 0.0000e+ - ETA: 0s - loss: 0.2156 - accuracy: 0.0000e+ - ETA: 0s - loss: 0.2172 - accuracy: 0.0000e+ - ETA: 0s - loss: 0.2233 - accuracy: 0.0000e+ - ETA: 0s - loss: 0.2060 - accuracy: 0.0000e+ - 0s 2ms/step - loss: 0.2037 - accuracy: 0.0000e+00\n",
      "Epoch 91/200\n",
      "200/200 [==============================] - ETA: 0s - loss: 0.0394 - accuracy: 0.0000e+ - ETA: 0s - loss: 0.1242 - accuracy: 0.0000e+ - ETA: 0s - loss: 0.1042 - accuracy: 0.0000e+ - ETA: 0s - loss: 0.1153 - accuracy: 0.0000e+ - ETA: 0s - loss: 0.1055 - accuracy: 0.0000e+ - ETA: 0s - loss: 0.0995 - accuracy: 0.0000e+ - ETA: 0s - loss: 0.0889 - accuracy: 0.0000e+ - ETA: 0s - loss: 0.0963 - accuracy: 0.0000e+ - 0s 2ms/step - loss: 0.0980 - accuracy: 0.0000e+00\n",
      "Epoch 92/200\n",
      "200/200 [==============================] - ETA: 0s - loss: 0.0320 - accuracy: 0.0000e+ - ETA: 0s - loss: 0.2666 - accuracy: 0.0000e+ - ETA: 0s - loss: 0.5440 - accuracy: 0.0000e+ - ETA: 0s - loss: 0.4433 - accuracy: 0.0000e+ - ETA: 0s - loss: 0.3597 - accuracy: 0.0000e+ - ETA: 0s - loss: 0.3004 - accuracy: 0.0000e+ - ETA: 0s - loss: 0.3344 - accuracy: 0.0000e+ - ETA: 0s - loss: 0.3451 - accuracy: 0.0000e+ - 0s 2ms/step - loss: 0.3522 - accuracy: 0.0000e+00\n",
      "Epoch 93/200\n",
      "200/200 [==============================] - ETA: 0s - loss: 0.1384 - accuracy: 0.0000e+ - ETA: 0s - loss: 0.1458 - accuracy: 0.0000e+ - ETA: 0s - loss: 0.1654 - accuracy: 0.0000e+ - ETA: 0s - loss: 0.1322 - accuracy: 0.0000e+ - ETA: 0s - loss: 0.1475 - accuracy: 0.0000e+ - ETA: 0s - loss: 0.1267 - accuracy: 0.0000e+ - ETA: 0s - loss: 0.1356 - accuracy: 0.0000e+ - ETA: 0s - loss: 0.1316 - accuracy: 0.0000e+ - 0s 2ms/step - loss: 0.1300 - accuracy: 0.0000e+00\n",
      "Epoch 94/200\n",
      "200/200 [==============================] - ETA: 0s - loss: 0.1292 - accuracy: 0.0000e+ - ETA: 0s - loss: 0.0584 - accuracy: 0.0000e+ - ETA: 0s - loss: 0.2113 - accuracy: 0.0000e+ - ETA: 0s - loss: 0.1765 - accuracy: 0.0000e+ - ETA: 0s - loss: 0.1466 - accuracy: 0.0000e+ - ETA: 0s - loss: 0.1639 - accuracy: 0.0000e+ - ETA: 0s - loss: 0.1688 - accuracy: 0.0000e+ - ETA: 0s - loss: 0.2024 - accuracy: 0.0000e+ - 0s 2ms/step - loss: 0.2094 - accuracy: 0.0000e+00\n",
      "Epoch 95/200\n",
      "200/200 [==============================] - ETA: 0s - loss: 0.0906 - accuracy: 0.0000e+ - ETA: 0s - loss: 0.2120 - accuracy: 0.0000e+ - ETA: 0s - loss: 0.1325 - accuracy: 0.0000e+ - ETA: 0s - loss: 0.1310 - accuracy: 0.0000e+ - ETA: 0s - loss: 0.2173 - accuracy: 0.0000e+ - ETA: 0s - loss: 0.2169 - accuracy: 0.0000e+ - ETA: 0s - loss: 0.1938 - accuracy: 0.0000e+ - ETA: 0s - loss: 0.1724 - accuracy: 0.0000e+ - 0s 2ms/step - loss: 0.1699 - accuracy: 0.0000e+00\n",
      "Epoch 96/200\n",
      "200/200 [==============================] - ETA: 0s - loss: 0.1135 - accuracy: 0.0000e+ - ETA: 0s - loss: 0.1521 - accuracy: 0.0000e+ - ETA: 0s - loss: 0.1157 - accuracy: 0.0000e+ - ETA: 0s - loss: 0.0926 - accuracy: 0.0000e+ - ETA: 0s - loss: 0.0840 - accuracy: 0.0000e+ - ETA: 0s - loss: 0.0729 - accuracy: 0.0000e+ - ETA: 0s - loss: 0.0710 - accuracy: 0.0000e+ - ETA: 0s - loss: 0.0677 - accuracy: 0.0000e+ - 0s 2ms/step - loss: 0.0678 - accuracy: 0.0000e+00\n",
      "Epoch 97/200\n",
      "200/200 [==============================] - ETA: 0s - loss: 0.0381 - accuracy: 0.0000e+ - ETA: 0s - loss: 0.3055 - accuracy: 0.0000e+ - ETA: 0s - loss: 0.3709 - accuracy: 0.0000e+ - ETA: 0s - loss: 0.3629 - accuracy: 0.0000e+ - ETA: 0s - loss: 0.2972 - accuracy: 0.0000e+ - ETA: 0s - loss: 0.2484 - accuracy: 0.0000e+ - ETA: 0s - loss: 0.2265 - accuracy: 0.0000e+ - ETA: 0s - loss: 0.2033 - accuracy: 0.0000e+ - 0s 2ms/step - loss: 0.2016 - accuracy: 0.0000e+00\n",
      "Epoch 98/200\n",
      "200/200 [==============================] - ETA: 0s - loss: 0.0238 - accuracy: 0.0000e+ - ETA: 0s - loss: 0.0368 - accuracy: 0.0000e+ - ETA: 0s - loss: 0.1088 - accuracy: 0.0000e+ - ETA: 0s - loss: 0.1088 - accuracy: 0.0000e+ - ETA: 0s - loss: 0.0946 - accuracy: 0.0000e+ - ETA: 0s - loss: 0.0847 - accuracy: 0.0000e+ - ETA: 0s - loss: 0.1133 - accuracy: 0.0000e+ - ETA: 0s - loss: 0.2075 - accuracy: 0.0000e+ - 0s 2ms/step - loss: 0.2051 - accuracy: 0.0000e+00\n",
      "Epoch 99/200\n",
      "200/200 [==============================] - ETA: 0s - loss: 0.0797 - accuracy: 0.0000e+ - ETA: 0s - loss: 0.0803 - accuracy: 0.0000e+ - ETA: 0s - loss: 0.1027 - accuracy: 0.0000e+ - ETA: 0s - loss: 0.0861 - accuracy: 0.0000e+ - ETA: 0s - loss: 0.0809 - accuracy: 0.0000e+ - ETA: 0s - loss: 0.0713 - accuracy: 0.0000e+ - ETA: 0s - loss: 0.0645 - accuracy: 0.0000e+ - ETA: 0s - loss: 0.0600 - accuracy: 0.0000e+ - 0s 2ms/step - loss: 0.0616 - accuracy: 0.0000e+00\n",
      "Epoch 100/200\n",
      "200/200 [==============================] - ETA: 0s - loss: 0.0279 - accuracy: 0.0000e+ - ETA: 0s - loss: 0.0529 - accuracy: 0.0000e+ - ETA: 0s - loss: 0.0417 - accuracy: 0.0000e+ - ETA: 0s - loss: 0.0376 - accuracy: 0.0000e+ - ETA: 0s - loss: 0.0466 - accuracy: 0.0000e+ - ETA: 0s - loss: 0.0469 - accuracy: 0.0000e+ - ETA: 0s - loss: 0.0512 - accuracy: 0.0000e+ - ETA: 0s - loss: 0.0818 - accuracy: 0.0000e+ - 0s 2ms/step - loss: 0.0813 - accuracy: 0.0000e+00\n",
      "Epoch 101/200\n",
      "200/200 [==============================] - ETA: 0s - loss: 0.0131 - accuracy: 0.0000e+ - ETA: 0s - loss: 0.0473 - accuracy: 0.0000e+ - ETA: 0s - loss: 0.0448 - accuracy: 0.0000e+ - ETA: 0s - loss: 0.0703 - accuracy: 0.0000e+ - ETA: 0s - loss: 0.0739 - accuracy: 0.0000e+ - ETA: 0s - loss: 0.1574 - accuracy: 0.0000e+ - ETA: 0s - loss: 0.1418 - accuracy: 0.0000e+ - ETA: 0s - loss: 0.1257 - accuracy: 0.0000e+ - 0s 2ms/step - loss: 0.1270 - accuracy: 0.0000e+00\n",
      "Epoch 102/200\n",
      "200/200 [==============================] - ETA: 0s - loss: 0.0165 - accuracy: 0.0000e+ - ETA: 0s - loss: 0.1091 - accuracy: 0.0000e+ - ETA: 0s - loss: 0.0722 - accuracy: 0.0000e+ - ETA: 0s - loss: 0.0687 - accuracy: 0.0000e+ - ETA: 0s - loss: 0.0653 - accuracy: 0.0000e+ - ETA: 0s - loss: 0.0578 - accuracy: 0.0000e+ - ETA: 0s - loss: 0.0545 - accuracy: 0.0000e+ - ETA: 0s - loss: 0.0579 - accuracy: 0.0000e+ - 0s 2ms/step - loss: 0.0580 - accuracy: 0.0000e+00\n",
      "Epoch 103/200\n",
      "200/200 [==============================] - ETA: 0s - loss: 0.0046 - accuracy: 0.0000e+ - ETA: 0s - loss: 0.1985 - accuracy: 0.0000e+ - ETA: 0s - loss: 0.1542 - accuracy: 0.0000e+ - ETA: 0s - loss: 0.2151 - accuracy: 0.0000e+ - ETA: 0s - loss: 0.5198 - accuracy: 0.0000e+ - ETA: 0s - loss: 0.9691 - accuracy: 0.0000e+ - ETA: 0s - loss: 0.9955 - accuracy: 0.0000e+ - ETA: 0s - loss: 1.5824 - accuracy: 0.0000e+ - 0s 2ms/step - loss: 1.5614 - accuracy: 0.0000e+00\n",
      "Epoch 104/200\n",
      "200/200 [==============================] - ETA: 0s - loss: 0.2035 - accuracy: 0.0000e+ - ETA: 0s - loss: 1.3405 - accuracy: 0.0000e+ - ETA: 0s - loss: 1.1238 - accuracy: 0.0000e+ - ETA: 0s - loss: 1.3626 - accuracy: 0.0000e+ - ETA: 0s - loss: 1.2354 - accuracy: 0.0000e+ - ETA: 0s - loss: 1.1161 - accuracy: 0.0000e+ - ETA: 0s - loss: 1.7666 - accuracy: 0.0000e+ - ETA: 0s - loss: 1.5621 - accuracy: 0.0000e+ - 0s 2ms/step - loss: 1.5400 - accuracy: 0.0000e+00\n",
      "Epoch 105/200\n",
      "200/200 [==============================] - ETA: 0s - loss: 0.0748 - accuracy: 0.0000e+ - ETA: 0s - loss: 0.6936 - accuracy: 0.0000e+ - ETA: 0s - loss: 0.4219 - accuracy: 0.0000e+ - ETA: 0s - loss: 0.3232 - accuracy: 0.0000e+ - ETA: 0s - loss: 0.2794 - accuracy: 0.0000e+ - ETA: 0s - loss: 0.2408 - accuracy: 0.0000e+ - ETA: 0s - loss: 0.2161 - accuracy: 0.0000e+ - ETA: 0s - loss: 0.2075 - accuracy: 0.0000e+ - 0s 2ms/step - loss: 0.2062 - accuracy: 0.0000e+00\n",
      "Epoch 106/200\n",
      "200/200 [==============================] - ETA: 0s - loss: 0.2152 - accuracy: 0.0000e+ - ETA: 0s - loss: 0.1076 - accuracy: 0.0000e+ - ETA: 0s - loss: 0.2214 - accuracy: 0.0000e+ - ETA: 0s - loss: 0.1997 - accuracy: 0.0000e+ - ETA: 0s - loss: 0.1762 - accuracy: 0.0000e+ - ETA: 0s - loss: 0.2032 - accuracy: 0.0000e+ - ETA: 0s - loss: 0.2230 - accuracy: 0.0000e+ - ETA: 0s - loss: 0.2035 - accuracy: 0.0000e+ - 0s 2ms/step - loss: 0.2013 - accuracy: 0.0000e+00\n",
      "Epoch 107/200\n",
      "200/200 [==============================] - ETA: 0s - loss: 0.0213 - accuracy: 0.0000e+ - ETA: 0s - loss: 0.1538 - accuracy: 0.0000e+ - ETA: 0s - loss: 0.2290 - accuracy: 0.0000e+ - ETA: 0s - loss: 0.1873 - accuracy: 0.0000e+ - ETA: 0s - loss: 0.1645 - accuracy: 0.0000e+ - ETA: 0s - loss: 0.1548 - accuracy: 0.0000e+ - ETA: 0s - loss: 0.1515 - accuracy: 0.0000e+ - ETA: 0s - loss: 0.1604 - accuracy: 0.0000e+ - 0s 2ms/step - loss: 0.1594 - accuracy: 0.0000e+00\n",
      "Epoch 108/200\n",
      "200/200 [==============================] - ETA: 0s - loss: 0.0779 - accuracy: 0.0000e+ - ETA: 0s - loss: 0.1673 - accuracy: 0.0000e+ - ETA: 0s - loss: 0.1356 - accuracy: 0.0000e+ - ETA: 0s - loss: 0.1434 - accuracy: 0.0000e+ - ETA: 0s - loss: 0.1243 - accuracy: 0.0000e+ - ETA: 0s - loss: 0.1132 - accuracy: 0.0000e+ - ETA: 0s - loss: 0.1311 - accuracy: 0.0000e+ - ETA: 0s - loss: 0.1217 - accuracy: 0.0000e+ - 0s 2ms/step - loss: 0.1212 - accuracy: 0.0000e+00\n",
      "Epoch 109/200\n",
      "200/200 [==============================] - ETA: 0s - loss: 0.0430 - accuracy: 0.0000e+ - ETA: 0s - loss: 0.0579 - accuracy: 0.0000e+ - ETA: 0s - loss: 0.1111 - accuracy: 0.0000e+ - ETA: 0s - loss: 0.1304 - accuracy: 0.0000e+ - ETA: 0s - loss: 0.1296 - accuracy: 0.0000e+ - ETA: 0s - loss: 0.1183 - accuracy: 0.0000e+ - ETA: 0s - loss: 0.1108 - accuracy: 0.0000e+ - ETA: 0s - loss: 0.1089 - accuracy: 0.0000e+ - 0s 2ms/step - loss: 0.1176 - accuracy: 0.0000e+00\n",
      "Epoch 110/200\n",
      "200/200 [==============================] - ETA: 0s - loss: 0.0534 - accuracy: 0.0000e+ - ETA: 0s - loss: 0.1807 - accuracy: 0.0000e+ - ETA: 0s - loss: 0.1474 - accuracy: 0.0000e+ - ETA: 0s - loss: 0.1527 - accuracy: 0.0000e+ - ETA: 0s - loss: 0.1599 - accuracy: 0.0000e+ - ETA: 0s - loss: 0.1854 - accuracy: 0.0000e+ - ETA: 0s - loss: 0.2450 - accuracy: 0.0000e+ - ETA: 0s - loss: 0.2366 - accuracy: 0.0000e+ - 0s 2ms/step - loss: 0.2347 - accuracy: 0.0000e+00\n",
      "Epoch 111/200\n",
      "200/200 [==============================] - ETA: 0s - loss: 0.0221 - accuracy: 0.0000e+ - ETA: 0s - loss: 0.0919 - accuracy: 0.0000e+ - ETA: 0s - loss: 0.0837 - accuracy: 0.0000e+ - ETA: 0s - loss: 0.0753 - accuracy: 0.0000e+ - ETA: 0s - loss: 0.0669 - accuracy: 0.0000e+ - ETA: 0s - loss: 0.0712 - accuracy: 0.0000e+ - ETA: 0s - loss: 0.0691 - accuracy: 0.0000e+ - ETA: 0s - loss: 0.0683 - accuracy: 0.0000e+ - 0s 2ms/step - loss: 0.0680 - accuracy: 0.0000e+00\n",
      "Epoch 112/200\n",
      "200/200 [==============================] - ETA: 0s - loss: 0.0418 - accuracy: 0.0000e+ - ETA: 0s - loss: 0.0534 - accuracy: 0.0000e+ - ETA: 0s - loss: 0.0716 - accuracy: 0.0000e+ - ETA: 0s - loss: 0.1821 - accuracy: 0.0000e+ - ETA: 0s - loss: 0.3119 - accuracy: 0.0000e+ - ETA: 0s - loss: 0.2815 - accuracy: 0.0000e+ - ETA: 0s - loss: 0.2542 - accuracy: 0.0000e+ - ETA: 0s - loss: 0.2323 - accuracy: 0.0000e+ - 0s 2ms/step - loss: 0.2292 - accuracy: 0.0000e+00\n",
      "Epoch 113/200\n",
      "200/200 [==============================] - ETA: 0s - loss: 0.0470 - accuracy: 0.0000e+ - ETA: 0s - loss: 0.0495 - accuracy: 0.0000e+ - ETA: 0s - loss: 0.1661 - accuracy: 0.0000e+ - ETA: 0s - loss: 0.1443 - accuracy: 0.0000e+ - ETA: 0s - loss: 0.1278 - accuracy: 0.0000e+ - ETA: 0s - loss: 0.1119 - accuracy: 0.0000e+ - ETA: 0s - loss: 0.1044 - accuracy: 0.0000e+ - ETA: 0s - loss: 0.0968 - accuracy: 0.0000e+ - 0s 2ms/step - loss: 0.0959 - accuracy: 0.0000e+00\n",
      "Epoch 114/200\n",
      "200/200 [==============================] - ETA: 0s - loss: 0.0226 - accuracy: 0.0000e+ - ETA: 0s - loss: 0.0233 - accuracy: 0.0000e+ - ETA: 0s - loss: 0.0345 - accuracy: 0.0000e+ - ETA: 0s - loss: 0.0535 - accuracy: 0.0000e+ - ETA: 0s - loss: 0.0573 - accuracy: 0.0000e+ - ETA: 0s - loss: 0.0570 - accuracy: 0.0000e+ - ETA: 0s - loss: 0.0564 - accuracy: 0.0000e+ - ETA: 0s - loss: 0.0549 - accuracy: 0.0000e+ - 0s 2ms/step - loss: 0.0544 - accuracy: 0.0000e+00\n",
      "Epoch 115/200\n",
      "200/200 [==============================] - ETA: 0s - loss: 0.0643 - accuracy: 0.0000e+ - ETA: 0s - loss: 0.0395 - accuracy: 0.0000e+ - ETA: 0s - loss: 0.2362 - accuracy: 0.0000e+ - ETA: 0s - loss: 0.3856 - accuracy: 0.0000e+ - ETA: 0s - loss: 0.3178 - accuracy: 0.0000e+ - ETA: 0s - loss: 0.3080 - accuracy: 0.0000e+ - ETA: 0s - loss: 0.3102 - accuracy: 0.0000e+ - ETA: 0s - loss: 0.2772 - accuracy: 0.0000e+ - 0s 2ms/step - loss: 0.2744 - accuracy: 0.0000e+00\n",
      "Epoch 116/200\n",
      "200/200 [==============================] - ETA: 0s - loss: 0.0642 - accuracy: 0.0000e+ - ETA: 0s - loss: 0.0457 - accuracy: 0.0000e+ - ETA: 0s - loss: 0.0590 - accuracy: 0.0000e+ - ETA: 0s - loss: 0.0543 - accuracy: 0.0000e+ - ETA: 0s - loss: 0.0493 - accuracy: 0.0000e+ - ETA: 0s - loss: 0.0655 - accuracy: 0.0000e+ - ETA: 0s - loss: 0.0636 - accuracy: 0.0000e+ - ETA: 0s - loss: 0.0717 - accuracy: 0.0000e+ - 0s 2ms/step - loss: 0.0714 - accuracy: 0.0000e+00\n",
      "Epoch 117/200\n",
      "200/200 [==============================] - ETA: 0s - loss: 0.0731 - accuracy: 0.0000e+ - ETA: 0s - loss: 0.2009 - accuracy: 0.0000e+ - ETA: 0s - loss: 0.1456 - accuracy: 0.0000e+ - ETA: 0s - loss: 0.1831 - accuracy: 0.0000e+ - ETA: 0s - loss: 0.2227 - accuracy: 0.0000e+ - ETA: 0s - loss: 0.2463 - accuracy: 0.0000e+ - ETA: 0s - loss: 0.2293 - accuracy: 0.0000e+ - ETA: 0s - loss: 0.2042 - accuracy: 0.0000e+ - 0s 2ms/step - loss: 0.2031 - accuracy: 0.0000e+00\n",
      "Epoch 118/200\n",
      "200/200 [==============================] - ETA: 0s - loss: 0.0121 - accuracy: 0.0000e+ - ETA: 0s - loss: 0.1029 - accuracy: 0.0000e+ - ETA: 0s - loss: 0.0802 - accuracy: 0.0000e+ - ETA: 0s - loss: 0.1841 - accuracy: 0.0000e+ - ETA: 0s - loss: 0.1782 - accuracy: 0.0000e+ - ETA: 0s - loss: 0.2244 - accuracy: 0.0000e+ - ETA: 0s - loss: 0.2064 - accuracy: 0.0000e+ - ETA: 0s - loss: 0.1837 - accuracy: 0.0000e+ - 0s 2ms/step - loss: 0.1821 - accuracy: 0.0000e+00\n",
      "Epoch 119/200\n",
      "200/200 [==============================] - ETA: 0s - loss: 0.0070 - accuracy: 0.0000e+ - ETA: 0s - loss: 0.0657 - accuracy: 0.0000e+ - ETA: 0s - loss: 0.0938 - accuracy: 0.0000e+ - ETA: 0s - loss: 0.0769 - accuracy: 0.0000e+ - ETA: 0s - loss: 0.0702 - accuracy: 0.0000e+ - ETA: 0s - loss: 0.0704 - accuracy: 0.0000e+ - ETA: 0s - loss: 0.0731 - accuracy: 0.0000e+ - ETA: 0s - loss: 0.0699 - accuracy: 0.0000e+ - 0s 2ms/step - loss: 0.0714 - accuracy: 0.0000e+00\n",
      "Epoch 120/200\n",
      "200/200 [==============================] - ETA: 0s - loss: 0.0076 - accuracy: 0.0000e+ - ETA: 0s - loss: 0.1194 - accuracy: 0.0000e+ - ETA: 0s - loss: 0.1054 - accuracy: 0.0000e+ - ETA: 0s - loss: 0.1186 - accuracy: 0.0000e+ - ETA: 0s - loss: 0.1118 - accuracy: 0.0000e+ - ETA: 0s - loss: 0.1234 - accuracy: 0.0000e+ - ETA: 0s - loss: 0.1331 - accuracy: 0.0000e+ - ETA: 0s - loss: 0.1224 - accuracy: 0.0000e+ - 0s 2ms/step - loss: 0.1211 - accuracy: 0.0000e+00\n",
      "Epoch 121/200\n",
      "200/200 [==============================] - ETA: 0s - loss: 0.0373 - accuracy: 0.0000e+ - ETA: 0s - loss: 0.5398 - accuracy: 0.0000e+ - ETA: 0s - loss: 0.4174 - accuracy: 0.0000e+ - ETA: 0s - loss: 0.3046 - accuracy: 0.0000e+ - ETA: 0s - loss: 0.3264 - accuracy: 0.0000e+ - ETA: 0s - loss: 0.2785 - accuracy: 0.0000e+ - ETA: 0s - loss: 0.2412 - accuracy: 0.0000e+ - ETA: 0s - loss: 0.2157 - accuracy: 0.0000e+ - 0s 2ms/step - loss: 0.2131 - accuracy: 0.0000e+00\n",
      "Epoch 122/200\n",
      "200/200 [==============================] - ETA: 0s - loss: 0.0167 - accuracy: 0.0000e+ - ETA: 0s - loss: 0.0362 - accuracy: 0.0000e+ - ETA: 0s - loss: 0.0295 - accuracy: 0.0000e+ - ETA: 0s - loss: 0.0358 - accuracy: 0.0000e+ - ETA: 0s - loss: 0.0414 - accuracy: 0.0000e+ - ETA: 0s - loss: 0.0440 - accuracy: 0.0000e+ - ETA: 0s - loss: 0.0535 - accuracy: 0.0000e+ - ETA: 0s - loss: 0.0652 - accuracy: 0.0000e+ - 0s 2ms/step - loss: 0.0691 - accuracy: 0.0000e+00\n",
      "Epoch 123/200\n",
      "200/200 [==============================] - ETA: 0s - loss: 1.2240 - accuracy: 0.0000e+ - ETA: 0s - loss: 0.1284 - accuracy: 0.0000e+ - ETA: 0s - loss: 0.1112 - accuracy: 0.0000e+ - ETA: 0s - loss: 0.0878 - accuracy: 0.0000e+ - ETA: 0s - loss: 0.0908 - accuracy: 0.0000e+ - ETA: 0s - loss: 0.0990 - accuracy: 0.0000e+ - ETA: 0s - loss: 0.0872 - accuracy: 0.0000e+ - ETA: 0s - loss: 0.0817 - accuracy: 0.0000e+ - 0s 2ms/step - loss: 0.0821 - accuracy: 0.0000e+00\n",
      "Epoch 124/200\n",
      "200/200 [==============================] - ETA: 0s - loss: 0.0083 - accuracy: 0.0000e+ - ETA: 0s - loss: 0.0198 - accuracy: 0.0000e+ - ETA: 0s - loss: 0.0293 - accuracy: 0.0000e+ - ETA: 0s - loss: 0.0348 - accuracy: 0.0000e+ - ETA: 0s - loss: 0.0345 - accuracy: 0.0000e+ - ETA: 0s - loss: 0.0679 - accuracy: 0.0000e+ - ETA: 0s - loss: 0.0802 - accuracy: 0.0000e+ - ETA: 0s - loss: 0.0850 - accuracy: 0.0000e+ - 0s 2ms/step - loss: 0.0866 - accuracy: 0.0000e+00\n",
      "Epoch 125/200\n",
      "200/200 [==============================] - ETA: 0s - loss: 0.0149 - accuracy: 0.0000e+ - ETA: 0s - loss: 0.0711 - accuracy: 0.0000e+ - ETA: 0s - loss: 0.0853 - accuracy: 0.0000e+ - ETA: 0s - loss: 0.0796 - accuracy: 0.0000e+ - ETA: 0s - loss: 0.0767 - accuracy: 0.0000e+ - ETA: 0s - loss: 0.0766 - accuracy: 0.0000e+ - ETA: 0s - loss: 0.0732 - accuracy: 0.0000e+ - ETA: 0s - loss: 0.0670 - accuracy: 0.0000e+ - 0s 2ms/step - loss: 0.0776 - accuracy: 0.0000e+00\n",
      "Epoch 126/200\n",
      "200/200 [==============================] - ETA: 0s - loss: 0.1485 - accuracy: 0.0000e+ - ETA: 0s - loss: 0.0847 - accuracy: 0.0000e+ - ETA: 0s - loss: 0.2893 - accuracy: 0.0000e+ - ETA: 0s - loss: 0.3594 - accuracy: 0.0000e+ - ETA: 0s - loss: 0.2876 - accuracy: 0.0000e+ - ETA: 0s - loss: 0.5717 - accuracy: 0.0000e+ - ETA: 0s - loss: 0.5930 - accuracy: 0.0000e+ - ETA: 0s - loss: 0.5367 - accuracy: 0.0000e+ - 0s 2ms/step - loss: 0.5293 - accuracy: 0.0000e+00\n",
      "Epoch 127/200\n",
      "200/200 [==============================] - ETA: 0s - loss: 0.0938 - accuracy: 0.0000e+ - ETA: 0s - loss: 0.0864 - accuracy: 0.0000e+ - ETA: 0s - loss: 0.0683 - accuracy: 0.0000e+ - ETA: 0s - loss: 0.0737 - accuracy: 0.0000e+ - ETA: 0s - loss: 0.0777 - accuracy: 0.0000e+ - ETA: 0s - loss: 0.0913 - accuracy: 0.0000e+ - ETA: 0s - loss: 0.0841 - accuracy: 0.0000e+ - ETA: 0s - loss: 0.0785 - accuracy: 0.0000e+ - 0s 2ms/step - loss: 0.0782 - accuracy: 0.0000e+00\n",
      "Epoch 128/200\n",
      "200/200 [==============================] - ETA: 0s - loss: 0.0318 - accuracy: 0.0000e+ - ETA: 0s - loss: 0.1147 - accuracy: 0.0000e+ - ETA: 0s - loss: 0.0771 - accuracy: 0.0000e+ - ETA: 0s - loss: 0.0675 - accuracy: 0.0000e+ - ETA: 0s - loss: 0.0675 - accuracy: 0.0000e+ - ETA: 0s - loss: 0.0604 - accuracy: 0.0000e+ - ETA: 0s - loss: 0.0751 - accuracy: 0.0000e+ - ETA: 0s - loss: 0.0725 - accuracy: 0.0000e+ - 0s 2ms/step - loss: 0.0722 - accuracy: 0.0000e+00\n",
      "Epoch 129/200\n",
      "200/200 [==============================] - ETA: 0s - loss: 0.3053 - accuracy: 0.0000e+ - ETA: 0s - loss: 0.0799 - accuracy: 0.0000e+ - ETA: 0s - loss: 0.0777 - accuracy: 0.0000e+ - ETA: 0s - loss: 0.0669 - accuracy: 0.0000e+ - ETA: 0s - loss: 0.0813 - accuracy: 0.0000e+ - ETA: 0s - loss: 0.1050 - accuracy: 0.0000e+ - ETA: 0s - loss: 0.0986 - accuracy: 0.0000e+ - ETA: 0s - loss: 0.0911 - accuracy: 0.0000e+ - 0s 2ms/step - loss: 0.0904 - accuracy: 0.0000e+00\n",
      "Epoch 130/200\n",
      "200/200 [==============================] - ETA: 0s - loss: 0.0482 - accuracy: 0.0000e+ - ETA: 0s - loss: 0.0449 - accuracy: 0.0000e+ - ETA: 0s - loss: 0.0372 - accuracy: 0.0000e+ - ETA: 0s - loss: 0.0402 - accuracy: 0.0000e+ - ETA: 0s - loss: 0.0717 - accuracy: 0.0000e+ - ETA: 0s - loss: 0.0688 - accuracy: 0.0000e+ - ETA: 0s - loss: 0.0753 - accuracy: 0.0000e+ - ETA: 0s - loss: 0.0953 - accuracy: 0.0000e+ - 0s 2ms/step - loss: 0.0943 - accuracy: 0.0000e+00\n",
      "Epoch 131/200\n",
      "200/200 [==============================] - ETA: 0s - loss: 0.2231 - accuracy: 0.0000e+ - ETA: 0s - loss: 0.0938 - accuracy: 0.0000e+ - ETA: 0s - loss: 0.0755 - accuracy: 0.0000e+ - ETA: 0s - loss: 0.1190 - accuracy: 0.0000e+ - ETA: 0s - loss: 0.1652 - accuracy: 0.0000e+ - ETA: 0s - loss: 0.1635 - accuracy: 0.0000e+ - ETA: 0s - loss: 0.1505 - accuracy: 0.0000e+ - ETA: 0s - loss: 0.1485 - accuracy: 0.0000e+ - 0s 2ms/step - loss: 0.1499 - accuracy: 0.0000e+00\n",
      "Epoch 132/200\n",
      "200/200 [==============================] - ETA: 0s - loss: 0.0452 - accuracy: 0.0000e+ - ETA: 0s - loss: 0.0455 - accuracy: 0.0000e+ - ETA: 0s - loss: 0.0469 - accuracy: 0.0000e+ - ETA: 0s - loss: 0.0452 - accuracy: 0.0000e+ - ETA: 0s - loss: 0.0431 - accuracy: 0.0000e+ - ETA: 0s - loss: 0.0493 - accuracy: 0.0000e+ - ETA: 0s - loss: 0.0464 - accuracy: 0.0000e+ - ETA: 0s - loss: 0.0476 - accuracy: 0.0000e+ - 0s 2ms/step - loss: 0.0472 - accuracy: 0.0000e+00\n",
      "Epoch 133/200\n",
      "200/200 [==============================] - ETA: 0s - loss: 0.1193 - accuracy: 0.0000e+ - ETA: 0s - loss: 0.0353 - accuracy: 0.0000e+ - ETA: 0s - loss: 0.0888 - accuracy: 0.0000e+ - ETA: 0s - loss: 0.0818 - accuracy: 0.0000e+ - ETA: 0s - loss: 0.0730 - accuracy: 0.0000e+ - ETA: 0s - loss: 0.0843 - accuracy: 0.0000e+ - ETA: 0s - loss: 0.1034 - accuracy: 0.0000e+ - ETA: 0s - loss: 0.1001 - accuracy: 0.0000e+ - 0s 2ms/step - loss: 0.1009 - accuracy: 0.0000e+00\n",
      "Epoch 134/200\n",
      "200/200 [==============================] - ETA: 0s - loss: 0.0516 - accuracy: 0.0000e+ - ETA: 0s - loss: 0.0647 - accuracy: 0.0000e+ - ETA: 0s - loss: 0.1450 - accuracy: 0.0000e+ - ETA: 0s - loss: 0.3460 - accuracy: 0.0000e+ - ETA: 0s - loss: 0.2806 - accuracy: 0.0000e+ - ETA: 0s - loss: 0.2343 - accuracy: 0.0000e+ - ETA: 0s - loss: 0.4349 - accuracy: 0.0000e+ - ETA: 0s - loss: 0.6225 - accuracy: 0.0000e+ - 0s 2ms/step - loss: 0.6216 - accuracy: 0.0000e+00\n",
      "Epoch 135/200\n",
      "200/200 [==============================] - ETA: 0s - loss: 0.0512 - accuracy: 0.0000e+ - ETA: 0s - loss: 0.1289 - accuracy: 0.0000e+ - ETA: 0s - loss: 0.0954 - accuracy: 0.0000e+ - ETA: 0s - loss: 0.1470 - accuracy: 0.0000e+ - ETA: 0s - loss: 0.1219 - accuracy: 0.0000e+ - ETA: 0s - loss: 0.1131 - accuracy: 0.0000e+ - ETA: 0s - loss: 0.1041 - accuracy: 0.0000e+ - ETA: 0s - loss: 0.0966 - accuracy: 0.0000e+ - 0s 2ms/step - loss: 0.0961 - accuracy: 0.0000e+00\n",
      "Epoch 136/200\n",
      "200/200 [==============================] - ETA: 0s - loss: 0.0657 - accuracy: 0.0000e+ - ETA: 0s - loss: 0.0349 - accuracy: 0.0000e+ - ETA: 0s - loss: 0.0414 - accuracy: 0.0000e+ - ETA: 0s - loss: 0.0417 - accuracy: 0.0000e+ - ETA: 0s - loss: 0.0462 - accuracy: 0.0000e+ - ETA: 0s - loss: 0.0490 - accuracy: 0.0000e+ - ETA: 0s - loss: 0.0515 - accuracy: 0.0000e+ - ETA: 0s - loss: 0.0503 - accuracy: 0.0000e+ - 0s 2ms/step - loss: 0.0501 - accuracy: 0.0000e+00\n",
      "Epoch 137/200\n",
      "200/200 [==============================] - ETA: 0s - loss: 0.0253 - accuracy: 0.0000e+ - ETA: 0s - loss: 0.0246 - accuracy: 0.0000e+ - ETA: 0s - loss: 0.0313 - accuracy: 0.0000e+ - ETA: 0s - loss: 0.0395 - accuracy: 0.0000e+ - ETA: 0s - loss: 0.0530 - accuracy: 0.0000e+ - ETA: 0s - loss: 0.0677 - accuracy: 0.0000e+ - ETA: 0s - loss: 0.0662 - accuracy: 0.0000e+ - ETA: 0s - loss: 0.0651 - accuracy: 0.0000e+ - 0s 2ms/step - loss: 0.0655 - accuracy: 0.0000e+00\n",
      "Epoch 138/200\n",
      "200/200 [==============================] - ETA: 0s - loss: 0.0235 - accuracy: 0.0000e+ - ETA: 0s - loss: 0.0697 - accuracy: 0.0000e+ - ETA: 0s - loss: 0.0614 - accuracy: 0.0000e+ - ETA: 0s - loss: 0.0555 - accuracy: 0.0000e+ - ETA: 0s - loss: 0.0606 - accuracy: 0.0000e+ - ETA: 0s - loss: 0.0866 - accuracy: 0.0000e+ - ETA: 0s - loss: 0.0826 - accuracy: 0.0000e+ - ETA: 0s - loss: 0.0887 - accuracy: 0.0000e+ - 0s 2ms/step - loss: 0.0875 - accuracy: 0.0000e+00\n",
      "Epoch 139/200\n",
      "200/200 [==============================] - ETA: 0s - loss: 0.0494 - accuracy: 0.0000e+ - ETA: 0s - loss: 0.0413 - accuracy: 0.0000e+ - ETA: 0s - loss: 0.2913 - accuracy: 0.0000e+ - ETA: 0s - loss: 0.2281 - accuracy: 0.0000e+ - ETA: 0s - loss: 0.1838 - accuracy: 0.0000e+ - ETA: 0s - loss: 0.1719 - accuracy: 0.0000e+ - ETA: 0s - loss: 0.1568 - accuracy: 0.0000e+ - ETA: 0s - loss: 0.1679 - accuracy: 0.0000e+ - 0s 2ms/step - loss: 0.1675 - accuracy: 0.0000e+00\n",
      "Epoch 140/200\n",
      "200/200 [==============================] - ETA: 0s - loss: 0.0620 - accuracy: 0.0000e+ - ETA: 0s - loss: 0.1127 - accuracy: 0.0000e+ - ETA: 0s - loss: 0.1485 - accuracy: 0.0000e+ - ETA: 0s - loss: 0.1440 - accuracy: 0.0000e+ - ETA: 0s - loss: 0.1238 - accuracy: 0.0000e+ - ETA: 0s - loss: 0.1061 - accuracy: 0.0000e+ - ETA: 0s - loss: 0.1051 - accuracy: 0.0000e+ - ETA: 0s - loss: 0.1000 - accuracy: 0.0000e+ - 0s 2ms/step - loss: 0.1009 - accuracy: 0.0000e+00\n",
      "Epoch 141/200\n",
      "200/200 [==============================] - ETA: 0s - loss: 0.0499 - accuracy: 0.0000e+ - ETA: 0s - loss: 0.0417 - accuracy: 0.0000e+ - ETA: 0s - loss: 0.0550 - accuracy: 0.0000e+ - ETA: 0s - loss: 0.0457 - accuracy: 0.0000e+ - ETA: 0s - loss: 0.0448 - accuracy: 0.0000e+ - ETA: 0s - loss: 0.0431 - accuracy: 0.0000e+ - ETA: 0s - loss: 0.0464 - accuracy: 0.0000e+ - ETA: 0s - loss: 0.0454 - accuracy: 0.0000e+ - 0s 2ms/step - loss: 0.0464 - accuracy: 0.0000e+00\n",
      "Epoch 142/200\n",
      "200/200 [==============================] - ETA: 0s - loss: 0.0395 - accuracy: 0.0000e+ - ETA: 0s - loss: 0.0436 - accuracy: 0.0000e+ - ETA: 0s - loss: 0.0440 - accuracy: 0.0000e+ - ETA: 0s - loss: 0.0550 - accuracy: 0.0000e+ - ETA: 0s - loss: 0.0736 - accuracy: 0.0000e+ - ETA: 0s - loss: 0.0688 - accuracy: 0.0000e+ - ETA: 0s - loss: 0.0797 - accuracy: 0.0000e+ - ETA: 0s - loss: 0.0766 - accuracy: 0.0000e+ - 0s 2ms/step - loss: 0.0757 - accuracy: 0.0000e+00\n",
      "Epoch 143/200\n",
      "200/200 [==============================] - ETA: 0s - loss: 0.0597 - accuracy: 0.0000e+ - ETA: 0s - loss: 0.0421 - accuracy: 0.0000e+ - ETA: 0s - loss: 0.0434 - accuracy: 0.0000e+ - ETA: 0s - loss: 0.0509 - accuracy: 0.0000e+ - ETA: 0s - loss: 0.0504 - accuracy: 0.0000e+ - ETA: 0s - loss: 0.0513 - accuracy: 0.0000e+ - ETA: 0s - loss: 0.0505 - accuracy: 0.0000e+ - ETA: 0s - loss: 0.0596 - accuracy: 0.0000e+ - 0s 2ms/step - loss: 0.0601 - accuracy: 0.0000e+00\n",
      "Epoch 144/200\n",
      "200/200 [==============================] - ETA: 0s - loss: 0.0301 - accuracy: 0.0000e+ - ETA: 0s - loss: 0.1112 - accuracy: 0.0000e+ - ETA: 0s - loss: 0.0861 - accuracy: 0.0000e+ - ETA: 0s - loss: 0.0741 - accuracy: 0.0000e+ - ETA: 0s - loss: 0.1053 - accuracy: 0.0000e+ - ETA: 0s - loss: 0.1022 - accuracy: 0.0000e+ - ETA: 0s - loss: 0.0936 - accuracy: 0.0000e+ - ETA: 0s - loss: 0.0873 - accuracy: 0.0000e+ - 0s 2ms/step - loss: 0.0874 - accuracy: 0.0000e+00\n",
      "Epoch 145/200\n",
      "200/200 [==============================] - ETA: 0s - loss: 0.0786 - accuracy: 0.0000e+ - ETA: 0s - loss: 0.2003 - accuracy: 0.0000e+ - ETA: 0s - loss: 0.1665 - accuracy: 0.0000e+ - ETA: 0s - loss: 0.1548 - accuracy: 0.0000e+ - ETA: 0s - loss: 0.1470 - accuracy: 0.0000e+ - ETA: 0s - loss: 0.1368 - accuracy: 0.0000e+ - ETA: 0s - loss: 0.1461 - accuracy: 0.0000e+ - ETA: 0s - loss: 0.1380 - accuracy: 0.0000e+ - 0s 2ms/step - loss: 0.1362 - accuracy: 0.0000e+00\n",
      "Epoch 146/200\n",
      "200/200 [==============================] - ETA: 0s - loss: 0.0260 - accuracy: 0.0000e+ - ETA: 0s - loss: 0.0262 - accuracy: 0.0000e+ - ETA: 0s - loss: 0.0776 - accuracy: 0.0000e+ - ETA: 0s - loss: 0.0740 - accuracy: 0.0000e+ - ETA: 0s - loss: 0.0748 - accuracy: 0.0000e+ - ETA: 0s - loss: 0.0973 - accuracy: 0.0000e+ - ETA: 0s - loss: 0.0981 - accuracy: 0.0000e+ - ETA: 0s - loss: 0.0915 - accuracy: 0.0000e+ - 0s 2ms/step - loss: 0.0909 - accuracy: 0.0000e+00\n",
      "Epoch 147/200\n",
      "200/200 [==============================] - ETA: 0s - loss: 0.0276 - accuracy: 0.0000e+ - ETA: 0s - loss: 0.2029 - accuracy: 0.0000e+ - ETA: 0s - loss: 0.1533 - accuracy: 0.0000e+ - ETA: 0s - loss: 0.1258 - accuracy: 0.0000e+ - ETA: 0s - loss: 0.1116 - accuracy: 0.0000e+ - ETA: 0s - loss: 0.1074 - accuracy: 0.0000e+ - ETA: 0s - loss: 0.1100 - accuracy: 0.0000e+ - ETA: 0s - loss: 0.1038 - accuracy: 0.0000e+ - 0s 2ms/step - loss: 0.1034 - accuracy: 0.0000e+00\n",
      "Epoch 148/200\n",
      "200/200 [==============================] - ETA: 0s - loss: 0.0103 - accuracy: 0.0000e+ - ETA: 0s - loss: 0.1575 - accuracy: 0.0000e+ - ETA: 0s - loss: 0.1086 - accuracy: 0.0000e+ - ETA: 0s - loss: 0.0886 - accuracy: 0.0000e+ - ETA: 0s - loss: 0.1014 - accuracy: 0.0000e+ - ETA: 0s - loss: 0.0891 - accuracy: 0.0000e+ - ETA: 0s - loss: 0.0776 - accuracy: 0.0000e+ - ETA: 0s - loss: 0.0914 - accuracy: 0.0000e+ - 0s 2ms/step - loss: 0.0915 - accuracy: 0.0000e+00\n",
      "Epoch 149/200\n",
      "200/200 [==============================] - ETA: 0s - loss: 0.0309 - accuracy: 0.0000e+ - ETA: 0s - loss: 0.0305 - accuracy: 0.0000e+ - ETA: 0s - loss: 0.0692 - accuracy: 0.0000e+ - ETA: 0s - loss: 0.0569 - accuracy: 0.0000e+ - ETA: 0s - loss: 0.0728 - accuracy: 0.0000e+ - ETA: 0s - loss: 0.0747 - accuracy: 0.0000e+ - ETA: 0s - loss: 0.0692 - accuracy: 0.0000e+ - ETA: 0s - loss: 0.0686 - accuracy: 0.0000e+ - 0s 2ms/step - loss: 0.0681 - accuracy: 0.0000e+00\n",
      "Epoch 150/200\n",
      "200/200 [==============================] - ETA: 0s - loss: 0.0030 - accuracy: 0.0000e+ - ETA: 0s - loss: 0.0438 - accuracy: 0.0000e+ - ETA: 0s - loss: 0.0385 - accuracy: 0.0000e+ - ETA: 0s - loss: 0.0419 - accuracy: 0.0000e+ - ETA: 0s - loss: 0.0455 - accuracy: 0.0000e+ - ETA: 0s - loss: 0.0484 - accuracy: 0.0000e+ - ETA: 0s - loss: 0.0489 - accuracy: 0.0000e+ - ETA: 0s - loss: 0.0468 - accuracy: 0.0000e+ - 0s 2ms/step - loss: 0.0537 - accuracy: 0.0000e+00\n",
      "Epoch 151/200\n",
      "200/200 [==============================] - ETA: 0s - loss: 0.0942 - accuracy: 0.0000e+ - ETA: 0s - loss: 0.2187 - accuracy: 0.0000e+ - ETA: 0s - loss: 0.1350 - accuracy: 0.0000e+ - ETA: 0s - loss: 0.1162 - accuracy: 0.0000e+ - ETA: 0s - loss: 0.0975 - accuracy: 0.0000e+ - ETA: 0s - loss: 0.0835 - accuracy: 0.0000e+ - ETA: 0s - loss: 0.0753 - accuracy: 0.0000e+ - ETA: 0s - loss: 0.0703 - accuracy: 0.0000e+ - 0s 2ms/step - loss: 0.0706 - accuracy: 0.0000e+00\n",
      "Epoch 152/200\n",
      "200/200 [==============================] - ETA: 0s - loss: 0.0099 - accuracy: 0.0000e+ - ETA: 0s - loss: 0.0240 - accuracy: 0.0000e+ - ETA: 0s - loss: 0.0338 - accuracy: 0.0000e+ - ETA: 0s - loss: 0.2705 - accuracy: 0.0000e+ - ETA: 0s - loss: 0.2637 - accuracy: 0.0000e+ - ETA: 0s - loss: 0.2518 - accuracy: 0.0000e+ - ETA: 0s - loss: 0.2848 - accuracy: 0.0000e+ - ETA: 0s - loss: 0.2981 - accuracy: 0.0000e+ - 0s 2ms/step - loss: 0.2946 - accuracy: 0.0000e+00\n",
      "Epoch 153/200\n",
      "200/200 [==============================] - ETA: 0s - loss: 0.0530 - accuracy: 0.0000e+ - ETA: 0s - loss: 0.1344 - accuracy: 0.0000e+ - ETA: 0s - loss: 0.0937 - accuracy: 0.0000e+ - ETA: 0s - loss: 0.0788 - accuracy: 0.0000e+ - ETA: 0s - loss: 0.0698 - accuracy: 0.0000e+ - ETA: 0s - loss: 0.0674 - accuracy: 0.0000e+ - ETA: 0s - loss: 0.0636 - accuracy: 0.0000e+ - ETA: 0s - loss: 0.0592 - accuracy: 0.0000e+ - 0s 2ms/step - loss: 0.0604 - accuracy: 0.0000e+00\n",
      "Epoch 154/200\n",
      "200/200 [==============================] - ETA: 0s - loss: 0.0111 - accuracy: 0.0000e+ - ETA: 0s - loss: 0.0536 - accuracy: 0.0000e+ - ETA: 0s - loss: 0.0433 - accuracy: 0.0000e+ - ETA: 0s - loss: 0.0487 - accuracy: 0.0000e+ - ETA: 0s - loss: 0.0439 - accuracy: 0.0000e+ - ETA: 0s - loss: 0.0437 - accuracy: 0.0000e+ - ETA: 0s - loss: 0.0456 - accuracy: 0.0000e+ - ETA: 0s - loss: 0.0450 - accuracy: 0.0000e+ - 0s 2ms/step - loss: 0.0460 - accuracy: 0.0000e+00\n",
      "Epoch 155/200\n",
      "200/200 [==============================] - ETA: 0s - loss: 0.0187 - accuracy: 0.0000e+ - ETA: 0s - loss: 0.0678 - accuracy: 0.0000e+ - ETA: 0s - loss: 0.0592 - accuracy: 0.0000e+ - ETA: 0s - loss: 0.1039 - accuracy: 0.0000e+ - ETA: 0s - loss: 0.1146 - accuracy: 0.0000e+ - ETA: 0s - loss: 0.1707 - accuracy: 0.0000e+ - ETA: 0s - loss: 0.2499 - accuracy: 0.0000e+ - ETA: 0s - loss: 0.2349 - accuracy: 0.0000e+ - 0s 2ms/step - loss: 0.2331 - accuracy: 0.0000e+00\n",
      "Epoch 156/200\n",
      "200/200 [==============================] - ETA: 0s - loss: 0.0195 - accuracy: 0.0000e+ - ETA: 0s - loss: 0.1027 - accuracy: 0.0000e+ - ETA: 0s - loss: 0.0873 - accuracy: 0.0000e+ - ETA: 0s - loss: 0.1146 - accuracy: 0.0000e+ - ETA: 0s - loss: 0.1025 - accuracy: 0.0000e+ - ETA: 0s - loss: 0.0903 - accuracy: 0.0000e+ - ETA: 0s - loss: 0.0883 - accuracy: 0.0000e+ - ETA: 0s - loss: 0.0802 - accuracy: 0.0000e+ - 0s 2ms/step - loss: 0.1237 - accuracy: 0.0000e+00\n",
      "Epoch 157/200\n",
      "200/200 [==============================] - ETA: 0s - loss: 0.0663 - accuracy: 0.0000e+ - ETA: 0s - loss: 0.7605 - accuracy: 0.0000e+ - ETA: 0s - loss: 0.4189 - accuracy: 0.0000e+ - ETA: 0s - loss: 0.2962 - accuracy: 0.0000e+ - ETA: 0s - loss: 0.4270 - accuracy: 0.0000e+ - ETA: 0s - loss: 0.3949 - accuracy: 0.0000e+ - ETA: 0s - loss: 0.3599 - accuracy: 0.0000e+ - ETA: 0s - loss: 0.3270 - accuracy: 0.0000e+ - 0s 2ms/step - loss: 0.3237 - accuracy: 0.0000e+00\n",
      "Epoch 158/200\n",
      "200/200 [==============================] - ETA: 0s - loss: 0.0145 - accuracy: 0.0000e+ - ETA: 0s - loss: 0.0489 - accuracy: 0.0000e+ - ETA: 0s - loss: 0.0451 - accuracy: 0.0000e+ - ETA: 0s - loss: 0.0511 - accuracy: 0.0000e+ - ETA: 0s - loss: 0.0540 - accuracy: 0.0000e+ - ETA: 0s - loss: 0.0624 - accuracy: 0.0000e+ - ETA: 0s - loss: 0.0612 - accuracy: 0.0000e+ - ETA: 0s - loss: 0.0623 - accuracy: 0.0000e+ - 0s 2ms/step - loss: 0.0669 - accuracy: 0.0000e+00\n",
      "Epoch 159/200\n",
      "200/200 [==============================] - ETA: 0s - loss: 0.0681 - accuracy: 0.0000e+ - ETA: 0s - loss: 0.1203 - accuracy: 0.0000e+ - ETA: 0s - loss: 0.0935 - accuracy: 0.0000e+ - ETA: 0s - loss: 0.0820 - accuracy: 0.0000e+ - ETA: 0s - loss: 0.0699 - accuracy: 0.0000e+ - ETA: 0s - loss: 0.0764 - accuracy: 0.0000e+ - ETA: 0s - loss: 0.0688 - accuracy: 0.0000e+ - ETA: 0s - loss: 0.0667 - accuracy: 0.0000e+ - 0s 2ms/step - loss: 0.0659 - accuracy: 0.0000e+00\n",
      "Epoch 160/200\n",
      "200/200 [==============================] - ETA: 0s - loss: 0.0605 - accuracy: 0.0000e+ - ETA: 0s - loss: 0.0541 - accuracy: 0.0000e+ - ETA: 0s - loss: 0.0610 - accuracy: 0.0000e+ - ETA: 0s - loss: 0.0562 - accuracy: 0.0000e+ - ETA: 0s - loss: 0.0514 - accuracy: 0.0000e+ - ETA: 0s - loss: 0.0533 - accuracy: 0.0000e+ - ETA: 0s - loss: 0.0534 - accuracy: 0.0000e+ - ETA: 0s - loss: 0.0554 - accuracy: 0.0000e+ - 0s 2ms/step - loss: 0.0552 - accuracy: 0.0000e+00\n",
      "Epoch 161/200\n",
      "200/200 [==============================] - ETA: 0s - loss: 0.0187 - accuracy: 0.0000e+ - ETA: 0s - loss: 0.0899 - accuracy: 0.0000e+ - ETA: 0s - loss: 0.0899 - accuracy: 0.0000e+ - ETA: 0s - loss: 0.0730 - accuracy: 0.0000e+ - ETA: 0s - loss: 0.0782 - accuracy: 0.0000e+ - ETA: 0s - loss: 0.0735 - accuracy: 0.0000e+ - ETA: 0s - loss: 0.0665 - accuracy: 0.0000e+ - ETA: 0s - loss: 0.0752 - accuracy: 0.0000e+ - 0s 2ms/step - loss: 0.0746 - accuracy: 0.0000e+00\n",
      "Epoch 162/200\n",
      "200/200 [==============================] - ETA: 0s - loss: 0.0082 - accuracy: 0.0000e+ - ETA: 0s - loss: 0.0671 - accuracy: 0.0000e+ - ETA: 0s - loss: 0.0811 - accuracy: 0.0000e+ - ETA: 0s - loss: 0.0781 - accuracy: 0.0000e+ - ETA: 0s - loss: 0.0756 - accuracy: 0.0000e+ - ETA: 0s - loss: 0.0895 - accuracy: 0.0000e+ - ETA: 0s - loss: 0.0860 - accuracy: 0.0000e+ - ETA: 0s - loss: 0.1125 - accuracy: 0.0000e+ - 0s 2ms/step - loss: 0.1131 - accuracy: 0.0000e+00\n",
      "Epoch 163/200\n",
      "200/200 [==============================] - ETA: 0s - loss: 0.0077 - accuracy: 0.0000e+ - ETA: 0s - loss: 1.0406 - accuracy: 0.0000e+ - ETA: 0s - loss: 0.5854 - accuracy: 0.0000e+ - ETA: 0s - loss: 0.4154 - accuracy: 0.0000e+ - ETA: 0s - loss: 0.3276 - accuracy: 0.0000e+ - ETA: 0s - loss: 0.2742 - accuracy: 0.0000e+ - ETA: 0s - loss: 0.2380 - accuracy: 0.0000e+ - ETA: 0s - loss: 0.2136 - accuracy: 0.0000e+ - 0s 2ms/step - loss: 0.2106 - accuracy: 0.0000e+00\n",
      "Epoch 164/200\n",
      "200/200 [==============================] - ETA: 0s - loss: 0.0307 - accuracy: 0.0000e+ - ETA: 0s - loss: 0.0486 - accuracy: 0.0000e+ - ETA: 0s - loss: 0.0519 - accuracy: 0.0000e+ - ETA: 0s - loss: 0.0467 - accuracy: 0.0000e+ - ETA: 0s - loss: 0.0808 - accuracy: 0.0000e+ - ETA: 0s - loss: 0.0951 - accuracy: 0.0000e+ - ETA: 0s - loss: 0.1000 - accuracy: 0.0000e+ - ETA: 0s - loss: 0.0949 - accuracy: 0.0000e+ - 0s 2ms/step - loss: 0.0936 - accuracy: 0.0000e+00\n",
      "Epoch 165/200\n",
      "200/200 [==============================] - ETA: 0s - loss: 0.0565 - accuracy: 0.0000e+ - ETA: 0s - loss: 0.0430 - accuracy: 0.0000e+ - ETA: 0s - loss: 0.1454 - accuracy: 0.0000e+ - ETA: 0s - loss: 0.1974 - accuracy: 0.0000e+ - ETA: 0s - loss: 0.1877 - accuracy: 0.0000e+ - ETA: 0s - loss: 0.1886 - accuracy: 0.0000e+ - ETA: 0s - loss: 0.1797 - accuracy: 0.0000e+ - ETA: 0s - loss: 0.1660 - accuracy: 0.0000e+ - 0s 2ms/step - loss: 0.1638 - accuracy: 0.0000e+00\n",
      "Epoch 166/200\n",
      "200/200 [==============================] - ETA: 0s - loss: 0.0187 - accuracy: 0.0000e+ - ETA: 0s - loss: 0.1037 - accuracy: 0.0000e+ - ETA: 0s - loss: 0.1517 - accuracy: 0.0000e+ - ETA: 0s - loss: 0.1451 - accuracy: 0.0000e+ - ETA: 0s - loss: 0.1345 - accuracy: 0.0000e+ - ETA: 0s - loss: 0.1200 - accuracy: 0.0000e+ - ETA: 0s - loss: 0.1044 - accuracy: 0.0000e+ - ETA: 0s - loss: 0.0966 - accuracy: 0.0000e+ - 0s 2ms/step - loss: 0.0956 - accuracy: 0.0000e+00\n",
      "Epoch 167/200\n",
      "200/200 [==============================] - ETA: 0s - loss: 0.0140 - accuracy: 0.0000e+ - ETA: 0s - loss: 0.0401 - accuracy: 0.0000e+ - ETA: 0s - loss: 0.0495 - accuracy: 0.0000e+ - ETA: 0s - loss: 0.0452 - accuracy: 0.0000e+ - ETA: 0s - loss: 0.0445 - accuracy: 0.0000e+ - ETA: 0s - loss: 0.0480 - accuracy: 0.0000e+ - ETA: 0s - loss: 0.0509 - accuracy: 0.0000e+ - ETA: 0s - loss: 0.0507 - accuracy: 0.0000e+ - 0s 2ms/step - loss: 0.0502 - accuracy: 0.0000e+00\n",
      "Epoch 168/200\n",
      "200/200 [==============================] - ETA: 0s - loss: 0.0047 - accuracy: 0.0000e+ - ETA: 0s - loss: 0.0302 - accuracy: 0.0000e+ - ETA: 0s - loss: 0.0403 - accuracy: 0.0000e+ - ETA: 0s - loss: 0.0561 - accuracy: 0.0000e+ - ETA: 0s - loss: 0.0700 - accuracy: 0.0000e+ - ETA: 0s - loss: 0.0898 - accuracy: 0.0000e+ - ETA: 0s - loss: 0.0951 - accuracy: 0.0000e+ - ETA: 0s - loss: 0.0894 - accuracy: 0.0000e+ - 0s 2ms/step - loss: 0.0882 - accuracy: 0.0000e+00\n",
      "Epoch 169/200\n",
      "200/200 [==============================] - ETA: 0s - loss: 0.2869 - accuracy: 0.0000e+ - ETA: 0s - loss: 0.0349 - accuracy: 0.0000e+ - ETA: 0s - loss: 0.0438 - accuracy: 0.0000e+ - ETA: 0s - loss: 0.0468 - accuracy: 0.0000e+ - ETA: 0s - loss: 0.0514 - accuracy: 0.0000e+ - ETA: 0s - loss: 0.0894 - accuracy: 0.0000e+ - ETA: 0s - loss: 0.1122 - accuracy: 0.0000e+ - ETA: 0s - loss: 0.1129 - accuracy: 0.0000e+ - 0s 2ms/step - loss: 0.1121 - accuracy: 0.0000e+00\n",
      "Epoch 170/200\n",
      "200/200 [==============================] - ETA: 0s - loss: 0.0193 - accuracy: 0.0000e+ - ETA: 0s - loss: 0.1820 - accuracy: 0.0000e+ - ETA: 0s - loss: 0.1187 - accuracy: 0.0000e+ - ETA: 0s - loss: 0.1007 - accuracy: 0.0000e+ - ETA: 0s - loss: 0.0858 - accuracy: 0.0000e+ - ETA: 0s - loss: 0.0780 - accuracy: 0.0000e+ - ETA: 0s - loss: 0.0873 - accuracy: 0.0000e+ - ETA: 0s - loss: 0.1007 - accuracy: 0.0000e+ - 0s 2ms/step - loss: 0.1002 - accuracy: 0.0000e+00\n",
      "Epoch 171/200\n",
      "200/200 [==============================] - ETA: 0s - loss: 0.1172 - accuracy: 0.0000e+ - ETA: 0s - loss: 0.0766 - accuracy: 0.0000e+ - ETA: 0s - loss: 0.0836 - accuracy: 0.0000e+ - ETA: 0s - loss: 0.0718 - accuracy: 0.0000e+ - ETA: 0s - loss: 0.0720 - accuracy: 0.0000e+ - ETA: 0s - loss: 0.0835 - accuracy: 0.0000e+ - ETA: 0s - loss: 0.0791 - accuracy: 0.0000e+ - ETA: 0s - loss: 0.0735 - accuracy: 0.0000e+ - 0s 2ms/step - loss: 0.0728 - accuracy: 0.0000e+00\n",
      "Epoch 172/200\n",
      "200/200 [==============================] - ETA: 0s - loss: 0.2134 - accuracy: 0.0000e+ - ETA: 0s - loss: 0.0565 - accuracy: 0.0000e+ - ETA: 0s - loss: 0.0936 - accuracy: 0.0000e+ - ETA: 0s - loss: 0.1344 - accuracy: 0.0000e+ - ETA: 0s - loss: 0.1106 - accuracy: 0.0000e+ - ETA: 0s - loss: 0.1000 - accuracy: 0.0000e+ - ETA: 0s - loss: 0.1453 - accuracy: 0.0000e+ - ETA: 0s - loss: 0.1372 - accuracy: 0.0000e+ - 0s 2ms/step - loss: 0.1356 - accuracy: 0.0000e+00\n",
      "Epoch 173/200\n",
      "200/200 [==============================] - ETA: 0s - loss: 0.0148 - accuracy: 0.0000e+ - ETA: 0s - loss: 0.0323 - accuracy: 0.0000e+ - ETA: 0s - loss: 0.0390 - accuracy: 0.0000e+ - ETA: 0s - loss: 0.0475 - accuracy: 0.0000e+ - ETA: 0s - loss: 0.0570 - accuracy: 0.0000e+ - ETA: 0s - loss: 0.0504 - accuracy: 0.0000e+ - ETA: 0s - loss: 0.0462 - accuracy: 0.0000e+ - ETA: 0s - loss: 0.0513 - accuracy: 0.0000e+ - 0s 2ms/step - loss: 0.0512 - accuracy: 0.0000e+00\n",
      "Epoch 174/200\n",
      "200/200 [==============================] - ETA: 0s - loss: 3.2969 - accuracy: 0.0000e+ - ETA: 0s - loss: 0.2122 - accuracy: 0.0000e+ - ETA: 0s - loss: 0.1410 - accuracy: 0.0000e+ - ETA: 0s - loss: 0.1526 - accuracy: 0.0000e+ - ETA: 0s - loss: 0.1579 - accuracy: 0.0000e+ - ETA: 0s - loss: 0.1346 - accuracy: 0.0000e+ - ETA: 0s - loss: 0.1910 - accuracy: 0.0000e+ - ETA: 0s - loss: 0.2029 - accuracy: 0.0000e+ - 0s 2ms/step - loss: 0.2017 - accuracy: 0.0000e+00\n",
      "Epoch 175/200\n",
      "200/200 [==============================] - ETA: 0s - loss: 0.1072 - accuracy: 0.0000e+ - ETA: 0s - loss: 0.2859 - accuracy: 0.0000e+ - ETA: 0s - loss: 0.4572 - accuracy: 0.0000e+ - ETA: 0s - loss: 0.4103 - accuracy: 0.0000e+ - ETA: 0s - loss: 0.3233 - accuracy: 0.0000e+ - ETA: 0s - loss: 0.2683 - accuracy: 0.0000e+ - ETA: 0s - loss: 0.2307 - accuracy: 0.0000e+ - ETA: 0s - loss: 0.2030 - accuracy: 0.0000e+ - 0s 2ms/step - loss: 0.2010 - accuracy: 0.0000e+00\n",
      "Epoch 176/200\n",
      "200/200 [==============================] - ETA: 0s - loss: 0.1262 - accuracy: 0.0000e+ - ETA: 0s - loss: 0.0561 - accuracy: 0.0000e+ - ETA: 0s - loss: 0.0459 - accuracy: 0.0000e+ - ETA: 0s - loss: 0.0661 - accuracy: 0.0000e+ - ETA: 0s - loss: 0.0621 - accuracy: 0.0000e+ - ETA: 0s - loss: 0.0797 - accuracy: 0.0000e+ - ETA: 0s - loss: 0.0755 - accuracy: 0.0000e+ - ETA: 0s - loss: 0.0702 - accuracy: 0.0000e+ - 0s 2ms/step - loss: 0.0722 - accuracy: 0.0000e+00\n",
      "Epoch 177/200\n",
      "200/200 [==============================] - ETA: 0s - loss: 0.0088 - accuracy: 0.0000e+ - ETA: 0s - loss: 0.0742 - accuracy: 0.0000e+ - ETA: 0s - loss: 0.0582 - accuracy: 0.0000e+ - ETA: 0s - loss: 0.0684 - accuracy: 0.0000e+ - ETA: 0s - loss: 0.0627 - accuracy: 0.0000e+ - ETA: 0s - loss: 0.0652 - accuracy: 0.0000e+ - ETA: 0s - loss: 0.0660 - accuracy: 0.0000e+ - ETA: 0s - loss: 0.0615 - accuracy: 0.0000e+ - 0s 2ms/step - loss: 0.0611 - accuracy: 0.0000e+00\n",
      "Epoch 178/200\n",
      "200/200 [==============================] - ETA: 0s - loss: 0.5555 - accuracy: 0.0000e+ - ETA: 0s - loss: 0.0426 - accuracy: 0.0000e+ - ETA: 0s - loss: 0.0540 - accuracy: 0.0000e+ - ETA: 0s - loss: 0.0535 - accuracy: 0.0000e+ - ETA: 0s - loss: 0.0769 - accuracy: 0.0000e+ - ETA: 0s - loss: 0.1233 - accuracy: 0.0000e+ - ETA: 0s - loss: 0.1180 - accuracy: 0.0000e+ - ETA: 0s - loss: 0.1070 - accuracy: 0.0000e+ - 0s 2ms/step - loss: 0.1056 - accuracy: 0.0000e+00\n",
      "Epoch 179/200\n",
      "200/200 [==============================] - ETA: 0s - loss: 0.0021 - accuracy: 0.0000e+ - ETA: 0s - loss: 0.2695 - accuracy: 0.0000e+ - ETA: 0s - loss: 0.2297 - accuracy: 0.0000e+ - ETA: 0s - loss: 0.1695 - accuracy: 0.0000e+ - ETA: 0s - loss: 0.1634 - accuracy: 0.0000e+ - ETA: 0s - loss: 0.1462 - accuracy: 0.0000e+ - ETA: 0s - loss: 0.1546 - accuracy: 0.0000e+ - ETA: 0s - loss: 0.1526 - accuracy: 0.0000e+ - 0s 2ms/step - loss: 0.1512 - accuracy: 0.0000e+00\n",
      "Epoch 180/200\n",
      "200/200 [==============================] - ETA: 0s - loss: 0.2127 - accuracy: 0.0000e+ - ETA: 0s - loss: 0.0527 - accuracy: 0.0000e+ - ETA: 0s - loss: 0.0833 - accuracy: 0.0000e+ - ETA: 0s - loss: 0.1033 - accuracy: 0.0000e+ - ETA: 0s - loss: 0.0995 - accuracy: 0.0000e+ - ETA: 0s - loss: 0.1066 - accuracy: 0.0000e+ - ETA: 0s - loss: 0.0993 - accuracy: 0.0000e+ - ETA: 0s - loss: 0.0908 - accuracy: 0.0000e+ - 0s 2ms/step - loss: 0.0900 - accuracy: 0.0000e+00\n",
      "Epoch 181/200\n",
      "200/200 [==============================] - ETA: 0s - loss: 0.1476 - accuracy: 0.0000e+ - ETA: 0s - loss: 0.1285 - accuracy: 0.0000e+ - ETA: 0s - loss: 0.0878 - accuracy: 0.0000e+ - ETA: 0s - loss: 0.0724 - accuracy: 0.0000e+ - ETA: 0s - loss: 0.0610 - accuracy: 0.0000e+ - ETA: 0s - loss: 0.0587 - accuracy: 0.0000e+ - ETA: 0s - loss: 0.0555 - accuracy: 0.0000e+ - ETA: 0s - loss: 0.0595 - accuracy: 0.0000e+ - 0s 2ms/step - loss: 0.0593 - accuracy: 0.0000e+00\n",
      "Epoch 182/200\n",
      "200/200 [==============================] - ETA: 0s - loss: 0.0590 - accuracy: 0.0000e+ - ETA: 0s - loss: 0.0466 - accuracy: 0.0000e+ - ETA: 0s - loss: 0.0568 - accuracy: 0.0000e+ - ETA: 0s - loss: 0.0538 - accuracy: 0.0000e+ - ETA: 0s - loss: 0.0491 - accuracy: 0.0000e+ - ETA: 0s - loss: 0.0470 - accuracy: 0.0000e+ - ETA: 0s - loss: 0.0461 - accuracy: 0.0000e+ - ETA: 0s - loss: 0.0637 - accuracy: 0.0000e+ - 0s 2ms/step - loss: 0.0634 - accuracy: 0.0000e+00\n",
      "Epoch 183/200\n",
      "200/200 [==============================] - ETA: 0s - loss: 0.1113 - accuracy: 0.0000e+ - ETA: 0s - loss: 0.0518 - accuracy: 0.0000e+ - ETA: 0s - loss: 0.1577 - accuracy: 0.0000e+ - ETA: 0s - loss: 0.1726 - accuracy: 0.0000e+ - ETA: 0s - loss: 0.1503 - accuracy: 0.0000e+ - ETA: 0s - loss: 0.1251 - accuracy: 0.0000e+ - ETA: 0s - loss: 0.1128 - accuracy: 0.0000e+ - ETA: 0s - loss: 0.1784 - accuracy: 0.0000e+ - 0s 2ms/step - loss: 0.1768 - accuracy: 0.0000e+00\n",
      "Epoch 184/200\n",
      "200/200 [==============================] - ETA: 0s - loss: 0.2769 - accuracy: 0.0000e+ - ETA: 0s - loss: 0.0769 - accuracy: 0.0000e+ - ETA: 0s - loss: 0.0630 - accuracy: 0.0000e+ - ETA: 0s - loss: 0.0626 - accuracy: 0.0000e+ - ETA: 0s - loss: 0.1504 - accuracy: 0.0000e+ - ETA: 0s - loss: 0.1583 - accuracy: 0.0000e+ - ETA: 0s - loss: 0.1499 - accuracy: 0.0000e+ - ETA: 0s - loss: 0.1366 - accuracy: 0.0000e+ - 0s 2ms/step - loss: 0.1352 - accuracy: 0.0000e+00\n",
      "Epoch 185/200\n",
      "200/200 [==============================] - ETA: 0s - loss: 0.0195 - accuracy: 0.0000e+ - ETA: 0s - loss: 0.0447 - accuracy: 0.0000e+ - ETA: 0s - loss: 0.0380 - accuracy: 0.0000e+ - ETA: 0s - loss: 0.0439 - accuracy: 0.0000e+ - ETA: 0s - loss: 0.0523 - accuracy: 0.0000e+ - ETA: 0s - loss: 0.0572 - accuracy: 0.0000e+ - ETA: 0s - loss: 0.0599 - accuracy: 0.0000e+ - ETA: 0s - loss: 0.0625 - accuracy: 0.0000e+ - 0s 2ms/step - loss: 0.0623 - accuracy: 0.0000e+00\n",
      "Epoch 186/200\n",
      "200/200 [==============================] - ETA: 0s - loss: 0.0032 - accuracy: 0.0000e+ - ETA: 0s - loss: 0.1217 - accuracy: 0.0000e+ - ETA: 0s - loss: 0.0934 - accuracy: 0.0000e+ - ETA: 0s - loss: 0.0717 - accuracy: 0.0000e+ - ETA: 0s - loss: 0.0771 - accuracy: 0.0000e+ - ETA: 0s - loss: 0.0800 - accuracy: 0.0000e+ - ETA: 0s - loss: 0.0720 - accuracy: 0.0000e+ - ETA: 0s - loss: 0.0682 - accuracy: 0.0000e+ - 0s 2ms/step - loss: 0.0676 - accuracy: 0.0000e+00\n",
      "Epoch 187/200\n",
      "200/200 [==============================] - ETA: 0s - loss: 0.0392 - accuracy: 0.0000e+ - ETA: 0s - loss: 0.0394 - accuracy: 0.0000e+ - ETA: 0s - loss: 0.0661 - accuracy: 0.0000e+ - ETA: 0s - loss: 0.0617 - accuracy: 0.0000e+ - ETA: 0s - loss: 0.0672 - accuracy: 0.0000e+ - ETA: 0s - loss: 0.0815 - accuracy: 0.0000e+ - ETA: 0s - loss: 0.1012 - accuracy: 0.0000e+ - ETA: 0s - loss: 0.1041 - accuracy: 0.0000e+ - 0s 2ms/step - loss: 0.1032 - accuracy: 0.0000e+00\n",
      "Epoch 188/200\n",
      "200/200 [==============================] - ETA: 0s - loss: 0.0154 - accuracy: 0.0000e+ - ETA: 0s - loss: 0.1007 - accuracy: 0.0000e+ - ETA: 0s - loss: 0.0735 - accuracy: 0.0000e+ - ETA: 0s - loss: 0.0745 - accuracy: 0.0000e+ - ETA: 0s - loss: 0.0814 - accuracy: 0.0000e+ - ETA: 0s - loss: 0.0785 - accuracy: 0.0000e+ - ETA: 0s - loss: 0.1839 - accuracy: 0.0000e+ - ETA: 0s - loss: 0.1966 - accuracy: 0.0000e+ - 0s 2ms/step - loss: 0.1975 - accuracy: 0.0000e+00\n",
      "Epoch 189/200\n",
      "200/200 [==============================] - ETA: 0s - loss: 0.0073 - accuracy: 0.0000e+ - ETA: 0s - loss: 0.0362 - accuracy: 0.0000e+ - ETA: 0s - loss: 0.0855 - accuracy: 0.0000e+ - ETA: 0s - loss: 0.0706 - accuracy: 0.0000e+ - ETA: 0s - loss: 0.1201 - accuracy: 0.0000e+ - ETA: 0s - loss: 0.1051 - accuracy: 0.0000e+ - ETA: 0s - loss: 0.0965 - accuracy: 0.0000e+ - ETA: 0s - loss: 0.0912 - accuracy: 0.0000e+ - 0s 2ms/step - loss: 0.0906 - accuracy: 0.0000e+00\n",
      "Epoch 190/200\n",
      "200/200 [==============================] - ETA: 0s - loss: 0.0376 - accuracy: 0.0000e+ - ETA: 0s - loss: 0.0271 - accuracy: 0.0000e+ - ETA: 0s - loss: 0.0350 - accuracy: 0.0000e+ - ETA: 0s - loss: 0.0426 - accuracy: 0.0000e+ - ETA: 0s - loss: 0.0507 - accuracy: 0.0000e+ - ETA: 0s - loss: 0.0528 - accuracy: 0.0000e+ - ETA: 0s - loss: 0.0506 - accuracy: 0.0000e+ - ETA: 0s - loss: 0.0487 - accuracy: 0.0000e+ - 0s 2ms/step - loss: 0.0484 - accuracy: 0.0000e+00\n",
      "Epoch 191/200\n",
      "200/200 [==============================] - ETA: 0s - loss: 0.1004 - accuracy: 0.0000e+ - ETA: 0s - loss: 0.0424 - accuracy: 0.0000e+ - ETA: 0s - loss: 0.0584 - accuracy: 0.0000e+ - ETA: 0s - loss: 0.0549 - accuracy: 0.0000e+ - ETA: 0s - loss: 0.0707 - accuracy: 0.0000e+ - ETA: 0s - loss: 0.0749 - accuracy: 0.0000e+ - ETA: 0s - loss: 0.0700 - accuracy: 0.0000e+ - ETA: 0s - loss: 0.0707 - accuracy: 0.0000e+ - 0s 2ms/step - loss: 0.0703 - accuracy: 0.0000e+00\n",
      "Epoch 192/200\n",
      "200/200 [==============================] - ETA: 0s - loss: 0.0698 - accuracy: 0.0000e+ - ETA: 0s - loss: 0.0395 - accuracy: 0.0000e+ - ETA: 0s - loss: 0.0377 - accuracy: 0.0000e+ - ETA: 0s - loss: 0.0474 - accuracy: 0.0000e+ - ETA: 0s - loss: 0.0739 - accuracy: 0.0000e+ - ETA: 0s - loss: 0.1034 - accuracy: 0.0000e+ - ETA: 0s - loss: 0.0958 - accuracy: 0.0000e+ - ETA: 0s - loss: 0.0876 - accuracy: 0.0000e+ - 0s 2ms/step - loss: 0.0873 - accuracy: 0.0000e+00\n",
      "Epoch 193/200\n",
      "200/200 [==============================] - ETA: 0s - loss: 0.0751 - accuracy: 0.0000e+ - ETA: 0s - loss: 0.0437 - accuracy: 0.0000e+ - ETA: 0s - loss: 0.0383 - accuracy: 0.0000e+ - ETA: 0s - loss: 0.0474 - accuracy: 0.0000e+ - ETA: 0s - loss: 0.0487 - accuracy: 0.0000e+ - ETA: 0s - loss: 0.0466 - accuracy: 0.0000e+ - ETA: 0s - loss: 0.0930 - accuracy: 0.0000e+ - ETA: 0s - loss: 0.0889 - accuracy: 0.0000e+ - 0s 2ms/step - loss: 0.0880 - accuracy: 0.0000e+00\n",
      "Epoch 194/200\n",
      "200/200 [==============================] - ETA: 0s - loss: 0.1297 - accuracy: 0.0000e+ - ETA: 0s - loss: 0.0426 - accuracy: 0.0000e+ - ETA: 0s - loss: 0.0416 - accuracy: 0.0000e+ - ETA: 0s - loss: 0.0579 - accuracy: 0.0000e+ - ETA: 0s - loss: 0.1037 - accuracy: 0.0000e+ - ETA: 0s - loss: 0.1333 - accuracy: 0.0000e+ - ETA: 0s - loss: 0.1172 - accuracy: 0.0000e+ - ETA: 0s - loss: 0.1085 - accuracy: 0.0000e+ - 0s 2ms/step - loss: 0.1072 - accuracy: 0.0000e+00\n",
      "Epoch 195/200\n",
      "200/200 [==============================] - ETA: 0s - loss: 0.0056 - accuracy: 0.0000e+ - ETA: 0s - loss: 0.0254 - accuracy: 0.0000e+ - ETA: 0s - loss: 0.0617 - accuracy: 0.0000e+ - ETA: 0s - loss: 0.0657 - accuracy: 0.0000e+ - ETA: 0s - loss: 0.1129 - accuracy: 0.0000e+ - ETA: 0s - loss: 0.1067 - accuracy: 0.0000e+ - ETA: 0s - loss: 0.0931 - accuracy: 0.0000e+ - ETA: 0s - loss: 0.1545 - accuracy: 0.0000e+ - 0s 2ms/step - loss: 0.1554 - accuracy: 0.0000e+00\n",
      "Epoch 196/200\n",
      "200/200 [==============================] - ETA: 0s - loss: 0.5123 - accuracy: 0.0000e+ - ETA: 0s - loss: 0.1377 - accuracy: 0.0000e+ - ETA: 0s - loss: 0.4114 - accuracy: 0.0000e+ - ETA: 0s - loss: 0.5456 - accuracy: 0.0000e+ - ETA: 0s - loss: 0.4310 - accuracy: 0.0000e+ - ETA: 0s - loss: 0.3604 - accuracy: 0.0000e+ - ETA: 0s - loss: 0.4359 - accuracy: 0.0000e+ - ETA: 0s - loss: 0.3867 - accuracy: 0.0000e+ - 0s 2ms/step - loss: 0.3827 - accuracy: 0.0000e+00\n",
      "Epoch 197/200\n",
      "200/200 [==============================] - ETA: 0s - loss: 0.0054 - accuracy: 0.0000e+ - ETA: 0s - loss: 0.0568 - accuracy: 0.0000e+ - ETA: 0s - loss: 0.0476 - accuracy: 0.0000e+ - ETA: 0s - loss: 0.0426 - accuracy: 0.0000e+ - ETA: 0s - loss: 0.0432 - accuracy: 0.0000e+ - ETA: 0s - loss: 0.0488 - accuracy: 0.0000e+ - ETA: 0s - loss: 0.0451 - accuracy: 0.0000e+ - ETA: 0s - loss: 0.0455 - accuracy: 0.0000e+ - 0s 2ms/step - loss: 0.0453 - accuracy: 0.0000e+00\n",
      "Epoch 198/200\n",
      "200/200 [==============================] - ETA: 0s - loss: 0.0103 - accuracy: 0.0000e+ - ETA: 0s - loss: 0.0331 - accuracy: 0.0000e+ - ETA: 0s - loss: 0.0412 - accuracy: 0.0000e+ - ETA: 0s - loss: 0.0411 - accuracy: 0.0000e+ - ETA: 0s - loss: 0.0427 - accuracy: 0.0000e+ - ETA: 0s - loss: 0.0420 - accuracy: 0.0000e+ - ETA: 0s - loss: 0.0487 - accuracy: 0.0000e+ - ETA: 0s - loss: 0.0544 - accuracy: 0.0000e+ - 0s 2ms/step - loss: 0.0538 - accuracy: 0.0000e+00\n",
      "Epoch 199/200\n",
      "200/200 [==============================] - ETA: 0s - loss: 0.0140 - accuracy: 0.0000e+ - ETA: 0s - loss: 0.0213 - accuracy: 0.0000e+ - ETA: 0s - loss: 0.0659 - accuracy: 0.0000e+ - ETA: 0s - loss: 0.0856 - accuracy: 0.0000e+ - ETA: 0s - loss: 0.0755 - accuracy: 0.0000e+ - ETA: 0s - loss: 0.0774 - accuracy: 0.0000e+ - ETA: 0s - loss: 0.0801 - accuracy: 0.0000e+ - ETA: 0s - loss: 0.0801 - accuracy: 0.0000e+ - 0s 2ms/step - loss: 0.0802 - accuracy: 0.0000e+00\n",
      "Epoch 200/200\n",
      "200/200 [==============================] - ETA: 0s - loss: 0.0789 - accuracy: 0.0000e+ - ETA: 0s - loss: 0.1599 - accuracy: 0.0000e+ - ETA: 0s - loss: 0.0990 - accuracy: 0.0000e+ - ETA: 0s - loss: 0.0777 - accuracy: 0.0000e+ - ETA: 0s - loss: 0.0696 - accuracy: 0.0000e+ - ETA: 0s - loss: 0.0822 - accuracy: 0.0000e+ - ETA: 0s - loss: 0.0787 - accuracy: 0.0000e+ - ETA: 0s - loss: 0.0742 - accuracy: 0.0000e+ - 0s 2ms/step - loss: 0.0733 - accuracy: 0.0000e+00\n"
     ]
    }
   ],
   "source": [
    "history = model.fit(dset, steps_per_epoch=200, epochs=EPOCHS, callbacks=[model_checkpoint_callback])"
   ]
  },
  {
   "cell_type": "code",
   "execution_count": 12,
   "id": "59f3e8d7",
   "metadata": {},
   "outputs": [
    {
     "data": {
      "text/plain": [
       "<tensorflow.python.training.tracking.util.CheckpointLoadStatus at 0x154e701823d0>"
      ]
     },
     "execution_count": 12,
     "metadata": {},
     "output_type": "execute_result"
    }
   ],
   "source": [
    "checkpoint_filepath = '/gpfsdswork/projects/rech/qrc/uzu97zj/AstroInfo2021/tmp/tmp'\n",
    "#checkpoint_filepath = '/gpfsdswork/projects/rech/qrc/uzu97zj/AstroInfo2021/tmp/tmp'\n",
    "model.load_weights(checkpoint_filepath)\n",
    "#history = model.fit(dset, steps_per_epoch=200, epochs=EPOCHS, callbacks=[model_checkpoint_callback])\n",
    "# plt.plot(history.loss)\n"
   ]
  },
  {
   "cell_type": "code",
   "execution_count": 13,
   "id": "fe8047ea",
   "metadata": {},
   "outputs": [
    {
     "name": "stdout",
     "output_type": "stream",
     "text": [
      "Model: \"sequential\"\n",
      "_________________________________________________________________\n",
      "Layer (type)                 Output Shape              Param #   \n",
      "=================================================================\n",
      "dense (Dense)                (None, 8)                 1152      \n",
      "_________________________________________________________________\n",
      "dense_1 (Dense)              (None, 16)                144       \n",
      "_________________________________________________________________\n",
      "dense_2 (Dense)              (None, 32)                544       \n",
      "_________________________________________________________________\n",
      "dense_3 (Dense)              (None, 64)                2112      \n",
      "_________________________________________________________________\n",
      "dense_4 (Dense)              (None, 128)               8320      \n",
      "_________________________________________________________________\n",
      "dense_5 (Dense)              (None, 256)               33024     \n",
      "_________________________________________________________________\n",
      "dense_6 (Dense)              (None, 512)               131584    \n",
      "_________________________________________________________________\n",
      "dense_7 (Dense)              (None, 1)                 513       \n",
      "=================================================================\n",
      "Total params: 177,393\n",
      "Trainable params: 177,393\n",
      "Non-trainable params: 0\n",
      "_________________________________________________________________\n"
     ]
    }
   ],
   "source": [
    "model.summary()"
   ]
  },
  {
   "cell_type": "code",
   "execution_count": 48,
   "id": "1d7add01",
   "metadata": {},
   "outputs": [
    {
     "data": {
      "image/png": "[encoded data removed]",
      "text/plain": [
       "<Figure size 432x288 with 1 Axes>"
      ]
     },
     "metadata": {
      "needs_background": "light"
     },
     "output_type": "display_data"
    }
   ],
   "source": [
    "%matplotlib inline\n",
    "plt.figure()\n",
    "plt.plot(np.arange(len(model.history.history['loss'])), model.history.history['loss'])\n",
    "plt.yscale('log')\n",
    "plt.title('MSE Loss history')\n",
    "plt.show()"
   ]
  },
  {
   "cell_type": "markdown",
   "id": "67916a9a",
   "metadata": {},
   "source": [
    "testing loss"
   ]
  },
  {
   "cell_type": "code",
   "execution_count": 14,
   "id": "35022073",
   "metadata": {},
   "outputs": [],
   "source": [
    "dset_test = input_fn(mode='test', batch_size=128)"
   ]
  },
  {
   "cell_type": "code",
   "execution_count": 15,
   "id": "00766031",
   "metadata": {},
   "outputs": [],
   "source": [
    "i = 0\n",
    "# truthes = []\n",
    "# predicted = \n",
    "for batch, features in enumerate(dset_test):\n",
    "#     print(features[0].shape)\n",
    "    if batch > 1:\n",
    "         break\n",
    "#     print(batch)\n",
    "#     print(i)\n",
    "    predict = model.predict(features[0])\n",
    "    i = i + 1"
   ]
  },
  {
   "cell_type": "code",
   "execution_count": 25,
   "id": "8e5d91e8",
   "metadata": {},
   "outputs": [],
   "source": [
    "# k = 0\n",
    "# fig, ax = plt.subplots(6, 1, figsize=(5, 10))\n",
    "# for batch, features in enumerate(dset_test):\n",
    "#     if batch > 1:\n",
    "#         break\n",
    "#     predict = model.predict(features[0])\n",
    "#     for j, gal in enumerate(features):\n",
    "#         if j >6:\n",
    "#             break\n",
    "# #         ax[k, 0].plot(np.arange(len(features[0][0])), features[0][0])\n",
    "#         ax[k].plot(features[3][0], features[2][0])\n",
    "        \n",
    "#         ax[k].scatter(1, predict[j], marker='x', color='red', s=10)\n",
    "#         k += 1\n",
    "#         #ax[k,1].set_ylim(0,1.5)\n",
    "                  "
   ]
  },
  {
   "cell_type": "code",
   "execution_count": 30,
   "id": "5caa21dd",
   "metadata": {
    "collapsed": true,
    "jupyter": {
     "outputs_hidden": true
    }
   },
   "outputs": [
    {
     "ename": "AttributeError",
     "evalue": "'tuple' object has no attribute 'shape'",
     "output_type": "error",
     "traceback": [
      "\u001b[0;31m---------------------------------------------------------------------------\u001b[0m\n\u001b[0;31mAttributeError\u001b[0m                            Traceback (most recent call last)",
      "File \u001b[0;34m/gpfs7kro/gpfslocalsup/pub/anaconda-py3/2021.05/envs/tensorflow-gpu-2.6.0/lib/python3.7/site-packages/IPython/core/interactiveshell.py\u001b[0m, in \u001b[0;32mrun_code\u001b[0m:\nLine \u001b[0;34m3441\u001b[0m:  exec(code_obj, \u001b[36mself\u001b[39;49;00m.user_global_ns, \u001b[36mself\u001b[39;49;00m.user_ns)\n",
      "In  \u001b[0;34m[30]\u001b[0m:\nLine \u001b[0;34m1\u001b[0m:     features.shape\n",
      "\u001b[0;31mAttributeError\u001b[0m: 'tuple' object has no attribute 'shape'\n\u001b[0;31m---------------------------------------------------------------------------\u001b[0m"
     ]
    }
   ],
   "source": [
    "features.shape"
   ]
  },
  {
   "cell_type": "code",
   "execution_count": 18,
   "id": "3764fc18",
   "metadata": {},
   "outputs": [
    {
     "name": "stderr",
     "output_type": "stream",
     "text": [
      "/gpfslocalsup/pub/anaconda-py3/2021.05/envs/tensorflow-gpu-2.6.0/bin/xpython:5: RuntimeWarning: divide by zero encountered in log10\n"
     ]
    },
    {
     "data": {
      "image/png": "[encoded data removed]",
      "text/plain": [
       "<Figure size 1080x360 with 1 Axes>"
      ]
     },
     "metadata": {
      "needs_background": "light"
     },
     "output_type": "display_data"
    }
   ],
   "source": [
    "k = randint(0, len(features[0]))\n",
    "%matplotlib inline\n",
    "fig, ax = plt.subplots(1, 1, figsize=(15, 5))\n",
    "# features = np.ma.masked_values(features[2],0)\n",
    "ax.plot(features[3][k], np.log10(features[2][k])+10)\n",
    "#np.log10(features[2][k])+10\n",
    "predict[k] = np.ma.masked_values(predict[k],0)\n",
    "ax.scatter(1, np.log10(predict[k])+10, marker='x', color='red', s=30, alpha=0.7)\n",
    "ax.scatter(1, np.log10(features[2][k][0])+10, marker='o', color='blue', s=30, alpha=0.3)\n",
    "ax.set_xlabel('Time')\n",
    "ax.set_ylabel('$M^{*}$');\n",
    "plt.show()"
   ]
  },
  {
   "cell_type": "code",
   "execution_count": 56,
   "id": "e708eff0",
   "metadata": {},
   "outputs": [],
   "source": [
    "err = []\n",
    "m_m = []\n",
    "err_n = []\n",
    "#features = np.ma.masked_values(features[2],0)\n",
    "#predict[k] = np.ma.masked_values(predict[k],0)\n",
    "for row in np.arange(len(features[0])):\n",
    "    error = (features[2][row][0].numpy() - predict[row][0])\n",
    "    m_max = features[2][row][0].numpy()\n",
    "    if features[2][row][0].numpy() != 0:\n",
    "        error_n = (features[2][row][0].numpy() - predict[row][0])/features[2][row][0].numpy()\n",
    "    err.append(error)\n",
    "    err_n.append(error_n)\n",
    "    m_m.append(m_m)"
   ]
  },
  {
   "cell_type": "code",
   "execution_count": 22,
   "id": "31f09e53",
   "metadata": {},
   "outputs": [
    {
     "data": {
      "text/plain": [
       "Text(0.5, 0, '$M_{data} - M_{predicted}$')"
      ]
     },
     "execution_count": 22,
     "metadata": {},
     "output_type": "execute_result"
    },
    {
     "data": {
      "image/png": "[encoded data removed]",
      "text/plain": [
       "<Figure size 432x288 with 1 Axes>"
      ]
     },
     "metadata": {
      "needs_background": "light"
     },
     "output_type": "display_data"
    }
   ],
   "source": [
    "err = np.ma.masked_values(err,0)\n",
    "err = np.ma.masked_values(err,np.inf)\n",
    "plt.hist(err, bins=70, alpha=0.5);\n",
    "plt.xlabel(r'$M_{data} - M_{predicted}$')\n",
    "#err"
   ]
  },
  {
   "cell_type": "code",
   "execution_count": 26,
   "id": "91e41da9",
   "metadata": {},
   "outputs": [
    {
     "data": {
      "text/plain": [
       "Text(0.5, 0, '$\\\\frac{M_{data} - M_{predicted}}{M_{data}}~[10^{10} M*]$')"
      ]
     },
     "execution_count": 26,
     "metadata": {},
     "output_type": "execute_result"
    },
    {
     "data": {
      "image/png": "[encoded data removed]",
      "text/plain": [
       "<Figure size 432x288 with 1 Axes>"
      ]
     },
     "metadata": {
      "needs_background": "light"
     },
     "output_type": "display_data"
    }
   ],
   "source": [
    "err = np.ma.masked_values(err,0)\n",
    "err = np.ma.masked_values(err,np.inf)\n",
    "plt.hist(err_n, bins=70, alpha=0.5);\n",
    "plt.xlabel(r'$\\frac{M_{data} - M_{predicted}}{M_{data}}~[10^{10} M*]$')\n",
    "#err"
   ]
  },
  {
   "cell_type": "code",
   "execution_count": 37,
   "id": "eb8d07fe",
   "metadata": {},
   "outputs": [
    {
     "data": {
      "text/plain": [
       "Text(0.5, 0, '$\\\\frac{M_{data} - M_{predicted}}{M_{data}}~[10^{10} M*]$')"
      ]
     },
     "execution_count": 37,
     "metadata": {},
     "output_type": "execute_result"
    },
    {
     "data": {
      "image/png": "[encoded data removed]",
      "text/plain": [
       "<Figure size 432x288 with 1 Axes>"
      ]
     },
     "metadata": {
      "needs_background": "light"
     },
     "output_type": "display_data"
    }
   ],
   "source": [
    "err = np.ma.masked_values(err,0)\n",
    "err = np.ma.masked_values(err,np.inf)\n",
    "plt.hist(err_n, bins=70, alpha=0.5);\n",
    "plt.xlabel(r'$\\frac{M_{data} - M_{predicted}}{M_{data}}~[10^{10} M*]$')\n",
    "#err"
   ]
  },
  {
   "cell_type": "code",
   "execution_count": 60,
   "id": "8a6f970e",
   "metadata": {},
   "outputs": [
    {
     "data": {
      "text/plain": [
       "Text(0.5, 0, '$\\\\frac{M_{data} - M_{predicted}}{M_{data}}~[10^{10} M*]$')"
      ]
     },
     "execution_count": 60,
     "metadata": {},
     "output_type": "execute_result"
    },
    {
     "data": {
      "image/png": "[encoded data removed]",
      "text/plain": [
       "<Figure size 432x288 with 1 Axes>"
      ]
     },
     "metadata": {
      "needs_background": "light"
     },
     "output_type": "display_data"
    }
   ],
   "source": [
    "%matplotlib inline\n",
    "err = np.ma.masked_values(err,0)\n",
    "err = np.ma.masked_values(err,np.inf)\n",
    "plt.hist(err_n, bins=70, alpha=0.5);\n",
    "plt.xlabel(r'$\\frac{M_{data} - M_{predicted}}{M_{data}}~[10^{10} M*]$');\n",
    "#err"
   ]
  },
  {
   "cell_type": "code",
   "execution_count": 64,
   "id": "24b98cb6",
   "metadata": {},
   "outputs": [
    {
     "data": {
      "text/plain": [
       "0.454129558801651"
      ]
     },
     "execution_count": 64,
     "metadata": {},
     "output_type": "execute_result"
    }
   ],
   "source": [
    "np.quantile(err_n,0.68)"
   ]
  },
  {
   "cell_type": "code",
   "execution_count": null,
   "id": "f1593e7b",
   "metadata": {},
   "outputs": [],
   "source": []
  }
 ],
 "metadata": {
  "kernelspec": {
   "display_name": "Python 3.7 (XPython)",
   "language": "python",
   "name": "xpython"
  },
  "language_info": {
   "file_extension": ".py",
   "mimetype": "text/x-python",
   "name": "python",
   "version": "3.7.10"
  }
 },
 "nbformat": 4,
 "nbformat_minor": 5
}
