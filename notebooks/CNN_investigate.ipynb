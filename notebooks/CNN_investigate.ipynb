{
 "cells": [
  {
   "cell_type": "markdown",
   "id": "2c9b5efd",
   "metadata": {},
   "source": [
    "Notebook to investigate CNN - mass - flux"
   ]
  },
  {
   "cell_type": "code",
   "execution_count": 17,
   "id": "897ed145",
   "metadata": {},
   "outputs": [],
   "source": [
    "# imports\n",
    "from random import randint\n",
    "import numpy as np\n",
    "import tensorflow as tf\n",
    "from tensorflow.keras import layers as tfkl\n",
    "import tensorflow_datasets as tfds\n",
    "from tqdm import trange\n",
    "# import my_dataset\n",
    "import matplotlib.pyplot as plt\n",
    "data_dir='/gpfsscratch/rech/qrc/commun/tensorflow_datasets'"
   ]
  },
  {
   "cell_type": "code",
   "execution_count": 2,
   "id": "ffa802ab",
   "metadata": {},
   "outputs": [],
   "source": [
    "# functions\n",
    "\n",
    "def Model(nb_summaries):\n",
    "    \"\"\" Creates a small fully connected network\n",
    "    \"\"\"\n",
    "    return tf.keras.Sequential([\n",
    "        tfkl.Input(shape=(143)),\n",
    "        tfkl.Dense(8, activation='relu'),\n",
    "        tfkl.Dense(16, activation='relu'),\n",
    "        tfkl.Dense(32, activation='relu'),\n",
    "        tfkl.Dense(64, activation='relu'),\n",
    "        tfkl.Dense(128, activation='relu'),\n",
    "        tfkl.Dense(256, activation='relu'),\n",
    "        tfkl.Dense(512, activation='relu'),\n",
    "        tfkl.Dense(nb_summaries, activation='softplus')\n",
    "        ])\n",
    "\n",
    "def to_mag(x):\n",
    "    return (-2.5*tf.math.log(x)+8.90)\n",
    "\n",
    "def preprocessing(example):\n",
    "#     def conv(x):\n",
    "    example['flux'] = to_mag(example['flux'])\n",
    "    example['flux'] = example['flux']/46.\n",
    "    return example['flux'], example['mass'][0]\n",
    "\n",
    "def preprocessing_test(example):\n",
    "#     def conv(x):\n",
    "    example['flux'] = to_mag(example['flux'])\n",
    "    example['flux'] = example['flux']/46.\n",
    "    #example = example[np.where(example['mass']>0.5)]\n",
    "    return example['flux'], example['mass'][0], example['mass'], example['time'], example['quantile']\n",
    "\n",
    "#     img = tf.math.asinh(example['image'] / tf.constant(scaling) / 3. )\n",
    "#   # We return the image as our input and output for a generative model\n",
    "#   return img\n",
    "\n",
    "def input_fn(mode='train', batch_size=100):\n",
    "    \"\"\"\n",
    "    mode: 'train' or 'test'\n",
    "    \"\"\"\n",
    "    if mode == 'train':\n",
    "        dataset = tfds.load('sfhsed', split='train[:80%]', data_dir=data_dir)\n",
    "        dataset = dataset.repeat()\n",
    "        dataset = dataset.shuffle(10000)\n",
    "        dataset = dataset.map(preprocessing) # Apply data preprocessing\n",
    "    else:\n",
    "        dataset = tfds.load('sfhsed', split='train[20%:]', data_dir=data_dir)\n",
    "#        dataset.filter(lambda x: x < 3)\n",
    "        dataset = dataset.map(preprocessing_test) # Apply data preprocessing\n",
    "    \n",
    "    dataset = dataset.batch(batch_size, drop_remainder=True)\n",
    "\n",
    "    dataset = dataset.prefetch(-1)  # fetch next batches while training current one (-1 for autotune)\n",
    "    return dataset"
   ]
  },
  {
   "cell_type": "code",
   "execution_count": 3,
   "id": "83c8bd1c",
   "metadata": {},
   "outputs": [],
   "source": [
    "dset = input_fn()"
   ]
  },
  {
   "cell_type": "code",
   "execution_count": 4,
   "id": "f507d5c5",
   "metadata": {
    "collapsed": true,
    "jupyter": {
     "outputs_hidden": true
    }
   },
   "outputs": [
    {
     "name": "stdout",
     "output_type": "stream",
     "text": [
      "Epoch 1/100\n",
      "200/200 [==============================] - ETA: 3:28 - loss: 0.738 - ETA: 0s - loss: 5.7902  - ETA: 0s - loss: 4.944 - ETA: 0s - loss: 3.549 - ETA: 0s - loss: 3.467 - ETA: 0s - loss: 3.035 - ETA: 0s - loss: 2.847 - 1s 2ms/step - loss: 2.6350\n",
      "Epoch 2/100\n",
      "200/200 [==============================] - ETA: 0s - loss: 0.367 - ETA: 0s - loss: 0.854 - ETA: 0s - loss: 1.433 - ETA: 0s - loss: 1.732 - ETA: 0s - loss: 1.545 - ETA: 0s - loss: 1.288 - ETA: 0s - loss: 1.156 - 0s 2ms/step - loss: 1.0782\n",
      "Epoch 3/100\n",
      "200/200 [==============================] - ETA: 0s - loss: 0.141 - ETA: 0s - loss: 0.893 - ETA: 0s - loss: 0.690 - ETA: 0s - loss: 1.190 - ETA: 0s - loss: 1.343 - ETA: 0s - loss: 1.120 - ETA: 0s - loss: 0.958 - 0s 2ms/step - loss: 1.1127\n",
      "Epoch 4/100\n",
      "200/200 [==============================] - ETA: 0s - loss: 1.482 - ETA: 0s - loss: 0.992 - ETA: 0s - loss: 0.561 - ETA: 0s - loss: 0.402 - ETA: 0s - loss: 1.152 - ETA: 0s - loss: 0.999 - ETA: 0s - loss: 0.940 - 0s 2ms/step - loss: 0.9377\n",
      "Epoch 5/100\n",
      "200/200 [==============================] - ETA: 0s - loss: 0.176 - ETA: 0s - loss: 0.119 - ETA: 0s - loss: 0.562 - ETA: 0s - loss: 0.425 - ETA: 0s - loss: 0.366 - ETA: 0s - loss: 0.851 - ETA: 0s - loss: 0.892 - 0s 2ms/step - loss: 0.8737\n",
      "Epoch 6/100\n",
      "200/200 [==============================] - ETA: 0s - loss: 0.055 - ETA: 0s - loss: 0.315 - ETA: 0s - loss: 0.224 - ETA: 0s - loss: 0.364 - ETA: 0s - loss: 0.942 - ETA: 0s - loss: 0.886 - ETA: 0s - loss: 0.866 - 0s 2ms/step - loss: 0.8727\n",
      "Epoch 7/100\n",
      "200/200 [==============================] - ETA: 0s - loss: 0.274 - ETA: 0s - loss: 0.300 - ETA: 0s - loss: 0.211 - ETA: 0s - loss: 0.199 - ETA: 0s - loss: 0.645 - ETA: 0s - loss: 0.540 - ETA: 0s - loss: 0.529 - 0s 2ms/step - loss: 0.5010\n",
      "Epoch 8/100\n",
      "200/200 [==============================] - ETA: 0s - loss: 0.056 - ETA: 0s - loss: 0.296 - ETA: 0s - loss: 0.372 - ETA: 0s - loss: 0.308 - ETA: 0s - loss: 0.901 - ETA: 0s - loss: 1.000 - ETA: 0s - loss: 0.862 - 0s 2ms/step - loss: 0.7916\n",
      "Epoch 9/100\n",
      "200/200 [==============================] - ETA: 0s - loss: 0.033 - ETA: 0s - loss: 0.086 - ETA: 0s - loss: 0.145 - ETA: 0s - loss: 0.134 - ETA: 0s - loss: 0.125 - ETA: 0s - loss: 0.122 - ETA: 0s - loss: 0.444 - 0s 2ms/step - loss: 0.4607\n",
      "Epoch 10/100\n",
      "200/200 [==============================] - ETA: 0s - loss: 0.132 - ETA: 0s - loss: 0.223 - ETA: 0s - loss: 0.768 - ETA: 0s - loss: 0.604 - ETA: 0s - loss: 0.921 - ETA: 0s - loss: 0.845 - ETA: 0s - loss: 0.949 - 0s 2ms/step - loss: 0.9097\n",
      "Epoch 11/100\n",
      "200/200 [==============================] - ETA: 0s - loss: 0.057 - ETA: 0s - loss: 0.307 - ETA: 0s - loss: 0.228 - ETA: 0s - loss: 0.184 - ETA: 0s - loss: 0.257 - ETA: 0s - loss: 0.273 - ETA: 0s - loss: 0.248 - 0s 2ms/step - loss: 0.7281\n",
      "Epoch 12/100\n",
      "200/200 [==============================] - ETA: 0s - loss: 4.877 - ETA: 0s - loss: 2.745 - ETA: 0s - loss: 1.499 - ETA: 0s - loss: 1.236 - ETA: 0s - loss: 1.060 - ETA: 0s - loss: 0.870 - ETA: 0s - loss: 0.756 - 0s 2ms/step - loss: 0.6955\n",
      "Epoch 13/100\n",
      "200/200 [==============================] - ETA: 0s - loss: 0.007 - ETA: 0s - loss: 0.105 - ETA: 0s - loss: 1.364 - ETA: 0s - loss: 1.300 - ETA: 0s - loss: 1.231 - ETA: 0s - loss: 1.028 - ETA: 0s - loss: 0.890 - 0s 2ms/step - loss: 0.8161\n",
      "Epoch 14/100\n",
      "200/200 [==============================] - ETA: 0s - loss: 0.119 - ETA: 0s - loss: 1.784 - ETA: 0s - loss: 1.292 - ETA: 0s - loss: 1.311 - ETA: 0s - loss: 1.005 - ETA: 0s - loss: 0.831 - ETA: 0s - loss: 0.712 - 0s 2ms/step - loss: 0.6514\n",
      "Epoch 15/100\n",
      "200/200 [==============================] - ETA: 0s - loss: 0.041 - ETA: 0s - loss: 0.219 - ETA: 0s - loss: 0.204 - ETA: 0s - loss: 0.909 - ETA: 0s - loss: 0.715 - ETA: 0s - loss: 0.624 - ETA: 0s - loss: 0.554 - 0s 2ms/step - loss: 0.6040\n",
      "Epoch 16/100\n",
      "200/200 [==============================] - ETA: 0s - loss: 0.056 - ETA: 0s - loss: 0.808 - ETA: 0s - loss: 0.968 - ETA: 0s - loss: 0.702 - ETA: 0s - loss: 0.556 - ETA: 0s - loss: 0.508 - ETA: 0s - loss: 0.519 - 0s 2ms/step - loss: 0.4823\n",
      "Epoch 17/100\n",
      "200/200 [==============================] - ETA: 0s - loss: 0.052 - ETA: 0s - loss: 0.065 - ETA: 0s - loss: 0.151 - ETA: 0s - loss: 0.142 - ETA: 0s - loss: 0.881 - ETA: 0s - loss: 0.994 - ETA: 0s - loss: 0.960 - 0s 2ms/step - loss: 0.8822\n",
      "Epoch 18/100\n",
      "200/200 [==============================] - ETA: 0s - loss: 0.022 - ETA: 0s - loss: 0.508 - ETA: 0s - loss: 0.317 - ETA: 0s - loss: 0.365 - ETA: 0s - loss: 0.731 - ETA: 0s - loss: 0.744 - ETA: 0s - loss: 0.744 - 0s 2ms/step - loss: 0.7353\n",
      "Epoch 19/100\n",
      "200/200 [==============================] - ETA: 0s - loss: 0.092 - ETA: 0s - loss: 0.247 - ETA: 0s - loss: 0.202 - ETA: 0s - loss: 0.197 - ETA: 0s - loss: 0.161 - ETA: 0s - loss: 0.139 - ETA: 0s - loss: 0.128 - 0s 2ms/step - loss: 0.1317\n",
      "Epoch 20/100\n",
      "200/200 [==============================] - ETA: 0s - loss: 0.152 - ETA: 0s - loss: 3.527 - ETA: 0s - loss: 2.523 - ETA: 0s - loss: 2.148 - ETA: 0s - loss: 1.664 - ETA: 0s - loss: 1.344 - ETA: 0s - loss: 1.145 - 0s 2ms/step - loss: 1.0875\n",
      "Epoch 21/100\n",
      "200/200 [==============================] - ETA: 0s - loss: 0.051 - ETA: 0s - loss: 2.203 - ETA: 0s - loss: 1.532 - ETA: 0s - loss: 1.050 - ETA: 0s - loss: 0.807 - ETA: 0s - loss: 0.758 - ETA: 0s - loss: 0.657 - 0s 2ms/step - loss: 0.6028\n",
      "Epoch 22/100\n",
      "200/200 [==============================] - ETA: 0s - loss: 0.072 - ETA: 0s - loss: 0.296 - ETA: 0s - loss: 1.631 - ETA: 0s - loss: 1.245 - ETA: 0s - loss: 1.093 - ETA: 0s - loss: 0.906 - ETA: 0s - loss: 0.802 - 0s 2ms/step - loss: 0.7353\n",
      "Epoch 23/100\n",
      "200/200 [==============================] - ETA: 0s - loss: 0.230 - ETA: 0s - loss: 1.376 - ETA: 0s - loss: 0.730 - ETA: 0s - loss: 0.642 - ETA: 0s - loss: 0.500 - ETA: 0s - loss: 0.412 - ETA: 0s - loss: 0.400 - 0s 2ms/step - loss: 0.3775\n",
      "Epoch 24/100\n",
      "200/200 [==============================] - ETA: 0s - loss: 0.119 - ETA: 0s - loss: 0.114 - ETA: 0s - loss: 0.103 - ETA: 0s - loss: 0.245 - ETA: 0s - loss: 0.216 - ETA: 0s - loss: 0.193 - ETA: 0s - loss: 0.687 - 0s 2ms/step - loss: 0.7583\n",
      "Epoch 25/100\n",
      "200/200 [==============================] - ETA: 0s - loss: 0.117 - ETA: 0s - loss: 1.389 - ETA: 0s - loss: 0.744 - ETA: 0s - loss: 0.529 - ETA: 0s - loss: 0.488 - ETA: 0s - loss: 0.405 - ETA: 0s - loss: 0.358 - 0s 2ms/step - loss: 0.3338\n",
      "Epoch 26/100\n",
      "200/200 [==============================] - ETA: 0s - loss: 0.223 - ETA: 0s - loss: 0.057 - ETA: 0s - loss: 0.052 - ETA: 0s - loss: 0.818 - ETA: 0s - loss: 0.993 - ETA: 0s - loss: 0.814 - ETA: 0s - loss: 0.920 - 0s 2ms/step - loss: 0.8466\n",
      "Epoch 27/100\n",
      "200/200 [==============================] - ETA: 0s - loss: 0.025 - ETA: 0s - loss: 1.274 - ETA: 0s - loss: 0.688 - ETA: 0s - loss: 0.490 - ETA: 0s - loss: 0.408 - ETA: 0s - loss: 0.344 - ETA: 0s - loss: 0.298 - 0s 2ms/step - loss: 0.2738\n",
      "Epoch 28/100\n",
      "200/200 [==============================] - ETA: 0s - loss: 0.071 - ETA: 0s - loss: 0.067 - ETA: 0s - loss: 0.090 - ETA: 0s - loss: 1.101 - ETA: 0s - loss: 0.889 - ETA: 0s - loss: 0.742 - ETA: 0s - loss: 0.624 - 0s 2ms/step - loss: 0.5680\n",
      "Epoch 29/100\n",
      "200/200 [==============================] - ETA: 0s - loss: 0.263 - ETA: 0s - loss: 0.251 - ETA: 0s - loss: 0.351 - ETA: 0s - loss: 0.893 - ETA: 0s - loss: 0.691 - ETA: 0s - loss: 0.589 - ETA: 0s - loss: 0.502 - 0s 2ms/step - loss: 0.6335\n",
      "Epoch 30/100\n",
      "200/200 [==============================] - ETA: 0s - loss: 0.228 - ETA: 0s - loss: 0.173 - ETA: 0s - loss: 0.122 - ETA: 0s - loss: 0.116 - ETA: 0s - loss: 0.105 - ETA: 0s - loss: 0.184 - ETA: 0s - loss: 0.187 - 0s 2ms/step - loss: 0.1823\n",
      "Epoch 31/100\n",
      "200/200 [==============================] - ETA: 0s - loss: 0.144 - ETA: 0s - loss: 0.155 - ETA: 0s - loss: 1.252 - ETA: 0s - loss: 0.969 - ETA: 0s - loss: 0.878 - ETA: 0s - loss: 0.722 - ETA: 0s - loss: 0.814 - 0s 2ms/step - loss: 0.7671\n",
      "Epoch 32/100\n",
      "200/200 [==============================] - ETA: 0s - loss: 0.241 - ETA: 0s - loss: 0.076 - ETA: 0s - loss: 0.133 - ETA: 0s - loss: 0.143 - ETA: 0s - loss: 0.184 - ETA: 0s - loss: 0.171 - ETA: 0s - loss: 0.161 - 0s 2ms/step - loss: 0.1534\n",
      "Epoch 33/100\n",
      "200/200 [==============================] - ETA: 0s - loss: 0.175 - ETA: 0s - loss: 0.256 - ETA: 0s - loss: 0.405 - ETA: 0s - loss: 0.302 - ETA: 0s - loss: 0.683 - ETA: 0s - loss: 0.819 - ETA: 0s - loss: 0.704 - 0s 2ms/step - loss: 0.7629\n",
      "Epoch 34/100\n",
      "200/200 [==============================] - ETA: 0s - loss: 0.103 - ETA: 0s - loss: 0.068 - ETA: 0s - loss: 0.102 - ETA: 0s - loss: 0.103 - ETA: 0s - loss: 0.697 - ETA: 0s - loss: 0.617 - ETA: 0s - loss: 0.562 - 0s 2ms/step - loss: 0.5257\n",
      "Epoch 35/100\n",
      "200/200 [==============================] - ETA: 0s - loss: 0.222 - ETA: 0s - loss: 0.603 - ETA: 0s - loss: 0.335 - ETA: 0s - loss: 0.273 - ETA: 0s - loss: 0.249 - ETA: 0s - loss: 0.227 - ETA: 0s - loss: 0.200 - 0s 2ms/step - loss: 0.1986\n",
      "Epoch 36/100\n",
      "200/200 [==============================] - ETA: 0s - loss: 0.023 - ETA: 0s - loss: 1.895 - ETA: 0s - loss: 1.092 - ETA: 0s - loss: 0.753 - ETA: 0s - loss: 0.603 - ETA: 0s - loss: 0.499 - ETA: 0s - loss: 0.523 - 0s 2ms/step - loss: 0.4882\n",
      "Epoch 37/100\n",
      "200/200 [==============================] - ETA: 0s - loss: 0.032 - ETA: 0s - loss: 1.125 - ETA: 0s - loss: 0.679 - ETA: 0s - loss: 0.519 - ETA: 0s - loss: 0.421 - ETA: 0s - loss: 0.349 - ETA: 0s - loss: 0.360 - 0s 2ms/step - loss: 0.3344\n",
      "Epoch 38/100\n",
      "200/200 [==============================] - ETA: 0s - loss: 0.198 - ETA: 0s - loss: 1.485 - ETA: 0s - loss: 0.804 - ETA: 0s - loss: 0.552 - ETA: 0s - loss: 0.468 - ETA: 0s - loss: 0.579 - ETA: 0s - loss: 0.496 - 0s 2ms/step - loss: 0.4554\n",
      "Epoch 39/100\n",
      "200/200 [==============================] - ETA: 0s - loss: 0.020 - ETA: 0s - loss: 0.065 - ETA: 0s - loss: 0.066 - ETA: 0s - loss: 0.546 - ETA: 0s - loss: 0.425 - ETA: 0s - loss: 0.605 - ETA: 0s - loss: 0.513 - 0s 2ms/step - loss: 0.4779\n",
      "Epoch 40/100\n",
      "200/200 [==============================] - ETA: 0s - loss: 0.129 - ETA: 0s - loss: 0.152 - ETA: 0s - loss: 0.100 - ETA: 0s - loss: 0.102 - ETA: 0s - loss: 0.288 - ETA: 0s - loss: 0.256 - ETA: 0s - loss: 0.220 - 0s 2ms/step - loss: 0.2107\n",
      "Epoch 41/100\n",
      "200/200 [==============================] - ETA: 0s - loss: 0.182 - ETA: 0s - loss: 0.442 - ETA: 0s - loss: 0.245 - ETA: 0s - loss: 0.186 - ETA: 0s - loss: 0.157 - ETA: 0s - loss: 0.227 - ETA: 0s - loss: 0.200 - 0s 2ms/step - loss: 0.1846\n",
      "Epoch 42/100\n",
      "200/200 [==============================] - ETA: 0s - loss: 0.065 - ETA: 0s - loss: 1.252 - ETA: 0s - loss: 1.572 - ETA: 0s - loss: 1.089 - ETA: 0s - loss: 0.838 - ETA: 0s - loss: 0.707 - ETA: 0s - loss: 0.602 - 0s 2ms/step - loss: 0.5565\n",
      "Epoch 43/100\n",
      "200/200 [==============================] - ETA: 0s - loss: 0.044 - ETA: 0s - loss: 0.139 - ETA: 0s - loss: 0.657 - ETA: 0s - loss: 0.460 - ETA: 0s - loss: 0.365 - ETA: 0s - loss: 0.377 - ETA: 0s - loss: 0.327 - 0s 2ms/step - loss: 0.3020\n",
      "Epoch 44/100\n",
      "200/200 [==============================] - ETA: 0s - loss: 0.062 - ETA: 0s - loss: 0.141 - ETA: 0s - loss: 0.210 - ETA: 0s - loss: 0.176 - ETA: 0s - loss: 0.179 - ETA: 0s - loss: 0.220 - ETA: 0s - loss: 0.195 - 0s 2ms/step - loss: 0.1819\n",
      "Epoch 45/100\n",
      "200/200 [==============================] - ETA: 0s - loss: 0.024 - ETA: 0s - loss: 0.052 - ETA: 0s - loss: 0.057 - ETA: 0s - loss: 0.079 - ETA: 0s - loss: 0.095 - ETA: 0s - loss: 0.103 - ETA: 0s - loss: 0.101 - 0s 2ms/step - loss: 0.1062\n",
      "Epoch 46/100\n",
      "200/200 [==============================] - ETA: 0s - loss: 0.032 - ETA: 0s - loss: 0.097 - ETA: 0s - loss: 0.076 - ETA: 0s - loss: 0.107 - ETA: 0s - loss: 0.097 - ETA: 0s - loss: 0.098 - ETA: 0s - loss: 0.098 - 0s 2ms/step - loss: 0.0930\n",
      "Epoch 47/100\n",
      "200/200 [==============================] - ETA: 0s - loss: 0.036 - ETA: 0s - loss: 0.107 - ETA: 0s - loss: 0.140 - ETA: 0s - loss: 0.144 - ETA: 0s - loss: 0.142 - ETA: 0s - loss: 0.122 - ETA: 0s - loss: 0.118 - 0s 2ms/step - loss: 0.1268\n",
      "Epoch 48/100\n",
      "200/200 [==============================] - ETA: 0s - loss: 0.032 - ETA: 0s - loss: 0.041 - ETA: 0s - loss: 0.034 - ETA: 0s - loss: 0.045 - ETA: 0s - loss: 0.075 - ETA: 0s - loss: 0.081 - ETA: 0s - loss: 0.101 - 0s 2ms/step - loss: 0.1028\n",
      "Epoch 49/100\n",
      "200/200 [==============================] - ETA: 0s - loss: 0.103 - ETA: 0s - loss: 0.054 - ETA: 0s - loss: 0.124 - ETA: 0s - loss: 0.109 - ETA: 0s - loss: 0.119 - ETA: 0s - loss: 0.122 - ETA: 0s - loss: 0.126 - 0s 2ms/step - loss: 0.1247\n",
      "Epoch 50/100\n",
      "200/200 [==============================] - ETA: 0s - loss: 0.119 - ETA: 0s - loss: 0.215 - ETA: 0s - loss: 0.189 - ETA: 0s - loss: 0.149 - ETA: 0s - loss: 0.142 - ETA: 0s - loss: 0.127 - ETA: 0s - loss: 0.113 - 0s 2ms/step - loss: 0.1122\n",
      "Epoch 51/100\n",
      "200/200 [==============================] - ETA: 0s - loss: 0.078 - ETA: 0s - loss: 0.034 - ETA: 0s - loss: 0.067 - ETA: 0s - loss: 0.104 - ETA: 0s - loss: 0.096 - ETA: 0s - loss: 0.090 - ETA: 0s - loss: 0.088 - 0s 2ms/step - loss: 0.0968\n",
      "Epoch 52/100\n",
      "200/200 [==============================] - ETA: 0s - loss: 0.023 - ETA: 0s - loss: 0.052 - ETA: 0s - loss: 0.048 - ETA: 0s - loss: 0.058 - ETA: 0s - loss: 0.058 - ETA: 0s - loss: 0.060 - ETA: 0s - loss: 0.073 - 0s 2ms/step - loss: 0.0786\n",
      "Epoch 53/100\n",
      "200/200 [==============================] - ETA: 0s - loss: 0.051 - ETA: 0s - loss: 0.051 - ETA: 0s - loss: 0.043 - ETA: 0s - loss: 0.045 - ETA: 0s - loss: 0.044 - ETA: 0s - loss: 0.045 - ETA: 0s - loss: 0.050 - 0s 2ms/step - loss: 0.0630\n",
      "Epoch 54/100\n",
      "200/200 [==============================] - ETA: 0s - loss: 0.046 - ETA: 0s - loss: 0.078 - ETA: 0s - loss: 0.093 - ETA: 0s - loss: 0.160 - ETA: 0s - loss: 0.151 - ETA: 0s - loss: 0.138 - ETA: 0s - loss: 0.131 - 0s 2ms/step - loss: 0.1225\n",
      "Epoch 55/100\n",
      "200/200 [==============================] - ETA: 0s - loss: 0.007 - ETA: 0s - loss: 0.055 - ETA: 0s - loss: 0.071 - ETA: 0s - loss: 0.064 - ETA: 0s - loss: 0.061 - ETA: 0s - loss: 0.060 - ETA: 0s - loss: 0.069 - 0s 2ms/step - loss: 0.0693\n",
      "Epoch 56/100\n",
      "200/200 [==============================] - ETA: 0s - loss: 0.009 - ETA: 0s - loss: 0.044 - ETA: 0s - loss: 0.074 - ETA: 0s - loss: 0.104 - ETA: 0s - loss: 0.104 - ETA: 0s - loss: 0.095 - ETA: 0s - loss: 0.092 - 0s 2ms/step - loss: 0.0892\n",
      "Epoch 57/100\n",
      "200/200 [==============================] - ETA: 0s - loss: 0.018 - ETA: 0s - loss: 0.073 - ETA: 0s - loss: 0.098 - ETA: 0s - loss: 0.112 - ETA: 0s - loss: 0.108 - ETA: 0s - loss: 0.135 - ETA: 0s - loss: 0.121 - 0s 2ms/step - loss: 0.1209\n",
      "Epoch 58/100\n",
      "200/200 [==============================] - ETA: 0s - loss: 0.069 - ETA: 0s - loss: 0.066 - ETA: 0s - loss: 0.075 - ETA: 0s - loss: 0.066 - ETA: 0s - loss: 0.061 - ETA: 0s - loss: 0.055 - ETA: 0s - loss: 0.053 - 0s 2ms/step - loss: 0.0530\n",
      "Epoch 59/100\n",
      "200/200 [==============================] - ETA: 0s - loss: 0.029 - ETA: 0s - loss: 0.093 - ETA: 0s - loss: 0.068 - ETA: 0s - loss: 0.076 - ETA: 0s - loss: 0.090 - ETA: 0s - loss: 0.136 - ETA: 0s - loss: 0.142 - 0s 2ms/step - loss: 0.1362\n",
      "Epoch 60/100\n",
      "200/200 [==============================] - ETA: 0s - loss: 0.044 - ETA: 0s - loss: 0.073 - ETA: 0s - loss: 0.133 - ETA: 0s - loss: 0.134 - ETA: 0s - loss: 0.200 - ETA: 0s - loss: 0.268 - ETA: 0s - loss: 0.325 - 0s 2ms/step - loss: 0.3033\n",
      "Epoch 61/100\n",
      "200/200 [==============================] - ETA: 0s - loss: 0.051 - ETA: 0s - loss: 0.031 - ETA: 0s - loss: 0.040 - ETA: 0s - loss: 0.041 - ETA: 0s - loss: 0.058 - ETA: 0s - loss: 0.080 - ETA: 0s - loss: 0.082 - 0s 2ms/step - loss: 0.0817\n",
      "Epoch 62/100\n",
      "200/200 [==============================] - ETA: 0s - loss: 0.162 - ETA: 0s - loss: 0.042 - ETA: 0s - loss: 0.044 - ETA: 0s - loss: 0.061 - ETA: 0s - loss: 0.308 - ETA: 0s - loss: 0.270 - ETA: 0s - loss: 0.233 - 0s 2ms/step - loss: 0.2149\n",
      "Epoch 63/100\n",
      "200/200 [==============================] - ETA: 0s - loss: 0.033 - ETA: 0s - loss: 0.171 - ETA: 0s - loss: 0.158 - ETA: 0s - loss: 1.728 - ETA: 0s - loss: 1.402 - ETA: 0s - loss: 1.417 - ETA: 0s - loss: 1.209 - 0s 2ms/step - loss: 1.1110\n",
      "Epoch 64/100\n",
      "200/200 [==============================] - ETA: 0s - loss: 8.231 - ETA: 0s - loss: 0.369 - ETA: 0s - loss: 1.387 - ETA: 0s - loss: 1.207 - ETA: 0s - loss: 0.954 - ETA: 0s - loss: 0.802 - ETA: 0s - loss: 0.686 - 0s 2ms/step - loss: 0.6269\n",
      "Epoch 65/100\n",
      "200/200 [==============================] - ETA: 0s - loss: 0.077 - ETA: 0s - loss: 0.074 - ETA: 0s - loss: 0.120 - ETA: 0s - loss: 0.876 - ETA: 0s - loss: 0.690 - ETA: 0s - loss: 0.601 - ETA: 0s - loss: 0.597 - 0s 2ms/step - loss: 0.5473\n",
      "Epoch 66/100\n",
      "200/200 [==============================] - ETA: 0s - loss: 0.081 - ETA: 0s - loss: 0.201 - ETA: 0s - loss: 0.163 - ETA: 0s - loss: 0.169 - ETA: 0s - loss: 0.161 - ETA: 0s - loss: 0.140 - ETA: 0s - loss: 0.140 - 0s 2ms/step - loss: 0.1354\n",
      "Epoch 67/100\n",
      "200/200 [==============================] - ETA: 0s - loss: 0.052 - ETA: 0s - loss: 2.092 - ETA: 0s - loss: 1.199 - ETA: 0s - loss: 1.031 - ETA: 0s - loss: 0.787 - ETA: 0s - loss: 1.051 - ETA: 0s - loss: 0.896 - 0s 2ms/step - loss: 0.8265\n",
      "Epoch 68/100\n",
      "200/200 [==============================] - ETA: 0s - loss: 0.064 - ETA: 0s - loss: 0.218 - ETA: 0s - loss: 0.150 - ETA: 0s - loss: 0.122 - ETA: 0s - loss: 0.101 - ETA: 0s - loss: 0.361 - ETA: 0s - loss: 0.415 - 0s 2ms/step - loss: 0.4356\n",
      "Epoch 69/100\n",
      "200/200 [==============================] - ETA: 0s - loss: 0.064 - ETA: 0s - loss: 0.194 - ETA: 0s - loss: 0.128 - ETA: 0s - loss: 0.290 - ETA: 0s - loss: 0.690 - ETA: 0s - loss: 0.575 - ETA: 0s - loss: 0.509 - 0s 2ms/step - loss: 0.4763\n",
      "Epoch 70/100\n",
      "200/200 [==============================] - ETA: 0s - loss: 0.099 - ETA: 0s - loss: 0.063 - ETA: 0s - loss: 0.066 - ETA: 0s - loss: 0.067 - ETA: 0s - loss: 0.439 - ETA: 0s - loss: 0.366 - ETA: 0s - loss: 0.326 - 0s 2ms/step - loss: 0.3046\n",
      "Epoch 71/100\n",
      "200/200 [==============================] - ETA: 0s - loss: 0.029 - ETA: 0s - loss: 0.484 - ETA: 0s - loss: 0.305 - ETA: 0s - loss: 0.230 - ETA: 0s - loss: 0.193 - ETA: 0s - loss: 0.448 - ETA: 0s - loss: 0.399 - 0s 2ms/step - loss: 0.3776\n",
      "Epoch 72/100\n",
      "200/200 [==============================] - ETA: 0s - loss: 0.071 - ETA: 0s - loss: 0.053 - ETA: 0s - loss: 0.045 - ETA: 0s - loss: 0.260 - ETA: 0s - loss: 0.257 - ETA: 0s - loss: 0.220 - ETA: 0s - loss: 0.207 - 0s 2ms/step - loss: 0.2634\n",
      "Epoch 73/100\n",
      "200/200 [==============================] - ETA: 0s - loss: 0.016 - ETA: 0s - loss: 0.063 - ETA: 0s - loss: 0.092 - ETA: 0s - loss: 0.091 - ETA: 0s - loss: 0.084 - ETA: 0s - loss: 0.079 - ETA: 0s - loss: 0.081 - 0s 2ms/step - loss: 0.0921\n",
      "Epoch 74/100\n",
      "200/200 [==============================] - ETA: 0s - loss: 0.153 - ETA: 0s - loss: 1.696 - ETA: 0s - loss: 1.057 - ETA: 0s - loss: 0.727 - ETA: 0s - loss: 0.561 - ETA: 0s - loss: 0.498 - ETA: 0s - loss: 0.591 - 0s 2ms/step - loss: 0.5392\n",
      "Epoch 75/100\n",
      "200/200 [==============================] - ETA: 0s - loss: 0.035 - ETA: 0s - loss: 0.143 - ETA: 0s - loss: 0.617 - ETA: 0s - loss: 0.437 - ETA: 0s - loss: 0.342 - ETA: 0s - loss: 0.289 - ETA: 0s - loss: 0.248 - 0s 2ms/step - loss: 0.2374\n",
      "Epoch 76/100\n",
      "200/200 [==============================] - ETA: 0s - loss: 0.067 - ETA: 0s - loss: 0.115 - ETA: 0s - loss: 0.078 - ETA: 0s - loss: 0.449 - ETA: 0s - loss: 0.355 - ETA: 0s - loss: 0.303 - ETA: 0s - loss: 0.267 - 0s 2ms/step - loss: 0.2449\n",
      "Epoch 77/100\n",
      "200/200 [==============================] - ETA: 0s - loss: 0.024 - ETA: 0s - loss: 1.190 - ETA: 0s - loss: 0.631 - ETA: 0s - loss: 0.438 - ETA: 0s - loss: 0.369 - ETA: 0s - loss: 0.343 - ETA: 0s - loss: 0.482 - 0s 2ms/step - loss: 0.4410\n",
      "Epoch 78/100\n",
      "200/200 [==============================] - ETA: 0s - loss: 0.037 - ETA: 0s - loss: 0.056 - ETA: 0s - loss: 0.070 - ETA: 0s - loss: 0.111 - ETA: 0s - loss: 0.096 - ETA: 0s - loss: 0.329 - ETA: 0s - loss: 0.424 - 0s 2ms/step - loss: 0.3890\n",
      "Epoch 79/100\n",
      "200/200 [==============================] - ETA: 0s - loss: 0.014 - ETA: 0s - loss: 0.084 - ETA: 0s - loss: 0.069 - ETA: 0s - loss: 0.060 - ETA: 0s - loss: 0.057 - ETA: 0s - loss: 0.053 - ETA: 0s - loss: 0.072 - 0s 2ms/step - loss: 0.0806\n",
      "Epoch 80/100\n",
      "200/200 [==============================] - ETA: 0s - loss: 0.025 - ETA: 0s - loss: 0.128 - ETA: 0s - loss: 0.120 - ETA: 0s - loss: 0.328 - ETA: 0s - loss: 0.262 - ETA: 0s - loss: 0.218 - ETA: 0s - loss: 0.192 - 0s 2ms/step - loss: 0.2125\n",
      "Epoch 81/100\n",
      "200/200 [==============================] - ETA: 0s - loss: 0.047 - ETA: 0s - loss: 0.626 - ETA: 0s - loss: 0.407 - ETA: 0s - loss: 0.306 - ETA: 0s - loss: 0.243 - ETA: 0s - loss: 0.210 - ETA: 0s - loss: 0.190 - 0s 2ms/step - loss: 0.2460\n",
      "Epoch 82/100\n",
      "200/200 [==============================] - ETA: 0s - loss: 0.025 - ETA: 0s - loss: 0.106 - ETA: 0s - loss: 0.086 - ETA: 0s - loss: 0.081 - ETA: 0s - loss: 0.082 - ETA: 0s - loss: 0.084 - ETA: 0s - loss: 0.250 - 0s 2ms/step - loss: 0.5119\n",
      "Epoch 83/100\n",
      "200/200 [==============================] - ETA: 0s - loss: 1.020 - ETA: 0s - loss: 0.151 - ETA: 0s - loss: 0.119 - ETA: 0s - loss: 0.098 - ETA: 0s - loss: 0.092 - ETA: 0s - loss: 0.084 - ETA: 0s - loss: 0.094 - 0s 2ms/step - loss: 0.0919\n",
      "Epoch 84/100\n",
      "200/200 [==============================] - ETA: 0s - loss: 0.064 - ETA: 0s - loss: 0.087 - ETA: 0s - loss: 0.190 - ETA: 0s - loss: 0.149 - ETA: 0s - loss: 0.143 - ETA: 0s - loss: 0.133 - ETA: 0s - loss: 0.120 - 0s 2ms/step - loss: 0.1234\n",
      "Epoch 85/100\n",
      "200/200 [==============================] - ETA: 0s - loss: 0.018 - ETA: 0s - loss: 0.307 - ETA: 0s - loss: 0.230 - ETA: 0s - loss: 0.175 - ETA: 0s - loss: 0.153 - ETA: 0s - loss: 0.131 - ETA: 0s - loss: 0.114 - 0s 2ms/step - loss: 0.1178\n",
      "Epoch 86/100\n",
      "200/200 [==============================] - ETA: 0s - loss: 0.102 - ETA: 0s - loss: 0.055 - ETA: 0s - loss: 0.047 - ETA: 0s - loss: 0.046 - ETA: 0s - loss: 0.052 - ETA: 0s - loss: 0.065 - ETA: 0s - loss: 0.064 - 0s 2ms/step - loss: 0.0661\n",
      "Epoch 87/100\n",
      "200/200 [==============================] - ETA: 0s - loss: 0.016 - ETA: 0s - loss: 0.093 - ETA: 0s - loss: 0.101 - ETA: 0s - loss: 0.116 - ETA: 0s - loss: 0.115 - ETA: 0s - loss: 0.102 - ETA: 0s - loss: 0.100 - 0s 2ms/step - loss: 0.1013\n",
      "Epoch 88/100\n",
      "200/200 [==============================] - ETA: 0s - loss: 0.149 - ETA: 0s - loss: 0.109 - ETA: 0s - loss: 0.084 - ETA: 0s - loss: 0.077 - ETA: 0s - loss: 0.075 - ETA: 0s - loss: 0.071 - ETA: 0s - loss: 0.073 - 0s 2ms/step - loss: 0.0757\n",
      "Epoch 89/100\n",
      "200/200 [==============================] - ETA: 0s - loss: 0.082 - ETA: 0s - loss: 0.138 - ETA: 0s - loss: 0.117 - ETA: 0s - loss: 0.110 - ETA: 0s - loss: 0.107 - ETA: 0s - loss: 0.094 - ETA: 0s - loss: 0.089 - 0s 2ms/step - loss: 0.0833\n",
      "Epoch 90/100\n",
      "200/200 [==============================] - ETA: 0s - loss: 0.042 - ETA: 0s - loss: 0.061 - ETA: 0s - loss: 0.063 - ETA: 0s - loss: 0.068 - ETA: 0s - loss: 0.068 - ETA: 0s - loss: 0.070 - ETA: 0s - loss: 0.066 - 0s 2ms/step - loss: 0.0667\n",
      "Epoch 91/100\n",
      "200/200 [==============================] - ETA: 0s - loss: 0.063 - ETA: 0s - loss: 0.054 - ETA: 0s - loss: 0.071 - ETA: 0s - loss: 0.101 - ETA: 0s - loss: 0.106 - ETA: 0s - loss: 0.095 - ETA: 0s - loss: 0.093 - 0s 2ms/step - loss: 0.0901\n",
      "Epoch 92/100\n",
      "200/200 [==============================] - ETA: 0s - loss: 0.018 - ETA: 0s - loss: 0.065 - ETA: 0s - loss: 0.055 - ETA: 0s - loss: 0.064 - ETA: 0s - loss: 0.064 - ETA: 0s - loss: 0.058 - ETA: 0s - loss: 0.055 - 0s 2ms/step - loss: 0.0576\n",
      "Epoch 93/100\n",
      "200/200 [==============================] - ETA: 0s - loss: 0.004 - ETA: 0s - loss: 0.073 - ETA: 0s - loss: 0.059 - ETA: 0s - loss: 0.064 - ETA: 0s - loss: 0.071 - ETA: 0s - loss: 0.065 - ETA: 0s - loss: 0.060 - 0s 2ms/step - loss: 0.0588\n",
      "Epoch 94/100\n",
      "200/200 [==============================] - ETA: 0s - loss: 0.019 - ETA: 0s - loss: 0.099 - ETA: 0s - loss: 0.130 - ETA: 0s - loss: 0.130 - ETA: 0s - loss: 0.120 - ETA: 0s - loss: 0.107 - ETA: 0s - loss: 0.100 - 0s 2ms/step - loss: 0.0972\n",
      "Epoch 95/100\n",
      "200/200 [==============================] - ETA: 0s - loss: 0.031 - ETA: 0s - loss: 0.088 - ETA: 0s - loss: 0.085 - ETA: 0s - loss: 0.099 - ETA: 0s - loss: 0.091 - ETA: 0s - loss: 0.083 - ETA: 0s - loss: 0.083 - 0s 2ms/step - loss: 0.0885\n",
      "Epoch 96/100\n",
      "200/200 [==============================] - ETA: 0s - loss: 0.010 - ETA: 0s - loss: 0.071 - ETA: 0s - loss: 0.058 - ETA: 0s - loss: 0.061 - ETA: 0s - loss: 0.059 - ETA: 0s - loss: 0.068 - ETA: 0s - loss: 0.074 - 0s 2ms/step - loss: 0.0716\n",
      "Epoch 97/100\n",
      "200/200 [==============================] - ETA: 0s - loss: 0.264 - ETA: 0s - loss: 0.073 - ETA: 0s - loss: 0.071 - ETA: 0s - loss: 0.080 - ETA: 0s - loss: 0.076 - ETA: 0s - loss: 0.069 - ETA: 0s - loss: 0.069 - 0s 2ms/step - loss: 0.0675\n",
      "Epoch 98/100\n",
      "200/200 [==============================] - ETA: 0s - loss: 0.024 - ETA: 0s - loss: 0.056 - ETA: 0s - loss: 0.081 - ETA: 0s - loss: 0.074 - ETA: 0s - loss: 0.081 - ETA: 0s - loss: 0.084 - ETA: 0s - loss: 0.082 - 0s 2ms/step - loss: 0.0796\n",
      "Epoch 99/100\n",
      "200/200 [==============================] - ETA: 0s - loss: 0.054 - ETA: 0s - loss: 0.037 - ETA: 0s - loss: 0.060 - ETA: 0s - loss: 0.056 - ETA: 0s - loss: 0.072 - ETA: 0s - loss: 0.073 - ETA: 0s - loss: 0.071 - 0s 2ms/step - loss: 0.0675\n",
      "Epoch 100/100\n",
      "200/200 [==============================] - ETA: 0s - loss: 0.045 - ETA: 0s - loss: 0.042 - ETA: 0s - loss: 0.059 - ETA: 0s - loss: 0.052 - ETA: 0s - loss: 0.052 - ETA: 0s - loss: 0.057 - ETA: 0s - loss: 0.055 - 0s 2ms/step - loss: 0.0535\n"
     ]
    }
   ],
   "source": [
    "model = Model(1)\n",
    "# print(model.summary)\n",
    "# dset = input_fn()\n",
    "\n",
    "model.compile(optimizer=tf.keras.optimizers.Adam(),\n",
    "              loss=tf.keras.losses.MSE)\n",
    "\n",
    "history = model.fit(dset, steps_per_epoch=200, epochs=100)\n",
    "\n",
    "# plt.plot(history.loss)\n"
   ]
  },
  {
   "cell_type": "code",
   "execution_count": 6,
   "id": "2ee1f490",
   "metadata": {},
   "outputs": [
    {
     "name": "stdout",
     "output_type": "stream",
     "text": [
      "Model: \"sequential\"\n",
      "_________________________________________________________________\n",
      "Layer (type)                 Output Shape              Param #   \n",
      "=================================================================\n",
      "dense (Dense)                (None, 8)                 1152      \n",
      "_________________________________________________________________\n",
      "dense_1 (Dense)              (None, 16)                144       \n",
      "_________________________________________________________________\n",
      "dense_2 (Dense)              (None, 32)                544       \n",
      "_________________________________________________________________\n",
      "dense_3 (Dense)              (None, 64)                2112      \n",
      "_________________________________________________________________\n",
      "dense_4 (Dense)              (None, 128)               8320      \n",
      "_________________________________________________________________\n",
      "dense_5 (Dense)              (None, 256)               33024     \n",
      "_________________________________________________________________\n",
      "dense_6 (Dense)              (None, 512)               131584    \n",
      "_________________________________________________________________\n",
      "dense_7 (Dense)              (None, 1)                 513       \n",
      "=================================================================\n",
      "Total params: 177,393\n",
      "Trainable params: 177,393\n",
      "Non-trainable params: 0\n",
      "_________________________________________________________________\n"
     ]
    }
   ],
   "source": [
    "model.summary()"
   ]
  },
  {
   "cell_type": "code",
   "execution_count": 7,
   "id": "ace7b0bf",
   "metadata": {},
   "outputs": [
    {
     "data": {
      "image/png": "[encoded data removed]",
      "text/plain": [
       "<Figure size 432x288 with 1 Axes>"
      ]
     },
     "metadata": {
      "needs_background": "light"
     },
     "output_type": "display_data"
    }
   ],
   "source": [
    "%matplotlib inline\n",
    "plt.figure()\n",
    "plt.plot(np.arange(len(model.history.history['loss'])), model.history.history['loss'])\n",
    "plt.title('MSE Loss history')\n",
    "plt.show()"
   ]
  },
  {
   "cell_type": "markdown",
   "id": "8744df95",
   "metadata": {},
   "source": [
    "testing loss"
   ]
  },
  {
   "cell_type": "code",
   "execution_count": 18,
   "id": "eaefa6d9",
   "metadata": {},
   "outputs": [],
   "source": [
    "dset_test = input_fn(mode='test')"
   ]
  },
  {
   "cell_type": "code",
   "execution_count": 19,
   "id": "543bf274",
   "metadata": {
    "jupyter": {
     "source_hidden": true
    }
   },
   "outputs": [],
   "source": [
    "# k = 0\n",
    "# fig, ax = plt.subplots(6, 1, figsize=(5, 10))\n",
    "# for batch, features in enumerate(dset_test):\n",
    "#     if batch > 1:\n",
    "#         break\n",
    "#     predict = model.predict(features[0])\n",
    "#     for j, gal in enumerate(features):\n",
    "#         if j >6:\n",
    "#             break\n",
    "# #         ax[k, 0].plot(np.arange(len(features[0][0])), features[0][0])\n",
    "#         ax[k].plot(features[3][0], features[2][0])\n",
    "        \n",
    "#         ax[k].scatter(1, predict[j], marker='x', color='red', s=10)\n",
    "#         k += 1\n",
    "#         #ax[k,1].set_ylim(0,1.5)\n",
    "                  "
   ]
  },
  {
   "cell_type": "code",
   "execution_count": 20,
   "id": "f1721726",
   "metadata": {},
   "outputs": [
    {
     "name": "stderr",
     "output_type": "stream",
     "text": [
      "/gpfslocalsup/pub/anaconda-py3/2021.05/envs/tensorflow-gpu-2.6.0/bin/xpython:4: RuntimeWarning: divide by zero encountered in log10\n"
     ]
    },
    {
     "data": {
      "image/png": "[encoded data removed]",
      "text/plain": [
       "<Figure size 1080x360 with 1 Axes>"
      ]
     },
     "metadata": {
      "needs_background": "light"
     },
     "output_type": "display_data"
    }
   ],
   "source": [
    "k = randint(0, len(features[0]))\n",
    "fig, ax = plt.subplots(1, 1, figsize=(15, 5))\n",
    "feature = np.ma.masked_values(features[2],0)\n",
    "ax.plot(features[3][k], np.log10(features[2][k])+10)\n",
    "#np.log10(features[2][k])+10\n",
    "predict[k] = np.ma.masked_values(predict[k],0)\n",
    "ax.scatter(1, np.log10(predict[k])+10, marker='x', color='red', s=30, alpha=0.7)\n",
    "ax.scatter(1, np.log10(features[2][k][0])+10, marker='o', color='blue', s=30, alpha=0.3)\n",
    "ax.set_xlabel('Time')\n",
    "ax.set_ylabel('$M^{*}$');\n"
   ]
  },
  {
   "cell_type": "code",
   "execution_count": 21,
   "id": "f7b46276",
   "metadata": {},
   "outputs": [],
   "source": [
    "err = []\n",
    "m_m = []\n",
    "err_n = []\n",
    "#features = np.ma.masked_values(features[2],0)\n",
    "#predict[k] = np.ma.masked_values(predict[k],0)\n",
    "for row in np.arange(len(features[0])):\n",
    "    error = (features[2][row][0].numpy() - predict[row][0])\n",
    "    m_max = features[2][row][0].numpy()\n",
    "    if features[2][row][0].numpy() != 0:\n",
    "        error_n = (features[2][row][0].numpy() - predict[row][0])/features[2][row][0].numpy()\n",
    "    err.append(error)\n",
    "    err_n.append(error_n)\n",
    "    m_m.append(m_m)"
   ]
  },
  {
   "cell_type": "code",
   "execution_count": 22,
   "id": "7757fd10",
   "metadata": {},
   "outputs": [
    {
     "data": {
      "text/plain": [
       "Text(0.5, 0, '$M_{data} - M_{predicted}$')"
      ]
     },
     "execution_count": 22,
     "metadata": {},
     "output_type": "execute_result"
    },
    {
     "data": {
      "image/png": "[encoded data removed]",
      "text/plain": [
       "<Figure size 432x288 with 1 Axes>"
      ]
     },
     "metadata": {
      "needs_background": "light"
     },
     "output_type": "display_data"
    }
   ],
   "source": [
    "err = np.ma.masked_values(err,0)\n",
    "err = np.ma.masked_values(err,np.inf)\n",
    "plt.hist(err, bins=70, alpha=0.5);\n",
    "plt.xlabel(r'$M_{data} - M_{predicted}$')\n",
    "#err"
   ]
  },
  {
   "cell_type": "code",
   "execution_count": 26,
   "id": "a98623f7",
   "metadata": {},
   "outputs": [
    {
     "data": {
      "text/plain": [
       "Text(0.5, 0, '$\\\\frac{M_{data} - M_{predicted}}{M_{data}}~[10^{10} M*]$')"
      ]
     },
     "execution_count": 26,
     "metadata": {},
     "output_type": "execute_result"
    },
    {
     "data": {
      "image/png": "[encoded data removed]",
      "text/plain": [
       "<Figure size 432x288 with 1 Axes>"
      ]
     },
     "metadata": {
      "needs_background": "light"
     },
     "output_type": "display_data"
    }
   ],
   "source": [
    "err = np.ma.masked_values(err,0)\n",
    "err = np.ma.masked_values(err,np.inf)\n",
    "plt.hist(err_n, bins=70, alpha=0.5);\n",
    "plt.xlabel(r'$\\frac{M_{data} - M_{predicted}}{M_{data}}~[10^{10} M*]$')\n",
    "#err"
   ]
  },
  {
   "cell_type": "code",
   "execution_count": null,
   "id": "cb6623ab",
   "metadata": {},
   "outputs": [],
   "source": []
  }
 ],
 "metadata": {
  "kernelspec": {
   "display_name": "Python 3.7 (XPython)",
   "language": "python",
   "name": "xpython"
  },
  "language_info": {
   "file_extension": ".py",
   "mimetype": "text/x-python",
   "name": "python",
   "version": "3.7.10"
  }
 },
 "nbformat": 4,
 "nbformat_minor": 5
}
