{
 "cells": [
  {
   "cell_type": "code",
   "execution_count": 1,
   "id": "e5df38bf",
   "metadata": {},
   "outputs": [],
   "source": [
    "# imports\n",
    "from random import randint\n",
    "import datetime\n",
    "import numpy as np\n",
    "import tensorflow as tf\n",
    "from tensorflow.keras import layers as tfkl\n",
    "import tensorflow_datasets as tfds\n",
    "from tqdm import trange\n",
    "\n",
    "# For probability output\n",
    "import tensorflow_probability as tfp\n",
    "\n",
    "# import my_dataset\n",
    "import matplotlib.pyplot as plt\n",
    "data_dir='/gpfsscratch/rech/qrc/commun/tensorflow_datasets'"
   ]
  },
  {
   "cell_type": "code",
   "execution_count": 2,
   "id": "52a7747c",
   "metadata": {},
   "outputs": [],
   "source": [
    "# functions\n",
    "\n",
    "def ModelProba(nb_summaries):\n",
    "    \"\"\" Creates a CNN with probabilistic output\n",
    "    \"\"\"\n",
    "    num_components = 16\n",
    "    event_shape = [1]\n",
    "    return tf.keras.Sequential([\n",
    "        tfkl.Input(shape=(128, 128, 4)),\n",
    "        tfkl.Conv2D(16, 3, strides=2, activation='relu', padding='same'),\n",
    "        tfkl.Conv2D(32, 3, strides=2, activation='relu', padding='same'),\n",
    "        tfkl.Conv2D(64, 3, strides=2, activation='relu', padding='same'),\n",
    "        tfkl.Conv2D(64, 3, strides=2, activation='relu', padding='same'),\n",
    "        tfkl.Flatten(),\n",
    "        tfkl.Dense(128, activation='relu'),\n",
    "        tfkl.Dense(tfp.layers.MixtureNormal.params_size(num_components, event_shape),\n",
    "                   activation='softplus'),\n",
    "        tfp.layers.MixtureNormal(num_components, event_shape),\n",
    "        ])\n",
    "\n",
    "def preprocessing(example):\n",
    "    # Magic constants (from mergers_kin_scripts)\n",
    "    std_noiseless_griz = 9.816043\n",
    "    stellar_light_compression = 3.0\n",
    "    img0 = example['noiseless_griz']\n",
    "    img0 = tf.where(tf.math.is_nan(img0), tf.zeros_like(img0), img0)\n",
    "    img0 = tf.where(tf.math.is_inf(img0), tf.zeros_like(img0), img0)\n",
    "    img0 = tf.math.asinh(img0 / tf.constant(std_noiseless_griz) * tf.constant(stellar_light_compression) ) / tf.constant(stellar_light_compression)\n",
    "\n",
    "    # Time to reach 50% of final mass\n",
    "    t50 = example['mass_quantiles'][4]\n",
    "    return img0, t50\n",
    "\n",
    "def preprocessing_test(example):\n",
    "    # Magic constants (from mergers_kin_scripts)\n",
    "    std_noiseless_griz = 9.816043\n",
    "    stellar_light_compression = 3.0\n",
    "    \n",
    "    img0 = example['noiseless_griz']\n",
    "    img0 = tf.where(tf.math.is_nan(img0), tf.zeros_like(img0), img0)\n",
    "    img0 = tf.where(tf.math.is_inf(img0), tf.zeros_like(img0), img0)\n",
    "    img0 = tf.math.asinh(img0 / tf.constant(std_noiseless_griz) * tf.constant(stellar_light_compression) ) / tf.constant(stellar_light_compression)\n",
    "\n",
    "    # Time to reach 50% of final mass\n",
    "    t50 = example['mass_quantiles'][4]\n",
    "    return img0, t50, example['Mstar_Half'], example['time'], example['mass_quantiles']\n",
    "\n",
    "def input_fn(mode='train', batch_size=32):\n",
    "    \"\"\"\n",
    "    mode: 'train' or 'test'\n",
    "    \"\"\"\n",
    "    def has_sfh(example):\n",
    "        print(example)\n",
    "        return not tf.reduce_all(example['Mstar_Half'] == 0)\n",
    "\n",
    "    if mode == 'train':\n",
    "        dataset = tfds.load('tng100', split='train[:80%]', data_dir=data_dir)\n",
    "        dataset = dataset.filter(has_sfh) # adding a filtering condition to exclude empty catalogs\n",
    "        dataset = dataset.map(preprocessing) # Apply data preprocessing\n",
    "        dataset = dataset.repeat()\n",
    "        dataset = dataset.shuffle(10000)\n",
    "        #dataset = dataset.filter(lambda x: x['last_over_max'] > 0.9) # adding a filtering condition to gold samples\n",
    "    else:\n",
    "        dataset = tfds.load('tng100', split='train[80%:]', data_dir=data_dir)\n",
    "        #dataset = dataset.filter(lambda x: x['has_sfh'] == True) # adding a filtering condition to exclude empty catalogs\n",
    "        #dataset = dataset.filter(lambda x: x['last_over_max'] > 0.9) # adding a filtering condition to gold samples\n",
    "        dataset = dataset.filter(has_sfh) # adding a filtering condition to exclude empty catalogs\n",
    "        dataset = dataset.map(preprocessing_test) # Apply data preprocessing\n",
    "    \n",
    "    dataset = dataset.batch(batch_size, drop_remainder=True)\n",
    "\n",
    "    dataset = dataset.prefetch(-1)  # fetch next batches while training current one (-1 for autotune)\n",
    "    return dataset"
   ]
  },
  {
   "cell_type": "code",
   "execution_count": 3,
   "id": "63ea3049",
   "metadata": {},
   "outputs": [
    {
     "name": "stderr",
     "output_type": "stream",
     "text": [
      "2021-12-09 17:12:35.798279: I tensorflow/core/platform/cpu_feature_guard.cc:142] This TensorFlow binary is optimized with oneAPI Deep Neural Network Library (oneDNN) to use the following CPU instructions in performance-critical operations:  SSE3 SSE4.1 SSE4.2 AVX AVX2 AVX512F FMA\n",
      "To enable them in other operations, rebuild TensorFlow with the appropriate compiler flags.\n"
     ]
    },
    {
     "name": "stdout",
     "output_type": "stream",
     "text": [
      "Model: \"sequential\"\n",
      "_________________________________________________________________\n",
      "Layer (type)                 Output Shape              Param #   \n",
      "=================================================================\n",
      "conv2d (Conv2D)              (None, 64, 64, 16)        592       \n",
      "_________________________________________________________________\n",
      "conv2d_1 (Conv2D)            (None, 32, 32, 32)        4640      \n",
      "_________________________________________________________________\n",
      "conv2d_2 (Conv2D)            (None, 16, 16, 64)        18496     \n",
      "_________________________________________________________________\n",
      "conv2d_3 (Conv2D)            (None, 8, 8, 64)          36928     \n",
      "_________________________________________________________________\n",
      "flatten (Flatten)            (None, 4096)              0         \n",
      "_________________________________________________________________\n",
      "dense (Dense)                (None, 128)               524416    \n",
      "_________________________________________________________________\n",
      "dense_1 (Dense)              (None, 48)                6192      \n",
      "_________________________________________________________________\n",
      "mixture_normal (MixtureNorma multiple                  0         \n",
      "=================================================================\n",
      "Total params: 591,264\n",
      "Trainable params: 591,264\n",
      "Non-trainable params: 0\n",
      "_________________________________________________________________\n"
     ]
    },
    {
     "name": "stderr",
     "output_type": "stream",
     "text": [
      "2021-12-09 17:12:36.442907: I tensorflow/core/common_runtime/gpu/gpu_device.cc:1510] Created device /job:localhost/replica:0/task:0/device:GPU:0 with 30998 MB memory:  -> device: 0, name: Tesla V100-SXM2-32GB, pci bus id: 0000:1a:00.0, compute capability: 7.0\n",
      "2021-12-09 17:12:36.828726: W tensorflow/python/util/util.cc:348] Sets are not currently considered sequences, but this may change in the future, so consider avoiding using them.\n"
     ]
    }
   ],
   "source": [
    "model_proba = ModelProba(1)\n",
    "model_proba.summary()"
   ]
  },
  {
   "cell_type": "code",
   "execution_count": 4,
   "id": "818fd8bf",
   "metadata": {},
   "outputs": [],
   "source": [
    "def negloglik(y_true, y_pred):\n",
    "    # instead of tf.keras.losses.MSE\n",
    "    return -y_pred.log_prob(y_true)\n",
    "\n",
    "model_proba.compile(optimizer=tf.keras.optimizers.Adam(),\n",
    "                    loss=negloglik, metrics=['accuracy'])\n",
    "label = 'img_cnnproba_last-mass'\n",
    "EPOCHS = 40\n",
    "now = str(datetime.datetime.now())[0:16].replace('-','_').replace(' ','_').replace(':','_')\n",
    "checkpoint_filepath = '/gpfsscratch/rech/qrc/commun/sfhsed/checkpoint/'+label+'/'+now\n",
    "model_proba_checkpoint_callback = tf.keras.callbacks.ModelCheckpoint(\n",
    "    filepath=checkpoint_filepath,\n",
    "    save_weights_only=True,\n",
    "    monitor='val_accuracy',\n",
    "    mode='max',\n",
    "    save_best_only=False)"
   ]
  },
  {
   "cell_type": "code",
   "execution_count": 5,
   "id": "37d3deeb",
   "metadata": {},
   "outputs": [
    {
     "name": "stdout",
     "output_type": "stream",
     "text": [
      "{'Mstar': <tf.Tensor 'args_0:0' shape=(100,) dtype=float32>, 'Mstar_Half': <tf.Tensor 'args_1:0' shape=(100,) dtype=float32>, 'SFR_Max': <tf.Tensor 'args_2:0' shape=(100,) dtype=float32>, 'SFR_Rad': <tf.Tensor 'args_3:0' shape=(100,) dtype=float32>, 'SFR_halfRad': <tf.Tensor 'args_4:0' shape=(100,) dtype=float32>, 'last_major_merger': <tf.Tensor 'args_5:0' shape=() dtype=float32>, 'last_over_max': <tf.Tensor 'args_6:0' shape=() dtype=float32>, 'mass_quantiles': <tf.Tensor 'args_7:0' shape=(9,) dtype=float32>, 'noiseless_griz': <tf.Tensor 'args_8:0' shape=(128, 128, 4) dtype=float32>, 'object_id': <tf.Tensor 'args_9:0' shape=() dtype=int32>, 'sed': <tf.Tensor 'args_10:0' shape=(143,) dtype=float32>, 'stellar_light': <tf.Tensor 'args_11:0' shape=(512, 512) dtype=float32>, 'time': <tf.Tensor 'args_12:0' shape=(100,) dtype=float32>, 'velocity_dispersion_map': <tf.Tensor 'args_13:0' shape=(512, 512) dtype=float32>, 'velocity_map': <tf.Tensor 'args_14:0' shape=(512, 512) dtype=float32>}\n",
      "Epoch 1/40\n",
      "\n",
      "Epoch 00001: LearningRateScheduler setting learning rate to 0.001.\n"
     ]
    },
    {
     "name": "stderr",
     "output_type": "stream",
     "text": [
      "2021-12-09 17:12:43.212676: I tensorflow/compiler/mlir/mlir_graph_optimization_pass.cc:185] None of the MLIR Optimization Passes are enabled (registered 2)\n",
      "2021-12-09 17:12:53.271274: I tensorflow/stream_executor/cuda/cuda_dnn.cc:369] Loaded cuDNN version 8101\n"
     ]
    },
    {
     "name": "stdout",
     "output_type": "stream",
     "text": [
      "200/200 [==============================] - 18s 26ms/step - loss: 0.6052 - accuracy: 0.0000e+00\n",
      "Epoch 2/40\n",
      "\n",
      "Epoch 00002: LearningRateScheduler setting learning rate to 0.0009000000000000001.\n",
      "200/200 [==============================] - 5s 24ms/step - loss: 0.5656 - accuracy: 0.0000e+00\n",
      "Epoch 3/40\n",
      "\n",
      "Epoch 00003: LearningRateScheduler setting learning rate to 0.0008100000000000001.\n",
      "200/200 [==============================] - 5s 24ms/step - loss: 0.5645 - accuracy: 0.0000e+00\n",
      "Epoch 4/40\n",
      "\n",
      "Epoch 00004: LearningRateScheduler setting learning rate to 0.0007290000000000002.\n",
      "200/200 [==============================] - 5s 24ms/step - loss: 0.5622 - accuracy: 0.0000e+00\n",
      "Epoch 5/40\n",
      "\n",
      "Epoch 00005: LearningRateScheduler setting learning rate to 0.0006561000000000001.\n",
      "200/200 [==============================] - 5s 23ms/step - loss: 0.5617 - accuracy: 0.0000e+00\n",
      "Epoch 6/40\n",
      "\n",
      "Epoch 00006: LearningRateScheduler setting learning rate to 0.00059049.\n",
      "200/200 [==============================] - 5s 24ms/step - loss: 0.5608 - accuracy: 0.0000e+00\n",
      "Epoch 7/40\n",
      "\n",
      "Epoch 00007: LearningRateScheduler setting learning rate to 0.000531441.\n",
      "200/200 [==============================] - 5s 24ms/step - loss: 0.5599 - accuracy: 0.0000e+00\n",
      "Epoch 8/40\n",
      "\n",
      "Epoch 00008: LearningRateScheduler setting learning rate to 0.0004782969000000001.\n",
      "200/200 [==============================] - 5s 25ms/step - loss: 0.5603 - accuracy: 0.0000e+00\n",
      "Epoch 9/40\n",
      "\n",
      "Epoch 00009: LearningRateScheduler setting learning rate to 0.0004304672100000001.\n",
      "200/200 [==============================] - 5s 24ms/step - loss: 0.5598 - accuracy: 0.0000e+00\n",
      "Epoch 10/40\n",
      "\n",
      "Epoch 00010: LearningRateScheduler setting learning rate to 0.0003874204890000001.\n",
      "200/200 [==============================] - 5s 24ms/step - loss: 0.5595 - accuracy: 0.0000e+00\n",
      "Epoch 11/40\n",
      "\n",
      "Epoch 00011: LearningRateScheduler setting learning rate to 0.0003486784401000001.\n",
      "200/200 [==============================] - 5s 23ms/step - loss: 0.5592 - accuracy: 0.0000e+00\n",
      "Epoch 12/40\n",
      "\n",
      "Epoch 00012: LearningRateScheduler setting learning rate to 0.0003138105960900001.\n",
      "200/200 [==============================] - 5s 26ms/step - loss: 0.5591 - accuracy: 0.0000e+00\n",
      "Epoch 13/40\n",
      "\n",
      "Epoch 00013: LearningRateScheduler setting learning rate to 0.0002824295364810001.\n",
      "200/200 [==============================] - 5s 23ms/step - loss: 0.5590 - accuracy: 0.0000e+00\n",
      "Epoch 14/40\n",
      "\n",
      "Epoch 00014: LearningRateScheduler setting learning rate to 0.0002541865828329001.\n",
      "200/200 [==============================] - 5s 24ms/step - loss: 0.5591 - accuracy: 0.0000e+00\n",
      "Epoch 15/40\n",
      "\n",
      "Epoch 00015: LearningRateScheduler setting learning rate to 0.0002287679245496101.\n",
      "200/200 [==============================] - 5s 24ms/step - loss: 0.5582 - accuracy: 0.0000e+00\n",
      "Epoch 16/40\n",
      "\n",
      "Epoch 00016: LearningRateScheduler setting learning rate to 0.0002058911320946491.\n",
      "200/200 [==============================] - 5s 24ms/step - loss: 0.5582 - accuracy: 0.0000e+00\n",
      "Epoch 17/40\n",
      "\n",
      "Epoch 00017: LearningRateScheduler setting learning rate to 0.00018530201888518417.\n",
      "200/200 [==============================] - 5s 24ms/step - loss: 0.5581 - accuracy: 0.0000e+00\n",
      "Epoch 18/40\n",
      "\n",
      "Epoch 00018: LearningRateScheduler setting learning rate to 0.00016677181699666576.\n",
      "200/200 [==============================] - 5s 23ms/step - loss: 0.5579 - accuracy: 0.0000e+00\n",
      "Epoch 19/40\n",
      "\n",
      "Epoch 00019: LearningRateScheduler setting learning rate to 0.00015009463529699917.\n",
      "200/200 [==============================] - 5s 24ms/step - loss: 0.5574 - accuracy: 0.0000e+00\n",
      "Epoch 20/40\n",
      "\n",
      "Epoch 00020: LearningRateScheduler setting learning rate to 0.0001350851717672993.\n",
      "200/200 [==============================] - 5s 24ms/step - loss: 0.5576 - accuracy: 0.0000e+00\n",
      "Epoch 21/40\n",
      "\n",
      "Epoch 00021: LearningRateScheduler setting learning rate to 0.00012157665459056935.\n",
      "200/200 [==============================] - 5s 24ms/step - loss: 0.5574 - accuracy: 0.0000e+00\n",
      "Epoch 22/40\n",
      "\n",
      "Epoch 00022: LearningRateScheduler setting learning rate to 0.00010941898913151242.\n",
      "200/200 [==============================] - 4s 22ms/step - loss: 0.5573 - accuracy: 0.0000e+00\n",
      "Epoch 23/40\n",
      "\n",
      "Epoch 00023: LearningRateScheduler setting learning rate to 9.847709021836118e-05.\n",
      "200/200 [==============================] - 5s 25ms/step - loss: 0.5572 - accuracy: 0.0000e+00\n",
      "Epoch 24/40\n",
      "\n",
      "Epoch 00024: LearningRateScheduler setting learning rate to 8.862938119652506e-05.\n",
      "200/200 [==============================] - 5s 23ms/step - loss: 0.5570 - accuracy: 0.0000e+00\n",
      "Epoch 25/40\n",
      "\n",
      "Epoch 00025: LearningRateScheduler setting learning rate to 7.976644307687256e-05.\n",
      "200/200 [==============================] - 5s 24ms/step - loss: 0.5570 - accuracy: 0.0000e+00\n",
      "Epoch 26/40\n",
      "\n",
      "Epoch 00026: LearningRateScheduler setting learning rate to 7.17897987691853e-05.\n",
      "200/200 [==============================] - 5s 23ms/step - loss: 0.5567 - accuracy: 0.0000e+00\n",
      "Epoch 27/40\n",
      "\n",
      "Epoch 00027: LearningRateScheduler setting learning rate to 6.461081889226677e-05.\n",
      "200/200 [==============================] - 5s 24ms/step - loss: 0.5569 - accuracy: 0.0000e+00\n",
      "Epoch 28/40\n",
      "\n",
      "Epoch 00028: LearningRateScheduler setting learning rate to 5.8149737003040094e-05.\n",
      "200/200 [==============================] - 5s 24ms/step - loss: 0.5567 - accuracy: 0.0000e+00\n",
      "Epoch 29/40\n",
      "\n",
      "Epoch 00029: LearningRateScheduler setting learning rate to 5.233476330273609e-05.\n",
      "200/200 [==============================] - 5s 23ms/step - loss: 0.5569 - accuracy: 0.0000e+00\n",
      "Epoch 30/40\n",
      "\n",
      "Epoch 00030: LearningRateScheduler setting learning rate to 4.7101286972462485e-05.\n",
      "200/200 [==============================] - 5s 25ms/step - loss: 0.5564 - accuracy: 0.0000e+00\n",
      "Epoch 31/40\n",
      "\n",
      "Epoch 00031: LearningRateScheduler setting learning rate to 4.239115827521624e-05.\n",
      "200/200 [==============================] - 5s 24ms/step - loss: 0.5566 - accuracy: 0.0000e+00\n",
      "Epoch 32/40\n",
      "\n",
      "Epoch 00032: LearningRateScheduler setting learning rate to 3.8152042447694614e-05.\n",
      "200/200 [==============================] - 5s 24ms/step - loss: 0.5564 - accuracy: 0.0000e+00\n",
      "Epoch 33/40\n",
      "\n",
      "Epoch 00033: LearningRateScheduler setting learning rate to 3.433683820292515e-05.\n",
      "200/200 [==============================] - 4s 22ms/step - loss: 0.5563 - accuracy: 0.0000e+00\n",
      "Epoch 34/40\n",
      "\n",
      "Epoch 00034: LearningRateScheduler setting learning rate to 3.090315438263264e-05.\n",
      "200/200 [==============================] - 5s 25ms/step - loss: 0.5564 - accuracy: 0.0000e+00\n",
      "Epoch 35/40\n",
      "\n",
      "Epoch 00035: LearningRateScheduler setting learning rate to 2.7812838944369376e-05.\n",
      "200/200 [==============================] - 5s 23ms/step - loss: 0.5564 - accuracy: 0.0000e+00\n",
      "Epoch 36/40\n",
      "\n",
      "Epoch 00036: LearningRateScheduler setting learning rate to 2.5031555049932436e-05.\n",
      "200/200 [==============================] - 5s 24ms/step - loss: 0.5562 - accuracy: 0.0000e+00\n",
      "Epoch 37/40\n",
      "\n",
      "Epoch 00037: LearningRateScheduler setting learning rate to 2.2528399544939195e-05.\n",
      "200/200 [==============================] - 5s 23ms/step - loss: 0.5563 - accuracy: 0.0000e+00\n",
      "Epoch 38/40\n",
      "\n",
      "Epoch 00038: LearningRateScheduler setting learning rate to 2.0275559590445276e-05.\n",
      "200/200 [==============================] - 5s 24ms/step - loss: 0.5562 - accuracy: 0.0000e+00\n",
      "Epoch 39/40\n",
      "\n",
      "Epoch 00039: LearningRateScheduler setting learning rate to 1.824800363140075e-05.\n",
      "200/200 [==============================] - 5s 24ms/step - loss: 0.5563 - accuracy: 0.0000e+00\n",
      "Epoch 40/40\n",
      "\n",
      "Epoch 00040: LearningRateScheduler setting learning rate to 1.6423203268260675e-05.\n",
      "200/200 [==============================] - 5s 23ms/step - loss: 0.5562 - accuracy: 0.0000e+00\n"
     ]
    }
   ],
   "source": [
    "LEARNING_RATE=0.001\n",
    "LEARNING_RATE_EXP_DECAY=0.9\n",
    "\n",
    "lr_decay = tf.keras.callbacks.LearningRateScheduler(\n",
    "    lambda epoch: LEARNING_RATE * LEARNING_RATE_EXP_DECAY**epoch,\n",
    "    verbose=True)\n",
    "\n",
    "dset = input_fn(mode='train', batch_size=32)\n",
    "history = model_proba.fit(dset, steps_per_epoch=200, epochs=EPOCHS, callbacks=[model_proba_checkpoint_callback, lr_decay])"
   ]
  },
  {
   "cell_type": "code",
   "execution_count": 6,
   "id": "7252ed47",
   "metadata": {},
   "outputs": [],
   "source": [
    "# To read the model from disk\n",
    "if False:\n",
    "    checkpoint_filepath = '/gpfsscratch/rech/qrc/commun/sfhsed/checkpoint/img_cnnproba_last-mass/2021_12_09_14_26'\n",
    "    status = model_proba.load_weights(checkpoint_filepath)"
   ]
  },
  {
   "cell_type": "code",
   "execution_count": 6,
   "id": "a7d22395",
   "metadata": {},
   "outputs": [
    {
     "data": {
      "image/png": "[encoded data removed]",
      "text/plain": [
       "<Figure size 432x288 with 1 Axes>"
      ]
     },
     "metadata": {
      "needs_background": "light"
     },
     "output_type": "display_data"
    }
   ],
   "source": [
    "plt.figure()\n",
    "plt.plot(np.arange(len(model_proba.history.history['loss'])), model_proba.history.history['loss'])\n",
    "#plt.yscale('log')\n",
    "plt.title('Log Likelihood Loss history')\n",
    "plt.savefig('loss_cnnproba_image_to_t50.png', dpi=144)"
   ]
  },
  {
   "cell_type": "code",
   "execution_count": 7,
   "id": "b6aa7eba",
   "metadata": {},
   "outputs": [
    {
     "name": "stdout",
     "output_type": "stream",
     "text": [
      "{'Mstar': <tf.Tensor 'args_0:0' shape=(100,) dtype=float32>, 'Mstar_Half': <tf.Tensor 'args_1:0' shape=(100,) dtype=float32>, 'SFR_Max': <tf.Tensor 'args_2:0' shape=(100,) dtype=float32>, 'SFR_Rad': <tf.Tensor 'args_3:0' shape=(100,) dtype=float32>, 'SFR_halfRad': <tf.Tensor 'args_4:0' shape=(100,) dtype=float32>, 'last_major_merger': <tf.Tensor 'args_5:0' shape=() dtype=float32>, 'last_over_max': <tf.Tensor 'args_6:0' shape=() dtype=float32>, 'mass_quantiles': <tf.Tensor 'args_7:0' shape=(9,) dtype=float32>, 'noiseless_griz': <tf.Tensor 'args_8:0' shape=(128, 128, 4) dtype=float32>, 'object_id': <tf.Tensor 'args_9:0' shape=() dtype=int32>, 'sed': <tf.Tensor 'args_10:0' shape=(143,) dtype=float32>, 'stellar_light': <tf.Tensor 'args_11:0' shape=(512, 512) dtype=float32>, 'time': <tf.Tensor 'args_12:0' shape=(100,) dtype=float32>, 'velocity_dispersion_map': <tf.Tensor 'args_13:0' shape=(512, 512) dtype=float32>, 'velocity_map': <tf.Tensor 'args_14:0' shape=(512, 512) dtype=float32>}\n"
     ]
    }
   ],
   "source": [
    "dset_test = input_fn(mode='test', batch_size=128)"
   ]
  },
  {
   "cell_type": "code",
   "execution_count": 8,
   "id": "ea95d96d",
   "metadata": {},
   "outputs": [],
   "source": [
    "i = 0\n",
    "truthes = []\n",
    "predicted_mean = []\n",
    "predicted_std = []\n",
    "for ibatch, features in enumerate(dset_test):\n",
    "    truth = features[1]\n",
    "    truthes.append(truth)\n",
    "    predict = model_proba(features[0])\n",
    "    predicted_mean.append(predict.mean())\n",
    "    predicted_std.append(predict.stddev())\n",
    "    i = i + 1\n",
    "truthes = np.ravel(truthes)\n",
    "predicted_mean = np.ravel(predicted_mean)\n",
    "predicted_std = np.ravel(predicted_std)"
   ]
  },
  {
   "cell_type": "code",
   "execution_count": 9,
   "id": "18e35f2f",
   "metadata": {},
   "outputs": [
    {
     "data": {
      "text/plain": [
       "Text(0, 0.5, 'Predicted T50')"
      ]
     },
     "execution_count": 9,
     "metadata": {},
     "output_type": "execute_result"
    },
    {
     "data": {
      "image/png": "[encoded data removed]",
      "text/plain": [
       "<Figure size 432x288 with 1 Axes>"
      ]
     },
     "metadata": {
      "needs_background": "light"
     },
     "output_type": "display_data"
    }
   ],
   "source": [
    "plt.errorbar(truthes, predicted_mean, predicted_std, marker='.', ls='', alpha=0.5)\n",
    "plt.xlim(0, 1)\n",
    "plt.ylim(0, 1)\n",
    "plt.plot([0, 1], [0, 1], '--')\n",
    "plt.title('CNN probabiltic output (with softplus) - T50')\n",
    "plt.xlabel('Truth T50')\n",
    "plt.ylabel('Predicted T50')\n",
    "#plt.savefig('cnn_proba_softplus_image_t50_predicted_vs_truth.pdf')"
   ]
  },
  {
   "cell_type": "code",
   "execution_count": null,
   "id": "3e657aa3",
   "metadata": {},
   "outputs": [],
   "source": []
  }
 ],
 "metadata": {
  "kernelspec": {
   "display_name": "Python 3 (ipykernel)",
   "language": "python",
   "name": "python3"
  },
  "language_info": {
   "codemirror_mode": {
    "name": "ipython",
    "version": 3
   },
   "file_extension": ".py",
   "mimetype": "text/x-python",
   "name": "python",
   "nbconvert_exporter": "python",
   "pygments_lexer": "ipython3",
   "version": "3.7.10"
  }
 },
 "nbformat": 4,
 "nbformat_minor": 5
}
