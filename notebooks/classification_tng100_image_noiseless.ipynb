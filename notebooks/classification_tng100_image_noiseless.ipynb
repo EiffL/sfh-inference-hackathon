{
 "cells": [
  {
   "cell_type": "markdown",
   "id": "2f8a058e",
   "metadata": {},
   "source": [
    "# Notebook to classify the dataset of the NOISELESS images\n",
    "# Distinction between galaxies with lbt > and < 3Gyrs \n",
    "# **On-going work, not finished!**"
   ]
  },
  {
   "cell_type": "code",
   "execution_count": 1,
   "id": "3523e30c",
   "metadata": {},
   "outputs": [
    {
     "name": "stdout",
     "output_type": "stream",
     "text": [
      "Thu Dec  9 18:09:41 2021       \n",
      "+-----------------------------------------------------------------------------+\n",
      "| NVIDIA-SMI 470.57.02    Driver Version: 470.57.02    CUDA Version: 11.4     |\n",
      "|-------------------------------+----------------------+----------------------+\n",
      "| GPU  Name        Persistence-M| Bus-Id        Disp.A | Volatile Uncorr. ECC |\n",
      "| Fan  Temp  Perf  Pwr:Usage/Cap|         Memory-Usage | GPU-Util  Compute M. |\n",
      "|                               |                      |               MIG M. |\n",
      "|===============================+======================+======================|\n",
      "|   0  Tesla V100-SXM2...  On   | 00000000:1A:00.0 Off |                    0 |\n",
      "| N/A   43C    P0    44W / 300W |      0MiB / 32510MiB |      0%      Default |\n",
      "|                               |                      |                  N/A |\n",
      "+-------------------------------+----------------------+----------------------+\n",
      "                                                                               \n",
      "+-----------------------------------------------------------------------------+\n",
      "| Processes:                                                                  |\n",
      "|  GPU   GI   CI        PID   Type   Process name                  GPU Memory |\n",
      "|        ID   ID                                                   Usage      |\n",
      "|=============================================================================|\n",
      "|  No running processes found                                                 |\n",
      "+-----------------------------------------------------------------------------+\n"
     ]
    }
   ],
   "source": [
    "!nvidia-smi"
   ]
  },
  {
   "cell_type": "code",
   "execution_count": 2,
   "id": "fde8cfc6",
   "metadata": {},
   "outputs": [],
   "source": [
    "%load_ext autoreload\n",
    "%autoreload 2"
   ]
  },
  {
   "cell_type": "code",
   "execution_count": 3,
   "id": "c637baf5",
   "metadata": {},
   "outputs": [],
   "source": [
    "import tensorflow as tf\n",
    "import tensorflow_datasets as tfds\n",
    "import matplotlib.pyplot as plt\n",
    "import numpy as np\n",
    "from astropy.stats import mad_std\n",
    "import tensorflow.keras as tfk\n",
    "#from sfh.datasets.mergers import tng100_images_noiseless"
   ]
  },
  {
   "cell_type": "code",
   "execution_count": 4,
   "id": "f4dbac5c",
   "metadata": {},
   "outputs": [
    {
     "name": "stderr",
     "output_type": "stream",
     "text": [
      "2021-12-09 18:09:52.700665: I tensorflow/core/platform/cpu_feature_guard.cc:142] This TensorFlow binary is optimized with oneAPI Deep Neural Network Library (oneDNN) to use the following CPU instructions in performance-critical operations:  SSE3 SSE4.1 SSE4.2 AVX AVX2 AVX512F FMA\n",
      "To enable them in other operations, rebuild TensorFlow with the appropriate compiler flags.\n",
      "2021-12-09 18:09:53.407706: I tensorflow/core/common_runtime/gpu/gpu_device.cc:1510] Created device /job:localhost/replica:0/task:0/device:GPU:0 with 30998 MB memory:  -> device: 0, name: Tesla V100-SXM2-32GB, pci bus id: 0000:1a:00.0, compute capability: 7.0\n"
     ]
    }
   ],
   "source": [
    "train_dset,valid_dset,test_dset = tfds.load('tng100_images_noiseless', split=['train[:75%]','train[75%:85%]','train[85%:]'])"
   ]
  },
  {
   "cell_type": "code",
   "execution_count": null,
   "id": "5f1542b6",
   "metadata": {},
   "outputs": [],
   "source": [
    "print(train_dset,test_dset)"
   ]
  },
  {
   "cell_type": "code",
   "execution_count": 5,
   "id": "7f379ccf",
   "metadata": {},
   "outputs": [
    {
     "name": "stdout",
     "output_type": "stream",
     "text": [
      "Test 1749\n",
      "Train 8744\n",
      "Train 1166\n",
      "Total 11659\n"
     ]
    }
   ],
   "source": [
    "print(\"Test\",len(test_dset))\n",
    "print(\"Train\",len(train_dset))\n",
    "print(\"Train\",len(valid_dset))\n",
    "print(\"Total\",len(train_dset)+len(test_dset)+len(valid_dset))"
   ]
  },
  {
   "cell_type": "code",
   "execution_count": null,
   "id": "1d4a8b04",
   "metadata": {},
   "outputs": [],
   "source": [
    "for example in train_dset.take(2):\n",
    "    plt.figure()\n",
    "    plt.imshow(example[\"image\"][:,:,1],cmap='gray')\n",
    "    lbt=float(example[\"last_major_merger\"])\n",
    "    plt.title(\"Last major merger \"+str(\"{:.1f}\".format(lbt))+\" Gyr ago\"+\"\\n Galaxy ID \"+str(int(example[\"object_id\"])))"
   ]
  },
  {
   "cell_type": "markdown",
   "id": "951c98d5",
   "metadata": {},
   "source": [
    "**Check the distribution of the lookback times**"
   ]
  },
  {
   "cell_type": "code",
   "execution_count": null,
   "id": "82873833",
   "metadata": {},
   "outputs": [],
   "source": [
    "# Let's collect a few examples to check their distributions\n",
    "lbts=[]\n",
    "for (batch, entry) in enumerate(train_dset.take(len(train_dset))):\n",
    "    lbts.append(float(entry['last_major_merger'])/13.6)\n",
    "lbts=np.array(lbts)"
   ]
  },
  {
   "cell_type": "code",
   "execution_count": null,
   "id": "36dd2193",
   "metadata": {},
   "outputs": [],
   "source": [
    "print(\"There are\",len(lbts),\"values in the training set\")\n",
    "plt.hist(lbts,20)\n",
    "plt.title(\"Histogram of the normalised lookback time\")\n",
    "plt.ylabel('Number')\n",
    "plt.xlabel(\"Normalised lookback time\")\n",
    "print(np.mean(lbts))"
   ]
  },
  {
   "cell_type": "markdown",
   "id": "e0653bb1",
   "metadata": {},
   "source": [
    "**Normalise images**"
   ]
  },
  {
   "cell_type": "code",
   "execution_count": null,
   "id": "61644303",
   "metadata": {},
   "outputs": [],
   "source": [
    "# Let's collect a few examples to check their distributions\n",
    "imgs=[]\n",
    "for (batch, entry) in enumerate(train_dset.take(100)):\n",
    "    imgs.append(entry['image'])\n",
    "imgs=np.array(imgs)"
   ]
  },
  {
   "cell_type": "code",
   "execution_count": null,
   "id": "21feed1c",
   "metadata": {},
   "outputs": [],
   "source": [
    "#Check pixel distribution for a few images\n",
    "for i,b in enumerate(['g', 'r', 'i', 'z']):\n",
    "    plt.hist(imgs[:,:,:,i].flatten(),100, label=b)\n",
    "plt.legend()\n",
    "plt.yscale(\"log\")\n",
    "plt.ylabel(\"Number of pixels\")\n",
    "plt.xlabel(\"Values\")\n",
    "plt.title(\"Histogram of the pixel values in the first 300 NOISELESS images\")"
   ]
  },
  {
   "cell_type": "code",
   "execution_count": null,
   "id": "d12bfad8",
   "metadata": {},
   "outputs": [],
   "source": [
    "# Let's evaluate the noise standard deviation in each band, and apply range \n",
    "# compression accordingly\n",
    "scaling = []\n",
    "mean=[]\n",
    "for i,b in enumerate(['g', 'r', 'i', 'z']):\n",
    "    plt.hist(imgs[:,:,:,i].flatten(),100, label=b,alpha=0.5)#,range=[-100,100]);\n",
    "    sigma = mad_std(imgs[:,:,:,i].flatten())\n",
    "    scaling.append(sigma)\n",
    "    mean.append(np.mean(imgs[:,:,:,i].flatten()))\n",
    "    plt.axvline(sigma, color='C%d'%i,alpha=0.5)\n",
    "    plt.axvline(-sigma, color='C%d'%i,alpha=0.5)\n",
    "plt.legend()\n",
    "plt.yscale(\"log\")"
   ]
  },
  {
   "cell_type": "code",
   "execution_count": null,
   "id": "eac30625",
   "metadata": {},
   "outputs": [],
   "source": [
    "# Let's have a look at this distribution if we rescale each band by the standard\n",
    "# deviation\n",
    "for i,b in enumerate(['g', 'r', 'i', 'z']):\n",
    "    plt.hist((imgs[:,:,:,i].flatten()-mean[i])/scaling[i],100, label=b,alpha=0.5)#,range=[-10,20]);\n",
    "plt.legend()\n",
    "plt.title(\"Histogram of the pixel values after rescaling by the standard deviation\")\n"
   ]
  },
  {
   "cell_type": "code",
   "execution_count": null,
   "id": "96e9b8d6",
   "metadata": {},
   "outputs": [],
   "source": [
    "# a common approach for range compression is to apply arcsinh to suppress the\n",
    "# high amplitude values\n",
    "#Test with a compression factor manually adjusted\n",
    "for i,b in enumerate(['g', 'r', 'i', 'z']):\n",
    "    plt.hist(1/6*np.arcsinh((imgs[:,:,:,i].flatten()-mean[i])/scaling[i]*6),100,\n",
    "           label=b, alpha=0.5);\n",
    "plt.legend()\n",
    "plt.yscale('log')\n",
    "plt.title(\"Histogram of the pixel values after scaling by std and arcsinh\")"
   ]
  },
  {
   "cell_type": "code",
   "execution_count": null,
   "id": "d7c24fdd",
   "metadata": {},
   "outputs": [],
   "source": [
    "#Scaling with max"
   ]
  },
  {
   "cell_type": "code",
   "execution_count": 6,
   "id": "741ea29d",
   "metadata": {},
   "outputs": [],
   "source": [
    "# Using a mapping function to apply preprocessing to our data\n",
    "def evaluate_scaling(train_dset):\n",
    "    \"\"\"\n",
    "    Evaluates the standard deviation of the pixel values in each band g,r,i,z.\n",
    "    Input: train_dset (tensforflow dataset): training datset on which we want to evaluate the scaling\n",
    "    Output: scaling (np array): array containig the std in each band\n",
    "            mean (np array): array containig the mean in each band\n",
    "    \"\"\"\n",
    "    #Takes 100 images from wich the std will be estimated  \n",
    "    imgs=[]\n",
    "    for (batch, entry) in enumerate(train_dset.take(100)):\n",
    "        imgs.append(entry['image'])\n",
    "    imgs=np.array(imgs)\n",
    "    #Computes the scaling\n",
    "    mean=[]\n",
    "    scaling = []\n",
    "    maximum=[]\n",
    "    for i,b in enumerate(['g', 'r', 'i', 'z']):\n",
    "        sigma = mad_std(imgs[:,:,:,i].flatten())\n",
    "        mean.append(np.mean(imgs[:,:,:,i].flatten()))\n",
    "        scaling.append(sigma)\n",
    "        maximum.append(np.max(imgs[:,:,:,i].flatten()))\n",
    "    return scaling,mean,maximum\n",
    "\n",
    "def preprocessing_classification(example):\n",
    "    \"\"\"\n",
    "    Normalises the images from the original dataset, by dividing it by the std in each band and by appling arcsinh scaling.\n",
    "    NB: scaling and mean are global variablse, as this notebook is made only for one particular example and cannot be generalized without changing the code\n",
    "    NB: a compression factor for the arcsinh has been added to compress the values close to 0-1\n",
    "    Input: example (dict): example from the tensorflow dataset\n",
    "    Output: norm_img (np ndarray): normalised image\n",
    "            example[\"last_major_merger\"]: tf tensor containing the lookback time of the last major merger\n",
    "            example[\"object_id\"]: tf tensor containing the galaxy id        \n",
    "    \"\"\"\n",
    "    img=example[\"image\"]\n",
    "    ##norm_img=1/6*tf.math.asinh((img-mean)/tf.constant(scaling)*6)\n",
    "    #Works better with maximum\n",
    "    norm_img=1/6*tf.math.asinh((img)/tf.constant(maximum)*6)\n",
    "\n",
    "    #Classes are [recent_merger, older_merger]\n",
    "    classification=tf.cond(example[\"last_major_merger\"]<3, lambda:[1,0],lambda:[0,1])    \n",
    "    return norm_img,classification"
   ]
  },
  {
   "cell_type": "code",
   "execution_count": 7,
   "id": "db3de384",
   "metadata": {},
   "outputs": [
    {
     "name": "stderr",
     "output_type": "stream",
     "text": [
      "2021-12-09 18:10:05.990393: I tensorflow/compiler/mlir/mlir_graph_optimization_pass.cc:185] None of the MLIR Optimization Passes are enabled (registered 2)\n"
     ]
    },
    {
     "name": "stdout",
     "output_type": "stream",
     "text": [
      "[0.013293113401059552, 0.024231357420802166, 0.020571552039110794, 0.004017575382304042] [0.26849395, 0.50093114, 0.44640252, 0.09331725] [279.11002, 606.5274, 571.3022, 133.87555]\n"
     ]
    }
   ],
   "source": [
    "scaling,mean,maximum=evaluate_scaling(train_dset)\n",
    "print(scaling,mean,maximum)"
   ]
  },
  {
   "cell_type": "code",
   "execution_count": 22,
   "id": "8a46793c",
   "metadata": {},
   "outputs": [],
   "source": [
    "#Normalise the training dataset\n",
    "norm_train_dset = train_dset.map(preprocessing_classification)"
   ]
  },
  {
   "cell_type": "code",
   "execution_count": 24,
   "id": "05fc6070",
   "metadata": {},
   "outputs": [
    {
     "name": "stdout",
     "output_type": "stream",
     "text": [
      "classes tf.Tensor([0 1], shape=(2,), dtype=int32)\n",
      "classes tf.Tensor([0 1], shape=(2,), dtype=int32)\n"
     ]
    },
    {
     "data": {
      "image/png": "[encoded data removed]",
      "text/plain": [
       "<Figure size 432x288 with 2 Axes>"
      ]
     },
     "metadata": {
      "needs_background": "light"
     },
     "output_type": "display_data"
    },
    {
     "data": {
      "image/png": "[encoded data removed]",
      "text/plain": [
       "<Figure size 432x288 with 2 Axes>"
      ]
     },
     "metadata": {
      "needs_background": "light"
     },
     "output_type": "display_data"
    }
   ],
   "source": [
    "#Check the normalisation on a few examples\n",
    "norm_imgs,classes=[],[]\n",
    "for example in norm_train_dset.take(2):\n",
    "    plt.figure()\n",
    "    norm_imgs.append(example[0])\n",
    "    print(\"classes\",example[1])\n",
    "    plt.imshow(norm_imgs[-1][:,:,0],cmap='gray')\n",
    "    plt.title(\"Normalised image in g-band\")\n",
    "    plt.colorbar()"
   ]
  },
  {
   "cell_type": "code",
   "execution_count": null,
   "id": "0997384f",
   "metadata": {},
   "outputs": [],
   "source": [
    "norm_imgs=[]\n",
    "for example in norm_train_dset.take(500):\n",
    "    norm_imgs.append(example[0])\n",
    "norm_imgs=np.array(norm_imgs)\n",
    "print(np.shape(norm_imgs),type(norm_imgs))\n",
    "\n",
    "for i,b in enumerate(['g', 'r', 'i', 'z']):\n",
    "    plt.hist(norm_imgs[:,:,:,i].flatten(),100,label=b, alpha=0.5);\n",
    "    \n",
    "plt.legend()\n",
    "plt.yscale('log')\n",
    "plt.title(\"Histogram of the pixel values after preprocessing\")"
   ]
  },
  {
   "cell_type": "markdown",
   "id": "fc48a41a",
   "metadata": {},
   "source": [
    "**Create the input pipeline**"
   ]
  },
  {
   "cell_type": "code",
   "execution_count": 25,
   "id": "a895c915",
   "metadata": {},
   "outputs": [],
   "source": [
    "def input_pipeline(mode='train', batch_size=64):\n",
    "    \"\"\"\n",
    "    Creates the input pipeline that loads the dataset and normalises the data\n",
    "    Possible modes: 'train', 'valid' or 'test'.\n",
    "    Input: mode (str): specifies the mode for train, validation or test\n",
    "           batch_size (int): size of the batch\n",
    "    Output= dataset (tf dataset): properly processes dataset\n",
    "    \"\"\"\n",
    "    if mode == 'train':\n",
    "        dataset = tfds.load('tng100_images_noiseless', split='train[:80%]')\n",
    "        dataset = dataset.repeat()\n",
    "        dataset = dataset.shuffle(10000)\n",
    "    elif mode=='valid':\n",
    "        dataset = tfds.load('tng100_images_noiseless', split='train[80%:90%]')\n",
    "    elif mode=='test':\n",
    "        dataset = tfds.load('tng100_images_noiseless', split='train[90%:]')\n",
    "    \n",
    "    dataset = dataset.map(preprocessing_classification) # Apply data preprocessing\n",
    "    dataset = dataset.batch(batch_size, drop_remainder=True)\n",
    "    dataset = dataset.prefetch(-1) # fetch next batches while training current one (-1 for autotune)\n",
    "    return dataset"
   ]
  },
  {
   "cell_type": "code",
   "execution_count": 26,
   "id": "6de0dab8",
   "metadata": {},
   "outputs": [],
   "source": [
    "#input_train_dset=input_pipeline(mode='train', batch_size=64)"
   ]
  },
  {
   "cell_type": "code",
   "execution_count": 47,
   "id": "9ba2563c",
   "metadata": {},
   "outputs": [],
   "source": [
    "#for ex in input_train_dset.take(1):\n",
    "#    print(ex[0])"
   ]
  },
  {
   "cell_type": "markdown",
   "id": "da5fe205",
   "metadata": {},
   "source": [
    "**INPUT DATASETS**"
   ]
  },
  {
   "cell_type": "code",
   "execution_count": 28,
   "id": "c8c88dc9",
   "metadata": {},
   "outputs": [],
   "source": [
    "#Input dataset\n",
    "dataset_training=input_pipeline(mode='train', batch_size=64)\n",
    "dataset_validation=input_pipeline(mode='valid', batch_size=64)\n",
    "dataset_test=input_pipeline(mode='test', batch_size=64)"
   ]
  },
  {
   "cell_type": "code",
   "execution_count": 50,
   "id": "45eddfd3",
   "metadata": {},
   "outputs": [
    {
     "name": "stderr",
     "output_type": "stream",
     "text": [
      "WARNING:matplotlib.legend:No handles with labels found to put in legend.\n"
     ]
    },
    {
     "name": "stdout",
     "output_type": "stream",
     "text": [
      "class tf.Tensor([0 1], shape=(2,), dtype=int32)\n"
     ]
    },
    {
     "data": {
      "image/png": "[encoded data removed]",
      "text/plain": [
       "<Figure size 1080x360 with 4 Axes>"
      ]
     },
     "metadata": {
      "needs_background": "light"
     },
     "output_type": "display_data"
    }
   ],
   "source": [
    "#Displays a few examples\n",
    "for example in dataset_training.take(1):\n",
    "    plt.figure(figsize=(15,5))\n",
    "    plt.subplot(1,4,1)\n",
    "    plt.imshow(example[0][1,:,:,0],label='g')\n",
    "    plt.subplot(1,4,2)\n",
    "    plt.imshow(example[0][1,:,:,1],label='r')\n",
    "    plt.subplot(1,4,3)\n",
    "    plt.imshow(example[0][1,:,:,2])\n",
    "    plt.subplot(1,4,4)\n",
    "    plt.imshow(example[0][1,:,:,3])\n",
    "    plt.legend()  \n",
    "    print(\"class\",example[1][1])"
   ]
  },
  {
   "cell_type": "markdown",
   "id": "61153ab2",
   "metadata": {},
   "source": [
    "**Define a first simple non-probabilistic CNN**"
   ]
  },
  {
   "cell_type": "code",
   "execution_count": 39,
   "id": "1725d610",
   "metadata": {},
   "outputs": [],
   "source": [
    "def build_model_non_probabilistic():\n",
    "    \"\"\"\n",
    "    Creates a CNN that takes as input an image of a galaxy and predicts the corresponding lookback time\n",
    "    \"\"\"\n",
    "    #Define the model\n",
    "    model = tfk.models.Sequential()\n",
    "    #1st layer\n",
    "    model.add(tfk.layers.Conv2D(32, kernel_size=5, padding='same',input_shape=(128,128,4), activation='elu', strides=2))\n",
    "    model.add(tfk.layers.BatchNormalization())\n",
    "    #2nd layer\n",
    "    model.add(tfk.layers.Conv2D(64, kernel_size=5, padding='same', activation='relu', strides=2))\n",
    "    model.add(tfk.layers.BatchNormalization())\n",
    "    #Flatten layer\n",
    "    model.add(tfk.layers.Flatten())\n",
    "    #Dense\n",
    "    model.add(tfk.layers.Dense(256,activation='relu'))\n",
    "    #model.add(tfk.layers.Dropout(0.3))\n",
    "    model.add(tfk.layers.Dense(128,activation='relu'))\n",
    "    #Predict a single value, no activation function\n",
    "    model.add(tfk.layers.Dense(2,activation='relu'))# 2 classes\n",
    "        \n",
    "    #Compile for a single value\n",
    "    model.compile(optimizer=tfk.optimizers.Adam(1e-3), # learning rate will be set by LearningRateScheduler\n",
    "                loss=tfk.metrics.binary_crossentropy,\n",
    "                 metrics=[\"acc\"])\n",
    "\n",
    "    return model"
   ]
  },
  {
   "cell_type": "code",
   "execution_count": 40,
   "id": "2e3a229b",
   "metadata": {},
   "outputs": [
    {
     "name": "stdout",
     "output_type": "stream",
     "text": [
      "Model: \"sequential_3\"\n",
      "_________________________________________________________________\n",
      "Layer (type)                 Output Shape              Param #   \n",
      "=================================================================\n",
      "conv2d_6 (Conv2D)            (None, 64, 64, 32)        3232      \n",
      "_________________________________________________________________\n",
      "batch_normalization_6 (Batch (None, 64, 64, 32)        128       \n",
      "_________________________________________________________________\n",
      "conv2d_7 (Conv2D)            (None, 32, 32, 64)        51264     \n",
      "_________________________________________________________________\n",
      "batch_normalization_7 (Batch (None, 32, 32, 64)        256       \n",
      "_________________________________________________________________\n",
      "flatten_3 (Flatten)          (None, 65536)             0         \n",
      "_________________________________________________________________\n",
      "dense_9 (Dense)              (None, 256)               16777472  \n",
      "_________________________________________________________________\n",
      "dense_10 (Dense)             (None, 128)               32896     \n",
      "_________________________________________________________________\n",
      "dense_11 (Dense)             (None, 2)                 258       \n",
      "=================================================================\n",
      "Total params: 16,865,506\n",
      "Trainable params: 16,865,314\n",
      "Non-trainable params: 192\n",
      "_________________________________________________________________\n"
     ]
    }
   ],
   "source": [
    "model=build_model_non_probabilistic()\n",
    "model.summary()"
   ]
  },
  {
   "cell_type": "code",
   "execution_count": 41,
   "id": "5c95ec62",
   "metadata": {},
   "outputs": [
    {
     "name": "stdout",
     "output_type": "stream",
     "text": [
      "Epoch 1/10\n",
      "156/156 [==============================] - 4s 16ms/step - loss: 1.2763 - acc: 0.9163 - val_loss: 1.3180 - val_acc: 0.9141\n",
      "Epoch 2/10\n",
      "156/156 [==============================] - 2s 15ms/step - loss: 1.2520 - acc: 0.9184 - val_loss: 1.3180 - val_acc: 0.9141\n",
      "Epoch 3/10\n",
      "156/156 [==============================] - 2s 15ms/step - loss: 1.2066 - acc: 0.9213 - val_loss: 1.3180 - val_acc: 0.9141\n",
      "Epoch 4/10\n",
      "156/156 [==============================] - 2s 15ms/step - loss: 1.2473 - acc: 0.9187 - val_loss: 1.3133 - val_acc: 0.9141\n",
      "Epoch 5/10\n",
      "156/156 [==============================] - 2s 15ms/step - loss: 1.2542 - acc: 0.9183 - val_loss: 1.3113 - val_acc: 0.9141\n",
      "Epoch 6/10\n",
      "156/156 [==============================] - 2s 15ms/step - loss: 1.2689 - acc: 0.9175 - val_loss: 1.3113 - val_acc: 0.9141\n",
      "Epoch 7/10\n",
      "156/156 [==============================] - 2s 15ms/step - loss: 1.2566 - acc: 0.9180 - val_loss: 1.3113 - val_acc: 0.9141\n",
      "Epoch 8/10\n",
      "156/156 [==============================] - 2s 15ms/step - loss: 1.2351 - acc: 0.9195 - val_loss: 1.3180 - val_acc: 0.9141\n",
      "Epoch 9/10\n",
      "156/156 [==============================] - 2s 15ms/step - loss: 1.2566 - acc: 0.9181 - val_loss: 1.3180 - val_acc: 0.9141\n",
      "Epoch 10/10\n",
      "156/156 [==============================] - 2s 15ms/step - loss: 1.2028 - acc: 0.9216 - val_loss: 1.3180 - val_acc: 0.9141\n"
     ]
    }
   ],
   "source": [
    "#Train the non probabilistic model\n",
    "history=model.fit(dataset_training,\n",
    "          validation_data=dataset_validation,\n",
    "          steps_per_epoch=10000//64,\n",
    "          epochs=10)"
   ]
  },
  {
   "cell_type": "code",
   "execution_count": 42,
   "id": "d08c6a05",
   "metadata": {},
   "outputs": [
    {
     "data": {
      "text/plain": [
       "<matplotlib.legend.Legend at 0x14c1240df610>"
      ]
     },
     "execution_count": 42,
     "metadata": {},
     "output_type": "execute_result"
    },
    {
     "data": {
      "image/png": "[encoded data removed]",
      "text/plain": [
       "<Figure size 432x288 with 1 Axes>"
      ]
     },
     "metadata": {
      "needs_background": "light"
     },
     "output_type": "display_data"
    }
   ],
   "source": [
    "#Plot loss functions\n",
    "loss=history.history[\"loss\"]\n",
    "val_loss=history.history[\"val_loss\"]\n",
    "\n",
    "epochs=np.linspace(0,10,len(loss))\n",
    "plt.plot(epochs,loss,label='training loss')\n",
    "plt.plot(epochs,val_loss,label='validation loss')\n",
    "plt.xlabel(\"Epochs\")\n",
    "plt.legend(loc='upper right')"
   ]
  },
  {
   "cell_type": "markdown",
   "id": "1ed01ddd",
   "metadata": {},
   "source": [
    "Predictions"
   ]
  },
  {
   "cell_type": "code",
   "execution_count": 43,
   "id": "5e794cd8",
   "metadata": {},
   "outputs": [],
   "source": [
    "predictions = model.predict(dataset_test)"
   ]
  },
  {
   "cell_type": "code",
   "execution_count": 44,
   "id": "2ac69da9",
   "metadata": {},
   "outputs": [],
   "source": [
    "# Retrieving last_major_merger for testing set\n",
    "BATCH_SIZE=64\n",
    "ground_truth = []\n",
    "#The order is the same in 'prediction' and when I take examples because there is no shuffle when loading the test dataset\n",
    "for im,lbt in dataset_test.take(len(dataset_test)):\n",
    "    ground_truth.append(lbt)\n",
    "ground_truth = np.concatenate(ground_truth, axis=0)"
   ]
  },
  {
   "cell_type": "code",
   "execution_count": 45,
   "id": "a0491a70",
   "metadata": {},
   "outputs": [
    {
     "data": {
      "text/plain": [
       "Text(0.5, 1.0, 'For a simple non-probabilistic CNN')"
      ]
     },
     "execution_count": 45,
     "metadata": {},
     "output_type": "execute_result"
    },
    {
     "data": {
      "image/png": "[encoded data removed]",
      "text/plain": [
       "<Figure size 432x288 with 1 Axes>"
      ]
     },
     "metadata": {
      "needs_background": "light"
     },
     "output_type": "display_data"
    }
   ],
   "source": [
    "plt.plot(ground_truth, predictions,'.')\n",
    "plt.xlabel(\"True lookback time\")\n",
    "plt.ylabel(\"Predicted lookback time\")\n",
    "plt.plot([0,1],[0,1],color='r')\n",
    "plt.gca().set_aspect(\"equal\")\n",
    "plt.title(\"For a simple non-probabilistic CNN\")"
   ]
  },
  {
   "cell_type": "code",
   "execution_count": 46,
   "id": "07b5b342",
   "metadata": {},
   "outputs": [
    {
     "ename": "ValueError",
     "evalue": "too many values to unpack (expected 2)",
     "output_type": "error",
     "traceback": [
      "\u001b[0;31m---------------------------------------------------------------------------\u001b[0m",
      "\u001b[0;31mAttributeError\u001b[0m                            Traceback (most recent call last)",
      "\u001b[0;32m/gpfslocalsup/pub/anaconda-py3/2021.05/envs/tensorflow-gpu-2.6.0/lib/python3.7/site-packages/numpy/lib/histograms.py\u001b[0m in \u001b[0;36mhistogramdd\u001b[0;34m(sample, bins, range, normed, weights, density)\u001b[0m\n\u001b[1;32m   1014\u001b[0m         \u001b[0;31m# Sample is an ND-array.\u001b[0m\u001b[0;34m\u001b[0m\u001b[0;34m\u001b[0m\u001b[0;34m\u001b[0m\u001b[0m\n\u001b[0;32m-> 1015\u001b[0;31m         \u001b[0mN\u001b[0m\u001b[0;34m,\u001b[0m \u001b[0mD\u001b[0m \u001b[0;34m=\u001b[0m \u001b[0msample\u001b[0m\u001b[0;34m.\u001b[0m\u001b[0mshape\u001b[0m\u001b[0;34m\u001b[0m\u001b[0;34m\u001b[0m\u001b[0m\n\u001b[0m\u001b[1;32m   1016\u001b[0m     \u001b[0;32mexcept\u001b[0m \u001b[0;34m(\u001b[0m\u001b[0mAttributeError\u001b[0m\u001b[0;34m,\u001b[0m \u001b[0mValueError\u001b[0m\u001b[0;34m)\u001b[0m\u001b[0;34m:\u001b[0m\u001b[0;34m\u001b[0m\u001b[0;34m\u001b[0m\u001b[0m\n",
      "\u001b[0;31mAttributeError\u001b[0m: 'list' object has no attribute 'shape'",
      "\nDuring handling of the above exception, another exception occurred:\n",
      "\u001b[0;31mValueError\u001b[0m                                Traceback (most recent call last)",
      "\u001b[0;32m/tmp/ipykernel_1376508/2459719388.py\u001b[0m in \u001b[0;36m<module>\u001b[0;34m\u001b[0m\n\u001b[0;32m----> 1\u001b[0;31m \u001b[0mplt\u001b[0m\u001b[0;34m.\u001b[0m\u001b[0mhist2d\u001b[0m\u001b[0;34m(\u001b[0m\u001b[0mground_truth\u001b[0m\u001b[0;34m,\u001b[0m \u001b[0mpredictions\u001b[0m\u001b[0;34m.\u001b[0m\u001b[0msqueeze\u001b[0m\u001b[0;34m(\u001b[0m\u001b[0;34m)\u001b[0m\u001b[0;34m,\u001b[0m \u001b[0;36m64\u001b[0m\u001b[0;34m,\u001b[0m \u001b[0mcmap\u001b[0m\u001b[0;34m=\u001b[0m\u001b[0;34m'gist_stern'\u001b[0m\u001b[0;34m)\u001b[0m\u001b[0;34m;\u001b[0m\u001b[0;34m\u001b[0m\u001b[0;34m\u001b[0m\u001b[0m\n\u001b[0m\u001b[1;32m      2\u001b[0m \u001b[0mplt\u001b[0m\u001b[0;34m.\u001b[0m\u001b[0mgca\u001b[0m\u001b[0;34m(\u001b[0m\u001b[0;34m)\u001b[0m\u001b[0;34m.\u001b[0m\u001b[0mset_aspect\u001b[0m\u001b[0;34m(\u001b[0m\u001b[0;34m'equal'\u001b[0m\u001b[0;34m)\u001b[0m\u001b[0;34m;\u001b[0m\u001b[0;34m\u001b[0m\u001b[0;34m\u001b[0m\u001b[0m\n\u001b[1;32m      3\u001b[0m \u001b[0mplt\u001b[0m\u001b[0;34m.\u001b[0m\u001b[0mplot\u001b[0m\u001b[0;34m(\u001b[0m\u001b[0;34m[\u001b[0m\u001b[0;36m0\u001b[0m\u001b[0;34m,\u001b[0m\u001b[0;36m1\u001b[0m\u001b[0;34m]\u001b[0m\u001b[0;34m,\u001b[0m\u001b[0;34m[\u001b[0m\u001b[0;36m0\u001b[0m\u001b[0;34m,\u001b[0m\u001b[0;36m1\u001b[0m\u001b[0;34m]\u001b[0m\u001b[0;34m,\u001b[0m\u001b[0mcolor\u001b[0m\u001b[0;34m=\u001b[0m\u001b[0;34m'r'\u001b[0m\u001b[0;34m)\u001b[0m\u001b[0;34m\u001b[0m\u001b[0;34m\u001b[0m\u001b[0m\n\u001b[1;32m      4\u001b[0m \u001b[0mplt\u001b[0m\u001b[0;34m.\u001b[0m\u001b[0mxlabel\u001b[0m\u001b[0;34m(\u001b[0m\u001b[0;34m'True lookback time'\u001b[0m\u001b[0;34m)\u001b[0m\u001b[0;34m\u001b[0m\u001b[0;34m\u001b[0m\u001b[0m\n\u001b[1;32m      5\u001b[0m \u001b[0mplt\u001b[0m\u001b[0;34m.\u001b[0m\u001b[0mylabel\u001b[0m\u001b[0;34m(\u001b[0m\u001b[0;34m'Predicted lookback time'\u001b[0m\u001b[0;34m)\u001b[0m\u001b[0;34m;\u001b[0m\u001b[0;34m\u001b[0m\u001b[0;34m\u001b[0m\u001b[0m\n",
      "\u001b[0;32m/gpfslocalsup/pub/anaconda-py3/2021.05/envs/tensorflow-gpu-2.6.0/lib/python3.7/site-packages/matplotlib/pyplot.py\u001b[0m in \u001b[0;36mhist2d\u001b[0;34m(x, y, bins, range, density, weights, cmin, cmax, data, **kwargs)\u001b[0m\n\u001b[1;32m   2878\u001b[0m         \u001b[0mx\u001b[0m\u001b[0;34m,\u001b[0m \u001b[0my\u001b[0m\u001b[0;34m,\u001b[0m \u001b[0mbins\u001b[0m\u001b[0;34m=\u001b[0m\u001b[0mbins\u001b[0m\u001b[0;34m,\u001b[0m \u001b[0mrange\u001b[0m\u001b[0;34m=\u001b[0m\u001b[0mrange\u001b[0m\u001b[0;34m,\u001b[0m \u001b[0mdensity\u001b[0m\u001b[0;34m=\u001b[0m\u001b[0mdensity\u001b[0m\u001b[0;34m,\u001b[0m\u001b[0;34m\u001b[0m\u001b[0;34m\u001b[0m\u001b[0m\n\u001b[1;32m   2879\u001b[0m         \u001b[0mweights\u001b[0m\u001b[0;34m=\u001b[0m\u001b[0mweights\u001b[0m\u001b[0;34m,\u001b[0m \u001b[0mcmin\u001b[0m\u001b[0;34m=\u001b[0m\u001b[0mcmin\u001b[0m\u001b[0;34m,\u001b[0m \u001b[0mcmax\u001b[0m\u001b[0;34m=\u001b[0m\u001b[0mcmax\u001b[0m\u001b[0;34m,\u001b[0m\u001b[0;34m\u001b[0m\u001b[0;34m\u001b[0m\u001b[0m\n\u001b[0;32m-> 2880\u001b[0;31m         **({\"data\": data} if data is not None else {}), **kwargs)\n\u001b[0m\u001b[1;32m   2881\u001b[0m     \u001b[0msci\u001b[0m\u001b[0;34m(\u001b[0m\u001b[0m__ret\u001b[0m\u001b[0;34m[\u001b[0m\u001b[0;34m-\u001b[0m\u001b[0;36m1\u001b[0m\u001b[0;34m]\u001b[0m\u001b[0;34m)\u001b[0m\u001b[0;34m\u001b[0m\u001b[0;34m\u001b[0m\u001b[0m\n\u001b[1;32m   2882\u001b[0m     \u001b[0;32mreturn\u001b[0m \u001b[0m__ret\u001b[0m\u001b[0;34m\u001b[0m\u001b[0;34m\u001b[0m\u001b[0m\n",
      "\u001b[0;32m/gpfslocalsup/pub/anaconda-py3/2021.05/envs/tensorflow-gpu-2.6.0/lib/python3.7/site-packages/matplotlib/__init__.py\u001b[0m in \u001b[0;36minner\u001b[0;34m(ax, data, *args, **kwargs)\u001b[0m\n\u001b[1;32m   1359\u001b[0m     \u001b[0;32mdef\u001b[0m \u001b[0minner\u001b[0m\u001b[0;34m(\u001b[0m\u001b[0max\u001b[0m\u001b[0;34m,\u001b[0m \u001b[0;34m*\u001b[0m\u001b[0margs\u001b[0m\u001b[0;34m,\u001b[0m \u001b[0mdata\u001b[0m\u001b[0;34m=\u001b[0m\u001b[0;32mNone\u001b[0m\u001b[0;34m,\u001b[0m \u001b[0;34m**\u001b[0m\u001b[0mkwargs\u001b[0m\u001b[0;34m)\u001b[0m\u001b[0;34m:\u001b[0m\u001b[0;34m\u001b[0m\u001b[0;34m\u001b[0m\u001b[0m\n\u001b[1;32m   1360\u001b[0m         \u001b[0;32mif\u001b[0m \u001b[0mdata\u001b[0m \u001b[0;32mis\u001b[0m \u001b[0;32mNone\u001b[0m\u001b[0;34m:\u001b[0m\u001b[0;34m\u001b[0m\u001b[0;34m\u001b[0m\u001b[0m\n\u001b[0;32m-> 1361\u001b[0;31m             \u001b[0;32mreturn\u001b[0m \u001b[0mfunc\u001b[0m\u001b[0;34m(\u001b[0m\u001b[0max\u001b[0m\u001b[0;34m,\u001b[0m \u001b[0;34m*\u001b[0m\u001b[0mmap\u001b[0m\u001b[0;34m(\u001b[0m\u001b[0msanitize_sequence\u001b[0m\u001b[0;34m,\u001b[0m \u001b[0margs\u001b[0m\u001b[0;34m)\u001b[0m\u001b[0;34m,\u001b[0m \u001b[0;34m**\u001b[0m\u001b[0mkwargs\u001b[0m\u001b[0;34m)\u001b[0m\u001b[0;34m\u001b[0m\u001b[0;34m\u001b[0m\u001b[0m\n\u001b[0m\u001b[1;32m   1362\u001b[0m \u001b[0;34m\u001b[0m\u001b[0m\n\u001b[1;32m   1363\u001b[0m         \u001b[0mbound\u001b[0m \u001b[0;34m=\u001b[0m \u001b[0mnew_sig\u001b[0m\u001b[0;34m.\u001b[0m\u001b[0mbind\u001b[0m\u001b[0;34m(\u001b[0m\u001b[0max\u001b[0m\u001b[0;34m,\u001b[0m \u001b[0;34m*\u001b[0m\u001b[0margs\u001b[0m\u001b[0;34m,\u001b[0m \u001b[0;34m**\u001b[0m\u001b[0mkwargs\u001b[0m\u001b[0;34m)\u001b[0m\u001b[0;34m\u001b[0m\u001b[0;34m\u001b[0m\u001b[0m\n",
      "\u001b[0;32m/gpfslocalsup/pub/anaconda-py3/2021.05/envs/tensorflow-gpu-2.6.0/lib/python3.7/site-packages/matplotlib/axes/_axes.py\u001b[0m in \u001b[0;36mhist2d\u001b[0;34m(self, x, y, bins, range, density, weights, cmin, cmax, **kwargs)\u001b[0m\n\u001b[1;32m   7092\u001b[0m \u001b[0;34m\u001b[0m\u001b[0m\n\u001b[1;32m   7093\u001b[0m         h, xedges, yedges = np.histogram2d(x, y, bins=bins, range=range,\n\u001b[0;32m-> 7094\u001b[0;31m                                            density=density, weights=weights)\n\u001b[0m\u001b[1;32m   7095\u001b[0m \u001b[0;34m\u001b[0m\u001b[0m\n\u001b[1;32m   7096\u001b[0m         \u001b[0;32mif\u001b[0m \u001b[0mcmin\u001b[0m \u001b[0;32mis\u001b[0m \u001b[0;32mnot\u001b[0m \u001b[0;32mNone\u001b[0m\u001b[0;34m:\u001b[0m\u001b[0;34m\u001b[0m\u001b[0;34m\u001b[0m\u001b[0m\n",
      "\u001b[0;32m<__array_function__ internals>\u001b[0m in \u001b[0;36mhistogram2d\u001b[0;34m(*args, **kwargs)\u001b[0m\n",
      "\u001b[0;32m/gpfslocalsup/pub/anaconda-py3/2021.05/envs/tensorflow-gpu-2.6.0/lib/python3.7/site-packages/numpy/lib/twodim_base.py\u001b[0m in \u001b[0;36mhistogram2d\u001b[0;34m(x, y, bins, range, normed, weights, density)\u001b[0m\n\u001b[1;32m    711\u001b[0m         \u001b[0mxedges\u001b[0m \u001b[0;34m=\u001b[0m \u001b[0myedges\u001b[0m \u001b[0;34m=\u001b[0m \u001b[0masarray\u001b[0m\u001b[0;34m(\u001b[0m\u001b[0mbins\u001b[0m\u001b[0;34m)\u001b[0m\u001b[0;34m\u001b[0m\u001b[0;34m\u001b[0m\u001b[0m\n\u001b[1;32m    712\u001b[0m         \u001b[0mbins\u001b[0m \u001b[0;34m=\u001b[0m \u001b[0;34m[\u001b[0m\u001b[0mxedges\u001b[0m\u001b[0;34m,\u001b[0m \u001b[0myedges\u001b[0m\u001b[0;34m]\u001b[0m\u001b[0;34m\u001b[0m\u001b[0;34m\u001b[0m\u001b[0m\n\u001b[0;32m--> 713\u001b[0;31m     \u001b[0mhist\u001b[0m\u001b[0;34m,\u001b[0m \u001b[0medges\u001b[0m \u001b[0;34m=\u001b[0m \u001b[0mhistogramdd\u001b[0m\u001b[0;34m(\u001b[0m\u001b[0;34m[\u001b[0m\u001b[0mx\u001b[0m\u001b[0;34m,\u001b[0m \u001b[0my\u001b[0m\u001b[0;34m]\u001b[0m\u001b[0;34m,\u001b[0m \u001b[0mbins\u001b[0m\u001b[0;34m,\u001b[0m \u001b[0mrange\u001b[0m\u001b[0;34m,\u001b[0m \u001b[0mnormed\u001b[0m\u001b[0;34m,\u001b[0m \u001b[0mweights\u001b[0m\u001b[0;34m,\u001b[0m \u001b[0mdensity\u001b[0m\u001b[0;34m)\u001b[0m\u001b[0;34m\u001b[0m\u001b[0;34m\u001b[0m\u001b[0m\n\u001b[0m\u001b[1;32m    714\u001b[0m     \u001b[0;32mreturn\u001b[0m \u001b[0mhist\u001b[0m\u001b[0;34m,\u001b[0m \u001b[0medges\u001b[0m\u001b[0;34m[\u001b[0m\u001b[0;36m0\u001b[0m\u001b[0;34m]\u001b[0m\u001b[0;34m,\u001b[0m \u001b[0medges\u001b[0m\u001b[0;34m[\u001b[0m\u001b[0;36m1\u001b[0m\u001b[0;34m]\u001b[0m\u001b[0;34m\u001b[0m\u001b[0;34m\u001b[0m\u001b[0m\n\u001b[1;32m    715\u001b[0m \u001b[0;34m\u001b[0m\u001b[0m\n",
      "\u001b[0;32m<__array_function__ internals>\u001b[0m in \u001b[0;36mhistogramdd\u001b[0;34m(*args, **kwargs)\u001b[0m\n",
      "\u001b[0;32m/gpfslocalsup/pub/anaconda-py3/2021.05/envs/tensorflow-gpu-2.6.0/lib/python3.7/site-packages/numpy/lib/histograms.py\u001b[0m in \u001b[0;36mhistogramdd\u001b[0;34m(sample, bins, range, normed, weights, density)\u001b[0m\n\u001b[1;32m   1017\u001b[0m         \u001b[0;31m# Sample is a sequence of 1D arrays.\u001b[0m\u001b[0;34m\u001b[0m\u001b[0;34m\u001b[0m\u001b[0;34m\u001b[0m\u001b[0m\n\u001b[1;32m   1018\u001b[0m         \u001b[0msample\u001b[0m \u001b[0;34m=\u001b[0m \u001b[0mnp\u001b[0m\u001b[0;34m.\u001b[0m\u001b[0matleast_2d\u001b[0m\u001b[0;34m(\u001b[0m\u001b[0msample\u001b[0m\u001b[0;34m)\u001b[0m\u001b[0;34m.\u001b[0m\u001b[0mT\u001b[0m\u001b[0;34m\u001b[0m\u001b[0;34m\u001b[0m\u001b[0m\n\u001b[0;32m-> 1019\u001b[0;31m         \u001b[0mN\u001b[0m\u001b[0;34m,\u001b[0m \u001b[0mD\u001b[0m \u001b[0;34m=\u001b[0m \u001b[0msample\u001b[0m\u001b[0;34m.\u001b[0m\u001b[0mshape\u001b[0m\u001b[0;34m\u001b[0m\u001b[0;34m\u001b[0m\u001b[0m\n\u001b[0m\u001b[1;32m   1020\u001b[0m \u001b[0;34m\u001b[0m\u001b[0m\n\u001b[1;32m   1021\u001b[0m     \u001b[0mnbin\u001b[0m \u001b[0;34m=\u001b[0m \u001b[0mnp\u001b[0m\u001b[0;34m.\u001b[0m\u001b[0mempty\u001b[0m\u001b[0;34m(\u001b[0m\u001b[0mD\u001b[0m\u001b[0;34m,\u001b[0m \u001b[0mint\u001b[0m\u001b[0;34m)\u001b[0m\u001b[0;34m\u001b[0m\u001b[0;34m\u001b[0m\u001b[0m\n",
      "\u001b[0;31mValueError\u001b[0m: too many values to unpack (expected 2)"
     ]
    },
    {
     "data": {
      "image/png": "[encoded data removed]",
      "text/plain": [
       "<Figure size 432x288 with 1 Axes>"
      ]
     },
     "metadata": {
      "needs_background": "light"
     },
     "output_type": "display_data"
    }
   ],
   "source": [
    "plt.hist2d(ground_truth, predictions.squeeze(), 64, cmap='gist_stern'); \n",
    "plt.gca().set_aspect('equal');\n",
    "plt.plot([0,1],[0,1],color='r')\n",
    "plt.xlabel('True lookback time')\n",
    "plt.ylabel('Predicted lookback time');\n",
    "plt.colorbar()\n",
    "plt.title(\"2D-histogram for a simple non-probabilistic CNN\")"
   ]
  },
  {
   "cell_type": "markdown",
   "id": "c65a0ef5",
   "metadata": {},
   "source": [
    "# ! NOT DONE YET !"
   ]
  },
  {
   "cell_type": "markdown",
   "id": "d1088e4c",
   "metadata": {},
   "source": [
    "**Define a PROBABILISTIC network**"
   ]
  },
  {
   "cell_type": "code",
   "execution_count": null,
   "id": "f90957ee",
   "metadata": {},
   "outputs": [],
   "source": [
    "import tensorflow_probability as tfp\n",
    "tfk = tf.keras\n",
    "tfkl = tf.keras.layers\n",
    "tfpl = tfp.layers\n",
    "tfd = tfp.distributions\n",
    "\n",
    "def build_model_probabilistic():\n",
    "    \"\"\"\n",
    "    Creates a probabilistic CNN that takes as input an image of a galaxy and predicts the distribution of the corresponding lookback time\n",
    "    \"\"\"\n",
    "    # Number of components in the Gaussian Mixture\n",
    "    num_components = 2\n",
    "    # Shape of the distribution\n",
    "    event_shape = [1]\n",
    "    # Utility function to compute how many parameters this distribution requires\n",
    "    params_size = tfp.layers.MixtureNormal.params_size(num_components, event_shape)\n",
    "\n",
    "    #Loss function\n",
    "    negloglik = lambda x, rv_x: -rv_x.log_prob(x)\n",
    "\n",
    "    #Define the model\n",
    "    model = tfk.models.Sequential()\n",
    "    #1st layer\n",
    "    model.add(tfk.layers.Conv2D(32, kernel_size=5, padding='same',input_shape=(128,128,4), activation='elu', strides=2))\n",
    "    model.add(tfk.layers.BatchNormalization())\n",
    "    #2nd layer\n",
    "    model.add(tfk.layers.Conv2D(64, kernel_size=5, padding='same', activation='relu', strides=2))\n",
    "    model.add(tfk.layers.BatchNormalization())\n",
    "    #Flatten layer\n",
    "    model.add(tfk.layers.Flatten())\n",
    "    #Dense\n",
    "    #model.add(tfk.layers.Dense(512,activation='relu'))\n",
    "    model.add(tfk.layers.Dense(256,activation='relu'))\n",
    "    #model.add(tfk.layers.Dropout(0.3))\n",
    "    model.add(tfk.layers.Dense(128,activation='relu'))\n",
    "    #Predict a distribution\n",
    "    model.add(tfkl.Dense(params_size))\n",
    "    model.add(tfp.layers.MixtureNormal(num_components, event_shape))\n",
    "    \n",
    "    model.compile(optimizer=tf.optimizers.Adam(learning_rate=1e-4),\n",
    "            loss=negloglik)\n",
    "\n",
    "    return model"
   ]
  },
  {
   "cell_type": "code",
   "execution_count": null,
   "id": "7b4fef54",
   "metadata": {},
   "outputs": [],
   "source": [
    "model_probabilistic=build_model_probabilistic()\n",
    "model_probabilistic.summary()"
   ]
  },
  {
   "cell_type": "code",
   "execution_count": null,
   "id": "77148c7c",
   "metadata": {},
   "outputs": [],
   "source": [
    "\"\"\"#Input dataset\n",
    "dataset_training=input_pipeline(mode='train', batch_size=64)\n",
    "dataset_validation=input_pipeline(mode='valid', batch_size=64)\n",
    "dataset_test=input_pipeline(mode='test', batch_size=64)\"\"\""
   ]
  },
  {
   "cell_type": "code",
   "execution_count": null,
   "id": "c32ac9e3",
   "metadata": {},
   "outputs": [],
   "source": [
    "\"\"\"for example in dataset_training.take(2):\n",
    "    #print(example[1])\n",
    "    plt.figure(figsize=(15,5))\n",
    "    plt.subplot(1,4,1)\n",
    "    plt.imshow(example[0][1,:,:,0],label='g')\n",
    "    plt.subplot(1,4,2)\n",
    "    plt.imshow(example[0][1,:,:,1],label='r')\n",
    "    plt.subplot(1,4,3)\n",
    "    plt.imshow(example[0][1,:,:,2])\n",
    "    plt.subplot(1,4,4)\n",
    "    plt.imshow(example[0][1,:,:,3])\n",
    "    plt.legend()  \n",
    "    print(\"normalised lbt\",float(example[1][1]))\"\"\""
   ]
  },
  {
   "cell_type": "code",
   "execution_count": null,
   "id": "6256fac2",
   "metadata": {},
   "outputs": [],
   "source": [
    "#Train the probabilistic model\n",
    "history_probabilistic=model_probabilistic.fit(dataset_training,\n",
    "          validation_data=dataset_validation,\n",
    "          steps_per_epoch=10000//64,\n",
    "          epochs=10)"
   ]
  },
  {
   "cell_type": "code",
   "execution_count": null,
   "id": "868cb8eb",
   "metadata": {},
   "outputs": [],
   "source": [
    "loss=history_probabilistic.history[\"loss\"]\n",
    "val_loss=history_probabilistic.history[\"val_loss\"]\n",
    "\n",
    "epochs=np.linspace(0,10,len(loss))\n",
    "plt.plot(epochs,loss,label='training loss')\n",
    "plt.plot(epochs,val_loss,label='validation loss')\n",
    "plt.xlabel(\"Epochs\")\n",
    "plt.legend(loc='upper right')"
   ]
  },
  {
   "cell_type": "code",
   "execution_count": null,
   "id": "a0a23055",
   "metadata": {},
   "outputs": [],
   "source": [
    "#predictions = model.predict(dataset_test)\n",
    "for example in dataset_test.take(1):\n",
    "    true=example[1]\n",
    "    predictions = model_probabilistic(example[0])"
   ]
  },
  {
   "cell_type": "code",
   "execution_count": null,
   "id": "8ccad4a6",
   "metadata": {},
   "outputs": [],
   "source": [
    "predictions\n",
    "to_plot=predictions.sample(1000)\n",
    "#plt.hist(to_plot[:,:,0])\n",
    "plt.hist(to_plot[:,0,0].numpy().flatten(),20,alpha=0.5)\n",
    "plt.hist(to_plot[:,1,0].numpy().flatten(),20,alpha=0.5)\n",
    "plt.hist(to_plot[:,2,0].numpy().flatten(),20,alpha=0.5)"
   ]
  },
  {
   "cell_type": "code",
   "execution_count": null,
   "id": "6072a03d",
   "metadata": {},
   "outputs": [],
   "source": [
    "print(predictions)"
   ]
  },
  {
   "cell_type": "code",
   "execution_count": null,
   "id": "e7387f00",
   "metadata": {},
   "outputs": [],
   "source": [
    "#Scatter plot for one galaxy\n",
    "mean=predictions.mean()\n",
    "std = predictions.stddev()\n",
    "plt.scatter(mean.numpy(),true)\n",
    "plt.title(\"Evolution of the predicted lookback time as a function of the true one\")\n",
    "plt.xlabel(\"True lookback time\")\n",
    "plt.ylabel(\"Mean of the predicted lookback time\")\n",
    "plt.gca().set_aspect(\"equal\")\n",
    "plt.plot([0,1],[0,1],'r')"
   ]
  },
  {
   "cell_type": "code",
   "execution_count": null,
   "id": "4032a1ae",
   "metadata": {},
   "outputs": [],
   "source": [
    "#Plot the mean of the probability distribution for each galaxy vs true lbt, with associated stddev\n",
    "plt.figure(figsize=(10,10))\n",
    "for example in dataset_test.take(len(dataset_test)):\n",
    "    true_lbt=example[1]\n",
    "    predictions = model_probabilistic(example[0])\n",
    "    mean=(predictions.mean()).numpy().squeeze()\n",
    "    std = (predictions.stddev()).numpy().squeeze()\n",
    "    plt.errorbar(true_lbt,mean,yerr=std,fmt='.',color='orange')\n",
    "\n",
    "plt.plot([0,1],[0,1],'r')\n",
    "plt.title(\"Evolution of the predicted lookback time as a function of the true one\")\n",
    "plt.xlim(0,1)\n",
    "plt.ylim(0,1)\n",
    "plt.xlabel(\"True lookback time\")\n",
    "plt.ylabel(\"Mean of the predicted lookback time\")"
   ]
  }
 ],
 "metadata": {
  "kernelspec": {
   "display_name": "Python 3 (ipykernel)",
   "language": "python",
   "name": "python3"
  },
  "language_info": {
   "codemirror_mode": {
    "name": "ipython",
    "version": 3
   },
   "file_extension": ".py",
   "mimetype": "text/x-python",
   "name": "python",
   "nbconvert_exporter": "python",
   "pygments_lexer": "ipython3",
   "version": "3.7.10"
  }
 },
 "nbformat": 4,
 "nbformat_minor": 5
}
