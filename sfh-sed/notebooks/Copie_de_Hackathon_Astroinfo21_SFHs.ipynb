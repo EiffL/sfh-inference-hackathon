{
 "cells": [
  {
   "cell_type": "markdown",
   "metadata": {
    "id": "JEPZElrD5lsI"
   },
   "source": [
    "# TNG100 SEDs (No dust)\n",
    "The objective is to predict the SFHs (middle column) or time at which half of the stellar mass has been built (right column) using the galaxy Spetral Energy Distribution (SED, left column)\n",
    "\n",
    "The SEDs shown here do not contain dust emission. Therefore they lack of realism, especially at longer wavelengths. However, the sample is large."
   ]
  },
  {
   "cell_type": "markdown",
   "metadata": {
    "id": "XZks1852-OnY"
   },
   "source": [
    "#Images\n",
    "In addition to photometric information, we also have mock images for all the galaxies in the sample. The following cell shows an example of an image without and with noise added (SDSS)"
   ]
  },
  {
   "cell_type": "markdown",
   "metadata": {
    "id": "iEtMZo7R9hA9"
   },
   "source": [
    "# TNG50, with dust\n",
    "There are 3000 galaxies modeled with SKIRT with dust."
   ]
  },
  {
   "cell_type": "code",
   "execution_count": 1,
   "metadata": {
    "id": "9CrxGNu2jU8V"
   },
   "outputs": [],
   "source": [
    "import numpy as np\n",
    "import tensorflow_datasets as tfds\n",
    "import tensorflow as tf\n",
    "#%load_ext autoreload\n",
    "\n",
    "#%autoreload 2"
   ]
  },
  {
   "cell_type": "code",
   "execution_count": 2,
   "metadata": {},
   "outputs": [
    {
     "name": "stdout",
     "output_type": "stream",
     "text": [
      "/gpfsdswork/projects/rech/qrc/ups48kf/AstroInfo2021/sfh-inference-hackathon/notebooks\n"
     ]
    }
   ],
   "source": [
    "!pwd"
   ]
  },
  {
   "cell_type": "code",
   "execution_count": 2,
   "metadata": {
    "colab": {
     "base_uri": "https://localhost:8080/"
    },
    "id": "9dJUZIttotlx",
    "outputId": "136d06b2-938c-4628-81b6-841e2050fcfd"
   },
   "outputs": [
    {
     "name": "stdout",
     "output_type": "stream",
     "text": [
      "2021-12-07 22:19:34.890390: I tensorflow/stream_executor/platform/default/dso_loader.cc:49] Successfully opened dynamic library libcudart.so.10.2\n",
      "Dataset generated at /gpfsdswork/projects/rech/qrc/ups48kf/AstroInfo2021/sfh-inference-hackathon/sfh-sed/notebooks/my_dataset\n",
      "You can start searching `TODO(my_dataset)` to complete the implementation.\n",
      "Please check https://www.tensorflow.org/datasets/add_dataset for additional details.\n"
     ]
    }
   ],
   "source": [
    "!tfds new my_dataset"
   ]
  },
  {
   "cell_type": "code",
   "execution_count": 2,
   "metadata": {
    "id": "eo_HCDuzeRh5"
   },
   "outputs": [],
   "source": [
    "\n",
    "# Using a mapping function to apply preprocessing to our data\n",
    "def preprocessing(example):\n",
    "  \n",
    "  return example\n",
    "\n",
    "def input_fn(mode='train', batch_size=64):\n",
    "  \"\"\"\n",
    "  mode: 'train' or 'test'\n",
    "  \"\"\"\n",
    "  if mode == 'train':\n",
    "    dataset = tfds.load('my_dataset', split='train[:80%]')\n",
    "    dataset = dataset.repeat()\n",
    "    dataset = dataset.shuffle(10000)\n",
    "\n",
    "  dataset = dataset.batch(batch_size, drop_remainder=True)\n",
    "  dataset = dataset.map(preprocessing) # Apply data preprocessing\n",
    "  dataset = dataset.prefetch(-1)       # fetch next batches while training current one (-1 for autotune)\n",
    "  return dataset"
   ]
  },
  {
   "cell_type": "code",
   "execution_count": null,
   "metadata": {
    "colab": {
     "base_uri": "https://localhost:8080/",
     "height": 216,
     "referenced_widgets": [
      "92da14009cd8421ea68732d23efb3bd2",
      "c808c05b7df3498baa0f3c75aaa1fcb7",
      "e57201904ee04081a5dabce75a610e8d",
      "7c910707fcdd4e329faafac83d8d0380",
      "cc62b5d994b1468c81be071576762a04",
      "13ff073782834db7b7dbec3f37b89b64",
      "4ab9a0ea09184a938a636c03f9bbe5ff",
      "8ebda92ffd584bf7bfa256a705dc2eaa",
      "1fdc9794776244b3a7fd1f61822149af",
      "980eda7df4b54c238d6bfe44202fb974",
      "1e99b81a1b6648ecb822275733701a0d",
      "c227fbf398a44eadadb70b3ec64a4028",
      "84a068553c7645cdaf1a4e4afe9d3b1b",
      "2ff0586d08594d17af174f7dcbe89e6d",
      "053789f6ed79495ba643f7cf0367a8fb",
      "7c8c655267ed4689944aaae153dff9b9",
      "10b224bb945640a89241894da7d75a0a",
      "38c25539bde84ab89fb86349b44b155e",
      "a16cf724288d45f09954994fc1415fc6",
      "5f75d20426214dd199543f8ff39d4870",
      "7d626381cdd7441c81f830d9099acff6",
      "2f968020ef414e96a3e298c428ade4d4"
     ]
    },
    "id": "R_hRbRYxeULG",
    "outputId": "2c7b30b5-1b84-4edc-9685-7cf2ada60e41"
   },
   "outputs": [
    {
     "name": "stdout",
     "output_type": "stream",
     "text": [
      "Importing utils.py...\n"
     ]
    }
   ],
   "source": [
    "import my_dataset\n",
    "\n",
    "# train_dset = tfds.load('my_dataset', split='train')\n",
    "dataset_training = input_fn('train')"
   ]
  },
  {
   "cell_type": "code",
   "execution_count": null,
   "metadata": {
    "colab": {
     "base_uri": "https://localhost:8080/"
    },
    "id": "-ffB3JQolzM5",
    "outputId": "2b694e82-9d8a-49b6-86f9-c48cd5454f65"
   },
   "outputs": [
    {
     "data": {
      "text/plain": [
       "<TakeDataset shapes: {flux: (143,), mass: (100,), object_id: (), quantile: (9,), time: (100,)}, types: {flux: tf.float32, mass: tf.float32, object_id: tf.float32, quantile: tf.float32, time: tf.float32}>"
      ]
     },
     "execution_count": 106,
     "metadata": {},
     "output_type": "execute_result"
    }
   ],
   "source": [
    "train_dset.take(1)\n"
   ]
  },
  {
   "cell_type": "code",
   "execution_count": null,
   "metadata": {
    "id": "T_VQ0hIf1y-P"
   },
   "outputs": [],
   "source": []
  },
  {
   "cell_type": "code",
   "execution_count": null,
   "metadata": {
    "colab": {
     "base_uri": "https://localhost:8080/"
    },
    "id": "wZmvexx8xTjP",
    "outputId": "ac6b35e0-9564-44d3-a5c0-5129df9f10d1"
   },
   "outputs": [
    {
     "name": "stdout",
     "output_type": "stream",
     "text": [
      "tf.Tensor(\n",
      "[0.70424074 0.665315   0.6255695  0.52997065 0.50067735 0.49127728\n",
      " 0.48205364 0.46412268 0.45325613], shape=(9,), dtype=float32)\n",
      "tf.Tensor(\n",
      "[0.665315   0.61674005 0.558326   0.49127728 0.38399    0.31172794\n",
      " 0.24949284 0.19316822 0.1214141 ], shape=(9,), dtype=float32)\n",
      "tf.Tensor(\n",
      "[0.8757517  0.8352236  0.8156684  0.7928056  0.7705836  0.7633156\n",
      " 0.75254184 0.74192023 0.11634526], shape=(9,), dtype=float32)\n",
      "tf.Tensor(\n",
      "[0.70424074 0.6345255  0.5881985  0.52997065 0.48205364 0.45325613\n",
      " 0.44474635 0.42416435 0.38399   ], shape=(9,), dtype=float32)\n",
      "tf.Tensor(\n",
      "[0.714323   0.70424074 0.6748399  0.65592444 0.6255695  0.61674005\n",
      " 0.60803515 0.5881985  0.569009  ], shape=(9,), dtype=float32)\n",
      "tf.Tensor(\n",
      "[0.7349225  0.69430083 0.65592444 0.6345255  0.61674005 0.60803515\n",
      " 0.5881985  0.57715523 0.569009  ], shape=(9,), dtype=float32)\n",
      "tf.Tensor(\n",
      "[0.04751386 0.04751386 0.04751386 0.04751386 0.04751386 0.04751386\n",
      " 0.04751386 0.04751386 0.04751386], shape=(9,), dtype=float32)\n",
      "tf.Tensor(\n",
      "[0.75254184 0.70424074 0.665315   0.61674005 0.5401111  0.49127728\n",
      " 0.46412268 0.37499958 0.30155808], shape=(9,), dtype=float32)\n",
      "tf.Tensor(\n",
      "[0.69430083 0.6255695  0.5966194  0.5126808  0.45325613 0.39506343\n",
      " 0.344342   0.31172794 0.24949284], shape=(9,), dtype=float32)\n",
      "tf.Tensor(\n",
      "[0.04751386 0.04751386 0.04751386 0.04751386 0.04751386 0.04751386\n",
      " 0.04751386 0.04751386 0.04751386], shape=(9,), dtype=float32)\n"
     ]
    }
   ],
   "source": [
    "for (batch, entry) in enumerate(train_dset.take(10)):\n",
    "  print(entry['quantile'])\n",
    "  # cutouts.append(entry['image'])"
   ]
  },
  {
   "cell_type": "code",
   "execution_count": null,
   "metadata": {
    "colab": {
     "base_uri": "https://localhost:8080/",
     "height": 1000
    },
    "id": "Vp_94_LFy3ou",
    "outputId": "4aaec98a-fdf9-45fe-d881-f051cbc6d608"
   },
   "outputs": [
    {
     "data": {
      "image/png": "[encoded data removed]",
      "text/plain": [
       "<Figure size 720x1440 with 20 Axes>"
      ]
     },
     "metadata": {
      "needs_background": "light"
     },
     "output_type": "display_data"
    }
   ],
   "source": [
    "import matplotlib.pyplot as plt\n",
    "fig, axs = plt.subplots(10, 2)\n",
    "fig.set_size_inches(10, 20)\n",
    "fig.suptitle(\"TNG100, no dust\", fontsize=16)\n",
    "i = 0\n",
    "for (batch, entry) in enumerate(train_dset.take(10)):\n",
    "  # print(entry['quantile'])\n",
    "  # cutouts.append(entry['image'])    sh = \n",
    "  # obj=phot_cat.loc[sh][:]\n",
    "    #apparent mags\n",
    "  # app_mag = obj.values+5*(np.log10(20e6)-1) #assume at 20pc\n",
    "  flux = entry['flux']\n",
    "  mass = entry['mass']\n",
    "  # print(flux.shape, entry['time'])\n",
    "  axs[i, 0].scatter(np.arange(len(flux)), flux)\n",
    "  axs[i, 1].scatter(entry['time'], mass)\n",
    "  for j in range(9):\n",
    "    quantile = entry['quantile'][j]\n",
    "    axs[i, 1].axvline(quantile)\n",
    "    axs[i, 1].text(quantile, 0.01, (j+1)/10, rotation='vertical')\n",
    "  i += 1\n",
    "    "
   ]
  },
  {
   "cell_type": "code",
   "execution_count": null,
   "metadata": {
    "id": "jc8LPbcizk3o"
   },
   "outputs": [],
   "source": []
  }
 ],
 "metadata": {
  "colab": {
   "collapsed_sections": [],
   "name": "Copie de Hackathon_Astroinfo21_SFHs.ipynb",
   "provenance": []
  },
  "kernelspec": {
   "display_name": "Python 3",
   "language": "python",
   "name": "python3"
  },
  "language_info": {
   "codemirror_mode": {
    "name": "ipython",
    "version": 3
   },
   "file_extension": ".py",
   "mimetype": "text/x-python",
   "name": "python",
   "nbconvert_exporter": "python",
   "pygments_lexer": "ipython3",
   "version": "3.7.9"
  },
  "widgets": {
   "application/vnd.jupyter.widget-state+json": {
    "053789f6ed79495ba643f7cf0367a8fb": {
     "model_module": "@jupyter-widgets/controls",
     "model_module_version": "1.5.0",
     "model_name": "FloatProgressModel",
     "state": {
      "_dom_classes": [],
      "_model_module": "@jupyter-widgets/controls",
      "_model_module_version": "1.5.0",
      "_model_name": "FloatProgressModel",
      "_view_count": null,
      "_view_module": "@jupyter-widgets/controls",
      "_view_module_version": "1.5.0",
      "_view_name": "ProgressView",
      "bar_style": "danger",
      "description": "",
      "description_tooltip": null,
      "layout": "IPY_MODEL_5f75d20426214dd199543f8ff39d4870",
      "max": 1000,
      "min": 0,
      "orientation": "horizontal",
      "style": "IPY_MODEL_a16cf724288d45f09954994fc1415fc6",
      "value": 999
     }
    },
    "10b224bb945640a89241894da7d75a0a": {
     "model_module": "@jupyter-widgets/controls",
     "model_module_version": "1.5.0",
     "model_name": "DescriptionStyleModel",
     "state": {
      "_model_module": "@jupyter-widgets/controls",
      "_model_module_version": "1.5.0",
      "_model_name": "DescriptionStyleModel",
      "_view_count": null,
      "_view_module": "@jupyter-widgets/base",
      "_view_module_version": "1.2.0",
      "_view_name": "StyleView",
      "description_width": ""
     }
    },
    "13ff073782834db7b7dbec3f37b89b64": {
     "model_module": "@jupyter-widgets/controls",
     "model_module_version": "1.5.0",
     "model_name": "DescriptionStyleModel",
     "state": {
      "_model_module": "@jupyter-widgets/controls",
      "_model_module_version": "1.5.0",
      "_model_name": "DescriptionStyleModel",
      "_view_count": null,
      "_view_module": "@jupyter-widgets/base",
      "_view_module_version": "1.2.0",
      "_view_name": "StyleView",
      "description_width": ""
     }
    },
    "1e99b81a1b6648ecb822275733701a0d": {
     "model_module": "@jupyter-widgets/base",
     "model_module_version": "1.2.0",
     "model_name": "LayoutModel",
     "state": {
      "_model_module": "@jupyter-widgets/base",
      "_model_module_version": "1.2.0",
      "_model_name": "LayoutModel",
      "_view_count": null,
      "_view_module": "@jupyter-widgets/base",
      "_view_module_version": "1.2.0",
      "_view_name": "LayoutView",
      "align_content": null,
      "align_items": null,
      "align_self": null,
      "border": null,
      "bottom": null,
      "display": null,
      "flex": null,
      "flex_flow": null,
      "grid_area": null,
      "grid_auto_columns": null,
      "grid_auto_flow": null,
      "grid_auto_rows": null,
      "grid_column": null,
      "grid_gap": null,
      "grid_row": null,
      "grid_template_areas": null,
      "grid_template_columns": null,
      "grid_template_rows": null,
      "height": null,
      "justify_content": null,
      "justify_items": null,
      "left": null,
      "margin": null,
      "max_height": null,
      "max_width": null,
      "min_height": null,
      "min_width": null,
      "object_fit": null,
      "object_position": null,
      "order": null,
      "overflow": null,
      "overflow_x": null,
      "overflow_y": null,
      "padding": null,
      "right": null,
      "top": null,
      "visibility": null,
      "width": null
     }
    },
    "1fdc9794776244b3a7fd1f61822149af": {
     "model_module": "@jupyter-widgets/base",
     "model_module_version": "1.2.0",
     "model_name": "LayoutModel",
     "state": {
      "_model_module": "@jupyter-widgets/base",
      "_model_module_version": "1.2.0",
      "_model_name": "LayoutModel",
      "_view_count": null,
      "_view_module": "@jupyter-widgets/base",
      "_view_module_version": "1.2.0",
      "_view_name": "LayoutView",
      "align_content": null,
      "align_items": null,
      "align_self": null,
      "border": null,
      "bottom": null,
      "display": null,
      "flex": null,
      "flex_flow": null,
      "grid_area": null,
      "grid_auto_columns": null,
      "grid_auto_flow": null,
      "grid_auto_rows": null,
      "grid_column": null,
      "grid_gap": null,
      "grid_row": null,
      "grid_template_areas": null,
      "grid_template_columns": null,
      "grid_template_rows": null,
      "height": null,
      "justify_content": null,
      "justify_items": null,
      "left": null,
      "margin": null,
      "max_height": null,
      "max_width": null,
      "min_height": null,
      "min_width": null,
      "object_fit": null,
      "object_position": null,
      "order": null,
      "overflow": null,
      "overflow_x": null,
      "overflow_y": null,
      "padding": null,
      "right": null,
      "top": null,
      "visibility": null,
      "width": "20px"
     }
    },
    "2f968020ef414e96a3e298c428ade4d4": {
     "model_module": "@jupyter-widgets/base",
     "model_module_version": "1.2.0",
     "model_name": "LayoutModel",
     "state": {
      "_model_module": "@jupyter-widgets/base",
      "_model_module_version": "1.2.0",
      "_model_name": "LayoutModel",
      "_view_count": null,
      "_view_module": "@jupyter-widgets/base",
      "_view_module_version": "1.2.0",
      "_view_name": "LayoutView",
      "align_content": null,
      "align_items": null,
      "align_self": null,
      "border": null,
      "bottom": null,
      "display": null,
      "flex": null,
      "flex_flow": null,
      "grid_area": null,
      "grid_auto_columns": null,
      "grid_auto_flow": null,
      "grid_auto_rows": null,
      "grid_column": null,
      "grid_gap": null,
      "grid_row": null,
      "grid_template_areas": null,
      "grid_template_columns": null,
      "grid_template_rows": null,
      "height": null,
      "justify_content": null,
      "justify_items": null,
      "left": null,
      "margin": null,
      "max_height": null,
      "max_width": null,
      "min_height": null,
      "min_width": null,
      "object_fit": null,
      "object_position": null,
      "order": null,
      "overflow": null,
      "overflow_x": null,
      "overflow_y": null,
      "padding": null,
      "right": null,
      "top": null,
      "visibility": null,
      "width": null
     }
    },
    "2ff0586d08594d17af174f7dcbe89e6d": {
     "model_module": "@jupyter-widgets/controls",
     "model_module_version": "1.5.0",
     "model_name": "HTMLModel",
     "state": {
      "_dom_classes": [],
      "_model_module": "@jupyter-widgets/controls",
      "_model_module_version": "1.5.0",
      "_model_name": "HTMLModel",
      "_view_count": null,
      "_view_module": "@jupyter-widgets/controls",
      "_view_module_version": "1.5.0",
      "_view_name": "HTMLView",
      "description": "",
      "description_tooltip": null,
      "layout": "IPY_MODEL_38c25539bde84ab89fb86349b44b155e",
      "placeholder": "​",
      "style": "IPY_MODEL_10b224bb945640a89241894da7d75a0a",
      "value": "100%"
     }
    },
    "38c25539bde84ab89fb86349b44b155e": {
     "model_module": "@jupyter-widgets/base",
     "model_module_version": "1.2.0",
     "model_name": "LayoutModel",
     "state": {
      "_model_module": "@jupyter-widgets/base",
      "_model_module_version": "1.2.0",
      "_model_name": "LayoutModel",
      "_view_count": null,
      "_view_module": "@jupyter-widgets/base",
      "_view_module_version": "1.2.0",
      "_view_name": "LayoutView",
      "align_content": null,
      "align_items": null,
      "align_self": null,
      "border": null,
      "bottom": null,
      "display": null,
      "flex": null,
      "flex_flow": null,
      "grid_area": null,
      "grid_auto_columns": null,
      "grid_auto_flow": null,
      "grid_auto_rows": null,
      "grid_column": null,
      "grid_gap": null,
      "grid_row": null,
      "grid_template_areas": null,
      "grid_template_columns": null,
      "grid_template_rows": null,
      "height": null,
      "justify_content": null,
      "justify_items": null,
      "left": null,
      "margin": null,
      "max_height": null,
      "max_width": null,
      "min_height": null,
      "min_width": null,
      "object_fit": null,
      "object_position": null,
      "order": null,
      "overflow": null,
      "overflow_x": null,
      "overflow_y": null,
      "padding": null,
      "right": null,
      "top": null,
      "visibility": null,
      "width": null
     }
    },
    "4ab9a0ea09184a938a636c03f9bbe5ff": {
     "model_module": "@jupyter-widgets/base",
     "model_module_version": "1.2.0",
     "model_name": "LayoutModel",
     "state": {
      "_model_module": "@jupyter-widgets/base",
      "_model_module_version": "1.2.0",
      "_model_name": "LayoutModel",
      "_view_count": null,
      "_view_module": "@jupyter-widgets/base",
      "_view_module_version": "1.2.0",
      "_view_name": "LayoutView",
      "align_content": null,
      "align_items": null,
      "align_self": null,
      "border": null,
      "bottom": null,
      "display": null,
      "flex": null,
      "flex_flow": null,
      "grid_area": null,
      "grid_auto_columns": null,
      "grid_auto_flow": null,
      "grid_auto_rows": null,
      "grid_column": null,
      "grid_gap": null,
      "grid_row": null,
      "grid_template_areas": null,
      "grid_template_columns": null,
      "grid_template_rows": null,
      "height": null,
      "justify_content": null,
      "justify_items": null,
      "left": null,
      "margin": null,
      "max_height": null,
      "max_width": null,
      "min_height": null,
      "min_width": null,
      "object_fit": null,
      "object_position": null,
      "order": null,
      "overflow": null,
      "overflow_x": null,
      "overflow_y": null,
      "padding": null,
      "right": null,
      "top": null,
      "visibility": null,
      "width": null
     }
    },
    "5f75d20426214dd199543f8ff39d4870": {
     "model_module": "@jupyter-widgets/base",
     "model_module_version": "1.2.0",
     "model_name": "LayoutModel",
     "state": {
      "_model_module": "@jupyter-widgets/base",
      "_model_module_version": "1.2.0",
      "_model_name": "LayoutModel",
      "_view_count": null,
      "_view_module": "@jupyter-widgets/base",
      "_view_module_version": "1.2.0",
      "_view_name": "LayoutView",
      "align_content": null,
      "align_items": null,
      "align_self": null,
      "border": null,
      "bottom": null,
      "display": null,
      "flex": null,
      "flex_flow": null,
      "grid_area": null,
      "grid_auto_columns": null,
      "grid_auto_flow": null,
      "grid_auto_rows": null,
      "grid_column": null,
      "grid_gap": null,
      "grid_row": null,
      "grid_template_areas": null,
      "grid_template_columns": null,
      "grid_template_rows": null,
      "height": null,
      "justify_content": null,
      "justify_items": null,
      "left": null,
      "margin": null,
      "max_height": null,
      "max_width": null,
      "min_height": null,
      "min_width": null,
      "object_fit": null,
      "object_position": null,
      "order": null,
      "overflow": null,
      "overflow_x": null,
      "overflow_y": null,
      "padding": null,
      "right": null,
      "top": null,
      "visibility": null,
      "width": null
     }
    },
    "7c8c655267ed4689944aaae153dff9b9": {
     "model_module": "@jupyter-widgets/controls",
     "model_module_version": "1.5.0",
     "model_name": "HTMLModel",
     "state": {
      "_dom_classes": [],
      "_model_module": "@jupyter-widgets/controls",
      "_model_module_version": "1.5.0",
      "_model_name": "HTMLModel",
      "_view_count": null,
      "_view_module": "@jupyter-widgets/controls",
      "_view_module_version": "1.5.0",
      "_view_name": "HTMLView",
      "description": "",
      "description_tooltip": null,
      "layout": "IPY_MODEL_2f968020ef414e96a3e298c428ade4d4",
      "placeholder": "​",
      "style": "IPY_MODEL_7d626381cdd7441c81f830d9099acff6",
      "value": " 999/1000 [00:00&lt;00:00, 15209.61 examples/s]"
     }
    },
    "7c910707fcdd4e329faafac83d8d0380": {
     "model_module": "@jupyter-widgets/controls",
     "model_module_version": "1.5.0",
     "model_name": "FloatProgressModel",
     "state": {
      "_dom_classes": [],
      "_model_module": "@jupyter-widgets/controls",
      "_model_module_version": "1.5.0",
      "_model_name": "FloatProgressModel",
      "_view_count": null,
      "_view_module": "@jupyter-widgets/controls",
      "_view_module_version": "1.5.0",
      "_view_name": "ProgressView",
      "bar_style": "info",
      "description": "",
      "description_tooltip": null,
      "layout": "IPY_MODEL_1fdc9794776244b3a7fd1f61822149af",
      "max": 1,
      "min": 0,
      "orientation": "horizontal",
      "style": "IPY_MODEL_8ebda92ffd584bf7bfa256a705dc2eaa",
      "value": 1
     }
    },
    "7d626381cdd7441c81f830d9099acff6": {
     "model_module": "@jupyter-widgets/controls",
     "model_module_version": "1.5.0",
     "model_name": "DescriptionStyleModel",
     "state": {
      "_model_module": "@jupyter-widgets/controls",
      "_model_module_version": "1.5.0",
      "_model_name": "DescriptionStyleModel",
      "_view_count": null,
      "_view_module": "@jupyter-widgets/base",
      "_view_module_version": "1.2.0",
      "_view_name": "StyleView",
      "description_width": ""
     }
    },
    "84a068553c7645cdaf1a4e4afe9d3b1b": {
     "model_module": "@jupyter-widgets/base",
     "model_module_version": "1.2.0",
     "model_name": "LayoutModel",
     "state": {
      "_model_module": "@jupyter-widgets/base",
      "_model_module_version": "1.2.0",
      "_model_name": "LayoutModel",
      "_view_count": null,
      "_view_module": "@jupyter-widgets/base",
      "_view_module_version": "1.2.0",
      "_view_name": "LayoutView",
      "align_content": null,
      "align_items": null,
      "align_self": null,
      "border": null,
      "bottom": null,
      "display": null,
      "flex": null,
      "flex_flow": null,
      "grid_area": null,
      "grid_auto_columns": null,
      "grid_auto_flow": null,
      "grid_auto_rows": null,
      "grid_column": null,
      "grid_gap": null,
      "grid_row": null,
      "grid_template_areas": null,
      "grid_template_columns": null,
      "grid_template_rows": null,
      "height": null,
      "justify_content": null,
      "justify_items": null,
      "left": null,
      "margin": null,
      "max_height": null,
      "max_width": null,
      "min_height": null,
      "min_width": null,
      "object_fit": null,
      "object_position": null,
      "order": null,
      "overflow": null,
      "overflow_x": null,
      "overflow_y": null,
      "padding": null,
      "right": null,
      "top": null,
      "visibility": null,
      "width": null
     }
    },
    "8ebda92ffd584bf7bfa256a705dc2eaa": {
     "model_module": "@jupyter-widgets/controls",
     "model_module_version": "1.5.0",
     "model_name": "ProgressStyleModel",
     "state": {
      "_model_module": "@jupyter-widgets/controls",
      "_model_module_version": "1.5.0",
      "_model_name": "ProgressStyleModel",
      "_view_count": null,
      "_view_module": "@jupyter-widgets/base",
      "_view_module_version": "1.2.0",
      "_view_name": "StyleView",
      "bar_color": null,
      "description_width": ""
     }
    },
    "92da14009cd8421ea68732d23efb3bd2": {
     "model_module": "@jupyter-widgets/controls",
     "model_module_version": "1.5.0",
     "model_name": "HBoxModel",
     "state": {
      "_dom_classes": [],
      "_model_module": "@jupyter-widgets/controls",
      "_model_module_version": "1.5.0",
      "_model_name": "HBoxModel",
      "_view_count": null,
      "_view_module": "@jupyter-widgets/controls",
      "_view_module_version": "1.5.0",
      "_view_name": "HBoxView",
      "box_style": "",
      "children": [
       "IPY_MODEL_e57201904ee04081a5dabce75a610e8d",
       "IPY_MODEL_7c910707fcdd4e329faafac83d8d0380",
       "IPY_MODEL_cc62b5d994b1468c81be071576762a04"
      ],
      "layout": "IPY_MODEL_c808c05b7df3498baa0f3c75aaa1fcb7"
     }
    },
    "980eda7df4b54c238d6bfe44202fb974": {
     "model_module": "@jupyter-widgets/controls",
     "model_module_version": "1.5.0",
     "model_name": "DescriptionStyleModel",
     "state": {
      "_model_module": "@jupyter-widgets/controls",
      "_model_module_version": "1.5.0",
      "_model_name": "DescriptionStyleModel",
      "_view_count": null,
      "_view_module": "@jupyter-widgets/base",
      "_view_module_version": "1.2.0",
      "_view_name": "StyleView",
      "description_width": ""
     }
    },
    "a16cf724288d45f09954994fc1415fc6": {
     "model_module": "@jupyter-widgets/controls",
     "model_module_version": "1.5.0",
     "model_name": "ProgressStyleModel",
     "state": {
      "_model_module": "@jupyter-widgets/controls",
      "_model_module_version": "1.5.0",
      "_model_name": "ProgressStyleModel",
      "_view_count": null,
      "_view_module": "@jupyter-widgets/base",
      "_view_module_version": "1.2.0",
      "_view_name": "StyleView",
      "bar_color": null,
      "description_width": ""
     }
    },
    "c227fbf398a44eadadb70b3ec64a4028": {
     "model_module": "@jupyter-widgets/controls",
     "model_module_version": "1.5.0",
     "model_name": "HBoxModel",
     "state": {
      "_dom_classes": [],
      "_model_module": "@jupyter-widgets/controls",
      "_model_module_version": "1.5.0",
      "_model_name": "HBoxModel",
      "_view_count": null,
      "_view_module": "@jupyter-widgets/controls",
      "_view_module_version": "1.5.0",
      "_view_name": "HBoxView",
      "box_style": "",
      "children": [
       "IPY_MODEL_2ff0586d08594d17af174f7dcbe89e6d",
       "IPY_MODEL_053789f6ed79495ba643f7cf0367a8fb",
       "IPY_MODEL_7c8c655267ed4689944aaae153dff9b9"
      ],
      "layout": "IPY_MODEL_84a068553c7645cdaf1a4e4afe9d3b1b"
     }
    },
    "c808c05b7df3498baa0f3c75aaa1fcb7": {
     "model_module": "@jupyter-widgets/base",
     "model_module_version": "1.2.0",
     "model_name": "LayoutModel",
     "state": {
      "_model_module": "@jupyter-widgets/base",
      "_model_module_version": "1.2.0",
      "_model_name": "LayoutModel",
      "_view_count": null,
      "_view_module": "@jupyter-widgets/base",
      "_view_module_version": "1.2.0",
      "_view_name": "LayoutView",
      "align_content": null,
      "align_items": null,
      "align_self": null,
      "border": null,
      "bottom": null,
      "display": null,
      "flex": null,
      "flex_flow": null,
      "grid_area": null,
      "grid_auto_columns": null,
      "grid_auto_flow": null,
      "grid_auto_rows": null,
      "grid_column": null,
      "grid_gap": null,
      "grid_row": null,
      "grid_template_areas": null,
      "grid_template_columns": null,
      "grid_template_rows": null,
      "height": null,
      "justify_content": null,
      "justify_items": null,
      "left": null,
      "margin": null,
      "max_height": null,
      "max_width": null,
      "min_height": null,
      "min_width": null,
      "object_fit": null,
      "object_position": null,
      "order": null,
      "overflow": null,
      "overflow_x": null,
      "overflow_y": null,
      "padding": null,
      "right": null,
      "top": null,
      "visibility": null,
      "width": null
     }
    },
    "cc62b5d994b1468c81be071576762a04": {
     "model_module": "@jupyter-widgets/controls",
     "model_module_version": "1.5.0",
     "model_name": "HTMLModel",
     "state": {
      "_dom_classes": [],
      "_model_module": "@jupyter-widgets/controls",
      "_model_module_version": "1.5.0",
      "_model_name": "HTMLModel",
      "_view_count": null,
      "_view_module": "@jupyter-widgets/controls",
      "_view_module_version": "1.5.0",
      "_view_name": "HTMLView",
      "description": "",
      "description_tooltip": null,
      "layout": "IPY_MODEL_1e99b81a1b6648ecb822275733701a0d",
      "placeholder": "​",
      "style": "IPY_MODEL_980eda7df4b54c238d6bfe44202fb974",
      "value": " 846/0 [00:00&lt;00:00, 1756.84 examples/s]"
     }
    },
    "e57201904ee04081a5dabce75a610e8d": {
     "model_module": "@jupyter-widgets/controls",
     "model_module_version": "1.5.0",
     "model_name": "HTMLModel",
     "state": {
      "_dom_classes": [],
      "_model_module": "@jupyter-widgets/controls",
      "_model_module_version": "1.5.0",
      "_model_name": "HTMLModel",
      "_view_count": null,
      "_view_module": "@jupyter-widgets/controls",
      "_view_module_version": "1.5.0",
      "_view_name": "HTMLView",
      "description": "",
      "description_tooltip": null,
      "layout": "IPY_MODEL_4ab9a0ea09184a938a636c03f9bbe5ff",
      "placeholder": "​",
      "style": "IPY_MODEL_13ff073782834db7b7dbec3f37b89b64",
      "value": ""
     }
    }
   }
  }
 },
 "nbformat": 4,
 "nbformat_minor": 4
}
